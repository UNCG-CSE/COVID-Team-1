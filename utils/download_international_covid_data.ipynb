{
 "cells": [
  {
   "cell_type": "code",
   "execution_count": 2,
   "metadata": {},
   "outputs": [],
   "source": [
    "import requests\n",
    "\n",
    "cases_url  = \"https://covid.ourworldindata.org/data/ecdc/total_cases.csv\"\n",
    "deaths_url = \"https://covid.ourworldindata.org/data/ecdc/total_deaths.csv\"\n",
    "population_url = \"https://covid.ourworldindata.org/data/ecdc/locations.csv\"\n",
    "data_path = \"../data/Covid_International/\"\n",
    "cases_file_name  = \"cases.csv\"\n",
    "deaths_file_name = \"deaths.csv\"\n",
    "population_file_name = \"population.csv\"\n"
   ]
  },
  {
   "cell_type": "code",
   "execution_count": 3,
   "metadata": {},
   "outputs": [
    {
     "name": "stdout",
     "output_type": "stream",
     "text": [
      "Cases Data Updated\n"
     ]
    }
   ],
   "source": [
    "# DOWNLOAD CASES DATA\n",
    "\n",
    "req = requests.get(cases_url)\n",
    "if req.status_code != 200:\n",
    "    print(\"Request Failed!\")\n",
    "else:\n",
    "    url_content = req.content\n",
    "    csv_file = open(data_path + cases_file_name, 'wb')\n",
    "    csv_file.write(url_content)\n",
    "    csv_file.close()\n",
    "    print(\"Cases Data Updated\")"
   ]
  },
  {
   "cell_type": "code",
   "execution_count": 6,
   "metadata": {},
   "outputs": [
    {
     "name": "stdout",
     "output_type": "stream",
     "text": [
      "Deaths Data Updated\n"
     ]
    }
   ],
   "source": [
    "# DOWNLOAD DEATHS DATA\n",
    "\n",
    "req = requests.get(deaths_url)\n",
    "if req.status_code != 200:\n",
    "    print(\"Request Failed!\")\n",
    "else:\n",
    "    url_content = req.content\n",
    "    csv_file = open(data_path + deaths_file_name, 'wb')\n",
    "    csv_file.write(url_content)\n",
    "    csv_file.close()\n",
    "    print(\"Deaths Data Updated\")"
   ]
  },
  {
   "cell_type": "code",
   "execution_count": 7,
   "metadata": {},
   "outputs": [
    {
     "name": "stdout",
     "output_type": "stream",
     "text": [
      "Polulation Data Updated\n"
     ]
    }
   ],
   "source": [
    "# DOWNLOAD POPULATION DATA\n",
    "\n",
    "req = requests.get(population_url)\n",
    "if req.status_code != 200:\n",
    "    print(\"Request Failed!\")\n",
    "else:\n",
    "    url_content = req.content\n",
    "    csv_file = open(data_path + population_file_name, 'wb')\n",
    "    csv_file.write(url_content)\n",
    "    csv_file.close()\n",
    "    print(\"Polulation Data Updated\")"
   ]
  }
 ],
 "metadata": {
  "kernelspec": {
   "display_name": "Python 3",
   "language": "python",
   "name": "python3"
  },
  "language_info": {
   "codemirror_mode": {
    "name": "ipython",
    "version": 3
   },
   "file_extension": ".py",
   "mimetype": "text/x-python",
   "name": "python",
   "nbconvert_exporter": "python",
   "pygments_lexer": "ipython3",
   "version": "3.7.4"
  }
 },
 "nbformat": 4,
 "nbformat_minor": 2
}
