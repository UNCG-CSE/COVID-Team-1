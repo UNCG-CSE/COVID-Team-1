{
 "cells": [
  {
   "cell_type": "code",
   "execution_count": null,
   "metadata": {},
   "outputs": [],
   "source": [
    "cd ../src"
   ]
  },
  {
   "cell_type": "code",
   "execution_count": null,
   "metadata": {},
   "outputs": [],
   "source": [
    "import ipynb\n",
    "from ipynb.fs.full import international_covid_data as cdi\n",
    "from ipynb.fs.full import covid_data as cd\n",
    "import pandas as pd\n",
    "import numpy as np"
   ]
  },
  {
   "cell_type": "code",
   "execution_count": null,
   "metadata": {},
   "outputs": [],
   "source": [
    "def normalize(x, population):\n",
    "    return (x/population)*10000000"
   ]
  },
  {
   "cell_type": "markdown",
   "metadata": {},
   "source": [
    "## World Data"
   ]
  },
  {
   "cell_type": "markdown",
   "metadata": {},
   "source": [
    "#### CASES"
   ]
  },
  {
   "cell_type": "code",
   "execution_count": null,
   "metadata": {},
   "outputs": [],
   "source": [
    "#CONVERT FROM TOTAL CASES TO NEW CASES\n",
    "df = cdi.get_international_cases()\n",
    "date_column = df['date']\n",
    "cases = df.loc[:,df.columns[1:]].fillna(value=0)\n",
    "new_cases = cases.diff().fillna(value=0)\n",
    "new_cases = new_cases.astype(int)\n",
    "new_cases.insert(loc=0, column=\"Date\", value=date_column)\n",
    "new_cases = new_cases.loc[1:]\n",
    "population_df = cdi.get_international_population()\n",
    "population_df = population_df.rename(columns={\"countriesAndTerritories\": \"country\"})\n",
    "new_cases = new_cases.rename(columns={\"United States\": \"United States of America\"})\n",
    "\n",
    "#REPLACE SPACES WITH UNDERSCORE IN COLUMN NAMES IN CASES DATA\n",
    "new_cases.columns = new_cases.columns.str.replace(' ','_')\n",
    "\n",
    "#CALCULATE NORMALIZED VALUES\n",
    "for country in new_cases.columns[1:]:\n",
    "    population = population_df[population_df['country'] == country]['population']\n",
    "    if(population.empty): \n",
    "        new_cases = new_cases.drop(country, 1)\n",
    "        continue\n",
    "    new_cases[country] = new_cases[country].apply(normalize, args=(population,))\n",
    "\n",
    "new_cases.iloc[:,1:] = new_cases.iloc[:,1:].round(0).astype(int)\n",
    "    \n",
    "new_cases.to_csv('../data/Covid_International/new_cases_normalized.csv', mode='w', index = False, header=True)"
   ]
  },
  {
   "cell_type": "markdown",
   "metadata": {},
   "source": [
    "#### DEATHS"
   ]
  },
  {
   "cell_type": "code",
   "execution_count": null,
   "metadata": {},
   "outputs": [],
   "source": [
    "#CONVERT FROM TOTAL DEATHS TO NEW DEATHS\n",
    "df = cdi.get_international_deaths()\n",
    "date_column = df['date']\n",
    "deaths = df.loc[:,df.columns[1:]].fillna(value=0)\n",
    "new_deaths = deaths.diff().fillna(value=0)\n",
    "new_deaths = new_deaths.astype(int)\n",
    "new_deaths.insert(loc=0, column=\"Date\", value=date_column)\n",
    "new_deaths = new_deaths.loc[1:]\n",
    "\n",
    "#GET POPULATION DATA\n",
    "population_df = cdi.get_international_population()\n",
    "population_df = population_df.rename(columns={\"countriesAndTerritories\": \"country\"})\n",
    "new_deaths = new_deaths.rename(columns={\"United States\": \"United States of America\"})\n",
    "\n",
    "#REPLACE SPACES WITH UNDERSCORE IN COLUMN NAMES IN CASES DATA\n",
    "new_deaths.columns = new_deaths.columns.str.replace(' ','_')\n",
    "\n",
    "#CALCULATE NORMALIZED VALUES\n",
    "for country in new_deaths.columns[1:]:\n",
    "    population = population_df[population_df['country'] == country]['population']\n",
    "    if(population.empty): \n",
    "        new_deaths = new_deaths.drop(country, 1)\n",
    "        continue\n",
    "    new_deaths[country] = new_deaths[country].apply(normalize, args=(population,))\n",
    "\n",
    "new_deaths.iloc[:,1:] = new_deaths.iloc[:,1:].round(0).astype(int)\n",
    "\n",
    "new_deaths.to_csv('../data/Covid_International/new_deaths_normalized.csv', mode='w', index = False, header=True)"
   ]
  },
  {
   "cell_type": "markdown",
   "metadata": {},
   "source": [
    "## US Data"
   ]
  },
  {
   "cell_type": "markdown",
   "metadata": {},
   "source": [
    "#### CASES"
   ]
  },
  {
   "cell_type": "code",
   "execution_count": null,
   "metadata": {
    "scrolled": true
   },
   "outputs": [],
   "source": [
    "population_county = cd.get_county_population()\n",
    "population_grouped = population_county.groupby(population_county.State)\n",
    "population_state = population_grouped.agg(np.sum)\n",
    "\n",
    "cases_state = pd.read_csv('../data/Daily/covid_daily_cases.csv')\n",
    "cases_state = cases_state.rename(columns={\"Unnamed: 0\": \"State\"})\n",
    "cases_state.set_index(\"State\", inplace=True)\n",
    "\n",
    "states = cases_state.index\n",
    "for state in states:\n",
    "    population = population_state.loc[state][\"population\"]\n",
    "    cases_state.loc[state] = cases_state.loc[state].apply(normalize, args=(population,))\n",
    "\n",
    "cases_state = cases_state.round(0).astype(int)\n",
    "\n",
    "cases_state.to_csv('../data/Daily/daily_new_cases_normalized.csv', mode='w', index = True, header=True)"
   ]
  },
  {
   "cell_type": "markdown",
   "metadata": {},
   "source": [
    "#### DEATHS"
   ]
  },
  {
   "cell_type": "code",
   "execution_count": null,
   "metadata": {},
   "outputs": [],
   "source": [
    "population_county = cd.get_county_population()\n",
    "population_grouped = population_county.groupby(population_county.State)\n",
    "population_state = population_grouped.agg(np.sum)\n",
    "\n",
    "deaths_state = pd.read_csv('../data/Daily/covid_daily_deaths.csv')\n",
    "deaths_state = deaths_state.rename(columns={\"Unnamed: 0\": \"State\"})\n",
    "deaths_state.set_index(\"State\", inplace=True)\n",
    "\n",
    "states = deaths_state.index\n",
    "\n",
    "for state in states:\n",
    "    population = population_state.loc[state][\"population\"]\n",
    "    deaths_state.loc[state] = deaths_state.loc[state].apply(normalize, args=(population,))\n",
    "\n",
    "deaths_state = deaths_state.round(0).astype(int)\n",
    "\n",
    "deaths_state.to_csv('../data/Daily/daily_new_deaths_normalized.csv', mode='w', index = True, header=True)"
   ]
  }
 ],
 "metadata": {
  "kernelspec": {
   "display_name": "Python 3",
   "language": "python",
   "name": "python3"
  },
  "language_info": {
   "codemirror_mode": {
    "name": "ipython",
    "version": 3
   },
   "file_extension": ".py",
   "mimetype": "text/x-python",
   "name": "python",
   "nbconvert_exporter": "python",
   "pygments_lexer": "ipython3",
   "version": "3.7.4"
  }
 },
 "nbformat": 4,
 "nbformat_minor": 2
}
