{
 "cells": [
  {
   "cell_type": "code",
   "execution_count": null,
   "metadata": {},
   "outputs": [],
   "source": [
    "cd ../src"
   ]
  },
  {
   "cell_type": "code",
   "execution_count": null,
   "metadata": {},
   "outputs": [],
   "source": [
    "import ipynb\n",
    "from ipynb.fs.full import international_covid_data as cdi\n",
    "import pandas as pd"
   ]
  },
  {
   "cell_type": "code",
   "execution_count": null,
   "metadata": {},
   "outputs": [],
   "source": [
    "def normalize(x, population):\n",
    "    return (x/population)*100000\n",
    "\n",
    "#CONVERT FROM TOTAL CASES TO NEW CASES\n",
    "df = cdi.get_international_cases()\n",
    "date_column = df['date']\n",
    "cases = df.loc[:,df.columns[1:]].fillna(value=0)\n",
    "new_cases = cases.diff().fillna(value=0)\n",
    "new_cases = new_cases.astype(int)\n",
    "new_cases.insert(loc=0, column=\"Date\", value=date_column)\n",
    "new_cases = new_cases.loc[1:]\n",
    "population_df = cdi.get_international_population()\n",
    "population_df = population_df.rename(columns={\"countriesAndTerritories\": \"country\"})\n",
    "new_cases = new_cases.rename(columns={\"United States\": \"United States of America\"})\n",
    "\n",
    "#REPLACE SPACES WITH UNDERSCORE IN COLUMN NAMES IN CASES DATA\n",
    "new_cases.columns = new_cases.columns.str.replace(' ','_')\n",
    "\n",
    "#CALCULATE NORMALIZED VALUES\n",
    "for country in new_cases.columns[1:]:\n",
    "    population = population_df[population_df['country'] == country]['population']\n",
    "    if(population.empty): \n",
    "        new_cases = new_cases.drop(country, 1)\n",
    "        continue\n",
    "    new_cases[country] = new_cases[country].apply(normalize, args=(population,))\n",
    "\n",
    "new_cases.to_csv('../data/Covid_International/new_cases_normalized.csv', mode='w', index = False, header=True)"
   ]
  }
 ],
 "metadata": {
  "kernelspec": {
   "display_name": "Python 3",
   "language": "python",
   "name": "python3"
  },
  "language_info": {
   "codemirror_mode": {
    "name": "ipython",
    "version": 3
   },
   "file_extension": ".py",
   "mimetype": "text/x-python",
   "name": "python",
   "nbconvert_exporter": "python",
   "pygments_lexer": "ipython3",
   "version": "3.7.4"
  }
 },
 "nbformat": 4,
 "nbformat_minor": 2
}
