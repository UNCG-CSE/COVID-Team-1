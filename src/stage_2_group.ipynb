{
 "cells": [
  {
   "cell_type": "markdown",
   "metadata": {},
   "source": [
    "\n",
    "# COVID-Team-1\n",
    "### Dr. Mohanty\n",
    "### Brantley, Kawabata, Urgitus\n",
    "### CSC 405 01\n",
    "### Last Updated: 10/13/2020\n",
    "### We, the members of COVID-Team-1, have abided by the UNCG academic policy."
   ]
  },
  {
   "cell_type": "markdown",
   "metadata": {},
   "source": [
    "### Module Imports"
   ]
  },
  {
   "cell_type": "code",
   "execution_count": 2,
   "metadata": {},
   "outputs": [],
   "source": [
    "import ipynb\n",
    "from ipynb.fs.full import covid_data as cd\n",
    "import pandas as pd"
   ]
  },
  {
   "cell_type": "markdown",
   "metadata": {},
   "source": [
    "### Pandas Display Options"
   ]
  },
  {
   "cell_type": "code",
   "execution_count": 125,
   "metadata": {},
   "outputs": [],
   "source": [
    "# Telling pandas not convert to html tags.\n",
    "pd.set_option('display.notebook_repr_html', False)\n",
    "# Max columns and rows to display.\n",
    "pd.set_option('display.max_columns', 12)\n",
    "pd.set_option('display.max_rows', 10)"
   ]
  },
  {
   "cell_type": "markdown",
   "metadata": {},
   "source": [
    "## Calculating Weekly Statistics"
   ]
  },
  {
   "cell_type": "code",
   "execution_count": 126,
   "metadata": {},
   "outputs": [],
   "source": [
    "# Get covid daily cases.\n",
    "df_daily_cases = cd.get_covid_daily_cases()\n",
    "# Get primary data and group by state.\n",
    "df_primary = cd.get_covid_primary_data()\n",
    "df_primary_states = df_primary.groupby(\"State\")\n",
    "# Calculate the number of columns, i.e. days.\n",
    "number_days = len(df_primary_states.first().filter(regex = \"case\").columns)\n",
    "# Declaring/Initializing our state/week lists which will form our indexes.\n",
    "state_index = []\n",
    "week_index = []\n",
    "# Keeps track of which week we are on.\n",
    "week_count = 1\n",
    "# Appends a state to the state index.\n",
    "# Appends ((number_days) / 7) weeks into week index.\n",
    "# Populating our lists, which will be used for multi indexing.\n",
    "for state in df_daily_cases.index:\n",
    "    for week in range (0, number_days, 7):\n",
    "        state_index.append(state)\n",
    "        week_index.append(\"week \" + str(week_count))\n",
    "        week_count += 1\n",
    "    week_count = 1\n",
    "# Creating temporary dataframe to hold mean for cases and deaths.\n",
    "df_weekly_statistics = pd.DataFrame(index = [state_index, week_index],\\\n",
    "                                   columns = [\"mean_cases\", \"mean_deaths\", \"start_day\"])\n",
    "# Creating our daily statistics dataframe for cases.\n",
    "df_statistics_cases = pd.DataFrame(index = [df_daily_cases.index],\\\n",
    "                                   columns = [\"mean\", \"median\", \"mode\"])\n",
    "# Creating our daily statistics dataframe for deaths.\n",
    "df_daily_deaths = cd.get_covid_daily_deaths()\n",
    "df_statistics_deaths = pd.DataFrame(index = [df_daily_cases.index],\\\n",
    "                                   columns = [\"mean\", \"median\", \"mode\"])\n",
    "# Calculating weekly mean for cases and deaths.\n",
    "# Week count starts at 0, it is now used for index positioning.\n",
    "week_count = 0\n",
    "for lower_range in range(0, number_days, 7):\n",
    "    upper_range = lower_range + 7\n",
    "    for state in df_daily_cases.index:\n",
    "        # Get weekly statistics for cases.\n",
    "        df_weekly_statistics.loc[state].iloc[week_count][\"mean_cases\"]\\\n",
    "            = df_daily_cases.loc[state].iloc[lower_range:upper_range].mean().round(0)\n",
    "        df_weekly_statistics.loc[state].iloc[week_count][\"start_day\"]\\\n",
    "            = df_daily_cases.loc[state].index[lower_range]\n",
    "        # Get weekly statistics for deaths.\n",
    "        df_weekly_statistics.loc[state].iloc[week_count][\"mean_deaths\"]\\\n",
    "            = df_daily_deaths.loc[state].iloc[lower_range:upper_range].mean().round(0)\n",
    "    week_count += 1\n",
    "# Calculating the mean/median/mode for each state, determined from values from all weeks.\n",
    "for state in df_weekly_statistics.index.get_level_values(0).unique():\n",
    "    df_statistics_cases.loc[state, \"mean\"] = df_weekly_statistics.loc[state][\"mean_cases\"].mean()\n",
    "    df_statistics_cases.loc[state, \"median\"] = df_weekly_statistics.loc[state][\"mean_cases\"].median()\n",
    "    df_statistics_cases.loc[state, \"mode\"] = df_weekly_statistics.loc[state][\"mean_cases\"].mode()[0]\n",
    "    df_statistics_deaths.loc[state, \"mean\"] = df_weekly_statistics.loc[state][\"mean_deaths\"].mean()\n",
    "    df_statistics_deaths.loc[state, \"median\"] = df_weekly_statistics.loc[state][\"mean_deaths\"].median()\n",
    "    df_statistics_deaths.loc[state, \"mode\"] = df_weekly_statistics.loc[state][\"mean_deaths\"].mode()[0]"
   ]
  },
  {
   "cell_type": "markdown",
   "metadata": {},
   "source": [
    "### Statistics for Cases by State"
   ]
  },
  {
   "cell_type": "code",
   "execution_count": 127,
   "metadata": {},
   "outputs": [
    {
     "data": {
      "text/plain": [
       "       mean median mode\n",
       "AK  27.4857  11     0  \n",
       "AL  598.686  378    0  \n",
       "AR  313.314  173    0  \n",
       "AZ  873.857  404    0  \n",
       "CA  3220.06  2283   0  \n",
       "..      ...   ...  ..  \n",
       "VT  7        6      0  \n",
       "WA  336.886  314    0  \n",
       "WI  438.6    325    0  \n",
       "WV  59.3429  36     0  \n",
       "WY  21.8     12     0  \n",
       "\n",
       "[51 rows x 3 columns]"
      ]
     },
     "metadata": {},
     "output_type": "display_data"
    }
   ],
   "source": [
    "display(df_statistics_cases)"
   ]
  },
  {
   "cell_type": "markdown",
   "metadata": {},
   "source": [
    "### Statistics for Deaths by State"
   ]
  },
  {
   "cell_type": "code",
   "execution_count": 128,
   "metadata": {},
   "outputs": [
    {
     "data": {
      "text/plain": [
       "        mean median mode\n",
       "AK  0.114286  0      0  \n",
       "AL  9.88571   10     0  \n",
       "AR  8.34286   2      0  \n",
       "AZ  22.6      19     0  \n",
       "CA  62.4286   69     0  \n",
       "..      ...   ..    ..  \n",
       "VT  0.228571  0      0  \n",
       "WA  8.37143   8      7  \n",
       "WI  5.22857   6      0  \n",
       "WV  1.54286   1      0  \n",
       "WY  0.228571  0      0  \n",
       "\n",
       "[51 rows x 3 columns]"
      ]
     },
     "metadata": {},
     "output_type": "display_data"
    }
   ],
   "source": [
    "display(df_statistics_deaths)"
   ]
  },
  {
   "cell_type": "markdown",
   "metadata": {},
   "source": [
    "## Comparing Weekly Statistics"
   ]
  },
  {
   "cell_type": "code",
   "execution_count": null,
   "metadata": {},
   "outputs": [],
   "source": []
  }
 ],
 "metadata": {
  "kernelspec": {
   "display_name": "Python 3",
   "language": "python",
   "name": "python3"
  },
  "language_info": {
   "codemirror_mode": {
    "name": "ipython",
    "version": 3
   },
   "file_extension": ".py",
   "mimetype": "text/x-python",
   "name": "python",
   "nbconvert_exporter": "python",
   "pygments_lexer": "ipython3",
   "version": "3.7.4"
  }
 },
 "nbformat": 4,
 "nbformat_minor": 4
}
