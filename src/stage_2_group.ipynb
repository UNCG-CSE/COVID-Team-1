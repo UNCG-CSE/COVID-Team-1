{
 "cells": [
  {
   "cell_type": "markdown",
   "metadata": {},
   "source": [
    "\n",
    "# COVID-Team-1\n",
    "### Dr. Mohanty\n",
    "### Brantley, Kawabata, Urgitus\n",
    "### CSC 405 01\n",
    "### Last Updated: 10/13/2020\n",
    "### We, the members of COVID-Team-1, have abided by the UNCG academic policy."
   ]
  },
  {
   "cell_type": "markdown",
   "metadata": {},
   "source": [
    "### Module Imports"
   ]
  },
  {
   "cell_type": "code",
   "execution_count": 1,
   "metadata": {},
   "outputs": [],
   "source": [
    "import ipynb\n",
    "from ipynb.fs.full import covid_data as cd\n",
    "import pandas as pd"
   ]
  },
  {
   "cell_type": "markdown",
   "metadata": {},
   "source": [
    "### Pandas Display Options"
   ]
  },
  {
   "cell_type": "code",
   "execution_count": 2,
   "metadata": {},
   "outputs": [],
   "source": [
    "# Telling pandas not convert to html tags.\n",
    "pd.set_option('display.notebook_repr_html', False)\n",
    "# Max columns and rows to display.\n",
    "pd.set_option('display.max_columns', 12)\n",
    "pd.set_option('display.max_rows', 10)"
   ]
  },
  {
   "cell_type": "markdown",
   "metadata": {},
   "source": [
    "## Calculating Weekly Statistics"
   ]
  },
  {
   "cell_type": "code",
   "execution_count": 12,
   "metadata": {},
   "outputs": [],
   "source": [
    "# Get covid daily cases.\n",
    "df_daily_cases = cd.get_covid_daily_cases()\n",
    "# Get primary data and group by state.\n",
    "df_primary = cd.get_covid_primary_data()\n",
    "df_primary_states = df_primary.groupby(\"State\")\n",
    "# Calculate the number of columns, i.e. days.\n",
    "number_days = len(df_primary_states.first().filter(regex = \"case\").columns)\n",
    "# Declaring/Initializing our state/week lists which will form our indexes.\n",
    "state_index = []\n",
    "week_index = []\n",
    "# Keeps track of which week we are on.\n",
    "week_count = 1\n",
    "# Appends a state to the state index.\n",
    "# Appends ((number_days) / 7) weeks into week index.\n",
    "# Populating our lists, which will be used for multi indexing.\n",
    "for state in df_daily_cases.index:\n",
    "    for week in range (0, number_days, 7):\n",
    "        state_index.append(state)\n",
    "        week_index.append(\"week \" + str(week_count))\n",
    "        week_count += 1\n",
    "    week_count = 1\n",
    "# Creating our daily statistics dataframe for cases.\n",
    "df_weekly_statistics_cases = pd.DataFrame(index = [state_index, week_index],\\\n",
    "                                   columns = [\"mean\", \"median\", \"start_day\"])\n",
    "# Creating our daily statistics dataframe for deaths.\n",
    "df_daily_deaths = cd.get_covid_daily_deaths()\n",
    "df_weekly_statistics_deaths = pd.DataFrame(index = [state_index, week_index],\\\n",
    "                                   columns = [\"mean\", \"median\", \"start_day\"])\n",
    "# Calculating weekly mean/median for cases and deaths.\n",
    "# Week count starts at 0, it is now used for index positioning.\n",
    "week_count = 0\n",
    "for lower_range in range(0, number_days, 7):\n",
    "    upper_range = lower_range + 7\n",
    "    for state in df_daily_cases.index:\n",
    "        # Get weekly statistics for cases.\n",
    "        df_weekly_statistics_cases.loc[state].iloc[week_count][\"mean\"]\\\n",
    "            = df_daily_cases.loc[state].iloc[lower_range:upper_range].mean()\n",
    "        df_weekly_statistics_cases.loc[state].iloc[week_count][\"median\"]\\\n",
    "            = df_daily_cases.loc[state].iloc[lower_range:upper_range].median()\n",
    "        df_weekly_statistics_cases.loc[state].iloc[week_count][\"start_day\"]\\\n",
    "            = df_daily_cases.loc[state].index[lower_range]\n",
    "        # Get weekly statistics for deaths.\n",
    "        df_weekly_statistics_deaths.loc[state].iloc[week_count][\"mean\"]\\\n",
    "            = df_daily_deaths.loc[state].iloc[lower_range:upper_range].mean()\n",
    "        df_weekly_statistics_deaths.loc[state].iloc[week_count][\"median\"]\\\n",
    "            = df_daily_deaths.loc[state].iloc[lower_range:upper_range].median()\n",
    "        df_weekly_statistics_deaths.loc[state].iloc[week_count][\"start_day\"]\\\n",
    "            = df_daily_deaths.loc[state].index[lower_range]\n",
    "    week_count += 1"
   ]
  },
  {
   "cell_type": "markdown",
   "metadata": {},
   "source": [
    "### Weekly Statistics for Cases by State"
   ]
  },
  {
   "cell_type": "code",
   "execution_count": 6,
   "metadata": {},
   "outputs": [
    {
     "data": {
      "text/plain": [
       "               mean median        start_day\n",
       "AK week 1         0      0  cases - 1/22/20\n",
       "   week 2         0      0  cases - 1/29/20\n",
       "   week 3         0      0   cases - 2/5/20\n",
       "   week 4         0      0  cases - 2/12/20\n",
       "   week 5         0      0  cases - 2/19/20\n",
       "...             ...    ...              ...\n",
       "WY week 31  38.8571     35  cases - 8/19/20\n",
       "   week 32       33     25  cases - 8/26/20\n",
       "   week 33  33.8571     31   cases - 9/2/20\n",
       "   week 34       48     49   cases - 9/9/20\n",
       "   week 35      128    128  cases - 9/16/20\n",
       "\n",
       "[1785 rows x 3 columns]"
      ]
     },
     "metadata": {},
     "output_type": "display_data"
    }
   ],
   "source": [
    "display(df_weekly_statistics_cases)"
   ]
  },
  {
   "cell_type": "markdown",
   "metadata": {},
   "source": [
    "### Weekly Statistics for Deaths by State"
   ]
  },
  {
   "cell_type": "code",
   "execution_count": 17,
   "metadata": {},
   "outputs": [
    {
     "data": {
      "text/plain": [
       "week 1            0\n",
       "week 2            0\n",
       "week 3            0\n",
       "week 4            0\n",
       "week 5            0\n",
       "             ...   \n",
       "week 31           1\n",
       "week 32    0.428571\n",
       "week 33    0.428571\n",
       "week 34    0.285714\n",
       "week 35           0\n",
       "Name: mean, Length: 35, dtype: object"
      ]
     },
     "metadata": {},
     "output_type": "display_data"
    }
   ],
   "source": [
    "display(df_weekly_statistics_deaths.loc['AK'])"
   ]
  },
  {
   "cell_type": "markdown",
   "metadata": {},
   "source": [
    "## Comparing Weekly Statistics"
   ]
  },
  {
   "cell_type": "code",
   "execution_count": 15,
   "metadata": {},
   "outputs": [
    {
     "data": {
      "text/plain": [
       "           Date  Afghanistan  Albania  Algeria  Andorra  Angola  ...  \\\n",
       "0    2020-01-01            0        0        0        0       0  ...   \n",
       "1    2020-01-02            0        0        0        0       0  ...   \n",
       "2    2020-01-03            0        0        0        0       0  ...   \n",
       "3    2020-01-04            0        0        0        0       0  ...   \n",
       "4    2020-01-05            0        0        0        0       0  ...   \n",
       "..          ...          ...      ...      ...      ...     ...  ...   \n",
       "283  2020-10-10            3      580       33    16566      29  ...   \n",
       "284  2020-10-11            0      573       31        0      22  ...   \n",
       "285  2020-10-12           25      584       30        0      65  ...   \n",
       "286  2020-10-13           33      594       35    38698      37  ...   \n",
       "287  2020-10-14           17      632       40        0      37  ...   \n",
       "\n",
       "     Venezuela  Vietnam  Western_Sahara  Yemen  Zambia  Zimbabwe  \n",
       "0            0        0               0      0       0         0  \n",
       "1            0        0               0      0       0         0  \n",
       "2            0        0               0      0       0         0  \n",
       "3            0        0               0      0       0         0  \n",
       "4            0        0               0      0       0         0  \n",
       "..         ...      ...             ...    ...     ...       ...  \n",
       "283        238        1               0      0      42        29  \n",
       "284        266        0               0      0      21        11  \n",
       "285        241        0               0      0      65         1  \n",
       "286        218        0               0      0      49         7  \n",
       "287        223        0               0      0      21        10  \n",
       "\n",
       "[288 rows x 194 columns]"
      ]
     },
     "execution_count": 15,
     "metadata": {},
     "output_type": "execute_result"
    }
   ],
   "source": [
    "#us_cases = pd.read_csv('../data/Daily/daily_new_cases_normalized.csv')\n",
    "world_cases = pd.read_csv('../data/Covid_International/new_cases_normalized.csv')\n",
    "\n",
    "world_cases"
   ]
  }
 ],
 "metadata": {
  "kernelspec": {
   "display_name": "Python 3",
   "language": "python",
   "name": "python3"
  },
  "language_info": {
   "codemirror_mode": {
    "name": "ipython",
    "version": 3
   },
   "file_extension": ".py",
   "mimetype": "text/x-python",
   "name": "python",
   "nbconvert_exporter": "python",
   "pygments_lexer": "ipython3",
   "version": "3.7.4"
  }
 },
 "nbformat": 4,
 "nbformat_minor": 4
}
