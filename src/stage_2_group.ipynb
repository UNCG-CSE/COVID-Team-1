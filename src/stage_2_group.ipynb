{
 "cells": [
  {
   "cell_type": "markdown",
   "metadata": {},
   "source": [
    "\n",
    "# COVID-Team-1\n",
    "### Dr. Mohanty\n",
    "### Brantley, Kawabata, Urgitus\n",
    "### CSC 405 01\n",
    "### Last Updated: 10/13/2020\n",
    "### We, the members of COVID-Team-1, have abided by the UNCG academic policy."
   ]
  },
  {
   "cell_type": "markdown",
   "metadata": {},
   "source": [
    "### Module Imports"
   ]
  },
  {
   "cell_type": "code",
   "execution_count": 174,
   "metadata": {},
   "outputs": [],
   "source": [
    "import ipynb\n",
    "from ipynb.fs.full import covid_data as cd\n",
    "import pandas as pd"
   ]
  },
  {
   "cell_type": "markdown",
   "metadata": {},
   "source": [
    "### Pandas Display Options"
   ]
  },
  {
   "cell_type": "code",
   "execution_count": 175,
   "metadata": {},
   "outputs": [],
   "source": [
    "# Telling pandas not convert to html tags.\n",
    "pd.set_option('display.notebook_repr_html', False)\n",
    "# Max columns and rows to display.\n",
    "pd.set_option('display.max_columns', 12)\n",
    "pd.set_option('display.max_rows', 10)"
   ]
  },
  {
   "cell_type": "markdown",
   "metadata": {},
   "source": [
    "## Calculating Weekly Statistics"
   ]
  },
  {
   "cell_type": "code",
   "execution_count": 176,
   "metadata": {},
   "outputs": [],
   "source": [
    "# Get covid daily cases.\n",
    "df_daily_cases = cd.get_covid_daily_cases()\n",
    "# Calculate the number of columns, i.e. days.\n",
    "number_days = len(df_primary_states.first().filter(regex = \"case\").columns)\n",
    "# Declaring/Initializing our state/week lists which will form our indexes.\n",
    "state_index = []\n",
    "week_index = []\n",
    "# Keeps track of which week we are on.\n",
    "week_count = 1\n",
    "# Appends a state to the state index.\n",
    "# Appends ((number_days) / 7) weeks into week index.\n",
    "# Populating our lists, which will be used for multi indexing.\n",
    "for state in df_daily_cases.index:\n",
    "    for week in range (0, number_days, 7):\n",
    "        state_index.append(state)\n",
    "        week_index.append(\"week \" + str(week_count))\n",
    "        week_count += 1\n",
    "    week_count = 1\n",
    "# Creating our daily statistics dataframe for cases.\n",
    "df_weekly_statistics_cases = pd.DataFrame(index = [state_index, week_index],\\\n",
    "                                   columns = [\"mean\", \"median\", \"start_day\"])\n",
    "# Creating our daily statistics dataframe for deaths.\n",
    "df_daily_deaths = cd.get_covid_daily_deaths()\n",
    "df_weekly_statistics_deaths = pd.DataFrame(index = [state_index, week_index],\\\n",
    "                                   columns = [\"mean\", \"median\", \"start_day\"])\n",
    "# Calculating weekly mean/median for cases and deaths.\n",
    "# Week count starts at 0, it is now used for index positioning.\n",
    "week_count = 0\n",
    "for lower_range in range(0, number_days, 7):\n",
    "    upper_range = lower_range + 7\n",
    "    for state in df_daily_cases.index:\n",
    "        # Get weekly statistics for cases.\n",
    "        df_weekly_statistics_cases.loc[state].iloc[week_count][\"mean\"]\\\n",
    "            = df_daily_cases.loc[state].iloc[lower_range:upper_range].mean()\n",
    "        df_weekly_statistics_cases.loc[state].iloc[week_count][\"median\"]\\\n",
    "            = df_daily_cases.loc[state].iloc[lower_range:upper_range].median()\n",
    "        df_weekly_statistics_cases.loc[state].iloc[week_count][\"start_day\"]\\\n",
    "            = df_daily_cases.loc[state].index[lower_range]\n",
    "        # Get weekly statistics for deaths.\n",
    "        df_weekly_statistics_deaths.loc[state].iloc[week_count][\"mean\"]\\\n",
    "            = df_daily_deaths.loc[state].iloc[lower_range:upper_range].mean()\n",
    "        df_weekly_statistics_deaths.loc[state].iloc[week_count][\"median\"]\\\n",
    "            = df_daily_deaths.loc[state].iloc[lower_range:upper_range].median()\n",
    "        df_weekly_statistics_deaths.loc[state].iloc[week_count][\"start_day\"]\\\n",
    "            = df_daily_deaths.loc[state].index[lower_range]\n",
    "    week_count += 1"
   ]
  },
  {
   "cell_type": "markdown",
   "metadata": {},
   "source": [
    "### Weekly Statistics for Cases by State"
   ]
  },
  {
   "cell_type": "code",
   "execution_count": 177,
   "metadata": {},
   "outputs": [
    {
     "data": {
      "text/plain": [
       "               mean median        start_day\n",
       "AK week 1         0      0  cases - 1/22/20\n",
       "   week 2         0      0  cases - 1/29/20\n",
       "   week 3         0      0   cases - 2/5/20\n",
       "   week 4         0      0  cases - 2/12/20\n",
       "   week 5         0      0  cases - 2/19/20\n",
       "...             ...    ...              ...\n",
       "WY week 31  38.8571     35  cases - 8/19/20\n",
       "   week 32       33     25  cases - 8/26/20\n",
       "   week 33  33.8571     31   cases - 9/2/20\n",
       "   week 34       48     49   cases - 9/9/20\n",
       "   week 35      128    128  cases - 9/16/20\n",
       "\n",
       "[1785 rows x 3 columns]"
      ]
     },
     "metadata": {},
     "output_type": "display_data"
    }
   ],
   "source": [
    "display(df_weekly_statistics_cases)"
   ]
  },
  {
   "cell_type": "markdown",
   "metadata": {},
   "source": [
    "### Weekly Statistics for Deaths by State"
   ]
  },
  {
   "cell_type": "code",
   "execution_count": 178,
   "metadata": {},
   "outputs": [
    {
     "data": {
      "text/plain": [
       "                mean median         start_day\n",
       "AK week 1          0      0  deaths - 1/22/20\n",
       "   week 2          0      0  deaths - 1/29/20\n",
       "   week 3          0      0   deaths - 2/5/20\n",
       "   week 4          0      0  deaths - 2/12/20\n",
       "   week 5          0      0  deaths - 2/19/20\n",
       "...              ...    ...               ...\n",
       "WY week 31  0.714286      0  deaths - 8/19/20\n",
       "   week 32  0.571429      0  deaths - 8/26/20\n",
       "   week 33  0.142857      0   deaths - 9/2/20\n",
       "   week 34         0      0   deaths - 9/9/20\n",
       "   week 35         3      3  deaths - 9/16/20\n",
       "\n",
       "[1785 rows x 3 columns]"
      ]
     },
     "metadata": {},
     "output_type": "display_data"
    }
   ],
   "source": [
    "display(df_weekly_statistics_deaths)"
   ]
  },
  {
   "cell_type": "markdown",
   "metadata": {},
   "source": [
    "## Comparing Weekly Statistics"
   ]
  },
  {
   "cell_type": "code",
   "execution_count": null,
   "metadata": {},
   "outputs": [],
   "source": []
  }
 ],
 "metadata": {
  "kernelspec": {
   "display_name": "Python 3",
   "language": "python",
   "name": "python3"
  },
  "language_info": {
   "codemirror_mode": {
    "name": "ipython",
    "version": 3
   },
   "file_extension": ".py",
   "mimetype": "text/x-python",
   "name": "python",
   "nbconvert_exporter": "python",
   "pygments_lexer": "ipython3",
   "version": "3.8.5"
  }
 },
 "nbformat": 4,
 "nbformat_minor": 4
}
