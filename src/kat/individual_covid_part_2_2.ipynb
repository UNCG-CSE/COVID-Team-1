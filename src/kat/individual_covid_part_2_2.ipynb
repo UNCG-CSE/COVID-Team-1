{
 "cells": [
  {
   "cell_type": "markdown",
   "metadata": {},
   "source": [
    "# COVID-Team-1\n",
    "## Dr. Mohanty\n",
    "## Katelynn Urgitus\n",
    "## CSC 405-01\n",
    "## Last Updated: 10/24/2020\n",
    "## I, Katelynn Urgitus, have abided by the UNCG Academic Integrity Policy."
   ]
  },
  {
   "cell_type": "markdown",
   "metadata": {},
   "source": [
    "### ---------------------------------------------------------------------------------------------------------------------------------\n",
    "\n",
    "In this notebook I will be:\n",
    "\n",
    "\n",
    "fitting a distribution to the number of COVID-19 cases of Pennsylvania,\n",
    "        \n",
    "modelling a poission distribution of COVID-19 cases and deaths of Pennsylvania and compare to other 5 states,\n",
    "\n",
    "modelling poission distributions for North Carolina counties COVID-19 in cases and deaths, and\n",
    "    \n",
    "performing corelation between Enrichment data valiables and COVID-19 cases to observe any patterns\n",
    "\n",
    "### ---------------------------------------------------------------------------------------------------------------------------------"
   ]
  },
  {
   "cell_type": "code",
   "execution_count": 1,
   "metadata": {},
   "outputs": [],
   "source": [
    "import os \n",
    "os.chdir(\"../\")"
   ]
  },
  {
   "cell_type": "code",
   "execution_count": 2,
   "metadata": {},
   "outputs": [],
   "source": [
    "import ipynb\n",
    "from ipynb.fs.full import covid_data as cd\n",
    "import pandas as pd\n",
    "import matplotlib\n",
    "import matplotlib.pyplot as plt\n",
    "import numpy as np\n",
    "import scipy.stats as stats"
   ]
  },
  {
   "cell_type": "code",
   "execution_count": 3,
   "metadata": {},
   "outputs": [],
   "source": [
    "# Telling pandas not convert to html tags.\n",
    "pd.set_option('display.html.table_schema', True)\n",
    "# Max columns and rows to display.\n",
    "pd.set_option('display.max_columns', 10)\n",
    "pd.set_option('display.max_rows', 7)"
   ]
  },
  {
   "cell_type": "markdown",
   "metadata": {},
   "source": [
    "## Data Paths"
   ]
  },
  {
   "cell_type": "code",
   "execution_count": 4,
   "metadata": {},
   "outputs": [],
   "source": [
    "penn_daily_cases = \"../data/Covid/Kat/Pennsylvania/Penn_Cases.csv\"\n",
    "all_daily_cases = \"../data/Covid/Kat/6_cases_normalized.csv\"\n",
    "all_daily_deaths = \"../data/Covid/Kat/6_deaths_normalized.csv\"\n",
    "_cases = \"../data/Covid/Daily/daily_new_cases_normalized.csv\"\n",
    "_deaths = \"../data/Covid/Daily/daily_new_deaths_normalized.csv\"\n",
    "penn_hosp  = \"../data/Hospitals/hospital_merged_covid_penn.csv\""
   ]
  },
  {
   "cell_type": "code",
   "execution_count": 5,
   "metadata": {},
   "outputs": [],
   "source": [
    "df_daily_penn =  pd.read_csv(penn_daily_cases, index_col = 0)\n",
    "df_daily_penn_summed = df_daily_penn.sum()"
   ]
  },
  {
   "cell_type": "code",
   "execution_count": 6,
   "metadata": {},
   "outputs": [
    {
     "data": {
      "image/png": "[encoded data removed]",
      "text/plain": [
       "<Figure size 432x288 with 1 Axes>"
      ]
     },
     "metadata": {
      "needs_background": "light"
     },
     "output_type": "display_data"
    }
   ],
   "source": [
    "graph = df_daily_penn_summed.hist(bins = 20, ec = \"black\")"
   ]
  },
  {
   "cell_type": "code",
   "execution_count": 7,
   "metadata": {},
   "outputs": [
    {
     "data": {
      "text/plain": [
       "-1.3828562439551506"
      ]
     },
     "execution_count": 7,
     "metadata": {},
     "output_type": "execute_result"
    }
   ],
   "source": [
    "df_daily_penn_summed.kurtosis()"
   ]
  },
  {
   "cell_type": "markdown",
   "metadata": {},
   "source": [
    "The negative kurtosis indicates a Platykuric distribution. This means that the data has smaller outliers, but as we can see from the graph, the data has a big left outlier. This is a result of lower numbers occuring more often."
   ]
  },
  {
   "cell_type": "code",
   "execution_count": 8,
   "metadata": {},
   "outputs": [
    {
     "data": {
      "text/plain": [
       "59612.799163179916"
      ]
     },
     "execution_count": 8,
     "metadata": {},
     "output_type": "execute_result"
    }
   ],
   "source": [
    "df_daily_penn_summed.mean()"
   ]
  },
  {
   "cell_type": "code",
   "execution_count": 9,
   "metadata": {},
   "outputs": [
    {
     "data": {
      "text/plain": [
       "0.11774378232174565"
      ]
     },
     "execution_count": 9,
     "metadata": {},
     "output_type": "execute_result"
    }
   ],
   "source": [
    "df_daily_penn_summed.skew()"
   ]
  },
  {
   "cell_type": "markdown",
   "metadata": {},
   "source": [
    "The Skew is positive, meaning it has a longer right tail."
   ]
  },
  {
   "cell_type": "markdown",
   "metadata": {},
   "source": [
    "I chose this distribution because we are using discrete data and not continuous data. "
   ]
  },
  {
   "cell_type": "markdown",
   "metadata": {},
   "source": [
    "### Model a poission distribution of COVID-19 cases and deaths"
   ]
  },
  {
   "cell_type": "code",
   "execution_count": 10,
   "metadata": {},
   "outputs": [],
   "source": [
    "all_daily_cases_states = pd.read_csv(all_daily_cases, index_col = 0)\n",
    "all_daily_deaths_states = pd.read_csv(all_daily_deaths, index_col = 0)"
   ]
  },
  {
   "cell_type": "markdown",
   "metadata": {},
   "source": [
    "#### Cases"
   ]
  },
  {
   "cell_type": "code",
   "execution_count": 11,
   "metadata": {},
   "outputs": [
    {
     "data": {
      "application/vnd.dataresource+json": {
       "data": [
        {
         "State": "CA",
         "cases - 1/22/20": 0,
         "cases - 1/23/20": 0,
         "cases - 1/24/20": 0,
         "cases - 1/25/20": 0,
         "cases - 1/26/20": 1,
         "cases - 1/27/20": 0,
         "cases - 1/28/20": 0,
         "cases - 1/29/20": 0,
         "cases - 1/30/20": 0,
         "cases - 1/31/20": 0,
         "cases - 2/1/20": 0,
         "cases - 2/10/20": 0,
         "cases - 2/11/20": 0,
         "cases - 2/12/20": 0,
         "cases - 2/13/20": 0,
         "cases - 2/14/20": 0,
         "cases - 2/15/20": 0,
         "cases - 2/16/20": 0,
         "cases - 2/17/20": 0,
         "cases - 2/18/20": 0,
         "cases - 2/19/20": 0,
         "cases - 2/2/20": 0,
         "cases - 2/20/20": 0,
         "cases - 2/21/20": 1,
         "cases - 2/22/20": 0,
         "cases - 2/23/20": 0,
         "cases - 2/24/20": 0,
         "cases - 2/25/20": 0,
         "cases - 2/26/20": 1,
         "cases - 2/27/20": 0,
         "cases - 2/28/20": 1,
         "cases - 2/29/20": 1,
         "cases - 2/3/20": 1,
         "cases - 2/4/20": 0,
         "cases - 2/5/20": 0,
         "cases - 2/6/20": 0,
         "cases - 2/7/20": 0,
         "cases - 2/8/20": 0,
         "cases - 2/9/20": 0,
         "cases - 3/1/20": 0,
         "cases - 3/10/20": 7,
         "cases - 3/11/20": 10,
         "cases - 3/12/20": 7,
         "cases - 3/13/20": 30,
         "cases - 3/14/20": 25,
         "cases - 3/15/20": 30,
         "cases - 3/16/20": 30,
         "cases - 3/17/20": 46,
         "cases - 3/18/20": 47,
         "cases - 3/19/20": 53,
         "cases - 3/2/20": 2,
         "cases - 3/20/20": 71,
         "cases - 3/21/20": 52,
         "cases - 3/22/20": 76,
         "cases - 3/23/20": 122,
         "cases - 3/24/20": 102,
         "cases - 3/25/20": 134,
         "cases - 3/26/20": 215,
         "cases - 3/27/20": 217,
         "cases - 3/28/20": 211,
         "cases - 3/29/20": 164,
         "cases - 3/3/20": 1,
         "cases - 3/30/20": 237,
         "cases - 3/31/20": 297,
         "cases - 3/4/20": 4,
         "cases - 3/5/20": 4,
         "cases - 3/6/20": 4,
         "cases - 3/7/20": 10,
         "cases - 3/8/20": 3,
         "cases - 3/9/20": 16,
         "cases - 4/1/20": 343,
         "cases - 4/10/20": 311,
         "cases - 4/11/20": 252,
         "cases - 4/12/20": 220,
         "cases - 4/13/20": 254,
         "cases - 4/14/20": 360,
         "cases - 4/15/20": 313,
         "cases - 4/16/20": 260,
         "cases - 4/17/20": 327,
         "cases - 4/18/20": 357,
         "cases - 4/19/20": 193,
         "cases - 4/2/20": 310,
         "cases - 4/20/20": 577,
         "cases - 4/21/20": 492,
         "cases - 4/22/20": 474,
         "cases - 4/23/20": 473,
         "cases - 4/24/20": 446,
         "cases - 4/25/20": 316,
         "cases - 4/26/20": 280,
         "cases - 4/27/20": 379,
         "cases - 4/28/20": 314,
         "cases - 4/29/20": 603,
         "cases - 4/3/20": 344,
         "cases - 4/30/20": 386,
         "cases - 4/4/20": 329,
         "cases - 4/5/20": 329,
         "cases - 4/6/20": 301,
         "cases - 4/7/20": 294,
         "cases - 4/8/20": 376,
         "cases - 4/9/20": 290,
         "cases - 5/1/20": 489,
         "cases - 5/10/20": 303,
         "cases - 5/11/20": 360,
         "cases - 5/12/20": 410,
         "cases - 5/13/20": 520,
         "cases - 5/14/20": 462,
         "cases - 5/15/20": 516,
         "cases - 5/16/20": 465,
         "cases - 5/17/20": 349,
         "cases - 5/18/20": 440,
         "cases - 5/19/20": 496,
         "cases - 5/2/20": 365,
         "cases - 5/20/20": 562,
         "cases - 5/21/20": 565,
         "cases - 5/22/20": 621,
         "cases - 5/23/20": 477,
         "cases - 5/24/20": 452,
         "cases - 5/25/20": 563,
         "cases - 5/26/20": 804,
         "cases - 5/27/20": 513,
         "cases - 5/28/20": 541,
         "cases - 5/29/20": 667,
         "cases - 5/3/20": 317,
         "cases - 5/30/20": 882,
         "cases - 5/31/20": 650,
         "cases - 5/4/20": 315,
         "cases - 5/5/20": 648,
         "cases - 5/6/20": 493,
         "cases - 5/7/20": 423,
         "cases - 5/8/20": 555,
         "cases - 5/9/20": 565,
         "cases - 6/1/20": 634,
         "cases - 6/10/20": 727,
         "cases - 6/11/20": 886,
         "cases - 6/12/20": 952,
         "cases - 6/13/20": 839,
         "cases - 6/14/20": 672,
         "cases - 6/15/20": 688,
         "cases - 6/16/20": 850,
         "cases - 6/17/20": 1083,
         "cases - 6/18/20": 953,
         "cases - 6/19/20": 908,
         "cases - 6/2/20": 586,
         "cases - 6/20/20": 948,
         "cases - 6/21/20": 827,
         "cases - 6/22/20": 1687,
         "cases - 6/23/20": 1580,
         "cases - 6/24/20": 1225,
         "cases - 6/25/20": 1265,
         "cases - 6/26/20": 1399,
         "cases - 6/27/20": 1009,
         "cases - 6/28/20": 1152,
         "cases - 6/29/20": 1910,
         "cases - 6/3/20": 588,
         "cases - 6/30/20": 2102,
         "cases - 6/4/20": 797,
         "cases - 6/5/20": 840,
         "cases - 6/6/20": 671,
         "cases - 6/7/20": 603,
         "cases - 6/8/20": 642,
         "cases - 6/9/20": 754,
         "cases - 7/1/20": 1683,
         "cases - 7/10/20": 2768,
         "cases - 7/11/20": 1797,
         "cases - 7/12/20": 1541,
         "cases - 7/13/20": 2293,
         "cases - 7/14/20": 2856,
         "cases - 7/15/20": 2142,
         "cases - 7/16/20": 2541,
         "cases - 7/17/20": 1727,
         "cases - 7/18/20": 2278,
         "cases - 7/19/20": 1484,
         "cases - 7/2/20": 2592,
         "cases - 7/20/20": 2936,
         "cases - 7/21/20": 2731,
         "cases - 7/22/20": 3085,
         "cases - 7/23/20": 2450,
         "cases - 7/24/20": 2311,
         "cases - 7/25/20": 2016,
         "cases - 7/26/20": 1131,
         "cases - 7/27/20": 2678,
         "cases - 7/28/20": 2545,
         "cases - 7/29/20": 2864,
         "cases - 7/3/20": 838,
         "cases - 7/30/20": 2418,
         "cases - 7/31/20": 2053,
         "cases - 7/4/20": 413,
         "cases - 7/5/20": 1031,
         "cases - 7/6/20": 4254,
         "cases - 7/7/20": 2640,
         "cases - 7/8/20": 1984,
         "cases - 7/9/20": 2269,
         "cases - 8/1/20": 1845,
         "cases - 8/10/20": 2751,
         "cases - 8/11/20": 3561,
         "cases - 8/12/20": 2300,
         "cases - 8/13/20": 2076,
         "cases - 8/14/20": 2650,
         "cases - 8/15/20": 1680,
         "cases - 8/16/20": 1145,
         "cases - 8/17/20": 2522,
         "cases - 8/18/20": 1561,
         "cases - 8/19/20": 1720,
         "cases - 8/2/20": 1218,
         "cases - 8/20/20": 1542,
         "cases - 8/21/20": 1740,
         "cases - 8/22/20": 1200,
         "cases - 8/23/20": 842,
         "cases - 8/24/20": 1980,
         "cases - 8/25/20": 1531,
         "cases - 8/26/20": 1338,
         "cases - 8/27/20": 1327,
         "cases - 8/28/20": 1168,
         "cases - 8/29/20": 1121,
         "cases - 8/3/20": 1982,
         "cases - 8/30/20": 681,
         "cases - 8/31/20": 1982,
         "cases - 8/4/20": 1469,
         "cases - 8/5/20": 1450,
         "cases - 8/6/20": 2047,
         "cases - 8/7/20": 2015,
         "cases - 8/8/20": 1539,
         "cases - 8/9/20": 1573,
         "cases - 9/1/20": 1076,
         "cases - 9/10/20": 570,
         "cases - 9/11/20": 1375,
         "cases - 9/12/20": 762,
         "cases - 9/13/20": 503,
         "cases - 9/14/20": 1262,
         "cases - 9/15/20": 735,
         "cases - 9/16/20": 743,
         "cases - 9/2/20": 1295,
         "cases - 9/3/20": 1080,
         "cases - 9/4/20": 1429,
         "cases - 9/5/20": 1047,
         "cases - 9/6/20": 556,
         "cases - 9/7/20": 607,
         "cases - 9/8/20": 784,
         "cases - 9/9/20": 1180
        },
        {
         "State": "CO",
         "cases - 1/22/20": 0,
         "cases - 1/23/20": 0,
         "cases - 1/24/20": 0,
         "cases - 1/25/20": 0,
         "cases - 1/26/20": 0,
         "cases - 1/27/20": 0,
         "cases - 1/28/20": 0,
         "cases - 1/29/20": 0,
         "cases - 1/30/20": 0,
         "cases - 1/31/20": 0,
         "cases - 2/1/20": 0,
         "cases - 2/10/20": 0,
         "cases - 2/11/20": 0,
         "cases - 2/12/20": 0,
         "cases - 2/13/20": 0,
         "cases - 2/14/20": 0,
         "cases - 2/15/20": 0,
         "cases - 2/16/20": 0,
         "cases - 2/17/20": 0,
         "cases - 2/18/20": 0,
         "cases - 2/19/20": 0,
         "cases - 2/2/20": 0,
         "cases - 2/20/20": 0,
         "cases - 2/21/20": 0,
         "cases - 2/22/20": 0,
         "cases - 2/23/20": 0,
         "cases - 2/24/20": 0,
         "cases - 2/25/20": 0,
         "cases - 2/26/20": 0,
         "cases - 2/27/20": 0,
         "cases - 2/28/20": 0,
         "cases - 2/29/20": 0,
         "cases - 2/3/20": 0,
         "cases - 2/4/20": 0,
         "cases - 2/5/20": 0,
         "cases - 2/6/20": 0,
         "cases - 2/7/20": 0,
         "cases - 2/8/20": 0,
         "cases - 2/9/20": 0,
         "cases - 3/1/20": 0,
         "cases - 3/10/20": 7,
         "cases - 3/11/20": 10,
         "cases - 3/12/20": 43,
         "cases - 3/13/20": 43,
         "cases - 3/14/20": 40,
         "cases - 3/15/20": 52,
         "cases - 3/16/20": 0,
         "cases - 3/17/20": 90,
         "cases - 3/18/20": 0,
         "cases - 3/19/20": 148,
         "cases - 3/2/20": 0,
         "cases - 3/20/20": 134,
         "cases - 3/21/20": 231,
         "cases - 3/22/20": 201,
         "cases - 3/23/20": 217,
         "cases - 3/24/20": 309,
         "cases - 3/25/20": 304,
         "cases - 3/26/20": 450,
         "cases - 3/27/20": 467,
         "cases - 3/28/20": 517,
         "cases - 3/29/20": 392,
         "cases - 3/3/20": 0,
         "cases - 3/30/20": 597,
         "cases - 3/31/20": 646,
         "cases - 3/4/20": 0,
         "cases - 3/5/20": 0,
         "cases - 3/6/20": 5,
         "cases - 3/7/20": 7,
         "cases - 3/8/20": 0,
         "cases - 3/9/20": 12,
         "cases - 4/1/20": 636,
         "cases - 4/10/20": 538,
         "cases - 4/11/20": 495,
         "cases - 4/12/20": 483,
         "cases - 4/13/20": 424,
         "cases - 4/14/20": 325,
         "cases - 4/15/20": 370,
         "cases - 4/16/20": 2079,
         "cases - 4/17/20": 677,
         "cases - 4/18/20": 655,
         "cases - 4/19/20": 457,
         "cases - 4/2/20": 656,
         "cases - 4/20/20": 634,
         "cases - 4/21/20": 627,
         "cases - 4/22/20": 766,
         "cases - 4/23/20": 646,
         "cases - 4/24/20": 1728,
         "cases - 4/25/20": 1188,
         "cases - 4/26/20": 747,
         "cases - 4/27/20": 755,
         "cases - 4/28/20": 776,
         "cases - 4/29/20": 797,
         "cases - 4/3/20": 755,
         "cases - 4/30/20": 877,
         "cases - 4/4/20": 589,
         "cases - 4/5/20": 587,
         "cases - 4/6/20": 354,
         "cases - 4/7/20": 488,
         "cases - 4/8/20": 417,
         "cases - 4/9/20": 778,
         "cases - 5/1/20": 802,
         "cases - 5/10/20": 491,
         "cases - 5/11/20": 429,
         "cases - 5/12/20": 571,
         "cases - 5/13/20": 575,
         "cases - 5/14/20": 655,
         "cases - 5/15/20": 702,
         "cases - 5/16/20": 667,
         "cases - 5/17/20": 516,
         "cases - 5/18/20": 476,
         "cases - 5/19/20": 507,
         "cases - 5/2/20": 752,
         "cases - 5/20/20": 554,
         "cases - 5/21/20": 622,
         "cases - 5/22/20": 528,
         "cases - 5/23/20": 759,
         "cases - 5/24/20": 354,
         "cases - 5/25/20": 353,
         "cases - 5/26/20": 511,
         "cases - 5/27/20": 389,
         "cases - 5/28/20": 615,
         "cases - 5/29/20": 853,
         "cases - 5/3/20": 667,
         "cases - 5/30/20": 844,
         "cases - 5/31/20": 486,
         "cases - 5/4/20": 490,
         "cases - 5/5/20": 887,
         "cases - 5/6/20": 853,
         "cases - 5/7/20": 959,
         "cases - 5/8/20": 814,
         "cases - 5/9/20": 877,
         "cases - 6/1/20": 346,
         "cases - 6/10/20": 264,
         "cases - 6/11/20": 257,
         "cases - 6/12/20": 306,
         "cases - 6/13/20": 340,
         "cases - 6/14/20": 194,
         "cases - 6/15/20": 293,
         "cases - 6/16/20": 231,
         "cases - 6/17/20": 418,
         "cases - 6/18/20": 398,
         "cases - 6/19/20": 497,
         "cases - 6/2/20": 361,
         "cases - 6/20/20": 281,
         "cases - 6/21/20": 326,
         "cases - 6/22/20": 290,
         "cases - 6/23/20": 326,
         "cases - 6/24/20": 455,
         "cases - 6/25/20": 564,
         "cases - 6/26/20": 550,
         "cases - 6/27/20": 394,
         "cases - 6/28/20": 488,
         "cases - 6/29/20": 358,
         "cases - 6/3/20": 474,
         "cases - 6/30/20": 353,
         "cases - 6/4/20": 523,
         "cases - 6/5/20": 445,
         "cases - 6/6/20": 401,
         "cases - 6/7/20": 266,
         "cases - 6/8/20": 311,
         "cases - 6/9/20": 285,
         "cases - 7/1/20": 544,
         "cases - 7/10/20": 1155,
         "cases - 7/11/20": 698,
         "cases - 7/12/20": 559,
         "cases - 7/13/20": 570,
         "cases - 7/14/20": 769,
         "cases - 7/15/20": 818,
         "cases - 7/16/20": 988,
         "cases - 7/17/20": 1077,
         "cases - 7/18/20": 766,
         "cases - 7/19/20": 606,
         "cases - 7/2/20": 566,
         "cases - 7/20/20": 735,
         "cases - 7/21/20": 846,
         "cases - 7/22/20": 1108,
         "cases - 7/23/20": 1092,
         "cases - 7/24/20": 1157,
         "cases - 7/25/20": 1398,
         "cases - 7/26/20": 953,
         "cases - 7/27/20": 405,
         "cases - 7/28/20": 1297,
         "cases - 7/29/20": 839,
         "cases - 7/3/20": 448,
         "cases - 7/30/20": 710,
         "cases - 7/31/20": 1049,
         "cases - 7/4/20": 441,
         "cases - 7/5/20": 346,
         "cases - 7/6/20": 333,
         "cases - 7/7/20": 708,
         "cases - 7/8/20": 785,
         "cases - 7/9/20": 708,
         "cases - 8/1/20": 797,
         "cases - 8/10/20": 658,
         "cases - 8/11/20": 696,
         "cases - 8/12/20": 540,
         "cases - 8/13/20": 809,
         "cases - 8/14/20": 552,
         "cases - 8/15/20": 523,
         "cases - 8/16/20": 585,
         "cases - 8/17/20": 333,
         "cases - 8/18/20": 453,
         "cases - 8/19/20": 478,
         "cases - 8/2/20": 778,
         "cases - 8/20/20": 570,
         "cases - 8/21/20": 620,
         "cases - 8/22/20": 517,
         "cases - 8/23/20": 450,
         "cases - 8/24/20": 344,
         "cases - 8/25/20": 761,
         "cases - 8/26/20": 366,
         "cases - 8/27/20": 611,
         "cases - 8/28/20": 745,
         "cases - 8/29/20": 469,
         "cases - 8/3/20": 439,
         "cases - 8/30/20": 316,
         "cases - 8/31/20": 346,
         "cases - 8/4/20": 740,
         "cases - 8/5/20": 1031,
         "cases - 8/6/20": 780,
         "cases - 8/7/20": 794,
         "cases - 8/8/20": 747,
         "cases - 8/9/20": 582,
         "cases - 9/1/20": 611,
         "cases - 9/10/20": 462,
         "cases - 9/11/20": 535,
         "cases - 9/12/20": 717,
         "cases - 9/13/20": 719,
         "cases - 9/14/20": 662,
         "cases - 9/15/20": 693,
         "cases - 9/16/20": 1021,
         "cases - 9/2/20": 420,
         "cases - 9/3/20": 462,
         "cases - 9/4/20": 643,
         "cases - 9/5/20": 0,
         "cases - 9/6/20": 577,
         "cases - 9/7/20": 865,
         "cases - 9/8/20": 328,
         "cases - 9/9/20": 427
        },
        {
         "State": "PA",
         "cases - 1/22/20": 0,
         "cases - 1/23/20": 0,
         "cases - 1/24/20": 0,
         "cases - 1/25/20": 0,
         "cases - 1/26/20": 0,
         "cases - 1/27/20": 0,
         "cases - 1/28/20": 0,
         "cases - 1/29/20": 0,
         "cases - 1/30/20": 0,
         "cases - 1/31/20": 0,
         "cases - 2/1/20": 0,
         "cases - 2/10/20": 0,
         "cases - 2/11/20": 0,
         "cases - 2/12/20": 0,
         "cases - 2/13/20": 0,
         "cases - 2/14/20": 0,
         "cases - 2/15/20": 0,
         "cases - 2/16/20": 0,
         "cases - 2/17/20": 0,
         "cases - 2/18/20": 0,
         "cases - 2/19/20": 0,
         "cases - 2/2/20": 0,
         "cases - 2/20/20": 0,
         "cases - 2/21/20": 0,
         "cases - 2/22/20": 0,
         "cases - 2/23/20": 0,
         "cases - 2/24/20": 0,
         "cases - 2/25/20": 0,
         "cases - 2/26/20": 0,
         "cases - 2/27/20": 0,
         "cases - 2/28/20": 0,
         "cases - 2/29/20": 0,
         "cases - 2/3/20": 0,
         "cases - 2/4/20": 0,
         "cases - 2/5/20": 0,
         "cases - 2/6/20": 0,
         "cases - 2/7/20": 0,
         "cases - 2/8/20": 0,
         "cases - 2/9/20": 0,
         "cases - 3/1/20": 0,
         "cases - 3/10/20": 2,
         "cases - 3/11/20": 4,
         "cases - 3/12/20": 2,
         "cases - 3/13/20": 15,
         "cases - 3/14/20": 5,
         "cases - 3/15/20": 14,
         "cases - 3/16/20": 8,
         "cases - 3/17/20": 16,
         "cases - 3/18/20": 29,
         "cases - 3/19/20": 41,
         "cases - 3/2/20": 0,
         "cases - 3/20/20": 66,
         "cases - 3/21/20": 80,
         "cases - 3/22/20": 84,
         "cases - 3/23/20": 130,
         "cases - 3/24/20": 162,
         "cases - 3/25/20": 269,
         "cases - 3/26/20": 384,
         "cases - 3/27/20": 414,
         "cases - 3/28/20": 416,
         "cases - 3/29/20": 503,
         "cases - 3/3/20": 0,
         "cases - 3/30/20": 537,
         "cases - 3/31/20": 592,
         "cases - 3/4/20": 0,
         "cases - 3/5/20": 0,
         "cases - 3/6/20": 2,
         "cases - 3/7/20": 0,
         "cases - 3/8/20": 3,
         "cases - 3/9/20": 5,
         "cases - 4/1/20": 755,
         "cases - 4/10/20": 1367,
         "cases - 4/11/20": 1310,
         "cases - 4/12/20": 920,
         "cases - 4/13/20": 1065,
         "cases - 4/14/20": 898,
         "cases - 4/15/20": 894,
         "cases - 4/16/20": 972,
         "cases - 4/17/20": 1332,
         "cases - 4/18/20": 1271,
         "cases - 4/19/20": 951,
         "cases - 4/2/20": 946,
         "cases - 4/20/20": 741,
         "cases - 4/21/20": 1008,
         "cases - 4/22/20": 904,
         "cases - 4/23/20": 1073,
         "cases - 4/24/20": 1249,
         "cases - 4/25/20": 1089,
         "cases - 4/26/20": 873,
         "cases - 4/27/20": 691,
         "cases - 4/28/20": 948,
         "cases - 4/29/20": 862,
         "cases - 4/3/20": 1097,
         "cases - 4/30/20": 1088,
         "cases - 4/4/20": 1247,
         "cases - 4/5/20": 1156,
         "cases - 4/6/20": 1154,
         "cases - 4/7/20": 1239,
         "cases - 4/8/20": 1312,
         "cases - 4/9/20": 1554,
         "cases - 5/1/20": 944,
         "cases - 5/10/20": 1010,
         "cases - 5/11/20": 425,
         "cases - 5/12/20": 652,
         "cases - 5/13/20": 562,
         "cases - 5/14/20": 733,
         "cases - 5/15/20": 773,
         "cases - 5/16/20": 772,
         "cases - 5/17/20": 487,
         "cases - 5/18/20": 638,
         "cases - 5/19/20": 481,
         "cases - 5/2/20": 1040,
         "cases - 5/20/20": 580,
         "cases - 5/21/20": 761,
         "cases - 5/22/20": 677,
         "cases - 5/23/20": 570,
         "cases - 5/24/20": 569,
         "cases - 5/25/20": 370,
         "cases - 5/26/20": 353,
         "cases - 5/27/20": 612,
         "cases - 5/28/20": 488,
         "cases - 5/29/20": 541,
         "cases - 5/3/20": 750,
         "cases - 5/30/20": 532,
         "cases - 5/31/20": 398,
         "cases - 5/4/20": 644,
         "cases - 5/5/20": 676,
         "cases - 5/6/20": 691,
         "cases - 5/7/20": 835,
         "cases - 5/8/20": 1033,
         "cases - 5/9/20": 842,
         "cases - 6/1/20": 278,
         "cases - 6/10/20": 319,
         "cases - 6/11/20": 366,
         "cases - 6/12/20": 536,
         "cases - 6/13/20": 362,
         "cases - 6/14/20": 262,
         "cases - 6/15/20": 248,
         "cases - 6/16/20": 283,
         "cases - 6/17/20": 266,
         "cases - 6/18/20": 326,
         "cases - 6/19/20": 410,
         "cases - 6/2/20": 476,
         "cases - 6/20/20": 394,
         "cases - 6/21/20": 363,
         "cases - 6/22/20": 356,
         "cases - 6/23/20": 398,
         "cases - 6/24/20": 387,
         "cases - 6/25/20": 452,
         "cases - 6/26/20": 468,
         "cases - 6/27/20": 485,
         "cases - 6/28/20": 387,
         "cases - 6/29/20": 391,
         "cases - 6/3/20": 402,
         "cases - 6/30/20": 483,
         "cases - 6/4/20": 415,
         "cases - 6/5/20": 352,
         "cases - 6/6/20": 548,
         "cases - 6/7/20": 393,
         "cases - 6/8/20": 276,
         "cases - 6/9/20": 385,
         "cases - 7/1/20": 497,
         "cases - 7/10/20": 789,
         "cases - 7/11/20": 634,
         "cases - 7/12/20": 451,
         "cases - 7/13/20": 371,
         "cases - 7/14/20": 726,
         "cases - 7/15/20": 777,
         "cases - 7/16/20": 610,
         "cases - 7/17/20": 805,
         "cases - 7/18/20": 597,
         "cases - 7/19/20": 614,
         "cases - 7/2/20": 650,
         "cases - 7/20/20": 555,
         "cases - 7/21/20": 800,
         "cases - 7/22/20": 494,
         "cases - 7/23/20": 753,
         "cases - 7/24/20": 948,
         "cases - 7/25/20": 823,
         "cases - 7/26/20": 623,
         "cases - 7/27/20": 655,
         "cases - 7/28/20": 869,
         "cases - 7/29/20": 648,
         "cases - 7/3/20": 521,
         "cases - 7/30/20": 683,
         "cases - 7/31/20": 757,
         "cases - 7/4/20": 494,
         "cases - 7/5/20": 377,
         "cases - 7/6/20": 352,
         "cases - 7/7/20": 777,
         "cases - 7/8/20": 663,
         "cases - 7/9/20": 561,
         "cases - 8/1/20": 696,
         "cases - 8/10/20": 469,
         "cases - 8/11/20": 646,
         "cases - 8/12/20": 663,
         "cases - 8/13/20": 775,
         "cases - 8/14/20": 648,
         "cases - 8/15/20": 662,
         "cases - 8/16/20": 517,
         "cases - 8/17/20": 301,
         "cases - 8/18/20": 573,
         "cases - 8/19/20": 446,
         "cases - 8/2/20": 511,
         "cases - 8/20/20": 618,
         "cases - 8/21/20": 541,
         "cases - 8/22/20": 623,
         "cases - 8/23/20": 482,
         "cases - 8/24/20": 333,
         "cases - 8/25/20": 439,
         "cases - 8/26/20": 392,
         "cases - 8/27/20": 483,
         "cases - 8/28/20": 648,
         "cases - 8/29/20": 658,
         "cases - 8/3/20": 441,
         "cases - 8/30/20": 528,
         "cases - 8/31/20": 408,
         "cases - 8/4/20": 667,
         "cases - 8/5/20": 551,
         "cases - 8/6/20": 630,
         "cases - 8/7/20": 592,
         "cases - 8/8/20": 634,
         "cases - 8/9/20": 594,
         "cases - 9/1/20": 601,
         "cases - 9/10/20": 461,
         "cases - 9/11/20": 787,
         "cases - 9/12/20": 718,
         "cases - 9/13/20": 59,
         "cases - 9/14/20": 925,
         "cases - 9/15/20": 898,
         "cases - 9/16/20": 608,
         "cases - 9/2/20": 635,
         "cases - 9/3/20": 909,
         "cases - 9/4/20": 696,
         "cases - 9/5/20": 751,
         "cases - 9/6/20": 540,
         "cases - 9/7/20": 423,
         "cases - 9/8/20": 390,
         "cases - 9/9/20": 729
        },
        {
         "State": "TN",
         "cases - 1/22/20": 0,
         "cases - 1/23/20": 0,
         "cases - 1/24/20": 0,
         "cases - 1/25/20": 0,
         "cases - 1/26/20": 0,
         "cases - 1/27/20": 0,
         "cases - 1/28/20": 0,
         "cases - 1/29/20": 0,
         "cases - 1/30/20": 0,
         "cases - 1/31/20": 0,
         "cases - 2/1/20": 0,
         "cases - 2/10/20": 0,
         "cases - 2/11/20": 0,
         "cases - 2/12/20": 0,
         "cases - 2/13/20": 0,
         "cases - 2/14/20": 0,
         "cases - 2/15/20": 0,
         "cases - 2/16/20": 0,
         "cases - 2/17/20": 0,
         "cases - 2/18/20": 0,
         "cases - 2/19/20": 0,
         "cases - 2/2/20": 0,
         "cases - 2/20/20": 0,
         "cases - 2/21/20": 0,
         "cases - 2/22/20": 0,
         "cases - 2/23/20": 0,
         "cases - 2/24/20": 0,
         "cases - 2/25/20": 0,
         "cases - 2/26/20": 0,
         "cases - 2/27/20": 0,
         "cases - 2/28/20": 0,
         "cases - 2/29/20": 0,
         "cases - 2/3/20": 0,
         "cases - 2/4/20": 0,
         "cases - 2/5/20": 0,
         "cases - 2/6/20": 0,
         "cases - 2/7/20": 0,
         "cases - 2/8/20": 0,
         "cases - 2/9/20": 0,
         "cases - 3/1/20": 0,
         "cases - 3/10/20": 6,
         "cases - 3/11/20": 1,
         "cases - 3/12/20": 13,
         "cases - 3/13/20": 1,
         "cases - 3/14/20": 21,
         "cases - 3/15/20": 10,
         "cases - 3/16/20": 19,
         "cases - 3/17/20": 31,
         "cases - 3/18/20": 37,
         "cases - 3/19/20": 42,
         "cases - 3/2/20": 0,
         "cases - 3/20/20": 88,
         "cases - 3/21/20": 163,
         "cases - 3/22/20": 129,
         "cases - 3/23/20": 114,
         "cases - 3/24/20": 103,
         "cases - 3/25/20": 95,
         "cases - 3/26/20": 187,
         "cases - 3/27/20": 236,
         "cases - 3/28/20": 253,
         "cases - 3/29/20": 306,
         "cases - 3/3/20": 0,
         "cases - 3/30/20": 395,
         "cases - 3/31/20": 294,
         "cases - 3/4/20": 0,
         "cases - 3/5/20": 1,
         "cases - 3/6/20": 0,
         "cases - 3/7/20": 0,
         "cases - 3/8/20": 3,
         "cases - 3/9/20": 0,
         "cases - 4/1/20": 373,
         "cases - 4/10/20": 398,
         "cases - 4/11/20": 329,
         "cases - 4/12/20": 344,
         "cases - 4/13/20": 360,
         "cases - 4/14/20": 190,
         "cases - 4/15/20": 303,
         "cases - 4/16/20": 245,
         "cases - 4/17/20": 701,
         "cases - 4/18/20": 262,
         "cases - 4/19/20": 356,
         "cases - 4/2/20": 780,
         "cases - 4/20/20": 293,
         "cases - 4/21/20": 272,
         "cases - 4/22/20": 611,
         "cases - 4/23/20": 618,
         "cases - 4/24/20": 756,
         "cases - 4/25/20": 568,
         "cases - 4/26/20": 677,
         "cases - 4/27/20": 423,
         "cases - 4/28/20": 265,
         "cases - 4/29/20": 474,
         "cases - 4/3/20": 433,
         "cases - 4/30/20": 523,
         "cases - 4/4/20": 312,
         "cases - 4/5/20": 354,
         "cases - 4/6/20": 236,
         "cases - 4/7/20": 507,
         "cases - 4/8/20": 384,
         "cases - 4/9/20": 395,
         "cases - 5/1/20": 1690,
         "cases - 5/10/20": 308,
         "cases - 5/11/20": 782,
         "cases - 5/12/20": 556,
         "cases - 5/13/20": 636,
         "cases - 5/14/20": 636,
         "cases - 5/15/20": 382,
         "cases - 5/16/20": 444,
         "cases - 5/17/20": 138,
         "cases - 5/18/20": 760,
         "cases - 5/19/20": 580,
         "cases - 5/2/20": 985,
         "cases - 5/20/20": 274,
         "cases - 5/21/20": 646,
         "cases - 5/22/20": 612,
         "cases - 5/23/20": 558,
         "cases - 5/24/20": 476,
         "cases - 5/25/20": 637,
         "cases - 5/26/20": 521,
         "cases - 5/27/20": 573,
         "cases - 5/28/20": 526,
         "cases - 5/29/20": 562,
         "cases - 5/3/20": 697,
         "cases - 5/30/20": 653,
         "cases - 5/31/20": 551,
         "cases - 5/4/20": 441,
         "cases - 5/5/20": 214,
         "cases - 5/6/20": 461,
         "cases - 5/7/20": 252,
         "cases - 5/8/20": 518,
         "cases - 5/9/20": 482,
         "cases - 6/1/20": 748,
         "cases - 6/10/20": 515,
         "cases - 6/11/20": 700,
         "cases - 6/12/20": 1128,
         "cases - 6/13/20": 614,
         "cases - 6/14/20": 1164,
         "cases - 6/15/20": 972,
         "cases - 6/16/20": 1098,
         "cases - 6/17/20": 532,
         "cases - 6/18/20": 955,
         "cases - 6/19/20": 1600,
         "cases - 6/2/20": 1040,
         "cases - 6/20/20": 704,
         "cases - 6/21/20": 780,
         "cases - 6/22/20": 663,
         "cases - 6/23/20": 1193,
         "cases - 6/24/20": 1246,
         "cases - 6/25/20": 1166,
         "cases - 6/26/20": 1775,
         "cases - 6/27/20": 1157,
         "cases - 6/28/20": 0,
         "cases - 6/29/20": 2696,
         "cases - 6/3/20": 637,
         "cases - 6/30/20": 1741,
         "cases - 6/4/20": 526,
         "cases - 6/5/20": 691,
         "cases - 6/6/20": 745,
         "cases - 6/7/20": 445,
         "cases - 6/8/20": 745,
         "cases - 6/9/20": 958,
         "cases - 7/1/20": 2428,
         "cases - 7/10/20": 2510,
         "cases - 7/11/20": 2183,
         "cases - 7/12/20": 1395,
         "cases - 7/13/20": 4217,
         "cases - 7/14/20": 2145,
         "cases - 7/15/20": 3268,
         "cases - 7/16/20": 3503,
         "cases - 7/17/20": 3163,
         "cases - 7/18/20": 3519,
         "cases - 7/19/20": 2321,
         "cases - 7/2/20": 2224,
         "cases - 7/20/20": 2141,
         "cases - 7/21/20": 3148,
         "cases - 7/22/20": 1551,
         "cases - 7/23/20": 3627,
         "cases - 7/24/20": 2959,
         "cases - 7/25/20": 2617,
         "cases - 7/26/20": 4008,
         "cases - 7/27/20": 3640,
         "cases - 7/28/20": 3549,
         "cases - 7/29/20": 2671,
         "cases - 7/3/20": 2481,
         "cases - 7/30/20": 3097,
         "cases - 7/31/20": 4311,
         "cases - 7/4/20": 1874,
         "cases - 7/5/20": 1694,
         "cases - 7/6/20": 1037,
         "cases - 7/7/20": 2170,
         "cases - 7/8/20": 3280,
         "cases - 7/9/20": 2299,
         "cases - 8/1/20": 3378,
         "cases - 8/10/20": 1747,
         "cases - 8/11/20": 1502,
         "cases - 8/12/20": 2218,
         "cases - 8/13/20": 2880,
         "cases - 8/14/20": 2930,
         "cases - 8/15/20": 1986,
         "cases - 8/16/20": 2573,
         "cases - 8/17/20": 1624,
         "cases - 8/18/20": 1598,
         "cases - 8/19/20": 2913,
         "cases - 8/2/20": 1912,
         "cases - 8/20/20": 2117,
         "cases - 8/21/20": 2352,
         "cases - 8/22/20": 1974,
         "cases - 8/23/20": 2450,
         "cases - 8/24/20": 994,
         "cases - 8/25/20": 1211,
         "cases - 8/26/20": 2769,
         "cases - 8/27/20": 2609,
         "cases - 8/28/20": 2343,
         "cases - 8/29/20": 2173,
         "cases - 8/3/20": 1504,
         "cases - 8/30/20": 1163,
         "cases - 8/31/20": 2609,
         "cases - 8/4/20": 2633,
         "cases - 8/5/20": 2463,
         "cases - 8/6/20": 3082,
         "cases - 8/7/20": 3481,
         "cases - 8/8/20": 2543,
         "cases - 8/9/20": 2968,
         "cases - 9/1/20": 1978,
         "cases - 9/10/20": 4189,
         "cases - 9/11/20": 2353,
         "cases - 9/12/20": 1545,
         "cases - 9/13/20": 1214,
         "cases - 9/14/20": 3327,
         "cases - 9/15/20": 1372,
         "cases - 9/16/20": 2779,
         "cases - 9/2/20": 1986,
         "cases - 9/3/20": 2956,
         "cases - 9/4/20": 1502,
         "cases - 9/5/20": 2645,
         "cases - 9/6/20": 2445,
         "cases - 9/7/20": 1354,
         "cases - 9/8/20": 917,
         "cases - 9/9/20": 1242
        },
        {
         "State": "TX",
         "cases - 1/22/20": 0,
         "cases - 1/23/20": 0,
         "cases - 1/24/20": 0,
         "cases - 1/25/20": 0,
         "cases - 1/26/20": 0,
         "cases - 1/27/20": 0,
         "cases - 1/28/20": 0,
         "cases - 1/29/20": 0,
         "cases - 1/30/20": 0,
         "cases - 1/31/20": 0,
         "cases - 2/1/20": 0,
         "cases - 2/10/20": 0,
         "cases - 2/11/20": 0,
         "cases - 2/12/20": 0,
         "cases - 2/13/20": 0,
         "cases - 2/14/20": 0,
         "cases - 2/15/20": 0,
         "cases - 2/16/20": 0,
         "cases - 2/17/20": 0,
         "cases - 2/18/20": 0,
         "cases - 2/19/20": 0,
         "cases - 2/2/20": 0,
         "cases - 2/20/20": 0,
         "cases - 2/21/20": 0,
         "cases - 2/22/20": 0,
         "cases - 2/23/20": 0,
         "cases - 2/24/20": 0,
         "cases - 2/25/20": 0,
         "cases - 2/26/20": 0,
         "cases - 2/27/20": 0,
         "cases - 2/28/20": 0,
         "cases - 2/29/20": 0,
         "cases - 2/3/20": 0,
         "cases - 2/4/20": 0,
         "cases - 2/5/20": 0,
         "cases - 2/6/20": 0,
         "cases - 2/7/20": 0,
         "cases - 2/8/20": 0,
         "cases - 2/9/20": 0,
         "cases - 3/1/20": 0,
         "cases - 3/10/20": 2,
         "cases - 3/11/20": 0,
         "cases - 3/12/20": 1,
         "cases - 3/13/20": 5,
         "cases - 3/14/20": 5,
         "cases - 3/15/20": 2,
         "cases - 3/16/20": 0,
         "cases - 3/17/20": 5,
         "cases - 3/18/20": 11,
         "cases - 3/19/20": 31,
         "cases - 3/2/20": 0,
         "cases - 3/20/20": 31,
         "cases - 3/21/20": 12,
         "cases - 3/22/20": 16,
         "cases - 3/23/20": 116,
         "cases - 3/24/20": 66,
         "cases - 3/25/20": 109,
         "cases - 3/26/20": 126,
         "cases - 3/27/20": 117,
         "cases - 3/28/20": 107,
         "cases - 3/29/20": 151,
         "cases - 3/3/20": 0,
         "cases - 3/30/20": 146,
         "cases - 3/31/20": 179,
         "cases - 3/4/20": 0,
         "cases - 3/5/20": 1,
         "cases - 3/6/20": 0,
         "cases - 3/7/20": 1,
         "cases - 3/8/20": 1,
         "cases - 3/9/20": 2,
         "cases - 4/1/20": 229,
         "cases - 4/10/20": 507,
         "cases - 4/11/20": 318,
         "cases - 4/12/20": 268,
         "cases - 4/13/20": 165,
         "cases - 4/14/20": 141,
         "cases - 4/15/20": 447,
         "cases - 4/16/20": 317,
         "cases - 4/17/20": 318,
         "cases - 4/18/20": 172,
         "cases - 4/19/20": 290,
         "cases - 4/2/20": 237,
         "cases - 4/20/20": 123,
         "cases - 4/21/20": 254,
         "cases - 4/22/20": 300,
         "cases - 4/23/20": 303,
         "cases - 4/24/20": 297,
         "cases - 4/25/20": 333,
         "cases - 4/26/20": 293,
         "cases - 4/27/20": 227,
         "cases - 4/28/20": 288,
         "cases - 4/29/20": 297,
         "cases - 4/3/20": 259,
         "cases - 4/30/20": 351,
         "cases - 4/4/20": 227,
         "cases - 4/5/20": 222,
         "cases - 4/6/20": 199,
         "cases - 4/7/20": 369,
         "cases - 4/8/20": 367,
         "cases - 4/9/20": 291,
         "cases - 5/1/20": 387,
         "cases - 5/10/20": 340,
         "cases - 5/11/20": 345,
         "cases - 5/12/20": 405,
         "cases - 5/13/20": 461,
         "cases - 5/14/20": 491,
         "cases - 5/15/20": 461,
         "cases - 5/16/20": 620,
         "cases - 5/17/20": 268,
         "cases - 5/18/20": 307,
         "cases - 5/19/20": 412,
         "cases - 5/2/20": 442,
         "cases - 5/20/20": 436,
         "cases - 5/21/20": 360,
         "cases - 5/22/20": 458,
         "cases - 5/23/20": 365,
         "cases - 5/24/20": 290,
         "cases - 5/25/20": 215,
         "cases - 5/26/20": 217,
         "cases - 5/27/20": 469,
         "cases - 5/28/20": 639,
         "cases - 5/29/20": 417,
         "cases - 5/3/20": 345,
         "cases - 5/30/20": 466,
         "cases - 5/31/20": 673,
         "cases - 5/4/20": 271,
         "cases - 5/5/20": 357,
         "cases - 5/6/20": 356,
         "cases - 5/7/20": 392,
         "cases - 5/8/20": 422,
         "cases - 5/9/20": 431,
         "cases - 6/1/20": 204,
         "cases - 6/10/20": 844,
         "cases - 6/11/20": 626,
         "cases - 6/12/20": 721,
         "cases - 6/13/20": 806,
         "cases - 6/14/20": 661,
         "cases - 6/15/20": 436,
         "cases - 6/16/20": 1316,
         "cases - 6/17/20": 1083,
         "cases - 6/18/20": 1210,
         "cases - 6/19/20": 1197,
         "cases - 6/2/20": 565,
         "cases - 6/20/20": 1514,
         "cases - 6/21/20": 1333,
         "cases - 6/22/20": 1131,
         "cases - 6/23/20": 1907,
         "cases - 6/24/20": 1914,
         "cases - 6/25/20": 2060,
         "cases - 6/26/20": 1971,
         "cases - 6/27/20": 1980,
         "cases - 6/28/20": 1850,
         "cases - 6/29/20": 1477,
         "cases - 6/3/20": 577,
         "cases - 6/30/20": 2398,
         "cases - 6/4/20": 557,
         "cases - 6/5/20": 583,
         "cases - 6/6/20": 668,
         "cases - 6/7/20": 491,
         "cases - 6/8/20": 225,
         "cases - 6/9/20": 670,
         "cases - 7/1/20": 2789,
         "cases - 7/10/20": 3304,
         "cases - 7/11/20": 3252,
         "cases - 7/12/20": 2644,
         "cases - 7/13/20": 1774,
         "cases - 7/14/20": 3509,
         "cases - 7/15/20": 3462,
         "cases - 7/16/20": 6708,
         "cases - 7/17/20": 3402,
         "cases - 7/18/20": 3801,
         "cases - 7/19/20": 2976,
         "cases - 7/2/20": 2730,
         "cases - 7/20/20": 2042,
         "cases - 7/21/20": 3618,
         "cases - 7/22/20": 3270,
         "cases - 7/23/20": 3302,
         "cases - 7/24/20": 2956,
         "cases - 7/25/20": 2223,
         "cases - 7/26/20": 1934,
         "cases - 7/27/20": 1523,
         "cases - 7/28/20": 3397,
         "cases - 7/29/20": 3018,
         "cases - 7/3/20": 2604,
         "cases - 7/30/20": 3254,
         "cases - 7/31/20": 2882,
         "cases - 7/4/20": 2850,
         "cases - 7/5/20": 1187,
         "cases - 7/6/20": 1834,
         "cases - 7/7/20": 3456,
         "cases - 7/8/20": 3440,
         "cases - 7/9/20": 3376,
         "cases - 8/1/20": 3261,
         "cases - 8/10/20": 1539,
         "cases - 8/11/20": 3412,
         "cases - 8/12/20": 2192,
         "cases - 8/13/20": 2335,
         "cases - 8/14/20": 2373,
         "cases - 8/15/20": 2894,
         "cases - 8/16/20": 2117,
         "cases - 8/17/20": 2736,
         "cases - 8/18/20": 2536,
         "cases - 8/19/20": 2397,
         "cases - 8/2/20": 0,
         "cases - 8/20/20": 1898,
         "cases - 8/21/20": 1698,
         "cases - 8/22/20": 2095,
         "cases - 8/23/20": 1403,
         "cases - 8/24/20": 992,
         "cases - 8/25/20": 2104,
         "cases - 8/26/20": 1814,
         "cases - 8/27/20": 1973,
         "cases - 8/28/20": 1393,
         "cases - 8/29/20": 1585,
         "cases - 8/3/20": 3912,
         "cases - 8/30/20": 1290,
         "cases - 8/31/20": 1001,
         "cases - 8/4/20": 3190,
         "cases - 8/5/20": 3089,
         "cases - 8/6/20": 2650,
         "cases - 8/7/20": 2475,
         "cases - 8/8/20": 2426,
         "cases - 8/9/20": 1727,
         "cases - 9/1/20": 1587,
         "cases - 9/10/20": 1385,
         "cases - 9/11/20": 1205,
         "cases - 9/12/20": 1528,
         "cases - 9/13/20": 1208,
         "cases - 9/14/20": 886,
         "cases - 9/15/20": 1846,
         "cases - 9/16/20": 2115,
         "cases - 9/2/20": 1537,
         "cases - 9/3/20": 1333,
         "cases - 9/4/20": 1868,
         "cases - 9/5/20": 1453,
         "cases - 9/6/20": 1075,
         "cases - 9/7/20": 641,
         "cases - 9/8/20": 557,
         "cases - 9/9/20": 1526
        },
        {
         "State": "WA",
         "cases - 1/22/20": 1,
         "cases - 1/23/20": 0,
         "cases - 1/24/20": 0,
         "cases - 1/25/20": 0,
         "cases - 1/26/20": 0,
         "cases - 1/27/20": 0,
         "cases - 1/28/20": 0,
         "cases - 1/29/20": 0,
         "cases - 1/30/20": 0,
         "cases - 1/31/20": 0,
         "cases - 2/1/20": 0,
         "cases - 2/10/20": 0,
         "cases - 2/11/20": 0,
         "cases - 2/12/20": 0,
         "cases - 2/13/20": 0,
         "cases - 2/14/20": 0,
         "cases - 2/15/20": 0,
         "cases - 2/16/20": 0,
         "cases - 2/17/20": 0,
         "cases - 2/18/20": 0,
         "cases - 2/19/20": 0,
         "cases - 2/2/20": 0,
         "cases - 2/20/20": 0,
         "cases - 2/21/20": 0,
         "cases - 2/22/20": 0,
         "cases - 2/23/20": 0,
         "cases - 2/24/20": 0,
         "cases - 2/25/20": 0,
         "cases - 2/26/20": 0,
         "cases - 2/27/20": 0,
         "cases - 2/28/20": 0,
         "cases - 2/29/20": 8,
         "cases - 2/3/20": 0,
         "cases - 2/4/20": 0,
         "cases - 2/5/20": 0,
         "cases - 2/6/20": 0,
         "cases - 2/7/20": 0,
         "cases - 2/8/20": 0,
         "cases - 2/9/20": 0,
         "cases - 3/1/20": 5,
         "cases - 3/10/20": 135,
         "cases - 3/11/20": 84,
         "cases - 3/12/20": 108,
         "cases - 3/13/20": 118,
         "cases - 3/14/20": 134,
         "cases - 3/15/20": 81,
         "cases - 3/16/20": 151,
         "cases - 3/17/20": 205,
         "cases - 3/18/20": 110,
         "cases - 3/19/20": 269,
         "cases - 3/2/20": 9,
         "cases - 3/20/20": 218,
         "cases - 3/21/20": 331,
         "cases - 3/22/20": 247,
         "cases - 3/23/20": 359,
         "cases - 3/24/20": 376,
         "cases - 3/25/20": 251,
         "cases - 3/26/20": 730,
         "cases - 3/27/20": 756,
         "cases - 3/28/20": 546,
         "cases - 3/29/20": 499,
         "cases - 3/3/20": 12,
         "cases - 3/30/20": 680,
         "cases - 3/31/20": 326,
         "cases - 3/4/20": 16,
         "cases - 3/5/20": 41,
         "cases - 3/6/20": 11,
         "cases - 3/7/20": 32,
         "cases - 3/8/20": 26,
         "cases - 3/9/20": 53,
         "cases - 4/1/20": 416,
         "cases - 4/10/20": 445,
         "cases - 4/11/20": 554,
         "cases - 4/12/20": 437,
         "cases - 4/13/20": 343,
         "cases - 4/14/20": 336,
         "cases - 4/15/20": 255,
         "cases - 4/16/20": 410,
         "cases - 4/17/20": 244,
         "cases - 4/18/20": 478,
         "cases - 4/19/20": 349,
         "cases - 4/2/20": 402,
         "cases - 4/20/20": 398,
         "cases - 4/21/20": 295,
         "cases - 4/22/20": 267,
         "cases - 4/23/20": 337,
         "cases - 4/24/20": 340,
         "cases - 4/25/20": 397,
         "cases - 4/26/20": 286,
         "cases - 4/27/20": 244,
         "cases - 4/28/20": 235,
         "cases - 4/29/20": 305,
         "cases - 4/3/20": 280,
         "cases - 4/30/20": 357,
         "cases - 4/4/20": 431,
         "cases - 4/5/20": 735,
         "cases - 4/6/20": 418,
         "cases - 4/7/20": 590,
         "cases - 4/8/20": 643,
         "cases - 4/9/20": 579,
         "cases - 5/1/20": 382,
         "cases - 5/10/20": 307,
         "cases - 5/11/20": 305,
         "cases - 5/12/20": 246,
         "cases - 5/13/20": 219,
         "cases - 5/14/20": 295,
         "cases - 5/15/20": 215,
         "cases - 5/16/20": 460,
         "cases - 5/17/20": 204,
         "cases - 5/18/20": 294,
         "cases - 5/19/20": 265,
         "cases - 5/2/20": 452,
         "cases - 5/20/20": 217,
         "cases - 5/21/20": 168,
         "cases - 5/22/20": 205,
         "cases - 5/23/20": 427,
         "cases - 5/24/20": 295,
         "cases - 5/25/20": 324,
         "cases - 5/26/20": 171,
         "cases - 5/27/20": 292,
         "cases - 5/28/20": 466,
         "cases - 5/29/20": 397,
         "cases - 5/3/20": 285,
         "cases - 5/30/20": 361,
         "cases - 5/31/20": 456,
         "cases - 5/4/20": 380,
         "cases - 5/5/20": 196,
         "cases - 5/6/20": 377,
         "cases - 5/7/20": 439,
         "cases - 5/8/20": 185,
         "cases - 5/9/20": 391,
         "cases - 6/1/20": 352,
         "cases - 6/10/20": 361,
         "cases - 6/11/20": 205,
         "cases - 6/12/20": 496,
         "cases - 6/13/20": 483,
         "cases - 6/14/20": 366,
         "cases - 6/15/20": 372,
         "cases - 6/16/20": 546,
         "cases - 6/17/20": 362,
         "cases - 6/18/20": 494,
         "cases - 6/19/20": 577,
         "cases - 6/2/20": 298,
         "cases - 6/20/20": 767,
         "cases - 6/21/20": 637,
         "cases - 6/22/20": 247,
         "cases - 6/23/20": 678,
         "cases - 6/24/20": 624,
         "cases - 6/25/20": 649,
         "cases - 6/26/20": 642,
         "cases - 6/27/20": 716,
         "cases - 6/28/20": 458,
         "cases - 6/29/20": 582,
         "cases - 6/3/20": 427,
         "cases - 6/30/20": 791,
         "cases - 6/4/20": 311,
         "cases - 6/5/20": 370,
         "cases - 6/6/20": 583,
         "cases - 6/7/20": 368,
         "cases - 6/8/20": 412,
         "cases - 6/9/20": 418,
         "cases - 7/1/20": 682,
         "cases - 7/10/20": 871,
         "cases - 7/11/20": 0,
         "cases - 7/12/20": 1865,
         "cases - 7/13/20": 1401,
         "cases - 7/14/20": 755,
         "cases - 7/15/20": 995,
         "cases - 7/16/20": 1567,
         "cases - 7/17/20": 1142,
         "cases - 7/18/20": 1262,
         "cases - 7/19/20": 1166,
         "cases - 7/2/20": 1049,
         "cases - 7/20/20": 1048,
         "cases - 7/21/20": 1001,
         "cases - 7/22/20": 930,
         "cases - 7/23/20": 972,
         "cases - 7/24/20": 1106,
         "cases - 7/25/20": 1318,
         "cases - 7/26/20": 1024,
         "cases - 7/27/20": 896,
         "cases - 7/28/20": 1188,
         "cases - 7/29/20": 1027,
         "cases - 7/3/20": 781,
         "cases - 7/30/20": 1027,
         "cases - 7/31/20": 0,
         "cases - 7/4/20": 662,
         "cases - 7/5/20": 783,
         "cases - 7/6/20": 1367,
         "cases - 7/7/20": 658,
         "cases - 7/8/20": 662,
         "cases - 7/9/20": 830,
         "cases - 8/1/20": 2240,
         "cases - 8/10/20": 767,
         "cases - 8/11/20": 651,
         "cases - 8/12/20": 728,
         "cases - 8/13/20": 833,
         "cases - 8/14/20": 1041,
         "cases - 8/15/20": 935,
         "cases - 8/16/20": 752,
         "cases - 8/17/20": 380,
         "cases - 8/18/20": 700,
         "cases - 8/19/20": 588,
         "cases - 8/2/20": 907,
         "cases - 8/20/20": 906,
         "cases - 8/21/20": 487,
         "cases - 8/22/20": 1052,
         "cases - 8/23/20": 555,
         "cases - 8/24/20": 477,
         "cases - 8/25/20": 431,
         "cases - 8/26/20": 592,
         "cases - 8/27/20": 714,
         "cases - 8/28/20": 783,
         "cases - 8/29/20": 749,
         "cases - 8/3/20": 675,
         "cases - 8/30/20": 558,
         "cases - 8/31/20": 423,
         "cases - 8/4/20": 898,
         "cases - 8/5/20": 890,
         "cases - 8/6/20": 1095,
         "cases - 8/7/20": 914,
         "cases - 8/8/20": 0,
         "cases - 8/9/20": 1892,
         "cases - 9/1/20": 402,
         "cases - 9/10/20": 599,
         "cases - 9/11/20": 735,
         "cases - 9/12/20": 608,
         "cases - 9/13/20": 461,
         "cases - 9/14/20": 410,
         "cases - 9/15/20": 435,
         "cases - 9/16/20": 443,
         "cases - 9/2/20": 554,
         "cases - 9/3/20": 632,
         "cases - 9/4/20": 621,
         "cases - 9/5/20": 653,
         "cases - 9/6/20": 500,
         "cases - 9/7/20": 415,
         "cases - 9/8/20": 0,
         "cases - 9/9/20": 621
        }
       ],
       "schema": {
        "fields": [
         {
          "name": "State",
          "type": "string"
         },
         {
          "name": "cases - 1/22/20",
          "type": "integer"
         },
         {
          "name": "cases - 1/23/20",
          "type": "integer"
         },
         {
          "name": "cases - 1/24/20",
          "type": "integer"
         },
         {
          "name": "cases - 1/25/20",
          "type": "integer"
         },
         {
          "name": "cases - 1/26/20",
          "type": "integer"
         },
         {
          "name": "cases - 1/27/20",
          "type": "integer"
         },
         {
          "name": "cases - 1/28/20",
          "type": "integer"
         },
         {
          "name": "cases - 1/29/20",
          "type": "integer"
         },
         {
          "name": "cases - 1/30/20",
          "type": "integer"
         },
         {
          "name": "cases - 1/31/20",
          "type": "integer"
         },
         {
          "name": "cases - 2/1/20",
          "type": "integer"
         },
         {
          "name": "cases - 2/2/20",
          "type": "integer"
         },
         {
          "name": "cases - 2/3/20",
          "type": "integer"
         },
         {
          "name": "cases - 2/4/20",
          "type": "integer"
         },
         {
          "name": "cases - 2/5/20",
          "type": "integer"
         },
         {
          "name": "cases - 2/6/20",
          "type": "integer"
         },
         {
          "name": "cases - 2/7/20",
          "type": "integer"
         },
         {
          "name": "cases - 2/8/20",
          "type": "integer"
         },
         {
          "name": "cases - 2/9/20",
          "type": "integer"
         },
         {
          "name": "cases - 2/10/20",
          "type": "integer"
         },
         {
          "name": "cases - 2/11/20",
          "type": "integer"
         },
         {
          "name": "cases - 2/12/20",
          "type": "integer"
         },
         {
          "name": "cases - 2/13/20",
          "type": "integer"
         },
         {
          "name": "cases - 2/14/20",
          "type": "integer"
         },
         {
          "name": "cases - 2/15/20",
          "type": "integer"
         },
         {
          "name": "cases - 2/16/20",
          "type": "integer"
         },
         {
          "name": "cases - 2/17/20",
          "type": "integer"
         },
         {
          "name": "cases - 2/18/20",
          "type": "integer"
         },
         {
          "name": "cases - 2/19/20",
          "type": "integer"
         },
         {
          "name": "cases - 2/20/20",
          "type": "integer"
         },
         {
          "name": "cases - 2/21/20",
          "type": "integer"
         },
         {
          "name": "cases - 2/22/20",
          "type": "integer"
         },
         {
          "name": "cases - 2/23/20",
          "type": "integer"
         },
         {
          "name": "cases - 2/24/20",
          "type": "integer"
         },
         {
          "name": "cases - 2/25/20",
          "type": "integer"
         },
         {
          "name": "cases - 2/26/20",
          "type": "integer"
         },
         {
          "name": "cases - 2/27/20",
          "type": "integer"
         },
         {
          "name": "cases - 2/28/20",
          "type": "integer"
         },
         {
          "name": "cases - 2/29/20",
          "type": "integer"
         },
         {
          "name": "cases - 3/1/20",
          "type": "integer"
         },
         {
          "name": "cases - 3/2/20",
          "type": "integer"
         },
         {
          "name": "cases - 3/3/20",
          "type": "integer"
         },
         {
          "name": "cases - 3/4/20",
          "type": "integer"
         },
         {
          "name": "cases - 3/5/20",
          "type": "integer"
         },
         {
          "name": "cases - 3/6/20",
          "type": "integer"
         },
         {
          "name": "cases - 3/7/20",
          "type": "integer"
         },
         {
          "name": "cases - 3/8/20",
          "type": "integer"
         },
         {
          "name": "cases - 3/9/20",
          "type": "integer"
         },
         {
          "name": "cases - 3/10/20",
          "type": "integer"
         },
         {
          "name": "cases - 3/11/20",
          "type": "integer"
         },
         {
          "name": "cases - 3/12/20",
          "type": "integer"
         },
         {
          "name": "cases - 3/13/20",
          "type": "integer"
         },
         {
          "name": "cases - 3/14/20",
          "type": "integer"
         },
         {
          "name": "cases - 3/15/20",
          "type": "integer"
         },
         {
          "name": "cases - 3/16/20",
          "type": "integer"
         },
         {
          "name": "cases - 3/17/20",
          "type": "integer"
         },
         {
          "name": "cases - 3/18/20",
          "type": "integer"
         },
         {
          "name": "cases - 3/19/20",
          "type": "integer"
         },
         {
          "name": "cases - 3/20/20",
          "type": "integer"
         },
         {
          "name": "cases - 3/21/20",
          "type": "integer"
         },
         {
          "name": "cases - 3/22/20",
          "type": "integer"
         },
         {
          "name": "cases - 3/23/20",
          "type": "integer"
         },
         {
          "name": "cases - 3/24/20",
          "type": "integer"
         },
         {
          "name": "cases - 3/25/20",
          "type": "integer"
         },
         {
          "name": "cases - 3/26/20",
          "type": "integer"
         },
         {
          "name": "cases - 3/27/20",
          "type": "integer"
         },
         {
          "name": "cases - 3/28/20",
          "type": "integer"
         },
         {
          "name": "cases - 3/29/20",
          "type": "integer"
         },
         {
          "name": "cases - 3/30/20",
          "type": "integer"
         },
         {
          "name": "cases - 3/31/20",
          "type": "integer"
         },
         {
          "name": "cases - 4/1/20",
          "type": "integer"
         },
         {
          "name": "cases - 4/2/20",
          "type": "integer"
         },
         {
          "name": "cases - 4/3/20",
          "type": "integer"
         },
         {
          "name": "cases - 4/4/20",
          "type": "integer"
         },
         {
          "name": "cases - 4/5/20",
          "type": "integer"
         },
         {
          "name": "cases - 4/6/20",
          "type": "integer"
         },
         {
          "name": "cases - 4/7/20",
          "type": "integer"
         },
         {
          "name": "cases - 4/8/20",
          "type": "integer"
         },
         {
          "name": "cases - 4/9/20",
          "type": "integer"
         },
         {
          "name": "cases - 4/10/20",
          "type": "integer"
         },
         {
          "name": "cases - 4/11/20",
          "type": "integer"
         },
         {
          "name": "cases - 4/12/20",
          "type": "integer"
         },
         {
          "name": "cases - 4/13/20",
          "type": "integer"
         },
         {
          "name": "cases - 4/14/20",
          "type": "integer"
         },
         {
          "name": "cases - 4/15/20",
          "type": "integer"
         },
         {
          "name": "cases - 4/16/20",
          "type": "integer"
         },
         {
          "name": "cases - 4/17/20",
          "type": "integer"
         },
         {
          "name": "cases - 4/18/20",
          "type": "integer"
         },
         {
          "name": "cases - 4/19/20",
          "type": "integer"
         },
         {
          "name": "cases - 4/20/20",
          "type": "integer"
         },
         {
          "name": "cases - 4/21/20",
          "type": "integer"
         },
         {
          "name": "cases - 4/22/20",
          "type": "integer"
         },
         {
          "name": "cases - 4/23/20",
          "type": "integer"
         },
         {
          "name": "cases - 4/24/20",
          "type": "integer"
         },
         {
          "name": "cases - 4/25/20",
          "type": "integer"
         },
         {
          "name": "cases - 4/26/20",
          "type": "integer"
         },
         {
          "name": "cases - 4/27/20",
          "type": "integer"
         },
         {
          "name": "cases - 4/28/20",
          "type": "integer"
         },
         {
          "name": "cases - 4/29/20",
          "type": "integer"
         },
         {
          "name": "cases - 4/30/20",
          "type": "integer"
         },
         {
          "name": "cases - 5/1/20",
          "type": "integer"
         },
         {
          "name": "cases - 5/2/20",
          "type": "integer"
         },
         {
          "name": "cases - 5/3/20",
          "type": "integer"
         },
         {
          "name": "cases - 5/4/20",
          "type": "integer"
         },
         {
          "name": "cases - 5/5/20",
          "type": "integer"
         },
         {
          "name": "cases - 5/6/20",
          "type": "integer"
         },
         {
          "name": "cases - 5/7/20",
          "type": "integer"
         },
         {
          "name": "cases - 5/8/20",
          "type": "integer"
         },
         {
          "name": "cases - 5/9/20",
          "type": "integer"
         },
         {
          "name": "cases - 5/10/20",
          "type": "integer"
         },
         {
          "name": "cases - 5/11/20",
          "type": "integer"
         },
         {
          "name": "cases - 5/12/20",
          "type": "integer"
         },
         {
          "name": "cases - 5/13/20",
          "type": "integer"
         },
         {
          "name": "cases - 5/14/20",
          "type": "integer"
         },
         {
          "name": "cases - 5/15/20",
          "type": "integer"
         },
         {
          "name": "cases - 5/16/20",
          "type": "integer"
         },
         {
          "name": "cases - 5/17/20",
          "type": "integer"
         },
         {
          "name": "cases - 5/18/20",
          "type": "integer"
         },
         {
          "name": "cases - 5/19/20",
          "type": "integer"
         },
         {
          "name": "cases - 5/20/20",
          "type": "integer"
         },
         {
          "name": "cases - 5/21/20",
          "type": "integer"
         },
         {
          "name": "cases - 5/22/20",
          "type": "integer"
         },
         {
          "name": "cases - 5/23/20",
          "type": "integer"
         },
         {
          "name": "cases - 5/24/20",
          "type": "integer"
         },
         {
          "name": "cases - 5/25/20",
          "type": "integer"
         },
         {
          "name": "cases - 5/26/20",
          "type": "integer"
         },
         {
          "name": "cases - 5/27/20",
          "type": "integer"
         },
         {
          "name": "cases - 5/28/20",
          "type": "integer"
         },
         {
          "name": "cases - 5/29/20",
          "type": "integer"
         },
         {
          "name": "cases - 5/30/20",
          "type": "integer"
         },
         {
          "name": "cases - 5/31/20",
          "type": "integer"
         },
         {
          "name": "cases - 6/1/20",
          "type": "integer"
         },
         {
          "name": "cases - 6/2/20",
          "type": "integer"
         },
         {
          "name": "cases - 6/3/20",
          "type": "integer"
         },
         {
          "name": "cases - 6/4/20",
          "type": "integer"
         },
         {
          "name": "cases - 6/5/20",
          "type": "integer"
         },
         {
          "name": "cases - 6/6/20",
          "type": "integer"
         },
         {
          "name": "cases - 6/7/20",
          "type": "integer"
         },
         {
          "name": "cases - 6/8/20",
          "type": "integer"
         },
         {
          "name": "cases - 6/9/20",
          "type": "integer"
         },
         {
          "name": "cases - 6/10/20",
          "type": "integer"
         },
         {
          "name": "cases - 6/11/20",
          "type": "integer"
         },
         {
          "name": "cases - 6/12/20",
          "type": "integer"
         },
         {
          "name": "cases - 6/13/20",
          "type": "integer"
         },
         {
          "name": "cases - 6/14/20",
          "type": "integer"
         },
         {
          "name": "cases - 6/15/20",
          "type": "integer"
         },
         {
          "name": "cases - 6/16/20",
          "type": "integer"
         },
         {
          "name": "cases - 6/17/20",
          "type": "integer"
         },
         {
          "name": "cases - 6/18/20",
          "type": "integer"
         },
         {
          "name": "cases - 6/19/20",
          "type": "integer"
         },
         {
          "name": "cases - 6/20/20",
          "type": "integer"
         },
         {
          "name": "cases - 6/21/20",
          "type": "integer"
         },
         {
          "name": "cases - 6/22/20",
          "type": "integer"
         },
         {
          "name": "cases - 6/23/20",
          "type": "integer"
         },
         {
          "name": "cases - 6/24/20",
          "type": "integer"
         },
         {
          "name": "cases - 6/25/20",
          "type": "integer"
         },
         {
          "name": "cases - 6/26/20",
          "type": "integer"
         },
         {
          "name": "cases - 6/27/20",
          "type": "integer"
         },
         {
          "name": "cases - 6/28/20",
          "type": "integer"
         },
         {
          "name": "cases - 6/29/20",
          "type": "integer"
         },
         {
          "name": "cases - 6/30/20",
          "type": "integer"
         },
         {
          "name": "cases - 7/1/20",
          "type": "integer"
         },
         {
          "name": "cases - 7/2/20",
          "type": "integer"
         },
         {
          "name": "cases - 7/3/20",
          "type": "integer"
         },
         {
          "name": "cases - 7/4/20",
          "type": "integer"
         },
         {
          "name": "cases - 7/5/20",
          "type": "integer"
         },
         {
          "name": "cases - 7/6/20",
          "type": "integer"
         },
         {
          "name": "cases - 7/7/20",
          "type": "integer"
         },
         {
          "name": "cases - 7/8/20",
          "type": "integer"
         },
         {
          "name": "cases - 7/9/20",
          "type": "integer"
         },
         {
          "name": "cases - 7/10/20",
          "type": "integer"
         },
         {
          "name": "cases - 7/11/20",
          "type": "integer"
         },
         {
          "name": "cases - 7/12/20",
          "type": "integer"
         },
         {
          "name": "cases - 7/13/20",
          "type": "integer"
         },
         {
          "name": "cases - 7/14/20",
          "type": "integer"
         },
         {
          "name": "cases - 7/15/20",
          "type": "integer"
         },
         {
          "name": "cases - 7/16/20",
          "type": "integer"
         },
         {
          "name": "cases - 7/17/20",
          "type": "integer"
         },
         {
          "name": "cases - 7/18/20",
          "type": "integer"
         },
         {
          "name": "cases - 7/19/20",
          "type": "integer"
         },
         {
          "name": "cases - 7/20/20",
          "type": "integer"
         },
         {
          "name": "cases - 7/21/20",
          "type": "integer"
         },
         {
          "name": "cases - 7/22/20",
          "type": "integer"
         },
         {
          "name": "cases - 7/23/20",
          "type": "integer"
         },
         {
          "name": "cases - 7/24/20",
          "type": "integer"
         },
         {
          "name": "cases - 7/25/20",
          "type": "integer"
         },
         {
          "name": "cases - 7/26/20",
          "type": "integer"
         },
         {
          "name": "cases - 7/27/20",
          "type": "integer"
         },
         {
          "name": "cases - 7/28/20",
          "type": "integer"
         },
         {
          "name": "cases - 7/29/20",
          "type": "integer"
         },
         {
          "name": "cases - 7/30/20",
          "type": "integer"
         },
         {
          "name": "cases - 7/31/20",
          "type": "integer"
         },
         {
          "name": "cases - 8/1/20",
          "type": "integer"
         },
         {
          "name": "cases - 8/2/20",
          "type": "integer"
         },
         {
          "name": "cases - 8/3/20",
          "type": "integer"
         },
         {
          "name": "cases - 8/4/20",
          "type": "integer"
         },
         {
          "name": "cases - 8/5/20",
          "type": "integer"
         },
         {
          "name": "cases - 8/6/20",
          "type": "integer"
         },
         {
          "name": "cases - 8/7/20",
          "type": "integer"
         },
         {
          "name": "cases - 8/8/20",
          "type": "integer"
         },
         {
          "name": "cases - 8/9/20",
          "type": "integer"
         },
         {
          "name": "cases - 8/10/20",
          "type": "integer"
         },
         {
          "name": "cases - 8/11/20",
          "type": "integer"
         },
         {
          "name": "cases - 8/12/20",
          "type": "integer"
         },
         {
          "name": "cases - 8/13/20",
          "type": "integer"
         },
         {
          "name": "cases - 8/14/20",
          "type": "integer"
         },
         {
          "name": "cases - 8/15/20",
          "type": "integer"
         },
         {
          "name": "cases - 8/16/20",
          "type": "integer"
         },
         {
          "name": "cases - 8/17/20",
          "type": "integer"
         },
         {
          "name": "cases - 8/18/20",
          "type": "integer"
         },
         {
          "name": "cases - 8/19/20",
          "type": "integer"
         },
         {
          "name": "cases - 8/20/20",
          "type": "integer"
         },
         {
          "name": "cases - 8/21/20",
          "type": "integer"
         },
         {
          "name": "cases - 8/22/20",
          "type": "integer"
         },
         {
          "name": "cases - 8/23/20",
          "type": "integer"
         },
         {
          "name": "cases - 8/24/20",
          "type": "integer"
         },
         {
          "name": "cases - 8/25/20",
          "type": "integer"
         },
         {
          "name": "cases - 8/26/20",
          "type": "integer"
         },
         {
          "name": "cases - 8/27/20",
          "type": "integer"
         },
         {
          "name": "cases - 8/28/20",
          "type": "integer"
         },
         {
          "name": "cases - 8/29/20",
          "type": "integer"
         },
         {
          "name": "cases - 8/30/20",
          "type": "integer"
         },
         {
          "name": "cases - 8/31/20",
          "type": "integer"
         },
         {
          "name": "cases - 9/1/20",
          "type": "integer"
         },
         {
          "name": "cases - 9/2/20",
          "type": "integer"
         },
         {
          "name": "cases - 9/3/20",
          "type": "integer"
         },
         {
          "name": "cases - 9/4/20",
          "type": "integer"
         },
         {
          "name": "cases - 9/5/20",
          "type": "integer"
         },
         {
          "name": "cases - 9/6/20",
          "type": "integer"
         },
         {
          "name": "cases - 9/7/20",
          "type": "integer"
         },
         {
          "name": "cases - 9/8/20",
          "type": "integer"
         },
         {
          "name": "cases - 9/9/20",
          "type": "integer"
         },
         {
          "name": "cases - 9/10/20",
          "type": "integer"
         },
         {
          "name": "cases - 9/11/20",
          "type": "integer"
         },
         {
          "name": "cases - 9/12/20",
          "type": "integer"
         },
         {
          "name": "cases - 9/13/20",
          "type": "integer"
         },
         {
          "name": "cases - 9/14/20",
          "type": "integer"
         },
         {
          "name": "cases - 9/15/20",
          "type": "integer"
         },
         {
          "name": "cases - 9/16/20",
          "type": "integer"
         }
        ],
        "pandas_version": "0.20.0",
        "primaryKey": [
         "State"
        ]
       }
      },
      "text/html": [
       "<div>\n",
       "<style scoped>\n",
       "    .dataframe tbody tr th:only-of-type {\n",
       "        vertical-align: middle;\n",
       "    }\n",
       "\n",
       "    .dataframe tbody tr th {\n",
       "        vertical-align: top;\n",
       "    }\n",
       "\n",
       "    .dataframe thead th {\n",
       "        text-align: right;\n",
       "    }\n",
       "</style>\n",
       "<table border=\"1\" class=\"dataframe\">\n",
       "  <thead>\n",
       "    <tr style=\"text-align: right;\">\n",
       "      <th></th>\n",
       "      <th>cases - 1/22/20</th>\n",
       "      <th>cases - 1/23/20</th>\n",
       "      <th>cases - 1/24/20</th>\n",
       "      <th>cases - 1/25/20</th>\n",
       "      <th>cases - 1/26/20</th>\n",
       "      <th>...</th>\n",
       "      <th>cases - 9/12/20</th>\n",
       "      <th>cases - 9/13/20</th>\n",
       "      <th>cases - 9/14/20</th>\n",
       "      <th>cases - 9/15/20</th>\n",
       "      <th>cases - 9/16/20</th>\n",
       "    </tr>\n",
       "    <tr>\n",
       "      <th>State</th>\n",
       "      <th></th>\n",
       "      <th></th>\n",
       "      <th></th>\n",
       "      <th></th>\n",
       "      <th></th>\n",
       "      <th></th>\n",
       "      <th></th>\n",
       "      <th></th>\n",
       "      <th></th>\n",
       "      <th></th>\n",
       "      <th></th>\n",
       "    </tr>\n",
       "  </thead>\n",
       "  <tbody>\n",
       "    <tr>\n",
       "      <td>CA</td>\n",
       "      <td>0</td>\n",
       "      <td>0</td>\n",
       "      <td>0</td>\n",
       "      <td>0</td>\n",
       "      <td>1</td>\n",
       "      <td>...</td>\n",
       "      <td>762</td>\n",
       "      <td>503</td>\n",
       "      <td>1262</td>\n",
       "      <td>735</td>\n",
       "      <td>743</td>\n",
       "    </tr>\n",
       "    <tr>\n",
       "      <td>CO</td>\n",
       "      <td>0</td>\n",
       "      <td>0</td>\n",
       "      <td>0</td>\n",
       "      <td>0</td>\n",
       "      <td>0</td>\n",
       "      <td>...</td>\n",
       "      <td>717</td>\n",
       "      <td>719</td>\n",
       "      <td>662</td>\n",
       "      <td>693</td>\n",
       "      <td>1021</td>\n",
       "    </tr>\n",
       "    <tr>\n",
       "      <td>PA</td>\n",
       "      <td>0</td>\n",
       "      <td>0</td>\n",
       "      <td>0</td>\n",
       "      <td>0</td>\n",
       "      <td>0</td>\n",
       "      <td>...</td>\n",
       "      <td>718</td>\n",
       "      <td>59</td>\n",
       "      <td>925</td>\n",
       "      <td>898</td>\n",
       "      <td>608</td>\n",
       "    </tr>\n",
       "    <tr>\n",
       "      <td>TN</td>\n",
       "      <td>0</td>\n",
       "      <td>0</td>\n",
       "      <td>0</td>\n",
       "      <td>0</td>\n",
       "      <td>0</td>\n",
       "      <td>...</td>\n",
       "      <td>1545</td>\n",
       "      <td>1214</td>\n",
       "      <td>3327</td>\n",
       "      <td>1372</td>\n",
       "      <td>2779</td>\n",
       "    </tr>\n",
       "    <tr>\n",
       "      <td>TX</td>\n",
       "      <td>0</td>\n",
       "      <td>0</td>\n",
       "      <td>0</td>\n",
       "      <td>0</td>\n",
       "      <td>0</td>\n",
       "      <td>...</td>\n",
       "      <td>1528</td>\n",
       "      <td>1208</td>\n",
       "      <td>886</td>\n",
       "      <td>1846</td>\n",
       "      <td>2115</td>\n",
       "    </tr>\n",
       "    <tr>\n",
       "      <td>WA</td>\n",
       "      <td>1</td>\n",
       "      <td>0</td>\n",
       "      <td>0</td>\n",
       "      <td>0</td>\n",
       "      <td>0</td>\n",
       "      <td>...</td>\n",
       "      <td>608</td>\n",
       "      <td>461</td>\n",
       "      <td>410</td>\n",
       "      <td>435</td>\n",
       "      <td>443</td>\n",
       "    </tr>\n",
       "  </tbody>\n",
       "</table>\n",
       "<p>6 rows × 239 columns</p>\n",
       "</div>"
      ],
      "text/plain": [
       "       cases - 1/22/20  cases - 1/23/20  cases - 1/24/20  cases - 1/25/20  \\\n",
       "State                                                                       \n",
       "CA                   0                0                0                0   \n",
       "CO                   0                0                0                0   \n",
       "PA                   0                0                0                0   \n",
       "TN                   0                0                0                0   \n",
       "TX                   0                0                0                0   \n",
       "WA                   1                0                0                0   \n",
       "\n",
       "       cases - 1/26/20  ...  cases - 9/12/20  cases - 9/13/20  \\\n",
       "State                   ...                                     \n",
       "CA                   1  ...              762              503   \n",
       "CO                   0  ...              717              719   \n",
       "PA                   0  ...              718               59   \n",
       "TN                   0  ...             1545             1214   \n",
       "TX                   0  ...             1528             1208   \n",
       "WA                   0  ...              608              461   \n",
       "\n",
       "       cases - 9/14/20  cases - 9/15/20  cases - 9/16/20  \n",
       "State                                                     \n",
       "CA                1262              735              743  \n",
       "CO                 662              693             1021  \n",
       "PA                 925              898              608  \n",
       "TN                3327             1372             2779  \n",
       "TX                 886             1846             2115  \n",
       "WA                 410              435              443  \n",
       "\n",
       "[6 rows x 239 columns]"
      ]
     },
     "execution_count": 11,
     "metadata": {},
     "output_type": "execute_result"
    }
   ],
   "source": [
    "all_daily_cases_states"
   ]
  },
  {
   "cell_type": "code",
   "execution_count": 12,
   "metadata": {},
   "outputs": [],
   "source": [
    "ca_mu = all_daily_cases_states.loc['CA'].mean() / 100\n",
    "co_mu = all_daily_cases_states.loc['CO'].mean() / 100\n",
    "pa_mu = all_daily_cases_states.loc['PA'].mean() / 100\n",
    "tn_mu = all_daily_cases_states.loc['TN'].mean() / 100\n",
    "tx_mu = all_daily_cases_states.loc['TX'].mean() / 100\n",
    "wa_mu = all_daily_cases_states.loc['WA'].mean() / 100"
   ]
  },
  {
   "cell_type": "code",
   "execution_count": 13,
   "metadata": {},
   "outputs": [],
   "source": [
    "ca_poisson = stats.poisson.rvs(mu = ca_mu, size = 800)\n",
    "co_poisson = stats.poisson.rvs(mu = co_mu, size = 800)\n",
    "pa_poisson = stats.poisson.rvs(mu = pa_mu, size = 800)\n",
    "tn_poisson = stats.poisson.rvs(mu = tn_mu, size = 800)\n",
    "tx_poisson = stats.poisson.rvs(mu = tx_mu, size = 800)\n",
    "wa_poisson = stats.poisson.rvs(mu = wa_mu, size = 800)"
   ]
  },
  {
   "cell_type": "code",
   "execution_count": 14,
   "metadata": {},
   "outputs": [
    {
     "data": {
      "image/png": "[encoded data removed]",
      "text/plain": [
       "<Figure size 432x288 with 1 Axes>"
      ]
     },
     "metadata": {
      "needs_background": "light"
     },
     "output_type": "display_data"
    }
   ],
   "source": [
    "fig,axis = plt.subplots(gridspec_kw={'hspace': .5, 'wspace': .5})\n",
    "figure = pd.DataFrame(ca_poisson).hist(range=(0,max(ca_poisson) + 1)\n",
    "                                    , bins=max(ca_poisson)+1,ax = axis, ec='red')\n",
    "axis.title.set_text(\"California mu: {:.2f}\".format(ca_mu))\n",
    "plt.show()"
   ]
  },
  {
   "cell_type": "code",
   "execution_count": 15,
   "metadata": {},
   "outputs": [
    {
     "data": {
      "image/png": "[encoded data removed]",
      "text/plain": [
       "<Figure size 432x288 with 1 Axes>"
      ]
     },
     "metadata": {
      "needs_background": "light"
     },
     "output_type": "display_data"
    }
   ],
   "source": [
    "fig,axis = plt.subplots(gridspec_kw={'hspace': .5, 'wspace': .5})\n",
    "figure = pd.DataFrame(co_poisson).hist(range=(0,max(co_poisson) + 1)\n",
    "                                    , bins=max(co_poisson)+1,ax = axis, ec='red')\n",
    "axis.title.set_text(\"Colorado mu: {:.2f}\".format(co_mu))\n",
    "plt.show()"
   ]
  },
  {
   "cell_type": "code",
   "execution_count": 16,
   "metadata": {},
   "outputs": [
    {
     "data": {
      "image/png": "[encoded data removed]",
      "text/plain": [
       "<Figure size 432x288 with 1 Axes>"
      ]
     },
     "metadata": {
      "needs_background": "light"
     },
     "output_type": "display_data"
    }
   ],
   "source": [
    "fig,axis = plt.subplots(gridspec_kw={'hspace': .5, 'wspace': .5})\n",
    "figure = pd.DataFrame(pa_poisson).hist(range=(0,max(pa_poisson) + 1)\n",
    "                                    , bins=max(pa_poisson)+1,ax = axis, ec='red')\n",
    "axis.title.set_text(\"Pennsylvania mu: {:.2f}\".format(pa_mu))\n",
    "plt.show()"
   ]
  },
  {
   "cell_type": "code",
   "execution_count": 17,
   "metadata": {},
   "outputs": [
    {
     "data": {
      "image/png": "[encoded data removed]",
      "text/plain": [
       "<Figure size 432x288 with 1 Axes>"
      ]
     },
     "metadata": {
      "needs_background": "light"
     },
     "output_type": "display_data"
    }
   ],
   "source": [
    "fig,axis = plt.subplots(gridspec_kw={'hspace': .5, 'wspace': .5})\n",
    "figure = pd.DataFrame(tn_poisson).hist(range=(0,max(tn_poisson) + 1)\n",
    "                                    , bins=max(tn_poisson)+1,ax = axis, ec='red')\n",
    "axis.title.set_text(\"Tennessee mu: {:.2f}\".format(tn_mu))\n",
    "plt.show()"
   ]
  },
  {
   "cell_type": "code",
   "execution_count": 18,
   "metadata": {},
   "outputs": [
    {
     "data": {
      "image/png": "[encoded data removed]",
      "text/plain": [
       "<Figure size 432x288 with 1 Axes>"
      ]
     },
     "metadata": {
      "needs_background": "light"
     },
     "output_type": "display_data"
    }
   ],
   "source": [
    "fig,axis = plt.subplots(gridspec_kw={'hspace': .5, 'wspace': .5})\n",
    "figure = pd.DataFrame(tx_poisson).hist(range=(0,max(tx_poisson) + 1)\n",
    "                                    , bins=max(tx_poisson)+1,ax = axis, ec='red')\n",
    "axis.title.set_text(\"Texas mu: {:.2f}\".format(tx_mu))\n",
    "plt.show()"
   ]
  },
  {
   "cell_type": "code",
   "execution_count": 19,
   "metadata": {},
   "outputs": [
    {
     "data": {
      "image/png": "[encoded data removed]",
      "text/plain": [
       "<Figure size 432x288 with 1 Axes>"
      ]
     },
     "metadata": {
      "needs_background": "light"
     },
     "output_type": "display_data"
    }
   ],
   "source": [
    "fig,axis = plt.subplots(gridspec_kw={'hspace': .5, 'wspace': .5})\n",
    "figure = pd.DataFrame(wa_poisson).hist(range=(0,max(wa_poisson) + 1)\n",
    "                                    , bins=max(wa_poisson)+1,ax = axis, ec='red')\n",
    "axis.title.set_text(\"Washington mu: {:.2f}\".format(wa_mu))\n",
    "plt.show()"
   ]
  },
  {
   "cell_type": "markdown",
   "metadata": {},
   "source": [
    "#### Deaths"
   ]
  },
  {
   "cell_type": "code",
   "execution_count": 20,
   "metadata": {},
   "outputs": [
    {
     "data": {
      "application/vnd.dataresource+json": {
       "data": [
        {
         "State": "CA",
         "deaths - 1/22/20": 0,
         "deaths - 1/23/20": 0,
         "deaths - 1/24/20": 0,
         "deaths - 1/25/20": 0,
         "deaths - 1/26/20": 0,
         "deaths - 1/27/20": 0,
         "deaths - 1/28/20": 0,
         "deaths - 1/29/20": 0,
         "deaths - 1/30/20": 0,
         "deaths - 1/31/20": 0,
         "deaths - 2/1/20": 0,
         "deaths - 2/10/20": 0,
         "deaths - 2/11/20": 0,
         "deaths - 2/12/20": 0,
         "deaths - 2/13/20": 0,
         "deaths - 2/14/20": 0,
         "deaths - 2/15/20": 0,
         "deaths - 2/16/20": 0,
         "deaths - 2/17/20": 0,
         "deaths - 2/18/20": 0,
         "deaths - 2/19/20": 0,
         "deaths - 2/2/20": 0,
         "deaths - 2/20/20": 0,
         "deaths - 2/21/20": 0,
         "deaths - 2/22/20": 0,
         "deaths - 2/23/20": 0,
         "deaths - 2/24/20": 0,
         "deaths - 2/25/20": 0,
         "deaths - 2/26/20": 0,
         "deaths - 2/27/20": 0,
         "deaths - 2/28/20": 0,
         "deaths - 2/29/20": 0,
         "deaths - 2/3/20": 0,
         "deaths - 2/4/20": 0,
         "deaths - 2/5/20": 0,
         "deaths - 2/6/20": 0,
         "deaths - 2/7/20": 0,
         "deaths - 2/8/20": 0,
         "deaths - 2/9/20": 0,
         "deaths - 3/1/20": 0,
         "deaths - 3/10/20": 0,
         "deaths - 3/11/20": 0,
         "deaths - 3/12/20": 0,
         "deaths - 3/13/20": 0,
         "deaths - 3/14/20": 0,
         "deaths - 3/15/20": 1,
         "deaths - 3/16/20": 1,
         "deaths - 3/17/20": 1,
         "deaths - 3/18/20": 1,
         "deaths - 3/19/20": 1,
         "deaths - 3/2/20": 0,
         "deaths - 3/20/20": 1,
         "deaths - 3/21/20": 1,
         "deaths - 3/22/20": 2,
         "deaths - 3/23/20": 2,
         "deaths - 3/24/20": 3,
         "deaths - 3/25/20": 4,
         "deaths - 3/26/20": 4,
         "deaths - 3/27/20": 4,
         "deaths - 3/28/20": 5,
         "deaths - 3/29/20": 3,
         "deaths - 3/3/20": 0,
         "deaths - 3/30/20": 4,
         "deaths - 3/31/20": 8,
         "deaths - 3/4/20": 0,
         "deaths - 3/5/20": 0,
         "deaths - 3/6/20": 0,
         "deaths - 3/7/20": 0,
         "deaths - 3/8/20": 0,
         "deaths - 3/9/20": 0,
         "deaths - 4/1/20": 8,
         "deaths - 4/10/20": 13,
         "deaths - 4/11/20": 9,
         "deaths - 4/12/20": 11,
         "deaths - 4/13/20": 12,
         "deaths - 4/14/20": 13,
         "deaths - 4/15/20": 25,
         "deaths - 4/16/20": 23,
         "deaths - 4/17/20": 10,
         "deaths - 4/18/20": 34,
         "deaths - 4/19/20": 8,
         "deaths - 4/2/20": 8,
         "deaths - 4/20/20": 12,
         "deaths - 4/21/20": 24,
         "deaths - 4/22/20": 29,
         "deaths - 4/23/20": 25,
         "deaths - 4/24/20": 21,
         "deaths - 4/25/20": 20,
         "deaths - 4/26/20": 6,
         "deaths - 4/27/20": 16,
         "deaths - 4/28/20": 23,
         "deaths - 4/29/20": 19,
         "deaths - 4/3/20": 10,
         "deaths - 4/30/20": 23,
         "deaths - 4/4/20": 10,
         "deaths - 4/5/20": 7,
         "deaths - 4/6/20": 9,
         "deaths - 4/7/20": 15,
         "deaths - 4/8/20": 14,
         "deaths - 4/9/20": 10,
         "deaths - 5/1/20": 25,
         "deaths - 5/10/20": 7,
         "deaths - 5/11/20": 15,
         "deaths - 5/12/20": 25,
         "deaths - 5/13/20": 23,
         "deaths - 5/14/20": 20,
         "deaths - 5/15/20": 27,
         "deaths - 5/16/20": 13,
         "deaths - 5/17/20": 8,
         "deaths - 5/18/20": 11,
         "deaths - 5/19/20": 31,
         "deaths - 5/2/20": 14,
         "deaths - 5/20/20": 23,
         "deaths - 5/21/20": 26,
         "deaths - 5/22/20": 18,
         "deaths - 5/23/20": 17,
         "deaths - 5/24/20": 4,
         "deaths - 5/25/20": 4,
         "deaths - 5/26/20": 14,
         "deaths - 5/27/20": 23,
         "deaths - 5/28/20": 20,
         "deaths - 5/29/20": 20,
         "deaths - 5/3/20": 6,
         "deaths - 5/30/20": 17,
         "deaths - 5/31/20": 8,
         "deaths - 5/4/20": 19,
         "deaths - 5/5/20": 24,
         "deaths - 5/6/20": 21,
         "deaths - 5/7/20": 20,
         "deaths - 5/8/20": 22,
         "deaths - 5/9/20": 16,
         "deaths - 6/1/20": 0,
         "deaths - 6/10/20": 27,
         "deaths - 6/11/20": 19,
         "deaths - 6/12/20": 14,
         "deaths - 6/13/20": 18,
         "deaths - 6/14/20": 7,
         "deaths - 6/15/20": 8,
         "deaths - 6/16/20": 21,
         "deaths - 6/17/20": 20,
         "deaths - 6/18/20": 19,
         "deaths - 6/19/20": 17,
         "deaths - 6/2/20": 36,
         "deaths - 6/20/20": 17,
         "deaths - 6/21/20": 5,
         "deaths - 6/22/20": 15,
         "deaths - 6/23/20": 14,
         "deaths - 6/24/20": 26,
         "deaths - 6/25/20": 20,
         "deaths - 6/26/20": 15,
         "deaths - 6/27/20": 8,
         "deaths - 6/28/20": 8,
         "deaths - 6/29/20": 12,
         "deaths - 6/3/20": 17,
         "deaths - 6/30/20": 27,
         "deaths - 6/4/20": 17,
         "deaths - 6/5/20": 21,
         "deaths - 6/6/20": 17,
         "deaths - 6/7/20": 7,
         "deaths - 6/8/20": 6,
         "deaths - 6/9/20": 23,
         "deaths - 7/1/20": 20,
         "deaths - 7/10/20": 26,
         "deaths - 7/11/20": 19,
         "deaths - 7/12/20": 6,
         "deaths - 7/13/20": 12,
         "deaths - 7/14/20": 36,
         "deaths - 7/15/20": 33,
         "deaths - 7/16/20": 31,
         "deaths - 7/17/20": 14,
         "deaths - 7/18/20": 40,
         "deaths - 7/19/20": 3,
         "deaths - 7/2/20": 56,
         "deaths - 7/20/20": 15,
         "deaths - 7/21/20": 30,
         "deaths - 7/22/20": 40,
         "deaths - 7/23/20": 39,
         "deaths - 7/24/20": 35,
         "deaths - 7/25/20": 23,
         "deaths - 7/26/20": 6,
         "deaths - 7/27/20": 24,
         "deaths - 7/28/20": 43,
         "deaths - 7/29/20": 45,
         "deaths - 7/3/20": -18,
         "deaths - 7/30/20": 29,
         "deaths - 7/31/20": 55,
         "deaths - 7/4/20": 5,
         "deaths - 7/5/20": 2,
         "deaths - 7/6/20": 28,
         "deaths - 7/7/20": 29,
         "deaths - 7/8/20": 37,
         "deaths - 7/9/20": 35,
         "deaths - 8/1/20": 35,
         "deaths - 8/10/20": 23,
         "deaths - 8/11/20": 44,
         "deaths - 8/12/20": 41,
         "deaths - 8/13/20": 47,
         "deaths - 8/14/20": 38,
         "deaths - 8/15/20": 19,
         "deaths - 8/16/20": 4,
         "deaths - 8/17/20": 27,
         "deaths - 8/18/20": 46,
         "deaths - 8/19/20": 42,
         "deaths - 8/2/20": 8,
         "deaths - 8/20/20": 33,
         "deaths - 8/21/20": 41,
         "deaths - 8/22/20": 37,
         "deaths - 8/23/20": 9,
         "deaths - 8/24/20": 27,
         "deaths - 8/25/20": 38,
         "deaths - 8/26/20": 36,
         "deaths - 8/27/20": 35,
         "deaths - 8/28/20": 28,
         "deaths - 8/29/20": 27,
         "deaths - 8/3/20": 29,
         "deaths - 8/30/20": 8,
         "deaths - 8/31/20": 21,
         "deaths - 8/4/20": 49,
         "deaths - 8/5/20": 42,
         "deaths - 8/6/20": 34,
         "deaths - 8/7/20": 47,
         "deaths - 8/8/20": 25,
         "deaths - 8/9/20": 22,
         "deaths - 9/1/20": 37,
         "deaths - 9/10/20": 15,
         "deaths - 9/11/20": 54,
         "deaths - 9/12/20": 18,
         "deaths - 9/13/20": 13,
         "deaths - 9/14/20": 21,
         "deaths - 9/15/20": 37,
         "deaths - 9/16/20": 24,
         "deaths - 9/2/20": 40,
         "deaths - 9/3/20": 42,
         "deaths - 9/4/20": 39,
         "deaths - 9/5/20": 16,
         "deaths - 9/6/20": 5,
         "deaths - 9/7/20": 8,
         "deaths - 9/8/20": 13,
         "deaths - 9/9/20": 45
        },
        {
         "State": "CO",
         "deaths - 1/22/20": 0,
         "deaths - 1/23/20": 0,
         "deaths - 1/24/20": 0,
         "deaths - 1/25/20": 0,
         "deaths - 1/26/20": 0,
         "deaths - 1/27/20": 0,
         "deaths - 1/28/20": 0,
         "deaths - 1/29/20": 0,
         "deaths - 1/30/20": 0,
         "deaths - 1/31/20": 0,
         "deaths - 2/1/20": 0,
         "deaths - 2/10/20": 0,
         "deaths - 2/11/20": 0,
         "deaths - 2/12/20": 0,
         "deaths - 2/13/20": 0,
         "deaths - 2/14/20": 0,
         "deaths - 2/15/20": 0,
         "deaths - 2/16/20": 0,
         "deaths - 2/17/20": 0,
         "deaths - 2/18/20": 0,
         "deaths - 2/19/20": 0,
         "deaths - 2/2/20": 0,
         "deaths - 2/20/20": 0,
         "deaths - 2/21/20": 0,
         "deaths - 2/22/20": 0,
         "deaths - 2/23/20": 0,
         "deaths - 2/24/20": 0,
         "deaths - 2/25/20": 0,
         "deaths - 2/26/20": 0,
         "deaths - 2/27/20": 0,
         "deaths - 2/28/20": 0,
         "deaths - 2/29/20": 0,
         "deaths - 2/3/20": 0,
         "deaths - 2/4/20": 0,
         "deaths - 2/5/20": 0,
         "deaths - 2/6/20": 0,
         "deaths - 2/7/20": 0,
         "deaths - 2/8/20": 0,
         "deaths - 2/9/20": 0,
         "deaths - 3/1/20": 0,
         "deaths - 3/10/20": 0,
         "deaths - 3/11/20": 0,
         "deaths - 3/12/20": 0,
         "deaths - 3/13/20": 2,
         "deaths - 3/14/20": 0,
         "deaths - 3/15/20": 0,
         "deaths - 3/16/20": 0,
         "deaths - 3/17/20": 2,
         "deaths - 3/18/20": 0,
         "deaths - 3/19/20": 0,
         "deaths - 3/2/20": 0,
         "deaths - 3/20/20": 3,
         "deaths - 3/21/20": 3,
         "deaths - 3/22/20": 2,
         "deaths - 3/23/20": 0,
         "deaths - 3/24/20": 0,
         "deaths - 3/25/20": 21,
         "deaths - 3/26/20": 9,
         "deaths - 3/27/20": 10,
         "deaths - 3/28/20": 23,
         "deaths - 3/29/20": 5,
         "deaths - 3/3/20": 0,
         "deaths - 3/30/20": 12,
         "deaths - 3/31/20": 26,
         "deaths - 3/4/20": 0,
         "deaths - 3/5/20": 0,
         "deaths - 3/6/20": 0,
         "deaths - 3/7/20": 0,
         "deaths - 3/8/20": 0,
         "deaths - 3/9/20": 0,
         "deaths - 4/1/20": 19,
         "deaths - 4/10/20": 40,
         "deaths - 4/11/20": 43,
         "deaths - 4/12/20": 28,
         "deaths - 4/13/20": 0,
         "deaths - 4/14/20": 66,
         "deaths - 4/15/20": 47,
         "deaths - 4/16/20": 30,
         "deaths - 4/17/20": 30,
         "deaths - 4/18/20": 35,
         "deaths - 4/19/20": 19,
         "deaths - 4/2/20": 30,
         "deaths - 4/20/20": 47,
         "deaths - 4/21/20": 64,
         "deaths - 4/22/20": 38,
         "deaths - 4/23/20": 76,
         "deaths - 4/24/20": 189,
         "deaths - 4/25/20": 17,
         "deaths - 4/26/20": 14,
         "deaths - 4/27/20": 43,
         "deaths - 4/28/20": 54,
         "deaths - 4/29/20": 52,
         "deaths - 4/3/20": 24,
         "deaths - 4/30/20": 19,
         "deaths - 4/4/20": 26,
         "deaths - 4/5/20": 23,
         "deaths - 4/6/20": 19,
         "deaths - 4/7/20": 50,
         "deaths - 4/8/20": 23,
         "deaths - 4/9/20": 59,
         "deaths - 5/1/20": 75,
         "deaths - 5/10/20": 7,
         "deaths - 5/11/20": 30,
         "deaths - 5/12/20": 40,
         "deaths - 5/13/20": 92,
         "deaths - 5/14/20": 54,
         "deaths - 5/15/20": 102,
         "deaths - 5/16/20": 73,
         "deaths - 5/17/20": 38,
         "deaths - 5/18/20": 17,
         "deaths - 5/19/20": 57,
         "deaths - 5/2/20": 21,
         "deaths - 5/20/20": 71,
         "deaths - 5/21/20": 17,
         "deaths - 5/22/20": 23,
         "deaths - 5/23/20": 9,
         "deaths - 5/24/20": 7,
         "deaths - 5/25/20": 5,
         "deaths - 5/26/20": 33,
         "deaths - 5/27/20": 71,
         "deaths - 5/28/20": 50,
         "deaths - 5/29/20": 24,
         "deaths - 5/3/20": 17,
         "deaths - 5/30/20": 12,
         "deaths - 5/31/20": 3,
         "deaths - 5/4/20": 16,
         "deaths - 5/5/20": 85,
         "deaths - 5/6/20": 35,
         "deaths - 5/7/20": 40,
         "deaths - 5/8/20": 26,
         "deaths - 5/9/20": 14,
         "deaths - 6/1/20": 21,
         "deaths - 6/10/20": 35,
         "deaths - 6/11/20": 19,
         "deaths - 6/12/20": 21,
         "deaths - 6/13/20": 5,
         "deaths - 6/14/20": 2,
         "deaths - 6/15/20": 9,
         "deaths - 6/16/20": 23,
         "deaths - 6/17/20": 17,
         "deaths - 6/18/20": 9,
         "deaths - 6/19/20": 7,
         "deaths - 6/2/20": 28,
         "deaths - 6/20/20": 7,
         "deaths - 6/21/20": 0,
         "deaths - 6/22/20": 7,
         "deaths - 6/23/20": 17,
         "deaths - 6/24/20": 3,
         "deaths - 6/25/20": 2,
         "deaths - 6/26/20": 14,
         "deaths - 6/27/20": 0,
         "deaths - 6/28/20": 0,
         "deaths - 6/29/20": 14,
         "deaths - 6/3/20": 35,
         "deaths - 6/30/20": 12,
         "deaths - 6/4/20": 30,
         "deaths - 6/5/20": 19,
         "deaths - 6/6/20": 7,
         "deaths - 6/7/20": 0,
         "deaths - 6/8/20": 28,
         "deaths - 6/9/20": 19,
         "deaths - 7/1/20": 12,
         "deaths - 7/10/20": 31,
         "deaths - 7/11/20": 2,
         "deaths - 7/12/20": 0,
         "deaths - 7/13/20": 3,
         "deaths - 7/14/20": 17,
         "deaths - 7/15/20": 10,
         "deaths - 7/16/20": 3,
         "deaths - 7/17/20": 10,
         "deaths - 7/18/20": 2,
         "deaths - 7/19/20": 0,
         "deaths - 7/2/20": 0,
         "deaths - 7/20/20": 10,
         "deaths - 7/21/20": 9,
         "deaths - 7/22/20": 14,
         "deaths - 7/23/20": 26,
         "deaths - 7/24/20": 7,
         "deaths - 7/25/20": 7,
         "deaths - 7/26/20": 0,
         "deaths - 7/27/20": 9,
         "deaths - 7/28/20": 0,
         "deaths - 7/29/20": 36,
         "deaths - 7/3/20": 7,
         "deaths - 7/30/20": 2,
         "deaths - 7/31/20": 28,
         "deaths - 7/4/20": 0,
         "deaths - 7/5/20": 0,
         "deaths - 7/6/20": 2,
         "deaths - 7/7/20": 7,
         "deaths - 7/8/20": 16,
         "deaths - 7/9/20": 3,
         "deaths - 8/1/20": 7,
         "deaths - 8/10/20": 9,
         "deaths - 8/11/20": 23,
         "deaths - 8/12/20": 0,
         "deaths - 8/13/20": 10,
         "deaths - 8/14/20": 10,
         "deaths - 8/15/20": 14,
         "deaths - 8/16/20": 2,
         "deaths - 8/17/20": 0,
         "deaths - 8/18/20": 5,
         "deaths - 8/19/20": 3,
         "deaths - 8/2/20": 2,
         "deaths - 8/20/20": 5,
         "deaths - 8/21/20": 12,
         "deaths - 8/22/20": 12,
         "deaths - 8/23/20": 0,
         "deaths - 8/24/20": 0,
         "deaths - 8/25/20": 10,
         "deaths - 8/26/20": 7,
         "deaths - 8/27/20": 7,
         "deaths - 8/28/20": 10,
         "deaths - 8/29/20": 10,
         "deaths - 8/3/20": 0,
         "deaths - 8/30/20": 0,
         "deaths - 8/31/20": 3,
         "deaths - 8/4/20": 7,
         "deaths - 8/5/20": 3,
         "deaths - 8/6/20": 3,
         "deaths - 8/7/20": 5,
         "deaths - 8/8/20": 3,
         "deaths - 8/9/20": 2,
         "deaths - 9/1/20": 2,
         "deaths - 9/10/20": 5,
         "deaths - 9/11/20": 10,
         "deaths - 9/12/20": 5,
         "deaths - 9/13/20": 0,
         "deaths - 9/14/20": 3,
         "deaths - 9/15/20": 10,
         "deaths - 9/16/20": 10,
         "deaths - 9/2/20": 9,
         "deaths - 9/3/20": 5,
         "deaths - 9/4/20": 21,
         "deaths - 9/5/20": 0,
         "deaths - 9/6/20": 7,
         "deaths - 9/7/20": 5,
         "deaths - 9/8/20": 0,
         "deaths - 9/9/20": 5
        },
        {
         "State": "PA",
         "deaths - 1/22/20": 0,
         "deaths - 1/23/20": 0,
         "deaths - 1/24/20": 0,
         "deaths - 1/25/20": 0,
         "deaths - 1/26/20": 0,
         "deaths - 1/27/20": 0,
         "deaths - 1/28/20": 0,
         "deaths - 1/29/20": 0,
         "deaths - 1/30/20": 0,
         "deaths - 1/31/20": 0,
         "deaths - 2/1/20": 0,
         "deaths - 2/10/20": 0,
         "deaths - 2/11/20": 0,
         "deaths - 2/12/20": 0,
         "deaths - 2/13/20": 0,
         "deaths - 2/14/20": 0,
         "deaths - 2/15/20": 0,
         "deaths - 2/16/20": 0,
         "deaths - 2/17/20": 0,
         "deaths - 2/18/20": 0,
         "deaths - 2/19/20": 0,
         "deaths - 2/2/20": 0,
         "deaths - 2/20/20": 0,
         "deaths - 2/21/20": 0,
         "deaths - 2/22/20": 0,
         "deaths - 2/23/20": 0,
         "deaths - 2/24/20": 0,
         "deaths - 2/25/20": 0,
         "deaths - 2/26/20": 0,
         "deaths - 2/27/20": 0,
         "deaths - 2/28/20": 0,
         "deaths - 2/29/20": 0,
         "deaths - 2/3/20": 0,
         "deaths - 2/4/20": 0,
         "deaths - 2/5/20": 0,
         "deaths - 2/6/20": 0,
         "deaths - 2/7/20": 0,
         "deaths - 2/8/20": 0,
         "deaths - 2/9/20": 0,
         "deaths - 3/1/20": 0,
         "deaths - 3/10/20": 0,
         "deaths - 3/11/20": 0,
         "deaths - 3/12/20": 0,
         "deaths - 3/13/20": 0,
         "deaths - 3/14/20": 0,
         "deaths - 3/15/20": 0,
         "deaths - 3/16/20": 0,
         "deaths - 3/17/20": 0,
         "deaths - 3/18/20": 1,
         "deaths - 3/19/20": 0,
         "deaths - 3/2/20": 0,
         "deaths - 3/20/20": 0,
         "deaths - 3/21/20": 1,
         "deaths - 3/22/20": 0,
         "deaths - 3/23/20": 3,
         "deaths - 3/24/20": 1,
         "deaths - 3/25/20": 3,
         "deaths - 3/26/20": 4,
         "deaths - 3/27/20": 5,
         "deaths - 3/28/20": 9,
         "deaths - 3/29/20": 3,
         "deaths - 3/3/20": 0,
         "deaths - 3/30/20": 8,
         "deaths - 3/31/20": 12,
         "deaths - 3/4/20": 0,
         "deaths - 3/5/20": 0,
         "deaths - 3/6/20": 0,
         "deaths - 3/7/20": 0,
         "deaths - 3/8/20": 0,
         "deaths - 3/9/20": 0,
         "deaths - 4/1/20": 9,
         "deaths - 4/10/20": 60,
         "deaths - 4/11/20": 59,
         "deaths - 4/12/20": 12,
         "deaths - 4/13/20": 0,
         "deaths - 4/14/20": 60,
         "deaths - 4/15/20": 49,
         "deaths - 4/16/20": 0,
         "deaths - 4/17/20": 85,
         "deaths - 4/18/20": 62,
         "deaths - 4/19/20": 216,
         "deaths - 4/2/20": 12,
         "deaths - 4/20/20": 72,
         "deaths - 4/21/20": 145,
         "deaths - 4/22/20": 19,
         "deaths - 4/23/20": 6,
         "deaths - 4/24/20": 55,
         "deaths - 4/25/20": 35,
         "deaths - 4/26/20": 10,
         "deaths - 4/27/20": 37,
         "deaths - 4/28/20": 93,
         "deaths - 4/29/20": 373,
         "deaths - 4/3/20": 9,
         "deaths - 4/30/20": 77,
         "deaths - 4/4/20": 27,
         "deaths - 4/5/20": 11,
         "deaths - 4/6/20": 9,
         "deaths - 4/7/20": 61,
         "deaths - 4/8/20": 54,
         "deaths - 4/9/20": 23,
         "deaths - 5/1/20": 48,
         "deaths - 5/10/20": 14,
         "deaths - 5/11/20": 18,
         "deaths - 5/12/20": 59,
         "deaths - 5/13/20": 103,
         "deaths - 5/14/20": 159,
         "deaths - 5/15/20": 39,
         "deaths - 5/16/20": 26,
         "deaths - 5/17/20": 2,
         "deaths - 5/18/20": 224,
         "deaths - 5/19/20": 102,
         "deaths - 5/2/20": 51,
         "deaths - 5/20/20": 111,
         "deaths - 5/21/20": 80,
         "deaths - 5/22/20": 91,
         "deaths - 5/23/20": 87,
         "deaths - 5/24/20": 22,
         "deaths - 5/25/20": 12,
         "deaths - 5/26/20": 10,
         "deaths - 5/27/20": 88,
         "deaths - 5/28/20": 84,
         "deaths - 5/29/20": 71,
         "deaths - 5/3/20": 19,
         "deaths - 5/30/20": 56,
         "deaths - 5/31/20": 0,
         "deaths - 5/4/20": 10,
         "deaths - 5/5/20": 427,
         "deaths - 5/6/20": 73,
         "deaths - 5/7/20": 235,
         "deaths - 5/8/20": 149,
         "deaths - 5/9/20": 65,
         "deaths - 6/1/20": 0,
         "deaths - 6/10/20": 37,
         "deaths - 6/11/20": 40,
         "deaths - 6/12/20": 38,
         "deaths - 6/13/20": 38,
         "deaths - 6/14/20": 3,
         "deaths - 6/15/20": 23,
         "deaths - 6/16/20": 26,
         "deaths - 6/17/20": 34,
         "deaths - 6/18/20": 33,
         "deaths - 6/19/20": 30,
         "deaths - 6/2/20": 102,
         "deaths - 6/20/20": 16,
         "deaths - 6/21/20": 3,
         "deaths - 6/22/20": 2,
         "deaths - 6/23/20": 30,
         "deaths - 6/24/20": 42,
         "deaths - 6/25/20": 30,
         "deaths - 6/26/20": 18,
         "deaths - 6/27/20": 18,
         "deaths - 6/28/20": 2,
         "deaths - 6/29/20": 7,
         "deaths - 6/3/20": 59,
         "deaths - 6/30/20": 27,
         "deaths - 6/4/20": 59,
         "deaths - 6/5/20": 53,
         "deaths - 6/6/20": 35,
         "deaths - 6/7/20": 9,
         "deaths - 6/8/20": 8,
         "deaths - 6/9/20": 48,
         "deaths - 7/1/20": 28,
         "deaths - 7/10/20": 25,
         "deaths - 7/11/20": 13,
         "deaths - 7/12/20": 5,
         "deaths - 7/13/20": 5,
         "deaths - 7/14/20": 16,
         "deaths - 7/15/20": 20,
         "deaths - 7/16/20": 12,
         "deaths - 7/17/20": 15,
         "deaths - 7/18/20": 12,
         "deaths - 7/19/20": 6,
         "deaths - 7/2/20": 21,
         "deaths - 7/20/20": 2,
         "deaths - 7/21/20": 16,
         "deaths - 7/22/20": 20,
         "deaths - 7/23/20": 12,
         "deaths - 7/24/20": 17,
         "deaths - 7/25/20": 10,
         "deaths - 7/26/20": 2,
         "deaths - 7/27/20": 3,
         "deaths - 7/28/20": 0,
         "deaths - 7/29/20": 42,
         "deaths - 7/3/20": 27,
         "deaths - 7/30/20": 0,
         "deaths - 7/31/20": 11,
         "deaths - 7/4/20": 2,
         "deaths - 7/5/20": 3,
         "deaths - 7/6/20": 1,
         "deaths - 7/7/20": 26,
         "deaths - 7/8/20": 20,
         "deaths - 7/9/20": 28,
         "deaths - 8/1/20": 12,
         "deaths - 8/10/20": 2,
         "deaths - 8/11/20": 27,
         "deaths - 8/12/20": 26,
         "deaths - 8/13/20": 19,
         "deaths - 8/14/20": 28,
         "deaths - 8/15/20": 16,
         "deaths - 8/16/20": 2,
         "deaths - 8/17/20": 0,
         "deaths - 8/18/20": 24,
         "deaths - 8/19/20": 19,
         "deaths - 8/2/20": 4,
         "deaths - 8/20/20": 12,
         "deaths - 8/21/20": 16,
         "deaths - 8/22/20": 14,
         "deaths - 8/23/20": 2,
         "deaths - 8/24/20": 1,
         "deaths - 8/25/20": 20,
         "deaths - 8/26/20": 15,
         "deaths - 8/27/20": 9,
         "deaths - 8/28/20": 14,
         "deaths - 8/29/20": 14,
         "deaths - 8/3/20": 0,
         "deaths - 8/30/20": 2,
         "deaths - 8/31/20": 0,
         "deaths - 8/4/20": 18,
         "deaths - 8/5/20": 9,
         "deaths - 8/6/20": 30,
         "deaths - 8/7/20": 12,
         "deaths - 8/8/20": 12,
         "deaths - 8/9/20": 1,
         "deaths - 9/1/20": 14,
         "deaths - 9/10/20": 12,
         "deaths - 9/11/20": 13,
         "deaths - 9/12/20": 0,
         "deaths - 9/13/20": 0,
         "deaths - 9/14/20": 25,
         "deaths - 9/15/20": 5,
         "deaths - 9/16/20": 22,
         "deaths - 9/2/20": 16,
         "deaths - 9/3/20": 16,
         "deaths - 9/4/20": 8,
         "deaths - 9/5/20": 14,
         "deaths - 9/6/20": 0,
         "deaths - 9/7/20": 15,
         "deaths - 9/8/20": 9,
         "deaths - 9/9/20": 12
        },
        {
         "State": "TN",
         "deaths - 1/22/20": 0,
         "deaths - 1/23/20": 0,
         "deaths - 1/24/20": 0,
         "deaths - 1/25/20": 0,
         "deaths - 1/26/20": 0,
         "deaths - 1/27/20": 0,
         "deaths - 1/28/20": 0,
         "deaths - 1/29/20": 0,
         "deaths - 1/30/20": 0,
         "deaths - 1/31/20": 0,
         "deaths - 2/1/20": 0,
         "deaths - 2/10/20": 0,
         "deaths - 2/11/20": 0,
         "deaths - 2/12/20": 0,
         "deaths - 2/13/20": 0,
         "deaths - 2/14/20": 0,
         "deaths - 2/15/20": 0,
         "deaths - 2/16/20": 0,
         "deaths - 2/17/20": 0,
         "deaths - 2/18/20": 0,
         "deaths - 2/19/20": 0,
         "deaths - 2/2/20": 0,
         "deaths - 2/20/20": 0,
         "deaths - 2/21/20": 0,
         "deaths - 2/22/20": 0,
         "deaths - 2/23/20": 0,
         "deaths - 2/24/20": 0,
         "deaths - 2/25/20": 0,
         "deaths - 2/26/20": 0,
         "deaths - 2/27/20": 0,
         "deaths - 2/28/20": 0,
         "deaths - 2/29/20": 0,
         "deaths - 2/3/20": 0,
         "deaths - 2/4/20": 0,
         "deaths - 2/5/20": 0,
         "deaths - 2/6/20": 0,
         "deaths - 2/7/20": 0,
         "deaths - 2/8/20": 0,
         "deaths - 2/9/20": 0,
         "deaths - 3/1/20": 0,
         "deaths - 3/10/20": 0,
         "deaths - 3/11/20": 0,
         "deaths - 3/12/20": 0,
         "deaths - 3/13/20": 0,
         "deaths - 3/14/20": 0,
         "deaths - 3/15/20": 0,
         "deaths - 3/16/20": 0,
         "deaths - 3/17/20": 0,
         "deaths - 3/18/20": 0,
         "deaths - 3/19/20": 0,
         "deaths - 3/2/20": 0,
         "deaths - 3/20/20": 1,
         "deaths - 3/21/20": 0,
         "deaths - 3/22/20": 0,
         "deaths - 3/23/20": 0,
         "deaths - 3/24/20": 0,
         "deaths - 3/25/20": 3,
         "deaths - 3/26/20": 0,
         "deaths - 3/27/20": 0,
         "deaths - 3/28/20": 0,
         "deaths - 3/29/20": 1,
         "deaths - 3/3/20": 0,
         "deaths - 3/30/20": 9,
         "deaths - 3/31/20": 4,
         "deaths - 3/4/20": 0,
         "deaths - 3/5/20": 0,
         "deaths - 3/6/20": 0,
         "deaths - 3/7/20": 0,
         "deaths - 3/8/20": 0,
         "deaths - 3/9/20": 0,
         "deaths - 4/1/20": 15,
         "deaths - 4/10/20": 6,
         "deaths - 4/11/20": 4,
         "deaths - 4/12/20": 0,
         "deaths - 4/13/20": 12,
         "deaths - 4/14/20": 22,
         "deaths - 4/15/20": 15,
         "deaths - 4/16/20": 9,
         "deaths - 4/17/20": 3,
         "deaths - 4/18/20": 4,
         "deaths - 4/19/20": 4,
         "deaths - 4/2/20": 10,
         "deaths - 4/20/20": 6,
         "deaths - 4/21/20": 7,
         "deaths - 4/22/20": 13,
         "deaths - 4/23/20": 4,
         "deaths - 4/24/20": 0,
         "deaths - 4/25/20": 12,
         "deaths - 4/26/20": 4,
         "deaths - 4/27/20": 3,
         "deaths - 4/28/20": 0,
         "deaths - 4/29/20": 15,
         "deaths - 4/3/20": 9,
         "deaths - 4/30/20": 10,
         "deaths - 4/4/20": 9,
         "deaths - 4/5/20": 3,
         "deaths - 4/6/20": 28,
         "deaths - 4/7/20": 9,
         "deaths - 4/8/20": 15,
         "deaths - 4/9/20": 21,
         "deaths - 5/1/20": 7,
         "deaths - 5/10/20": 1,
         "deaths - 5/11/20": 10,
         "deaths - 5/12/20": 21,
         "deaths - 5/13/20": 13,
         "deaths - 5/14/20": 21,
         "deaths - 5/15/20": 4,
         "deaths - 5/16/20": 7,
         "deaths - 5/17/20": 4,
         "deaths - 5/18/20": 4,
         "deaths - 5/19/20": 6,
         "deaths - 5/2/20": 7,
         "deaths - 5/20/20": 7,
         "deaths - 5/21/20": 6,
         "deaths - 5/22/20": 3,
         "deaths - 5/23/20": 21,
         "deaths - 5/24/20": 10,
         "deaths - 5/25/20": 3,
         "deaths - 5/26/20": 6,
         "deaths - 5/27/20": 15,
         "deaths - 5/28/20": 4,
         "deaths - 5/29/20": 6,
         "deaths - 5/3/20": 1,
         "deaths - 5/30/20": 7,
         "deaths - 5/31/20": 0,
         "deaths - 5/4/20": 7,
         "deaths - 5/5/20": 10,
         "deaths - 5/6/20": 16,
         "deaths - 5/7/20": 0,
         "deaths - 5/8/20": 6,
         "deaths - 5/9/20": 1,
         "deaths - 6/1/20": 4,
         "deaths - 6/10/20": 3,
         "deaths - 6/11/20": 7,
         "deaths - 6/12/20": 37,
         "deaths - 6/13/20": 6,
         "deaths - 6/14/20": 3,
         "deaths - 6/15/20": 12,
         "deaths - 6/16/20": 15,
         "deaths - 6/17/20": 7,
         "deaths - 6/18/20": 16,
         "deaths - 6/19/20": 9,
         "deaths - 6/2/20": 18,
         "deaths - 6/20/20": 13,
         "deaths - 6/21/20": 3,
         "deaths - 6/22/20": 7,
         "deaths - 6/23/20": 16,
         "deaths - 6/24/20": 21,
         "deaths - 6/25/20": 15,
         "deaths - 6/26/20": 15,
         "deaths - 6/27/20": 13,
         "deaths - 6/28/20": 0,
         "deaths - 6/29/20": 12,
         "deaths - 6/3/20": 10,
         "deaths - 6/30/20": 18,
         "deaths - 6/4/20": 19,
         "deaths - 6/5/20": 13,
         "deaths - 6/6/20": 13,
         "deaths - 6/7/20": 1,
         "deaths - 6/8/20": 4,
         "deaths - 6/9/20": 18,
         "deaths - 7/1/20": 6,
         "deaths - 7/10/20": 19,
         "deaths - 7/11/20": 22,
         "deaths - 7/12/20": 4,
         "deaths - 7/13/20": 9,
         "deaths - 7/14/20": 29,
         "deaths - 7/15/20": 25,
         "deaths - 7/16/20": 21,
         "deaths - 7/17/20": 26,
         "deaths - 7/18/20": 34,
         "deaths - 7/19/20": 9,
         "deaths - 7/2/20": 15,
         "deaths - 7/20/20": 6,
         "deaths - 7/21/20": 34,
         "deaths - 7/22/20": 22,
         "deaths - 7/23/20": 50,
         "deaths - 7/24/20": 19,
         "deaths - 7/25/20": 37,
         "deaths - 7/26/20": 1,
         "deaths - 7/27/20": 19,
         "deaths - 7/28/20": 0,
         "deaths - 7/29/20": 60,
         "deaths - 7/3/20": 19,
         "deaths - 7/30/20": 21,
         "deaths - 7/31/20": 40,
         "deaths - 7/4/20": 6,
         "deaths - 7/5/20": 13,
         "deaths - 7/6/20": 7,
         "deaths - 7/7/20": 18,
         "deaths - 7/8/20": 32,
         "deaths - 7/9/20": 32,
         "deaths - 8/1/20": 12,
         "deaths - 8/10/20": 23,
         "deaths - 8/11/20": 53,
         "deaths - 8/12/20": 23,
         "deaths - 8/13/20": 35,
         "deaths - 8/14/20": 18,
         "deaths - 8/15/20": 31,
         "deaths - 8/16/20": 26,
         "deaths - 8/17/20": 31,
         "deaths - 8/18/20": 56,
         "deaths - 8/19/20": 42,
         "deaths - 8/2/20": 9,
         "deaths - 8/20/20": 51,
         "deaths - 8/21/20": 85,
         "deaths - 8/22/20": 21,
         "deaths - 8/23/20": 7,
         "deaths - 8/24/20": 28,
         "deaths - 8/25/20": 59,
         "deaths - 8/26/20": 28,
         "deaths - 8/27/20": 35,
         "deaths - 8/28/20": 38,
         "deaths - 8/29/20": 34,
         "deaths - 8/3/20": 25,
         "deaths - 8/30/20": 31,
         "deaths - 8/31/20": 7,
         "deaths - 8/4/20": 34,
         "deaths - 8/5/20": 40,
         "deaths - 8/6/20": 54,
         "deaths - 8/7/20": 25,
         "deaths - 8/8/20": 16,
         "deaths - 8/9/20": 12,
         "deaths - 9/1/20": 34,
         "deaths - 9/10/20": 85,
         "deaths - 9/11/20": 51,
         "deaths - 9/12/20": 63,
         "deaths - 9/13/20": 22,
         "deaths - 9/14/20": 25,
         "deaths - 9/15/20": 44,
         "deaths - 9/16/20": 38,
         "deaths - 9/2/20": 21,
         "deaths - 9/3/20": 38,
         "deaths - 9/4/20": 37,
         "deaths - 9/5/20": 38,
         "deaths - 9/6/20": 4,
         "deaths - 9/7/20": 4,
         "deaths - 9/8/20": 35,
         "deaths - 9/9/20": 53
        },
        {
         "State": "TX",
         "deaths - 1/22/20": 0,
         "deaths - 1/23/20": 0,
         "deaths - 1/24/20": 0,
         "deaths - 1/25/20": 0,
         "deaths - 1/26/20": 0,
         "deaths - 1/27/20": 0,
         "deaths - 1/28/20": 0,
         "deaths - 1/29/20": 0,
         "deaths - 1/30/20": 0,
         "deaths - 1/31/20": 0,
         "deaths - 2/1/20": 0,
         "deaths - 2/10/20": 0,
         "deaths - 2/11/20": 0,
         "deaths - 2/12/20": 0,
         "deaths - 2/13/20": 0,
         "deaths - 2/14/20": 0,
         "deaths - 2/15/20": 0,
         "deaths - 2/16/20": 0,
         "deaths - 2/17/20": 0,
         "deaths - 2/18/20": 0,
         "deaths - 2/19/20": 0,
         "deaths - 2/2/20": 0,
         "deaths - 2/20/20": 0,
         "deaths - 2/21/20": 0,
         "deaths - 2/22/20": 0,
         "deaths - 2/23/20": 0,
         "deaths - 2/24/20": 0,
         "deaths - 2/25/20": 0,
         "deaths - 2/26/20": 0,
         "deaths - 2/27/20": 0,
         "deaths - 2/28/20": 0,
         "deaths - 2/29/20": 0,
         "deaths - 2/3/20": 0,
         "deaths - 2/4/20": 0,
         "deaths - 2/5/20": 0,
         "deaths - 2/6/20": 0,
         "deaths - 2/7/20": 0,
         "deaths - 2/8/20": 0,
         "deaths - 2/9/20": 0,
         "deaths - 3/1/20": 0,
         "deaths - 3/10/20": 0,
         "deaths - 3/11/20": 0,
         "deaths - 3/12/20": 0,
         "deaths - 3/13/20": 0,
         "deaths - 3/14/20": 0,
         "deaths - 3/15/20": 0,
         "deaths - 3/16/20": 0,
         "deaths - 3/17/20": 0,
         "deaths - 3/18/20": 0,
         "deaths - 3/19/20": 1,
         "deaths - 3/2/20": 0,
         "deaths - 3/20/20": 0,
         "deaths - 3/21/20": 0,
         "deaths - 3/22/20": 0,
         "deaths - 3/23/20": 1,
         "deaths - 3/24/20": 0,
         "deaths - 3/25/20": 2,
         "deaths - 3/26/20": 2,
         "deaths - 3/27/20": 1,
         "deaths - 3/28/20": 2,
         "deaths - 3/29/20": 2,
         "deaths - 3/3/20": 0,
         "deaths - 3/30/20": 1,
         "deaths - 3/31/20": 4,
         "deaths - 3/4/20": 0,
         "deaths - 3/5/20": 0,
         "deaths - 3/6/20": 0,
         "deaths - 3/7/20": 0,
         "deaths - 3/8/20": 0,
         "deaths - 3/9/20": 0,
         "deaths - 4/1/20": 5,
         "deaths - 4/10/20": 9,
         "deaths - 4/11/20": 10,
         "deaths - 4/12/20": 6,
         "deaths - 4/13/20": 0,
         "deaths - 4/14/20": 16,
         "deaths - 4/15/20": 16,
         "deaths - 4/16/20": 10,
         "deaths - 4/17/20": 12,
         "deaths - 4/18/20": 9,
         "deaths - 4/19/20": 8,
         "deaths - 4/2/20": 4,
         "deaths - 4/20/20": 6,
         "deaths - 4/21/20": 7,
         "deaths - 4/22/20": 9,
         "deaths - 4/23/20": 6,
         "deaths - 4/24/20": 11,
         "deaths - 4/25/20": 10,
         "deaths - 4/26/20": 8,
         "deaths - 4/27/20": 6,
         "deaths - 4/28/20": 9,
         "deaths - 4/29/20": 14,
         "deaths - 4/3/20": 4,
         "deaths - 4/30/20": 17,
         "deaths - 4/4/20": 6,
         "deaths - 4/5/20": 7,
         "deaths - 4/6/20": 5,
         "deaths - 4/7/20": 5,
         "deaths - 4/8/20": 8,
         "deaths - 4/9/20": 7,
         "deaths - 5/1/20": 12,
         "deaths - 5/10/20": 13,
         "deaths - 5/11/20": 4,
         "deaths - 5/12/20": 11,
         "deaths - 5/13/20": 9,
         "deaths - 5/14/20": 20,
         "deaths - 5/15/20": 19,
         "deaths - 5/16/20": 11,
         "deaths - 5/17/20": 10,
         "deaths - 5/18/20": 3,
         "deaths - 5/19/20": 8,
         "deaths - 5/2/20": 11,
         "deaths - 5/20/20": 16,
         "deaths - 5/21/20": 7,
         "deaths - 5/22/20": 13,
         "deaths - 5/23/20": 9,
         "deaths - 5/24/20": 4,
         "deaths - 5/25/20": 3,
         "deaths - 5/26/20": 2,
         "deaths - 5/27/20": 8,
         "deaths - 5/28/20": 13,
         "deaths - 5/29/20": 9,
         "deaths - 5/3/20": 7,
         "deaths - 5/30/20": 7,
         "deaths - 5/31/20": 8,
         "deaths - 5/4/20": 6,
         "deaths - 5/5/20": 8,
         "deaths - 5/6/20": 13,
         "deaths - 5/7/20": 9,
         "deaths - 5/8/20": 11,
         "deaths - 5/9/20": 16,
         "deaths - 6/1/20": 2,
         "deaths - 6/10/20": 11,
         "deaths - 6/11/20": 12,
         "deaths - 6/12/20": 6,
         "deaths - 6/13/20": 6,
         "deaths - 6/14/20": 7,
         "deaths - 6/15/20": 2,
         "deaths - 6/16/20": 16,
         "deaths - 6/17/20": 11,
         "deaths - 6/18/20": 14,
         "deaths - 6/19/20": 10,
         "deaths - 6/2/20": 6,
         "deaths - 6/20/20": 8,
         "deaths - 6/21/20": 6,
         "deaths - 6/22/20": 3,
         "deaths - 6/23/20": 9,
         "deaths - 6/24/20": 9,
         "deaths - 6/25/20": 16,
         "deaths - 6/26/20": 11,
         "deaths - 6/27/20": 13,
         "deaths - 6/28/20": 9,
         "deaths - 6/29/20": 3,
         "deaths - 6/3/20": 12,
         "deaths - 6/30/20": 7,
         "deaths - 6/4/20": 11,
         "deaths - 6/5/20": 7,
         "deaths - 6/6/20": 10,
         "deaths - 6/7/20": 4,
         "deaths - 6/8/20": 2,
         "deaths - 6/9/20": 7,
         "deaths - 7/1/20": 20,
         "deaths - 7/10/20": 33,
         "deaths - 7/11/20": 34,
         "deaths - 7/12/20": 28,
         "deaths - 7/13/20": 15,
         "deaths - 7/14/20": 29,
         "deaths - 7/15/20": 37,
         "deaths - 7/16/20": 42,
         "deaths - 7/17/20": 57,
         "deaths - 7/18/20": 41,
         "deaths - 7/19/20": 21,
         "deaths - 7/2/20": 14,
         "deaths - 7/20/20": 14,
         "deaths - 7/21/20": 23,
         "deaths - 7/22/20": 41,
         "deaths - 7/23/20": 36,
         "deaths - 7/24/20": 37,
         "deaths - 7/25/20": 31,
         "deaths - 7/26/20": 35,
         "deaths - 7/27/20": 412,
         "deaths - 7/28/20": 0,
         "deaths - 7/29/20": 153,
         "deaths - 7/3/20": 17,
         "deaths - 7/30/20": 55,
         "deaths - 7/31/20": 102,
         "deaths - 7/4/20": 11,
         "deaths - 7/5/20": 10,
         "deaths - 7/6/20": 6,
         "deaths - 7/7/20": 21,
         "deaths - 7/8/20": 33,
         "deaths - 7/9/20": 36,
         "deaths - 8/1/20": 92,
         "deaths - 8/10/20": 11,
         "deaths - 8/11/20": 75,
         "deaths - 8/12/20": 110,
         "deaths - 8/13/20": 88,
         "deaths - 8/14/20": 107,
         "deaths - 8/15/20": 82,
         "deaths - 8/16/20": 49,
         "deaths - 8/17/20": 18,
         "deaths - 8/18/20": 79,
         "deaths - 8/19/20": 106,
         "deaths - 8/2/20": 0,
         "deaths - 8/20/20": 81,
         "deaths - 8/21/20": 89,
         "deaths - 8/22/20": 74,
         "deaths - 8/23/20": 36,
         "deaths - 8/24/20": 9,
         "deaths - 8/25/20": 62,
         "deaths - 8/26/20": 79,
         "deaths - 8/27/20": 91,
         "deaths - 8/28/20": 68,
         "deaths - 8/29/20": 53,
         "deaths - 8/3/20": 62,
         "deaths - 8/30/20": 31,
         "deaths - 8/31/20": 9,
         "deaths - 8/4/20": 84,
         "deaths - 8/5/20": 81,
         "deaths - 8/6/20": 106,
         "deaths - 8/7/20": 101,
         "deaths - 8/8/20": 85,
         "deaths - 8/9/20": 39,
         "deaths - 9/1/20": 49,
         "deaths - 9/10/20": 56,
         "deaths - 9/11/20": 50,
         "deaths - 9/12/20": 51,
         "deaths - 9/13/20": 16,
         "deaths - 9/14/20": 7,
         "deaths - 9/15/20": 46,
         "deaths - 9/16/20": 47,
         "deaths - 9/2/20": 65,
         "deaths - 9/3/20": 76,
         "deaths - 9/4/20": 48,
         "deaths - 9/5/20": 61,
         "deaths - 9/6/20": 22,
         "deaths - 9/7/20": 7,
         "deaths - 9/8/20": 21,
         "deaths - 9/9/20": 48
        },
        {
         "State": "WA",
         "deaths - 1/22/20": 0,
         "deaths - 1/23/20": 0,
         "deaths - 1/24/20": 0,
         "deaths - 1/25/20": 0,
         "deaths - 1/26/20": 0,
         "deaths - 1/27/20": 0,
         "deaths - 1/28/20": 0,
         "deaths - 1/29/20": 0,
         "deaths - 1/30/20": 0,
         "deaths - 1/31/20": 0,
         "deaths - 2/1/20": 0,
         "deaths - 2/10/20": 0,
         "deaths - 2/11/20": 0,
         "deaths - 2/12/20": 0,
         "deaths - 2/13/20": 0,
         "deaths - 2/14/20": 0,
         "deaths - 2/15/20": 0,
         "deaths - 2/16/20": 0,
         "deaths - 2/17/20": 0,
         "deaths - 2/18/20": 0,
         "deaths - 2/19/20": 0,
         "deaths - 2/2/20": 0,
         "deaths - 2/20/20": 0,
         "deaths - 2/21/20": 0,
         "deaths - 2/22/20": 0,
         "deaths - 2/23/20": 0,
         "deaths - 2/24/20": 0,
         "deaths - 2/25/20": 0,
         "deaths - 2/26/20": 0,
         "deaths - 2/27/20": 0,
         "deaths - 2/28/20": 0,
         "deaths - 2/29/20": 1,
         "deaths - 2/3/20": 0,
         "deaths - 2/4/20": 0,
         "deaths - 2/5/20": 0,
         "deaths - 2/6/20": 0,
         "deaths - 2/7/20": 0,
         "deaths - 2/8/20": 0,
         "deaths - 2/9/20": 0,
         "deaths - 3/1/20": 0,
         "deaths - 3/10/20": 1,
         "deaths - 3/11/20": 7,
         "deaths - 3/12/20": 3,
         "deaths - 3/13/20": 8,
         "deaths - 3/14/20": 4,
         "deaths - 3/15/20": 3,
         "deaths - 3/16/20": 8,
         "deaths - 3/17/20": 5,
         "deaths - 3/18/20": 18,
         "deaths - 3/19/20": 11,
         "deaths - 3/2/20": 7,
         "deaths - 3/20/20": 12,
         "deaths - 3/21/20": 13,
         "deaths - 3/22/20": 1,
         "deaths - 3/23/20": 20,
         "deaths - 3/24/20": 17,
         "deaths - 3/25/20": 8,
         "deaths - 3/26/20": 18,
         "deaths - 3/27/20": 33,
         "deaths - 3/28/20": 22,
         "deaths - 3/29/20": 13,
         "deaths - 3/3/20": 1,
         "deaths - 3/30/20": 30,
         "deaths - 3/31/20": 5,
         "deaths - 3/4/20": 4,
         "deaths - 3/5/20": 1,
         "deaths - 3/6/20": 3,
         "deaths - 3/7/20": 4,
         "deaths - 3/8/20": 4,
         "deaths - 3/9/20": 5,
         "deaths - 4/1/20": 39,
         "deaths - 4/10/20": 37,
         "deaths - 4/11/20": 22,
         "deaths - 4/12/20": 22,
         "deaths - 4/13/20": 0,
         "deaths - 4/14/20": 43,
         "deaths - 4/15/20": 34,
         "deaths - 4/16/20": 21,
         "deaths - 4/17/20": 26,
         "deaths - 4/18/20": 28,
         "deaths - 4/19/20": 13,
         "deaths - 4/2/20": 17,
         "deaths - 4/20/20": 24,
         "deaths - 4/21/20": 38,
         "deaths - 4/22/20": 14,
         "deaths - 4/23/20": 24,
         "deaths - 4/24/20": 16,
         "deaths - 4/25/20": 20,
         "deaths - 4/26/20": 16,
         "deaths - 4/27/20": 20,
         "deaths - 4/28/20": 28,
         "deaths - 4/29/20": 20,
         "deaths - 4/3/20": 30,
         "deaths - 4/30/20": 17,
         "deaths - 4/4/20": 29,
         "deaths - 4/5/20": 38,
         "deaths - 4/6/20": 45,
         "deaths - 4/7/20": 29,
         "deaths - 4/8/20": 34,
         "deaths - 4/9/20": 34,
         "deaths - 5/1/20": 12,
         "deaths - 5/10/20": 13,
         "deaths - 5/11/20": 18,
         "deaths - 5/12/20": 22,
         "deaths - 5/13/20": 16,
         "deaths - 5/14/20": 12,
         "deaths - 5/15/20": 11,
         "deaths - 5/16/20": 11,
         "deaths - 5/17/20": 3,
         "deaths - 5/18/20": 1,
         "deaths - 5/19/20": 38,
         "deaths - 5/2/20": 9,
         "deaths - 5/20/20": 8,
         "deaths - 5/21/20": 11,
         "deaths - 5/22/20": 8,
         "deaths - 5/23/20": 0,
         "deaths - 5/24/20": 14,
         "deaths - 5/25/20": 12,
         "deaths - 5/26/20": 11,
         "deaths - 5/27/20": 22,
         "deaths - 5/28/20": 14,
         "deaths - 5/29/20": 7,
         "deaths - 5/3/20": 5,
         "deaths - 5/30/20": 9,
         "deaths - 5/31/20": 0,
         "deaths - 5/4/20": 9,
         "deaths - 5/5/20": 28,
         "deaths - 5/6/20": 11,
         "deaths - 5/7/20": 28,
         "deaths - 5/8/20": 18,
         "deaths - 5/9/20": 21,
         "deaths - 6/1/20": 7,
         "deaths - 6/10/20": 17,
         "deaths - 6/11/20": 7,
         "deaths - 6/12/20": 11,
         "deaths - 6/13/20": 12,
         "deaths - 6/14/20": 5,
         "deaths - 6/15/20": 3,
         "deaths - 6/16/20": 7,
         "deaths - 6/17/20": 1,
         "deaths - 6/18/20": 25,
         "deaths - 6/19/20": 13,
         "deaths - 6/2/20": 8,
         "deaths - 6/20/20": 13,
         "deaths - 6/21/20": 5,
         "deaths - 6/22/20": 8,
         "deaths - 6/23/20": 12,
         "deaths - 6/24/20": 12,
         "deaths - 6/25/20": 9,
         "deaths - 6/26/20": 7,
         "deaths - 6/27/20": 8,
         "deaths - 6/28/20": 0,
         "deaths - 6/29/20": 13,
         "deaths - 6/3/20": 8,
         "deaths - 6/30/20": 16,
         "deaths - 6/4/20": 4,
         "deaths - 6/5/20": 14,
         "deaths - 6/6/20": 5,
         "deaths - 6/7/20": 5,
         "deaths - 6/8/20": 5,
         "deaths - 6/9/20": 20,
         "deaths - 7/1/20": 9,
         "deaths - 7/10/20": 18,
         "deaths - 7/11/20": 0,
         "deaths - 7/12/20": 14,
         "deaths - 7/13/20": -49,
         "deaths - 7/14/20": 9,
         "deaths - 7/15/20": 28,
         "deaths - 7/16/20": 9,
         "deaths - 7/17/20": 8,
         "deaths - 7/18/20": 14,
         "deaths - 7/19/20": 4,
         "deaths - 7/2/20": 4,
         "deaths - 7/20/20": 7,
         "deaths - 7/21/20": 12,
         "deaths - 7/22/20": 5,
         "deaths - 7/23/20": 16,
         "deaths - 7/24/20": 13,
         "deaths - 7/25/20": 8,
         "deaths - 7/26/20": 8,
         "deaths - 7/27/20": 24,
         "deaths - 7/28/20": 0,
         "deaths - 7/29/20": 47,
         "deaths - 7/3/20": 12,
         "deaths - 7/30/20": 12,
         "deaths - 7/31/20": 0,
         "deaths - 7/4/20": 3,
         "deaths - 7/5/20": 7,
         "deaths - 7/6/20": 13,
         "deaths - 7/7/20": 17,
         "deaths - 7/8/20": 13,
         "deaths - 7/9/20": 18,
         "deaths - 8/1/20": 38,
         "deaths - 8/10/20": 8,
         "deaths - 8/11/20": 25,
         "deaths - 8/12/20": 13,
         "deaths - 8/13/20": 17,
         "deaths - 8/14/20": 22,
         "deaths - 8/15/20": 12,
         "deaths - 8/16/20": 18,
         "deaths - 8/17/20": 8,
         "deaths - 8/18/20": 29,
         "deaths - 8/19/20": 21,
         "deaths - 8/2/20": 0,
         "deaths - 8/20/20": 16,
         "deaths - 8/21/20": 17,
         "deaths - 8/22/20": 12,
         "deaths - 8/23/20": 7,
         "deaths - 8/24/20": 4,
         "deaths - 8/25/20": 11,
         "deaths - 8/26/20": 8,
         "deaths - 8/27/20": 12,
         "deaths - 8/28/20": 18,
         "deaths - 8/29/20": 0,
         "deaths - 8/3/20": 9,
         "deaths - 8/30/20": 0,
         "deaths - 8/31/20": 14,
         "deaths - 8/4/20": 21,
         "deaths - 8/5/20": 8,
         "deaths - 8/6/20": 35,
         "deaths - 8/7/20": 26,
         "deaths - 8/8/20": 1,
         "deaths - 8/9/20": 24,
         "deaths - 9/1/20": 18,
         "deaths - 9/10/20": 9,
         "deaths - 9/11/20": 11,
         "deaths - 9/12/20": 0,
         "deaths - 9/13/20": 0,
         "deaths - 9/14/20": 20,
         "deaths - 9/15/20": 12,
         "deaths - 9/16/20": 7,
         "deaths - 9/2/20": 9,
         "deaths - 9/3/20": 11,
         "deaths - 9/4/20": 12,
         "deaths - 9/5/20": 1,
         "deaths - 9/6/20": 0,
         "deaths - 9/7/20": 0,
         "deaths - 9/8/20": 0,
         "deaths - 9/9/20": 34
        }
       ],
       "schema": {
        "fields": [
         {
          "name": "State",
          "type": "string"
         },
         {
          "name": "deaths - 1/22/20",
          "type": "integer"
         },
         {
          "name": "deaths - 1/23/20",
          "type": "integer"
         },
         {
          "name": "deaths - 1/24/20",
          "type": "integer"
         },
         {
          "name": "deaths - 1/25/20",
          "type": "integer"
         },
         {
          "name": "deaths - 1/26/20",
          "type": "integer"
         },
         {
          "name": "deaths - 1/27/20",
          "type": "integer"
         },
         {
          "name": "deaths - 1/28/20",
          "type": "integer"
         },
         {
          "name": "deaths - 1/29/20",
          "type": "integer"
         },
         {
          "name": "deaths - 1/30/20",
          "type": "integer"
         },
         {
          "name": "deaths - 1/31/20",
          "type": "integer"
         },
         {
          "name": "deaths - 2/1/20",
          "type": "integer"
         },
         {
          "name": "deaths - 2/2/20",
          "type": "integer"
         },
         {
          "name": "deaths - 2/3/20",
          "type": "integer"
         },
         {
          "name": "deaths - 2/4/20",
          "type": "integer"
         },
         {
          "name": "deaths - 2/5/20",
          "type": "integer"
         },
         {
          "name": "deaths - 2/6/20",
          "type": "integer"
         },
         {
          "name": "deaths - 2/7/20",
          "type": "integer"
         },
         {
          "name": "deaths - 2/8/20",
          "type": "integer"
         },
         {
          "name": "deaths - 2/9/20",
          "type": "integer"
         },
         {
          "name": "deaths - 2/10/20",
          "type": "integer"
         },
         {
          "name": "deaths - 2/11/20",
          "type": "integer"
         },
         {
          "name": "deaths - 2/12/20",
          "type": "integer"
         },
         {
          "name": "deaths - 2/13/20",
          "type": "integer"
         },
         {
          "name": "deaths - 2/14/20",
          "type": "integer"
         },
         {
          "name": "deaths - 2/15/20",
          "type": "integer"
         },
         {
          "name": "deaths - 2/16/20",
          "type": "integer"
         },
         {
          "name": "deaths - 2/17/20",
          "type": "integer"
         },
         {
          "name": "deaths - 2/18/20",
          "type": "integer"
         },
         {
          "name": "deaths - 2/19/20",
          "type": "integer"
         },
         {
          "name": "deaths - 2/20/20",
          "type": "integer"
         },
         {
          "name": "deaths - 2/21/20",
          "type": "integer"
         },
         {
          "name": "deaths - 2/22/20",
          "type": "integer"
         },
         {
          "name": "deaths - 2/23/20",
          "type": "integer"
         },
         {
          "name": "deaths - 2/24/20",
          "type": "integer"
         },
         {
          "name": "deaths - 2/25/20",
          "type": "integer"
         },
         {
          "name": "deaths - 2/26/20",
          "type": "integer"
         },
         {
          "name": "deaths - 2/27/20",
          "type": "integer"
         },
         {
          "name": "deaths - 2/28/20",
          "type": "integer"
         },
         {
          "name": "deaths - 2/29/20",
          "type": "integer"
         },
         {
          "name": "deaths - 3/1/20",
          "type": "integer"
         },
         {
          "name": "deaths - 3/2/20",
          "type": "integer"
         },
         {
          "name": "deaths - 3/3/20",
          "type": "integer"
         },
         {
          "name": "deaths - 3/4/20",
          "type": "integer"
         },
         {
          "name": "deaths - 3/5/20",
          "type": "integer"
         },
         {
          "name": "deaths - 3/6/20",
          "type": "integer"
         },
         {
          "name": "deaths - 3/7/20",
          "type": "integer"
         },
         {
          "name": "deaths - 3/8/20",
          "type": "integer"
         },
         {
          "name": "deaths - 3/9/20",
          "type": "integer"
         },
         {
          "name": "deaths - 3/10/20",
          "type": "integer"
         },
         {
          "name": "deaths - 3/11/20",
          "type": "integer"
         },
         {
          "name": "deaths - 3/12/20",
          "type": "integer"
         },
         {
          "name": "deaths - 3/13/20",
          "type": "integer"
         },
         {
          "name": "deaths - 3/14/20",
          "type": "integer"
         },
         {
          "name": "deaths - 3/15/20",
          "type": "integer"
         },
         {
          "name": "deaths - 3/16/20",
          "type": "integer"
         },
         {
          "name": "deaths - 3/17/20",
          "type": "integer"
         },
         {
          "name": "deaths - 3/18/20",
          "type": "integer"
         },
         {
          "name": "deaths - 3/19/20",
          "type": "integer"
         },
         {
          "name": "deaths - 3/20/20",
          "type": "integer"
         },
         {
          "name": "deaths - 3/21/20",
          "type": "integer"
         },
         {
          "name": "deaths - 3/22/20",
          "type": "integer"
         },
         {
          "name": "deaths - 3/23/20",
          "type": "integer"
         },
         {
          "name": "deaths - 3/24/20",
          "type": "integer"
         },
         {
          "name": "deaths - 3/25/20",
          "type": "integer"
         },
         {
          "name": "deaths - 3/26/20",
          "type": "integer"
         },
         {
          "name": "deaths - 3/27/20",
          "type": "integer"
         },
         {
          "name": "deaths - 3/28/20",
          "type": "integer"
         },
         {
          "name": "deaths - 3/29/20",
          "type": "integer"
         },
         {
          "name": "deaths - 3/30/20",
          "type": "integer"
         },
         {
          "name": "deaths - 3/31/20",
          "type": "integer"
         },
         {
          "name": "deaths - 4/1/20",
          "type": "integer"
         },
         {
          "name": "deaths - 4/2/20",
          "type": "integer"
         },
         {
          "name": "deaths - 4/3/20",
          "type": "integer"
         },
         {
          "name": "deaths - 4/4/20",
          "type": "integer"
         },
         {
          "name": "deaths - 4/5/20",
          "type": "integer"
         },
         {
          "name": "deaths - 4/6/20",
          "type": "integer"
         },
         {
          "name": "deaths - 4/7/20",
          "type": "integer"
         },
         {
          "name": "deaths - 4/8/20",
          "type": "integer"
         },
         {
          "name": "deaths - 4/9/20",
          "type": "integer"
         },
         {
          "name": "deaths - 4/10/20",
          "type": "integer"
         },
         {
          "name": "deaths - 4/11/20",
          "type": "integer"
         },
         {
          "name": "deaths - 4/12/20",
          "type": "integer"
         },
         {
          "name": "deaths - 4/13/20",
          "type": "integer"
         },
         {
          "name": "deaths - 4/14/20",
          "type": "integer"
         },
         {
          "name": "deaths - 4/15/20",
          "type": "integer"
         },
         {
          "name": "deaths - 4/16/20",
          "type": "integer"
         },
         {
          "name": "deaths - 4/17/20",
          "type": "integer"
         },
         {
          "name": "deaths - 4/18/20",
          "type": "integer"
         },
         {
          "name": "deaths - 4/19/20",
          "type": "integer"
         },
         {
          "name": "deaths - 4/20/20",
          "type": "integer"
         },
         {
          "name": "deaths - 4/21/20",
          "type": "integer"
         },
         {
          "name": "deaths - 4/22/20",
          "type": "integer"
         },
         {
          "name": "deaths - 4/23/20",
          "type": "integer"
         },
         {
          "name": "deaths - 4/24/20",
          "type": "integer"
         },
         {
          "name": "deaths - 4/25/20",
          "type": "integer"
         },
         {
          "name": "deaths - 4/26/20",
          "type": "integer"
         },
         {
          "name": "deaths - 4/27/20",
          "type": "integer"
         },
         {
          "name": "deaths - 4/28/20",
          "type": "integer"
         },
         {
          "name": "deaths - 4/29/20",
          "type": "integer"
         },
         {
          "name": "deaths - 4/30/20",
          "type": "integer"
         },
         {
          "name": "deaths - 5/1/20",
          "type": "integer"
         },
         {
          "name": "deaths - 5/2/20",
          "type": "integer"
         },
         {
          "name": "deaths - 5/3/20",
          "type": "integer"
         },
         {
          "name": "deaths - 5/4/20",
          "type": "integer"
         },
         {
          "name": "deaths - 5/5/20",
          "type": "integer"
         },
         {
          "name": "deaths - 5/6/20",
          "type": "integer"
         },
         {
          "name": "deaths - 5/7/20",
          "type": "integer"
         },
         {
          "name": "deaths - 5/8/20",
          "type": "integer"
         },
         {
          "name": "deaths - 5/9/20",
          "type": "integer"
         },
         {
          "name": "deaths - 5/10/20",
          "type": "integer"
         },
         {
          "name": "deaths - 5/11/20",
          "type": "integer"
         },
         {
          "name": "deaths - 5/12/20",
          "type": "integer"
         },
         {
          "name": "deaths - 5/13/20",
          "type": "integer"
         },
         {
          "name": "deaths - 5/14/20",
          "type": "integer"
         },
         {
          "name": "deaths - 5/15/20",
          "type": "integer"
         },
         {
          "name": "deaths - 5/16/20",
          "type": "integer"
         },
         {
          "name": "deaths - 5/17/20",
          "type": "integer"
         },
         {
          "name": "deaths - 5/18/20",
          "type": "integer"
         },
         {
          "name": "deaths - 5/19/20",
          "type": "integer"
         },
         {
          "name": "deaths - 5/20/20",
          "type": "integer"
         },
         {
          "name": "deaths - 5/21/20",
          "type": "integer"
         },
         {
          "name": "deaths - 5/22/20",
          "type": "integer"
         },
         {
          "name": "deaths - 5/23/20",
          "type": "integer"
         },
         {
          "name": "deaths - 5/24/20",
          "type": "integer"
         },
         {
          "name": "deaths - 5/25/20",
          "type": "integer"
         },
         {
          "name": "deaths - 5/26/20",
          "type": "integer"
         },
         {
          "name": "deaths - 5/27/20",
          "type": "integer"
         },
         {
          "name": "deaths - 5/28/20",
          "type": "integer"
         },
         {
          "name": "deaths - 5/29/20",
          "type": "integer"
         },
         {
          "name": "deaths - 5/30/20",
          "type": "integer"
         },
         {
          "name": "deaths - 5/31/20",
          "type": "integer"
         },
         {
          "name": "deaths - 6/1/20",
          "type": "integer"
         },
         {
          "name": "deaths - 6/2/20",
          "type": "integer"
         },
         {
          "name": "deaths - 6/3/20",
          "type": "integer"
         },
         {
          "name": "deaths - 6/4/20",
          "type": "integer"
         },
         {
          "name": "deaths - 6/5/20",
          "type": "integer"
         },
         {
          "name": "deaths - 6/6/20",
          "type": "integer"
         },
         {
          "name": "deaths - 6/7/20",
          "type": "integer"
         },
         {
          "name": "deaths - 6/8/20",
          "type": "integer"
         },
         {
          "name": "deaths - 6/9/20",
          "type": "integer"
         },
         {
          "name": "deaths - 6/10/20",
          "type": "integer"
         },
         {
          "name": "deaths - 6/11/20",
          "type": "integer"
         },
         {
          "name": "deaths - 6/12/20",
          "type": "integer"
         },
         {
          "name": "deaths - 6/13/20",
          "type": "integer"
         },
         {
          "name": "deaths - 6/14/20",
          "type": "integer"
         },
         {
          "name": "deaths - 6/15/20",
          "type": "integer"
         },
         {
          "name": "deaths - 6/16/20",
          "type": "integer"
         },
         {
          "name": "deaths - 6/17/20",
          "type": "integer"
         },
         {
          "name": "deaths - 6/18/20",
          "type": "integer"
         },
         {
          "name": "deaths - 6/19/20",
          "type": "integer"
         },
         {
          "name": "deaths - 6/20/20",
          "type": "integer"
         },
         {
          "name": "deaths - 6/21/20",
          "type": "integer"
         },
         {
          "name": "deaths - 6/22/20",
          "type": "integer"
         },
         {
          "name": "deaths - 6/23/20",
          "type": "integer"
         },
         {
          "name": "deaths - 6/24/20",
          "type": "integer"
         },
         {
          "name": "deaths - 6/25/20",
          "type": "integer"
         },
         {
          "name": "deaths - 6/26/20",
          "type": "integer"
         },
         {
          "name": "deaths - 6/27/20",
          "type": "integer"
         },
         {
          "name": "deaths - 6/28/20",
          "type": "integer"
         },
         {
          "name": "deaths - 6/29/20",
          "type": "integer"
         },
         {
          "name": "deaths - 6/30/20",
          "type": "integer"
         },
         {
          "name": "deaths - 7/1/20",
          "type": "integer"
         },
         {
          "name": "deaths - 7/2/20",
          "type": "integer"
         },
         {
          "name": "deaths - 7/3/20",
          "type": "integer"
         },
         {
          "name": "deaths - 7/4/20",
          "type": "integer"
         },
         {
          "name": "deaths - 7/5/20",
          "type": "integer"
         },
         {
          "name": "deaths - 7/6/20",
          "type": "integer"
         },
         {
          "name": "deaths - 7/7/20",
          "type": "integer"
         },
         {
          "name": "deaths - 7/8/20",
          "type": "integer"
         },
         {
          "name": "deaths - 7/9/20",
          "type": "integer"
         },
         {
          "name": "deaths - 7/10/20",
          "type": "integer"
         },
         {
          "name": "deaths - 7/11/20",
          "type": "integer"
         },
         {
          "name": "deaths - 7/12/20",
          "type": "integer"
         },
         {
          "name": "deaths - 7/13/20",
          "type": "integer"
         },
         {
          "name": "deaths - 7/14/20",
          "type": "integer"
         },
         {
          "name": "deaths - 7/15/20",
          "type": "integer"
         },
         {
          "name": "deaths - 7/16/20",
          "type": "integer"
         },
         {
          "name": "deaths - 7/17/20",
          "type": "integer"
         },
         {
          "name": "deaths - 7/18/20",
          "type": "integer"
         },
         {
          "name": "deaths - 7/19/20",
          "type": "integer"
         },
         {
          "name": "deaths - 7/20/20",
          "type": "integer"
         },
         {
          "name": "deaths - 7/21/20",
          "type": "integer"
         },
         {
          "name": "deaths - 7/22/20",
          "type": "integer"
         },
         {
          "name": "deaths - 7/23/20",
          "type": "integer"
         },
         {
          "name": "deaths - 7/24/20",
          "type": "integer"
         },
         {
          "name": "deaths - 7/25/20",
          "type": "integer"
         },
         {
          "name": "deaths - 7/26/20",
          "type": "integer"
         },
         {
          "name": "deaths - 7/27/20",
          "type": "integer"
         },
         {
          "name": "deaths - 7/28/20",
          "type": "integer"
         },
         {
          "name": "deaths - 7/29/20",
          "type": "integer"
         },
         {
          "name": "deaths - 7/30/20",
          "type": "integer"
         },
         {
          "name": "deaths - 7/31/20",
          "type": "integer"
         },
         {
          "name": "deaths - 8/1/20",
          "type": "integer"
         },
         {
          "name": "deaths - 8/2/20",
          "type": "integer"
         },
         {
          "name": "deaths - 8/3/20",
          "type": "integer"
         },
         {
          "name": "deaths - 8/4/20",
          "type": "integer"
         },
         {
          "name": "deaths - 8/5/20",
          "type": "integer"
         },
         {
          "name": "deaths - 8/6/20",
          "type": "integer"
         },
         {
          "name": "deaths - 8/7/20",
          "type": "integer"
         },
         {
          "name": "deaths - 8/8/20",
          "type": "integer"
         },
         {
          "name": "deaths - 8/9/20",
          "type": "integer"
         },
         {
          "name": "deaths - 8/10/20",
          "type": "integer"
         },
         {
          "name": "deaths - 8/11/20",
          "type": "integer"
         },
         {
          "name": "deaths - 8/12/20",
          "type": "integer"
         },
         {
          "name": "deaths - 8/13/20",
          "type": "integer"
         },
         {
          "name": "deaths - 8/14/20",
          "type": "integer"
         },
         {
          "name": "deaths - 8/15/20",
          "type": "integer"
         },
         {
          "name": "deaths - 8/16/20",
          "type": "integer"
         },
         {
          "name": "deaths - 8/17/20",
          "type": "integer"
         },
         {
          "name": "deaths - 8/18/20",
          "type": "integer"
         },
         {
          "name": "deaths - 8/19/20",
          "type": "integer"
         },
         {
          "name": "deaths - 8/20/20",
          "type": "integer"
         },
         {
          "name": "deaths - 8/21/20",
          "type": "integer"
         },
         {
          "name": "deaths - 8/22/20",
          "type": "integer"
         },
         {
          "name": "deaths - 8/23/20",
          "type": "integer"
         },
         {
          "name": "deaths - 8/24/20",
          "type": "integer"
         },
         {
          "name": "deaths - 8/25/20",
          "type": "integer"
         },
         {
          "name": "deaths - 8/26/20",
          "type": "integer"
         },
         {
          "name": "deaths - 8/27/20",
          "type": "integer"
         },
         {
          "name": "deaths - 8/28/20",
          "type": "integer"
         },
         {
          "name": "deaths - 8/29/20",
          "type": "integer"
         },
         {
          "name": "deaths - 8/30/20",
          "type": "integer"
         },
         {
          "name": "deaths - 8/31/20",
          "type": "integer"
         },
         {
          "name": "deaths - 9/1/20",
          "type": "integer"
         },
         {
          "name": "deaths - 9/2/20",
          "type": "integer"
         },
         {
          "name": "deaths - 9/3/20",
          "type": "integer"
         },
         {
          "name": "deaths - 9/4/20",
          "type": "integer"
         },
         {
          "name": "deaths - 9/5/20",
          "type": "integer"
         },
         {
          "name": "deaths - 9/6/20",
          "type": "integer"
         },
         {
          "name": "deaths - 9/7/20",
          "type": "integer"
         },
         {
          "name": "deaths - 9/8/20",
          "type": "integer"
         },
         {
          "name": "deaths - 9/9/20",
          "type": "integer"
         },
         {
          "name": "deaths - 9/10/20",
          "type": "integer"
         },
         {
          "name": "deaths - 9/11/20",
          "type": "integer"
         },
         {
          "name": "deaths - 9/12/20",
          "type": "integer"
         },
         {
          "name": "deaths - 9/13/20",
          "type": "integer"
         },
         {
          "name": "deaths - 9/14/20",
          "type": "integer"
         },
         {
          "name": "deaths - 9/15/20",
          "type": "integer"
         },
         {
          "name": "deaths - 9/16/20",
          "type": "integer"
         }
        ],
        "pandas_version": "0.20.0",
        "primaryKey": [
         "State"
        ]
       }
      },
      "text/html": [
       "<div>\n",
       "<style scoped>\n",
       "    .dataframe tbody tr th:only-of-type {\n",
       "        vertical-align: middle;\n",
       "    }\n",
       "\n",
       "    .dataframe tbody tr th {\n",
       "        vertical-align: top;\n",
       "    }\n",
       "\n",
       "    .dataframe thead th {\n",
       "        text-align: right;\n",
       "    }\n",
       "</style>\n",
       "<table border=\"1\" class=\"dataframe\">\n",
       "  <thead>\n",
       "    <tr style=\"text-align: right;\">\n",
       "      <th></th>\n",
       "      <th>deaths - 1/22/20</th>\n",
       "      <th>deaths - 1/23/20</th>\n",
       "      <th>deaths - 1/24/20</th>\n",
       "      <th>deaths - 1/25/20</th>\n",
       "      <th>deaths - 1/26/20</th>\n",
       "      <th>...</th>\n",
       "      <th>deaths - 9/12/20</th>\n",
       "      <th>deaths - 9/13/20</th>\n",
       "      <th>deaths - 9/14/20</th>\n",
       "      <th>deaths - 9/15/20</th>\n",
       "      <th>deaths - 9/16/20</th>\n",
       "    </tr>\n",
       "    <tr>\n",
       "      <th>State</th>\n",
       "      <th></th>\n",
       "      <th></th>\n",
       "      <th></th>\n",
       "      <th></th>\n",
       "      <th></th>\n",
       "      <th></th>\n",
       "      <th></th>\n",
       "      <th></th>\n",
       "      <th></th>\n",
       "      <th></th>\n",
       "      <th></th>\n",
       "    </tr>\n",
       "  </thead>\n",
       "  <tbody>\n",
       "    <tr>\n",
       "      <td>CA</td>\n",
       "      <td>0</td>\n",
       "      <td>0</td>\n",
       "      <td>0</td>\n",
       "      <td>0</td>\n",
       "      <td>0</td>\n",
       "      <td>...</td>\n",
       "      <td>18</td>\n",
       "      <td>13</td>\n",
       "      <td>21</td>\n",
       "      <td>37</td>\n",
       "      <td>24</td>\n",
       "    </tr>\n",
       "    <tr>\n",
       "      <td>CO</td>\n",
       "      <td>0</td>\n",
       "      <td>0</td>\n",
       "      <td>0</td>\n",
       "      <td>0</td>\n",
       "      <td>0</td>\n",
       "      <td>...</td>\n",
       "      <td>5</td>\n",
       "      <td>0</td>\n",
       "      <td>3</td>\n",
       "      <td>10</td>\n",
       "      <td>10</td>\n",
       "    </tr>\n",
       "    <tr>\n",
       "      <td>PA</td>\n",
       "      <td>0</td>\n",
       "      <td>0</td>\n",
       "      <td>0</td>\n",
       "      <td>0</td>\n",
       "      <td>0</td>\n",
       "      <td>...</td>\n",
       "      <td>0</td>\n",
       "      <td>0</td>\n",
       "      <td>25</td>\n",
       "      <td>5</td>\n",
       "      <td>22</td>\n",
       "    </tr>\n",
       "    <tr>\n",
       "      <td>TN</td>\n",
       "      <td>0</td>\n",
       "      <td>0</td>\n",
       "      <td>0</td>\n",
       "      <td>0</td>\n",
       "      <td>0</td>\n",
       "      <td>...</td>\n",
       "      <td>63</td>\n",
       "      <td>22</td>\n",
       "      <td>25</td>\n",
       "      <td>44</td>\n",
       "      <td>38</td>\n",
       "    </tr>\n",
       "    <tr>\n",
       "      <td>TX</td>\n",
       "      <td>0</td>\n",
       "      <td>0</td>\n",
       "      <td>0</td>\n",
       "      <td>0</td>\n",
       "      <td>0</td>\n",
       "      <td>...</td>\n",
       "      <td>51</td>\n",
       "      <td>16</td>\n",
       "      <td>7</td>\n",
       "      <td>46</td>\n",
       "      <td>47</td>\n",
       "    </tr>\n",
       "    <tr>\n",
       "      <td>WA</td>\n",
       "      <td>0</td>\n",
       "      <td>0</td>\n",
       "      <td>0</td>\n",
       "      <td>0</td>\n",
       "      <td>0</td>\n",
       "      <td>...</td>\n",
       "      <td>0</td>\n",
       "      <td>0</td>\n",
       "      <td>20</td>\n",
       "      <td>12</td>\n",
       "      <td>7</td>\n",
       "    </tr>\n",
       "  </tbody>\n",
       "</table>\n",
       "<p>6 rows × 239 columns</p>\n",
       "</div>"
      ],
      "text/plain": [
       "       deaths - 1/22/20  deaths - 1/23/20  deaths - 1/24/20  deaths - 1/25/20  \\\n",
       "State                                                                           \n",
       "CA                    0                 0                 0                 0   \n",
       "CO                    0                 0                 0                 0   \n",
       "PA                    0                 0                 0                 0   \n",
       "TN                    0                 0                 0                 0   \n",
       "TX                    0                 0                 0                 0   \n",
       "WA                    0                 0                 0                 0   \n",
       "\n",
       "       deaths - 1/26/20  ...  deaths - 9/12/20  deaths - 9/13/20  \\\n",
       "State                    ...                                       \n",
       "CA                    0  ...                18                13   \n",
       "CO                    0  ...                 5                 0   \n",
       "PA                    0  ...                 0                 0   \n",
       "TN                    0  ...                63                22   \n",
       "TX                    0  ...                51                16   \n",
       "WA                    0  ...                 0                 0   \n",
       "\n",
       "       deaths - 9/14/20  deaths - 9/15/20  deaths - 9/16/20  \n",
       "State                                                        \n",
       "CA                   21                37                24  \n",
       "CO                    3                10                10  \n",
       "PA                   25                 5                22  \n",
       "TN                   25                44                38  \n",
       "TX                    7                46                47  \n",
       "WA                   20                12                 7  \n",
       "\n",
       "[6 rows x 239 columns]"
      ]
     },
     "execution_count": 20,
     "metadata": {},
     "output_type": "execute_result"
    }
   ],
   "source": [
    "all_daily_deaths_states"
   ]
  },
  {
   "cell_type": "code",
   "execution_count": 21,
   "metadata": {},
   "outputs": [],
   "source": [
    "d_ca_mu = all_daily_deaths_states.loc['CA'].mean() / 100\n",
    "d_co_mu = all_daily_deaths_states.loc['CO'].mean() / 100\n",
    "d_pa_mu = all_daily_deaths_states.loc['PA'].mean() / 100\n",
    "d_tn_mu = all_daily_deaths_states.loc['TN'].mean() / 100\n",
    "d_tx_mu = all_daily_deaths_states.loc['TX'].mean() / 100\n",
    "d_wa_mu = all_daily_deaths_states.loc['WA'].mean() / 100"
   ]
  },
  {
   "cell_type": "code",
   "execution_count": 22,
   "metadata": {},
   "outputs": [],
   "source": [
    "d_ca_poisson = stats.poisson.rvs(mu = d_ca_mu, size = 800)\n",
    "d_co_poisson = stats.poisson.rvs(mu = d_co_mu, size = 800)\n",
    "d_pa_poisson = stats.poisson.rvs(mu = d_pa_mu, size = 800)\n",
    "d_tn_poisson = stats.poisson.rvs(mu = d_tn_mu, size = 800)\n",
    "d_tx_poisson = stats.poisson.rvs(mu = d_tx_mu, size = 800)\n",
    "d_wa_poisson = stats.poisson.rvs(mu = d_wa_mu, size = 800)"
   ]
  },
  {
   "cell_type": "code",
   "execution_count": 23,
   "metadata": {},
   "outputs": [
    {
     "data": {
      "image/png": "[encoded data removed]",
      "text/plain": [
       "<Figure size 432x288 with 1 Axes>"
      ]
     },
     "metadata": {
      "needs_background": "light"
     },
     "output_type": "display_data"
    }
   ],
   "source": [
    "fig,axis = plt.subplots(gridspec_kw={'hspace': .5, 'wspace': .5})\n",
    "figure = pd.DataFrame(d_ca_poisson).hist(range=(0,max(d_ca_poisson) + 1)\n",
    "                                    , bins=max(d_ca_poisson)+1,ax = axis, ec='red')\n",
    "axis.title.set_text(\"California mu: {:.2f}\".format(d_ca_mu))\n",
    "plt.show()"
   ]
  },
  {
   "cell_type": "code",
   "execution_count": 24,
   "metadata": {},
   "outputs": [
    {
     "data": {
      "image/png": "[encoded data removed]",
      "text/plain": [
       "<Figure size 432x288 with 1 Axes>"
      ]
     },
     "metadata": {
      "needs_background": "light"
     },
     "output_type": "display_data"
    }
   ],
   "source": [
    "fig,axis = plt.subplots(gridspec_kw={'hspace': .5, 'wspace': .5})\n",
    "figure = pd.DataFrame(d_co_poisson).hist(range=(0,max(d_co_poisson) + 1)\n",
    "                                    , bins=max(d_co_poisson)+1,ax = axis, ec='red')\n",
    "axis.title.set_text(\"Colorado mu: {:.2f}\".format(d_co_mu))\n",
    "plt.show()"
   ]
  },
  {
   "cell_type": "code",
   "execution_count": 25,
   "metadata": {},
   "outputs": [
    {
     "data": {
      "image/png": "[encoded data removed]",
      "text/plain": [
       "<Figure size 432x288 with 1 Axes>"
      ]
     },
     "metadata": {
      "needs_background": "light"
     },
     "output_type": "display_data"
    }
   ],
   "source": [
    "fig,axis = plt.subplots(gridspec_kw={'hspace': .5, 'wspace': .5})\n",
    "figure = pd.DataFrame(d_pa_poisson).hist(range=(0,max(d_pa_poisson) + 1)\n",
    "                                    , bins=max(d_pa_poisson)+1,ax = axis, ec='red')\n",
    "axis.title.set_text(\"Pennsylvania mu: {:.2f}\".format(d_pa_mu))\n",
    "plt.show()"
   ]
  },
  {
   "cell_type": "code",
   "execution_count": 26,
   "metadata": {},
   "outputs": [
    {
     "data": {
      "image/png": "[encoded data removed]",
      "text/plain": [
       "<Figure size 432x288 with 1 Axes>"
      ]
     },
     "metadata": {
      "needs_background": "light"
     },
     "output_type": "display_data"
    }
   ],
   "source": [
    "fig,axis = plt.subplots(gridspec_kw={'hspace': .5, 'wspace': .5})\n",
    "figure = pd.DataFrame(d_tn_poisson).hist(range=(0,max(d_tn_poisson) + 1)\n",
    "                                    , bins=max(d_tn_poisson)+1,ax = axis, ec='red')\n",
    "axis.title.set_text(\"Tennessee mu: {:.2f}\".format(d_tn_mu))\n",
    "plt.show()"
   ]
  },
  {
   "cell_type": "code",
   "execution_count": 27,
   "metadata": {},
   "outputs": [
    {
     "data": {
      "image/png": "[encoded data removed]",
      "text/plain": [
       "<Figure size 432x288 with 1 Axes>"
      ]
     },
     "metadata": {
      "needs_background": "light"
     },
     "output_type": "display_data"
    }
   ],
   "source": [
    "fig,axis = plt.subplots(gridspec_kw={'hspace': .5, 'wspace': .5})\n",
    "figure = pd.DataFrame(d_tx_poisson).hist(range=(0,max(d_tx_poisson) + 1)\n",
    "                                    , bins=max(d_tx_poisson)+1,ax = axis, ec='red')\n",
    "axis.title.set_text(\"Texas mu: {:.2f}\".format(d_tx_mu))\n",
    "plt.show()"
   ]
  },
  {
   "cell_type": "code",
   "execution_count": 28,
   "metadata": {},
   "outputs": [
    {
     "data": {
      "image/png": "[encoded data removed]",
      "text/plain": [
       "<Figure size 432x288 with 1 Axes>"
      ]
     },
     "metadata": {
      "needs_background": "light"
     },
     "output_type": "display_data"
    }
   ],
   "source": [
    "fig,axis = plt.subplots(gridspec_kw={'hspace': .5, 'wspace': .5})\n",
    "figure = pd.DataFrame(d_wa_poisson).hist(range=(0,max(d_wa_poisson) + 1)\n",
    "                                    , bins=max(d_wa_poisson)+1,ax = axis, ec='red')\n",
    "axis.title.set_text(\"Washington mu: {:.2f}\".format(d_wa_mu))\n",
    "plt.show()"
   ]
  },
  {
   "cell_type": "markdown",
   "metadata": {},
   "source": [
    "### Poisson For NC"
   ]
  },
  {
   "cell_type": "code",
   "execution_count": 29,
   "metadata": {},
   "outputs": [],
   "source": [
    "cases = pd.read_csv(_cases, index_col = 0)\n",
    "deaths = pd.read_csv(_deaths, index_col = 0)"
   ]
  },
  {
   "cell_type": "code",
   "execution_count": 30,
   "metadata": {},
   "outputs": [],
   "source": [
    "nc_cases = cases.loc['NC']\n",
    "nc_deaths = deaths.loc['NC']"
   ]
  },
  {
   "cell_type": "code",
   "execution_count": 31,
   "metadata": {},
   "outputs": [],
   "source": [
    "nc_mu = nc_cases.mean() / 100\n",
    "d_nc_mu = nc_deaths.mean() / 100"
   ]
  },
  {
   "cell_type": "code",
   "execution_count": 32,
   "metadata": {},
   "outputs": [],
   "source": [
    "nc_poisson = stats.poisson.rvs(mu = nc_mu, size = 800)\n",
    "d_nc_poisson = stats.poisson.rvs(mu = d_nc_mu, size = 800)"
   ]
  },
  {
   "cell_type": "code",
   "execution_count": 33,
   "metadata": {},
   "outputs": [
    {
     "data": {
      "image/png": "[encoded data removed]",
      "text/plain": [
       "<Figure size 432x288 with 1 Axes>"
      ]
     },
     "metadata": {
      "needs_background": "light"
     },
     "output_type": "display_data"
    }
   ],
   "source": [
    "fig,axis = plt.subplots(gridspec_kw={'hspace': .5, 'wspace': .5})\n",
    "figure = pd.DataFrame(nc_poisson).hist(range=(0,max(nc_poisson) + 1)\n",
    "                                    , bins=max(nc_poisson)+1,ax = axis, ec='red')\n",
    "axis.title.set_text(\"North Carolina mu: {:.2f}\".format(nc_mu))\n",
    "plt.show()"
   ]
  },
  {
   "cell_type": "code",
   "execution_count": 34,
   "metadata": {},
   "outputs": [
    {
     "data": {
      "image/png": "[encoded data removed]",
      "text/plain": [
       "<Figure size 432x288 with 1 Axes>"
      ]
     },
     "metadata": {
      "needs_background": "light"
     },
     "output_type": "display_data"
    }
   ],
   "source": [
    "fig,axis = plt.subplots(gridspec_kw={'hspace': .5, 'wspace': .5})\n",
    "figure = pd.DataFrame(d_nc_poisson).hist(range=(0,max(d_nc_poisson) + 1)\n",
    "                                    , bins=max(d_nc_poisson)+1,ax = axis, ec='red')\n",
    "axis.title.set_text(\"North Carolina mu: {:.2f}\".format(d_nc_mu))\n",
    "plt.show()"
   ]
  },
  {
   "cell_type": "markdown",
   "metadata": {},
   "source": [
    "### Enrichment Correlation"
   ]
  },
  {
   "cell_type": "code",
   "execution_count": 35,
   "metadata": {},
   "outputs": [],
   "source": [
    "hosp_data = pd.read_csv(penn_hosp, index_col = 0)"
   ]
  },
  {
   "cell_type": "code",
   "execution_count": 36,
   "metadata": {},
   "outputs": [
    {
     "data": {
      "application/vnd.dataresource+json": {
       "data": [
        {
         "ADULT_ICU_BEDS": null,
         "AVG_VENTILATOR_USAGE": null,
         "BED_UTILIZATION": null,
         "County Name": "Cameron County",
         "HOSPITAL_NAME": null,
         "HOSPITAL_TYPE": null,
         "NUM_ICU_BEDS": null,
         "NUM_LICENSED_BEDS": null,
         "NUM_STAFFED_BEDS": null,
         "PEDI_ICU_BEDS": null,
         "Potential_Increase_In_Bed_Capac": null,
         "cases": 8,
         "deaths": 0,
         "population": 4447
        },
        {
         "ADULT_ICU_BEDS": null,
         "AVG_VENTILATOR_USAGE": null,
         "BED_UTILIZATION": null,
         "County Name": "Sullivan County",
         "HOSPITAL_NAME": null,
         "HOSPITAL_TYPE": null,
         "NUM_ICU_BEDS": null,
         "NUM_LICENSED_BEDS": null,
         "NUM_STAFFED_BEDS": null,
         "PEDI_ICU_BEDS": null,
         "Potential_Increase_In_Bed_Capac": null,
         "cases": 10,
         "deaths": 0,
         "population": 6066
        },
        {
         "ADULT_ICU_BEDS": null,
         "AVG_VENTILATOR_USAGE": null,
         "BED_UTILIZATION": null,
         "County Name": "Forest County",
         "HOSPITAL_NAME": null,
         "HOSPITAL_TYPE": null,
         "NUM_ICU_BEDS": null,
         "NUM_LICENSED_BEDS": null,
         "NUM_STAFFED_BEDS": null,
         "PEDI_ICU_BEDS": null,
         "Potential_Increase_In_Bed_Capac": null,
         "cases": 14,
         "deaths": 0,
         "population": 7247
        },
        {
         "ADULT_ICU_BEDS": 4,
         "AVG_VENTILATOR_USAGE": 2,
         "BED_UTILIZATION": 0.5352329,
         "County Name": "Potter County",
         "HOSPITAL_NAME": "UPMC Cole",
         "HOSPITAL_TYPE": "Critical Access Hospital",
         "NUM_ICU_BEDS": 4,
         "NUM_LICENSED_BEDS": 49,
         "NUM_STAFFED_BEDS": 25,
         "PEDI_ICU_BEDS": 0,
         "Potential_Increase_In_Bed_Capac": 24,
         "cases": 25,
         "deaths": 0,
         "population": 16526
        },
        {
         "ADULT_ICU_BEDS": 4,
         "AVG_VENTILATOR_USAGE": 1,
         "BED_UTILIZATION": 0.33750814,
         "County Name": "Fulton County",
         "HOSPITAL_NAME": "Fulton County Medical Center",
         "HOSPITAL_TYPE": "Critical Access Hospital",
         "NUM_ICU_BEDS": 4,
         "NUM_LICENSED_BEDS": 21,
         "NUM_STAFFED_BEDS": 21,
         "PEDI_ICU_BEDS": 0,
         "Potential_Increase_In_Bed_Capac": 0,
         "cases": 42,
         "deaths": 2,
         "population": 14530
        },
        {
         "ADULT_ICU_BEDS": 6,
         "AVG_VENTILATOR_USAGE": 2,
         "BED_UTILIZATION": 0.33772764,
         "County Name": "Warren County",
         "HOSPITAL_NAME": "Warren General Hospital",
         "HOSPITAL_TYPE": "Short Term Acute Care Hospital",
         "NUM_ICU_BEDS": 6,
         "NUM_LICENSED_BEDS": 85,
         "NUM_STAFFED_BEDS": 85,
         "PEDI_ICU_BEDS": 0,
         "Potential_Increase_In_Bed_Capac": 0,
         "cases": 42,
         "deaths": 1,
         "population": 39191
        },
        {
         "ADULT_ICU_BEDS": 0,
         "AVG_VENTILATOR_USAGE": 0,
         "BED_UTILIZATION": 0.90077507,
         "County Name": "Warren County",
         "HOSPITAL_NAME": "Warren State Hospital",
         "HOSPITAL_TYPE": "Psychiatric Hospital",
         "NUM_ICU_BEDS": 0,
         "NUM_LICENSED_BEDS": 152,
         "NUM_STAFFED_BEDS": 152,
         "PEDI_ICU_BEDS": 0,
         "Potential_Increase_In_Bed_Capac": 0,
         "cases": 42,
         "deaths": 1,
         "population": 39191
        }
       ],
       "schema": {
        "fields": [
         {
          "name": "County Name",
          "type": "string"
         },
         {
          "name": "cases",
          "type": "integer"
         },
         {
          "name": "deaths",
          "type": "integer"
         },
         {
          "name": "population",
          "type": "integer"
         },
         {
          "name": "HOSPITAL_NAME",
          "type": "string"
         },
         {
          "name": "HOSPITAL_TYPE",
          "type": "string"
         },
         {
          "name": "NUM_LICENSED_BEDS",
          "type": "number"
         },
         {
          "name": "NUM_STAFFED_BEDS",
          "type": "number"
         },
         {
          "name": "NUM_ICU_BEDS",
          "type": "number"
         },
         {
          "name": "ADULT_ICU_BEDS",
          "type": "number"
         },
         {
          "name": "PEDI_ICU_BEDS",
          "type": "number"
         },
         {
          "name": "BED_UTILIZATION",
          "type": "number"
         },
         {
          "name": "Potential_Increase_In_Bed_Capac",
          "type": "number"
         },
         {
          "name": "AVG_VENTILATOR_USAGE",
          "type": "number"
         }
        ],
        "pandas_version": "0.20.0"
       }
      },
      "text/html": [
       "<div>\n",
       "<style scoped>\n",
       "    .dataframe tbody tr th:only-of-type {\n",
       "        vertical-align: middle;\n",
       "    }\n",
       "\n",
       "    .dataframe tbody tr th {\n",
       "        vertical-align: top;\n",
       "    }\n",
       "\n",
       "    .dataframe thead th {\n",
       "        text-align: right;\n",
       "    }\n",
       "</style>\n",
       "<table border=\"1\" class=\"dataframe\">\n",
       "  <thead>\n",
       "    <tr style=\"text-align: right;\">\n",
       "      <th></th>\n",
       "      <th>cases</th>\n",
       "      <th>deaths</th>\n",
       "      <th>population</th>\n",
       "      <th>HOSPITAL_NAME</th>\n",
       "      <th>HOSPITAL_TYPE</th>\n",
       "      <th>...</th>\n",
       "      <th>ADULT_ICU_BEDS</th>\n",
       "      <th>PEDI_ICU_BEDS</th>\n",
       "      <th>BED_UTILIZATION</th>\n",
       "      <th>Potential_Increase_In_Bed_Capac</th>\n",
       "      <th>AVG_VENTILATOR_USAGE</th>\n",
       "    </tr>\n",
       "    <tr>\n",
       "      <th>County Name</th>\n",
       "      <th></th>\n",
       "      <th></th>\n",
       "      <th></th>\n",
       "      <th></th>\n",
       "      <th></th>\n",
       "      <th></th>\n",
       "      <th></th>\n",
       "      <th></th>\n",
       "      <th></th>\n",
       "      <th></th>\n",
       "      <th></th>\n",
       "    </tr>\n",
       "  </thead>\n",
       "  <tbody>\n",
       "    <tr>\n",
       "      <td>Cameron County</td>\n",
       "      <td>8</td>\n",
       "      <td>0</td>\n",
       "      <td>4447</td>\n",
       "      <td>NaN</td>\n",
       "      <td>NaN</td>\n",
       "      <td>...</td>\n",
       "      <td>NaN</td>\n",
       "      <td>NaN</td>\n",
       "      <td>NaN</td>\n",
       "      <td>NaN</td>\n",
       "      <td>NaN</td>\n",
       "    </tr>\n",
       "    <tr>\n",
       "      <td>Sullivan County</td>\n",
       "      <td>10</td>\n",
       "      <td>0</td>\n",
       "      <td>6066</td>\n",
       "      <td>NaN</td>\n",
       "      <td>NaN</td>\n",
       "      <td>...</td>\n",
       "      <td>NaN</td>\n",
       "      <td>NaN</td>\n",
       "      <td>NaN</td>\n",
       "      <td>NaN</td>\n",
       "      <td>NaN</td>\n",
       "    </tr>\n",
       "    <tr>\n",
       "      <td>Forest County</td>\n",
       "      <td>14</td>\n",
       "      <td>0</td>\n",
       "      <td>7247</td>\n",
       "      <td>NaN</td>\n",
       "      <td>NaN</td>\n",
       "      <td>...</td>\n",
       "      <td>NaN</td>\n",
       "      <td>NaN</td>\n",
       "      <td>NaN</td>\n",
       "      <td>NaN</td>\n",
       "      <td>NaN</td>\n",
       "    </tr>\n",
       "    <tr>\n",
       "      <td>...</td>\n",
       "      <td>...</td>\n",
       "      <td>...</td>\n",
       "      <td>...</td>\n",
       "      <td>...</td>\n",
       "      <td>...</td>\n",
       "      <td>...</td>\n",
       "      <td>...</td>\n",
       "      <td>...</td>\n",
       "      <td>...</td>\n",
       "      <td>...</td>\n",
       "      <td>...</td>\n",
       "    </tr>\n",
       "    <tr>\n",
       "      <td>Philadelphia County</td>\n",
       "      <td>30620</td>\n",
       "      <td>1797</td>\n",
       "      <td>1584064</td>\n",
       "      <td>Shriners Hospitals for Children - Philadelphia</td>\n",
       "      <td>Childrens Hospital</td>\n",
       "      <td>...</td>\n",
       "      <td>19.0</td>\n",
       "      <td>NaN</td>\n",
       "      <td>NaN</td>\n",
       "      <td>0.0</td>\n",
       "      <td>1.0</td>\n",
       "    </tr>\n",
       "    <tr>\n",
       "      <td>Philadelphia County</td>\n",
       "      <td>30620</td>\n",
       "      <td>1797</td>\n",
       "      <td>1584064</td>\n",
       "      <td>Chestnut Hill Hospital (AKA Chestnut Hill Heal...</td>\n",
       "      <td>Short Term Acute Care Hospital</td>\n",
       "      <td>...</td>\n",
       "      <td>14.0</td>\n",
       "      <td>0.0</td>\n",
       "      <td>0.637735</td>\n",
       "      <td>20.0</td>\n",
       "      <td>8.0</td>\n",
       "    </tr>\n",
       "    <tr>\n",
       "      <td>Philadelphia County</td>\n",
       "      <td>30620</td>\n",
       "      <td>1797</td>\n",
       "      <td>1584064</td>\n",
       "      <td>Friends Hospital</td>\n",
       "      <td>Psychiatric Hospital</td>\n",
       "      <td>...</td>\n",
       "      <td>1.0</td>\n",
       "      <td>0.0</td>\n",
       "      <td>0.941881</td>\n",
       "      <td>0.0</td>\n",
       "      <td>1.0</td>\n",
       "    </tr>\n",
       "  </tbody>\n",
       "</table>\n",
       "<p>257 rows × 13 columns</p>\n",
       "</div>"
      ],
      "text/plain": [
       "                     cases  deaths  population  \\\n",
       "County Name                                      \n",
       "Cameron County           8       0        4447   \n",
       "Sullivan County         10       0        6066   \n",
       "Forest County           14       0        7247   \n",
       "...                    ...     ...         ...   \n",
       "Philadelphia County  30620    1797     1584064   \n",
       "Philadelphia County  30620    1797     1584064   \n",
       "Philadelphia County  30620    1797     1584064   \n",
       "\n",
       "                                                         HOSPITAL_NAME  \\\n",
       "County Name                                                              \n",
       "Cameron County                                                     NaN   \n",
       "Sullivan County                                                    NaN   \n",
       "Forest County                                                      NaN   \n",
       "...                                                                ...   \n",
       "Philadelphia County     Shriners Hospitals for Children - Philadelphia   \n",
       "Philadelphia County  Chestnut Hill Hospital (AKA Chestnut Hill Heal...   \n",
       "Philadelphia County                                   Friends Hospital   \n",
       "\n",
       "                                      HOSPITAL_TYPE  ...  ADULT_ICU_BEDS  \\\n",
       "County Name                                          ...                   \n",
       "Cameron County                                  NaN  ...             NaN   \n",
       "Sullivan County                                 NaN  ...             NaN   \n",
       "Forest County                                   NaN  ...             NaN   \n",
       "...                                             ...  ...             ...   \n",
       "Philadelphia County              Childrens Hospital  ...            19.0   \n",
       "Philadelphia County  Short Term Acute Care Hospital  ...            14.0   \n",
       "Philadelphia County            Psychiatric Hospital  ...             1.0   \n",
       "\n",
       "                     PEDI_ICU_BEDS  BED_UTILIZATION  \\\n",
       "County Name                                           \n",
       "Cameron County                 NaN              NaN   \n",
       "Sullivan County                NaN              NaN   \n",
       "Forest County                  NaN              NaN   \n",
       "...                            ...              ...   \n",
       "Philadelphia County            NaN              NaN   \n",
       "Philadelphia County            0.0         0.637735   \n",
       "Philadelphia County            0.0         0.941881   \n",
       "\n",
       "                     Potential_Increase_In_Bed_Capac  AVG_VENTILATOR_USAGE  \n",
       "County Name                                                                 \n",
       "Cameron County                                   NaN                   NaN  \n",
       "Sullivan County                                  NaN                   NaN  \n",
       "Forest County                                    NaN                   NaN  \n",
       "...                                              ...                   ...  \n",
       "Philadelphia County                              0.0                   1.0  \n",
       "Philadelphia County                             20.0                   8.0  \n",
       "Philadelphia County                              0.0                   1.0  \n",
       "\n",
       "[257 rows x 13 columns]"
      ]
     },
     "execution_count": 36,
     "metadata": {},
     "output_type": "execute_result"
    }
   ],
   "source": [
    "hosp_data.sort_values(by = ['cases'])"
   ]
  },
  {
   "cell_type": "markdown",
   "metadata": {},
   "source": [
    "From this datatable, we can see that the counties that have the least total number of cases are also the counties that don't contain any hospitals at all. This would lead me to believe that these counties are getting their numbers from small doctors offices for the people that stay in the county to be treated. This would also mean that the people that are being tested outside f their county are being included in surrounding counties case and death numbers."
   ]
  },
  {
   "cell_type": "code",
   "execution_count": 37,
   "metadata": {},
   "outputs": [
    {
     "data": {
      "application/vnd.dataresource+json": {
       "data": [
        {
         "ADULT_ICU_BEDS": 29,
         "AVG_VENTILATOR_USAGE": 29,
         "BED_UTILIZATION": 0.69751447,
         "County Name": "Philadelphia County",
         "HOSPITAL_NAME": "Thomas Jefferson University Hospital",
         "HOSPITAL_TYPE": "Short Term Acute Care Hospital",
         "NUM_ICU_BEDS": 29,
         "NUM_LICENSED_BEDS": 908,
         "NUM_STAFFED_BEDS": 832,
         "PEDI_ICU_BEDS": 80,
         "Potential_Increase_In_Bed_Capac": 76,
         "cases": 30620,
         "deaths": 1797,
         "population": 1584064
        },
        {
         "ADULT_ICU_BEDS": 1,
         "AVG_VENTILATOR_USAGE": 1,
         "BED_UTILIZATION": 0.9418807,
         "County Name": "Philadelphia County",
         "HOSPITAL_NAME": "Friends Hospital",
         "HOSPITAL_TYPE": "Psychiatric Hospital",
         "NUM_ICU_BEDS": 1,
         "NUM_LICENSED_BEDS": 192,
         "NUM_STAFFED_BEDS": 192,
         "PEDI_ICU_BEDS": 0,
         "Potential_Increase_In_Bed_Capac": 0,
         "cases": 30620,
         "deaths": 1797,
         "population": 1584064
        },
        {
         "ADULT_ICU_BEDS": 32,
         "AVG_VENTILATOR_USAGE": 17,
         "BED_UTILIZATION": 0.69514322,
         "County Name": "Philadelphia County",
         "HOSPITAL_NAME": "Einstein Medical Center Philadelphia",
         "HOSPITAL_TYPE": "Short Term Acute Care Hospital",
         "NUM_ICU_BEDS": 32,
         "NUM_LICENSED_BEDS": 750,
         "NUM_STAFFED_BEDS": 509,
         "PEDI_ICU_BEDS": 23,
         "Potential_Increase_In_Bed_Capac": 241,
         "cases": 30620,
         "deaths": 1797,
         "population": 1584064
        },
        {
         "ADULT_ICU_BEDS": 0,
         "AVG_VENTILATOR_USAGE": 0,
         "BED_UTILIZATION": null,
         "County Name": "Philadelphia County",
         "HOSPITAL_NAME": "The Liacouras Center Field Hospital (Temporarily Open due to COVID-19)",
         "HOSPITAL_TYPE": "Short Term Acute Care Hospital",
         "NUM_ICU_BEDS": 0,
         "NUM_LICENSED_BEDS": null,
         "NUM_STAFFED_BEDS": null,
         "PEDI_ICU_BEDS": null,
         "Potential_Increase_In_Bed_Capac": 0,
         "cases": 30620,
         "deaths": 1797,
         "population": 1584064
        },
        {
         "ADULT_ICU_BEDS": 0,
         "AVG_VENTILATOR_USAGE": 0,
         "BED_UTILIZATION": 0.87245053,
         "County Name": "Philadelphia County",
         "HOSPITAL_NAME": "Haven Behavioral Hospital of Philadelphia",
         "HOSPITAL_TYPE": "Psychiatric Hospital",
         "NUM_ICU_BEDS": 0,
         "NUM_LICENSED_BEDS": 67,
         "NUM_STAFFED_BEDS": 36,
         "PEDI_ICU_BEDS": 0,
         "Potential_Increase_In_Bed_Capac": 31,
         "cases": 30620,
         "deaths": 1797,
         "population": 1584064
        },
        {
         "ADULT_ICU_BEDS": 1,
         "AVG_VENTILATOR_USAGE": 0,
         "BED_UTILIZATION": 0.52465755,
         "County Name": "Philadelphia County",
         "HOSPITAL_NAME": "Wills Eye Hospital",
         "HOSPITAL_TYPE": "Short Term Acute Care Hospital",
         "NUM_ICU_BEDS": 1,
         "NUM_LICENSED_BEDS": 4,
         "NUM_STAFFED_BEDS": 4,
         "PEDI_ICU_BEDS": 0,
         "Potential_Increase_In_Bed_Capac": 0,
         "cases": 30620,
         "deaths": 1797,
         "population": 1584064
        },
        {
         "ADULT_ICU_BEDS": 19,
         "AVG_VENTILATOR_USAGE": 1,
         "BED_UTILIZATION": null,
         "County Name": "Philadelphia County",
         "HOSPITAL_NAME": "Shriners Hospitals for Children - Philadelphia",
         "HOSPITAL_TYPE": "Childrens Hospital",
         "NUM_ICU_BEDS": 19,
         "NUM_LICENSED_BEDS": 49,
         "NUM_STAFFED_BEDS": 49,
         "PEDI_ICU_BEDS": null,
         "Potential_Increase_In_Bed_Capac": 0,
         "cases": 30620,
         "deaths": 1797,
         "population": 1584064
        }
       ],
       "schema": {
        "fields": [
         {
          "name": "County Name",
          "type": "string"
         },
         {
          "name": "cases",
          "type": "integer"
         },
         {
          "name": "deaths",
          "type": "integer"
         },
         {
          "name": "population",
          "type": "integer"
         },
         {
          "name": "HOSPITAL_NAME",
          "type": "string"
         },
         {
          "name": "HOSPITAL_TYPE",
          "type": "string"
         },
         {
          "name": "NUM_LICENSED_BEDS",
          "type": "number"
         },
         {
          "name": "NUM_STAFFED_BEDS",
          "type": "number"
         },
         {
          "name": "NUM_ICU_BEDS",
          "type": "number"
         },
         {
          "name": "ADULT_ICU_BEDS",
          "type": "number"
         },
         {
          "name": "PEDI_ICU_BEDS",
          "type": "number"
         },
         {
          "name": "BED_UTILIZATION",
          "type": "number"
         },
         {
          "name": "Potential_Increase_In_Bed_Capac",
          "type": "number"
         },
         {
          "name": "AVG_VENTILATOR_USAGE",
          "type": "number"
         }
        ],
        "pandas_version": "0.20.0"
       }
      },
      "text/html": [
       "<div>\n",
       "<style scoped>\n",
       "    .dataframe tbody tr th:only-of-type {\n",
       "        vertical-align: middle;\n",
       "    }\n",
       "\n",
       "    .dataframe tbody tr th {\n",
       "        vertical-align: top;\n",
       "    }\n",
       "\n",
       "    .dataframe thead th {\n",
       "        text-align: right;\n",
       "    }\n",
       "</style>\n",
       "<table border=\"1\" class=\"dataframe\">\n",
       "  <thead>\n",
       "    <tr style=\"text-align: right;\">\n",
       "      <th></th>\n",
       "      <th>cases</th>\n",
       "      <th>deaths</th>\n",
       "      <th>population</th>\n",
       "      <th>HOSPITAL_NAME</th>\n",
       "      <th>HOSPITAL_TYPE</th>\n",
       "      <th>...</th>\n",
       "      <th>ADULT_ICU_BEDS</th>\n",
       "      <th>PEDI_ICU_BEDS</th>\n",
       "      <th>BED_UTILIZATION</th>\n",
       "      <th>Potential_Increase_In_Bed_Capac</th>\n",
       "      <th>AVG_VENTILATOR_USAGE</th>\n",
       "    </tr>\n",
       "    <tr>\n",
       "      <th>County Name</th>\n",
       "      <th></th>\n",
       "      <th></th>\n",
       "      <th></th>\n",
       "      <th></th>\n",
       "      <th></th>\n",
       "      <th></th>\n",
       "      <th></th>\n",
       "      <th></th>\n",
       "      <th></th>\n",
       "      <th></th>\n",
       "      <th></th>\n",
       "    </tr>\n",
       "  </thead>\n",
       "  <tbody>\n",
       "    <tr>\n",
       "      <td>Philadelphia County</td>\n",
       "      <td>30620</td>\n",
       "      <td>1797</td>\n",
       "      <td>1584064</td>\n",
       "      <td>Thomas Jefferson University Hospital</td>\n",
       "      <td>Short Term Acute Care Hospital</td>\n",
       "      <td>...</td>\n",
       "      <td>29.0</td>\n",
       "      <td>80.0</td>\n",
       "      <td>0.697514</td>\n",
       "      <td>76.0</td>\n",
       "      <td>29.0</td>\n",
       "    </tr>\n",
       "    <tr>\n",
       "      <td>Philadelphia County</td>\n",
       "      <td>30620</td>\n",
       "      <td>1797</td>\n",
       "      <td>1584064</td>\n",
       "      <td>Friends Hospital</td>\n",
       "      <td>Psychiatric Hospital</td>\n",
       "      <td>...</td>\n",
       "      <td>1.0</td>\n",
       "      <td>0.0</td>\n",
       "      <td>0.941881</td>\n",
       "      <td>0.0</td>\n",
       "      <td>1.0</td>\n",
       "    </tr>\n",
       "    <tr>\n",
       "      <td>Philadelphia County</td>\n",
       "      <td>30620</td>\n",
       "      <td>1797</td>\n",
       "      <td>1584064</td>\n",
       "      <td>Einstein Medical Center Philadelphia</td>\n",
       "      <td>Short Term Acute Care Hospital</td>\n",
       "      <td>...</td>\n",
       "      <td>32.0</td>\n",
       "      <td>23.0</td>\n",
       "      <td>0.695143</td>\n",
       "      <td>241.0</td>\n",
       "      <td>17.0</td>\n",
       "    </tr>\n",
       "    <tr>\n",
       "      <td>...</td>\n",
       "      <td>...</td>\n",
       "      <td>...</td>\n",
       "      <td>...</td>\n",
       "      <td>...</td>\n",
       "      <td>...</td>\n",
       "      <td>...</td>\n",
       "      <td>...</td>\n",
       "      <td>...</td>\n",
       "      <td>...</td>\n",
       "      <td>...</td>\n",
       "      <td>...</td>\n",
       "    </tr>\n",
       "    <tr>\n",
       "      <td>Forest County</td>\n",
       "      <td>14</td>\n",
       "      <td>0</td>\n",
       "      <td>7247</td>\n",
       "      <td>NaN</td>\n",
       "      <td>NaN</td>\n",
       "      <td>...</td>\n",
       "      <td>NaN</td>\n",
       "      <td>NaN</td>\n",
       "      <td>NaN</td>\n",
       "      <td>NaN</td>\n",
       "      <td>NaN</td>\n",
       "    </tr>\n",
       "    <tr>\n",
       "      <td>Sullivan County</td>\n",
       "      <td>10</td>\n",
       "      <td>0</td>\n",
       "      <td>6066</td>\n",
       "      <td>NaN</td>\n",
       "      <td>NaN</td>\n",
       "      <td>...</td>\n",
       "      <td>NaN</td>\n",
       "      <td>NaN</td>\n",
       "      <td>NaN</td>\n",
       "      <td>NaN</td>\n",
       "      <td>NaN</td>\n",
       "    </tr>\n",
       "    <tr>\n",
       "      <td>Cameron County</td>\n",
       "      <td>8</td>\n",
       "      <td>0</td>\n",
       "      <td>4447</td>\n",
       "      <td>NaN</td>\n",
       "      <td>NaN</td>\n",
       "      <td>...</td>\n",
       "      <td>NaN</td>\n",
       "      <td>NaN</td>\n",
       "      <td>NaN</td>\n",
       "      <td>NaN</td>\n",
       "      <td>NaN</td>\n",
       "    </tr>\n",
       "  </tbody>\n",
       "</table>\n",
       "<p>257 rows × 13 columns</p>\n",
       "</div>"
      ],
      "text/plain": [
       "                     cases  deaths  population  \\\n",
       "County Name                                      \n",
       "Philadelphia County  30620    1797     1584064   \n",
       "Philadelphia County  30620    1797     1584064   \n",
       "Philadelphia County  30620    1797     1584064   \n",
       "...                    ...     ...         ...   \n",
       "Forest County           14       0        7247   \n",
       "Sullivan County         10       0        6066   \n",
       "Cameron County           8       0        4447   \n",
       "\n",
       "                                            HOSPITAL_NAME  \\\n",
       "County Name                                                 \n",
       "Philadelphia County  Thomas Jefferson University Hospital   \n",
       "Philadelphia County                      Friends Hospital   \n",
       "Philadelphia County  Einstein Medical Center Philadelphia   \n",
       "...                                                   ...   \n",
       "Forest County                                         NaN   \n",
       "Sullivan County                                       NaN   \n",
       "Cameron County                                        NaN   \n",
       "\n",
       "                                      HOSPITAL_TYPE  ...  ADULT_ICU_BEDS  \\\n",
       "County Name                                          ...                   \n",
       "Philadelphia County  Short Term Acute Care Hospital  ...            29.0   \n",
       "Philadelphia County            Psychiatric Hospital  ...             1.0   \n",
       "Philadelphia County  Short Term Acute Care Hospital  ...            32.0   \n",
       "...                                             ...  ...             ...   \n",
       "Forest County                                   NaN  ...             NaN   \n",
       "Sullivan County                                 NaN  ...             NaN   \n",
       "Cameron County                                  NaN  ...             NaN   \n",
       "\n",
       "                     PEDI_ICU_BEDS  BED_UTILIZATION  \\\n",
       "County Name                                           \n",
       "Philadelphia County           80.0         0.697514   \n",
       "Philadelphia County            0.0         0.941881   \n",
       "Philadelphia County           23.0         0.695143   \n",
       "...                            ...              ...   \n",
       "Forest County                  NaN              NaN   \n",
       "Sullivan County                NaN              NaN   \n",
       "Cameron County                 NaN              NaN   \n",
       "\n",
       "                     Potential_Increase_In_Bed_Capac  AVG_VENTILATOR_USAGE  \n",
       "County Name                                                                 \n",
       "Philadelphia County                             76.0                  29.0  \n",
       "Philadelphia County                              0.0                   1.0  \n",
       "Philadelphia County                            241.0                  17.0  \n",
       "...                                              ...                   ...  \n",
       "Forest County                                    NaN                   NaN  \n",
       "Sullivan County                                  NaN                   NaN  \n",
       "Cameron County                                   NaN                   NaN  \n",
       "\n",
       "[257 rows x 13 columns]"
      ]
     },
     "execution_count": 37,
     "metadata": {},
     "output_type": "execute_result"
    }
   ],
   "source": [
    "hosp_data.sort_values(by = ['cases'], ascending = False)"
   ]
  },
  {
   "cell_type": "markdown",
   "metadata": {},
   "source": [
    "We can see that the highest population county. Philadelphia County, has the most cases, with Allegheny close behind."
   ]
  },
  {
   "cell_type": "code",
   "execution_count": 38,
   "metadata": {},
   "outputs": [
    {
     "data": {
      "application/vnd.dataresource+json": {
       "data": [
        {
         "ADULT_ICU_BEDS": 160,
         "AVG_VENTILATOR_USAGE": 20,
         "BED_UTILIZATION": 0.77006912,
         "County Name": "Allegheny County",
         "HOSPITAL_NAME": "UPMC Presbyterian",
         "HOSPITAL_TYPE": "Short Term Acute Care Hospital",
         "NUM_ICU_BEDS": 160,
         "NUM_LICENSED_BEDS": 1542,
         "NUM_STAFFED_BEDS": 1175,
         "PEDI_ICU_BEDS": 0,
         "Potential_Increase_In_Bed_Capac": 367,
         "cases": 11431,
         "deaths": 341,
         "population": 1216045
        },
        {
         "ADULT_ICU_BEDS": 53,
         "AVG_VENTILATOR_USAGE": 40,
         "BED_UTILIZATION": 0.68305892,
         "County Name": "Philadelphia County",
         "HOSPITAL_NAME": "Temple University Hospital",
         "HOSPITAL_TYPE": "Short Term Acute Care Hospital",
         "NUM_ICU_BEDS": 53,
         "NUM_LICENSED_BEDS": 732,
         "NUM_STAFFED_BEDS": 451,
         "PEDI_ICU_BEDS": 26,
         "Potential_Increase_In_Bed_Capac": 281,
         "cases": 30620,
         "deaths": 1797,
         "population": 1584064
        },
        {
         "ADULT_ICU_BEDS": 32,
         "AVG_VENTILATOR_USAGE": 17,
         "BED_UTILIZATION": 0.69514322,
         "County Name": "Philadelphia County",
         "HOSPITAL_NAME": "Einstein Medical Center Philadelphia",
         "HOSPITAL_TYPE": "Short Term Acute Care Hospital",
         "NUM_ICU_BEDS": 32,
         "NUM_LICENSED_BEDS": 750,
         "NUM_STAFFED_BEDS": 509,
         "PEDI_ICU_BEDS": 23,
         "Potential_Increase_In_Bed_Capac": 241,
         "cases": 30620,
         "deaths": 1797,
         "population": 1584064
        },
        {
         "ADULT_ICU_BEDS": 44,
         "AVG_VENTILATOR_USAGE": 14,
         "BED_UTILIZATION": 0.65284628,
         "County Name": "Philadelphia County",
         "HOSPITAL_NAME": "Jefferson Torresdale Hospital",
         "HOSPITAL_TYPE": "Short Term Acute Care Hospital",
         "NUM_ICU_BEDS": 44,
         "NUM_LICENSED_BEDS": 464,
         "NUM_STAFFED_BEDS": 252,
         "PEDI_ICU_BEDS": 0,
         "Potential_Increase_In_Bed_Capac": 212,
         "cases": 30620,
         "deaths": 1797,
         "population": 1584064
        },
        {
         "ADULT_ICU_BEDS": 30,
         "AVG_VENTILATOR_USAGE": 9,
         "BED_UTILIZATION": 0.57319492,
         "County Name": "Luzerne County",
         "HOSPITAL_NAME": "Wilkes-Barre General Hospital",
         "HOSPITAL_TYPE": "Short Term Acute Care Hospital",
         "NUM_ICU_BEDS": 30,
         "NUM_LICENSED_BEDS": 412,
         "NUM_STAFFED_BEDS": 258,
         "PEDI_ICU_BEDS": 0,
         "Potential_Increase_In_Bed_Capac": 154,
         "cases": 3981,
         "deaths": 189,
         "population": 317417
        },
        {
         "ADULT_ICU_BEDS": 41,
         "AVG_VENTILATOR_USAGE": 8,
         "BED_UTILIZATION": 0.66589969,
         "County Name": "Berks County",
         "HOSPITAL_NAME": "Reading Hospital",
         "HOSPITAL_TYPE": "Short Term Acute Care Hospital",
         "NUM_ICU_BEDS": 41,
         "NUM_LICENSED_BEDS": 714,
         "NUM_STAFFED_BEDS": 562,
         "PEDI_ICU_BEDS": 30,
         "Potential_Increase_In_Bed_Capac": 152,
         "cases": 6700,
         "deaths": 386,
         "population": 421164
        },
        {
         "ADULT_ICU_BEDS": 20,
         "AVG_VENTILATOR_USAGE": 9,
         "BED_UTILIZATION": 0.86611462,
         "County Name": "Dauphin County",
         "HOSPITAL_NAME": "UPMC Pinnacle Harrisburg (FKA Harrisburg Hospital)",
         "HOSPITAL_TYPE": "Short Term Acute Care Hospital",
         "NUM_ICU_BEDS": 20,
         "NUM_LICENSED_BEDS": 627,
         "NUM_STAFFED_BEDS": 493,
         "PEDI_ICU_BEDS": 29,
         "Potential_Increase_In_Bed_Capac": 134,
         "cases": 3620,
         "deaths": 170,
         "population": 278299
        }
       ],
       "schema": {
        "fields": [
         {
          "name": "County Name",
          "type": "string"
         },
         {
          "name": "cases",
          "type": "integer"
         },
         {
          "name": "deaths",
          "type": "integer"
         },
         {
          "name": "population",
          "type": "integer"
         },
         {
          "name": "HOSPITAL_NAME",
          "type": "string"
         },
         {
          "name": "HOSPITAL_TYPE",
          "type": "string"
         },
         {
          "name": "NUM_LICENSED_BEDS",
          "type": "number"
         },
         {
          "name": "NUM_STAFFED_BEDS",
          "type": "number"
         },
         {
          "name": "NUM_ICU_BEDS",
          "type": "number"
         },
         {
          "name": "ADULT_ICU_BEDS",
          "type": "number"
         },
         {
          "name": "PEDI_ICU_BEDS",
          "type": "number"
         },
         {
          "name": "BED_UTILIZATION",
          "type": "number"
         },
         {
          "name": "Potential_Increase_In_Bed_Capac",
          "type": "number"
         },
         {
          "name": "AVG_VENTILATOR_USAGE",
          "type": "number"
         }
        ],
        "pandas_version": "0.20.0"
       }
      },
      "text/html": [
       "<div>\n",
       "<style scoped>\n",
       "    .dataframe tbody tr th:only-of-type {\n",
       "        vertical-align: middle;\n",
       "    }\n",
       "\n",
       "    .dataframe tbody tr th {\n",
       "        vertical-align: top;\n",
       "    }\n",
       "\n",
       "    .dataframe thead th {\n",
       "        text-align: right;\n",
       "    }\n",
       "</style>\n",
       "<table border=\"1\" class=\"dataframe\">\n",
       "  <thead>\n",
       "    <tr style=\"text-align: right;\">\n",
       "      <th></th>\n",
       "      <th>cases</th>\n",
       "      <th>deaths</th>\n",
       "      <th>population</th>\n",
       "      <th>HOSPITAL_NAME</th>\n",
       "      <th>HOSPITAL_TYPE</th>\n",
       "      <th>...</th>\n",
       "      <th>ADULT_ICU_BEDS</th>\n",
       "      <th>PEDI_ICU_BEDS</th>\n",
       "      <th>BED_UTILIZATION</th>\n",
       "      <th>Potential_Increase_In_Bed_Capac</th>\n",
       "      <th>AVG_VENTILATOR_USAGE</th>\n",
       "    </tr>\n",
       "    <tr>\n",
       "      <th>County Name</th>\n",
       "      <th></th>\n",
       "      <th></th>\n",
       "      <th></th>\n",
       "      <th></th>\n",
       "      <th></th>\n",
       "      <th></th>\n",
       "      <th></th>\n",
       "      <th></th>\n",
       "      <th></th>\n",
       "      <th></th>\n",
       "      <th></th>\n",
       "    </tr>\n",
       "  </thead>\n",
       "  <tbody>\n",
       "    <tr>\n",
       "      <td>Allegheny County</td>\n",
       "      <td>11431</td>\n",
       "      <td>341</td>\n",
       "      <td>1216045</td>\n",
       "      <td>UPMC Presbyterian</td>\n",
       "      <td>Short Term Acute Care Hospital</td>\n",
       "      <td>...</td>\n",
       "      <td>160.0</td>\n",
       "      <td>0.0</td>\n",
       "      <td>0.770069</td>\n",
       "      <td>367.0</td>\n",
       "      <td>20.0</td>\n",
       "    </tr>\n",
       "    <tr>\n",
       "      <td>Philadelphia County</td>\n",
       "      <td>30620</td>\n",
       "      <td>1797</td>\n",
       "      <td>1584064</td>\n",
       "      <td>Temple University Hospital</td>\n",
       "      <td>Short Term Acute Care Hospital</td>\n",
       "      <td>...</td>\n",
       "      <td>53.0</td>\n",
       "      <td>26.0</td>\n",
       "      <td>0.683059</td>\n",
       "      <td>281.0</td>\n",
       "      <td>40.0</td>\n",
       "    </tr>\n",
       "    <tr>\n",
       "      <td>Philadelphia County</td>\n",
       "      <td>30620</td>\n",
       "      <td>1797</td>\n",
       "      <td>1584064</td>\n",
       "      <td>Einstein Medical Center Philadelphia</td>\n",
       "      <td>Short Term Acute Care Hospital</td>\n",
       "      <td>...</td>\n",
       "      <td>32.0</td>\n",
       "      <td>23.0</td>\n",
       "      <td>0.695143</td>\n",
       "      <td>241.0</td>\n",
       "      <td>17.0</td>\n",
       "    </tr>\n",
       "    <tr>\n",
       "      <td>...</td>\n",
       "      <td>...</td>\n",
       "      <td>...</td>\n",
       "      <td>...</td>\n",
       "      <td>...</td>\n",
       "      <td>...</td>\n",
       "      <td>...</td>\n",
       "      <td>...</td>\n",
       "      <td>...</td>\n",
       "      <td>...</td>\n",
       "      <td>...</td>\n",
       "      <td>...</td>\n",
       "    </tr>\n",
       "    <tr>\n",
       "      <td>Pike County</td>\n",
       "      <td>559</td>\n",
       "      <td>21</td>\n",
       "      <td>55809</td>\n",
       "      <td>NaN</td>\n",
       "      <td>NaN</td>\n",
       "      <td>...</td>\n",
       "      <td>NaN</td>\n",
       "      <td>NaN</td>\n",
       "      <td>NaN</td>\n",
       "      <td>NaN</td>\n",
       "      <td>NaN</td>\n",
       "    </tr>\n",
       "    <tr>\n",
       "      <td>Snyder County</td>\n",
       "      <td>236</td>\n",
       "      <td>3</td>\n",
       "      <td>40372</td>\n",
       "      <td>NaN</td>\n",
       "      <td>NaN</td>\n",
       "      <td>...</td>\n",
       "      <td>NaN</td>\n",
       "      <td>NaN</td>\n",
       "      <td>NaN</td>\n",
       "      <td>NaN</td>\n",
       "      <td>NaN</td>\n",
       "    </tr>\n",
       "    <tr>\n",
       "      <td>Sullivan County</td>\n",
       "      <td>10</td>\n",
       "      <td>0</td>\n",
       "      <td>6066</td>\n",
       "      <td>NaN</td>\n",
       "      <td>NaN</td>\n",
       "      <td>...</td>\n",
       "      <td>NaN</td>\n",
       "      <td>NaN</td>\n",
       "      <td>NaN</td>\n",
       "      <td>NaN</td>\n",
       "      <td>NaN</td>\n",
       "    </tr>\n",
       "  </tbody>\n",
       "</table>\n",
       "<p>257 rows × 13 columns</p>\n",
       "</div>"
      ],
      "text/plain": [
       "                     cases  deaths  population  \\\n",
       "County Name                                      \n",
       "Allegheny County     11431     341     1216045   \n",
       "Philadelphia County  30620    1797     1584064   \n",
       "Philadelphia County  30620    1797     1584064   \n",
       "...                    ...     ...         ...   \n",
       "Pike County            559      21       55809   \n",
       "Snyder County          236       3       40372   \n",
       "Sullivan County         10       0        6066   \n",
       "\n",
       "                                            HOSPITAL_NAME  \\\n",
       "County Name                                                 \n",
       "Allegheny County                        UPMC Presbyterian   \n",
       "Philadelphia County            Temple University Hospital   \n",
       "Philadelphia County  Einstein Medical Center Philadelphia   \n",
       "...                                                   ...   \n",
       "Pike County                                           NaN   \n",
       "Snyder County                                         NaN   \n",
       "Sullivan County                                       NaN   \n",
       "\n",
       "                                      HOSPITAL_TYPE  ...  ADULT_ICU_BEDS  \\\n",
       "County Name                                          ...                   \n",
       "Allegheny County     Short Term Acute Care Hospital  ...           160.0   \n",
       "Philadelphia County  Short Term Acute Care Hospital  ...            53.0   \n",
       "Philadelphia County  Short Term Acute Care Hospital  ...            32.0   \n",
       "...                                             ...  ...             ...   \n",
       "Pike County                                     NaN  ...             NaN   \n",
       "Snyder County                                   NaN  ...             NaN   \n",
       "Sullivan County                                 NaN  ...             NaN   \n",
       "\n",
       "                     PEDI_ICU_BEDS  BED_UTILIZATION  \\\n",
       "County Name                                           \n",
       "Allegheny County               0.0         0.770069   \n",
       "Philadelphia County           26.0         0.683059   \n",
       "Philadelphia County           23.0         0.695143   \n",
       "...                            ...              ...   \n",
       "Pike County                    NaN              NaN   \n",
       "Snyder County                  NaN              NaN   \n",
       "Sullivan County                NaN              NaN   \n",
       "\n",
       "                     Potential_Increase_In_Bed_Capac  AVG_VENTILATOR_USAGE  \n",
       "County Name                                                                 \n",
       "Allegheny County                               367.0                  20.0  \n",
       "Philadelphia County                            281.0                  40.0  \n",
       "Philadelphia County                            241.0                  17.0  \n",
       "...                                              ...                   ...  \n",
       "Pike County                                      NaN                   NaN  \n",
       "Snyder County                                    NaN                   NaN  \n",
       "Sullivan County                                  NaN                   NaN  \n",
       "\n",
       "[257 rows x 13 columns]"
      ]
     },
     "execution_count": 38,
     "metadata": {},
     "output_type": "execute_result"
    }
   ],
   "source": [
    "hosp_data.sort_values(by = ['Potential_Increase_In_Bed_Capac'], ascending = False)"
   ]
  },
  {
   "cell_type": "markdown",
   "metadata": {},
   "source": [
    "Our top two counties also have the highest potential for an increase bed capacity at their hospitals. This means people are more likely to be allowed into these hospitals if there is an overfill in another county nearby."
   ]
  },
  {
   "cell_type": "code",
   "execution_count": 39,
   "metadata": {},
   "outputs": [
    {
     "data": {
      "application/vnd.dataresource+json": {
       "data": [
        {
         "ADULT_ICU_BEDS": 2,
         "AVG_VENTILATOR_USAGE": 0,
         "BED_UTILIZATION": 0.02958904,
         "County Name": "Mercer County",
         "HOSPITAL_NAME": "Edgewood Surgical Hospital",
         "HOSPITAL_TYPE": "Short Term Acute Care Hospital",
         "NUM_ICU_BEDS": 2,
         "NUM_LICENSED_BEDS": 10,
         "NUM_STAFFED_BEDS": 10,
         "PEDI_ICU_BEDS": 0,
         "Potential_Increase_In_Bed_Capac": 0,
         "cases": 662,
         "deaths": 13,
         "population": 109424
        },
        {
         "ADULT_ICU_BEDS": 6,
         "AVG_VENTILATOR_USAGE": 2,
         "BED_UTILIZATION": 0.060958903,
         "County Name": "Wyoming County",
         "HOSPITAL_NAME": "Tyler Memorial Hospital",
         "HOSPITAL_TYPE": "Short Term Acute Care Hospital",
         "NUM_ICU_BEDS": 6,
         "NUM_LICENSED_BEDS": 44,
         "NUM_STAFFED_BEDS": 44,
         "PEDI_ICU_BEDS": 0,
         "Potential_Increase_In_Bed_Capac": 0,
         "cases": 72,
         "deaths": 8,
         "population": 26794
        },
        {
         "ADULT_ICU_BEDS": 10,
         "AVG_VENTILATOR_USAGE": 2,
         "BED_UTILIZATION": 0.085498348,
         "County Name": "Columbia County",
         "HOSPITAL_NAME": "Berwick Hospital Center",
         "HOSPITAL_TYPE": "Short Term Acute Care Hospital",
         "NUM_ICU_BEDS": 10,
         "NUM_LICENSED_BEDS": 90,
         "NUM_STAFFED_BEDS": 87,
         "PEDI_ICU_BEDS": 0,
         "Potential_Increase_In_Bed_Capac": 3,
         "cases": 847,
         "deaths": 35,
         "population": 64964
        },
        {
         "ADULT_ICU_BEDS": 12,
         "AVG_VENTILATOR_USAGE": 2,
         "BED_UTILIZATION": 0.094150312,
         "County Name": "Philadelphia County",
         "HOSPITAL_NAME": "Cancer Treatment Centers of America - Philadelphia",
         "HOSPITAL_TYPE": "Short Term Acute Care Hospital",
         "NUM_ICU_BEDS": 12,
         "NUM_LICENSED_BEDS": 74,
         "NUM_STAFFED_BEDS": 74,
         "PEDI_ICU_BEDS": 0,
         "Potential_Increase_In_Bed_Capac": 0,
         "cases": 30620,
         "deaths": 1797,
         "population": 1584064
        },
        {
         "ADULT_ICU_BEDS": 5,
         "AVG_VENTILATOR_USAGE": 2,
         "BED_UTILIZATION": 0.11011931,
         "County Name": "McKean County",
         "HOSPITAL_NAME": "UPMC Kane (FKA Kane Community Hospital)",
         "HOSPITAL_TYPE": "Short Term Acute Care Hospital",
         "NUM_ICU_BEDS": 5,
         "NUM_LICENSED_BEDS": 31,
         "NUM_STAFFED_BEDS": 31,
         "PEDI_ICU_BEDS": 0,
         "Potential_Increase_In_Bed_Capac": 0,
         "cases": 51,
         "deaths": 2,
         "population": 40625
        },
        {
         "ADULT_ICU_BEDS": 3,
         "AVG_VENTILATOR_USAGE": 0,
         "BED_UTILIZATION": 0.12140411,
         "County Name": "Clinton County",
         "HOSPITAL_NAME": "Bucktail Medical Center",
         "HOSPITAL_TYPE": "Critical Access Hospital",
         "NUM_ICU_BEDS": 3,
         "NUM_LICENSED_BEDS": 16,
         "NUM_STAFFED_BEDS": 16,
         "PEDI_ICU_BEDS": 0,
         "Potential_Increase_In_Bed_Capac": 0,
         "cases": 176,
         "deaths": 5,
         "population": 38632
        },
        {
         "ADULT_ICU_BEDS": 5,
         "AVG_VENTILATOR_USAGE": 1,
         "BED_UTILIZATION": 0.13589041,
         "County Name": "Blair County",
         "HOSPITAL_NAME": "Tyrone Regional Health (FKA Tyrone Hospital)",
         "HOSPITAL_TYPE": "Critical Access Hospital",
         "NUM_ICU_BEDS": 5,
         "NUM_LICENSED_BEDS": 25,
         "NUM_STAFFED_BEDS": 25,
         "PEDI_ICU_BEDS": 0,
         "Potential_Increase_In_Bed_Capac": 0,
         "cases": 537,
         "deaths": 13,
         "population": 121829
        }
       ],
       "schema": {
        "fields": [
         {
          "name": "County Name",
          "type": "string"
         },
         {
          "name": "cases",
          "type": "integer"
         },
         {
          "name": "deaths",
          "type": "integer"
         },
         {
          "name": "population",
          "type": "integer"
         },
         {
          "name": "HOSPITAL_NAME",
          "type": "string"
         },
         {
          "name": "HOSPITAL_TYPE",
          "type": "string"
         },
         {
          "name": "NUM_LICENSED_BEDS",
          "type": "number"
         },
         {
          "name": "NUM_STAFFED_BEDS",
          "type": "number"
         },
         {
          "name": "NUM_ICU_BEDS",
          "type": "number"
         },
         {
          "name": "ADULT_ICU_BEDS",
          "type": "number"
         },
         {
          "name": "PEDI_ICU_BEDS",
          "type": "number"
         },
         {
          "name": "BED_UTILIZATION",
          "type": "number"
         },
         {
          "name": "Potential_Increase_In_Bed_Capac",
          "type": "number"
         },
         {
          "name": "AVG_VENTILATOR_USAGE",
          "type": "number"
         }
        ],
        "pandas_version": "0.20.0",
        "primaryKey": [
         "County Name"
        ]
       }
      },
      "text/html": [
       "<div>\n",
       "<style scoped>\n",
       "    .dataframe tbody tr th:only-of-type {\n",
       "        vertical-align: middle;\n",
       "    }\n",
       "\n",
       "    .dataframe tbody tr th {\n",
       "        vertical-align: top;\n",
       "    }\n",
       "\n",
       "    .dataframe thead th {\n",
       "        text-align: right;\n",
       "    }\n",
       "</style>\n",
       "<table border=\"1\" class=\"dataframe\">\n",
       "  <thead>\n",
       "    <tr style=\"text-align: right;\">\n",
       "      <th></th>\n",
       "      <th>cases</th>\n",
       "      <th>deaths</th>\n",
       "      <th>population</th>\n",
       "      <th>HOSPITAL_NAME</th>\n",
       "      <th>HOSPITAL_TYPE</th>\n",
       "      <th>...</th>\n",
       "      <th>ADULT_ICU_BEDS</th>\n",
       "      <th>PEDI_ICU_BEDS</th>\n",
       "      <th>BED_UTILIZATION</th>\n",
       "      <th>Potential_Increase_In_Bed_Capac</th>\n",
       "      <th>AVG_VENTILATOR_USAGE</th>\n",
       "    </tr>\n",
       "    <tr>\n",
       "      <th>County Name</th>\n",
       "      <th></th>\n",
       "      <th></th>\n",
       "      <th></th>\n",
       "      <th></th>\n",
       "      <th></th>\n",
       "      <th></th>\n",
       "      <th></th>\n",
       "      <th></th>\n",
       "      <th></th>\n",
       "      <th></th>\n",
       "      <th></th>\n",
       "    </tr>\n",
       "  </thead>\n",
       "  <tbody>\n",
       "    <tr>\n",
       "      <td>Mercer County</td>\n",
       "      <td>662</td>\n",
       "      <td>13</td>\n",
       "      <td>109424</td>\n",
       "      <td>Edgewood Surgical Hospital</td>\n",
       "      <td>Short Term Acute Care Hospital</td>\n",
       "      <td>...</td>\n",
       "      <td>2.0</td>\n",
       "      <td>0.0</td>\n",
       "      <td>0.029589</td>\n",
       "      <td>0.0</td>\n",
       "      <td>0.0</td>\n",
       "    </tr>\n",
       "    <tr>\n",
       "      <td>Wyoming County</td>\n",
       "      <td>72</td>\n",
       "      <td>8</td>\n",
       "      <td>26794</td>\n",
       "      <td>Tyler Memorial Hospital</td>\n",
       "      <td>Short Term Acute Care Hospital</td>\n",
       "      <td>...</td>\n",
       "      <td>6.0</td>\n",
       "      <td>0.0</td>\n",
       "      <td>0.060959</td>\n",
       "      <td>0.0</td>\n",
       "      <td>2.0</td>\n",
       "    </tr>\n",
       "    <tr>\n",
       "      <td>Columbia County</td>\n",
       "      <td>847</td>\n",
       "      <td>35</td>\n",
       "      <td>64964</td>\n",
       "      <td>Berwick Hospital Center</td>\n",
       "      <td>Short Term Acute Care Hospital</td>\n",
       "      <td>...</td>\n",
       "      <td>10.0</td>\n",
       "      <td>0.0</td>\n",
       "      <td>0.085498</td>\n",
       "      <td>3.0</td>\n",
       "      <td>2.0</td>\n",
       "    </tr>\n",
       "    <tr>\n",
       "      <td>...</td>\n",
       "      <td>...</td>\n",
       "      <td>...</td>\n",
       "      <td>...</td>\n",
       "      <td>...</td>\n",
       "      <td>...</td>\n",
       "      <td>...</td>\n",
       "      <td>...</td>\n",
       "      <td>...</td>\n",
       "      <td>...</td>\n",
       "      <td>...</td>\n",
       "      <td>...</td>\n",
       "    </tr>\n",
       "    <tr>\n",
       "      <td>Snyder County</td>\n",
       "      <td>236</td>\n",
       "      <td>3</td>\n",
       "      <td>40372</td>\n",
       "      <td>NaN</td>\n",
       "      <td>NaN</td>\n",
       "      <td>...</td>\n",
       "      <td>NaN</td>\n",
       "      <td>NaN</td>\n",
       "      <td>NaN</td>\n",
       "      <td>NaN</td>\n",
       "      <td>NaN</td>\n",
       "    </tr>\n",
       "    <tr>\n",
       "      <td>Sullivan County</td>\n",
       "      <td>10</td>\n",
       "      <td>0</td>\n",
       "      <td>6066</td>\n",
       "      <td>NaN</td>\n",
       "      <td>NaN</td>\n",
       "      <td>...</td>\n",
       "      <td>NaN</td>\n",
       "      <td>NaN</td>\n",
       "      <td>NaN</td>\n",
       "      <td>NaN</td>\n",
       "      <td>NaN</td>\n",
       "    </tr>\n",
       "    <tr>\n",
       "      <td>Westmoreland County</td>\n",
       "      <td>2003</td>\n",
       "      <td>49</td>\n",
       "      <td>348899</td>\n",
       "      <td>AHN Hempfield Neighborhood Hospital</td>\n",
       "      <td>Short Term Acute Care Hospital</td>\n",
       "      <td>...</td>\n",
       "      <td>32.0</td>\n",
       "      <td>NaN</td>\n",
       "      <td>NaN</td>\n",
       "      <td>0.0</td>\n",
       "      <td>0.0</td>\n",
       "    </tr>\n",
       "  </tbody>\n",
       "</table>\n",
       "<p>257 rows × 13 columns</p>\n",
       "</div>"
      ],
      "text/plain": [
       "                     cases  deaths  population  \\\n",
       "County Name                                      \n",
       "Mercer County          662      13      109424   \n",
       "Wyoming County          72       8       26794   \n",
       "Columbia County        847      35       64964   \n",
       "...                    ...     ...         ...   \n",
       "Snyder County          236       3       40372   \n",
       "Sullivan County         10       0        6066   \n",
       "Westmoreland County   2003      49      348899   \n",
       "\n",
       "                                           HOSPITAL_NAME  \\\n",
       "County Name                                                \n",
       "Mercer County                 Edgewood Surgical Hospital   \n",
       "Wyoming County                   Tyler Memorial Hospital   \n",
       "Columbia County                  Berwick Hospital Center   \n",
       "...                                                  ...   \n",
       "Snyder County                                        NaN   \n",
       "Sullivan County                                      NaN   \n",
       "Westmoreland County  AHN Hempfield Neighborhood Hospital   \n",
       "\n",
       "                                      HOSPITAL_TYPE  ...  ADULT_ICU_BEDS  \\\n",
       "County Name                                          ...                   \n",
       "Mercer County        Short Term Acute Care Hospital  ...             2.0   \n",
       "Wyoming County       Short Term Acute Care Hospital  ...             6.0   \n",
       "Columbia County      Short Term Acute Care Hospital  ...            10.0   \n",
       "...                                             ...  ...             ...   \n",
       "Snyder County                                   NaN  ...             NaN   \n",
       "Sullivan County                                 NaN  ...             NaN   \n",
       "Westmoreland County  Short Term Acute Care Hospital  ...            32.0   \n",
       "\n",
       "                     PEDI_ICU_BEDS  BED_UTILIZATION  \\\n",
       "County Name                                           \n",
       "Mercer County                  0.0         0.029589   \n",
       "Wyoming County                 0.0         0.060959   \n",
       "Columbia County                0.0         0.085498   \n",
       "...                            ...              ...   \n",
       "Snyder County                  NaN              NaN   \n",
       "Sullivan County                NaN              NaN   \n",
       "Westmoreland County            NaN              NaN   \n",
       "\n",
       "                     Potential_Increase_In_Bed_Capac  AVG_VENTILATOR_USAGE  \n",
       "County Name                                                                 \n",
       "Mercer County                                    0.0                   0.0  \n",
       "Wyoming County                                   0.0                   2.0  \n",
       "Columbia County                                  3.0                   2.0  \n",
       "...                                              ...                   ...  \n",
       "Snyder County                                    NaN                   NaN  \n",
       "Sullivan County                                  NaN                   NaN  \n",
       "Westmoreland County                              0.0                   0.0  \n",
       "\n",
       "[257 rows x 13 columns]"
      ]
     },
     "execution_count": 39,
     "metadata": {},
     "output_type": "execute_result"
    }
   ],
   "source": [
    "hosp_data.sort_values(by = ['BED_UTILIZATION'])"
   ]
  },
  {
   "cell_type": "markdown",
   "metadata": {},
   "source": [
    "These counties have the smallest bed utilization. A potential influx of covid patients could be handled theoretically, but this could also mean that the staff are used to a small number of patients and will have to quickly adapt or even hire more employees."
   ]
  },
  {
   "cell_type": "code",
   "execution_count": 40,
   "metadata": {},
   "outputs": [
    {
     "data": {
      "application/vnd.dataresource+json": {
       "data": [
        {
         "ADULT_ICU_BEDS": 1,
         "AVG_VENTILATOR_USAGE": 0,
         "BED_UTILIZATION": 0.52465755,
         "County Name": "Philadelphia County",
         "HOSPITAL_NAME": "Wills Eye Hospital",
         "HOSPITAL_TYPE": "Short Term Acute Care Hospital",
         "NUM_ICU_BEDS": 1,
         "NUM_LICENSED_BEDS": 4,
         "NUM_STAFFED_BEDS": 4,
         "PEDI_ICU_BEDS": 0,
         "Potential_Increase_In_Bed_Capac": 0,
         "cases": 30620,
         "deaths": 1797,
         "population": 1584064
        },
        {
         "ADULT_ICU_BEDS": 2,
         "AVG_VENTILATOR_USAGE": 0,
         "BED_UTILIZATION": 0.02958904,
         "County Name": "Mercer County",
         "HOSPITAL_NAME": "Edgewood Surgical Hospital",
         "HOSPITAL_TYPE": "Short Term Acute Care Hospital",
         "NUM_ICU_BEDS": 2,
         "NUM_LICENSED_BEDS": 10,
         "NUM_STAFFED_BEDS": 10,
         "PEDI_ICU_BEDS": 0,
         "Potential_Increase_In_Bed_Capac": 0,
         "cases": 662,
         "deaths": 13,
         "population": 109424
        },
        {
         "ADULT_ICU_BEDS": 0,
         "AVG_VENTILATOR_USAGE": 0,
         "BED_UTILIZATION": null,
         "County Name": "Allegheny County",
         "HOSPITAL_NAME": "AHN McCandless Neighborhood Hospital",
         "HOSPITAL_TYPE": "Short Term Acute Care Hospital",
         "NUM_ICU_BEDS": 0,
         "NUM_LICENSED_BEDS": 10,
         "NUM_STAFFED_BEDS": 10,
         "PEDI_ICU_BEDS": null,
         "Potential_Increase_In_Bed_Capac": 0,
         "cases": 11431,
         "deaths": 341,
         "population": 1216045
        },
        {
         "ADULT_ICU_BEDS": 2,
         "AVG_VENTILATOR_USAGE": 0,
         "BED_UTILIZATION": 0.40799087,
         "County Name": "Montgomery County",
         "HOSPITAL_NAME": "Physicians Care Surgical Hospital",
         "HOSPITAL_TYPE": "Short Term Acute Care Hospital",
         "NUM_ICU_BEDS": 2,
         "NUM_LICENSED_BEDS": 12,
         "NUM_STAFFED_BEDS": 12,
         "PEDI_ICU_BEDS": 0,
         "Potential_Increase_In_Bed_Capac": 0,
         "cases": 11738,
         "deaths": 869,
         "population": 830915
        },
        {
         "ADULT_ICU_BEDS": 2,
         "AVG_VENTILATOR_USAGE": 0,
         "BED_UTILIZATION": 0.69960862,
         "County Name": "Philadelphia County",
         "HOSPITAL_NAME": "Kensington Hospital",
         "HOSPITAL_TYPE": "Short Term Acute Care Hospital",
         "NUM_ICU_BEDS": 2,
         "NUM_LICENSED_BEDS": 45,
         "NUM_STAFFED_BEDS": 14,
         "PEDI_ICU_BEDS": 0,
         "Potential_Increase_In_Bed_Capac": 31,
         "cases": 30620,
         "deaths": 1797,
         "population": 1584064
        },
        {
         "ADULT_ICU_BEDS": 2,
         "AVG_VENTILATOR_USAGE": 0,
         "BED_UTILIZATION": 0.28003913,
         "County Name": "Washington County",
         "HOSPITAL_NAME": "Advanced Surgical Hospital",
         "HOSPITAL_TYPE": "Short Term Acute Care Hospital",
         "NUM_ICU_BEDS": 2,
         "NUM_LICENSED_BEDS": 14,
         "NUM_STAFFED_BEDS": 14,
         "PEDI_ICU_BEDS": 0,
         "Potential_Increase_In_Bed_Capac": 0,
         "cases": 1238,
         "deaths": 28,
         "population": 206865
        },
        {
         "ADULT_ICU_BEDS": 3,
         "AVG_VENTILATOR_USAGE": 0,
         "BED_UTILIZATION": 0.2913242,
         "County Name": "Berks County",
         "HOSPITAL_NAME": "Surgical Institute of Reading",
         "HOSPITAL_TYPE": "Short Term Acute Care Hospital",
         "NUM_ICU_BEDS": 3,
         "NUM_LICENSED_BEDS": 15,
         "NUM_STAFFED_BEDS": 15,
         "PEDI_ICU_BEDS": 0,
         "Potential_Increase_In_Bed_Capac": 0,
         "cases": 6700,
         "deaths": 386,
         "population": 421164
        }
       ],
       "schema": {
        "fields": [
         {
          "name": "County Name",
          "type": "string"
         },
         {
          "name": "cases",
          "type": "integer"
         },
         {
          "name": "deaths",
          "type": "integer"
         },
         {
          "name": "population",
          "type": "integer"
         },
         {
          "name": "HOSPITAL_NAME",
          "type": "string"
         },
         {
          "name": "HOSPITAL_TYPE",
          "type": "string"
         },
         {
          "name": "NUM_LICENSED_BEDS",
          "type": "number"
         },
         {
          "name": "NUM_STAFFED_BEDS",
          "type": "number"
         },
         {
          "name": "NUM_ICU_BEDS",
          "type": "number"
         },
         {
          "name": "ADULT_ICU_BEDS",
          "type": "number"
         },
         {
          "name": "PEDI_ICU_BEDS",
          "type": "number"
         },
         {
          "name": "BED_UTILIZATION",
          "type": "number"
         },
         {
          "name": "Potential_Increase_In_Bed_Capac",
          "type": "number"
         },
         {
          "name": "AVG_VENTILATOR_USAGE",
          "type": "number"
         }
        ],
        "pandas_version": "0.20.0"
       }
      },
      "text/html": [
       "<div>\n",
       "<style scoped>\n",
       "    .dataframe tbody tr th:only-of-type {\n",
       "        vertical-align: middle;\n",
       "    }\n",
       "\n",
       "    .dataframe tbody tr th {\n",
       "        vertical-align: top;\n",
       "    }\n",
       "\n",
       "    .dataframe thead th {\n",
       "        text-align: right;\n",
       "    }\n",
       "</style>\n",
       "<table border=\"1\" class=\"dataframe\">\n",
       "  <thead>\n",
       "    <tr style=\"text-align: right;\">\n",
       "      <th></th>\n",
       "      <th>cases</th>\n",
       "      <th>deaths</th>\n",
       "      <th>population</th>\n",
       "      <th>HOSPITAL_NAME</th>\n",
       "      <th>HOSPITAL_TYPE</th>\n",
       "      <th>...</th>\n",
       "      <th>ADULT_ICU_BEDS</th>\n",
       "      <th>PEDI_ICU_BEDS</th>\n",
       "      <th>BED_UTILIZATION</th>\n",
       "      <th>Potential_Increase_In_Bed_Capac</th>\n",
       "      <th>AVG_VENTILATOR_USAGE</th>\n",
       "    </tr>\n",
       "    <tr>\n",
       "      <th>County Name</th>\n",
       "      <th></th>\n",
       "      <th></th>\n",
       "      <th></th>\n",
       "      <th></th>\n",
       "      <th></th>\n",
       "      <th></th>\n",
       "      <th></th>\n",
       "      <th></th>\n",
       "      <th></th>\n",
       "      <th></th>\n",
       "      <th></th>\n",
       "    </tr>\n",
       "  </thead>\n",
       "  <tbody>\n",
       "    <tr>\n",
       "      <td>Philadelphia County</td>\n",
       "      <td>30620</td>\n",
       "      <td>1797</td>\n",
       "      <td>1584064</td>\n",
       "      <td>Wills Eye Hospital</td>\n",
       "      <td>Short Term Acute Care Hospital</td>\n",
       "      <td>...</td>\n",
       "      <td>1.0</td>\n",
       "      <td>0.0</td>\n",
       "      <td>0.524658</td>\n",
       "      <td>0.0</td>\n",
       "      <td>0.0</td>\n",
       "    </tr>\n",
       "    <tr>\n",
       "      <td>Mercer County</td>\n",
       "      <td>662</td>\n",
       "      <td>13</td>\n",
       "      <td>109424</td>\n",
       "      <td>Edgewood Surgical Hospital</td>\n",
       "      <td>Short Term Acute Care Hospital</td>\n",
       "      <td>...</td>\n",
       "      <td>2.0</td>\n",
       "      <td>0.0</td>\n",
       "      <td>0.029589</td>\n",
       "      <td>0.0</td>\n",
       "      <td>0.0</td>\n",
       "    </tr>\n",
       "    <tr>\n",
       "      <td>Allegheny County</td>\n",
       "      <td>11431</td>\n",
       "      <td>341</td>\n",
       "      <td>1216045</td>\n",
       "      <td>AHN McCandless Neighborhood Hospital</td>\n",
       "      <td>Short Term Acute Care Hospital</td>\n",
       "      <td>...</td>\n",
       "      <td>0.0</td>\n",
       "      <td>NaN</td>\n",
       "      <td>NaN</td>\n",
       "      <td>0.0</td>\n",
       "      <td>0.0</td>\n",
       "    </tr>\n",
       "    <tr>\n",
       "      <td>...</td>\n",
       "      <td>...</td>\n",
       "      <td>...</td>\n",
       "      <td>...</td>\n",
       "      <td>...</td>\n",
       "      <td>...</td>\n",
       "      <td>...</td>\n",
       "      <td>...</td>\n",
       "      <td>...</td>\n",
       "      <td>...</td>\n",
       "      <td>...</td>\n",
       "      <td>...</td>\n",
       "    </tr>\n",
       "    <tr>\n",
       "      <td>Snyder County</td>\n",
       "      <td>236</td>\n",
       "      <td>3</td>\n",
       "      <td>40372</td>\n",
       "      <td>NaN</td>\n",
       "      <td>NaN</td>\n",
       "      <td>...</td>\n",
       "      <td>NaN</td>\n",
       "      <td>NaN</td>\n",
       "      <td>NaN</td>\n",
       "      <td>NaN</td>\n",
       "      <td>NaN</td>\n",
       "    </tr>\n",
       "    <tr>\n",
       "      <td>Sullivan County</td>\n",
       "      <td>10</td>\n",
       "      <td>0</td>\n",
       "      <td>6066</td>\n",
       "      <td>NaN</td>\n",
       "      <td>NaN</td>\n",
       "      <td>...</td>\n",
       "      <td>NaN</td>\n",
       "      <td>NaN</td>\n",
       "      <td>NaN</td>\n",
       "      <td>NaN</td>\n",
       "      <td>NaN</td>\n",
       "    </tr>\n",
       "    <tr>\n",
       "      <td>Westmoreland County</td>\n",
       "      <td>2003</td>\n",
       "      <td>49</td>\n",
       "      <td>348899</td>\n",
       "      <td>AHN Hempfield Neighborhood Hospital</td>\n",
       "      <td>Short Term Acute Care Hospital</td>\n",
       "      <td>...</td>\n",
       "      <td>32.0</td>\n",
       "      <td>NaN</td>\n",
       "      <td>NaN</td>\n",
       "      <td>0.0</td>\n",
       "      <td>0.0</td>\n",
       "    </tr>\n",
       "  </tbody>\n",
       "</table>\n",
       "<p>257 rows × 13 columns</p>\n",
       "</div>"
      ],
      "text/plain": [
       "                     cases  deaths  population  \\\n",
       "County Name                                      \n",
       "Philadelphia County  30620    1797     1584064   \n",
       "Mercer County          662      13      109424   \n",
       "Allegheny County     11431     341     1216045   \n",
       "...                    ...     ...         ...   \n",
       "Snyder County          236       3       40372   \n",
       "Sullivan County         10       0        6066   \n",
       "Westmoreland County   2003      49      348899   \n",
       "\n",
       "                                            HOSPITAL_NAME  \\\n",
       "County Name                                                 \n",
       "Philadelphia County                    Wills Eye Hospital   \n",
       "Mercer County                  Edgewood Surgical Hospital   \n",
       "Allegheny County     AHN McCandless Neighborhood Hospital   \n",
       "...                                                   ...   \n",
       "Snyder County                                         NaN   \n",
       "Sullivan County                                       NaN   \n",
       "Westmoreland County   AHN Hempfield Neighborhood Hospital   \n",
       "\n",
       "                                      HOSPITAL_TYPE  ...  ADULT_ICU_BEDS  \\\n",
       "County Name                                          ...                   \n",
       "Philadelphia County  Short Term Acute Care Hospital  ...             1.0   \n",
       "Mercer County        Short Term Acute Care Hospital  ...             2.0   \n",
       "Allegheny County     Short Term Acute Care Hospital  ...             0.0   \n",
       "...                                             ...  ...             ...   \n",
       "Snyder County                                   NaN  ...             NaN   \n",
       "Sullivan County                                 NaN  ...             NaN   \n",
       "Westmoreland County  Short Term Acute Care Hospital  ...            32.0   \n",
       "\n",
       "                     PEDI_ICU_BEDS  BED_UTILIZATION  \\\n",
       "County Name                                           \n",
       "Philadelphia County            0.0         0.524658   \n",
       "Mercer County                  0.0         0.029589   \n",
       "Allegheny County               NaN              NaN   \n",
       "...                            ...              ...   \n",
       "Snyder County                  NaN              NaN   \n",
       "Sullivan County                NaN              NaN   \n",
       "Westmoreland County            NaN              NaN   \n",
       "\n",
       "                     Potential_Increase_In_Bed_Capac  AVG_VENTILATOR_USAGE  \n",
       "County Name                                                                 \n",
       "Philadelphia County                              0.0                   0.0  \n",
       "Mercer County                                    0.0                   0.0  \n",
       "Allegheny County                                 0.0                   0.0  \n",
       "...                                              ...                   ...  \n",
       "Snyder County                                    NaN                   NaN  \n",
       "Sullivan County                                  NaN                   NaN  \n",
       "Westmoreland County                              0.0                   0.0  \n",
       "\n",
       "[257 rows x 13 columns]"
      ]
     },
     "execution_count": 40,
     "metadata": {},
     "output_type": "execute_result"
    }
   ],
   "source": [
    "hosp_data.sort_values(by = ['NUM_STAFFED_BEDS'])"
   ]
  },
  {
   "cell_type": "markdown",
   "metadata": {},
   "source": [
    "Taking a look at the number of staffed beds helps affirm my earlier belief that they may be understaffed or unprepared for an increase of patients."
   ]
  }
 ],
 "metadata": {
  "kernelspec": {
   "display_name": "Python 3",
   "language": "python",
   "name": "python3"
  },
  "language_info": {
   "codemirror_mode": {
    "name": "ipython",
    "version": 3
   },
   "file_extension": ".py",
   "mimetype": "text/x-python",
   "name": "python",
   "nbconvert_exporter": "python",
   "pygments_lexer": "ipython3",
   "version": "3.7.4"
  }
 },
 "nbformat": 4,
 "nbformat_minor": 2
}
