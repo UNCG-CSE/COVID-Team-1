{
 "cells": [
  {
   "cell_type": "markdown",
   "metadata": {},
   "source": [
    "# COVID-Team-1\n",
    "\n",
    "## Dr. Mohanty\n",
    "\n",
    "## Katelynn Urgitus\n",
    "\n",
    "## CSC 405-01\n",
    "\n",
    "## Last Updated: 11/14/2020\n",
    "\n",
    "## I, Katelynn Urgitus, have abided by the UNCG Academic Integrity Policy.\n",
    "\n",
    "# ----------------------------------------------------------------------------------------------------------------\n",
    "\n",
    "In this notebook I will:\n",
    "\n",
    "Utilize Linear and Non-Linear (polynomial) regression models to compare trends for a single state and its counties,\n",
    "\n",
    "Identify which counties are most at risk,\n",
    "\n",
    "Utilize the hospital data to calculate the point of no return for a state,\n",
    "\n",
    "Utilize decision tree, random forest, and ARIMA based models to compare and contrast the performance of each,\n",
    "\n",
    "Use 5 different variables from the enrichment data to predict the spread rate (cases and deaths) of COVID-19 in a county.\n",
    "\n",
    "# ----------------------------------------------------------------------------------------------------------------"
   ]
  },
  {
   "cell_type": "code",
   "execution_count": 1,
   "metadata": {},
   "outputs": [],
   "source": [
    "import os \n",
    "os.chdir(\"../\")"
   ]
  },
  {
   "cell_type": "code",
   "execution_count": 2,
   "metadata": {},
   "outputs": [],
   "source": [
    "\n",
    "import pandas as pd\n",
    "import numpy as np\n",
    "import matplotlib.pyplot as plt\n",
    "from sklearn.linear_model import LinearRegression\n",
    "from sklearn.metrics import r2_score\n",
    "from sklearn import tree\n",
    "from sklearn.tree import DecisionTreeRegressor\n",
    "import graphviz\n",
    "from sklearn.ensemble import RandomForestRegressor\n",
    "from sklearn.model_selection import train_test_split\n",
    "from sklearn.multioutput import MultiOutputRegressor\n",
    "from statsmodels.tsa.stattools import adfuller\n",
    "from statsmodels.tsa.seasonal import seasonal_decompose\n",
    "from statsmodels.tsa.arima_model import ARIMA\n",
    "from pandas.plotting import register_matplotlib_converters\n",
    "register_matplotlib_converters()\n",
    "\n",
    "%matplotlib inline"
   ]
  },
  {
   "cell_type": "markdown",
   "metadata": {},
   "source": [
    "### Data Paths"
   ]
  },
  {
   "cell_type": "code",
   "execution_count": 3,
   "metadata": {},
   "outputs": [],
   "source": [
    "daily_penn_cases_normalized = \"../data/Covid/Kat/Pennsylvania/daily_Penn_cases_normalized.csv\"\n",
    "cases_full = pd.read_csv(daily_penn_cases_normalized)\n",
    "cases_only = cases_full.iloc[:, 1:]\n",
    "cases_only = cases_only.sum()\n",
    "cases_only_new = cases_only.astype('int') \n",
    "new_cases = cases_only_new\n",
    "daily_penn_deaths_normalized = \"../data/Covid/Kat/Pennsylvania/daily_Penn_deaths_normalized.csv\"\n",
    "deaths_full = pd.read_csv(daily_penn_deaths_normalized)\n",
    "deaths_only = deaths_full.iloc[:, 1:]\n",
    "deaths_only = deaths_only.sum()\n",
    "deaths_only_new = deaths_only.astype('int')  \n",
    "new_deaths = deaths_only_new\n",
    "hospital_data = \"../data/Hospitals/hospital_merged_covid_penn.csv\"\n",
    "arima_data = \"../data/Covid/Kat/Pennsylvania/penn_daily_cases_arima.csv\""
   ]
  },
  {
   "cell_type": "markdown",
   "metadata": {},
   "source": [
    "## Utilize Linear and Non-Linear (polynomial) regression models to compare trends for a single state and its counties"
   ]
  },
  {
   "cell_type": "code",
   "execution_count": 4,
   "metadata": {},
   "outputs": [
    {
     "data": {
      "text/plain": [
       "1/22/2020        0\n",
       "1/23/2020        0\n",
       "1/24/2020        0\n",
       "1/25/2020        0\n",
       "1/26/2020        0\n",
       "              ... \n",
       "11/7/2020     2057\n",
       "11/8/2020     1613\n",
       "11/9/2020     1607\n",
       "11/10/2020    2332\n",
       "11/11/2020    2537\n",
       "Length: 295, dtype: int32"
      ]
     },
     "metadata": {},
     "output_type": "display_data"
    },
    {
     "data": {
      "text/plain": [
       "1/22/2020      0\n",
       "1/23/2020      0\n",
       "1/24/2020      0\n",
       "1/25/2020      0\n",
       "1/26/2020      0\n",
       "              ..\n",
       "11/7/2020     32\n",
       "11/8/2020      1\n",
       "11/9/2020      1\n",
       "11/10/2020    51\n",
       "11/11/2020    37\n",
       "Length: 295, dtype: int32"
      ]
     },
     "metadata": {},
     "output_type": "display_data"
    }
   ],
   "source": [
    "display(new_cases)\n",
    "display(new_deaths)"
   ]
  },
  {
   "cell_type": "code",
   "execution_count": 5,
   "metadata": {},
   "outputs": [],
   "source": [
    "days_since_first_case = []\n",
    "i = 0\n",
    "for x in new_cases.index:\n",
    "    days_since_first_case += [i]\n",
    "    i+=1"
   ]
  },
  {
   "cell_type": "markdown",
   "metadata": {},
   "source": [
    "#### Cases"
   ]
  },
  {
   "cell_type": "code",
   "execution_count": 6,
   "metadata": {},
   "outputs": [],
   "source": [
    "arr = np.asarray(days_since_first_case)\n",
    "reshaped_days_since_first = arr.reshape(-1,1)\n",
    "X = reshaped_days_since_first\n",
    "Y = new_cases.values.reshape(-1, 1)"
   ]
  },
  {
   "cell_type": "code",
   "execution_count": 7,
   "metadata": {},
   "outputs": [
    {
     "data": {
      "text/plain": [
       "LinearRegression(copy_X=True, fit_intercept=True, n_jobs=None, normalize=False)"
      ]
     },
     "execution_count": 7,
     "metadata": {},
     "output_type": "execute_result"
    }
   ],
   "source": [
    "regressor = LinearRegression()\n",
    "regressor.fit(X,Y)"
   ]
  },
  {
   "cell_type": "code",
   "execution_count": 8,
   "metadata": {},
   "outputs": [],
   "source": [
    "y_pred = regressor.predict(X)"
   ]
  },
  {
   "cell_type": "code",
   "execution_count": 9,
   "metadata": {},
   "outputs": [
    {
     "name": "stdout",
     "output_type": "stream",
     "text": [
      "[[3.07474548]]\n",
      "[-118.29267064]\n"
     ]
    }
   ],
   "source": [
    "print(regressor.coef_)\n",
    "print(regressor.intercept_)"
   ]
  },
  {
   "cell_type": "code",
   "execution_count": 10,
   "metadata": {},
   "outputs": [
    {
     "data": {
      "image/png": "[encoded data removed]",
      "text/plain": [
       "<Figure size 432x288 with 1 Axes>"
      ]
     },
     "metadata": {
      "needs_background": "light"
     },
     "output_type": "display_data"
    }
   ],
   "source": [
    "plt.scatter(X,Y,color = 'red')\n",
    "plt.plot(X,y_pred,color = 'blue')\n",
    "plt.title('Linear Regression for Covid Cases Over Time')\n",
    "plt.xlabel('Days since first case')\n",
    "plt.ylabel('Number of cases')\n",
    "plt.show()"
   ]
  },
  {
   "cell_type": "code",
   "execution_count": 11,
   "metadata": {},
   "outputs": [
    {
     "data": {
      "text/plain": [
       "0.4670277405280845"
      ]
     },
     "execution_count": 11,
     "metadata": {},
     "output_type": "execute_result"
    }
   ],
   "source": [
    "r2_score(Y,y_pred)"
   ]
  },
  {
   "cell_type": "markdown",
   "metadata": {},
   "source": [
    "##### Decision Tree"
   ]
  },
  {
   "cell_type": "code",
   "execution_count": 12,
   "metadata": {},
   "outputs": [
    {
     "data": {
      "text/plain": [
       "'penn_cases.pdf'"
      ]
     },
     "execution_count": 12,
     "metadata": {},
     "output_type": "execute_result"
    }
   ],
   "source": [
    "# Here I go ahead and use the decision tree for a later analysis\n",
    "clf = tree.DecisionTreeRegressor()\n",
    "clf = clf.fit(X,Y)\n",
    "dot_data = tree.export_graphviz(clf, out_file=None) \n",
    "graph = graphviz.Source(dot_data) \n",
    "graph.render(\"penn_cases\") "
   ]
  },
  {
   "cell_type": "code",
   "execution_count": 13,
   "metadata": {},
   "outputs": [
    {
     "data": {
      "image/png": "[encoded data removed]",
      "text/plain": [
       "<Figure size 432x288 with 1 Axes>"
      ]
     },
     "metadata": {
      "needs_background": "light"
     },
     "output_type": "display_data"
    }
   ],
   "source": [
    "regr_1 = DecisionTreeRegressor(max_depth=2)\n",
    "regr_2 = DecisionTreeRegressor(max_depth=5)\n",
    "regr_1.fit(X, Y)\n",
    "regr_2.fit(X, Y)\n",
    "y_1 = regr_1.predict(X)\n",
    "y_2 = regr_2.predict(X)\n",
    "plt.figure()\n",
    "plt.scatter(X, Y, s=20, edgecolor=\"black\",\n",
    "            c=\"darkorange\", label=\"data\")\n",
    "plt.plot(X, y_1, color=\"cornflowerblue\",\n",
    "         label=\"max_depth=2\", linewidth=2)\n",
    "plt.plot(X, y_2, color=\"yellowgreen\", label=\"max_depth=5\", linewidth=2)\n",
    "plt.xlabel(\"days\")\n",
    "plt.ylabel(\"cases\")\n",
    "plt.title(\"Decision Tree Regression\")\n",
    "plt.legend()\n",
    "plt.show()"
   ]
  },
  {
   "cell_type": "markdown",
   "metadata": {},
   "source": [
    "##### Random Forest"
   ]
  },
  {
   "cell_type": "code",
   "execution_count": 14,
   "metadata": {},
   "outputs": [
    {
     "name": "stderr",
     "output_type": "stream",
     "text": [
      "C:\\Users\\katel\\Anaconda3\\lib\\site-packages\\ipykernel_launcher.py:12: DataConversionWarning: A column-vector y was passed when a 1d array was expected. Please change the shape of y to (n_samples,), for example using ravel().\n",
      "  if sys.path[0] == '':\n"
     ]
    }
   ],
   "source": [
    "X_train, X_test, y_train, y_test = train_test_split(\n",
    "    X, Y, train_size=200, test_size=95, random_state=4)\n",
    "\n",
    "max_depth = 30\n",
    "regr_multirf = MultiOutputRegressor(RandomForestRegressor(n_estimators=100,\n",
    "                                                          max_depth=max_depth,\n",
    "                                                          random_state=0))\n",
    "regr_multirf.fit(X_train, y_train)\n",
    "\n",
    "regr_rf = RandomForestRegressor(n_estimators=100, max_depth=max_depth,\n",
    "                                random_state=2)\n",
    "regr_rf.fit(X_train, y_train)\n",
    "\n",
    "# Predict on new data\n",
    "y_multirf = regr_multirf.predict(X_test)\n",
    "y_rf = regr_rf.predict(X_test)"
   ]
  },
  {
   "cell_type": "code",
   "execution_count": 15,
   "metadata": {},
   "outputs": [
    {
     "ename": "IndexError",
     "evalue": "too many indices for array",
     "output_type": "error",
     "traceback": [
      "\u001b[1;31m---------------------------------------------------------------------------\u001b[0m",
      "\u001b[1;31mIndexError\u001b[0m                                Traceback (most recent call last)",
      "\u001b[1;32m<ipython-input-15-ebc438feb3f4>\u001b[0m in \u001b[0;36m<module>\u001b[1;34m\u001b[0m\n\u001b[0;32m      7\u001b[0m             \u001b[0mc\u001b[0m\u001b[1;33m=\u001b[0m\u001b[1;34m\"cornflowerblue\"\u001b[0m\u001b[1;33m,\u001b[0m \u001b[0ms\u001b[0m\u001b[1;33m=\u001b[0m\u001b[0ms\u001b[0m\u001b[1;33m,\u001b[0m \u001b[0malpha\u001b[0m\u001b[1;33m=\u001b[0m\u001b[0ma\u001b[0m\u001b[1;33m,\u001b[0m\u001b[1;33m\u001b[0m\u001b[1;33m\u001b[0m\u001b[0m\n\u001b[0;32m      8\u001b[0m             label=\"Multi RF score=%.2f\" % regr_multirf.score(X_test, y_test))\n\u001b[1;32m----> 9\u001b[1;33m plt.scatter(y_rf[:,0],y_rf[:,1], edgecolor='k',\n\u001b[0m\u001b[0;32m     10\u001b[0m             \u001b[0mc\u001b[0m\u001b[1;33m=\u001b[0m\u001b[1;34m\"c\"\u001b[0m\u001b[1;33m,\u001b[0m \u001b[0ms\u001b[0m\u001b[1;33m=\u001b[0m\u001b[0ms\u001b[0m\u001b[1;33m,\u001b[0m \u001b[0mmarker\u001b[0m\u001b[1;33m=\u001b[0m\u001b[1;34m\"^\"\u001b[0m\u001b[1;33m,\u001b[0m \u001b[0malpha\u001b[0m\u001b[1;33m=\u001b[0m\u001b[0ma\u001b[0m\u001b[1;33m,\u001b[0m\u001b[1;33m\u001b[0m\u001b[1;33m\u001b[0m\u001b[0m\n\u001b[0;32m     11\u001b[0m             label=\"RF score=%.2f\" % regr_rf.score(X_test, y_test))\n",
      "\u001b[1;31mIndexError\u001b[0m: too many indices for array"
     ]
    },
    {
     "data": {
      "image/png": "[encoded data removed]",
      "text/plain": [
       "<Figure size 432x288 with 1 Axes>"
      ]
     },
     "metadata": {
      "needs_background": "light"
     },
     "output_type": "display_data"
    }
   ],
   "source": [
    "plt.figure()\n",
    "s = 50\n",
    "a = 0.4\n",
    "plt.scatter(X_test, y_test[:, 0], edgecolor='k',\n",
    "            c=\"navy\", s=s, marker=\"s\", alpha=a, label=\"Data\")\n",
    "plt.scatter(X_test, y_multirf[:, 0], edgecolor='k',\n",
    "            c=\"cornflowerblue\", s=s, alpha=a,\n",
    "            label=\"Multi RF score=%.2f\" % regr_multirf.score(X_test, y_test))\n",
    "plt.scatter(y_rf[:,0],y_rf[:,1], edgecolor='k',\n",
    "            c=\"c\", s=s, marker=\"^\", alpha=a,\n",
    "            label=\"RF score=%.2f\" % regr_rf.score(X_test, y_test))\n",
    "plt.xlim([-6, 6])\n",
    "plt.ylim([-6, 6])\n",
    "plt.xlabel(\"target 1\")\n",
    "plt.ylabel(\"target 2\")\n",
    "plt.title(\"Comparing random forests and the multi-output meta estimator\")\n",
    "plt.legend()\n",
    "plt.show()"
   ]
  },
  {
   "cell_type": "markdown",
   "metadata": {},
   "source": [
    "##### ARIMA"
   ]
  },
  {
   "cell_type": "code",
   "execution_count": 16,
   "metadata": {},
   "outputs": [
    {
     "data": {
      "text/plain": [
       "[<matplotlib.lines.Line2D at 0x2b285de8648>]"
      ]
     },
     "execution_count": 16,
     "metadata": {},
     "output_type": "execute_result"
    },
    {
     "data": {
      "image/png": "[encoded data removed]",
      "text/plain": [
       "<Figure size 432x288 with 1 Axes>"
      ]
     },
     "metadata": {
      "needs_background": "light"
     },
     "output_type": "display_data"
    }
   ],
   "source": [
    "penn_df = pd.read_csv(arima_data, parse_dates = ['Day'], index_col = ['Day'])\n",
    "plt.xlabel('Day')\n",
    "plt.ylabel('Number of cases')\n",
    "plt.plot(penn_df)"
   ]
  },
  {
   "cell_type": "code",
   "execution_count": 17,
   "metadata": {},
   "outputs": [
    {
     "data": {
      "image/png": "[encoded data removed]",
      "text/plain": [
       "<Figure size 432x288 with 1 Axes>"
      ]
     },
     "metadata": {
      "needs_background": "light"
     },
     "output_type": "display_data"
    }
   ],
   "source": [
    "rolling_mean = penn_df.rolling(window = 12).mean()\n",
    "rolling_std = penn_df.rolling(window = 12).std()\n",
    "plt.plot(penn_df, color = 'blue', label = 'Original')\n",
    "plt.plot(rolling_mean, color = 'red', label = 'Rolling Mean')\n",
    "plt.plot(rolling_std, color = 'black', label = 'Rolling Std')\n",
    "plt.legend(loc = 'best')\n",
    "plt.title('Rolling Mean & Rolling Standard Deviation')\n",
    "plt.show()"
   ]
  },
  {
   "cell_type": "code",
   "execution_count": 18,
   "metadata": {},
   "outputs": [
    {
     "name": "stdout",
     "output_type": "stream",
     "text": [
      "ADF Statistic: 3.4366803014514784\n",
      "p-value: 1.0\n",
      "Critical Values:\n",
      "\t1%: -3.4535050041524245\n",
      "\t5%: -2.8717352599720294\n",
      "\t10%: -2.5722024776854417\n"
     ]
    }
   ],
   "source": [
    "result = adfuller(penn_df['Cases'])\n",
    "print('ADF Statistic: {}'.format(result[0]))\n",
    "print('p-value: {}'.format(result[1]))\n",
    "print('Critical Values:')\n",
    "for key, value in result[4].items():\n",
    "    print('\\t{}: {}'.format(key, value))"
   ]
  },
  {
   "cell_type": "markdown",
   "metadata": {},
   "source": [
    "Between Decision Tree, Random Forest, and ARIMA, I think i like ARIMA the best because it displays the most information."
   ]
  },
  {
   "cell_type": "markdown",
   "metadata": {},
   "source": [
    "#### Deaths"
   ]
  },
  {
   "cell_type": "code",
   "execution_count": 19,
   "metadata": {},
   "outputs": [],
   "source": [
    "X = reshaped_days_since_first\n",
    "Y = new_deaths.values.reshape(-1, 1)"
   ]
  },
  {
   "cell_type": "code",
   "execution_count": 20,
   "metadata": {},
   "outputs": [
    {
     "data": {
      "text/plain": [
       "LinearRegression(copy_X=True, fit_intercept=True, n_jobs=None, normalize=False)"
      ]
     },
     "execution_count": 20,
     "metadata": {},
     "output_type": "execute_result"
    }
   ],
   "source": [
    "regressor_d = LinearRegression()\n",
    "regressor_d.fit(X,Y)"
   ]
  },
  {
   "cell_type": "code",
   "execution_count": 21,
   "metadata": {},
   "outputs": [],
   "source": [
    "y_pred_d = regressor_d.predict(X)"
   ]
  },
  {
   "cell_type": "code",
   "execution_count": 22,
   "metadata": {},
   "outputs": [
    {
     "name": "stdout",
     "output_type": "stream",
     "text": [
      "[[0.02532463]]\n",
      "[5.70778745]\n"
     ]
    }
   ],
   "source": [
    "print(regressor_d.coef_)\n",
    "print(regressor_d.intercept_)"
   ]
  },
  {
   "cell_type": "code",
   "execution_count": 23,
   "metadata": {},
   "outputs": [
    {
     "data": {
      "image/png": "[encoded data removed]",
      "text/plain": [
       "<Figure size 432x288 with 1 Axes>"
      ]
     },
     "metadata": {
      "needs_background": "light"
     },
     "output_type": "display_data"
    }
   ],
   "source": [
    "plt.scatter(X,Y,color = 'red')\n",
    "plt.plot(X,y_pred_d,color = 'blue')\n",
    "plt.title('Linear Regression for Covid Deaths Over Time')\n",
    "plt.xlabel('X')\n",
    "plt.ylabel('Y')\n",
    "plt.show()"
   ]
  },
  {
   "cell_type": "code",
   "execution_count": 24,
   "metadata": {},
   "outputs": [
    {
     "data": {
      "text/plain": [
       "0.020143754437474293"
      ]
     },
     "execution_count": 24,
     "metadata": {},
     "output_type": "execute_result"
    }
   ],
   "source": [
    "r2_score(Y,y_pred_d)"
   ]
  },
  {
   "cell_type": "code",
   "execution_count": 25,
   "metadata": {},
   "outputs": [
    {
     "data": {
      "text/plain": [
       "'penn_deaths.pdf'"
      ]
     },
     "execution_count": 25,
     "metadata": {},
     "output_type": "execute_result"
    }
   ],
   "source": [
    "# Decision tree exported to pdf\n",
    "clf = tree.DecisionTreeRegressor()\n",
    "clf = clf.fit(X,Y)\n",
    "dot_data = tree.export_graphviz(clf, out_file=None) \n",
    "graph = graphviz.Source(dot_data) \n",
    "graph.render(\"penn_deaths\")"
   ]
  },
  {
   "cell_type": "code",
   "execution_count": 26,
   "metadata": {},
   "outputs": [
    {
     "data": {
      "image/png": "[encoded data removed]",
      "text/plain": [
       "<Figure size 432x288 with 1 Axes>"
      ]
     },
     "metadata": {
      "needs_background": "light"
     },
     "output_type": "display_data"
    }
   ],
   "source": [
    "regr_1 = DecisionTreeRegressor(max_depth=2)\n",
    "regr_2 = DecisionTreeRegressor(max_depth=5)\n",
    "regr_1.fit(X, Y)\n",
    "regr_2.fit(X, Y)\n",
    "y_1 = regr_1.predict(X)\n",
    "y_2 = regr_2.predict(X)\n",
    "plt.figure()\n",
    "plt.scatter(X, Y, s=20, edgecolor=\"black\",\n",
    "            c=\"darkorange\", label=\"data\")\n",
    "plt.plot(X, y_1, color=\"cornflowerblue\",\n",
    "         label=\"max_depth=2\", linewidth=2)\n",
    "plt.plot(X, y_2, color=\"yellowgreen\", label=\"max_depth=5\", linewidth=2)\n",
    "plt.xlabel(\"days\")\n",
    "plt.ylabel(\"cases\")\n",
    "plt.title(\"Decision Tree Regression\")\n",
    "plt.legend()\n",
    "plt.show()"
   ]
  },
  {
   "cell_type": "markdown",
   "metadata": {},
   "source": [
    "### Identify counties at risk"
   ]
  },
  {
   "cell_type": "code",
   "execution_count": 27,
   "metadata": {},
   "outputs": [],
   "source": [
    "# from previous analysis, I have determined these five counties to be the most at risk\n",
    "counties_at_risk = ['Berks County', 'Delaware County', 'Lehigh County', 'Northampton County', 'Philadelphia County']"
   ]
  },
  {
   "cell_type": "markdown",
   "metadata": {},
   "source": [
    "#### Cases"
   ]
  },
  {
   "cell_type": "code",
   "execution_count": 28,
   "metadata": {},
   "outputs": [],
   "source": [
    "berks = cases_full.loc[cases_full['County Name'] == counties_at_risk[0]]\n",
    "berks = berks.iloc[:, 1:]\n",
    "berks = berks.sum()\n",
    "berks = berks.astype('int')\n",
    "delaware = cases_full.loc[cases_full['County Name'] == counties_at_risk[1]]\n",
    "delaware = delaware.iloc[:, 1:]\n",
    "delaware = delaware.sum()\n",
    "delaware = delaware.astype('int')\n",
    "lehigh = cases_full.loc[cases_full['County Name'] == counties_at_risk[2]]\n",
    "lehigh = lehigh.iloc[:, 1:]\n",
    "lehigh = lehigh.sum()\n",
    "lehigh = lehigh.astype('int')\n",
    "northampton = cases_full.loc[cases_full['County Name'] == counties_at_risk[3]]\n",
    "northampton = northampton.iloc[:, 1:]\n",
    "northampton = northampton.sum()\n",
    "northampton = northampton.astype('int')\n",
    "philadelphia = cases_full.loc[cases_full['County Name'] == counties_at_risk[4]]\n",
    "philadelphia = philadelphia.iloc[:, 1:]\n",
    "philadelphia = philadelphia.sum()\n",
    "philadelphia = philadelphia.astype('int')"
   ]
  },
  {
   "cell_type": "code",
   "execution_count": 29,
   "metadata": {},
   "outputs": [],
   "source": [
    "X_b = reshaped_days_since_first\n",
    "Y_b = berks.values.reshape(-1, 1)\n",
    "X_d = reshaped_days_since_first\n",
    "Y_d = delaware.values.reshape(-1, 1)\n",
    "X_l = reshaped_days_since_first\n",
    "Y_l = lehigh.values.reshape(-1, 1)\n",
    "X_n = reshaped_days_since_first\n",
    "Y_n = northampton.values.reshape(-1, 1)\n",
    "X_p = reshaped_days_since_first\n",
    "Y_p = philadelphia.values.reshape(-1, 1)"
   ]
  },
  {
   "cell_type": "code",
   "execution_count": 30,
   "metadata": {},
   "outputs": [
    {
     "data": {
      "text/plain": [
       "LinearRegression(copy_X=True, fit_intercept=True, n_jobs=None, normalize=False)"
      ]
     },
     "execution_count": 30,
     "metadata": {},
     "output_type": "execute_result"
    }
   ],
   "source": [
    "regressor_b = LinearRegression()\n",
    "regressor_b.fit(X_b,Y_b)\n",
    "regressor_d = LinearRegression()\n",
    "regressor_d.fit(X_d,Y_d)\n",
    "regressor_l = LinearRegression()\n",
    "regressor_l.fit(X_l,Y_l)\n",
    "regressor_n = LinearRegression()\n",
    "regressor_n.fit(X_n,Y_n)\n",
    "regressor_p = LinearRegression()\n",
    "regressor_p.fit(X_p,Y_p)"
   ]
  },
  {
   "cell_type": "code",
   "execution_count": 31,
   "metadata": {},
   "outputs": [],
   "source": [
    "y_pred_b = regressor_b.predict(X_b)\n",
    "y_pred_d = regressor_d.predict(X_d)\n",
    "y_pred_l = regressor_l.predict(X_l)\n",
    "y_pred_n = regressor_n.predict(X_n)\n",
    "y_pred_p = regressor_p.predict(X_p)"
   ]
  },
  {
   "cell_type": "code",
   "execution_count": 32,
   "metadata": {},
   "outputs": [
    {
     "name": "stdout",
     "output_type": "stream",
     "text": [
      "[[0.04720288]]\n",
      "[1.74931287]\n"
     ]
    }
   ],
   "source": [
    "print(regressor_b.coef_)\n",
    "print(regressor_b.intercept_)"
   ]
  },
  {
   "cell_type": "code",
   "execution_count": 33,
   "metadata": {},
   "outputs": [
    {
     "data": {
      "image/png": "[encoded data removed]",
      "text/plain": [
       "<Figure size 432x288 with 1 Axes>"
      ]
     },
     "metadata": {
      "needs_background": "light"
     },
     "output_type": "display_data"
    }
   ],
   "source": [
    "plt.scatter(X_b,Y_b,color = 'red')\n",
    "plt.plot(X_b,y_pred_b,color = 'blue')\n",
    "plt.title('Linear Regression for Covid Cases Berks County')\n",
    "plt.xlabel('Days since first case')\n",
    "plt.ylabel('Number of cases')\n",
    "plt.show()"
   ]
  },
  {
   "cell_type": "code",
   "execution_count": 34,
   "metadata": {},
   "outputs": [
    {
     "name": "stdout",
     "output_type": "stream",
     "text": [
      "[[0.03743771]]\n",
      "[3.8322492]\n"
     ]
    }
   ],
   "source": [
    "print(regressor_d.coef_)\n",
    "print(regressor_d.intercept_)"
   ]
  },
  {
   "cell_type": "code",
   "execution_count": 35,
   "metadata": {},
   "outputs": [
    {
     "data": {
      "image/png": "[encoded data removed]",
      "text/plain": [
       "<Figure size 432x288 with 1 Axes>"
      ]
     },
     "metadata": {
      "needs_background": "light"
     },
     "output_type": "display_data"
    }
   ],
   "source": [
    "plt.scatter(X_d,Y_d,color = 'red')\n",
    "plt.plot(X_d,y_pred_d,color = 'blue')\n",
    "plt.title('Linear Regression for Covid Cases Delaware County')\n",
    "plt.xlabel('Days since first case')\n",
    "plt.ylabel('Number of cases')\n",
    "plt.show()"
   ]
  },
  {
   "cell_type": "code",
   "execution_count": 36,
   "metadata": {},
   "outputs": [
    {
     "name": "stdout",
     "output_type": "stream",
     "text": [
      "[[0.02125796]]\n",
      "[4.16999542]\n"
     ]
    }
   ],
   "source": [
    "print(regressor_l.coef_)\n",
    "print(regressor_l.intercept_)"
   ]
  },
  {
   "cell_type": "code",
   "execution_count": 37,
   "metadata": {},
   "outputs": [
    {
     "data": {
      "image/png": "[encoded data removed]",
      "text/plain": [
       "<Figure size 432x288 with 1 Axes>"
      ]
     },
     "metadata": {
      "needs_background": "light"
     },
     "output_type": "display_data"
    }
   ],
   "source": [
    "plt.scatter(X_l,Y_l,color = 'red')\n",
    "plt.plot(X_l,y_pred_l,color = 'blue')\n",
    "plt.title('Linear Regression for Covid Cases Lehigh County')\n",
    "plt.xlabel('Days since first case')\n",
    "plt.ylabel('Number of cases')\n",
    "plt.show()"
   ]
  },
  {
   "cell_type": "code",
   "execution_count": 38,
   "metadata": {},
   "outputs": [
    {
     "name": "stdout",
     "output_type": "stream",
     "text": [
      "[[0.0206129]]\n",
      "[4.03092075]\n"
     ]
    }
   ],
   "source": [
    "print(regressor_n.coef_)\n",
    "print(regressor_n.intercept_)"
   ]
  },
  {
   "cell_type": "code",
   "execution_count": 39,
   "metadata": {},
   "outputs": [
    {
     "data": {
      "image/png": "[encoded data removed]",
      "text/plain": [
       "<Figure size 432x288 with 1 Axes>"
      ]
     },
     "metadata": {
      "needs_background": "light"
     },
     "output_type": "display_data"
    }
   ],
   "source": [
    "plt.scatter(X_n,Y_n,color = 'red')\n",
    "plt.plot(X_n,y_pred_n,color = 'blue')\n",
    "plt.title('Linear Regression for Covid Cases Northampton County')\n",
    "plt.xlabel('Days since first case')\n",
    "plt.ylabel('Number of cases')\n",
    "plt.show()"
   ]
  },
  {
   "cell_type": "code",
   "execution_count": 40,
   "metadata": {},
   "outputs": [
    {
     "name": "stdout",
     "output_type": "stream",
     "text": [
      "[[0.04004506]]\n",
      "[3.86252863]\n"
     ]
    }
   ],
   "source": [
    "print(regressor_p.coef_)\n",
    "print(regressor_p.intercept_)"
   ]
  },
  {
   "cell_type": "code",
   "execution_count": 41,
   "metadata": {},
   "outputs": [
    {
     "data": {
      "image/png": "[encoded data removed]",
      "text/plain": [
       "<Figure size 432x288 with 1 Axes>"
      ]
     },
     "metadata": {
      "needs_background": "light"
     },
     "output_type": "display_data"
    }
   ],
   "source": [
    "plt.scatter(X_p,Y_p,color = 'red')\n",
    "plt.plot(X_p,y_pred_p,color = 'blue')\n",
    "plt.title('Linear Regression for Covid Cases Philadelphia County')\n",
    "plt.xlabel('Days since first case')\n",
    "plt.ylabel('Number of cases')\n",
    "plt.show()"
   ]
  },
  {
   "cell_type": "markdown",
   "metadata": {},
   "source": [
    "#### Deaths"
   ]
  },
  {
   "cell_type": "code",
   "execution_count": 42,
   "metadata": {},
   "outputs": [],
   "source": [
    "berks_deaths = deaths_full.loc[cases_full['County Name'] == counties_at_risk[0]]\n",
    "berks_deaths = berks_deaths.iloc[:, 1:]\n",
    "berks_deaths = berks_deaths.sum()\n",
    "berks_deaths = berks_deaths.astype('int')\n",
    "delaware_deaths = deaths_full.loc[cases_full['County Name'] == counties_at_risk[1]]\n",
    "delaware_deaths = delaware_deaths.iloc[:, 1:]\n",
    "delaware_deaths = delaware_deaths.sum()\n",
    "delaware_deaths = delaware_deaths.astype('int')\n",
    "lehigh_deaths = deaths_full.loc[cases_full['County Name'] == counties_at_risk[2]]\n",
    "lehigh_deaths = lehigh_deaths.iloc[:, 1:]\n",
    "lehigh_deaths = lehigh_deaths.sum()\n",
    "lehigh_deaths = lehigh_deaths.astype('int')\n",
    "northampton_deaths = deaths_full.loc[cases_full['County Name'] == counties_at_risk[3]]\n",
    "northampton_deaths = northampton_deaths.iloc[:, 1:]\n",
    "northampton_deaths = northampton_deaths.sum()\n",
    "northampton_deaths = northampton_deaths.astype('int')\n",
    "philadelphia_deaths = deaths_full.loc[cases_full['County Name'] == counties_at_risk[4]]\n",
    "philadelphia_deaths = philadelphia_deaths.iloc[:, 1:]\n",
    "philadelphia_deaths = philadelphia_deaths.sum()\n",
    "philadelphia_deaths = philadelphia_deaths.astype('int')"
   ]
  },
  {
   "cell_type": "code",
   "execution_count": 43,
   "metadata": {},
   "outputs": [],
   "source": [
    "X_b_deaths = reshaped_days_since_first\n",
    "Y_b_deaths = berks_deaths.values.reshape(-1, 1)\n",
    "X_d_deaths = reshaped_days_since_first\n",
    "Y_d_deaths = delaware_deaths.values.reshape(-1, 1)\n",
    "X_l_deaths = reshaped_days_since_first\n",
    "Y_l_deaths = lehigh_deaths.values.reshape(-1, 1)\n",
    "X_n_deaths = reshaped_days_since_first\n",
    "Y_n_deaths = northampton_deaths.values.reshape(-1, 1)\n",
    "X_p_deaths = reshaped_days_since_first\n",
    "Y_p_deaths = philadelphia_deaths.values.reshape(-1, 1)"
   ]
  },
  {
   "cell_type": "code",
   "execution_count": 44,
   "metadata": {},
   "outputs": [
    {
     "data": {
      "text/plain": [
       "LinearRegression(copy_X=True, fit_intercept=True, n_jobs=None, normalize=False)"
      ]
     },
     "execution_count": 44,
     "metadata": {},
     "output_type": "execute_result"
    }
   ],
   "source": [
    "regressor_b_deaths = LinearRegression()\n",
    "regressor_b_deaths.fit(X_b_deaths,Y_b_deaths)\n",
    "regressor_d_deaths = LinearRegression()\n",
    "regressor_d_deaths.fit(X_d_deaths,Y_d_deaths)\n",
    "regressor_l_deaths = LinearRegression()\n",
    "regressor_l_deaths.fit(X_l_deaths,Y_l_deaths)\n",
    "regressor_n_deaths = LinearRegression()\n",
    "regressor_n_deaths.fit(X_n_deaths,Y_n_deaths)\n",
    "regressor_p_deaths = LinearRegression()\n",
    "regressor_p_deaths.fit(X_p_deaths,Y_p_deaths)"
   ]
  },
  {
   "cell_type": "code",
   "execution_count": 45,
   "metadata": {},
   "outputs": [],
   "source": [
    "y_pred_b_deaths = regressor_b_deaths.predict(X_b_deaths)\n",
    "y_pred_d_deaths = regressor_d_deaths.predict(X_d_deaths)\n",
    "y_pred_l_deaths = regressor_l_deaths.predict(X_l_deaths)\n",
    "y_pred_n_deaths = regressor_n_deaths.predict(X_n_deaths)\n",
    "y_pred_p_deaths = regressor_p_deaths.predict(X_p_deaths)"
   ]
  },
  {
   "cell_type": "code",
   "execution_count": 46,
   "metadata": {},
   "outputs": [
    {
     "name": "stdout",
     "output_type": "stream",
     "text": [
      "[[-0.00107229]]\n",
      "[0.42881356]\n"
     ]
    }
   ],
   "source": [
    "print(regressor_b_deaths.coef_)\n",
    "print(regressor_b_deaths.intercept_)"
   ]
  },
  {
   "cell_type": "code",
   "execution_count": 47,
   "metadata": {},
   "outputs": [
    {
     "data": {
      "image/png": "[encoded data removed]",
      "text/plain": [
       "<Figure size 432x288 with 1 Axes>"
      ]
     },
     "metadata": {
      "needs_background": "light"
     },
     "output_type": "display_data"
    }
   ],
   "source": [
    "plt.scatter(X_b_deaths,Y_b_deaths,color = 'red')\n",
    "plt.plot(X_b_deaths,y_pred_b_deaths,color = 'blue')\n",
    "plt.title('Linear Regression for Covid Deaths Berks County')\n",
    "plt.xlabel('Days since first death')\n",
    "plt.ylabel('Number of deaths')\n",
    "plt.show()"
   ]
  },
  {
   "cell_type": "code",
   "execution_count": 48,
   "metadata": {},
   "outputs": [
    {
     "name": "stdout",
     "output_type": "stream",
     "text": [
      "[[-0.00167902]]\n",
      "[0.67732478]\n"
     ]
    }
   ],
   "source": [
    "print(regressor_d_deaths.coef_)\n",
    "print(regressor_d_deaths.intercept_)"
   ]
  },
  {
   "cell_type": "code",
   "execution_count": 49,
   "metadata": {},
   "outputs": [
    {
     "data": {
      "image/png": "[encoded data removed]",
      "text/plain": [
       "<Figure size 432x288 with 1 Axes>"
      ]
     },
     "metadata": {
      "needs_background": "light"
     },
     "output_type": "display_data"
    }
   ],
   "source": [
    "plt.scatter(X_d_deaths,Y_d_deaths,color = 'red')\n",
    "plt.plot(X_d_deaths,y_pred_d_deaths,color = 'blue')\n",
    "plt.title('Linear Regression for Covid Deaths Delaware County')\n",
    "plt.xlabel('Days since first death')\n",
    "plt.ylabel('Number of deaths')\n",
    "plt.show()"
   ]
  },
  {
   "cell_type": "code",
   "execution_count": 50,
   "metadata": {},
   "outputs": [
    {
     "name": "stdout",
     "output_type": "stream",
     "text": [
      "[[-0.00077033]]\n",
      "[0.45222171]\n"
     ]
    }
   ],
   "source": [
    "print(regressor_l_deaths.coef_)\n",
    "print(regressor_l_deaths.intercept_)"
   ]
  },
  {
   "cell_type": "code",
   "execution_count": 51,
   "metadata": {},
   "outputs": [
    {
     "data": {
      "image/png": "[encoded data removed]",
      "text/plain": [
       "<Figure size 432x288 with 1 Axes>"
      ]
     },
     "metadata": {
      "needs_background": "light"
     },
     "output_type": "display_data"
    }
   ],
   "source": [
    "plt.scatter(X_l_deaths,Y_l_deaths,color = 'red')\n",
    "plt.plot(X_l_deaths,y_pred_l_deaths,color = 'blue')\n",
    "plt.title('Linear Regression for Covid Deaths Lehigh County')\n",
    "plt.xlabel('Days since first death')\n",
    "plt.ylabel('Number of deaths')\n",
    "plt.show()"
   ]
  },
  {
   "cell_type": "code",
   "execution_count": 52,
   "metadata": {},
   "outputs": [
    {
     "name": "stdout",
     "output_type": "stream",
     "text": [
      "[[-0.00108959]]\n",
      "[0.48559322]\n"
     ]
    }
   ],
   "source": [
    "print(regressor_n_deaths.coef_)\n",
    "print(regressor_n_deaths.intercept_)"
   ]
  },
  {
   "cell_type": "code",
   "execution_count": 53,
   "metadata": {},
   "outputs": [
    {
     "data": {
      "image/png": "[encoded data removed]",
      "text/plain": [
       "<Figure size 432x288 with 1 Axes>"
      ]
     },
     "metadata": {
      "needs_background": "light"
     },
     "output_type": "display_data"
    }
   ],
   "source": [
    "plt.scatter(X_n_deaths,Y_n_deaths,color = 'red')\n",
    "plt.plot(X_n_deaths,y_pred_n_deaths,color = 'blue')\n",
    "plt.title('Linear Regression for Covid Deaths Northampton County')\n",
    "plt.xlabel('Days since first death')\n",
    "plt.ylabel('Number of deaths')\n",
    "plt.show()"
   ]
  },
  {
   "cell_type": "code",
   "execution_count": 54,
   "metadata": {},
   "outputs": [
    {
     "name": "stdout",
     "output_type": "stream",
     "text": [
      "[[-0.00144858]]\n",
      "[0.57226294]\n"
     ]
    }
   ],
   "source": [
    "print(regressor_p_deaths.coef_)\n",
    "print(regressor_p_deaths.intercept_)"
   ]
  },
  {
   "cell_type": "code",
   "execution_count": 55,
   "metadata": {},
   "outputs": [
    {
     "data": {
      "image/png": "[encoded data removed]",
      "text/plain": [
       "<Figure size 432x288 with 1 Axes>"
      ]
     },
     "metadata": {
      "needs_background": "light"
     },
     "output_type": "display_data"
    }
   ],
   "source": [
    "plt.scatter(X_p_deaths,Y_p_deaths,color = 'red')\n",
    "plt.plot(X_p_deaths,y_pred_p_deaths,color = 'blue')\n",
    "plt.title('Linear Regression for Covid Deaths Philadelphia County')\n",
    "plt.xlabel('Days since first death')\n",
    "plt.ylabel('Number of deaths')\n",
    "plt.show()"
   ]
  },
  {
   "cell_type": "markdown",
   "metadata": {},
   "source": [
    "### Point of no return"
   ]
  },
  {
   "cell_type": "code",
   "execution_count": 56,
   "metadata": {},
   "outputs": [],
   "source": [
    "hosp_data = pd.read_csv(hospital_data, index_col = 0)"
   ]
  },
  {
   "cell_type": "code",
   "execution_count": 57,
   "metadata": {},
   "outputs": [
    {
     "data": {
      "text/html": [
       "<div>\n",
       "<style scoped>\n",
       "    .dataframe tbody tr th:only-of-type {\n",
       "        vertical-align: middle;\n",
       "    }\n",
       "\n",
       "    .dataframe tbody tr th {\n",
       "        vertical-align: top;\n",
       "    }\n",
       "\n",
       "    .dataframe thead th {\n",
       "        text-align: right;\n",
       "    }\n",
       "</style>\n",
       "<table border=\"1\" class=\"dataframe\">\n",
       "  <thead>\n",
       "    <tr style=\"text-align: right;\">\n",
       "      <th></th>\n",
       "      <th>cases</th>\n",
       "      <th>deaths</th>\n",
       "      <th>population</th>\n",
       "      <th>HOSPITAL_NAME</th>\n",
       "      <th>HOSPITAL_TYPE</th>\n",
       "      <th>NUM_LICENSED_BEDS</th>\n",
       "      <th>NUM_STAFFED_BEDS</th>\n",
       "      <th>NUM_ICU_BEDS</th>\n",
       "      <th>ADULT_ICU_BEDS</th>\n",
       "      <th>PEDI_ICU_BEDS</th>\n",
       "      <th>BED_UTILIZATION</th>\n",
       "      <th>Potential_Increase_In_Bed_Capac</th>\n",
       "      <th>AVG_VENTILATOR_USAGE</th>\n",
       "    </tr>\n",
       "    <tr>\n",
       "      <th>County Name</th>\n",
       "      <th></th>\n",
       "      <th></th>\n",
       "      <th></th>\n",
       "      <th></th>\n",
       "      <th></th>\n",
       "      <th></th>\n",
       "      <th></th>\n",
       "      <th></th>\n",
       "      <th></th>\n",
       "      <th></th>\n",
       "      <th></th>\n",
       "      <th></th>\n",
       "      <th></th>\n",
       "    </tr>\n",
       "  </thead>\n",
       "  <tbody>\n",
       "    <tr>\n",
       "      <td>Philadelphia County</td>\n",
       "      <td>30620</td>\n",
       "      <td>1797</td>\n",
       "      <td>1584064</td>\n",
       "      <td>The Liacouras Center Field Hospital (Temporari...</td>\n",
       "      <td>Short Term Acute Care Hospital</td>\n",
       "      <td>NaN</td>\n",
       "      <td>NaN</td>\n",
       "      <td>0.0</td>\n",
       "      <td>0.0</td>\n",
       "      <td>NaN</td>\n",
       "      <td>NaN</td>\n",
       "      <td>0.0</td>\n",
       "      <td>0.0</td>\n",
       "    </tr>\n",
       "    <tr>\n",
       "      <td>Philadelphia County</td>\n",
       "      <td>30620</td>\n",
       "      <td>1797</td>\n",
       "      <td>1584064</td>\n",
       "      <td>Fairmount Behavioral Health System (FKA Fairmo...</td>\n",
       "      <td>Psychiatric Hospital</td>\n",
       "      <td>239.0</td>\n",
       "      <td>172.0</td>\n",
       "      <td>1.0</td>\n",
       "      <td>1.0</td>\n",
       "      <td>0.0</td>\n",
       "      <td>0.876442</td>\n",
       "      <td>67.0</td>\n",
       "      <td>1.0</td>\n",
       "    </tr>\n",
       "    <tr>\n",
       "      <td>Philadelphia County</td>\n",
       "      <td>30620</td>\n",
       "      <td>1797</td>\n",
       "      <td>1584064</td>\n",
       "      <td>Pennsylvania Hospital</td>\n",
       "      <td>Short Term Acute Care Hospital</td>\n",
       "      <td>475.0</td>\n",
       "      <td>403.0</td>\n",
       "      <td>50.0</td>\n",
       "      <td>50.0</td>\n",
       "      <td>50.0</td>\n",
       "      <td>0.519460</td>\n",
       "      <td>72.0</td>\n",
       "      <td>16.0</td>\n",
       "    </tr>\n",
       "    <tr>\n",
       "      <td>Philadelphia County</td>\n",
       "      <td>30620</td>\n",
       "      <td>1797</td>\n",
       "      <td>1584064</td>\n",
       "      <td>Roxborough Memorial Hospital</td>\n",
       "      <td>Short Term Acute Care Hospital</td>\n",
       "      <td>131.0</td>\n",
       "      <td>107.0</td>\n",
       "      <td>18.0</td>\n",
       "      <td>18.0</td>\n",
       "      <td>0.0</td>\n",
       "      <td>0.302189</td>\n",
       "      <td>24.0</td>\n",
       "      <td>3.0</td>\n",
       "    </tr>\n",
       "    <tr>\n",
       "      <td>Philadelphia County</td>\n",
       "      <td>30620</td>\n",
       "      <td>1797</td>\n",
       "      <td>1584064</td>\n",
       "      <td>Haven Behavioral Hospital of Philadelphia</td>\n",
       "      <td>Psychiatric Hospital</td>\n",
       "      <td>67.0</td>\n",
       "      <td>36.0</td>\n",
       "      <td>0.0</td>\n",
       "      <td>0.0</td>\n",
       "      <td>0.0</td>\n",
       "      <td>0.872451</td>\n",
       "      <td>31.0</td>\n",
       "      <td>0.0</td>\n",
       "    </tr>\n",
       "    <tr>\n",
       "      <td>...</td>\n",
       "      <td>...</td>\n",
       "      <td>...</td>\n",
       "      <td>...</td>\n",
       "      <td>...</td>\n",
       "      <td>...</td>\n",
       "      <td>...</td>\n",
       "      <td>...</td>\n",
       "      <td>...</td>\n",
       "      <td>...</td>\n",
       "      <td>...</td>\n",
       "      <td>...</td>\n",
       "      <td>...</td>\n",
       "      <td>...</td>\n",
       "    </tr>\n",
       "    <tr>\n",
       "      <td>Clearfield County</td>\n",
       "      <td>292</td>\n",
       "      <td>1</td>\n",
       "      <td>79255</td>\n",
       "      <td>Penn Highlands Clearfield</td>\n",
       "      <td>Short Term Acute Care Hospital</td>\n",
       "      <td>50.0</td>\n",
       "      <td>40.0</td>\n",
       "      <td>7.0</td>\n",
       "      <td>7.0</td>\n",
       "      <td>0.0</td>\n",
       "      <td>0.327123</td>\n",
       "      <td>10.0</td>\n",
       "      <td>2.0</td>\n",
       "    </tr>\n",
       "    <tr>\n",
       "      <td>Sullivan County</td>\n",
       "      <td>10</td>\n",
       "      <td>0</td>\n",
       "      <td>6066</td>\n",
       "      <td>NaN</td>\n",
       "      <td>NaN</td>\n",
       "      <td>NaN</td>\n",
       "      <td>NaN</td>\n",
       "      <td>NaN</td>\n",
       "      <td>NaN</td>\n",
       "      <td>NaN</td>\n",
       "      <td>NaN</td>\n",
       "      <td>NaN</td>\n",
       "      <td>NaN</td>\n",
       "    </tr>\n",
       "    <tr>\n",
       "      <td>Cameron County</td>\n",
       "      <td>8</td>\n",
       "      <td>0</td>\n",
       "      <td>4447</td>\n",
       "      <td>NaN</td>\n",
       "      <td>NaN</td>\n",
       "      <td>NaN</td>\n",
       "      <td>NaN</td>\n",
       "      <td>NaN</td>\n",
       "      <td>NaN</td>\n",
       "      <td>NaN</td>\n",
       "      <td>NaN</td>\n",
       "      <td>NaN</td>\n",
       "      <td>NaN</td>\n",
       "    </tr>\n",
       "    <tr>\n",
       "      <td>Forest County</td>\n",
       "      <td>14</td>\n",
       "      <td>0</td>\n",
       "      <td>7247</td>\n",
       "      <td>NaN</td>\n",
       "      <td>NaN</td>\n",
       "      <td>NaN</td>\n",
       "      <td>NaN</td>\n",
       "      <td>NaN</td>\n",
       "      <td>NaN</td>\n",
       "      <td>NaN</td>\n",
       "      <td>NaN</td>\n",
       "      <td>NaN</td>\n",
       "      <td>NaN</td>\n",
       "    </tr>\n",
       "    <tr>\n",
       "      <td>Potter County</td>\n",
       "      <td>25</td>\n",
       "      <td>0</td>\n",
       "      <td>16526</td>\n",
       "      <td>UPMC Cole</td>\n",
       "      <td>Critical Access Hospital</td>\n",
       "      <td>49.0</td>\n",
       "      <td>25.0</td>\n",
       "      <td>4.0</td>\n",
       "      <td>4.0</td>\n",
       "      <td>0.0</td>\n",
       "      <td>0.535233</td>\n",
       "      <td>24.0</td>\n",
       "      <td>2.0</td>\n",
       "    </tr>\n",
       "  </tbody>\n",
       "</table>\n",
       "<p>257 rows × 13 columns</p>\n",
       "</div>"
      ],
      "text/plain": [
       "                     cases  deaths  population  \\\n",
       "County Name                                      \n",
       "Philadelphia County  30620    1797     1584064   \n",
       "Philadelphia County  30620    1797     1584064   \n",
       "Philadelphia County  30620    1797     1584064   \n",
       "Philadelphia County  30620    1797     1584064   \n",
       "Philadelphia County  30620    1797     1584064   \n",
       "...                    ...     ...         ...   \n",
       "Clearfield County      292       1       79255   \n",
       "Sullivan County         10       0        6066   \n",
       "Cameron County           8       0        4447   \n",
       "Forest County           14       0        7247   \n",
       "Potter County           25       0       16526   \n",
       "\n",
       "                                                         HOSPITAL_NAME  \\\n",
       "County Name                                                              \n",
       "Philadelphia County  The Liacouras Center Field Hospital (Temporari...   \n",
       "Philadelphia County  Fairmount Behavioral Health System (FKA Fairmo...   \n",
       "Philadelphia County                              Pennsylvania Hospital   \n",
       "Philadelphia County                       Roxborough Memorial Hospital   \n",
       "Philadelphia County          Haven Behavioral Hospital of Philadelphia   \n",
       "...                                                                ...   \n",
       "Clearfield County                            Penn Highlands Clearfield   \n",
       "Sullivan County                                                    NaN   \n",
       "Cameron County                                                     NaN   \n",
       "Forest County                                                      NaN   \n",
       "Potter County                                                UPMC Cole   \n",
       "\n",
       "                                      HOSPITAL_TYPE  NUM_LICENSED_BEDS  \\\n",
       "County Name                                                              \n",
       "Philadelphia County  Short Term Acute Care Hospital                NaN   \n",
       "Philadelphia County            Psychiatric Hospital              239.0   \n",
       "Philadelphia County  Short Term Acute Care Hospital              475.0   \n",
       "Philadelphia County  Short Term Acute Care Hospital              131.0   \n",
       "Philadelphia County            Psychiatric Hospital               67.0   \n",
       "...                                             ...                ...   \n",
       "Clearfield County    Short Term Acute Care Hospital               50.0   \n",
       "Sullivan County                                 NaN                NaN   \n",
       "Cameron County                                  NaN                NaN   \n",
       "Forest County                                   NaN                NaN   \n",
       "Potter County              Critical Access Hospital               49.0   \n",
       "\n",
       "                     NUM_STAFFED_BEDS  NUM_ICU_BEDS  ADULT_ICU_BEDS  \\\n",
       "County Name                                                           \n",
       "Philadelphia County               NaN           0.0             0.0   \n",
       "Philadelphia County             172.0           1.0             1.0   \n",
       "Philadelphia County             403.0          50.0            50.0   \n",
       "Philadelphia County             107.0          18.0            18.0   \n",
       "Philadelphia County              36.0           0.0             0.0   \n",
       "...                               ...           ...             ...   \n",
       "Clearfield County                40.0           7.0             7.0   \n",
       "Sullivan County                   NaN           NaN             NaN   \n",
       "Cameron County                    NaN           NaN             NaN   \n",
       "Forest County                     NaN           NaN             NaN   \n",
       "Potter County                    25.0           4.0             4.0   \n",
       "\n",
       "                     PEDI_ICU_BEDS  BED_UTILIZATION  \\\n",
       "County Name                                           \n",
       "Philadelphia County            NaN              NaN   \n",
       "Philadelphia County            0.0         0.876442   \n",
       "Philadelphia County           50.0         0.519460   \n",
       "Philadelphia County            0.0         0.302189   \n",
       "Philadelphia County            0.0         0.872451   \n",
       "...                            ...              ...   \n",
       "Clearfield County              0.0         0.327123   \n",
       "Sullivan County                NaN              NaN   \n",
       "Cameron County                 NaN              NaN   \n",
       "Forest County                  NaN              NaN   \n",
       "Potter County                  0.0         0.535233   \n",
       "\n",
       "                     Potential_Increase_In_Bed_Capac  AVG_VENTILATOR_USAGE  \n",
       "County Name                                                                 \n",
       "Philadelphia County                              0.0                   0.0  \n",
       "Philadelphia County                             67.0                   1.0  \n",
       "Philadelphia County                             72.0                  16.0  \n",
       "Philadelphia County                             24.0                   3.0  \n",
       "Philadelphia County                             31.0                   0.0  \n",
       "...                                              ...                   ...  \n",
       "Clearfield County                               10.0                   2.0  \n",
       "Sullivan County                                  NaN                   NaN  \n",
       "Cameron County                                   NaN                   NaN  \n",
       "Forest County                                    NaN                   NaN  \n",
       "Potter County                                   24.0                   2.0  \n",
       "\n",
       "[257 rows x 13 columns]"
      ]
     },
     "execution_count": 57,
     "metadata": {},
     "output_type": "execute_result"
    }
   ],
   "source": [
    "hosp_data.sort_values(by = ['deaths'], ascending = False)"
   ]
  },
  {
   "cell_type": "code",
   "execution_count": 58,
   "metadata": {},
   "outputs": [
    {
     "data": {
      "text/plain": [
       "103023"
      ]
     },
     "execution_count": 58,
     "metadata": {},
     "output_type": "execute_result"
    }
   ],
   "source": [
    "# here we can see the total number of deaths for penn so far\n",
    "hosp_data['deaths'].sum()"
   ]
  },
  {
   "cell_type": "code",
   "execution_count": 59,
   "metadata": {},
   "outputs": [
    {
     "data": {
      "text/plain": [
       "37603.0"
      ]
     },
     "execution_count": 59,
     "metadata": {},
     "output_type": "execute_result"
    }
   ],
   "source": [
    "# here is the number of staffed beds for the whole state\n",
    "hosp_data['NUM_STAFFED_BEDS'].sum()"
   ]
  },
  {
   "cell_type": "markdown",
   "metadata": {},
   "source": [
    "The point of no return would be if the daily deaths surpassed the total number of staffed beds"
   ]
  },
  {
   "cell_type": "markdown",
   "metadata": {},
   "source": [
    "### I have put the decision tree pdfs into a folder located in this same folder"
   ]
  },
  {
   "cell_type": "markdown",
   "metadata": {},
   "source": [
    "### Spread Rate"
   ]
  },
  {
   "cell_type": "code",
   "execution_count": 60,
   "metadata": {},
   "outputs": [
    {
     "data": {
      "text/html": [
       "<div>\n",
       "<style scoped>\n",
       "    .dataframe tbody tr th:only-of-type {\n",
       "        vertical-align: middle;\n",
       "    }\n",
       "\n",
       "    .dataframe tbody tr th {\n",
       "        vertical-align: top;\n",
       "    }\n",
       "\n",
       "    .dataframe thead th {\n",
       "        text-align: right;\n",
       "    }\n",
       "</style>\n",
       "<table border=\"1\" class=\"dataframe\">\n",
       "  <thead>\n",
       "    <tr style=\"text-align: right;\">\n",
       "      <th></th>\n",
       "      <th>cases</th>\n",
       "      <th>deaths</th>\n",
       "      <th>population</th>\n",
       "      <th>HOSPITAL_NAME</th>\n",
       "      <th>HOSPITAL_TYPE</th>\n",
       "      <th>NUM_LICENSED_BEDS</th>\n",
       "      <th>NUM_STAFFED_BEDS</th>\n",
       "      <th>NUM_ICU_BEDS</th>\n",
       "      <th>ADULT_ICU_BEDS</th>\n",
       "      <th>PEDI_ICU_BEDS</th>\n",
       "      <th>BED_UTILIZATION</th>\n",
       "      <th>Potential_Increase_In_Bed_Capac</th>\n",
       "      <th>AVG_VENTILATOR_USAGE</th>\n",
       "    </tr>\n",
       "    <tr>\n",
       "      <th>County Name</th>\n",
       "      <th></th>\n",
       "      <th></th>\n",
       "      <th></th>\n",
       "      <th></th>\n",
       "      <th></th>\n",
       "      <th></th>\n",
       "      <th></th>\n",
       "      <th></th>\n",
       "      <th></th>\n",
       "      <th></th>\n",
       "      <th></th>\n",
       "      <th></th>\n",
       "      <th></th>\n",
       "    </tr>\n",
       "  </thead>\n",
       "  <tbody>\n",
       "    <tr>\n",
       "      <td>Philadelphia County</td>\n",
       "      <td>30620</td>\n",
       "      <td>1797</td>\n",
       "      <td>1584064</td>\n",
       "      <td>The Liacouras Center Field Hospital (Temporari...</td>\n",
       "      <td>Short Term Acute Care Hospital</td>\n",
       "      <td>NaN</td>\n",
       "      <td>NaN</td>\n",
       "      <td>0.0</td>\n",
       "      <td>0.0</td>\n",
       "      <td>NaN</td>\n",
       "      <td>NaN</td>\n",
       "      <td>0.0</td>\n",
       "      <td>0.0</td>\n",
       "    </tr>\n",
       "    <tr>\n",
       "      <td>Philadelphia County</td>\n",
       "      <td>30620</td>\n",
       "      <td>1797</td>\n",
       "      <td>1584064</td>\n",
       "      <td>Fairmount Behavioral Health System (FKA Fairmo...</td>\n",
       "      <td>Psychiatric Hospital</td>\n",
       "      <td>239.0</td>\n",
       "      <td>172.0</td>\n",
       "      <td>1.0</td>\n",
       "      <td>1.0</td>\n",
       "      <td>0.0</td>\n",
       "      <td>0.876442</td>\n",
       "      <td>67.0</td>\n",
       "      <td>1.0</td>\n",
       "    </tr>\n",
       "    <tr>\n",
       "      <td>Philadelphia County</td>\n",
       "      <td>30620</td>\n",
       "      <td>1797</td>\n",
       "      <td>1584064</td>\n",
       "      <td>Pennsylvania Hospital</td>\n",
       "      <td>Short Term Acute Care Hospital</td>\n",
       "      <td>475.0</td>\n",
       "      <td>403.0</td>\n",
       "      <td>50.0</td>\n",
       "      <td>50.0</td>\n",
       "      <td>50.0</td>\n",
       "      <td>0.519460</td>\n",
       "      <td>72.0</td>\n",
       "      <td>16.0</td>\n",
       "    </tr>\n",
       "    <tr>\n",
       "      <td>Philadelphia County</td>\n",
       "      <td>30620</td>\n",
       "      <td>1797</td>\n",
       "      <td>1584064</td>\n",
       "      <td>Roxborough Memorial Hospital</td>\n",
       "      <td>Short Term Acute Care Hospital</td>\n",
       "      <td>131.0</td>\n",
       "      <td>107.0</td>\n",
       "      <td>18.0</td>\n",
       "      <td>18.0</td>\n",
       "      <td>0.0</td>\n",
       "      <td>0.302189</td>\n",
       "      <td>24.0</td>\n",
       "      <td>3.0</td>\n",
       "    </tr>\n",
       "    <tr>\n",
       "      <td>Philadelphia County</td>\n",
       "      <td>30620</td>\n",
       "      <td>1797</td>\n",
       "      <td>1584064</td>\n",
       "      <td>Haven Behavioral Hospital of Philadelphia</td>\n",
       "      <td>Psychiatric Hospital</td>\n",
       "      <td>67.0</td>\n",
       "      <td>36.0</td>\n",
       "      <td>0.0</td>\n",
       "      <td>0.0</td>\n",
       "      <td>0.0</td>\n",
       "      <td>0.872451</td>\n",
       "      <td>31.0</td>\n",
       "      <td>0.0</td>\n",
       "    </tr>\n",
       "    <tr>\n",
       "      <td>...</td>\n",
       "      <td>...</td>\n",
       "      <td>...</td>\n",
       "      <td>...</td>\n",
       "      <td>...</td>\n",
       "      <td>...</td>\n",
       "      <td>...</td>\n",
       "      <td>...</td>\n",
       "      <td>...</td>\n",
       "      <td>...</td>\n",
       "      <td>...</td>\n",
       "      <td>...</td>\n",
       "      <td>...</td>\n",
       "      <td>...</td>\n",
       "    </tr>\n",
       "    <tr>\n",
       "      <td>Clearfield County</td>\n",
       "      <td>292</td>\n",
       "      <td>1</td>\n",
       "      <td>79255</td>\n",
       "      <td>Penn Highlands Clearfield</td>\n",
       "      <td>Short Term Acute Care Hospital</td>\n",
       "      <td>50.0</td>\n",
       "      <td>40.0</td>\n",
       "      <td>7.0</td>\n",
       "      <td>7.0</td>\n",
       "      <td>0.0</td>\n",
       "      <td>0.327123</td>\n",
       "      <td>10.0</td>\n",
       "      <td>2.0</td>\n",
       "    </tr>\n",
       "    <tr>\n",
       "      <td>Sullivan County</td>\n",
       "      <td>10</td>\n",
       "      <td>0</td>\n",
       "      <td>6066</td>\n",
       "      <td>NaN</td>\n",
       "      <td>NaN</td>\n",
       "      <td>NaN</td>\n",
       "      <td>NaN</td>\n",
       "      <td>NaN</td>\n",
       "      <td>NaN</td>\n",
       "      <td>NaN</td>\n",
       "      <td>NaN</td>\n",
       "      <td>NaN</td>\n",
       "      <td>NaN</td>\n",
       "    </tr>\n",
       "    <tr>\n",
       "      <td>Cameron County</td>\n",
       "      <td>8</td>\n",
       "      <td>0</td>\n",
       "      <td>4447</td>\n",
       "      <td>NaN</td>\n",
       "      <td>NaN</td>\n",
       "      <td>NaN</td>\n",
       "      <td>NaN</td>\n",
       "      <td>NaN</td>\n",
       "      <td>NaN</td>\n",
       "      <td>NaN</td>\n",
       "      <td>NaN</td>\n",
       "      <td>NaN</td>\n",
       "      <td>NaN</td>\n",
       "    </tr>\n",
       "    <tr>\n",
       "      <td>Forest County</td>\n",
       "      <td>14</td>\n",
       "      <td>0</td>\n",
       "      <td>7247</td>\n",
       "      <td>NaN</td>\n",
       "      <td>NaN</td>\n",
       "      <td>NaN</td>\n",
       "      <td>NaN</td>\n",
       "      <td>NaN</td>\n",
       "      <td>NaN</td>\n",
       "      <td>NaN</td>\n",
       "      <td>NaN</td>\n",
       "      <td>NaN</td>\n",
       "      <td>NaN</td>\n",
       "    </tr>\n",
       "    <tr>\n",
       "      <td>Potter County</td>\n",
       "      <td>25</td>\n",
       "      <td>0</td>\n",
       "      <td>16526</td>\n",
       "      <td>UPMC Cole</td>\n",
       "      <td>Critical Access Hospital</td>\n",
       "      <td>49.0</td>\n",
       "      <td>25.0</td>\n",
       "      <td>4.0</td>\n",
       "      <td>4.0</td>\n",
       "      <td>0.0</td>\n",
       "      <td>0.535233</td>\n",
       "      <td>24.0</td>\n",
       "      <td>2.0</td>\n",
       "    </tr>\n",
       "  </tbody>\n",
       "</table>\n",
       "<p>257 rows × 13 columns</p>\n",
       "</div>"
      ],
      "text/plain": [
       "                     cases  deaths  population  \\\n",
       "County Name                                      \n",
       "Philadelphia County  30620    1797     1584064   \n",
       "Philadelphia County  30620    1797     1584064   \n",
       "Philadelphia County  30620    1797     1584064   \n",
       "Philadelphia County  30620    1797     1584064   \n",
       "Philadelphia County  30620    1797     1584064   \n",
       "...                    ...     ...         ...   \n",
       "Clearfield County      292       1       79255   \n",
       "Sullivan County         10       0        6066   \n",
       "Cameron County           8       0        4447   \n",
       "Forest County           14       0        7247   \n",
       "Potter County           25       0       16526   \n",
       "\n",
       "                                                         HOSPITAL_NAME  \\\n",
       "County Name                                                              \n",
       "Philadelphia County  The Liacouras Center Field Hospital (Temporari...   \n",
       "Philadelphia County  Fairmount Behavioral Health System (FKA Fairmo...   \n",
       "Philadelphia County                              Pennsylvania Hospital   \n",
       "Philadelphia County                       Roxborough Memorial Hospital   \n",
       "Philadelphia County          Haven Behavioral Hospital of Philadelphia   \n",
       "...                                                                ...   \n",
       "Clearfield County                            Penn Highlands Clearfield   \n",
       "Sullivan County                                                    NaN   \n",
       "Cameron County                                                     NaN   \n",
       "Forest County                                                      NaN   \n",
       "Potter County                                                UPMC Cole   \n",
       "\n",
       "                                      HOSPITAL_TYPE  NUM_LICENSED_BEDS  \\\n",
       "County Name                                                              \n",
       "Philadelphia County  Short Term Acute Care Hospital                NaN   \n",
       "Philadelphia County            Psychiatric Hospital              239.0   \n",
       "Philadelphia County  Short Term Acute Care Hospital              475.0   \n",
       "Philadelphia County  Short Term Acute Care Hospital              131.0   \n",
       "Philadelphia County            Psychiatric Hospital               67.0   \n",
       "...                                             ...                ...   \n",
       "Clearfield County    Short Term Acute Care Hospital               50.0   \n",
       "Sullivan County                                 NaN                NaN   \n",
       "Cameron County                                  NaN                NaN   \n",
       "Forest County                                   NaN                NaN   \n",
       "Potter County              Critical Access Hospital               49.0   \n",
       "\n",
       "                     NUM_STAFFED_BEDS  NUM_ICU_BEDS  ADULT_ICU_BEDS  \\\n",
       "County Name                                                           \n",
       "Philadelphia County               NaN           0.0             0.0   \n",
       "Philadelphia County             172.0           1.0             1.0   \n",
       "Philadelphia County             403.0          50.0            50.0   \n",
       "Philadelphia County             107.0          18.0            18.0   \n",
       "Philadelphia County              36.0           0.0             0.0   \n",
       "...                               ...           ...             ...   \n",
       "Clearfield County                40.0           7.0             7.0   \n",
       "Sullivan County                   NaN           NaN             NaN   \n",
       "Cameron County                    NaN           NaN             NaN   \n",
       "Forest County                     NaN           NaN             NaN   \n",
       "Potter County                    25.0           4.0             4.0   \n",
       "\n",
       "                     PEDI_ICU_BEDS  BED_UTILIZATION  \\\n",
       "County Name                                           \n",
       "Philadelphia County            NaN              NaN   \n",
       "Philadelphia County            0.0         0.876442   \n",
       "Philadelphia County           50.0         0.519460   \n",
       "Philadelphia County            0.0         0.302189   \n",
       "Philadelphia County            0.0         0.872451   \n",
       "...                            ...              ...   \n",
       "Clearfield County              0.0         0.327123   \n",
       "Sullivan County                NaN              NaN   \n",
       "Cameron County                 NaN              NaN   \n",
       "Forest County                  NaN              NaN   \n",
       "Potter County                  0.0         0.535233   \n",
       "\n",
       "                     Potential_Increase_In_Bed_Capac  AVG_VENTILATOR_USAGE  \n",
       "County Name                                                                 \n",
       "Philadelphia County                              0.0                   0.0  \n",
       "Philadelphia County                             67.0                   1.0  \n",
       "Philadelphia County                             72.0                  16.0  \n",
       "Philadelphia County                             24.0                   3.0  \n",
       "Philadelphia County                             31.0                   0.0  \n",
       "...                                              ...                   ...  \n",
       "Clearfield County                               10.0                   2.0  \n",
       "Sullivan County                                  NaN                   NaN  \n",
       "Cameron County                                   NaN                   NaN  \n",
       "Forest County                                    NaN                   NaN  \n",
       "Potter County                                   24.0                   2.0  \n",
       "\n",
       "[257 rows x 13 columns]"
      ]
     },
     "execution_count": 60,
     "metadata": {},
     "output_type": "execute_result"
    }
   ],
   "source": [
    "hosp_data.sort_values(by = ['deaths'], ascending = False)"
   ]
  },
  {
   "cell_type": "code",
   "execution_count": 61,
   "metadata": {},
   "outputs": [
    {
     "data": {
      "text/html": [
       "<div>\n",
       "<style scoped>\n",
       "    .dataframe tbody tr th:only-of-type {\n",
       "        vertical-align: middle;\n",
       "    }\n",
       "\n",
       "    .dataframe tbody tr th {\n",
       "        vertical-align: top;\n",
       "    }\n",
       "\n",
       "    .dataframe thead th {\n",
       "        text-align: right;\n",
       "    }\n",
       "</style>\n",
       "<table border=\"1\" class=\"dataframe\">\n",
       "  <thead>\n",
       "    <tr style=\"text-align: right;\">\n",
       "      <th></th>\n",
       "      <th>cases</th>\n",
       "      <th>deaths</th>\n",
       "      <th>population</th>\n",
       "      <th>HOSPITAL_NAME</th>\n",
       "      <th>HOSPITAL_TYPE</th>\n",
       "      <th>NUM_LICENSED_BEDS</th>\n",
       "      <th>NUM_STAFFED_BEDS</th>\n",
       "      <th>NUM_ICU_BEDS</th>\n",
       "      <th>ADULT_ICU_BEDS</th>\n",
       "      <th>PEDI_ICU_BEDS</th>\n",
       "      <th>BED_UTILIZATION</th>\n",
       "      <th>Potential_Increase_In_Bed_Capac</th>\n",
       "      <th>AVG_VENTILATOR_USAGE</th>\n",
       "    </tr>\n",
       "    <tr>\n",
       "      <th>County Name</th>\n",
       "      <th></th>\n",
       "      <th></th>\n",
       "      <th></th>\n",
       "      <th></th>\n",
       "      <th></th>\n",
       "      <th></th>\n",
       "      <th></th>\n",
       "      <th></th>\n",
       "      <th></th>\n",
       "      <th></th>\n",
       "      <th></th>\n",
       "      <th></th>\n",
       "      <th></th>\n",
       "    </tr>\n",
       "  </thead>\n",
       "  <tbody>\n",
       "    <tr>\n",
       "      <td>Mercer County</td>\n",
       "      <td>662</td>\n",
       "      <td>13</td>\n",
       "      <td>109424</td>\n",
       "      <td>Edgewood Surgical Hospital</td>\n",
       "      <td>Short Term Acute Care Hospital</td>\n",
       "      <td>10.0</td>\n",
       "      <td>10.0</td>\n",
       "      <td>2.0</td>\n",
       "      <td>2.0</td>\n",
       "      <td>0.0</td>\n",
       "      <td>0.029589</td>\n",
       "      <td>0.0</td>\n",
       "      <td>0.0</td>\n",
       "    </tr>\n",
       "    <tr>\n",
       "      <td>Wyoming County</td>\n",
       "      <td>72</td>\n",
       "      <td>8</td>\n",
       "      <td>26794</td>\n",
       "      <td>Tyler Memorial Hospital</td>\n",
       "      <td>Short Term Acute Care Hospital</td>\n",
       "      <td>44.0</td>\n",
       "      <td>44.0</td>\n",
       "      <td>6.0</td>\n",
       "      <td>6.0</td>\n",
       "      <td>0.0</td>\n",
       "      <td>0.060959</td>\n",
       "      <td>0.0</td>\n",
       "      <td>2.0</td>\n",
       "    </tr>\n",
       "    <tr>\n",
       "      <td>Columbia County</td>\n",
       "      <td>847</td>\n",
       "      <td>35</td>\n",
       "      <td>64964</td>\n",
       "      <td>Berwick Hospital Center</td>\n",
       "      <td>Short Term Acute Care Hospital</td>\n",
       "      <td>90.0</td>\n",
       "      <td>87.0</td>\n",
       "      <td>10.0</td>\n",
       "      <td>10.0</td>\n",
       "      <td>0.0</td>\n",
       "      <td>0.085498</td>\n",
       "      <td>3.0</td>\n",
       "      <td>2.0</td>\n",
       "    </tr>\n",
       "    <tr>\n",
       "      <td>Philadelphia County</td>\n",
       "      <td>30620</td>\n",
       "      <td>1797</td>\n",
       "      <td>1584064</td>\n",
       "      <td>Cancer Treatment Centers of America - Philadel...</td>\n",
       "      <td>Short Term Acute Care Hospital</td>\n",
       "      <td>74.0</td>\n",
       "      <td>74.0</td>\n",
       "      <td>12.0</td>\n",
       "      <td>12.0</td>\n",
       "      <td>0.0</td>\n",
       "      <td>0.094150</td>\n",
       "      <td>0.0</td>\n",
       "      <td>2.0</td>\n",
       "    </tr>\n",
       "    <tr>\n",
       "      <td>McKean County</td>\n",
       "      <td>51</td>\n",
       "      <td>2</td>\n",
       "      <td>40625</td>\n",
       "      <td>UPMC Kane (FKA Kane Community Hospital)</td>\n",
       "      <td>Short Term Acute Care Hospital</td>\n",
       "      <td>31.0</td>\n",
       "      <td>31.0</td>\n",
       "      <td>5.0</td>\n",
       "      <td>5.0</td>\n",
       "      <td>0.0</td>\n",
       "      <td>0.110119</td>\n",
       "      <td>0.0</td>\n",
       "      <td>2.0</td>\n",
       "    </tr>\n",
       "    <tr>\n",
       "      <td>...</td>\n",
       "      <td>...</td>\n",
       "      <td>...</td>\n",
       "      <td>...</td>\n",
       "      <td>...</td>\n",
       "      <td>...</td>\n",
       "      <td>...</td>\n",
       "      <td>...</td>\n",
       "      <td>...</td>\n",
       "      <td>...</td>\n",
       "      <td>...</td>\n",
       "      <td>...</td>\n",
       "      <td>...</td>\n",
       "      <td>...</td>\n",
       "    </tr>\n",
       "    <tr>\n",
       "      <td>Pike County</td>\n",
       "      <td>559</td>\n",
       "      <td>21</td>\n",
       "      <td>55809</td>\n",
       "      <td>NaN</td>\n",
       "      <td>NaN</td>\n",
       "      <td>NaN</td>\n",
       "      <td>NaN</td>\n",
       "      <td>NaN</td>\n",
       "      <td>NaN</td>\n",
       "      <td>NaN</td>\n",
       "      <td>NaN</td>\n",
       "      <td>NaN</td>\n",
       "      <td>NaN</td>\n",
       "    </tr>\n",
       "    <tr>\n",
       "      <td>Schuylkill County</td>\n",
       "      <td>1046</td>\n",
       "      <td>52</td>\n",
       "      <td>141359</td>\n",
       "      <td>Geisinger St Lukes Hospital</td>\n",
       "      <td>Short Term Acute Care Hospital</td>\n",
       "      <td>NaN</td>\n",
       "      <td>NaN</td>\n",
       "      <td>32.0</td>\n",
       "      <td>32.0</td>\n",
       "      <td>NaN</td>\n",
       "      <td>NaN</td>\n",
       "      <td>0.0</td>\n",
       "      <td>0.0</td>\n",
       "    </tr>\n",
       "    <tr>\n",
       "      <td>Snyder County</td>\n",
       "      <td>236</td>\n",
       "      <td>3</td>\n",
       "      <td>40372</td>\n",
       "      <td>NaN</td>\n",
       "      <td>NaN</td>\n",
       "      <td>NaN</td>\n",
       "      <td>NaN</td>\n",
       "      <td>NaN</td>\n",
       "      <td>NaN</td>\n",
       "      <td>NaN</td>\n",
       "      <td>NaN</td>\n",
       "      <td>NaN</td>\n",
       "      <td>NaN</td>\n",
       "    </tr>\n",
       "    <tr>\n",
       "      <td>Sullivan County</td>\n",
       "      <td>10</td>\n",
       "      <td>0</td>\n",
       "      <td>6066</td>\n",
       "      <td>NaN</td>\n",
       "      <td>NaN</td>\n",
       "      <td>NaN</td>\n",
       "      <td>NaN</td>\n",
       "      <td>NaN</td>\n",
       "      <td>NaN</td>\n",
       "      <td>NaN</td>\n",
       "      <td>NaN</td>\n",
       "      <td>NaN</td>\n",
       "      <td>NaN</td>\n",
       "    </tr>\n",
       "    <tr>\n",
       "      <td>Westmoreland County</td>\n",
       "      <td>2003</td>\n",
       "      <td>49</td>\n",
       "      <td>348899</td>\n",
       "      <td>AHN Hempfield Neighborhood Hospital</td>\n",
       "      <td>Short Term Acute Care Hospital</td>\n",
       "      <td>NaN</td>\n",
       "      <td>NaN</td>\n",
       "      <td>32.0</td>\n",
       "      <td>32.0</td>\n",
       "      <td>NaN</td>\n",
       "      <td>NaN</td>\n",
       "      <td>0.0</td>\n",
       "      <td>0.0</td>\n",
       "    </tr>\n",
       "  </tbody>\n",
       "</table>\n",
       "<p>257 rows × 13 columns</p>\n",
       "</div>"
      ],
      "text/plain": [
       "                     cases  deaths  population  \\\n",
       "County Name                                      \n",
       "Mercer County          662      13      109424   \n",
       "Wyoming County          72       8       26794   \n",
       "Columbia County        847      35       64964   \n",
       "Philadelphia County  30620    1797     1584064   \n",
       "McKean County           51       2       40625   \n",
       "...                    ...     ...         ...   \n",
       "Pike County            559      21       55809   \n",
       "Schuylkill County     1046      52      141359   \n",
       "Snyder County          236       3       40372   \n",
       "Sullivan County         10       0        6066   \n",
       "Westmoreland County   2003      49      348899   \n",
       "\n",
       "                                                         HOSPITAL_NAME  \\\n",
       "County Name                                                              \n",
       "Mercer County                               Edgewood Surgical Hospital   \n",
       "Wyoming County                                 Tyler Memorial Hospital   \n",
       "Columbia County                                Berwick Hospital Center   \n",
       "Philadelphia County  Cancer Treatment Centers of America - Philadel...   \n",
       "McKean County                  UPMC Kane (FKA Kane Community Hospital)   \n",
       "...                                                                ...   \n",
       "Pike County                                                        NaN   \n",
       "Schuylkill County                          Geisinger St Lukes Hospital   \n",
       "Snyder County                                                      NaN   \n",
       "Sullivan County                                                    NaN   \n",
       "Westmoreland County                AHN Hempfield Neighborhood Hospital   \n",
       "\n",
       "                                      HOSPITAL_TYPE  NUM_LICENSED_BEDS  \\\n",
       "County Name                                                              \n",
       "Mercer County        Short Term Acute Care Hospital               10.0   \n",
       "Wyoming County       Short Term Acute Care Hospital               44.0   \n",
       "Columbia County      Short Term Acute Care Hospital               90.0   \n",
       "Philadelphia County  Short Term Acute Care Hospital               74.0   \n",
       "McKean County        Short Term Acute Care Hospital               31.0   \n",
       "...                                             ...                ...   \n",
       "Pike County                                     NaN                NaN   \n",
       "Schuylkill County    Short Term Acute Care Hospital                NaN   \n",
       "Snyder County                                   NaN                NaN   \n",
       "Sullivan County                                 NaN                NaN   \n",
       "Westmoreland County  Short Term Acute Care Hospital                NaN   \n",
       "\n",
       "                     NUM_STAFFED_BEDS  NUM_ICU_BEDS  ADULT_ICU_BEDS  \\\n",
       "County Name                                                           \n",
       "Mercer County                    10.0           2.0             2.0   \n",
       "Wyoming County                   44.0           6.0             6.0   \n",
       "Columbia County                  87.0          10.0            10.0   \n",
       "Philadelphia County              74.0          12.0            12.0   \n",
       "McKean County                    31.0           5.0             5.0   \n",
       "...                               ...           ...             ...   \n",
       "Pike County                       NaN           NaN             NaN   \n",
       "Schuylkill County                 NaN          32.0            32.0   \n",
       "Snyder County                     NaN           NaN             NaN   \n",
       "Sullivan County                   NaN           NaN             NaN   \n",
       "Westmoreland County               NaN          32.0            32.0   \n",
       "\n",
       "                     PEDI_ICU_BEDS  BED_UTILIZATION  \\\n",
       "County Name                                           \n",
       "Mercer County                  0.0         0.029589   \n",
       "Wyoming County                 0.0         0.060959   \n",
       "Columbia County                0.0         0.085498   \n",
       "Philadelphia County            0.0         0.094150   \n",
       "McKean County                  0.0         0.110119   \n",
       "...                            ...              ...   \n",
       "Pike County                    NaN              NaN   \n",
       "Schuylkill County              NaN              NaN   \n",
       "Snyder County                  NaN              NaN   \n",
       "Sullivan County                NaN              NaN   \n",
       "Westmoreland County            NaN              NaN   \n",
       "\n",
       "                     Potential_Increase_In_Bed_Capac  AVG_VENTILATOR_USAGE  \n",
       "County Name                                                                 \n",
       "Mercer County                                    0.0                   0.0  \n",
       "Wyoming County                                   0.0                   2.0  \n",
       "Columbia County                                  3.0                   2.0  \n",
       "Philadelphia County                              0.0                   2.0  \n",
       "McKean County                                    0.0                   2.0  \n",
       "...                                              ...                   ...  \n",
       "Pike County                                      NaN                   NaN  \n",
       "Schuylkill County                                0.0                   0.0  \n",
       "Snyder County                                    NaN                   NaN  \n",
       "Sullivan County                                  NaN                   NaN  \n",
       "Westmoreland County                              0.0                   0.0  \n",
       "\n",
       "[257 rows x 13 columns]"
      ]
     },
     "execution_count": 61,
     "metadata": {},
     "output_type": "execute_result"
    }
   ],
   "source": [
    "hosp_data.sort_values(by = ['BED_UTILIZATION'])"
   ]
  },
  {
   "cell_type": "code",
   "execution_count": 62,
   "metadata": {},
   "outputs": [
    {
     "data": {
      "text/html": [
       "<div>\n",
       "<style scoped>\n",
       "    .dataframe tbody tr th:only-of-type {\n",
       "        vertical-align: middle;\n",
       "    }\n",
       "\n",
       "    .dataframe tbody tr th {\n",
       "        vertical-align: top;\n",
       "    }\n",
       "\n",
       "    .dataframe thead th {\n",
       "        text-align: right;\n",
       "    }\n",
       "</style>\n",
       "<table border=\"1\" class=\"dataframe\">\n",
       "  <thead>\n",
       "    <tr style=\"text-align: right;\">\n",
       "      <th></th>\n",
       "      <th>cases</th>\n",
       "      <th>deaths</th>\n",
       "      <th>population</th>\n",
       "      <th>HOSPITAL_NAME</th>\n",
       "      <th>HOSPITAL_TYPE</th>\n",
       "      <th>NUM_LICENSED_BEDS</th>\n",
       "      <th>NUM_STAFFED_BEDS</th>\n",
       "      <th>NUM_ICU_BEDS</th>\n",
       "      <th>ADULT_ICU_BEDS</th>\n",
       "      <th>PEDI_ICU_BEDS</th>\n",
       "      <th>BED_UTILIZATION</th>\n",
       "      <th>Potential_Increase_In_Bed_Capac</th>\n",
       "      <th>AVG_VENTILATOR_USAGE</th>\n",
       "    </tr>\n",
       "    <tr>\n",
       "      <th>County Name</th>\n",
       "      <th></th>\n",
       "      <th></th>\n",
       "      <th></th>\n",
       "      <th></th>\n",
       "      <th></th>\n",
       "      <th></th>\n",
       "      <th></th>\n",
       "      <th></th>\n",
       "      <th></th>\n",
       "      <th></th>\n",
       "      <th></th>\n",
       "      <th></th>\n",
       "      <th></th>\n",
       "    </tr>\n",
       "  </thead>\n",
       "  <tbody>\n",
       "    <tr>\n",
       "      <td>Philadelphia County</td>\n",
       "      <td>30620</td>\n",
       "      <td>1797</td>\n",
       "      <td>1584064</td>\n",
       "      <td>Wills Eye Hospital</td>\n",
       "      <td>Short Term Acute Care Hospital</td>\n",
       "      <td>4.0</td>\n",
       "      <td>4.0</td>\n",
       "      <td>1.0</td>\n",
       "      <td>1.0</td>\n",
       "      <td>0.0</td>\n",
       "      <td>0.524658</td>\n",
       "      <td>0.0</td>\n",
       "      <td>0.0</td>\n",
       "    </tr>\n",
       "    <tr>\n",
       "      <td>Mercer County</td>\n",
       "      <td>662</td>\n",
       "      <td>13</td>\n",
       "      <td>109424</td>\n",
       "      <td>Edgewood Surgical Hospital</td>\n",
       "      <td>Short Term Acute Care Hospital</td>\n",
       "      <td>10.0</td>\n",
       "      <td>10.0</td>\n",
       "      <td>2.0</td>\n",
       "      <td>2.0</td>\n",
       "      <td>0.0</td>\n",
       "      <td>0.029589</td>\n",
       "      <td>0.0</td>\n",
       "      <td>0.0</td>\n",
       "    </tr>\n",
       "    <tr>\n",
       "      <td>Allegheny County</td>\n",
       "      <td>11431</td>\n",
       "      <td>341</td>\n",
       "      <td>1216045</td>\n",
       "      <td>AHN McCandless Neighborhood Hospital</td>\n",
       "      <td>Short Term Acute Care Hospital</td>\n",
       "      <td>10.0</td>\n",
       "      <td>10.0</td>\n",
       "      <td>0.0</td>\n",
       "      <td>0.0</td>\n",
       "      <td>NaN</td>\n",
       "      <td>NaN</td>\n",
       "      <td>0.0</td>\n",
       "      <td>0.0</td>\n",
       "    </tr>\n",
       "    <tr>\n",
       "      <td>Montgomery County</td>\n",
       "      <td>11738</td>\n",
       "      <td>869</td>\n",
       "      <td>830915</td>\n",
       "      <td>Physicians Care Surgical Hospital</td>\n",
       "      <td>Short Term Acute Care Hospital</td>\n",
       "      <td>12.0</td>\n",
       "      <td>12.0</td>\n",
       "      <td>2.0</td>\n",
       "      <td>2.0</td>\n",
       "      <td>0.0</td>\n",
       "      <td>0.407991</td>\n",
       "      <td>0.0</td>\n",
       "      <td>0.0</td>\n",
       "    </tr>\n",
       "    <tr>\n",
       "      <td>Philadelphia County</td>\n",
       "      <td>30620</td>\n",
       "      <td>1797</td>\n",
       "      <td>1584064</td>\n",
       "      <td>Kensington Hospital</td>\n",
       "      <td>Short Term Acute Care Hospital</td>\n",
       "      <td>45.0</td>\n",
       "      <td>14.0</td>\n",
       "      <td>2.0</td>\n",
       "      <td>2.0</td>\n",
       "      <td>0.0</td>\n",
       "      <td>0.699609</td>\n",
       "      <td>31.0</td>\n",
       "      <td>0.0</td>\n",
       "    </tr>\n",
       "    <tr>\n",
       "      <td>...</td>\n",
       "      <td>...</td>\n",
       "      <td>...</td>\n",
       "      <td>...</td>\n",
       "      <td>...</td>\n",
       "      <td>...</td>\n",
       "      <td>...</td>\n",
       "      <td>...</td>\n",
       "      <td>...</td>\n",
       "      <td>...</td>\n",
       "      <td>...</td>\n",
       "      <td>...</td>\n",
       "      <td>...</td>\n",
       "      <td>...</td>\n",
       "    </tr>\n",
       "    <tr>\n",
       "      <td>Pike County</td>\n",
       "      <td>559</td>\n",
       "      <td>21</td>\n",
       "      <td>55809</td>\n",
       "      <td>NaN</td>\n",
       "      <td>NaN</td>\n",
       "      <td>NaN</td>\n",
       "      <td>NaN</td>\n",
       "      <td>NaN</td>\n",
       "      <td>NaN</td>\n",
       "      <td>NaN</td>\n",
       "      <td>NaN</td>\n",
       "      <td>NaN</td>\n",
       "      <td>NaN</td>\n",
       "    </tr>\n",
       "    <tr>\n",
       "      <td>Schuylkill County</td>\n",
       "      <td>1046</td>\n",
       "      <td>52</td>\n",
       "      <td>141359</td>\n",
       "      <td>Geisinger St Lukes Hospital</td>\n",
       "      <td>Short Term Acute Care Hospital</td>\n",
       "      <td>NaN</td>\n",
       "      <td>NaN</td>\n",
       "      <td>32.0</td>\n",
       "      <td>32.0</td>\n",
       "      <td>NaN</td>\n",
       "      <td>NaN</td>\n",
       "      <td>0.0</td>\n",
       "      <td>0.0</td>\n",
       "    </tr>\n",
       "    <tr>\n",
       "      <td>Snyder County</td>\n",
       "      <td>236</td>\n",
       "      <td>3</td>\n",
       "      <td>40372</td>\n",
       "      <td>NaN</td>\n",
       "      <td>NaN</td>\n",
       "      <td>NaN</td>\n",
       "      <td>NaN</td>\n",
       "      <td>NaN</td>\n",
       "      <td>NaN</td>\n",
       "      <td>NaN</td>\n",
       "      <td>NaN</td>\n",
       "      <td>NaN</td>\n",
       "      <td>NaN</td>\n",
       "    </tr>\n",
       "    <tr>\n",
       "      <td>Sullivan County</td>\n",
       "      <td>10</td>\n",
       "      <td>0</td>\n",
       "      <td>6066</td>\n",
       "      <td>NaN</td>\n",
       "      <td>NaN</td>\n",
       "      <td>NaN</td>\n",
       "      <td>NaN</td>\n",
       "      <td>NaN</td>\n",
       "      <td>NaN</td>\n",
       "      <td>NaN</td>\n",
       "      <td>NaN</td>\n",
       "      <td>NaN</td>\n",
       "      <td>NaN</td>\n",
       "    </tr>\n",
       "    <tr>\n",
       "      <td>Westmoreland County</td>\n",
       "      <td>2003</td>\n",
       "      <td>49</td>\n",
       "      <td>348899</td>\n",
       "      <td>AHN Hempfield Neighborhood Hospital</td>\n",
       "      <td>Short Term Acute Care Hospital</td>\n",
       "      <td>NaN</td>\n",
       "      <td>NaN</td>\n",
       "      <td>32.0</td>\n",
       "      <td>32.0</td>\n",
       "      <td>NaN</td>\n",
       "      <td>NaN</td>\n",
       "      <td>0.0</td>\n",
       "      <td>0.0</td>\n",
       "    </tr>\n",
       "  </tbody>\n",
       "</table>\n",
       "<p>257 rows × 13 columns</p>\n",
       "</div>"
      ],
      "text/plain": [
       "                     cases  deaths  population  \\\n",
       "County Name                                      \n",
       "Philadelphia County  30620    1797     1584064   \n",
       "Mercer County          662      13      109424   \n",
       "Allegheny County     11431     341     1216045   \n",
       "Montgomery County    11738     869      830915   \n",
       "Philadelphia County  30620    1797     1584064   \n",
       "...                    ...     ...         ...   \n",
       "Pike County            559      21       55809   \n",
       "Schuylkill County     1046      52      141359   \n",
       "Snyder County          236       3       40372   \n",
       "Sullivan County         10       0        6066   \n",
       "Westmoreland County   2003      49      348899   \n",
       "\n",
       "                                            HOSPITAL_NAME  \\\n",
       "County Name                                                 \n",
       "Philadelphia County                    Wills Eye Hospital   \n",
       "Mercer County                  Edgewood Surgical Hospital   \n",
       "Allegheny County     AHN McCandless Neighborhood Hospital   \n",
       "Montgomery County       Physicians Care Surgical Hospital   \n",
       "Philadelphia County                   Kensington Hospital   \n",
       "...                                                   ...   \n",
       "Pike County                                           NaN   \n",
       "Schuylkill County             Geisinger St Lukes Hospital   \n",
       "Snyder County                                         NaN   \n",
       "Sullivan County                                       NaN   \n",
       "Westmoreland County   AHN Hempfield Neighborhood Hospital   \n",
       "\n",
       "                                      HOSPITAL_TYPE  NUM_LICENSED_BEDS  \\\n",
       "County Name                                                              \n",
       "Philadelphia County  Short Term Acute Care Hospital                4.0   \n",
       "Mercer County        Short Term Acute Care Hospital               10.0   \n",
       "Allegheny County     Short Term Acute Care Hospital               10.0   \n",
       "Montgomery County    Short Term Acute Care Hospital               12.0   \n",
       "Philadelphia County  Short Term Acute Care Hospital               45.0   \n",
       "...                                             ...                ...   \n",
       "Pike County                                     NaN                NaN   \n",
       "Schuylkill County    Short Term Acute Care Hospital                NaN   \n",
       "Snyder County                                   NaN                NaN   \n",
       "Sullivan County                                 NaN                NaN   \n",
       "Westmoreland County  Short Term Acute Care Hospital                NaN   \n",
       "\n",
       "                     NUM_STAFFED_BEDS  NUM_ICU_BEDS  ADULT_ICU_BEDS  \\\n",
       "County Name                                                           \n",
       "Philadelphia County               4.0           1.0             1.0   \n",
       "Mercer County                    10.0           2.0             2.0   \n",
       "Allegheny County                 10.0           0.0             0.0   \n",
       "Montgomery County                12.0           2.0             2.0   \n",
       "Philadelphia County              14.0           2.0             2.0   \n",
       "...                               ...           ...             ...   \n",
       "Pike County                       NaN           NaN             NaN   \n",
       "Schuylkill County                 NaN          32.0            32.0   \n",
       "Snyder County                     NaN           NaN             NaN   \n",
       "Sullivan County                   NaN           NaN             NaN   \n",
       "Westmoreland County               NaN          32.0            32.0   \n",
       "\n",
       "                     PEDI_ICU_BEDS  BED_UTILIZATION  \\\n",
       "County Name                                           \n",
       "Philadelphia County            0.0         0.524658   \n",
       "Mercer County                  0.0         0.029589   \n",
       "Allegheny County               NaN              NaN   \n",
       "Montgomery County              0.0         0.407991   \n",
       "Philadelphia County            0.0         0.699609   \n",
       "...                            ...              ...   \n",
       "Pike County                    NaN              NaN   \n",
       "Schuylkill County              NaN              NaN   \n",
       "Snyder County                  NaN              NaN   \n",
       "Sullivan County                NaN              NaN   \n",
       "Westmoreland County            NaN              NaN   \n",
       "\n",
       "                     Potential_Increase_In_Bed_Capac  AVG_VENTILATOR_USAGE  \n",
       "County Name                                                                 \n",
       "Philadelphia County                              0.0                   0.0  \n",
       "Mercer County                                    0.0                   0.0  \n",
       "Allegheny County                                 0.0                   0.0  \n",
       "Montgomery County                                0.0                   0.0  \n",
       "Philadelphia County                             31.0                   0.0  \n",
       "...                                              ...                   ...  \n",
       "Pike County                                      NaN                   NaN  \n",
       "Schuylkill County                                0.0                   0.0  \n",
       "Snyder County                                    NaN                   NaN  \n",
       "Sullivan County                                  NaN                   NaN  \n",
       "Westmoreland County                              0.0                   0.0  \n",
       "\n",
       "[257 rows x 13 columns]"
      ]
     },
     "execution_count": 62,
     "metadata": {},
     "output_type": "execute_result"
    }
   ],
   "source": [
    "hosp_data.sort_values(by = ['NUM_STAFFED_BEDS'])"
   ]
  },
  {
   "cell_type": "code",
   "execution_count": 63,
   "metadata": {},
   "outputs": [
    {
     "data": {
      "text/html": [
       "<div>\n",
       "<style scoped>\n",
       "    .dataframe tbody tr th:only-of-type {\n",
       "        vertical-align: middle;\n",
       "    }\n",
       "\n",
       "    .dataframe tbody tr th {\n",
       "        vertical-align: top;\n",
       "    }\n",
       "\n",
       "    .dataframe thead th {\n",
       "        text-align: right;\n",
       "    }\n",
       "</style>\n",
       "<table border=\"1\" class=\"dataframe\">\n",
       "  <thead>\n",
       "    <tr style=\"text-align: right;\">\n",
       "      <th></th>\n",
       "      <th>cases</th>\n",
       "      <th>deaths</th>\n",
       "      <th>population</th>\n",
       "      <th>HOSPITAL_NAME</th>\n",
       "      <th>HOSPITAL_TYPE</th>\n",
       "      <th>NUM_LICENSED_BEDS</th>\n",
       "      <th>NUM_STAFFED_BEDS</th>\n",
       "      <th>NUM_ICU_BEDS</th>\n",
       "      <th>ADULT_ICU_BEDS</th>\n",
       "      <th>PEDI_ICU_BEDS</th>\n",
       "      <th>BED_UTILIZATION</th>\n",
       "      <th>Potential_Increase_In_Bed_Capac</th>\n",
       "      <th>AVG_VENTILATOR_USAGE</th>\n",
       "    </tr>\n",
       "    <tr>\n",
       "      <th>County Name</th>\n",
       "      <th></th>\n",
       "      <th></th>\n",
       "      <th></th>\n",
       "      <th></th>\n",
       "      <th></th>\n",
       "      <th></th>\n",
       "      <th></th>\n",
       "      <th></th>\n",
       "      <th></th>\n",
       "      <th></th>\n",
       "      <th></th>\n",
       "      <th></th>\n",
       "      <th></th>\n",
       "    </tr>\n",
       "  </thead>\n",
       "  <tbody>\n",
       "    <tr>\n",
       "      <td>Philadelphia County</td>\n",
       "      <td>30620</td>\n",
       "      <td>1797</td>\n",
       "      <td>1584064</td>\n",
       "      <td>Thomas Jefferson University Hospital</td>\n",
       "      <td>Short Term Acute Care Hospital</td>\n",
       "      <td>908.0</td>\n",
       "      <td>832.0</td>\n",
       "      <td>29.0</td>\n",
       "      <td>29.0</td>\n",
       "      <td>80.0</td>\n",
       "      <td>0.697514</td>\n",
       "      <td>76.0</td>\n",
       "      <td>29.0</td>\n",
       "    </tr>\n",
       "    <tr>\n",
       "      <td>Philadelphia County</td>\n",
       "      <td>30620</td>\n",
       "      <td>1797</td>\n",
       "      <td>1584064</td>\n",
       "      <td>Friends Hospital</td>\n",
       "      <td>Psychiatric Hospital</td>\n",
       "      <td>192.0</td>\n",
       "      <td>192.0</td>\n",
       "      <td>1.0</td>\n",
       "      <td>1.0</td>\n",
       "      <td>0.0</td>\n",
       "      <td>0.941881</td>\n",
       "      <td>0.0</td>\n",
       "      <td>1.0</td>\n",
       "    </tr>\n",
       "    <tr>\n",
       "      <td>Philadelphia County</td>\n",
       "      <td>30620</td>\n",
       "      <td>1797</td>\n",
       "      <td>1584064</td>\n",
       "      <td>Einstein Medical Center Philadelphia</td>\n",
       "      <td>Short Term Acute Care Hospital</td>\n",
       "      <td>750.0</td>\n",
       "      <td>509.0</td>\n",
       "      <td>32.0</td>\n",
       "      <td>32.0</td>\n",
       "      <td>23.0</td>\n",
       "      <td>0.695143</td>\n",
       "      <td>241.0</td>\n",
       "      <td>17.0</td>\n",
       "    </tr>\n",
       "    <tr>\n",
       "      <td>Philadelphia County</td>\n",
       "      <td>30620</td>\n",
       "      <td>1797</td>\n",
       "      <td>1584064</td>\n",
       "      <td>The Liacouras Center Field Hospital (Temporari...</td>\n",
       "      <td>Short Term Acute Care Hospital</td>\n",
       "      <td>NaN</td>\n",
       "      <td>NaN</td>\n",
       "      <td>0.0</td>\n",
       "      <td>0.0</td>\n",
       "      <td>NaN</td>\n",
       "      <td>NaN</td>\n",
       "      <td>0.0</td>\n",
       "      <td>0.0</td>\n",
       "    </tr>\n",
       "    <tr>\n",
       "      <td>Philadelphia County</td>\n",
       "      <td>30620</td>\n",
       "      <td>1797</td>\n",
       "      <td>1584064</td>\n",
       "      <td>Haven Behavioral Hospital of Philadelphia</td>\n",
       "      <td>Psychiatric Hospital</td>\n",
       "      <td>67.0</td>\n",
       "      <td>36.0</td>\n",
       "      <td>0.0</td>\n",
       "      <td>0.0</td>\n",
       "      <td>0.0</td>\n",
       "      <td>0.872451</td>\n",
       "      <td>31.0</td>\n",
       "      <td>0.0</td>\n",
       "    </tr>\n",
       "    <tr>\n",
       "      <td>...</td>\n",
       "      <td>...</td>\n",
       "      <td>...</td>\n",
       "      <td>...</td>\n",
       "      <td>...</td>\n",
       "      <td>...</td>\n",
       "      <td>...</td>\n",
       "      <td>...</td>\n",
       "      <td>...</td>\n",
       "      <td>...</td>\n",
       "      <td>...</td>\n",
       "      <td>...</td>\n",
       "      <td>...</td>\n",
       "      <td>...</td>\n",
       "    </tr>\n",
       "    <tr>\n",
       "      <td>Fulton County</td>\n",
       "      <td>42</td>\n",
       "      <td>2</td>\n",
       "      <td>14530</td>\n",
       "      <td>Fulton County Medical Center</td>\n",
       "      <td>Critical Access Hospital</td>\n",
       "      <td>21.0</td>\n",
       "      <td>21.0</td>\n",
       "      <td>4.0</td>\n",
       "      <td>4.0</td>\n",
       "      <td>0.0</td>\n",
       "      <td>0.337508</td>\n",
       "      <td>0.0</td>\n",
       "      <td>1.0</td>\n",
       "    </tr>\n",
       "    <tr>\n",
       "      <td>Potter County</td>\n",
       "      <td>25</td>\n",
       "      <td>0</td>\n",
       "      <td>16526</td>\n",
       "      <td>UPMC Cole</td>\n",
       "      <td>Critical Access Hospital</td>\n",
       "      <td>49.0</td>\n",
       "      <td>25.0</td>\n",
       "      <td>4.0</td>\n",
       "      <td>4.0</td>\n",
       "      <td>0.0</td>\n",
       "      <td>0.535233</td>\n",
       "      <td>24.0</td>\n",
       "      <td>2.0</td>\n",
       "    </tr>\n",
       "    <tr>\n",
       "      <td>Forest County</td>\n",
       "      <td>14</td>\n",
       "      <td>0</td>\n",
       "      <td>7247</td>\n",
       "      <td>NaN</td>\n",
       "      <td>NaN</td>\n",
       "      <td>NaN</td>\n",
       "      <td>NaN</td>\n",
       "      <td>NaN</td>\n",
       "      <td>NaN</td>\n",
       "      <td>NaN</td>\n",
       "      <td>NaN</td>\n",
       "      <td>NaN</td>\n",
       "      <td>NaN</td>\n",
       "    </tr>\n",
       "    <tr>\n",
       "      <td>Sullivan County</td>\n",
       "      <td>10</td>\n",
       "      <td>0</td>\n",
       "      <td>6066</td>\n",
       "      <td>NaN</td>\n",
       "      <td>NaN</td>\n",
       "      <td>NaN</td>\n",
       "      <td>NaN</td>\n",
       "      <td>NaN</td>\n",
       "      <td>NaN</td>\n",
       "      <td>NaN</td>\n",
       "      <td>NaN</td>\n",
       "      <td>NaN</td>\n",
       "      <td>NaN</td>\n",
       "    </tr>\n",
       "    <tr>\n",
       "      <td>Cameron County</td>\n",
       "      <td>8</td>\n",
       "      <td>0</td>\n",
       "      <td>4447</td>\n",
       "      <td>NaN</td>\n",
       "      <td>NaN</td>\n",
       "      <td>NaN</td>\n",
       "      <td>NaN</td>\n",
       "      <td>NaN</td>\n",
       "      <td>NaN</td>\n",
       "      <td>NaN</td>\n",
       "      <td>NaN</td>\n",
       "      <td>NaN</td>\n",
       "      <td>NaN</td>\n",
       "    </tr>\n",
       "  </tbody>\n",
       "</table>\n",
       "<p>257 rows × 13 columns</p>\n",
       "</div>"
      ],
      "text/plain": [
       "                     cases  deaths  population  \\\n",
       "County Name                                      \n",
       "Philadelphia County  30620    1797     1584064   \n",
       "Philadelphia County  30620    1797     1584064   \n",
       "Philadelphia County  30620    1797     1584064   \n",
       "Philadelphia County  30620    1797     1584064   \n",
       "Philadelphia County  30620    1797     1584064   \n",
       "...                    ...     ...         ...   \n",
       "Fulton County           42       2       14530   \n",
       "Potter County           25       0       16526   \n",
       "Forest County           14       0        7247   \n",
       "Sullivan County         10       0        6066   \n",
       "Cameron County           8       0        4447   \n",
       "\n",
       "                                                         HOSPITAL_NAME  \\\n",
       "County Name                                                              \n",
       "Philadelphia County               Thomas Jefferson University Hospital   \n",
       "Philadelphia County                                   Friends Hospital   \n",
       "Philadelphia County               Einstein Medical Center Philadelphia   \n",
       "Philadelphia County  The Liacouras Center Field Hospital (Temporari...   \n",
       "Philadelphia County          Haven Behavioral Hospital of Philadelphia   \n",
       "...                                                                ...   \n",
       "Fulton County                             Fulton County Medical Center   \n",
       "Potter County                                                UPMC Cole   \n",
       "Forest County                                                      NaN   \n",
       "Sullivan County                                                    NaN   \n",
       "Cameron County                                                     NaN   \n",
       "\n",
       "                                      HOSPITAL_TYPE  NUM_LICENSED_BEDS  \\\n",
       "County Name                                                              \n",
       "Philadelphia County  Short Term Acute Care Hospital              908.0   \n",
       "Philadelphia County            Psychiatric Hospital              192.0   \n",
       "Philadelphia County  Short Term Acute Care Hospital              750.0   \n",
       "Philadelphia County  Short Term Acute Care Hospital                NaN   \n",
       "Philadelphia County            Psychiatric Hospital               67.0   \n",
       "...                                             ...                ...   \n",
       "Fulton County              Critical Access Hospital               21.0   \n",
       "Potter County              Critical Access Hospital               49.0   \n",
       "Forest County                                   NaN                NaN   \n",
       "Sullivan County                                 NaN                NaN   \n",
       "Cameron County                                  NaN                NaN   \n",
       "\n",
       "                     NUM_STAFFED_BEDS  NUM_ICU_BEDS  ADULT_ICU_BEDS  \\\n",
       "County Name                                                           \n",
       "Philadelphia County             832.0          29.0            29.0   \n",
       "Philadelphia County             192.0           1.0             1.0   \n",
       "Philadelphia County             509.0          32.0            32.0   \n",
       "Philadelphia County               NaN           0.0             0.0   \n",
       "Philadelphia County              36.0           0.0             0.0   \n",
       "...                               ...           ...             ...   \n",
       "Fulton County                    21.0           4.0             4.0   \n",
       "Potter County                    25.0           4.0             4.0   \n",
       "Forest County                     NaN           NaN             NaN   \n",
       "Sullivan County                   NaN           NaN             NaN   \n",
       "Cameron County                    NaN           NaN             NaN   \n",
       "\n",
       "                     PEDI_ICU_BEDS  BED_UTILIZATION  \\\n",
       "County Name                                           \n",
       "Philadelphia County           80.0         0.697514   \n",
       "Philadelphia County            0.0         0.941881   \n",
       "Philadelphia County           23.0         0.695143   \n",
       "Philadelphia County            NaN              NaN   \n",
       "Philadelphia County            0.0         0.872451   \n",
       "...                            ...              ...   \n",
       "Fulton County                  0.0         0.337508   \n",
       "Potter County                  0.0         0.535233   \n",
       "Forest County                  NaN              NaN   \n",
       "Sullivan County                NaN              NaN   \n",
       "Cameron County                 NaN              NaN   \n",
       "\n",
       "                     Potential_Increase_In_Bed_Capac  AVG_VENTILATOR_USAGE  \n",
       "County Name                                                                 \n",
       "Philadelphia County                             76.0                  29.0  \n",
       "Philadelphia County                              0.0                   1.0  \n",
       "Philadelphia County                            241.0                  17.0  \n",
       "Philadelphia County                              0.0                   0.0  \n",
       "Philadelphia County                             31.0                   0.0  \n",
       "...                                              ...                   ...  \n",
       "Fulton County                                    0.0                   1.0  \n",
       "Potter County                                   24.0                   2.0  \n",
       "Forest County                                    NaN                   NaN  \n",
       "Sullivan County                                  NaN                   NaN  \n",
       "Cameron County                                   NaN                   NaN  \n",
       "\n",
       "[257 rows x 13 columns]"
      ]
     },
     "execution_count": 63,
     "metadata": {},
     "output_type": "execute_result"
    }
   ],
   "source": [
    "hosp_data.sort_values(by = ['cases'], ascending = False)"
   ]
  },
  {
   "cell_type": "code",
   "execution_count": 64,
   "metadata": {},
   "outputs": [
    {
     "data": {
      "text/html": [
       "<div>\n",
       "<style scoped>\n",
       "    .dataframe tbody tr th:only-of-type {\n",
       "        vertical-align: middle;\n",
       "    }\n",
       "\n",
       "    .dataframe tbody tr th {\n",
       "        vertical-align: top;\n",
       "    }\n",
       "\n",
       "    .dataframe thead th {\n",
       "        text-align: right;\n",
       "    }\n",
       "</style>\n",
       "<table border=\"1\" class=\"dataframe\">\n",
       "  <thead>\n",
       "    <tr style=\"text-align: right;\">\n",
       "      <th></th>\n",
       "      <th>cases</th>\n",
       "      <th>deaths</th>\n",
       "      <th>population</th>\n",
       "      <th>HOSPITAL_NAME</th>\n",
       "      <th>HOSPITAL_TYPE</th>\n",
       "      <th>NUM_LICENSED_BEDS</th>\n",
       "      <th>NUM_STAFFED_BEDS</th>\n",
       "      <th>NUM_ICU_BEDS</th>\n",
       "      <th>ADULT_ICU_BEDS</th>\n",
       "      <th>PEDI_ICU_BEDS</th>\n",
       "      <th>BED_UTILIZATION</th>\n",
       "      <th>Potential_Increase_In_Bed_Capac</th>\n",
       "      <th>AVG_VENTILATOR_USAGE</th>\n",
       "    </tr>\n",
       "    <tr>\n",
       "      <th>County Name</th>\n",
       "      <th></th>\n",
       "      <th></th>\n",
       "      <th></th>\n",
       "      <th></th>\n",
       "      <th></th>\n",
       "      <th></th>\n",
       "      <th></th>\n",
       "      <th></th>\n",
       "      <th></th>\n",
       "      <th></th>\n",
       "      <th></th>\n",
       "      <th></th>\n",
       "      <th></th>\n",
       "    </tr>\n",
       "  </thead>\n",
       "  <tbody>\n",
       "    <tr>\n",
       "      <td>Philadelphia County</td>\n",
       "      <td>30620</td>\n",
       "      <td>1797</td>\n",
       "      <td>1584064</td>\n",
       "      <td>Corporal Michael J Crescenz VA Medical Center ...</td>\n",
       "      <td>VA Hospital</td>\n",
       "      <td>142.0</td>\n",
       "      <td>142.0</td>\n",
       "      <td>3.0</td>\n",
       "      <td>3.0</td>\n",
       "      <td>NaN</td>\n",
       "      <td>NaN</td>\n",
       "      <td>0.0</td>\n",
       "      <td>2.0</td>\n",
       "    </tr>\n",
       "    <tr>\n",
       "      <td>Philadelphia County</td>\n",
       "      <td>30620</td>\n",
       "      <td>1797</td>\n",
       "      <td>1584064</td>\n",
       "      <td>Penn Presbyterian Medical Center</td>\n",
       "      <td>Short Term Acute Care Hospital</td>\n",
       "      <td>350.0</td>\n",
       "      <td>316.0</td>\n",
       "      <td>44.0</td>\n",
       "      <td>44.0</td>\n",
       "      <td>0.0</td>\n",
       "      <td>0.852948</td>\n",
       "      <td>34.0</td>\n",
       "      <td>25.0</td>\n",
       "    </tr>\n",
       "    <tr>\n",
       "      <td>Philadelphia County</td>\n",
       "      <td>30620</td>\n",
       "      <td>1797</td>\n",
       "      <td>1584064</td>\n",
       "      <td>Thomas Jefferson University Hospital</td>\n",
       "      <td>Short Term Acute Care Hospital</td>\n",
       "      <td>908.0</td>\n",
       "      <td>832.0</td>\n",
       "      <td>29.0</td>\n",
       "      <td>29.0</td>\n",
       "      <td>80.0</td>\n",
       "      <td>0.697514</td>\n",
       "      <td>76.0</td>\n",
       "      <td>29.0</td>\n",
       "    </tr>\n",
       "    <tr>\n",
       "      <td>Philadelphia County</td>\n",
       "      <td>30620</td>\n",
       "      <td>1797</td>\n",
       "      <td>1584064</td>\n",
       "      <td>Einstein Medical Center Philadelphia</td>\n",
       "      <td>Short Term Acute Care Hospital</td>\n",
       "      <td>750.0</td>\n",
       "      <td>509.0</td>\n",
       "      <td>32.0</td>\n",
       "      <td>32.0</td>\n",
       "      <td>23.0</td>\n",
       "      <td>0.695143</td>\n",
       "      <td>241.0</td>\n",
       "      <td>17.0</td>\n",
       "    </tr>\n",
       "    <tr>\n",
       "      <td>Philadelphia County</td>\n",
       "      <td>30620</td>\n",
       "      <td>1797</td>\n",
       "      <td>1584064</td>\n",
       "      <td>Kensington Hospital</td>\n",
       "      <td>Short Term Acute Care Hospital</td>\n",
       "      <td>45.0</td>\n",
       "      <td>14.0</td>\n",
       "      <td>2.0</td>\n",
       "      <td>2.0</td>\n",
       "      <td>0.0</td>\n",
       "      <td>0.699609</td>\n",
       "      <td>31.0</td>\n",
       "      <td>0.0</td>\n",
       "    </tr>\n",
       "    <tr>\n",
       "      <td>...</td>\n",
       "      <td>...</td>\n",
       "      <td>...</td>\n",
       "      <td>...</td>\n",
       "      <td>...</td>\n",
       "      <td>...</td>\n",
       "      <td>...</td>\n",
       "      <td>...</td>\n",
       "      <td>...</td>\n",
       "      <td>...</td>\n",
       "      <td>...</td>\n",
       "      <td>...</td>\n",
       "      <td>...</td>\n",
       "      <td>...</td>\n",
       "    </tr>\n",
       "    <tr>\n",
       "      <td>Potter County</td>\n",
       "      <td>25</td>\n",
       "      <td>0</td>\n",
       "      <td>16526</td>\n",
       "      <td>UPMC Cole</td>\n",
       "      <td>Critical Access Hospital</td>\n",
       "      <td>49.0</td>\n",
       "      <td>25.0</td>\n",
       "      <td>4.0</td>\n",
       "      <td>4.0</td>\n",
       "      <td>0.0</td>\n",
       "      <td>0.535233</td>\n",
       "      <td>24.0</td>\n",
       "      <td>2.0</td>\n",
       "    </tr>\n",
       "    <tr>\n",
       "      <td>Fulton County</td>\n",
       "      <td>42</td>\n",
       "      <td>2</td>\n",
       "      <td>14530</td>\n",
       "      <td>Fulton County Medical Center</td>\n",
       "      <td>Critical Access Hospital</td>\n",
       "      <td>21.0</td>\n",
       "      <td>21.0</td>\n",
       "      <td>4.0</td>\n",
       "      <td>4.0</td>\n",
       "      <td>0.0</td>\n",
       "      <td>0.337508</td>\n",
       "      <td>0.0</td>\n",
       "      <td>1.0</td>\n",
       "    </tr>\n",
       "    <tr>\n",
       "      <td>Forest County</td>\n",
       "      <td>14</td>\n",
       "      <td>0</td>\n",
       "      <td>7247</td>\n",
       "      <td>NaN</td>\n",
       "      <td>NaN</td>\n",
       "      <td>NaN</td>\n",
       "      <td>NaN</td>\n",
       "      <td>NaN</td>\n",
       "      <td>NaN</td>\n",
       "      <td>NaN</td>\n",
       "      <td>NaN</td>\n",
       "      <td>NaN</td>\n",
       "      <td>NaN</td>\n",
       "    </tr>\n",
       "    <tr>\n",
       "      <td>Sullivan County</td>\n",
       "      <td>10</td>\n",
       "      <td>0</td>\n",
       "      <td>6066</td>\n",
       "      <td>NaN</td>\n",
       "      <td>NaN</td>\n",
       "      <td>NaN</td>\n",
       "      <td>NaN</td>\n",
       "      <td>NaN</td>\n",
       "      <td>NaN</td>\n",
       "      <td>NaN</td>\n",
       "      <td>NaN</td>\n",
       "      <td>NaN</td>\n",
       "      <td>NaN</td>\n",
       "    </tr>\n",
       "    <tr>\n",
       "      <td>Cameron County</td>\n",
       "      <td>8</td>\n",
       "      <td>0</td>\n",
       "      <td>4447</td>\n",
       "      <td>NaN</td>\n",
       "      <td>NaN</td>\n",
       "      <td>NaN</td>\n",
       "      <td>NaN</td>\n",
       "      <td>NaN</td>\n",
       "      <td>NaN</td>\n",
       "      <td>NaN</td>\n",
       "      <td>NaN</td>\n",
       "      <td>NaN</td>\n",
       "      <td>NaN</td>\n",
       "    </tr>\n",
       "  </tbody>\n",
       "</table>\n",
       "<p>257 rows × 13 columns</p>\n",
       "</div>"
      ],
      "text/plain": [
       "                     cases  deaths  population  \\\n",
       "County Name                                      \n",
       "Philadelphia County  30620    1797     1584064   \n",
       "Philadelphia County  30620    1797     1584064   \n",
       "Philadelphia County  30620    1797     1584064   \n",
       "Philadelphia County  30620    1797     1584064   \n",
       "Philadelphia County  30620    1797     1584064   \n",
       "...                    ...     ...         ...   \n",
       "Potter County           25       0       16526   \n",
       "Fulton County           42       2       14530   \n",
       "Forest County           14       0        7247   \n",
       "Sullivan County         10       0        6066   \n",
       "Cameron County           8       0        4447   \n",
       "\n",
       "                                                         HOSPITAL_NAME  \\\n",
       "County Name                                                              \n",
       "Philadelphia County  Corporal Michael J Crescenz VA Medical Center ...   \n",
       "Philadelphia County                   Penn Presbyterian Medical Center   \n",
       "Philadelphia County               Thomas Jefferson University Hospital   \n",
       "Philadelphia County               Einstein Medical Center Philadelphia   \n",
       "Philadelphia County                                Kensington Hospital   \n",
       "...                                                                ...   \n",
       "Potter County                                                UPMC Cole   \n",
       "Fulton County                             Fulton County Medical Center   \n",
       "Forest County                                                      NaN   \n",
       "Sullivan County                                                    NaN   \n",
       "Cameron County                                                     NaN   \n",
       "\n",
       "                                      HOSPITAL_TYPE  NUM_LICENSED_BEDS  \\\n",
       "County Name                                                              \n",
       "Philadelphia County                     VA Hospital              142.0   \n",
       "Philadelphia County  Short Term Acute Care Hospital              350.0   \n",
       "Philadelphia County  Short Term Acute Care Hospital              908.0   \n",
       "Philadelphia County  Short Term Acute Care Hospital              750.0   \n",
       "Philadelphia County  Short Term Acute Care Hospital               45.0   \n",
       "...                                             ...                ...   \n",
       "Potter County              Critical Access Hospital               49.0   \n",
       "Fulton County              Critical Access Hospital               21.0   \n",
       "Forest County                                   NaN                NaN   \n",
       "Sullivan County                                 NaN                NaN   \n",
       "Cameron County                                  NaN                NaN   \n",
       "\n",
       "                     NUM_STAFFED_BEDS  NUM_ICU_BEDS  ADULT_ICU_BEDS  \\\n",
       "County Name                                                           \n",
       "Philadelphia County             142.0           3.0             3.0   \n",
       "Philadelphia County             316.0          44.0            44.0   \n",
       "Philadelphia County             832.0          29.0            29.0   \n",
       "Philadelphia County             509.0          32.0            32.0   \n",
       "Philadelphia County              14.0           2.0             2.0   \n",
       "...                               ...           ...             ...   \n",
       "Potter County                    25.0           4.0             4.0   \n",
       "Fulton County                    21.0           4.0             4.0   \n",
       "Forest County                     NaN           NaN             NaN   \n",
       "Sullivan County                   NaN           NaN             NaN   \n",
       "Cameron County                    NaN           NaN             NaN   \n",
       "\n",
       "                     PEDI_ICU_BEDS  BED_UTILIZATION  \\\n",
       "County Name                                           \n",
       "Philadelphia County            NaN              NaN   \n",
       "Philadelphia County            0.0         0.852948   \n",
       "Philadelphia County           80.0         0.697514   \n",
       "Philadelphia County           23.0         0.695143   \n",
       "Philadelphia County            0.0         0.699609   \n",
       "...                            ...              ...   \n",
       "Potter County                  0.0         0.535233   \n",
       "Fulton County                  0.0         0.337508   \n",
       "Forest County                  NaN              NaN   \n",
       "Sullivan County                NaN              NaN   \n",
       "Cameron County                 NaN              NaN   \n",
       "\n",
       "                     Potential_Increase_In_Bed_Capac  AVG_VENTILATOR_USAGE  \n",
       "County Name                                                                 \n",
       "Philadelphia County                              0.0                   2.0  \n",
       "Philadelphia County                             34.0                  25.0  \n",
       "Philadelphia County                             76.0                  29.0  \n",
       "Philadelphia County                            241.0                  17.0  \n",
       "Philadelphia County                             31.0                   0.0  \n",
       "...                                              ...                   ...  \n",
       "Potter County                                   24.0                   2.0  \n",
       "Fulton County                                    0.0                   1.0  \n",
       "Forest County                                    NaN                   NaN  \n",
       "Sullivan County                                  NaN                   NaN  \n",
       "Cameron County                                   NaN                   NaN  \n",
       "\n",
       "[257 rows x 13 columns]"
      ]
     },
     "execution_count": 64,
     "metadata": {},
     "output_type": "execute_result"
    }
   ],
   "source": [
    "hosp_data.sort_values(by = ['population'], ascending = False)"
   ]
  },
  {
   "cell_type": "markdown",
   "metadata": {},
   "source": [
    "The top 5 things we should take into account with the hospital enrichment are the total population by county, the total cases, the number of staffed beds, the number of liscenced beds and the total number of deaths. As we can see from the data, there are more cases and deaths in high population areas as well as the surrounding areas of those counties. I predict that the spread will be in a circular fashion; starting in high population areas and spreading out in rings around the county. This is shown as the further you get away from the county in question the less cases you will see. It will be like a ripple effect."
   ]
  },
  {
   "cell_type": "markdown",
   "metadata": {},
   "source": [
    "### Task 2: For each of the analysis plot\n",
    "\n",
    "#### trend line\n",
    "\n",
    "All of the aforementioned analysis have trendlines\n",
    "\n",
    "#### confidence intervals\n",
    "\n",
    "All of the aforementioned analysis have confidence intervals displayed below the graphs\n",
    "\n",
    "#### prediction path\n"
   ]
  }
 ],
 "metadata": {
  "kernelspec": {
   "display_name": "Python 3",
   "language": "python",
   "name": "python3"
  },
  "language_info": {
   "codemirror_mode": {
    "name": "ipython",
    "version": 3
   },
   "file_extension": ".py",
   "mimetype": "text/x-python",
   "name": "python",
   "nbconvert_exporter": "python",
   "pygments_lexer": "ipython3",
   "version": "3.7.4"
  }
 },
 "nbformat": 4,
 "nbformat_minor": 2
}
