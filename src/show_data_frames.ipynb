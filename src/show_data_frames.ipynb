{
 "cells": [
  {
   "cell_type": "markdown",
   "metadata": {},
   "source": [
    "### Module Imports"
   ]
  },
  {
   "cell_type": "code",
   "execution_count": null,
   "metadata": {},
   "outputs": [],
   "source": [
    "import ipynb\n",
    "from ipynb.fs.full import covid_data as cd\n",
    "import pandas as pd"
   ]
  },
  {
   "cell_type": "markdown",
   "metadata": {},
   "source": [
    "### Pandas Display Options"
   ]
  },
  {
   "cell_type": "code",
   "execution_count": null,
   "metadata": {},
   "outputs": [],
   "source": [
    "# Telling pandas not convert to html tags.\n",
    "pd.set_option('display.notebook_repr_html', False)\n",
    "# Max columns and rows to display.\n",
    "pd.set_option('display.max_columns', 12)\n",
    "pd.set_option('display.max_rows', 10)"
   ]
  },
  {
   "cell_type": "markdown",
   "metadata": {},
   "source": [
    "### Covid cases by county"
   ]
  },
  {
   "cell_type": "code",
   "execution_count": null,
   "metadata": {},
   "outputs": [],
   "source": [
    "print(cd.get_covid_by_cases())"
   ]
  },
  {
   "cell_type": "markdown",
   "metadata": {},
   "source": [
    "### Covid deaths by county"
   ]
  },
  {
   "cell_type": "code",
   "execution_count": null,
   "metadata": {},
   "outputs": [],
   "source": [
    "print(cd.get_covid_by_deaths())"
   ]
  },
  {
   "cell_type": "markdown",
   "metadata": {},
   "source": [
    "### Population by county"
   ]
  },
  {
   "cell_type": "code",
   "execution_count": null,
   "metadata": {
    "scrolled": true
   },
   "outputs": [],
   "source": [
    "print(cd.get_county_population())"
   ]
  },
  {
   "cell_type": "markdown",
   "metadata": {},
   "source": [
    "### Merged Data"
   ]
  },
  {
   "cell_type": "code",
   "execution_count": 3,
   "metadata": {},
   "outputs": [
    {
     "name": "stdout",
     "output_type": "stream",
     "text": [
      "      countyFIPS        County Name State  stateFIPS  cases - 1/22/20  \\\n",
      "0           1001     Autauga County    AL          1                0   \n",
      "1           1003     Baldwin County    AL          1                0   \n",
      "2           1005     Barbour County    AL          1                0   \n",
      "3           1007        Bibb County    AL          1                0   \n",
      "4           1009      Blount County    AL          1                0   \n",
      "...          ...                ...   ...        ...              ...   \n",
      "3123       56037  Sweetwater County    WY         56                0   \n",
      "3124       56039       Teton County    WY         56                0   \n",
      "3125       56041       Uinta County    WY         56                0   \n",
      "3126       56043    Washakie County    WY         56                0   \n",
      "3127       56045      Weston County    WY         56                0   \n",
      "\n",
      "      cases - 1/23/20  ...  deaths - 8/18/20  deaths - 8/19/20  \\\n",
      "0                   0  ...                23                23   \n",
      "1                   0  ...                33                33   \n",
      "2                   0  ...                 6                 7   \n",
      "3                   0  ...                 6                 6   \n",
      "4                   0  ...                 5                 5   \n",
      "...               ...  ...               ...               ...   \n",
      "3123                0  ...                 2                 2   \n",
      "3124                0  ...                 1                 1   \n",
      "3125                0  ...                 0                 0   \n",
      "3126                0  ...                 5                 5   \n",
      "3127                0  ...                 0                 0   \n",
      "\n",
      "      deaths - 8/20/20  deaths - 8/21/20  deaths - 8/22/20  population  \n",
      "0                   23                23                23       55869  \n",
      "1                   34                35                35      223234  \n",
      "2                    7                 7                 7       24686  \n",
      "3                    6                 6                 6       22394  \n",
      "4                    5                 6                 6       57826  \n",
      "...                ...               ...               ...         ...  \n",
      "3123                 2                 2                 2       42343  \n",
      "3124                 1                 1                 1       23464  \n",
      "3125                 0                 0                 2       20226  \n",
      "3126                 5                 5                 5        7805  \n",
      "3127                 0                 0                 0        6927  \n",
      "\n",
      "[3128 rows x 433 columns]\n"
     ]
    }
   ],
   "source": [
    "print(cd.get_covid_primary_data())"
   ]
  }
 ],
 "metadata": {
  "kernelspec": {
   "display_name": "Python 3",
   "language": "python",
   "name": "python3"
  },
  "language_info": {
   "codemirror_mode": {
    "name": "ipython",
    "version": 3
   },
   "file_extension": ".py",
   "mimetype": "text/x-python",
   "name": "python",
   "nbconvert_exporter": "python",
   "pygments_lexer": "ipython3",
   "version": "3.7.4"
  }
 },
 "nbformat": 4,
 "nbformat_minor": 2
}
