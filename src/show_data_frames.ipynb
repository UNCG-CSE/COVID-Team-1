{
 "cells": [
  {
   "cell_type": "code",
   "execution_count": 1,
   "metadata": {},
   "outputs": [
    {
     "name": "stdout",
     "output_type": "stream",
     "text": [
      "importing Jupyter notebook from covid_data.ipynb\n"
     ]
    }
   ],
   "source": [
    "import import_ipynb\n",
    "#from covid_data import *\n",
    "import covid_data as cd\n",
    "import pandas as pd"
   ]
  },
  {
   "cell_type": "markdown",
   "metadata": {},
   "source": [
    "### Covid cases by county"
   ]
  },
  {
   "cell_type": "code",
   "execution_count": 2,
   "metadata": {},
   "outputs": [
    {
     "name": "stdout",
     "output_type": "stream",
     "text": [
      "      countyFIPS            County Name State  stateFIPS  cases - 1/22/20  \\\n",
      "0              0  Statewide Unallocated    AL          1                0   \n",
      "1           1001         Autauga County    AL          1                0   \n",
      "2           1003         Baldwin County    AL          1                0   \n",
      "3           1005         Barbour County    AL          1                0   \n",
      "4           1007            Bibb County    AL          1                0   \n",
      "...          ...                    ...   ...        ...              ...   \n",
      "3190       56037      Sweetwater County    WY         56                0   \n",
      "3191       56039           Teton County    WY         56                0   \n",
      "3192       56041           Uinta County    WY         56                0   \n",
      "3193       56043        Washakie County    WY         56                0   \n",
      "3194       56045          Weston County    WY         56                0   \n",
      "\n",
      "      cases - 1/23/20  cases - 1/24/20  cases - 1/25/20  cases - 1/26/20  \\\n",
      "0                   0                0                0                0   \n",
      "1                   0                0                0                0   \n",
      "2                   0                0                0                0   \n",
      "3                   0                0                0                0   \n",
      "4                   0                0                0                0   \n",
      "...               ...              ...              ...              ...   \n",
      "3190                0                0                0                0   \n",
      "3191                0                0                0                0   \n",
      "3192                0                0                0                0   \n",
      "3193                0                0                0                0   \n",
      "3194                0                0                0                0   \n",
      "\n",
      "      cases - 1/27/20  ...  cases - 8/13/20  cases - 8/14/20  cases - 8/15/20  \\\n",
      "0                   0  ...                0                0                0   \n",
      "1                   0  ...             1250             1252             1262   \n",
      "2                   0  ...             3813             3860             3909   \n",
      "3                   0  ...              651              656              663   \n",
      "4                   0  ...              469              477              483   \n",
      "...               ...  ...              ...              ...              ...   \n",
      "3190                0  ...              267              271              275   \n",
      "3191                0  ...              375              383              385   \n",
      "3192                0  ...              276              276              276   \n",
      "3193                0  ...               86               96               97   \n",
      "3194                0  ...                5                5                7   \n",
      "\n",
      "      cases - 8/16/20  cases - 8/17/20  cases - 8/18/20  cases - 8/19/20  \\\n",
      "0                   0                0                0                0   \n",
      "1                1273             1274             1291             1293   \n",
      "2                3948             3960             3977             4002   \n",
      "3                 671              672              674              683   \n",
      "4                 483              488              490              503   \n",
      "...               ...              ...              ...              ...   \n",
      "3190              276              278              279              285   \n",
      "3191              389              390              393              394   \n",
      "3192              276              277              278              283   \n",
      "3193               97              100              102              104   \n",
      "3194                7                8               11               11   \n",
      "\n",
      "      cases - 8/20/20  cases - 8/21/20  cases - 8/22/20  \n",
      "0                   0                0                0  \n",
      "1                1293             1293             1322  \n",
      "2                4035             4054             4115  \n",
      "3                 690              690              699  \n",
      "4                 507              509              516  \n",
      "...               ...              ...              ...  \n",
      "3190              285              288              290  \n",
      "3191              398              399              401  \n",
      "3192              283              283              283  \n",
      "3193              106              106              107  \n",
      "3194               11               11               11  \n",
      "\n",
      "[3195 rows x 218 columns]\n"
     ]
    }
   ],
   "source": [
    "print(cd.get_covid_by_cases())"
   ]
  },
  {
   "cell_type": "markdown",
   "metadata": {},
   "source": [
    "### Covid deaths by county"
   ]
  },
  {
   "cell_type": "code",
   "execution_count": 3,
   "metadata": {},
   "outputs": [
    {
     "name": "stdout",
     "output_type": "stream",
     "text": [
      "      countyFIPS            County Name State  stateFIPS  deaths - 1/22/20  \\\n",
      "0              0  Statewide Unallocated    AL          1                 0   \n",
      "1           1001         Autauga County    AL          1                 0   \n",
      "2           1003         Baldwin County    AL          1                 0   \n",
      "3           1005         Barbour County    AL          1                 0   \n",
      "4           1007            Bibb County    AL          1                 0   \n",
      "...          ...                    ...   ...        ...               ...   \n",
      "3190       56037      Sweetwater County    WY         56                 0   \n",
      "3191       56039           Teton County    WY         56                 0   \n",
      "3192       56041           Uinta County    WY         56                 0   \n",
      "3193       56043        Washakie County    WY         56                 0   \n",
      "3194       56045          Weston County    WY         56                 0   \n",
      "\n",
      "      deaths - 1/23/20  deaths - 1/24/20  deaths - 1/25/20  deaths - 1/26/20  \\\n",
      "0                    0                 0                 0                 0   \n",
      "1                    0                 0                 0                 0   \n",
      "2                    0                 0                 0                 0   \n",
      "3                    0                 0                 0                 0   \n",
      "4                    0                 0                 0                 0   \n",
      "...                ...               ...               ...               ...   \n",
      "3190                 0                 0                 0                 0   \n",
      "3191                 0                 0                 0                 0   \n",
      "3192                 0                 0                 0                 0   \n",
      "3193                 0                 0                 0                 0   \n",
      "3194                 0                 0                 0                 0   \n",
      "\n",
      "      deaths - 1/27/20  ...  deaths - 8/13/20  deaths - 8/14/20  \\\n",
      "0                    0  ...                 0                 0   \n",
      "1                    0  ...                23                23   \n",
      "2                    0  ...                32                32   \n",
      "3                    0  ...                 6                 6   \n",
      "4                    0  ...                 6                 6   \n",
      "...                ...  ...               ...               ...   \n",
      "3190                 0  ...                 2                 2   \n",
      "3191                 0  ...                 1                 1   \n",
      "3192                 0  ...                 0                 0   \n",
      "3193                 0  ...                 5                 5   \n",
      "3194                 0  ...                 0                 0   \n",
      "\n",
      "      deaths - 8/15/20  deaths - 8/16/20  deaths - 8/17/20  deaths - 8/18/20  \\\n",
      "0                    0                 0                 0                 0   \n",
      "1                   23                23                23                23   \n",
      "2                   32                32                32                33   \n",
      "3                    6                 6                 6                 6   \n",
      "4                    6                 6                 6                 6   \n",
      "...                ...               ...               ...               ...   \n",
      "3190                 2                 2                 2                 2   \n",
      "3191                 1                 1                 1                 1   \n",
      "3192                 0                 0                 0                 0   \n",
      "3193                 5                 5                 5                 5   \n",
      "3194                 0                 0                 0                 0   \n",
      "\n",
      "      deaths - 8/19/20  deaths - 8/20/20  deaths - 8/21/20  deaths - 8/22/20  \n",
      "0                    0                 0                 0                 0  \n",
      "1                   23                23                23                23  \n",
      "2                   33                34                35                35  \n",
      "3                    7                 7                 7                 7  \n",
      "4                    6                 6                 6                 6  \n",
      "...                ...               ...               ...               ...  \n",
      "3190                 2                 2                 2                 2  \n",
      "3191                 1                 1                 1                 1  \n",
      "3192                 0                 0                 0                 2  \n",
      "3193                 5                 5                 5                 5  \n",
      "3194                 0                 0                 0                 0  \n",
      "\n",
      "[3195 rows x 218 columns]\n"
     ]
    }
   ],
   "source": [
    "print(cd.get_covid_by_deaths())"
   ]
  },
  {
   "cell_type": "markdown",
   "metadata": {},
   "source": [
    "### Population by county"
   ]
  },
  {
   "cell_type": "code",
   "execution_count": 4,
   "metadata": {},
   "outputs": [
    {
     "name": "stdout",
     "output_type": "stream",
     "text": [
      "      countyFIPS            County Name State  population\n",
      "0              0  Statewide Unallocated    AL           0\n",
      "1           1001         Autauga County    AL       55869\n",
      "2           1003         Baldwin County    AL      223234\n",
      "3           1005         Barbour County    AL       24686\n",
      "4           1007            Bibb County    AL       22394\n",
      "...          ...                    ...   ...         ...\n",
      "3190       56037      Sweetwater County    WY       42343\n",
      "3191       56039           Teton County    WY       23464\n",
      "3192       56041           Uinta County    WY       20226\n",
      "3193       56043        Washakie County    WY        7805\n",
      "3194       56045          Weston County    WY        6927\n",
      "\n",
      "[3195 rows x 4 columns]\n"
     ]
    }
   ],
   "source": [
    "print(cd.get_covid_by_population())"
   ]
  },
  {
   "cell_type": "markdown",
   "metadata": {},
   "source": [
    "### Merged Data"
   ]
  },
  {
   "cell_type": "code",
   "execution_count": 5,
   "metadata": {},
   "outputs": [
    {
     "name": "stdout",
     "output_type": "stream",
     "text": [
      "      countyFIPS            County Name State  stateFIPS  cases - 1/22/20  \\\n",
      "0              0  Statewide Unallocated    AL          1                0   \n",
      "1           1001         Autauga County    AL          1                0   \n",
      "2           1003         Baldwin County    AL          1                0   \n",
      "3           1005         Barbour County    AL          1                0   \n",
      "4           1007            Bibb County    AL          1                0   \n",
      "...          ...                    ...   ...        ...              ...   \n",
      "3173       56037      Sweetwater County    WY         56                0   \n",
      "3174       56039           Teton County    WY         56                0   \n",
      "3175       56041           Uinta County    WY         56                0   \n",
      "3176       56043        Washakie County    WY         56                0   \n",
      "3177       56045          Weston County    WY         56                0   \n",
      "\n",
      "      cases - 1/23/20  cases - 1/24/20  cases - 1/25/20  cases - 1/26/20  \\\n",
      "0                   0                0                0                0   \n",
      "1                   0                0                0                0   \n",
      "2                   0                0                0                0   \n",
      "3                   0                0                0                0   \n",
      "4                   0                0                0                0   \n",
      "...               ...              ...              ...              ...   \n",
      "3173                0                0                0                0   \n",
      "3174                0                0                0                0   \n",
      "3175                0                0                0                0   \n",
      "3176                0                0                0                0   \n",
      "3177                0                0                0                0   \n",
      "\n",
      "      cases - 1/27/20  ...  deaths - 8/13/20  deaths - 8/14/20  \\\n",
      "0                   0  ...                 0                 0   \n",
      "1                   0  ...                23                23   \n",
      "2                   0  ...                32                32   \n",
      "3                   0  ...                 6                 6   \n",
      "4                   0  ...                 6                 6   \n",
      "...               ...  ...               ...               ...   \n",
      "3173                0  ...                 2                 2   \n",
      "3174                0  ...                 1                 1   \n",
      "3175                0  ...                 0                 0   \n",
      "3176                0  ...                 5                 5   \n",
      "3177                0  ...                 0                 0   \n",
      "\n",
      "      deaths - 8/15/20  deaths - 8/16/20  deaths - 8/17/20  deaths - 8/18/20  \\\n",
      "0                    0                 0                 0                 0   \n",
      "1                   23                23                23                23   \n",
      "2                   32                32                32                33   \n",
      "3                    6                 6                 6                 6   \n",
      "4                    6                 6                 6                 6   \n",
      "...                ...               ...               ...               ...   \n",
      "3173                 2                 2                 2                 2   \n",
      "3174                 1                 1                 1                 1   \n",
      "3175                 0                 0                 0                 0   \n",
      "3176                 5                 5                 5                 5   \n",
      "3177                 0                 0                 0                 0   \n",
      "\n",
      "      deaths - 8/19/20  deaths - 8/20/20  deaths - 8/21/20  deaths - 8/22/20  \n",
      "0                    0                 0                 0                 0  \n",
      "1                   23                23                23                23  \n",
      "2                   33                34                35                35  \n",
      "3                    7                 7                 7                 7  \n",
      "4                    6                 6                 6                 6  \n",
      "...                ...               ...               ...               ...  \n",
      "3173                 2                 2                 2                 2  \n",
      "3174                 1                 1                 1                 1  \n",
      "3175                 0                 0                 0                 2  \n",
      "3176                 5                 5                 5                 5  \n",
      "3177                 0                 0                 0                 0  \n",
      "\n",
      "[3178 rows x 433 columns]\n"
     ]
    }
   ],
   "source": [
    "print(cd.get_covid_primary_data())"
   ]
  },
  {
   "cell_type": "code",
   "execution_count": null,
   "metadata": {},
   "outputs": [],
   "source": []
  }
 ],
 "metadata": {
  "kernelspec": {
   "display_name": "Python 3",
   "language": "python",
   "name": "python3"
  },
  "language_info": {
   "codemirror_mode": {
    "name": "ipython",
    "version": 3
   },
   "file_extension": ".py",
   "mimetype": "text/x-python",
   "name": "python",
   "nbconvert_exporter": "python",
   "pygments_lexer": "ipython3",
   "version": "3.7.4"
  }
 },
 "nbformat": 4,
 "nbformat_minor": 2
}
