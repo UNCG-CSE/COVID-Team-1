{
 "cells": [
  {
   "cell_type": "markdown",
   "metadata": {},
   "source": [
    "\n",
    "# COVID-Team-1\n",
    "### Dr. Mohanty\n",
    "### Brantley, Kawabata, Urgitus\n",
    "### CSC 405 01\n",
    "### Last Updated: 09/20/2020\n",
    "### We, the members of COVID-Team-1, have abided by the UNCG academic policy."
   ]
  },
  {
   "cell_type": "markdown",
   "metadata": {},
   "source": [
    "### Module Imports"
   ]
  },
  {
   "cell_type": "code",
   "execution_count": 1,
   "metadata": {},
   "outputs": [],
   "source": [
    "import ipynb\n",
    "from ipynb.fs.full import covid_data as cd\n",
    "import pandas as pd"
   ]
  },
  {
   "cell_type": "markdown",
   "metadata": {},
   "source": [
    "### Pandas Display Options"
   ]
  },
  {
   "cell_type": "code",
   "execution_count": 2,
   "metadata": {},
   "outputs": [],
   "source": [
    "# Telling pandas not convert to html tags.\n",
    "pd.set_option('display.notebook_repr_html', False)\n",
    "# Max columns and rows to display.\n",
    "pd.set_option('display.max_columns', 12)\n",
    "pd.set_option('display.max_rows', 5)"
   ]
  },
  {
   "cell_type": "markdown",
   "metadata": {},
   "source": [
    "### Covid cases by county"
   ]
  },
  {
   "cell_type": "code",
   "execution_count": 3,
   "metadata": {},
   "outputs": [
    {
     "name": "stdout",
     "output_type": "stream",
     "text": [
      "      countyFIPS            County Name State  stateFIPS  cases - 1/22/20  \\\n",
      "0              0  Statewide Unallocated    AL          1                0   \n",
      "1           1001         Autauga County    AL          1                0   \n",
      "...          ...                    ...   ...        ...              ...   \n",
      "3193       56043        Washakie County    WY         56                0   \n",
      "3194       56045          Weston County    WY         56                0   \n",
      "\n",
      "      cases - 1/23/20  ...  cases - 9/11/20  cases - 9/12/20  cases - 9/13/20  \\\n",
      "0                   0  ...                0                0                0   \n",
      "1                   0  ...             1551             1565             1576   \n",
      "...               ...  ...              ...              ...              ...   \n",
      "3193                0  ...              111              111              111   \n",
      "3194                0  ...               21               23               23   \n",
      "\n",
      "      cases - 9/14/20  cases - 9/15/20  cases - 9/16/20  \n",
      "0                   0                0                0  \n",
      "1                1585             1601             1619  \n",
      "...               ...              ...              ...  \n",
      "3193              111              111              111  \n",
      "3194               23               23               23  \n",
      "\n",
      "[3195 rows x 243 columns]\n"
     ]
    }
   ],
   "source": [
    "print(cd.get_covid_by_cases())"
   ]
  },
  {
   "cell_type": "markdown",
   "metadata": {},
   "source": [
    "### Covid deaths by county"
   ]
  },
  {
   "cell_type": "code",
   "execution_count": 4,
   "metadata": {},
   "outputs": [
    {
     "name": "stdout",
     "output_type": "stream",
     "text": [
      "      countyFIPS            County Name State  stateFIPS  deaths - 1/22/20  \\\n",
      "0              0  Statewide Unallocated    AL          1                 0   \n",
      "1           1001         Autauga County    AL          1                 0   \n",
      "...          ...                    ...   ...        ...               ...   \n",
      "3193       56043        Washakie County    WY         56                 0   \n",
      "3194       56045          Weston County    WY         56                 0   \n",
      "\n",
      "      deaths - 1/23/20  ...  deaths - 9/11/20  deaths - 9/12/20  \\\n",
      "0                    0  ...                 0                 0   \n",
      "1                    0  ...                24                24   \n",
      "...                ...  ...               ...               ...   \n",
      "3193                 0  ...                 6                 6   \n",
      "3194                 0  ...                 0                 0   \n",
      "\n",
      "      deaths - 9/13/20  deaths - 9/14/20  deaths - 9/15/20  deaths - 9/16/20  \n",
      "0                    0                 0                 0                 0  \n",
      "1                   24                24                24                24  \n",
      "...                ...               ...               ...               ...  \n",
      "3193                 6                 6                 6                 6  \n",
      "3194                 0                 0                 0                 0  \n",
      "\n",
      "[3195 rows x 243 columns]\n"
     ]
    }
   ],
   "source": [
    "print(cd.get_covid_by_deaths())"
   ]
  },
  {
   "cell_type": "markdown",
   "metadata": {},
   "source": [
    "### Population by county"
   ]
  },
  {
   "cell_type": "code",
   "execution_count": 5,
   "metadata": {
    "scrolled": true
   },
   "outputs": [
    {
     "name": "stdout",
     "output_type": "stream",
     "text": [
      "      countyFIPS            County Name State  population\n",
      "0              0  Statewide Unallocated    AL           0\n",
      "1           1001         Autauga County    AL       55869\n",
      "...          ...                    ...   ...         ...\n",
      "3193       56043        Washakie County    WY        7805\n",
      "3194       56045          Weston County    WY        6927\n",
      "\n",
      "[3195 rows x 4 columns]\n"
     ]
    }
   ],
   "source": [
    "print(cd.get_county_population())"
   ]
  },
  {
   "cell_type": "markdown",
   "metadata": {},
   "source": [
    "### Merged Data"
   ]
  },
  {
   "cell_type": "code",
   "execution_count": 6,
   "metadata": {},
   "outputs": [
    {
     "name": "stdout",
     "output_type": "stream",
     "text": [
      "      countyFIPS      County Name State  stateFIPS  cases - 1/22/20  \\\n",
      "0           1001   Autauga County    AL          1                0   \n",
      "1           1003   Baldwin County    AL          1                0   \n",
      "...          ...              ...   ...        ...              ...   \n",
      "3142       56043  Washakie County    WY         56                0   \n",
      "3143       56045    Weston County    WY         56                0   \n",
      "\n",
      "      cases - 1/23/20  ...  deaths - 9/12/20  deaths - 9/13/20  \\\n",
      "0                   0  ...                24                24   \n",
      "1                   0  ...                47                47   \n",
      "...               ...  ...               ...               ...   \n",
      "3142                0  ...                 6                 6   \n",
      "3143                0  ...                 0                 0   \n",
      "\n",
      "      deaths - 9/14/20  deaths - 9/15/20  deaths - 9/16/20  population  \n",
      "0                   24                24                24       55869  \n",
      "1                   47                47                47      223234  \n",
      "...                ...               ...               ...         ...  \n",
      "3142                 6                 6                 6        7805  \n",
      "3143                 0                 0                 0        6927  \n",
      "\n",
      "[3144 rows x 483 columns]\n"
     ]
    }
   ],
   "source": [
    "print(cd.get_covid_primary_data())"
   ]
  }
 ],
 "metadata": {
  "kernelspec": {
   "display_name": "Python 3",
   "language": "python",
   "name": "python3"
  },
  "language_info": {
   "codemirror_mode": {
    "name": "ipython",
    "version": 3
   },
   "file_extension": ".py",
   "mimetype": "text/x-python",
   "name": "python",
   "nbconvert_exporter": "python",
   "pygments_lexer": "ipython3",
   "version": "3.8.5"
  }
 },
 "nbformat": 4,
 "nbformat_minor": 2
}
