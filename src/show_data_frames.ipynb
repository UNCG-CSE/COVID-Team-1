{
 "cells": [
  {
   "cell_type": "code",
   "execution_count": 1,
   "metadata": {},
   "outputs": [
    {
     "name": "stdout",
     "output_type": "stream",
     "text": [
      "importing Jupyter notebook from covid_data.ipynb\n"
     ]
    }
   ],
   "source": [
    "import import_ipynb\n",
    "import covid_data as cd\n",
    "import pandas as pd"
   ]
  },
  {
   "cell_type": "markdown",
   "metadata": {},
   "source": [
    "### Covid cases by county"
   ]
  },
  {
   "cell_type": "code",
   "execution_count": null,
   "metadata": {},
   "outputs": [],
   "source": [
    "print(cd.get_covid_by_cases())"
   ]
  },
  {
   "cell_type": "markdown",
   "metadata": {},
   "source": [
    "### Covid deaths by county"
   ]
  },
  {
   "cell_type": "code",
   "execution_count": null,
   "metadata": {},
   "outputs": [],
   "source": [
    "print(cd.get_covid_by_deaths())"
   ]
  },
  {
   "cell_type": "markdown",
   "metadata": {},
   "source": [
    "### Population by county"
   ]
  },
  {
   "cell_type": "code",
   "execution_count": 2,
   "metadata": {},
   "outputs": [
    {
     "name": "stdout",
     "output_type": "stream",
     "text": [
      "      countyFIPS            County Name State  population\n",
      "0              0  Statewide Unallocated    AL           0\n",
      "1           1001         Autauga County    AL       55869\n",
      "2           1003         Baldwin County    AL      223234\n",
      "3           1005         Barbour County    AL       24686\n",
      "4           1007            Bibb County    AL       22394\n",
      "...          ...                    ...   ...         ...\n",
      "3190       56037      Sweetwater County    WY       42343\n",
      "3191       56039           Teton County    WY       23464\n",
      "3192       56041           Uinta County    WY       20226\n",
      "3193       56043        Washakie County    WY        7805\n",
      "3194       56045          Weston County    WY        6927\n",
      "\n",
      "[3195 rows x 4 columns]\n"
     ]
    }
   ],
   "source": [
    "print(cd.get_county_population())"
   ]
  },
  {
   "cell_type": "markdown",
   "metadata": {},
   "source": [
    "### Merged Data"
   ]
  },
  {
   "cell_type": "code",
   "execution_count": null,
   "metadata": {},
   "outputs": [],
   "source": [
    "print(cd.get_covid_primary_data())"
   ]
  }
 ],
 "metadata": {
  "kernelspec": {
   "display_name": "Python 3",
   "language": "python",
   "name": "python3"
  },
  "language_info": {
   "codemirror_mode": {
    "name": "ipython",
    "version": 3
   },
   "file_extension": ".py",
   "mimetype": "text/x-python",
   "name": "python",
   "nbconvert_exporter": "python",
   "pygments_lexer": "ipython3",
   "version": "3.7.4"
  }
 },
 "nbformat": 4,
 "nbformat_minor": 2
}
