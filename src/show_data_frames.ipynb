{
 "cells": [
  {
   "cell_type": "code",
   "execution_count": 1,
   "metadata": {},
   "outputs": [],
   "source": [
    "import ipynb\n",
    "from ipynb.fs.full import covid_data as cd\n",
    "import pandas as pd"
   ]
  },
  {
   "cell_type": "markdown",
   "metadata": {},
   "source": [
    "### Covid cases by county"
   ]
  },
  {
   "cell_type": "code",
   "execution_count": 2,
   "metadata": {},
   "outputs": [
    {
     "name": "stdout",
     "output_type": "stream",
     "text": [
      "      countyFIPS            County Name State  stateFIPS  cases - 1/22/20  \\\n",
      "0              0  Statewide Unallocated    AL          1                0   \n",
      "1           1001         Autauga County    AL          1                0   \n",
      "2           1003         Baldwin County    AL          1                0   \n",
      "3           1005         Barbour County    AL          1                0   \n",
      "4           1007            Bibb County    AL          1                0   \n",
      "...          ...                    ...   ...        ...              ...   \n",
      "3190       56037      Sweetwater County    WY         56                0   \n",
      "3191       56039           Teton County    WY         56                0   \n",
      "3192       56041           Uinta County    WY         56                0   \n",
      "3193       56043        Washakie County    WY         56                0   \n",
      "3194       56045          Weston County    WY         56                0   \n",
      "\n",
      "      cases - 1/23/20  cases - 1/24/20  cases - 1/25/20  cases - 1/26/20  \\\n",
      "0                   0                0                0                0   \n",
      "1                   0                0                0                0   \n",
      "2                   0                0                0                0   \n",
      "3                   0                0                0                0   \n",
      "4                   0                0                0                0   \n",
      "...               ...              ...              ...              ...   \n",
      "3190                0                0                0                0   \n",
      "3191                0                0                0                0   \n",
      "3192                0                0                0                0   \n",
      "3193                0                0                0                0   \n",
      "3194                0                0                0                0   \n",
      "\n",
      "      cases - 1/27/20  ...  cases - 9/7/20  cases - 9/8/20  cases - 9/9/20  \\\n",
      "0                   0  ...               0               0               0   \n",
      "1                   0  ...            1504            1508            1522   \n",
      "2                   0  ...            4730            4757            4787   \n",
      "3                   0  ...             778             778             778   \n",
      "4                   0  ...             583             589             591   \n",
      "...               ...  ...             ...             ...             ...   \n",
      "3190                0  ...             309             314             316   \n",
      "3191                0  ...             447             450             451   \n",
      "3192                0  ...             308             308             308   \n",
      "3193                0  ...             111             111             111   \n",
      "3194                0  ...              19              19              21   \n",
      "\n",
      "      cases - 9/10/20  cases - 9/11/20  cases - 9/12/20  cases - 9/13/20  \\\n",
      "0                   0                0                0                0   \n",
      "1                1544             1551             1565             1576   \n",
      "2                4833             4886             4922             4959   \n",
      "3                 785              786              792              794   \n",
      "4                 594              602              604              607   \n",
      "...               ...              ...              ...              ...   \n",
      "3190              317              317              317              317   \n",
      "3191              453              462              465              470   \n",
      "3192              310              310              310              311   \n",
      "3193              111              111              111              111   \n",
      "3194               21               21               23               23   \n",
      "\n",
      "      cases - 9/14/20  cases - 9/15/20  cases - 9/16/20  \n",
      "0                   0                0                0  \n",
      "1                1585             1601             1619  \n",
      "2                4978             4992             5003  \n",
      "3                 801              806              809  \n",
      "4                 610              611              612  \n",
      "...               ...              ...              ...  \n",
      "3190              317              317              317  \n",
      "3191              476              478              481  \n",
      "3192              312              312              323  \n",
      "3193              111              111              111  \n",
      "3194               23               23               23  \n",
      "\n",
      "[3195 rows x 243 columns]\n"
     ]
    }
   ],
   "source": [
    "print(cd.get_covid_by_cases())"
   ]
  },
  {
   "cell_type": "markdown",
   "metadata": {},
   "source": [
    "### Covid deaths by county"
   ]
  },
  {
   "cell_type": "code",
   "execution_count": 3,
   "metadata": {},
   "outputs": [
    {
     "name": "stdout",
     "output_type": "stream",
     "text": [
      "      countyFIPS            County Name State  stateFIPS  deaths - 1/22/20  \\\n",
      "0              0  Statewide Unallocated    AL          1                 0   \n",
      "1           1001         Autauga County    AL          1                 0   \n",
      "2           1003         Baldwin County    AL          1                 0   \n",
      "3           1005         Barbour County    AL          1                 0   \n",
      "4           1007            Bibb County    AL          1                 0   \n",
      "...          ...                    ...   ...        ...               ...   \n",
      "3190       56037      Sweetwater County    WY         56                 0   \n",
      "3191       56039           Teton County    WY         56                 0   \n",
      "3192       56041           Uinta County    WY         56                 0   \n",
      "3193       56043        Washakie County    WY         56                 0   \n",
      "3194       56045          Weston County    WY         56                 0   \n",
      "\n",
      "      deaths - 1/23/20  deaths - 1/24/20  deaths - 1/25/20  deaths - 1/26/20  \\\n",
      "0                    0                 0                 0                 0   \n",
      "1                    0                 0                 0                 0   \n",
      "2                    0                 0                 0                 0   \n",
      "3                    0                 0                 0                 0   \n",
      "4                    0                 0                 0                 0   \n",
      "...                ...               ...               ...               ...   \n",
      "3190                 0                 0                 0                 0   \n",
      "3191                 0                 0                 0                 0   \n",
      "3192                 0                 0                 0                 0   \n",
      "3193                 0                 0                 0                 0   \n",
      "3194                 0                 0                 0                 0   \n",
      "\n",
      "      deaths - 1/27/20  ...  deaths - 9/7/20  deaths - 9/8/20  \\\n",
      "0                    0  ...                0                0   \n",
      "1                    0  ...               24               24   \n",
      "2                    0  ...               46               46   \n",
      "3                    0  ...                7                7   \n",
      "4                    0  ...                9                9   \n",
      "...                ...  ...              ...              ...   \n",
      "3190                 0  ...                2                2   \n",
      "3191                 0  ...                1                1   \n",
      "3192                 0  ...                2                2   \n",
      "3193                 0  ...                6                6   \n",
      "3194                 0  ...                0                0   \n",
      "\n",
      "      deaths - 9/9/20  deaths - 9/10/20  deaths - 9/11/20  deaths - 9/12/20  \\\n",
      "0                   0                 0                 0                 0   \n",
      "1                  24                24                24                24   \n",
      "2                  46                46                47                47   \n",
      "3                   7                 7                 7                 7   \n",
      "4                   9                 9                 9                 9   \n",
      "...               ...               ...               ...               ...   \n",
      "3190                2                 2                 2                 2   \n",
      "3191                1                 1                 1                 1   \n",
      "3192                2                 2                 2                 2   \n",
      "3193                6                 6                 6                 6   \n",
      "3194                0                 0                 0                 0   \n",
      "\n",
      "      deaths - 9/13/20  deaths - 9/14/20  deaths - 9/15/20  deaths - 9/16/20  \n",
      "0                    0                 0                 0                 0  \n",
      "1                   24                24                24                24  \n",
      "2                   47                47                47                47  \n",
      "3                    7                 7                 7                 7  \n",
      "4                    9                 9                 9                 9  \n",
      "...                ...               ...               ...               ...  \n",
      "3190                 2                 2                 2                 2  \n",
      "3191                 1                 1                 1                 1  \n",
      "3192                 2                 2                 2                 2  \n",
      "3193                 6                 6                 6                 6  \n",
      "3194                 0                 0                 0                 0  \n",
      "\n",
      "[3195 rows x 243 columns]\n"
     ]
    }
   ],
   "source": [
    "print(cd.get_covid_by_deaths())"
   ]
  },
  {
   "cell_type": "markdown",
   "metadata": {},
   "source": [
    "### Population by county"
   ]
  },
  {
   "cell_type": "code",
   "execution_count": 4,
   "metadata": {},
   "outputs": [
    {
     "name": "stdout",
     "output_type": "stream",
     "text": [
      "      countyFIPS            County Name State  population\n",
      "0              0  Statewide Unallocated    AL           0\n",
      "1           1001         Autauga County    AL       55869\n",
      "2           1003         Baldwin County    AL      223234\n",
      "3           1005         Barbour County    AL       24686\n",
      "4           1007            Bibb County    AL       22394\n",
      "...          ...                    ...   ...         ...\n",
      "3190       56037      Sweetwater County    WY       42343\n",
      "3191       56039           Teton County    WY       23464\n",
      "3192       56041           Uinta County    WY       20226\n",
      "3193       56043        Washakie County    WY        7805\n",
      "3194       56045          Weston County    WY        6927\n",
      "\n",
      "[3195 rows x 4 columns]\n"
     ]
    }
   ],
   "source": [
    "print(cd.get_county_population())"
   ]
  },
  {
   "cell_type": "markdown",
   "metadata": {},
   "source": [
    "### Merged Data"
   ]
  },
  {
   "cell_type": "code",
   "execution_count": 5,
   "metadata": {},
   "outputs": [
    {
     "name": "stdout",
     "output_type": "stream",
     "text": [
      "      Unnamed: 0  countyFIPS            County Name State  stateFIPS  \\\n",
      "0              0           0  Statewide Unallocated    AL          1   \n",
      "1              1        1001         Autauga County    AL          1   \n",
      "2              2        1003         Baldwin County    AL          1   \n",
      "3              3        1005         Barbour County    AL          1   \n",
      "4              4        1007            Bibb County    AL          1   \n",
      "...          ...         ...                    ...   ...        ...   \n",
      "3173        3173       56037      Sweetwater County    WY         56   \n",
      "3174        3174       56039           Teton County    WY         56   \n",
      "3175        3175       56041           Uinta County    WY         56   \n",
      "3176        3176       56043        Washakie County    WY         56   \n",
      "3177        3177       56045          Weston County    WY         56   \n",
      "\n",
      "      cases - 1/22/20  cases - 1/23/20  cases - 1/24/20  cases - 1/25/20  \\\n",
      "0                   0                0                0                0   \n",
      "1                   0                0                0                0   \n",
      "2                   0                0                0                0   \n",
      "3                   0                0                0                0   \n",
      "4                   0                0                0                0   \n",
      "...               ...              ...              ...              ...   \n",
      "3173                0                0                0                0   \n",
      "3174                0                0                0                0   \n",
      "3175                0                0                0                0   \n",
      "3176                0                0                0                0   \n",
      "3177                0                0                0                0   \n",
      "\n",
      "      cases - 1/26/20  ...  deaths - 8/14/20  deaths - 8/15/20  \\\n",
      "0                   0  ...                 0                 0   \n",
      "1                   0  ...                23                23   \n",
      "2                   0  ...                32                32   \n",
      "3                   0  ...                 6                 6   \n",
      "4                   0  ...                 6                 6   \n",
      "...               ...  ...               ...               ...   \n",
      "3173                0  ...                 2                 2   \n",
      "3174                0  ...                 1                 1   \n",
      "3175                0  ...                 0                 0   \n",
      "3176                0  ...                 5                 5   \n",
      "3177                0  ...                 0                 0   \n",
      "\n",
      "      deaths - 8/16/20  deaths - 8/17/20  deaths - 8/18/20  deaths - 8/19/20  \\\n",
      "0                    0                 0                 0                 0   \n",
      "1                   23                23                23                23   \n",
      "2                   32                32                33                33   \n",
      "3                    6                 6                 6                 7   \n",
      "4                    6                 6                 6                 6   \n",
      "...                ...               ...               ...               ...   \n",
      "3173                 2                 2                 2                 2   \n",
      "3174                 1                 1                 1                 1   \n",
      "3175                 0                 0                 0                 0   \n",
      "3176                 5                 5                 5                 5   \n",
      "3177                 0                 0                 0                 0   \n",
      "\n",
      "      deaths - 8/20/20  deaths - 8/21/20  deaths - 8/22/20  population  \n",
      "0                    0                 0                 0           0  \n",
      "1                   23                23                23       55869  \n",
      "2                   34                35                35      223234  \n",
      "3                    7                 7                 7       24686  \n",
      "4                    6                 6                 6       22394  \n",
      "...                ...               ...               ...         ...  \n",
      "3173                 2                 2                 2       42343  \n",
      "3174                 1                 1                 1       23464  \n",
      "3175                 0                 0                 2       20226  \n",
      "3176                 5                 5                 5        7805  \n",
      "3177                 0                 0                 0        6927  \n",
      "\n",
      "[3178 rows x 434 columns]\n"
     ]
    }
   ],
   "source": [
    "print(cd.get_covid_primary_data())"
   ]
  },
  {
   "cell_type": "code",
   "execution_count": null,
   "metadata": {},
   "outputs": [],
   "source": []
  }
 ],
 "metadata": {
  "kernelspec": {
   "display_name": "Python 3",
   "language": "python",
   "name": "python3"
  },
  "language_info": {
   "codemirror_mode": {
    "name": "ipython",
    "version": 3
   },
   "file_extension": ".py",
   "mimetype": "text/x-python",
   "name": "python",
   "nbconvert_exporter": "python",
   "pygments_lexer": "ipython3",
   "version": "3.7.4"
  }
 },
 "nbformat": 4,
 "nbformat_minor": 2
}
