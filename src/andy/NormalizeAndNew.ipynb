{
 "cells": [
  {
   "cell_type": "code",
   "execution_count": 3,
   "metadata": {},
   "outputs": [],
   "source": [
    "import pandas as pd"
   ]
  },
  {
   "cell_type": "code",
   "execution_count": 40,
   "metadata": {},
   "outputs": [],
   "source": [
    "def normalize(x, population):\n",
    "    if population == 0:\n",
    "        return 0\n",
    "    else:\n",
    "        return (x/population)*5000000"
   ]
  },
  {
   "cell_type": "markdown",
   "metadata": {},
   "source": [
    "### Normalize New Cases"
   ]
  },
  {
   "cell_type": "code",
   "execution_count": 77,
   "metadata": {},
   "outputs": [],
   "source": [
    "cases_full = pd.read_csv('../../data/Covid/covid_confirmed_usafacts.csv')\n",
    "population = pd.read_csv('../../data/Covid/covid_county_population_usafacts.csv')\n",
    "cases_info = cases_full.iloc[:,:4]\n",
    "cases_only = cases_full.iloc[:,4:]\n",
    "cases_only_new = cases_only.diff(axis=1).drop(cases_only.columns[0], axis=1)\n",
    "cases_only_new = cases_only_new.astype('int')\n",
    "#new_cases = pd.merge(cases_info, cases_only_new, left_index=True, right_index=True)\n",
    "count = 0\n",
    "for row in cases_only_new:\n",
    "    pop= population.iloc[count][\"population\"]\n",
    "    cases_only_new.loc[count] = cases_only_new.loc[count].apply(normalize, args=(pop,))\n",
    "    count += 1\n",
    "\n",
    "cases_only_new = cases_only_new.astype('int')\n",
    "new_cases_norm =  pd.merge(cases_info, cases_only_new, left_index=True, right_index=True)\n",
    "new_cases_norm.to_csv('data/normalized/new_cases_normalized.csv')"
   ]
  },
  {
   "cell_type": "markdown",
   "metadata": {},
   "source": [
    "### Normalize New Deaths"
   ]
  },
  {
   "cell_type": "code",
   "execution_count": 78,
   "metadata": {},
   "outputs": [],
   "source": [
    "deaths_full = pd.read_csv('../../data/Covid/covid_deaths_usafacts.csv')\n",
    "population = pd.read_csv('../../data/Covid/covid_county_population_usafacts.csv')\n",
    "deaths_info = deaths_full.iloc[:,:4]\n",
    "deaths_only = deaths_full.iloc[:,4:]\n",
    "deaths_only_new = deaths_only.diff(axis=1).drop(deaths_only.columns[0], axis=1)\n",
    "deaths_only_new = deaths_only_new.astype('int')\n",
    "count = 0\n",
    "for row in cases_only_new:\n",
    "    pop= population.iloc[count][\"population\"]\n",
    "    deaths_only_new.loc[count] = deaths_only_new.loc[count].apply(normalize, args=(pop,))\n",
    "    count += 1\n",
    "\n",
    "deaths_only_new = deaths_only_new.astype('int')\n",
    "new_deaths_norm =  pd.merge(deaths_info, deaths_only_new, left_index=True, right_index=True)\n",
    "new_deaths_norm.to_csv('data/normalized/new_deaths_normalized.csv')"
   ]
  },
  {
   "cell_type": "code",
   "execution_count": 74,
   "metadata": {},
   "outputs": [],
   "source": [
    "# RETURNS COLUMN INDEX from CASES/DEATHS ONLY DF\n",
    "def get_first_inf_idx(df):\n",
    "    first_inf_idx = 0\n",
    "    count = 0\n",
    "    for col in df.columns:\n",
    "        if df[col].sum() > 0:\n",
    "            first_inf_idx = count\n",
    "            break\n",
    "        count += 1\n",
    "    return first_inf_idx"
   ]
  },
  {
   "cell_type": "code",
   "execution_count": 76,
   "metadata": {},
   "outputs": [
    {
     "name": "stdout",
     "output_type": "stream",
     "text": [
      "1\n"
     ]
    }
   ],
   "source": []
  }
 ],
 "metadata": {
  "kernelspec": {
   "display_name": "Python 3",
   "language": "python",
   "name": "python3"
  },
  "language_info": {
   "codemirror_mode": {
    "name": "ipython",
    "version": 3
   },
   "file_extension": ".py",
   "mimetype": "text/x-python",
   "name": "python",
   "nbconvert_exporter": "python",
   "pygments_lexer": "ipython3",
   "version": "3.7.4"
  }
 },
 "nbformat": 4,
 "nbformat_minor": 2
}
