{
 "cells": [
  {
   "cell_type": "code",
   "execution_count": 2,
   "metadata": {},
   "outputs": [],
   "source": [
    "import pandas as pd"
   ]
  },
  {
   "cell_type": "code",
   "execution_count": 2,
   "metadata": {},
   "outputs": [],
   "source": [
    "def normalize(x, population):\n",
    "    if population == 0:\n",
    "        return 0\n",
    "    else:\n",
    "        return (x/population)*5000000"
   ]
  },
  {
   "cell_type": "markdown",
   "metadata": {},
   "source": [
    "### Normalize New Cases"
   ]
  },
  {
   "cell_type": "code",
   "execution_count": 3,
   "metadata": {},
   "outputs": [],
   "source": [
    "cases_full = pd.read_csv('../../data/Covid/covid_confirmed_usafacts.csv')\n",
    "population = pd.read_csv('../../data/Covid/covid_county_population_usafacts.csv')\n",
    "cases_info = cases_full.iloc[:,:4]\n",
    "cases_only = cases_full.iloc[:,4:]\n",
    "cases_only_new = cases_only.diff(axis=1).drop(cases_only.columns[0], axis=1)\n",
    "cases_only_new = cases_only_new.astype('int')\n",
    "#new_cases = pd.merge(cases_info, cases_only_new, left_index=True, right_index=True)\n",
    "count = 0\n",
    "for row in cases_only_new:\n",
    "    pop= population.iloc[count][\"population\"]\n",
    "    cases_only_new.loc[count] = cases_only_new.loc[count].apply(normalize, args=(pop,))\n",
    "    count += 1\n",
    "\n",
    "cases_only_new = cases_only_new.astype('int')\n",
    "new_cases_norm =  pd.merge(cases_info, cases_only_new, left_index=True, right_index=True)\n",
    "new_cases_norm.to_csv('data/normalized/new_cases_normalized.csv')"
   ]
  },
  {
   "cell_type": "markdown",
   "metadata": {},
   "source": [
    "#### New Deaths Not Normalized"
   ]
  },
  {
   "cell_type": "code",
   "execution_count": 47,
   "metadata": {},
   "outputs": [
    {
     "data": {
      "text/plain": [
       "1925   -42\n",
       "1926     0\n",
       "1927     0\n",
       "1928     0\n",
       "1929    -1\n",
       "        ..\n",
       "2021     0\n",
       "2022     0\n",
       "2023     0\n",
       "2024     0\n",
       "2025     0\n",
       "Name: 10/24/20, Length: 101, dtype: int32"
      ]
     },
     "metadata": {},
     "output_type": "display_data"
    }
   ],
   "source": [
    "deaths_full = pd.read_csv('../../data/Covid/covid_deaths_usafacts.csv')\n",
    "\n",
    "\n",
    "deaths_info = cases_full.iloc[:,:4]\n",
    "deaths_only = cases_full.iloc[:,4:]\n",
    "\n",
    "deaths_only_new = deaths_only.diff(axis=1).drop(deaths_only.columns[0], axis=1)\n",
    "new_deaths =  pd.merge(deaths_info, deaths_only_new, left_index=True, right_index=True)\n",
    "display(new_deaths.loc[new_deaths[\"State\"] == 'NC']['10/24/20'])\n",
    "new_deaths.to_csv('data/normalized/new_deaths_non_normalized.csv')"
   ]
  },
  {
   "cell_type": "markdown",
   "metadata": {},
   "source": [
    "### Normalize New Deaths"
   ]
  },
  {
   "cell_type": "code",
   "execution_count": 5,
   "metadata": {},
   "outputs": [],
   "source": [
    "deaths_full = pd.read_csv('../../data/Covid/covid_deaths_usafacts.csv')\n",
    "population = pd.read_csv('../../data/Covid/covid_county_population_usafacts.csv')\n",
    "deaths_info = deaths_full.iloc[:,:4]\n",
    "deaths_only = deaths_full.iloc[:,4:]\n",
    "deaths_only_new = deaths_only.diff(axis=1).drop(deaths_only.columns[0], axis=1)\n",
    "deaths_only_new = deaths_only_new.astype('int')\n",
    "count = 0\n",
    "for row in deaths_only_new:\n",
    "    pop= population.iloc[count][\"population\"]\n",
    "    deaths_only_new.loc[count] = deaths_only_new.loc[count].apply(normalize, args=(pop,))\n",
    "    count += 1\n",
    "\n",
    "deaths_only_new = deaths_only_new.astype('int')\n",
    "new_deaths_norm =  pd.merge(deaths_info, deaths_only_new, left_index=True, right_index=True)\n",
    "new_deaths_norm.to_csv('data/normalized/new_deaths_normalized.csv')"
   ]
  },
  {
   "cell_type": "code",
   "execution_count": 74,
   "metadata": {},
   "outputs": [],
   "source": [
    "# RETURNS COLUMN INDEX from CASES/DEATHS ONLY DF\n",
    "def get_first_inf_idx(df):\n",
    "    first_inf_idx = 0\n",
    "    count = 0\n",
    "    for col in df.columns:\n",
    "        if df[col].sum() > 0:\n",
    "            first_inf_idx = count\n",
    "            break\n",
    "        count += 1\n",
    "    return first_inf_idx"
   ]
  },
  {
   "cell_type": "code",
   "execution_count": 76,
   "metadata": {},
   "outputs": [
    {
     "name": "stdout",
     "output_type": "stream",
     "text": [
      "1\n"
     ]
    }
   ],
   "source": []
  }
 ],
 "metadata": {
  "kernelspec": {
   "display_name": "Python 3",
   "language": "python",
   "name": "python3"
  },
  "language_info": {
   "codemirror_mode": {
    "name": "ipython",
    "version": 3
   },
   "file_extension": ".py",
   "mimetype": "text/x-python",
   "name": "python",
   "nbconvert_exporter": "python",
   "pygments_lexer": "ipython3",
   "version": "3.7.4"
  }
 },
 "nbformat": 4,
 "nbformat_minor": 2
}
