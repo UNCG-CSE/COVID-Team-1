{
 "cells": [
  {
   "cell_type": "code",
   "execution_count": 17,
   "metadata": {},
   "outputs": [],
   "source": [
    "import pandas as pd\n",
    "\n",
    "data_path = \"../../data/\"\n",
    "covid_path = \"Covid/\"\n",
    "social_path = \"Social/\"\n",
    "cases_file = \"covid_confirmed_usafacts.csv\"\n",
    "deaths_file = \"covid_deaths_usafacts.csv\"\n",
    "social_file = \"main_table.csv\""
   ]
  },
  {
   "cell_type": "markdown",
   "metadata": {},
   "source": [
    "Pick a state and analyze last week of data"
   ]
  },
  {
   "cell_type": "code",
   "execution_count": 21,
   "metadata": {},
   "outputs": [
    {
     "name": "stdout",
     "output_type": "stream",
     "text": [
      "Total Cases\n",
      "9/10/20    181917\n",
      "9/11/20    183449\n",
      "9/12/20    184902\n",
      "9/13/20    186095\n",
      "9/14/20    186936\n",
      "9/15/20    188052\n",
      "9/16/20    189190\n",
      "dtype: int64 \n",
      "\n",
      "New Cases\n",
      "9/10/20    1225\n",
      "9/11/20    1532\n",
      "9/12/20    1453\n",
      "9/13/20    1193\n",
      "9/14/20     841\n",
      "9/15/20    1116\n",
      "9/16/20    1138\n",
      "dtype: int32\n"
     ]
    }
   ],
   "source": [
    "state = \"NC\"\n",
    "df = pd.read_csv(data_path + covid_path + cases_file)\n",
    "last8 = df.columns[-8:]\n",
    "\n",
    "counties = df.loc[df[\"State\"] == state,last8]\n",
    "total_cases = counties.sum()\n",
    "new_cases = total_cases.diff()[1:].astype(int)\n",
    "print(\"Total Cases\")\n",
    "print(total_cases[1:], '\\n')\n",
    "print(\"New Cases\")\n",
    "print(new_cases)"
   ]
  },
  {
   "cell_type": "markdown",
   "metadata": {},
   "source": [
    "Read enrichment data"
   ]
  },
  {
   "cell_type": "code",
   "execution_count": 20,
   "metadata": {},
   "outputs": [
    {
     "name": "stdout",
     "output_type": "stream",
     "text": [
      "Total Deaths\n",
      "9/9/20     2957\n",
      "9/10/20    2990\n",
      "9/11/20    3023\n",
      "9/12/20    3047\n",
      "9/13/20    3052\n",
      "9/14/20    3060\n",
      "9/15/20    3111\n",
      "9/16/20    3149\n",
      "dtype: int64 \n",
      "\n",
      "New Deaths\n",
      "9/10/20    33\n",
      "9/11/20    33\n",
      "9/12/20    24\n",
      "9/13/20     5\n",
      "9/14/20     8\n",
      "9/15/20    51\n",
      "9/16/20    38\n",
      "dtype: int32\n"
     ]
    }
   ],
   "source": [
    "state = \"NC\"\n",
    "df = pd.read_csv(data_path + covid_path + deaths_file)\n",
    "last8 = df.columns[-8:]\n",
    "\n",
    "counties = df.loc[df[\"State\"] == state, last8]\n",
    "total_deaths = counties.sum()\n",
    "new_deaths = total_deaths.diff()[1:].astype(int)\n",
    "print(\"Total Deaths\")\n",
    "print(total_deaths, '\\n')\n",
    "print(\"New Deaths\")\n",
    "print(new_deaths)\n"
   ]
  },
  {
   "cell_type": "markdown",
   "metadata": {},
   "source": [
    "Merge Covid and Enrichment data"
   ]
  },
  {
   "cell_type": "code",
   "execution_count": null,
   "metadata": {},
   "outputs": [],
   "source": []
  }
 ],
 "metadata": {
  "kernelspec": {
   "display_name": "Python 3",
   "language": "python",
   "name": "python3"
  },
  "language_info": {
   "codemirror_mode": {
    "name": "ipython",
    "version": 3
   },
   "file_extension": ".py",
   "mimetype": "text/x-python",
   "name": "python",
   "nbconvert_exporter": "python",
   "pygments_lexer": "ipython3",
   "version": "3.7.4"
  }
 },
 "nbformat": 4,
 "nbformat_minor": 2
}
