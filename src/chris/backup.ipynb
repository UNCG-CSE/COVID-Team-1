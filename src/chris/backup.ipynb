{
 "cells": [
  {
   "cell_type": "markdown",
   "metadata": {},
   "source": [
    "\n",
    "# COVID-Team-1\n",
    "### Dr. Mohanty\n",
    "### Christopher Brantley\n",
    "### CSC 405 01\n",
    "### Last Updated: 10/17/2020\n",
    "### I, Christopher Brantley, have abided by the UNCG academic policy."
   ]
  },
  {
   "cell_type": "code",
   "execution_count": 1,
   "metadata": {},
   "outputs": [],
   "source": [
    "import os \n",
    "os.chdir(\"../\")"
   ]
  },
  {
   "cell_type": "code",
   "execution_count": 2,
   "metadata": {},
   "outputs": [],
   "source": [
    "import ipynb\n",
    "from ipynb.fs.full import covid_data as cd\n",
    "import pandas as pd\n",
    "import matplotlib\n",
    "import matplotlib.pyplot as plt\n",
    "import numpy as np"
   ]
  },
  {
   "cell_type": "code",
   "execution_count": 3,
   "metadata": {},
   "outputs": [],
   "source": [
    "# Telling pandas not convert to html tags.\n",
    "pd.set_option('display.html.table_schema', True)\n",
    "# Max columns and rows to display.\n",
    "pd.set_option('display.max_columns', 800)\n",
    "pd.set_option('display.max_rows', 5)"
   ]
  },
  {
   "cell_type": "markdown",
   "metadata": {},
   "source": [
    "### Data Paths"
   ]
  },
  {
   "cell_type": "code",
   "execution_count": 16,
   "metadata": {},
   "outputs": [],
   "source": [
    "# Relative to \"../\"\n",
    "_florida_daily_cases = \"./chris/DATA/florida_county_daily_cases.csv\"\n",
    "_florida_daily_deaths = \"./chris/DATA/florida_county_daily_deaths.csv\"\n",
    "\n",
    "_florida_weekly_casees = \"./chris/DATA/florida_county_weekly_cases.csv\"\n",
    "_florida_weekly_deaths = \"./chris/DATA/florida_county_weekly_deaths.csv\"\n",
    "\n",
    "_florida_county_stats_cases = \"./chris/DATA/florida_county_stats_cases.csv\"\n",
    "_florida_county_stats_deaths = \"./chris/DATA/florida_county_stats_deaths.csv\""
   ]
  },
  {
   "cell_type": "markdown",
   "metadata": {},
   "source": [
    "# Generate weekly statistics (mean, median, mode) for number of cases and deaths across a specific state.\n"
   ]
  },
  {
   "cell_type": "markdown",
   "metadata": {},
   "source": [
    "### Generating daily new cases for Florida by county."
   ]
  },
  {
   "cell_type": "code",
   "execution_count": 26,
   "metadata": {},
   "outputs": [],
   "source": [
    "def florida_daily_cases_to_csv():\n",
    "    df_primary_data = cd.get_covid_primary_data()\n",
    "    df_florida_cases = df_primary_data[df_primary_data.State == \"FL\"].filter(regex = \"County|cases\")\n",
    "    df_florida_cases.set_index(\"County Name\", inplace = True)\n",
    "    df_daily_cases = pd.DataFrame(index = [df_florida_cases.index])\n",
    "\n",
    "    number_days = len(df_florida_cases.filter(regex = \"cases\").columns)\n",
    "    for day in range(-1, -number_days, -1):\n",
    "        column_name = df_florida_cases.columns[day]\n",
    "        column_value = df_florida_cases.iloc[:, day].sub(df_florida_cases.iloc[:, day - 1]).values\n",
    "        df_daily_cases.insert(0, column_name, column_value)\n",
    "\n",
    "    first_column_name = df_florida_cases.columns[0]\n",
    "    first_column_values = df_florida_cases.iloc[:, 0:1].values\n",
    "    df_daily_cases.insert(0, first_column_name, first_column_values)\n",
    "    df_daily_cases.to_csv(_florida_daily_cases)"
   ]
  },
  {
   "cell_type": "code",
   "execution_count": 27,
   "metadata": {},
   "outputs": [],
   "source": [
    "florida_daily_cases_to_csv()"
   ]
  },
  {
   "cell_type": "markdown",
   "metadata": {},
   "source": [
    "### Generating daily new deaths for Florida by county."
   ]
  },
  {
   "cell_type": "code",
   "execution_count": 31,
   "metadata": {},
   "outputs": [],
   "source": [
    "def florida_daily_deaths_to_csv():\n",
    "    df_primary_data = cd.get_covid_primary_data()\n",
    "    df_florida_deaths = df_primary_data[df_primary_data.State == \"FL\"].filter(regex = \"County|deaths\")\n",
    "    df_florida_deaths.set_index(\"County Name\", inplace = True)\n",
    "    df_daily_deaths = pd.DataFrame(index = [df_florida_deaths.index])\n",
    "\n",
    "    number_days = len(df_florida_deaths.filter(regex = \"deaths\").columns)\n",
    "    for day in range(-1, - number_days, -1):\n",
    "        column_name = df_florida_deaths.columns[day]\n",
    "        column_values = df_florida_deaths.iloc[:, day].sub(df_florida_deaths.iloc[:, day - 1]).values\n",
    "        df_daily_deaths.insert(0, column_name, column_values)\n",
    "\n",
    "    first_column_name = df_florida_deaths.columns[0]\n",
    "    first_column_values = df_florida_deaths.iloc[:, 0:1].values\n",
    "    df_daily_deaths.insert(0, first_column_name, first_column_values)\n",
    "    df_daily_deaths.to_csv(_florida_daily_deaths)"
   ]
  },
  {
   "cell_type": "code",
   "execution_count": 32,
   "metadata": {},
   "outputs": [],
   "source": [
    "florida_daily_deaths_to_csv()"
   ]
  },
  {
   "cell_type": "markdown",
   "metadata": {},
   "source": [
    "### Generating Weekly Cases for Florida by County."
   ]
  },
  {
   "cell_type": "code",
   "execution_count": 33,
   "metadata": {},
   "outputs": [],
   "source": [
    "def florida_weekly_cases_to_csv():\n",
    "    df_county_cases = get_florida_daily_cases()\n",
    "    number_days = df_county_cases.filter(regex = \"cases\").shape[1]\n",
    "    number_weeks = int(((7 - number_days % 7) + number_days) / 7)\n",
    "\n",
    "    index_county = []\n",
    "    index_weeks = []\n",
    "    for county in df_county_cases.index.values:\n",
    "        for week in range(0, number_weeks, 1):\n",
    "            index_county.append(county)\n",
    "            index_weeks.append(\"week \" + str(week + 1))\n",
    "\n",
    "    df_county_weekly = pd.DataFrame(index = [index_county, index_weeks],\\\n",
    "                                   columns = [\"cases\"])\n",
    "    for county in df_county_cases.index.values:\n",
    "        for column in range(0, df_county_cases.shape[1], 7):\n",
    "            df_county_weekly.loc[(county, \"week \" + str((column // 7) + 1))] = \\\n",
    "                df_county_cases.loc[county].iloc[column:column + 7].sum()\n",
    "    df_county_weekly.to_csv(_florida_weekly_casees)"
   ]
  },
  {
   "cell_type": "code",
   "execution_count": 34,
   "metadata": {},
   "outputs": [],
   "source": [
    "florida_weekly_cases_to_csv()"
   ]
  },
  {
   "cell_type": "markdown",
   "metadata": {},
   "source": [
    "### Generating Weekly Deaths for Florida by County."
   ]
  },
  {
   "cell_type": "code",
   "execution_count": 47,
   "metadata": {},
   "outputs": [],
   "source": [
    "def florida_weekly_deaths_to_csv():\n",
    "    df_county_deaths = get_florida_daily_deaths()\n",
    "    number_days = df_county_deaths.filter(regex = \"deaths\").shape[1]\n",
    "    number_weeks = int(((7 - number_days % 7) + number_days) / 7)\n",
    "    \n",
    "    index_county = []\n",
    "    index_weeks = []\n",
    "    for county in df_county_deaths.index.values:\n",
    "        for week in range(0, number_weeks, 1):\n",
    "            index_county.append(county)\n",
    "            index_weeks.append(\"week \" + str(week + 1))\n",
    "    df_county_weekly = pd.DataFrame(index = [index_county, index_weeks],\n",
    "                                    columns = [\"deaths\"])\n",
    "    for county in df_county_deaths.index.values:\n",
    "        for column in range(0, df_county_deaths.shape[1], 7):\n",
    "            df_county_weekly.loc[(county, \"week \" + str((column // 7) + 1))] = \\\n",
    "                df_county_deaths.loc[county].iloc[column:column + 7].sum()\n",
    "    df_county_weekly.to_csv(_florida_weekly_deaths)"
   ]
  },
  {
   "cell_type": "code",
   "execution_count": 48,
   "metadata": {},
   "outputs": [],
   "source": [
    "florida_weekly_deaths_to_csv()"
   ]
  },
  {
   "cell_type": "markdown",
   "metadata": {},
   "source": [
    "### Accessor methods for Floriday Daily Cases and Deaths."
   ]
  },
  {
   "cell_type": "code",
   "execution_count": 38,
   "metadata": {},
   "outputs": [],
   "source": [
    "# Accessor method for Florida daily cases by county.\n",
    "def get_florida_daily_cases():\n",
    "    \"\"\"Returns dataframe containing Florida daily cases by county.\"\"\"\n",
    "    try:\n",
    "        return pd.read_csv(_florida_daily_cases, index_col=[0])\n",
    "    except:\n",
    "        florida_daily_cases_to_csv(_cases)\n",
    "        return pd.read_csv(_florida_daily_deaths, index_col=[0])\n",
    "    \n",
    "# Accessor method for Florida daily deaths by county.\n",
    "def get_florida_daily_deaths():\n",
    "    \"\"\"Returns dataframe containing Florida daily deaths by county.\"\"\"\n",
    "    try:\n",
    "        return pd.read_csv(_florida_daily_deaths, index_col=[0])\n",
    "    except:\n",
    "        florida_daily_deaths_to_csv(_deaths)\n",
    "        return pd.read_csv(_florida_daily_deaths, index_col=[0])"
   ]
  },
  {
   "cell_type": "markdown",
   "metadata": {},
   "source": [
    "### Accessor Methods for Florida Daily Cases and Deaths"
   ]
  },
  {
   "cell_type": "code",
   "execution_count": 53,
   "metadata": {},
   "outputs": [],
   "source": [
    "# Accessor method for Florida weekly cases by county.\n",
    "def get_florida_weekly_cases():\n",
    "    \"\"\"Returns dataframe containing Florida weekly cases by county.\"\"\"\n",
    "    try:\n",
    "        return pd.read_csv(_florida_weekly_casees, index_col=[0,1])\n",
    "    except:\n",
    "        florida_weekly_cases_to_csv()\n",
    "        return pd.read_csv(_florida_weekly_casees, index_col=[0,1])\n",
    "    \n",
    "# Accessor method for Florida weekly deaths by county.\n",
    "def get_florida_weekly_deaths():\n",
    "    \"\"\"Returns dataframe containing Florida weekly deaths by county.\"\"\"\n",
    "    try:\n",
    "        return pd.read_csv(_florida_weekly_deaths, index_col=[0,1])\n",
    "    except:\n",
    "        return pd.read_csv(_florida_weekly_deaths, index_col=[0,1])"
   ]
  },
  {
   "cell_type": "markdown",
   "metadata": {},
   "source": [
    "### Normalizing Cases and Deaths to 100,000"
   ]
  },
  {
   "cell_type": "code",
   "execution_count": null,
   "metadata": {},
   "outputs": [],
   "source": []
  },
  {
   "cell_type": "markdown",
   "metadata": {},
   "source": [
    "### Generating Weekly Case Stats for Florida by county."
   ]
  },
  {
   "cell_type": "code",
   "execution_count": null,
   "metadata": {},
   "outputs": [],
   "source": []
  },
  {
   "cell_type": "code",
   "execution_count": 40,
   "metadata": {},
   "outputs": [
    {
     "data": {
      "application/vnd.dataresource+json": {
       "data": [
        {
         "level_0": "Alachua County",
         "mean": 72.4,
         "median": 19,
         "mode": 0
        },
        {
         "level_0": "Baker County",
         "mean": 132.3714285714,
         "median": 14,
         "mode": 0
        },
        {
         "level_0": "Bay County",
         "mean": 93.7142857143,
         "median": 7,
         "mode": 0
        },
        {
         "level_0": "Bradford County",
         "mean": 97.6,
         "median": 14,
         "mode": 0
        },
        {
         "level_0": "Brevard County",
         "mean": 38.4,
         "median": 8,
         "mode": 0
        }
       ],
       "schema": {
        "fields": [
         {
          "name": "index",
          "type": "string"
         },
         {
          "name": "mean",
          "type": "string"
         },
         {
          "name": "median",
          "type": "string"
         },
         {
          "name": "mode",
          "type": "string"
         }
        ],
        "pandas_version": "0.20.0",
        "primaryKey": [
         "index"
        ]
       }
      },
      "text/html": [
       "<div>\n",
       "<style scoped>\n",
       "    .dataframe tbody tr th:only-of-type {\n",
       "        vertical-align: middle;\n",
       "    }\n",
       "\n",
       "    .dataframe tbody tr th {\n",
       "        vertical-align: top;\n",
       "    }\n",
       "\n",
       "    .dataframe thead th {\n",
       "        text-align: right;\n",
       "    }\n",
       "</style>\n",
       "<table border=\"1\" class=\"dataframe\">\n",
       "  <thead>\n",
       "    <tr style=\"text-align: right;\">\n",
       "      <th></th>\n",
       "      <th>mean</th>\n",
       "      <th>median</th>\n",
       "      <th>mode</th>\n",
       "    </tr>\n",
       "  </thead>\n",
       "  <tbody>\n",
       "    <tr>\n",
       "      <th>Alachua County</th>\n",
       "      <td>72.4</td>\n",
       "      <td>19</td>\n",
       "      <td>0</td>\n",
       "    </tr>\n",
       "    <tr>\n",
       "      <th>Baker County</th>\n",
       "      <td>132.371</td>\n",
       "      <td>14</td>\n",
       "      <td>0</td>\n",
       "    </tr>\n",
       "    <tr>\n",
       "      <th>...</th>\n",
       "      <td>...</td>\n",
       "      <td>...</td>\n",
       "      <td>...</td>\n",
       "    </tr>\n",
       "    <tr>\n",
       "      <th>Walton County</th>\n",
       "      <td>71.5714</td>\n",
       "      <td>20</td>\n",
       "      <td>0</td>\n",
       "    </tr>\n",
       "    <tr>\n",
       "      <th>Washington County</th>\n",
       "      <td>117.971</td>\n",
       "      <td>16</td>\n",
       "      <td>0</td>\n",
       "    </tr>\n",
       "  </tbody>\n",
       "</table>\n",
       "<p>67 rows × 3 columns</p>\n",
       "</div>"
      ],
      "text/plain": [
       "                      mean median mode\n",
       "Alachua County        72.4     19    0\n",
       "Baker County       132.371     14    0\n",
       "...                    ...    ...  ...\n",
       "Walton County      71.5714     20    0\n",
       "Washington County  117.971     16    0\n",
       "\n",
       "[67 rows x 3 columns]"
      ]
     },
     "metadata": {},
     "output_type": "display_data"
    }
   ],
   "source": [
    "df_primary_data = cd.get_covid_primary_data()\n",
    "df_florida_pop = df_primary_data[df_primary_data.State == \"FL\"].filter(regex = \"County|population\")\n",
    "df_florida_pop.set_index(\"County Name\", inplace = True)\n",
    "df_weekly_normalized = get_florida_weekly_cases()\n",
    "# Normalizng cases to 100,000.\n",
    "for county in df_weekly_normalized.index.get_level_values(0).unique():\n",
    "    pop = df_florida_pop.loc[county, \"population\"]\n",
    "    df_weekly_normalized.loc[county, :] = \\\n",
    "    df_weekly_normalized.loc[county, :].apply(lambda x: round(((x / pop) * 100000), 0)).values\n",
    "\n",
    "df_county_normalized = pd.DataFrame(index = [df_weekly_normalized.index.get_level_values(0).unique()],\\\n",
    "                               columns = [\"mean\", \"median\", \"mode\"])\n",
    "for county in df_weekly_normalized.index.get_level_values(0).unique():\n",
    "    df_county_normalized.loc[county, \"mean\"] = df_weekly_normalized.loc[county].mean()[0]\n",
    "    df_county_normalized.loc[county, \"median\"] = df_weekly_normalized.loc[county].median()[0]\n",
    "    df_county_normalized.loc[county, \"mode\"] = df_weekly_normalized.loc[county].mode().values[0,0]\n",
    "df_county_normalized.to_csv(_florida_county_stats_cases)\n",
    "display(df_county_normalized)"
   ]
  },
  {
   "cell_type": "code",
   "execution_count": 55,
   "metadata": {},
   "outputs": [
    {
     "data": {
      "application/vnd.dataresource+json": {
       "data": [
        {
         "level_0": "Alachua County",
         "mean": 0.4,
         "median": 0,
         "mode": 0
        },
        {
         "level_0": "Baker County",
         "mean": 1.0285714286,
         "median": 0,
         "mode": 0
        },
        {
         "level_0": "Bay County",
         "mean": 1.6285714286,
         "median": 0,
         "mode": 0
        },
        {
         "level_0": "Bradford County",
         "mean": 0.6857142857,
         "median": 0,
         "mode": 0
        },
        {
         "level_0": "Brevard County",
         "mean": 1.1714285714,
         "median": 0,
         "mode": 0
        }
       ],
       "schema": {
        "fields": [
         {
          "name": "index",
          "type": "string"
         },
         {
          "name": "mean",
          "type": "string"
         },
         {
          "name": "median",
          "type": "string"
         },
         {
          "name": "mode",
          "type": "string"
         }
        ],
        "pandas_version": "0.20.0",
        "primaryKey": [
         "index"
        ]
       }
      },
      "text/html": [
       "<div>\n",
       "<style scoped>\n",
       "    .dataframe tbody tr th:only-of-type {\n",
       "        vertical-align: middle;\n",
       "    }\n",
       "\n",
       "    .dataframe tbody tr th {\n",
       "        vertical-align: top;\n",
       "    }\n",
       "\n",
       "    .dataframe thead th {\n",
       "        text-align: right;\n",
       "    }\n",
       "</style>\n",
       "<table border=\"1\" class=\"dataframe\">\n",
       "  <thead>\n",
       "    <tr style=\"text-align: right;\">\n",
       "      <th></th>\n",
       "      <th>mean</th>\n",
       "      <th>median</th>\n",
       "      <th>mode</th>\n",
       "    </tr>\n",
       "  </thead>\n",
       "  <tbody>\n",
       "    <tr>\n",
       "      <th>Alachua County</th>\n",
       "      <td>0.4</td>\n",
       "      <td>0</td>\n",
       "      <td>0</td>\n",
       "    </tr>\n",
       "    <tr>\n",
       "      <th>Baker County</th>\n",
       "      <td>1.02857</td>\n",
       "      <td>0</td>\n",
       "      <td>0</td>\n",
       "    </tr>\n",
       "    <tr>\n",
       "      <th>...</th>\n",
       "      <td>...</td>\n",
       "      <td>...</td>\n",
       "      <td>...</td>\n",
       "    </tr>\n",
       "    <tr>\n",
       "      <th>Walton County</th>\n",
       "      <td>0.828571</td>\n",
       "      <td>0</td>\n",
       "      <td>0</td>\n",
       "    </tr>\n",
       "    <tr>\n",
       "      <th>Washington County</th>\n",
       "      <td>2.05714</td>\n",
       "      <td>0</td>\n",
       "      <td>0</td>\n",
       "    </tr>\n",
       "  </tbody>\n",
       "</table>\n",
       "<p>67 rows × 3 columns</p>\n",
       "</div>"
      ],
      "text/plain": [
       "                       mean median mode\n",
       "Alachua County          0.4      0    0\n",
       "Baker County        1.02857      0    0\n",
       "...                     ...    ...  ...\n",
       "Walton County      0.828571      0    0\n",
       "Washington County   2.05714      0    0\n",
       "\n",
       "[67 rows x 3 columns]"
      ]
     },
     "metadata": {},
     "output_type": "display_data"
    }
   ],
   "source": [
    "df_primary_data = cd.get_covid_primary_data()\n",
    "df_florida_pop = df_primary_data[df_primary_data.State == \"FL\"].filter(regex = \"County|population\")\n",
    "df_florida_pop.set_index(\"County Name\", inplace = True)\n",
    "df_weekly_normalized = get_florida_weekly_deaths()\n",
    "for county in df_weekly_normalized.index.get_level_values(0).unique():\n",
    "    pop = df_florida_pop.loc[county, \"population\"]\n",
    "    df_weekly_normalized.loc[county, :] = \\\n",
    "    df_weekly_normalized.loc[county, :].apply(lambda x: round(((x / pop) * 100000), 0)).values\n",
    "\n",
    "df_county_normalized = pd.DataFrame(index = [df_weekly_normalized.index.get_level_values(0).unique()],\\\n",
    "                               columns = [\"mean\", \"median\", \"mode\"])\n",
    "for county in df_weekly_normalized.index.get_level_values(0).unique():\n",
    "    df_county_normalized.loc[county, \"mean\"] = df_weekly_normalized.loc[county].mean()[0]\n",
    "    df_county_normalized.loc[county, \"median\"] = df_weekly_normalized.loc[county].median()[0]\n",
    "    df_county_normalized.loc[county, \"mode\"] = df_weekly_normalized.loc[county].mode().values[0,0]\n",
    "df_county_normalized.to_csv(_florida_county_stats_cases)\n",
    "display(df_county_normalized)"
   ]
  },
  {
   "cell_type": "code",
   "execution_count": 56,
   "metadata": {},
   "outputs": [
    {
     "data": {
      "application/vnd.dataresource+json": {
       "data": [
        {
         "level_0": "Alachua County",
         "mean": 0.4,
         "median": 0,
         "mode": 0
        },
        {
         "level_0": "Baker County",
         "mean": 1.0285714286,
         "median": 0,
         "mode": 0
        },
        {
         "level_0": "Bay County",
         "mean": 1.6285714286,
         "median": 0,
         "mode": 0
        },
        {
         "level_0": "Bradford County",
         "mean": 0.6857142857,
         "median": 0,
         "mode": 0
        },
        {
         "level_0": "Brevard County",
         "mean": 1.1714285714,
         "median": 0,
         "mode": 0
        }
       ],
       "schema": {
        "fields": [
         {
          "name": "index",
          "type": "string"
         },
         {
          "name": "mean",
          "type": "string"
         },
         {
          "name": "median",
          "type": "string"
         },
         {
          "name": "mode",
          "type": "string"
         }
        ],
        "pandas_version": "0.20.0",
        "primaryKey": [
         "index"
        ]
       }
      },
      "text/html": [
       "<div>\n",
       "<style scoped>\n",
       "    .dataframe tbody tr th:only-of-type {\n",
       "        vertical-align: middle;\n",
       "    }\n",
       "\n",
       "    .dataframe tbody tr th {\n",
       "        vertical-align: top;\n",
       "    }\n",
       "\n",
       "    .dataframe thead th {\n",
       "        text-align: right;\n",
       "    }\n",
       "</style>\n",
       "<table border=\"1\" class=\"dataframe\">\n",
       "  <thead>\n",
       "    <tr style=\"text-align: right;\">\n",
       "      <th></th>\n",
       "      <th>mean</th>\n",
       "      <th>median</th>\n",
       "      <th>mode</th>\n",
       "    </tr>\n",
       "  </thead>\n",
       "  <tbody>\n",
       "    <tr>\n",
       "      <th>Alachua County</th>\n",
       "      <td>0.4</td>\n",
       "      <td>0</td>\n",
       "      <td>0</td>\n",
       "    </tr>\n",
       "    <tr>\n",
       "      <th>Baker County</th>\n",
       "      <td>1.02857</td>\n",
       "      <td>0</td>\n",
       "      <td>0</td>\n",
       "    </tr>\n",
       "    <tr>\n",
       "      <th>...</th>\n",
       "      <td>...</td>\n",
       "      <td>...</td>\n",
       "      <td>...</td>\n",
       "    </tr>\n",
       "    <tr>\n",
       "      <th>Walton County</th>\n",
       "      <td>0.828571</td>\n",
       "      <td>0</td>\n",
       "      <td>0</td>\n",
       "    </tr>\n",
       "    <tr>\n",
       "      <th>Washington County</th>\n",
       "      <td>2.05714</td>\n",
       "      <td>0</td>\n",
       "      <td>0</td>\n",
       "    </tr>\n",
       "  </tbody>\n",
       "</table>\n",
       "<p>67 rows × 3 columns</p>\n",
       "</div>"
      ],
      "text/plain": [
       "                       mean median mode\n",
       "Alachua County          0.4      0    0\n",
       "Baker County        1.02857      0    0\n",
       "...                     ...    ...  ...\n",
       "Walton County      0.828571      0    0\n",
       "Washington County   2.05714      0    0\n",
       "\n",
       "[67 rows x 3 columns]"
      ]
     },
     "metadata": {},
     "output_type": "display_data"
    }
   ],
   "source": [
    "df_primary_data = cd.get_covid_primary_data()\n",
    "df_florida_pop = df_primary_data[df_primary_data.State == \"FL\"].filter(regex = \"County|population\")\n",
    "df_florida_pop.set_index(\"County Name\", inplace = True)\n",
    "df_weekly_normalized = get_florida_weekly_deaths()\n",
    "\n",
    "for county in df_weekly_normalized.index.get_level_values(0).unique():\n",
    "    pop = df_florida_pop.loc[county, \"population\"]\n",
    "    df_weekly_normalized.loc[county, :] = \\\n",
    "    df_weekly_normalized.loc[county, :].apply(lambda x: round(((x / pop) * 100000), 0)).values\n",
    "\n",
    "df_daily_deaths = get_florida_weekly_cases()\n",
    "df_county_normalized = pd.DataFrame(index = [df_weekly_normalized.index.get_level_values(0).unique()],\\\n",
    "                               columns = [\"mean\", \"median\", \"mode\"])\n",
    "for county in df_weekly_normalized.index.get_level_values(0).unique():\n",
    "    df_county_normalized.loc[county, \"mean\"] = df_weekly_normalized.loc[county].mean()[0]\n",
    "    df_county_normalized.loc[county, \"median\"] = df_weekly_normalized.loc[county].median()[0]\n",
    "    df_county_normalized.loc[county, \"mode\"] = df_weekly_normalized.loc[county].mode().values[0,0]\n",
    "df_county_normalized.to_csv(_florida_county_stats_cases)\n",
    "display(df_county_normalized)"
   ]
  },
  {
   "cell_type": "code",
   "execution_count": null,
   "metadata": {},
   "outputs": [],
   "source": []
  },
  {
   "cell_type": "code",
   "execution_count": null,
   "metadata": {},
   "outputs": [],
   "source": []
  },
  {
   "cell_type": "code",
   "execution_count": null,
   "metadata": {},
   "outputs": [],
   "source": []
  },
  {
   "cell_type": "code",
   "execution_count": null,
   "metadata": {},
   "outputs": [],
   "source": [
    "df_primary_data = cd.get_covid_primary_data()\n",
    "number_days = df_primary_data.filter(regex = \"cases\").shape[1]\n",
    "number_weeks = (number_days // 7) + 1\n",
    "index_state = []\n",
    "index_week = []\n",
    "for state in df_primary_data.State.unique().tolist():\n",
    "    for week in range(1, number_weeks, 1):\n",
    "        index_state.append(state)\n",
    "        index_week.append(\"week \" + str(week))\n",
    "df_weekly_cases = pd.DataFrame(index = [index_state, index_week],\n",
    "                               columns = [\"mean\", \"median\", \"mode\"])\n",
    "for state in df_weekly_cases.index.get_level_values(0).unique():\n",
    "    df_state = df_primary_data[df_primary_data.State == state]\n",
    "    for week in range(0, number_weeks - 1, 1):\n",
    "        df_day = df_state.filter(regex = \"cases\")\\\n",
    "                .iloc[: , (week * 7) + 7]\n",
    "        df_weekly_cases.loc[(state, (\"week \" + str(week + 1))), \"mean\"] = df_day.mean()\n",
    "        df_weekly_cases.loc[(state, (\"week \" + str(week + 1))), \"median\"] = df_day.median()\n",
    "        df_weekly_cases.loc[(state, (\"week \" + str(week + 1))), \"mode\"] = df_day.mode().mode()[0]\n",
    "display(df_weekly_cases)"
   ]
  },
  {
   "cell_type": "code",
   "execution_count": null,
   "metadata": {},
   "outputs": [],
   "source": [
    "df_primary_data = cd.get_covid_primary_data()\n",
    "df_primary_cases = df_primary_data[df_primary_data.State == \"FL\"].filter(regex = \"County|State|case\")\n",
    "number_days = df_primary_cases.filter(regex = \"cases\").shape[1]\n",
    "df_florida_cases = pd.DataFrame(index = [\"week \" + str(day) for day in range(1, (number_days // 7) + 1, 1)],\n",
    "                                columns = [\"sum\"])\n",
    "week_count = 0\n",
    "\n",
    "for lower_range in range(2, df_primary_cases.filter(regex = \"cases\").shape[1], 7):\n",
    "    df_florida_cases.iloc[week_count] = df_primary_cases.iloc[:, lower_range:lower_range + 7].sum().sum()\n",
    "    week_count += 1\n",
    "display(df_florida_cases)"
   ]
  },
  {
   "cell_type": "markdown",
   "metadata": {},
   "source": [
    "### Compare the data against other states."
   ]
  },
  {
   "cell_type": "code",
   "execution_count": null,
   "metadata": {},
   "outputs": [],
   "source": []
  },
  {
   "cell_type": "markdown",
   "metadata": {},
   "source": [
    "### Identify counties with high case and death rates."
   ]
  },
  {
   "cell_type": "markdown",
   "metadata": {},
   "source": [
    "### Plot daily trends (cases and deaths, new cases) of state and top 5 infected counties. Utilize aggregrate, normalized by population, and log normalized values."
   ]
  },
  {
   "cell_type": "code",
   "execution_count": null,
   "metadata": {},
   "outputs": [],
   "source": []
  },
  {
   "cell_type": "code",
   "execution_count": null,
   "metadata": {},
   "outputs": [],
   "source": []
  },
  {
   "cell_type": "code",
   "execution_count": null,
   "metadata": {},
   "outputs": [],
   "source": []
  }
 ],
 "metadata": {
  "kernelspec": {
   "display_name": "Python 3",
   "language": "python",
   "name": "python3"
  },
  "language_info": {
   "codemirror_mode": {
    "name": "ipython",
    "version": 3
   },
   "file_extension": ".py",
   "mimetype": "text/x-python",
   "name": "python",
   "nbconvert_exporter": "python",
   "pygments_lexer": "ipython3",
   "version": "3.8.5"
  }
 },
 "nbformat": 4,
 "nbformat_minor": 4
}
