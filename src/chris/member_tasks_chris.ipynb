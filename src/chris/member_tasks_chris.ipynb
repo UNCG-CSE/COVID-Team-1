{
 "cells": [
  {
   "cell_type": "markdown",
   "metadata": {},
   "source": [
    "### Changing Directory."
   ]
  },
  {
   "cell_type": "code",
   "execution_count": null,
   "metadata": {},
   "outputs": [],
   "source": [
    "cd .."
   ]
  },
  {
   "cell_type": "markdown",
   "metadata": {},
   "source": [
    "### Importing Modules."
   ]
  },
  {
   "cell_type": "code",
   "execution_count": null,
   "metadata": {},
   "outputs": [],
   "source": [
    "# Import sets up ipynb's to be accessible through \"ipynb.fs.full/def\".\n",
    "import ipynb\n",
    "# ipynb.fs.full allows access to all functions and definitions.\n",
    "from ipynb.fs.full import covid_data as cd\n",
    "# Access to dataframe objects and manipualators.\n",
    "import pandas as pd\n",
    "# Numpy will be used to generate ranges of numbers.\n",
    "import numpy as np"
   ]
  },
  {
   "cell_type": "markdown",
   "metadata": {},
   "source": [
    "### Setting Pandas Display Options."
   ]
  },
  {
   "cell_type": "code",
   "execution_count": null,
   "metadata": {},
   "outputs": [],
   "source": [
    "# Telling pandas not convert to html tags.\n",
    "pd.set_option('display.notebook_repr_html', False)\n",
    "# Max columns and rows to display.\n",
    "pd.set_option('display.max_columns', 12)\n",
    "pd.set_option('display.max_rows', 10)"
   ]
  },
  {
   "cell_type": "markdown",
   "metadata": {},
   "source": [
    "### Specifying the Names of the Attributes we will be using."
   ]
  },
  {
   "cell_type": "code",
   "execution_count": null,
   "metadata": {},
   "outputs": [],
   "source": [
    "attributes_DP = [\"GEO_ID\", \"DP05_0002E\",\"DP05_0003E\"\\\n",
    "                , \"DP05_0004E\",\"DP05_0019E\", \"DP05_0021E\"\\\n",
    "                , \"DP05_0023E\", \"DP05_0018E\", \"DP05_0086E\"]\n",
    "\n",
    "attribute_names = [\"GEO_ID\", \"population_male\", \"population_female\"\\\n",
    "                 , \"sex_ratio\", \"under_18\", \"over_18\"\\\n",
    "                 , \"over_or_62\", \"median_age\", \"total_housing\"]\n",
    "\n",
    "# Reverse is necessary to give the desired order when populating DataFrame.\n",
    "attributes_DP.reverse()\n",
    "attribute_names.reverse()"
   ]
  },
  {
   "cell_type": "markdown",
   "metadata": {},
   "source": [
    "### Creating our Dataframe."
   ]
  },
  {
   "cell_type": "code",
   "execution_count": null,
   "metadata": {},
   "outputs": [],
   "source": [
    "# Reading in general data.\n",
    "df_housing = pd.read_csv(cd._housing_demographics_path)\n",
    "df_housing_modified = pd.DataFrame()\n",
    "\n",
    "# Pulling out the attributes and names that we specified above.\n",
    "# The first row is given the attribute name, we will later reset the columns to the first row.\n",
    "for attribute, name in zip(attributes_DP, attribute_names):\n",
    "    df_housing_modified.insert(0, attribute, df_housing[attribute])\n",
    "    df_housing_modified[attribute][0] = (name)\n",
    "# Linear comprehension is used to create a series consisting of the last five digits of each GEO_ID, yields countyFIPS.\n",
    "countyFIPS_Series = pd.Series([\"countyFIPS\"]).append(pd.Series([int(x[-5:]) for x in df_housing_modified[\"GEO_ID\"][1::]], dtype = int))\n",
    "# Because of the concatenation of two series (duplicates exist), we must reset the index.\n",
    "countyFIPS_Series.index = np.arange(0,len(countyFIPS_Series))\n",
    "# We insert our new attribute into the first position of our dataframe.\n",
    "df_housing_modified.insert(0, \"countyFIPS\", countyFIPS_Series)\n",
    "# We drop \"GEO_ID\", it is no longer needed.\n",
    "df_housing_modified.drop(\"GEO_ID\", axis = 1, inplace = True)\n",
    "# We unobfuscate our column names.\n",
    "df_housing_modified.columns = df_housing_modified.iloc[0]\n",
    "# We drop our first row, column names now represent this data).\n",
    "df_housing_modified.drop(0,inplace = True)"
   ]
  },
  {
   "cell_type": "code",
   "execution_count": null,
   "metadata": {},
   "outputs": [],
   "source": [
    "df_housing_modified"
   ]
  },
  {
   "cell_type": "code",
   "execution_count": null,
   "metadata": {},
   "outputs": [],
   "source": [
    "df_covid = cd.get_covid_primary_data()\n",
    "df_covid = pd.merge(df_covid, df_housing_modified, how = \"inner\")"
   ]
  },
  {
   "cell_type": "code",
   "execution_count": 8,
   "metadata": {},
   "outputs": [
    {
     "data": {
      "text/plain": [
       "    countyFIPS       County Name State  stateFIPS  cases - 1/22/20  \\\n",
       "0         1003    Baldwin County    AL          1                0   \n",
       "1         1015    Calhoun County    AL          1                0   \n",
       "2         1043    Cullman County    AL          1                0   \n",
       "3         1049     DeKalb County    AL          1                0   \n",
       "4         1051     Elmore County    AL          1                0   \n",
       "..         ...               ...   ...        ...              ...   \n",
       "813      55133   Waukesha County    WI         55                0   \n",
       "814      55139  Winnebago County    WI         55                0   \n",
       "815      55141       Wood County    WI         55                0   \n",
       "816      56021    Laramie County    WY         56                0   \n",
       "817      56025    Natrona County    WY         56                0   \n",
       "\n",
       "     cases - 1/23/20  ...  sex_ratio  under_18  over_18  over_or_62  \\\n",
       "0                  0  ...       93.7     47156   170866       53676   \n",
       "1                  0  ...       93.0     24484    89793       24963   \n",
       "2                  0  ...       95.7     18892    64550       18429   \n",
       "3                  0  ...       96.5     17145    54240       15204   \n",
       "4                  0  ...       95.4     18562    63325       15329   \n",
       "..               ...  ...        ...       ...      ...         ...   \n",
       "813                0  ...       96.7     86697   316375       94508   \n",
       "814                0  ...      101.9     34900   136120       33963   \n",
       "815                0  ...       99.0     15666    57389       18315   \n",
       "816                0  ...      100.5     23122    75854       20414   \n",
       "817                0  ...      101.3     18914    60201       15219   \n",
       "\n",
       "     median_age  total_housing  \n",
       "0          44.0         116632  \n",
       "1          40.1          53888  \n",
       "2          40.6          38029  \n",
       "3          39.5          31656  \n",
       "4          38.4          34416  \n",
       "..          ...            ...  \n",
       "813        43.2         166662  \n",
       "814        38.8          76015  \n",
       "815        43.9          35186  \n",
       "816        37.9          43892  \n",
       "817        37.2          37181  \n",
       "\n",
       "[818 rows x 441 columns]"
      ]
     },
     "execution_count": 8,
     "metadata": {},
     "output_type": "execute_result"
    }
   ],
   "source": [
    "df_covid"
   ]
  }
 ],
 "metadata": {
  "kernelspec": {
   "display_name": "Python 3",
   "language": "python",
   "name": "python3"
  },
  "language_info": {
   "codemirror_mode": {
    "name": "ipython",
    "version": 3
   },
   "file_extension": ".py",
   "mimetype": "text/x-python",
   "name": "python",
   "nbconvert_exporter": "python",
   "pygments_lexer": "ipython3",
   "version": "3.7.4"
  }
 },
 "nbformat": 4,
 "nbformat_minor": 2
}
