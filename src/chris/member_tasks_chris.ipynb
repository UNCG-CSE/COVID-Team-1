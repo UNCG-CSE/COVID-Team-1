{
 "cells": [
  {
   "cell_type": "markdown",
   "metadata": {},
   "source": [
    "\n",
    "# COVID-Team-1\n",
    "### Dr. Mohanty\n",
    "### Christopher Brantley\n",
    "### CSC 405 01\n",
    "### Last Updated: 09/20/2020\n",
    "### I, Christopher Brantley, have abided by the UNCG academic policy."
   ]
  },
  {
   "cell_type": "code",
   "execution_count": 1,
   "metadata": {
    "scrolled": true
   },
   "outputs": [
    {
     "data": {
      "text/plain": [
       "'Displays the Demographics and Housing enrichment dataframe, \\ndemonstrates the merging of the enrichment data with the primary data, \\nand shows calculated trends for the last week of Covid data.\\n'"
      ]
     },
     "execution_count": 1,
     "metadata": {},
     "output_type": "execute_result"
    }
   ],
   "source": [
    "\"\"\"Displays the Demographics and Housing enrichment dataframe, \n",
    "demonstrates the merging of the enrichment data with the primary data, \n",
    "and shows calculated trends for the last week of Covid data.\n",
    "\"\"\""
   ]
  },
  {
   "cell_type": "markdown",
   "metadata": {},
   "source": [
    "### Changing Directory."
   ]
  },
  {
   "cell_type": "code",
   "execution_count": 2,
   "metadata": {},
   "outputs": [
    {
     "name": "stdout",
     "output_type": "stream",
     "text": [
      "/home/ryzen3200g/Documents/UNCG/fall_2020/csc405/COVID-Team-1/src\n"
     ]
    }
   ],
   "source": [
    "cd .."
   ]
  },
  {
   "cell_type": "markdown",
   "metadata": {},
   "source": [
    "### Importing Modules."
   ]
  },
  {
   "cell_type": "code",
   "execution_count": 3,
   "metadata": {},
   "outputs": [],
   "source": [
    "# Import sets up ipynb's to be accessible through \"ipynb.fs.full/def\".\n",
    "import ipynb\n",
    "# ipynb.fs.full allows access to all functions and definitions.\n",
    "from ipynb.fs.full import covid_data as cd\n",
    "# Access to dataframe objects and manipualators.\n",
    "import pandas as pd\n",
    "# Numpy will be used to generate ranges of numbers.\n",
    "import numpy as np"
   ]
  },
  {
   "cell_type": "markdown",
   "metadata": {},
   "source": [
    "### Setting Pandas Display Options."
   ]
  },
  {
   "cell_type": "code",
   "execution_count": 4,
   "metadata": {},
   "outputs": [],
   "source": [
    "# Telling pandas not convert to html tags.\n",
    "pd.set_option('display.notebook_repr_html', False)\n",
    "# Max columns and rows to display.\n",
    "pd.set_option('display.max_columns', 7)\n",
    "pd.set_option('display.max_rows', 5)"
   ]
  },
  {
   "cell_type": "markdown",
   "metadata": {},
   "source": [
    "### Specifying the Names of the Attributes we will be using."
   ]
  },
  {
   "cell_type": "code",
   "execution_count": 5,
   "metadata": {},
   "outputs": [],
   "source": [
    "attributes_DP = [\"GEO_ID\", \"DP05_0002E\",\"DP05_0003E\"\\\n",
    "                , \"DP05_0004E\",\"DP05_0019E\", \"DP05_0021E\"\\\n",
    "                , \"DP05_0023E\", \"DP05_0018E\", \"DP05_0086E\"]\n",
    "\n",
    "attribute_names = [\"GEO_ID\", \"population_male\", \"population_female\"\\\n",
    "                 , \"sex_ratio\", \"under_18\", \"over_18\"\\\n",
    "                 , \"over_or_62\", \"median_age\", \"total_housing\"]\n",
    "\n",
    "# Reverse is necessary to give the desired order when populating DataFrame.\n",
    "attributes_DP.reverse()\n",
    "attribute_names.reverse()"
   ]
  },
  {
   "cell_type": "markdown",
   "metadata": {},
   "source": [
    "### Creating our Dataframe."
   ]
  },
  {
   "cell_type": "code",
   "execution_count": 6,
   "metadata": {},
   "outputs": [],
   "source": [
    "# Reading in general data.\n",
    "df_housing = pd.read_csv(cd._housing_demographics_path)\n",
    "df_housing_modified = pd.DataFrame()\n",
    "\n",
    "# Pulling out the attributes that we specified above.\n",
    "# The first row is given the attribute name, we will later reset the columns to the first row's values.\n",
    "for attribute, name in zip(attributes_DP, attribute_names):\n",
    "    df_housing_modified.insert(0, attribute, df_housing[attribute])\n",
    "    df_housing_modified[attribute][0] = (name)\n",
    "# Linear comprehension is used to create a series consisting of the last five digits of each GEO_ID, yields countyFIPS.\n",
    "countyFIPS_Series = pd.Series([\"countyFIPS\"]).append(pd.Series([int(x[-5:]) for x in df_housing_modified[\"GEO_ID\"][1::]], dtype = int))\n",
    "# Because of the concatenation of two series (duplicates exist), we must reset the index.\n",
    "countyFIPS_Series.index = np.arange(0,len(countyFIPS_Series))\n",
    "# We insert our new attribute into the first position of our dataframe.\n",
    "df_housing_modified.insert(0, \"countyFIPS\", countyFIPS_Series)\n",
    "# We drop \"GEO_ID\", it is no longer needed.\n",
    "df_housing_modified.drop(\"GEO_ID\", axis = 1, inplace = True)\n",
    "# We unobfuscate our column names.\n",
    "df_housing_modified.columns = df_housing_modified.iloc[0]\n",
    "# We drop our first row, the column names now represent this data).\n",
    "df_housing_modified.drop(0,inplace = True)"
   ]
  },
  {
   "cell_type": "markdown",
   "metadata": {},
   "source": [
    "### Display of Housing and Demographics Dataframe."
   ]
  },
  {
   "cell_type": "code",
   "execution_count": 7,
   "metadata": {},
   "outputs": [
    {
     "data": {
      "text/plain": [
       "             GEO_ID                             NAME  \\\n",
       "0                id             Geographic Area Name   \n",
       "1    0500000US01103           Morgan County, Alabama   \n",
       "..              ...                              ...   \n",
       "837  0500000US72135  Toa Alta Municipio, Puerto Rico   \n",
       "838  0500000US72137  Toa Baja Municipio, Puerto Rico   \n",
       "\n",
       "                                  DP05_0001E  ...  \\\n",
       "0    Estimate!!SEX AND AGE!!Total population  ...   \n",
       "1                                     119089  ...   \n",
       "..                                       ...  ...   \n",
       "837                                    71094  ...   \n",
       "838                                    74623  ...   \n",
       "\n",
       "                                            DP05_0089M  \\\n",
       "0    Margin of Error!!CITIZEN, VOTING AGE POPULATIO...   \n",
       "1                                                  695   \n",
       "..                                                 ...   \n",
       "837                                                 85   \n",
       "838                                                391   \n",
       "\n",
       "                                           DP05_0089PE  \\\n",
       "0    Percent Estimate!!CITIZEN, VOTING AGE POPULATI...   \n",
       "1                                                 51.7   \n",
       "..                                                 ...   \n",
       "837                                               52.8   \n",
       "838                                               54.0   \n",
       "\n",
       "                                           DP05_0089PM  \n",
       "0    Percent Margin of Error!!CITIZEN, VOTING AGE P...  \n",
       "1                                                  0.6  \n",
       "..                                                 ...  \n",
       "837                                                0.1  \n",
       "838                                                0.4  \n",
       "\n",
       "[839 rows x 358 columns]"
      ]
     },
     "execution_count": 7,
     "metadata": {},
     "output_type": "execute_result"
    }
   ],
   "source": [
    "df_housing"
   ]
  },
  {
   "cell_type": "markdown",
   "metadata": {},
   "source": [
    "### Display of Modified Housing and Demographics Dataframe."
   ]
  },
  {
   "cell_type": "code",
   "execution_count": 8,
   "metadata": {},
   "outputs": [
    {
     "data": {
      "text/plain": [
       "0   countyFIPS population_male population_female  ... over_or_62 median_age  \\\n",
       "1         1103           59216             59873  ...      25752       40.7   \n",
       "2         6031           83591             67775  ...      19049       32.0   \n",
       "..         ...             ...               ...  ...        ...        ...   \n",
       "837      72135           34421             36673  ...      12265       40.1   \n",
       "838      72137           34856             39767  ...      17405       42.0   \n",
       "\n",
       "0   total_housing  \n",
       "1           52284  \n",
       "2           46649  \n",
       "..            ...  \n",
       "837         26421  \n",
       "838         34796  \n",
       "\n",
       "[838 rows x 9 columns]"
      ]
     },
     "execution_count": 8,
     "metadata": {},
     "output_type": "execute_result"
    }
   ],
   "source": [
    "df_housing_modified"
   ]
  },
  {
   "cell_type": "markdown",
   "metadata": {},
   "source": [
    "### Merging Primary Covid Data with Enrichment Data and Exporting to CSV."
   ]
  },
  {
   "cell_type": "code",
   "execution_count": 9,
   "metadata": {},
   "outputs": [],
   "source": [
    "df_covid = cd.get_covid_primary_data()\n",
    "df_covid = pd.merge(df_covid, df_housing_modified, how = \"inner\", on = \"countyFIPS\")\n",
    "df_covid.to_csv(cd._housing_demographics_and_primary_merged, index=False)"
   ]
  },
  {
   "cell_type": "markdown",
   "metadata": {},
   "source": [
    "### Display of Merged Data (Primary Covid Data and Enrichment Data)."
   ]
  },
  {
   "cell_type": "code",
   "execution_count": 10,
   "metadata": {},
   "outputs": [
    {
     "data": {
      "text/plain": [
       "    countyFIPS     County Name State  ...  over_or_62  median_age  \\\n",
       "0         1003  Baldwin County    AL  ...       53676        44.0   \n",
       "1         1015  Calhoun County    AL  ...       24963        40.1   \n",
       "..         ...             ...   ...  ...         ...         ...   \n",
       "825      56021  Laramie County    WY  ...       20414        37.9   \n",
       "826      56025  Natrona County    WY  ...       15219        37.2   \n",
       "\n",
       "     total_housing  \n",
       "0           116632  \n",
       "1            53888  \n",
       "..             ...  \n",
       "825          43892  \n",
       "826          37181  \n",
       "\n",
       "[827 rows x 491 columns]"
      ]
     },
     "execution_count": 10,
     "metadata": {},
     "output_type": "execute_result"
    }
   ],
   "source": [
    "df_covid"
   ]
  },
  {
   "cell_type": "markdown",
   "metadata": {},
   "source": [
    "### Isolating Data on Florida."
   ]
  },
  {
   "cell_type": "code",
   "execution_count": 11,
   "metadata": {},
   "outputs": [],
   "source": [
    "# Retrieving all rows of data where State is Florida.\n",
    "df_covid_florida = df_covid[df_covid[\"State\"] == \"FL\"]\n",
    "# regex is used to match with all values that contain \"case\" or \"County Name\".\n",
    "df_covid_cases_final_week = df_covid_florida.filter(regex = \"case|County Name\")\n",
    "# -7,1,1 index is used to retrieve last week of Covid data and County Names.\n",
    "df_covid_cases_final_week = df_covid_cases_final_week.iloc[:, range(-7,0,1)] "
   ]
  },
  {
   "cell_type": "markdown",
   "metadata": {},
   "source": [
    "### Display of the Last Week of Covid Data for Florida."
   ]
  },
  {
   "cell_type": "code",
   "execution_count": 12,
   "metadata": {},
   "outputs": [
    {
     "data": {
      "text/plain": [
       "     cases - 9/10/20  cases - 9/11/20  cases - 9/12/20  cases - 9/13/20  \\\n",
       "109             5898             6029             6241             6401   \n",
       "110             5583             5622             5659             5682   \n",
       "..               ...              ...              ...              ...   \n",
       "148             9931            10027            10103            10160   \n",
       "149             1774             1790             1803             1812   \n",
       "\n",
       "     cases - 9/14/20  cases - 9/15/20  cases - 9/16/20  \n",
       "109             6555             6657             6814  \n",
       "110             5693             5719             5732  \n",
       "..               ...              ...              ...  \n",
       "148            10197            10262            10307  \n",
       "149             1830             1840             1853  \n",
       "\n",
       "[41 rows x 7 columns]"
      ]
     },
     "execution_count": 12,
     "metadata": {},
     "output_type": "execute_result"
    }
   ],
   "source": [
    "df_covid_cases_final_week"
   ]
  },
  {
   "cell_type": "markdown",
   "metadata": {},
   "source": [
    "### Cases by County."
   ]
  },
  {
   "cell_type": "code",
   "execution_count": 13,
   "metadata": {},
   "outputs": [
    {
     "name": "stderr",
     "output_type": "stream",
     "text": [
      "<ipython-input-13-545e86b00cd3>:4: UserWarning: FixedFormatter should only be used together with FixedLocator\n",
      "  ax0.set_xticklabels([str(x).strip(\"[|]|'\") for x in df_covid[110:150:5].filter(regex = \"County Name\").values.tolist()])\n"
     ]
    },
    {
     "data": {
      "image/png": "[encoded data removed]",
      "text/plain": [
       "<Figure size 432x288 with 1 Axes>"
      ]
     },
     "metadata": {
      "needs_background": "light"
     },
     "output_type": "display_data"
    }
   ],
   "source": [
    "ax0 = df_covid_cases_final_week.plot(title = \"Cases by County\")\n",
    "# This code will create the necessary slices to include the county names.\n",
    "# County names are verified by the original tick labels being the row index within dataframe.\n",
    "ax0.set_xticklabels([str(x).strip(\"[|]|'\") for x in df_covid[110:150:5].filter(regex = \"County Name\").values.tolist()])\n",
    "ax0.set_ylabel(\"Cases\")\n",
    "ax0.set_xlabel(\"County\")\n",
    "ax0.tick_params(rotation = 45)"
   ]
  },
  {
   "cell_type": "markdown",
   "metadata": {},
   "source": [
    "### Analysis:"
   ]
  },
  {
   "cell_type": "markdown",
   "metadata": {},
   "source": [
    "#### We can see that Miami-Dade county has the top number of cases. We can also see that for all counties that the number of cases don't deviate too far from each other, there are only minor variances day to day."
   ]
  },
  {
   "cell_type": "code",
   "execution_count": 14,
   "metadata": {},
   "outputs": [
    {
     "data": {
      "text/plain": [
       "       County Name  cases - 9/16/20\n",
       "130  Martin County             4613"
      ]
     },
     "execution_count": 14,
     "metadata": {},
     "output_type": "execute_result"
    }
   ],
   "source": [
    "df_covid[130:131].filter(regex = \"cases - 9/16/20|County Name\")"
   ]
  },
  {
   "cell_type": "markdown",
   "metadata": {},
   "source": [
    "### Daily Cases Summed."
   ]
  },
  {
   "cell_type": "code",
   "execution_count": 15,
   "metadata": {},
   "outputs": [
    {
     "name": "stderr",
     "output_type": "stream",
     "text": [
      "/usr/local/lib64/python3.8/site-packages/pandas/plotting/_matplotlib/core.py:1235: UserWarning: FixedFormatter should only be used together with FixedLocator\n",
      "  ax.set_xticklabels(xticklabels)\n"
     ]
    },
    {
     "data": {
      "image/png": "[encoded data removed]",
      "text/plain": [
       "<Figure size 432x288 with 1 Axes>"
      ]
     },
     "metadata": {
      "needs_background": "light"
     },
     "output_type": "display_data"
    }
   ],
   "source": [
    "ax1 = df_covid_cases_final_week.sum().plot(grid = True, title = \"Sum of Daily Cases Over Time\")\n",
    "ax1.set_ylabel(\"Sum of Daily Cases\")\n",
    "ax1.tick_params(rotation = 45)"
   ]
  },
  {
   "cell_type": "markdown",
   "metadata": {},
   "source": [
    "### Analysis:"
   ]
  },
  {
   "cell_type": "markdown",
   "metadata": {},
   "source": [
    "#### When we look at the summation of cases on a day by day basis we see a positive slope which is an indication that the number of cases are increasing over time. The plotted line starts leveling off around 9/13/20 - 9/14/20 but picks right back up. For the most part the plotted line is relatively consistent and indicates that the number of cases is increasing at a constant rate."
   ]
  },
  {
   "cell_type": "markdown",
   "metadata": {},
   "source": [
    "### Median of Daily Cases."
   ]
  },
  {
   "cell_type": "code",
   "execution_count": 16,
   "metadata": {},
   "outputs": [
    {
     "name": "stderr",
     "output_type": "stream",
     "text": [
      "/usr/local/lib64/python3.8/site-packages/pandas/plotting/_matplotlib/core.py:1235: UserWarning: FixedFormatter should only be used together with FixedLocator\n",
      "  ax.set_xticklabels(xticklabels)\n"
     ]
    },
    {
     "data": {
      "image/png": "[encoded data removed]",
      "text/plain": [
       "<Figure size 432x288 with 1 Axes>"
      ]
     },
     "metadata": {
      "needs_background": "light"
     },
     "output_type": "display_data"
    }
   ],
   "source": [
    "ax2 = df_covid_cases_final_week.median().plot(grid = True, title = \"Median of Daily Cases Over Time\")\n",
    "ax2.set_ylabel(\"Median of Daily Cases\")\n",
    "ax2.tick_params(rotation = 45)"
   ]
  },
  {
   "cell_type": "markdown",
   "metadata": {},
   "source": [
    "### Analysis:"
   ]
  },
  {
   "cell_type": "markdown",
   "metadata": {},
   "source": [
    "#### When we look at the median of cases on a day by day basis we see much more turmoil in the plotted line as opposed to the plot of summation of cases day by day. In general the trend of the median of daily cases is increasing. We see a similar but more drastic leveling off, as compared to the previous plot, around 9/12/20 through 9/14/20 and from 9/15/20 onward."
   ]
  },
  {
   "cell_type": "markdown",
   "metadata": {},
   "source": [
    "#### In conclusion, the trend for the last week of Covid cases on a day by day basis is that the number of cases is increasing."
   ]
  }
 ],
 "metadata": {
  "kernelspec": {
   "display_name": "Python 3",
   "language": "python",
   "name": "python3"
  },
  "language_info": {
   "codemirror_mode": {
    "name": "ipython",
    "version": 3
   },
   "file_extension": ".py",
   "mimetype": "text/x-python",
   "name": "python",
   "nbconvert_exporter": "python",
   "pygments_lexer": "ipython3",
   "version": "3.8.5"
  }
 },
 "nbformat": 4,
 "nbformat_minor": 2
}
