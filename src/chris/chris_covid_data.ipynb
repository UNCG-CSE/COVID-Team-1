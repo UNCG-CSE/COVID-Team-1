{
 "cells": [
  {
   "cell_type": "markdown",
   "metadata": {},
   "source": [
    "\n",
    "# COVID-Team-1\n",
    "### Dr. Mohanty\n",
    "### Christopher Brantley\n",
    "### CSC 405 01\n",
    "### Last Updated: 10/27/2020\n",
    "### I, Christopher Brantley, have abided by the UNCG academic policy."
   ]
  },
  {
   "cell_type": "markdown",
   "metadata": {},
   "source": [
    "## Imports."
   ]
  },
  {
   "cell_type": "code",
   "execution_count": null,
   "metadata": {},
   "outputs": [],
   "source": [
    "import ipynb\n",
    "from ipynb.fs.full import covid_data as cd\n",
    "import pandas as pd\n",
    "import matplotlib\n",
    "import matplotlib.pyplot as plt\n",
    "import numpy as np"
   ]
  },
  {
   "cell_type": "markdown",
   "metadata": {},
   "source": [
    "## Pandas Display Options."
   ]
  },
  {
   "cell_type": "code",
   "execution_count": null,
   "metadata": {},
   "outputs": [],
   "source": [
    "# Telling pandas not convert to html tags.\n",
    "pd.set_option('display.html.table_schema', True)\n",
    "# Max columns and rows to display.\n",
    "pd.set_option('display.max_columns', 15)\n",
    "pd.set_option('display.max_rows', 8)"
   ]
  },
  {
   "cell_type": "markdown",
   "metadata": {},
   "source": [
    "### Data Paths"
   ]
  },
  {
   "cell_type": "code",
   "execution_count": null,
   "metadata": {},
   "outputs": [],
   "source": [
    "# Relative to \"../\"\n",
    "_state_daily_cases = \"./chris/DATA/state_county_daily_cases.csv\"\n",
    "_state_daily_deaths = \"./chris/DATA/state_county_daily_deaths.csv\"\n",
    "\n",
    "_state_weekly_casees = \"./chris/DATA/state_county_weekly_cases.csv\"\n",
    "_state_weekly_deaths = \"./chris/DATA/state_county_weekly_deaths.csv\"\n",
    "\n",
    "_state_county_weekly_stats_cases = \"./chris/DATA/state_county_weekly_stats_cases.csv\"\n",
    "_state_county_weekly_stats_deaths = \"./chris/DATA/state_county_weekly_stats_deaths.csv\""
   ]
  },
  {
   "cell_type": "code",
   "execution_count": null,
   "metadata": {},
   "outputs": [],
   "source": []
  },
  {
   "cell_type": "code",
   "execution_count": null,
   "metadata": {},
   "outputs": [],
   "source": []
  },
  {
   "cell_type": "markdown",
   "metadata": {},
   "source": [
    "# Generate weekly statistics (mean, median, mode) for number of cases and deaths across a specific state.\n"
   ]
  },
  {
   "cell_type": "markdown",
   "metadata": {},
   "source": [
    "### Generating daily new cases for State by county."
   ]
  },
  {
   "cell_type": "code",
   "execution_count": null,
   "metadata": {},
   "outputs": [],
   "source": [
    "# Gets the daily new cases for any state and exports to csv.\n",
    "def state_daily_cases_to_csv(_state):\n",
    "    df_primary_data = cd.get_covid_primary_data()\n",
    "    # Get all columns that have County or cases.\n",
    "    df_state_cases = df_primary_data[df_primary_data.State == _state].filter(regex = \"County|cases\")\n",
    "    # Setting index as county name.\n",
    "    df_state_cases.set_index(\"County Name\", inplace = True)\n",
    "    # Creating new dataframe with county names as index.\n",
    "    df_daily_cases = pd.DataFrame(index = [df_state_cases.index])\n",
    "    # Getting number of days by getting number of columns that contain cases keyword.\n",
    "    number_days = len(df_state_cases.filter(regex = \"cases\").columns)\n",
    "    #  We iterate from the end so we will utilize negative values here.\n",
    "    for day in range(-1, -number_days, -1):\n",
    "        # Get the column name of day of cases.\n",
    "        column_name = df_state_cases.columns[day]\n",
    "        # Get the current case values and subtract the previous days.\n",
    "        column_value = df_state_cases.iloc[:, day].sub(df_state_cases.iloc[:, day - 1]).values\n",
    "        # Insert into dataframe the day of cases and the number of new cases.\n",
    "        df_daily_cases.insert(0, column_name, column_value)\n",
    "    # Because the first day has no preceding cases we will insert these as is.\n",
    "    first_column_name = df_state_cases.columns[0]\n",
    "    first_column_values = df_state_cases.iloc[:, 0:1].values\n",
    "    df_daily_cases.insert(0, first_column_name, first_column_values)\n",
    "    # We will export the data.\n",
    "    df_daily_cases.to_csv(_state_daily_cases)"
   ]
  },
  {
   "cell_type": "markdown",
   "metadata": {},
   "source": [
    "### Generating daily new deaths for State by county."
   ]
  },
  {
   "cell_type": "code",
   "execution_count": null,
   "metadata": {},
   "outputs": [],
   "source": [
    "# Gets the daily new deaths and exports to csv.\n",
    "def state_daily_deaths_to_csv(state):\n",
    "    # First get our primary data.\n",
    "    df_primary_data = cd.get_covid_primary_data()\n",
    "    # Find any columns that are containing keywords county/deaths.\n",
    "    df_state_deaths = df_primary_data[df_primary_data.State == state].filter(regex = \"County|deaths\")\n",
    "    # Setting county name as the index.\n",
    "    df_state_deaths.set_index(\"County Name\", inplace = True)\n",
    "    # Create new dataframe to hold daily new deaths, with index of counties.\n",
    "    df_daily_deaths = pd.DataFrame(index = [df_state_deaths.index])\n",
    "    # Get number of recorded days by the number of columns that exist.\n",
    "    number_days = len(df_state_deaths.filter(regex = \"deaths\").columns)\n",
    "    # We start at the end and move to the front of data so we utilize negative values.\n",
    "    for day in range(-1, - number_days, -1):\n",
    "        # Get the current column name for date value.\n",
    "        column_name = df_state_deaths.columns[day]\n",
    "        # Get the current daily death value and subtract the previous daily death value.\n",
    "        # This yields daily new death value.\n",
    "        column_values = df_state_deaths.iloc[:, day].sub(df_state_deaths.iloc[:, day - 1]).values\n",
    "        # Insert the daily death column/value into the dataframe.\n",
    "        df_daily_deaths.insert(0, column_name, column_values)\n",
    "    # The first value does not have a preceding day so we will just copy these values as is.\n",
    "    first_column_name = df_state_deaths.columns[0]\n",
    "    first_column_values = df_state_deaths.iloc[:, 0:1].values\n",
    "    df_daily_deaths.insert(0, first_column_name, first_column_values)\n",
    "    # Export data to csv.\n",
    "    df_daily_deaths.to_csv(_state_daily_deaths)"
   ]
  },
  {
   "cell_type": "markdown",
   "metadata": {},
   "source": [
    "### Accessor methods for State Daily Cases and Deaths."
   ]
  },
  {
   "cell_type": "code",
   "execution_count": null,
   "metadata": {},
   "outputs": [],
   "source": [
    "# Accessor method for state daily cases by county.\n",
    "def get_state_daily_cases(_state):\n",
    "    \"\"\"Returns dataframe containing state daily cases by county.\"\"\"\n",
    "    state_daily_cases_to_csv(_state)\n",
    "    return pd.read_csv(_state_daily_cases, index_col=[0])\n",
    "    \n",
    "# Accessor method for state daily deaths by county.\n",
    "def get_state_daily_deaths(_state):\n",
    "    \"\"\"Returns dataframe containing state daily deaths by county.\"\"\"\n",
    "    state_daily_deaths_to_csv(_state)\n",
    "    return pd.read_csv(_state_daily_deaths, index_col=[0])"
   ]
  },
  {
   "cell_type": "markdown",
   "metadata": {},
   "source": [
    "### Accessor/Generator for Normalized Daily Cases"
   ]
  },
  {
   "cell_type": "code",
   "execution_count": null,
   "metadata": {},
   "outputs": [],
   "source": [
    "# Generates daily normalized cases.\n",
    "def state_daily_cases_normalized(_state):\n",
    "    # Get the covid primary data.\n",
    "    df_primary_data = cd.get_covid_primary_data()\n",
    "    # Get all columns that contain keywords County/cases.\n",
    "    df_state_cases = df_primary_data[df_primary_data.State == _state].filter(regex = \"County|cases\")\n",
    "    # Set the county name as index.\n",
    "    df_state_cases.set_index(\"County Name\", inplace = True)\n",
    "    # Create daily cases dataframe with index of counties.\n",
    "    df_daily_cases = pd.DataFrame(index = [df_state_cases.index])\n",
    "    # Get the relevant state population data.\n",
    "    df_state_pop = df_primary_data[df_primary_data.State == _state].filter(regex = \"County|population\")\n",
    "    # Set the county name as index.\n",
    "    df_state_pop.set_index(\"County Name\", inplace = True)\n",
    "    # Get the number of days as the number of columns that contain cases as keyword.\n",
    "    number_days = len(df_state_cases.filter(regex = \"cases\").columns)\n",
    "    # We will work in reverse, end to front of dataframe.\n",
    "    for day in range(-1, -number_days, -1):\n",
    "        # Get the column name for date value.\n",
    "        column_name = df_state_cases.columns[day]\n",
    "        # Get the current day subtracting the pror day.\n",
    "        column_value = df_state_cases.iloc[:, day].sub(df_state_cases.iloc[:, day - 1]).values\n",
    "        # Insert extracted date/value combo to df_daily_cases.\n",
    "        df_daily_cases.insert(0, column_name, column_value)\n",
    "    # We iterate over each county.\n",
    "    for county in df_state_cases.index.values:\n",
    "        # Get the population for current county.\n",
    "        pop = df_state_pop.loc[county,\"population\"]\n",
    "        # Swap the values out for the normalized value.\n",
    "        df_daily_cases.loc[county, :] = \\\n",
    "        df_daily_cases.loc[county, :].apply(lambda x: round(((x / pop) * 100000), 0)).values\n",
    "    # We will not need to subtract the prior day from the first day so we just apply normalization.\n",
    "    first_column_name = df_state_cases.columns[0]\n",
    "    first_column_values = df_state_cases.iloc[:, 0:1].apply(lambda x: round(((x / pop) * 100000), 0)).values\n",
    "    df_daily_cases.insert(0, first_column_name, first_column_values)\n",
    "    \n",
    "    return df_daily_cases"
   ]
  },
  {
   "cell_type": "code",
   "execution_count": null,
   "metadata": {},
   "outputs": [],
   "source": [
    "# Generates log10 daily cases.\n",
    "def state_daily_cases_log10(_state):\n",
    "    # We get the primary covid data.\n",
    "    df_primary_data = cd.get_covid_primary_data()\n",
    "    # Get specific state and all columns that contain keywords.\n",
    "    df_state_cases = df_primary_data[df_primary_data.State == _state].filter(regex = \"County|cases\")\n",
    "    # Set index as county names.\n",
    "    df_state_cases.set_index(\"County Name\", inplace = True)\n",
    "    # Crate new dataframe to hold daily cases, index is counties.\n",
    "    df_daily_cases = pd.DataFrame(index = [df_state_cases.index])\n",
    "    # Get the relevant county populations.\n",
    "    df_state_pop = df_primary_data[df_primary_data.State == _state].filter(regex = \"County|population\")\n",
    "    # Set county name as index.\n",
    "    df_state_pop.set_index(\"County Name\", inplace = True)\n",
    "    # Get number days as number of columns that contain keyword.\n",
    "    number_days = len(df_state_cases.filter(regex = \"cases\").columns)\n",
    "    # Start at the end and work towards the front of dataframe.\n",
    "    for day in range(-1, -number_days, -1):\n",
    "        # Get the current column name for date info.\n",
    "        column_name = df_state_cases.columns[day]\n",
    "        # Get the current daily value subtracting the prior daily value.\n",
    "        column_value = df_state_cases.iloc[:, day].sub(df_state_cases.iloc[:, day - 1]).values\n",
    "        # Insert the extracted info into our daily dataframe.\n",
    "        df_daily_cases.insert(0, column_name, column_value)\n",
    "    # For each county we...\n",
    "    for county in df_state_cases.index.values:\n",
    "        # Get the county population.\n",
    "        pop = df_state_pop.loc[county,\"population\"]\n",
    "        # We normalize and then take get log10 value.\n",
    "        df_daily_cases.loc[county, :] = \\\n",
    "        np.log10(df_daily_cases.loc[county, :].apply(lambda x: round(((x / pop) * 100000), 0)).values)\n",
    "    # No prior day exists for the first date so we just normalize and calculate log10 value.\n",
    "    first_column_name = df_state_cases.columns[0]\n",
    "    first_column_values = np.log10(df_state_cases.iloc[:, 0:1]\\\n",
    "                                   .apply(lambda x: round(((x / pop) * 100000), 0)).values)\n",
    "    df_daily_cases.insert(0, first_column_name, first_column_values)\n",
    "    \n",
    "    return df_daily_cases"
   ]
  },
  {
   "cell_type": "markdown",
   "metadata": {},
   "source": [
    "### Accessor/Generator for Normalized Daily Deaths"
   ]
  },
  {
   "cell_type": "code",
   "execution_count": null,
   "metadata": {},
   "outputs": [],
   "source": [
    "# Generates normalized daily deaths.\n",
    "def state_daily_deaths_normalized(_state):\n",
    "    # Get covid primary data.\n",
    "    df_primary_data = cd.get_covid_primary_data()\n",
    "    # Get columns that match keywords County/deaths.\n",
    "    df_state_deaths = df_primary_data[df_primary_data.State == _state].filter(regex = \"County|deaths\")\n",
    "    # Set index as county names.\n",
    "    df_state_deaths.set_index(\"County Name\", inplace = True)\n",
    "    # Create new dataframe with index as county names.\n",
    "    df_daily_deaths = pd.DataFrame(index = [df_state_deaths.index])\n",
    "    # Get state specific population information.\n",
    "    df_state_pop = df_primary_data[df_primary_data.State == _state].filter(regex = \"County|population\")\n",
    "    # Set state pop index as county name.\n",
    "    df_state_pop.set_index(\"County Name\", inplace = True)\n",
    "    # Calculate number days as number of columns that contain death keyword.\n",
    "    number_days = len(df_state_deaths.filter(regex = \"deaths\").columns)\n",
    "    # Work from the back of dataframe towards the front.\n",
    "    for day in range(-1, - number_days, -1):\n",
    "        # Extract the current date value.\n",
    "        column_name = df_state_deaths.columns[day]\n",
    "        # Get the current value and subtract the prior daily value.\n",
    "        column_values = df_state_deaths.iloc[:, day].sub(df_state_deaths.iloc[:, day - 1]).values\n",
    "        # Insert information into the daily dataframe.\n",
    "        df_daily_deaths.insert(0, column_name, column_values)\n",
    "    # For each county.\n",
    "    for county in df_daily_deaths.index.values:\n",
    "        # Get the county's population.\n",
    "        pop = df_state_pop.loc[county,\"population\"]\n",
    "        # Apply normalization to each county by respective population.\n",
    "        df_daily_deaths.loc[county, :] = \\\n",
    "        df_daily_deaths.loc[county, :].apply(lambda x: round(((x / pop) * 100000), 0)).values\n",
    "    # Normalize and insert first row of data, no prior date exists to calculate daily value.\n",
    "    first_column_name = df_state_deaths.columns[0]\n",
    "    first_column_values = df_state_deaths.iloc[:, 0:1].apply(lambda x:(x / pop) * 100000).values\n",
    "    df_daily_deaths.insert(0, first_column_name, first_column_values)\n",
    "    return df_daily_deaths"
   ]
  },
  {
   "cell_type": "code",
   "execution_count": null,
   "metadata": {},
   "outputs": [],
   "source": [
    "# Gnerates log10 daily deaths.\n",
    "def state_daily_deaths_log10(_state):\n",
    "    # Get primary data.\n",
    "    df_primary_data = cd.get_covid_primary_data()\n",
    "    # Retrieve all columns containing keywords.\n",
    "    df_state_deaths = df_primary_data[df_primary_data.State == _state].filter(regex = \"County|deaths\")\n",
    "    # Set index as county names.\n",
    "    df_state_deaths.set_index(\"County Name\", inplace = True)\n",
    "    # Create new dataframe to hold daily deaths with county names as index.\n",
    "    df_daily_deaths = pd.DataFrame(index = [df_state_deaths.index])\n",
    "    # Get the state specific population information.\n",
    "    df_state_pop = df_primary_data[df_primary_data.State == _state].filter(regex = \"County|population\")\n",
    "    # Set index as county name.\n",
    "    df_state_pop.set_index(\"County Name\", inplace = True)\n",
    "    # Let number days equal the length of the columns that contain deaths as keyword.\n",
    "    number_days = len(df_state_deaths.filter(regex = \"deaths\").columns)\n",
    "    # Work from back to front of database.\n",
    "    for day in range(-1, - number_days, -1):\n",
    "        # Get the current date value.\n",
    "        column_name = df_state_deaths.columns[day]\n",
    "        # Get the daily deaths, current day - prior day.\n",
    "        column_values = df_state_deaths.iloc[:, day].sub(df_state_deaths.iloc[:, day - 1]).values\n",
    "        # Insert extracted information as daily deaths.\n",
    "        df_daily_deaths.insert(0, column_name, column_values)\n",
    "    # For each county in df_daily_deaths.\n",
    "    for county in df_daily_deaths.index.values:\n",
    "        # Get county population.\n",
    "        pop = df_state_pop.loc[county,\"population\"]\n",
    "        # Apply population normalization and apply log10.\n",
    "        df_daily_deaths.loc[county, :] = \\\n",
    "        np.log10(df_daily_deaths.loc[county, :].apply(lambda x: round(((x / pop) * 100000), 0)).values)\n",
    "    # Apply normalization and log10 to first date value.\n",
    "    first_column_name = df_state_deaths.columns[0]\n",
    "    first_column_values = np.log10(df_state_deaths.iloc[:, 0:1].apply(lambda x:(x / pop) * 100000).values)\n",
    "    df_daily_deaths.insert(0, first_column_name, first_column_values)\n",
    "    return df_daily_deaths"
   ]
  },
  {
   "cell_type": "markdown",
   "metadata": {},
   "source": [
    "### Generating Weekly Cases for State by County."
   ]
  },
  {
   "cell_type": "code",
   "execution_count": null,
   "metadata": {},
   "outputs": [],
   "source": [
    "# Generates weekly new cases.\n",
    "def state_weekly_cases_to_csv(state):\n",
    "    # Get daily cases.\n",
    "    df_county_cases = get_state_daily_cases(state)\n",
    "    # Get shape of dataframe where all columns contain cases as keyword as number days.\n",
    "    number_days = df_county_cases.filter(regex = \"cases\").shape[1]\n",
    "    # We will get the number of days needed to make number_days divisible by 7 to calculate number of weeks.\n",
    "    number_weeks = int(((7 - number_days % 7) + number_days) / 7)\n",
    "\n",
    "    index_county = []\n",
    "    index_weeks = []\n",
    "    # Create each week for each county for multi index purposes.\n",
    "    for county in df_county_cases.index.values:\n",
    "        for week in range(0, number_weeks, 1):\n",
    "            index_county.append(county)\n",
    "            index_weeks.append(\"week \" + str(week + 1))\n",
    "    # Create new dataframe with multi index and columns as cases.\n",
    "    df_county_weekly = pd.DataFrame(index = [index_county, index_weeks],\\\n",
    "                                   columns = [\"cases\"])\n",
    "    # For each county.\n",
    "    for county in df_county_cases.index.values:\n",
    "        # For each increment of seven columns.\n",
    "        for column in range(0, df_county_cases.shape[1], 7):\n",
    "            # Find the weekly sum and assign it to proper index.\n",
    "            df_county_weekly.loc[(county, \"week \" + str((column // 7) + 1))] = \\\n",
    "                df_county_cases.loc[county].iloc[column:column + 7].sum()\n",
    "    df_county_weekly.to_csv(_state_weekly_casees)"
   ]
  },
  {
   "cell_type": "markdown",
   "metadata": {},
   "source": [
    "### Generating Weekly Deaths for State by County."
   ]
  },
  {
   "cell_type": "code",
   "execution_count": null,
   "metadata": {},
   "outputs": [],
   "source": [
    "# Generates weekly new deaths.\n",
    "def state_weekly_deaths_to_csv(state):\n",
    "    # Get state daily deaths.\n",
    "    df_county_deaths = get_state_daily_deaths(state)\n",
    "    # Get number of columns that contain keyword deaths.\n",
    "    number_days = df_county_deaths.filter(regex = \"deaths\").shape[1]\n",
    "    # Make number_days divisible by seven and calculate number of weeks.\n",
    "    number_weeks = int(((7 - number_days % 7) + number_days) / 7)\n",
    "    \n",
    "    index_county = []\n",
    "    index_weeks = []\n",
    "    # Create multi index of each week for each county.\n",
    "    for county in df_county_deaths.index.values:\n",
    "        for week in range(0, number_weeks, 1):\n",
    "            index_county.append(county)\n",
    "            index_weeks.append(\"week \" + str(week + 1))\n",
    "    # Create dataframe with multi index and columns as deaths.\n",
    "    df_county_weekly = pd.DataFrame(index = [index_county, index_weeks],\n",
    "                                    columns = [\"deaths\"])\n",
    "    # For each county.\n",
    "    for county in df_county_deaths.index.values:\n",
    "        # For each seven daily deaths.\n",
    "        for column in range(0, df_county_deaths.shape[1], 7):\n",
    "            # Calculate the sum and store it in proper index of weekly deaths.\n",
    "            df_county_weekly.loc[(county, \"week \" + str((column // 7) + 1))] = \\\n",
    "                df_county_deaths.loc[county].iloc[column:column + 7].sum()\n",
    "    df_county_weekly.to_csv(_state_weekly_deaths)"
   ]
  },
  {
   "cell_type": "markdown",
   "metadata": {},
   "source": [
    "### Accessor Methods for State Weekly Cases and Deaths"
   ]
  },
  {
   "cell_type": "code",
   "execution_count": null,
   "metadata": {},
   "outputs": [],
   "source": [
    "# Accessor method for state weekly cases by county.\n",
    "def get_state_weekly_cases(_state):\n",
    "    state_weekly_cases_to_csv(_state)\n",
    "    # index_col is necessary to show that 0, 1 make up a multiindex.\n",
    "    return pd.read_csv(_state_weekly_casees, index_col=[0, 1])\n",
    "    \n",
    "# Accessor method for state weekly deaths by county.\n",
    "def get_state_weekly_deaths(_state):\n",
    "    state_weekly_deaths_to_csv(_state)\n",
    "    # index_col is necessary to show that 0, 1 make up a multiindex.\n",
    "    return pd.read_csv(_state_weekly_deaths, index_col=[0, 1])"
   ]
  },
  {
   "cell_type": "markdown",
   "metadata": {},
   "source": [
    "### Generating Weekly Case Stats for State by county."
   ]
  },
  {
   "cell_type": "code",
   "execution_count": null,
   "metadata": {},
   "outputs": [],
   "source": [
    "# Generates weekly stats for state cases.\n",
    "def state_weekly_cases_stats_to_csv(_state,):\n",
    "    # Get primary data.\n",
    "    df_primary_data = cd.get_covid_primary_data()\n",
    "    # Get columns that contain county/population for specific state.\n",
    "    df_state_pop = df_primary_data[df_primary_data.State == _state].filter(regex = \"County|population\")\n",
    "    # Set county name as index.\n",
    "    df_state_pop.set_index(\"County Name\", inplace = True)\n",
    "    # Get weekly case values.\n",
    "    df_weekly_normalized = get_state_weekly_cases(_state)\n",
    "\n",
    "    # Normalizing weekly cases to 100,000.\n",
    "    # For each county.\n",
    "    for county in df_weekly_normalized.index.get_level_values(0).unique():\n",
    "        # Get the county's population.\n",
    "        pop = df_state_pop.loc[county, \"population\"]\n",
    "        # Normalize and round so that mode can be calculated.\n",
    "        df_weekly_normalized.loc[county, :] = \\\n",
    "        df_weekly_normalized.loc[county, :].apply(lambda x: round(((x / pop) * 100000), 0)).values\n",
    "    # Create new dataframe with county names as index, columns as statistical measurements.\n",
    "    df_county_normalized = pd.DataFrame(index = [df_weekly_normalized.index.get_level_values(0).unique()],\\\n",
    "                                   columns = [\"mean\", \"median\", \"mode\"])\n",
    "    # For each county.\n",
    "    for county in df_weekly_normalized.index.get_level_values(0).unique():\n",
    "        # Calculate statistical measurements.\n",
    "        df_county_normalized.loc[county, \"mean\"] = df_weekly_normalized.loc[county].mean()[0]\n",
    "        df_county_normalized.loc[county, \"median\"] = df_weekly_normalized.loc[county].median()[0]\n",
    "        df_county_normalized.loc[county, \"mode\"] = df_weekly_normalized.loc[county].mode().values[0,0]\n",
    "    df_county_normalized.to_csv(_state_county_weekly_stats_cases)"
   ]
  },
  {
   "cell_type": "markdown",
   "metadata": {},
   "source": [
    "### Generating Weekly Deaths Stats for State by county."
   ]
  },
  {
   "cell_type": "code",
   "execution_count": null,
   "metadata": {},
   "outputs": [],
   "source": [
    "# Generates weekly stats for state deaths.\n",
    "def state_weekly_deaths_stats_to_csv(_state,):\n",
    "    # Get covid primary data.\n",
    "    df_primary_data = cd.get_covid_primary_data()\n",
    "    # Get state specific data where columns match County and population keywords.\n",
    "    df_state_pop = df_primary_data[df_primary_data.State == _state].filter(regex = \"County|population\")\n",
    "    # Set index as county names.\n",
    "    df_state_pop.set_index(\"County Name\", inplace = True)\n",
    "    # Get weekly deaths.\n",
    "    df_weekly_normalized = get_state_weekly_deaths(_state)\n",
    "\n",
    "    # Normalizing deaths to 100,000.\n",
    "    # For each county.\n",
    "    for county in df_weekly_normalized.index.get_level_values(0).unique():\n",
    "        # Get county's population.\n",
    "        pop = df_state_pop.loc[county, \"population\"]\n",
    "        # Normalize weekly data.\n",
    "        df_weekly_normalized.loc[county, :] = \\\n",
    "        df_weekly_normalized.loc[county, :].apply(lambda x: round(((x / pop) * 100000), 0)).values\n",
    "    # Create new dataframe with county names as index, columns as statistical measurements.\n",
    "    df_county_normalized = pd.DataFrame(index = [df_weekly_normalized.index.get_level_values(0).unique()],\\\n",
    "                                   columns = [\"mean\", \"median\", \"mode\"])\n",
    "    # For each county.\n",
    "    for county in df_weekly_normalized.index.get_level_values(0).unique():\n",
    "        # Calculate statistical measurements.\n",
    "        df_county_normalized.loc[county, \"mean\"] = round(df_weekly_normalized.loc[county].mean()[0], 0)\n",
    "        df_county_normalized.loc[county, \"median\"] = round(df_weekly_normalized.loc[county].median()[0])\n",
    "        df_county_normalized.loc[county, \"mode\"] = round(df_weekly_normalized.loc[county].mode().values[0,0], 0)\n",
    "    df_county_normalized.to_csv(_state_county_weekly_stats_deaths)"
   ]
  },
  {
   "cell_type": "markdown",
   "metadata": {},
   "source": [
    "### Accessor Methods for State Weekly Cases and Deaths"
   ]
  },
  {
   "cell_type": "code",
   "execution_count": null,
   "metadata": {},
   "outputs": [],
   "source": [
    "# Accessor method for state weekly cases by county.\n",
    "def get_county_weekly_cases_stats(_state):\n",
    "    state_weekly_cases_stats_to_csv(_state)\n",
    "    return pd.read_csv(_state_county_weekly_stats_cases, index_col=[0])\n",
    "    \n",
    "# Accessor method for state weekly deaths by county.\n",
    "def get_county_weekly_deaths_stats(_state):\n",
    "    state_weekly_deaths_stats_to_csv(_state)\n",
    "    return pd.read_csv(_state_county_weekly_stats_deaths, index_col=[0])"
   ]
  },
  {
   "cell_type": "markdown",
   "metadata": {},
   "source": [
    "### Generator and Accessor for  Weekly Cases Stats for State."
   ]
  },
  {
   "cell_type": "code",
   "execution_count": null,
   "metadata": {},
   "outputs": [],
   "source": [
    "# Generates county overall statistical measurements for both cases/deaths.\n",
    "def county_weekly_stats_overall(_state):\n",
    "    # Create dataframe to hold states weekly cases/deaths as index, statistical measurements as columns.\n",
    "    df_overall_weekly_county = pd.DataFrame(index = [_state + \" weekly cases\",\n",
    "                                 _state + \" weekly deaths\"],\n",
    "                 columns = [\"mean\", \"median\", \"mode\"])\n",
    "    # For each case/death, weekly case stats, weekly death stats get overall statistical measurement.\n",
    "    for data_type, dataset in zip(tuple(df_overall_weekly_county.index.values),\\\n",
    "                                  (get_county_weekly_cases_stats(_state),\\\n",
    "                                   get_county_weekly_deaths_stats(_state))):\n",
    "        # Calculating overall statistical measurements.\n",
    "        df_overall_weekly_county.loc[data_type, \"mean\"] = dataset[\"mean\"].mean()\n",
    "        df_overall_weekly_county.loc[data_type, \"median\"] = dataset[\"median\"].median()\n",
    "        df_overall_weekly_county.loc[data_type, \"mode\"] = dataset[\"mode\"].mode()[0]\n",
    "\n",
    "    return df_overall_weekly_county"
   ]
  },
  {
   "cell_type": "code",
   "execution_count": null,
   "metadata": {},
   "outputs": [],
   "source": []
  },
  {
   "cell_type": "code",
   "execution_count": null,
   "metadata": {},
   "outputs": [],
   "source": []
  }
 ],
 "metadata": {
  "kernelspec": {
   "display_name": "Python 3",
   "language": "python",
   "name": "python3"
  },
  "language_info": {
   "codemirror_mode": {
    "name": "ipython",
    "version": 3
   },
   "file_extension": ".py",
   "mimetype": "text/x-python",
   "name": "python",
   "nbconvert_exporter": "python",
   "pygments_lexer": "ipython3",
   "version": "3.8.6"
  }
 },
 "nbformat": 4,
 "nbformat_minor": 4
}
