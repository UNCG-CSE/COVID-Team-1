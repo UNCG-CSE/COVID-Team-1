{
 "cells": [
  {
   "cell_type": "markdown",
   "metadata": {},
   "source": [
    "\n",
    "# COVID-Team-1\n",
    "### Dr. Mohanty\n",
    "### Christopher Brantley\n",
    "### CSC 405 01\n",
    "### Last Updated: 10/18/2020\n",
    "### I, Christopher Brantley, have abided by the UNCG academic policy."
   ]
  },
  {
   "cell_type": "code",
   "execution_count": 1,
   "metadata": {},
   "outputs": [],
   "source": [
    "import os \n",
    "os.chdir(\"../\")"
   ]
  },
  {
   "cell_type": "code",
   "execution_count": 2,
   "metadata": {},
   "outputs": [],
   "source": [
    "import ipynb\n",
    "from ipynb.fs.full import covid_data as cd\n",
    "import pandas as pd\n",
    "import matplotlib\n",
    "import matplotlib.pyplot as plt\n",
    "import numpy as np"
   ]
  },
  {
   "cell_type": "code",
   "execution_count": 38,
   "metadata": {},
   "outputs": [],
   "source": [
    "# Telling pandas not convert to html tags.\n",
    "pd.set_option('display.html.table_schema', True)\n",
    "# Max columns and rows to display.\n",
    "pd.set_option('display.max_columns', 15)\n",
    "pd.set_option('display.max_rows', 8)"
   ]
  },
  {
   "cell_type": "markdown",
   "metadata": {},
   "source": [
    "### Data Paths"
   ]
  },
  {
   "cell_type": "code",
   "execution_count": 4,
   "metadata": {},
   "outputs": [],
   "source": [
    "# Relative to \"../\"\n",
    "_state_daily_cases = \"./chris/DATA/state_county_daily_cases.csv\"\n",
    "_state_daily_deaths = \"./chris/DATA/state_county_daily_deaths.csv\"\n",
    "\n",
    "_state_weekly_casees = \"./chris/DATA/state_county_weekly_cases.csv\"\n",
    "_state_weekly_deaths = \"./chris/DATA/state_county_weekly_deaths.csv\"\n",
    "\n",
    "_state_county_weekly_stats_cases = \"./chris/DATA/state_county_weekly_stats_cases.csv\"\n",
    "_state_county_weekly_stats_deaths = \"./chris/DATA/state_county_weekly_stats_deaths.csv\""
   ]
  },
  {
   "cell_type": "markdown",
   "metadata": {},
   "source": [
    "# Generate weekly statistics (mean, median, mode) for number of cases and deaths across a specific state.\n"
   ]
  },
  {
   "cell_type": "markdown",
   "metadata": {},
   "source": [
    "### Generating daily new cases for State by county."
   ]
  },
  {
   "cell_type": "code",
   "execution_count": 5,
   "metadata": {},
   "outputs": [],
   "source": [
    "def state_daily_cases_to_csv(state):\n",
    "    df_primary_data = cd.get_covid_primary_data()\n",
    "    df_state_cases = df_primary_data[df_primary_data.State == state].filter(regex = \"County|cases\")\n",
    "    df_state_cases.set_index(\"County Name\", inplace = True)\n",
    "    df_daily_cases = pd.DataFrame(index = [df_state_cases.index])\n",
    "\n",
    "    number_days = len(df_state_cases.filter(regex = \"cases\").columns)\n",
    "    for day in range(-1, -number_days, -1):\n",
    "        column_name = df_state_cases.columns[day]\n",
    "        column_value = df_state_cases.iloc[:, day].sub(df_state_cases.iloc[:, day - 1]).values\n",
    "        df_daily_cases.insert(0, column_name, column_value)\n",
    "\n",
    "    first_column_name = df_state_cases.columns[0]\n",
    "    first_column_values = df_state_cases.iloc[:, 0:1].values\n",
    "    df_daily_cases.insert(0, first_column_name, first_column_values)\n",
    "    df_daily_cases.to_csv(_state_daily_cases)"
   ]
  },
  {
   "cell_type": "markdown",
   "metadata": {},
   "source": [
    "### Generating daily new deaths for State by county."
   ]
  },
  {
   "cell_type": "code",
   "execution_count": 6,
   "metadata": {},
   "outputs": [],
   "source": [
    "def state_daily_deaths_to_csv(state):\n",
    "    df_primary_data = cd.get_covid_primary_data()\n",
    "    df_state_deaths = df_primary_data[df_primary_data.State == state].filter(regex = \"County|deaths\")\n",
    "    df_state_deaths.set_index(\"County Name\", inplace = True)\n",
    "    df_daily_deaths = pd.DataFrame(index = [df_state_deaths.index])\n",
    "\n",
    "    number_days = len(df_state_deaths.filter(regex = \"deaths\").columns)\n",
    "    for day in range(-1, - number_days, -1):\n",
    "        column_name = df_state_deaths.columns[day]\n",
    "        column_values = df_state_deaths.iloc[:, day].sub(df_state_deaths.iloc[:, day - 1]).values\n",
    "        df_daily_deaths.insert(0, column_name, column_values)\n",
    "\n",
    "    first_column_name = df_state_deaths.columns[0]\n",
    "    first_column_values = df_state_deaths.iloc[:, 0:1].values\n",
    "    df_daily_deaths.insert(0, first_column_name, first_column_values)\n",
    "    df_daily_deaths.to_csv(_state_daily_deaths)"
   ]
  },
  {
   "cell_type": "markdown",
   "metadata": {},
   "source": [
    "### Accessor methods for State Daily Cases and Deaths."
   ]
  },
  {
   "cell_type": "code",
   "execution_count": 7,
   "metadata": {},
   "outputs": [],
   "source": [
    "# Accessor method for state daily cases by county.\n",
    "def get_state_daily_cases(_state):\n",
    "    \"\"\"Returns dataframe containing state daily cases by county.\"\"\"\n",
    "    state_daily_cases_to_csv(_state)\n",
    "    return pd.read_csv(_state_daily_cases, index_col=[0])\n",
    "    \n",
    "# Accessor method for state daily deaths by county.\n",
    "def get_state_daily_deaths(_state):\n",
    "    \"\"\"Returns dataframe containing state daily deaths by county.\"\"\"\n",
    "    state_daily_deaths_to_csv(_state)\n",
    "    return pd.read_csv(_state_daily_deaths, index_col=[0])"
   ]
  },
  {
   "cell_type": "markdown",
   "metadata": {},
   "source": [
    "### Generating Weekly Cases for State by County."
   ]
  },
  {
   "cell_type": "code",
   "execution_count": 8,
   "metadata": {},
   "outputs": [],
   "source": [
    "def state_weekly_cases_to_csv(state):\n",
    "    df_county_cases = get_state_daily_cases(state)\n",
    "    number_days = df_county_cases.filter(regex = \"cases\").shape[1]\n",
    "    number_weeks = int(((7 - number_days % 7) + number_days) / 7)\n",
    "\n",
    "    index_county = []\n",
    "    index_weeks = []\n",
    "    for county in df_county_cases.index.values:\n",
    "        for week in range(0, number_weeks, 1):\n",
    "            index_county.append(county)\n",
    "            index_weeks.append(\"week \" + str(week + 1))\n",
    "    \n",
    "    df_county_weekly = pd.DataFrame(index = [index_county, index_weeks],\\\n",
    "                                   columns = [\"cases\"])\n",
    "    for county in df_county_cases.index.values:\n",
    "        for column in range(0, df_county_cases.shape[1], 7):\n",
    "            df_county_weekly.loc[(county, \"week \" + str((column // 7) + 1))] = \\\n",
    "                df_county_cases.loc[county].iloc[column:column + 7].sum()\n",
    "    df_county_weekly.to_csv(_state_weekly_casees)"
   ]
  },
  {
   "cell_type": "markdown",
   "metadata": {},
   "source": [
    "### Generating Weekly Deaths for State by County."
   ]
  },
  {
   "cell_type": "code",
   "execution_count": 9,
   "metadata": {},
   "outputs": [],
   "source": [
    "def state_weekly_deaths_to_csv(state):\n",
    "    df_county_deaths = get_state_daily_deaths(state)\n",
    "    number_days = df_county_deaths.filter(regex = \"deaths\").shape[1]\n",
    "    number_weeks = int(((7 - number_days % 7) + number_days) / 7)\n",
    "    \n",
    "    index_county = []\n",
    "    index_weeks = []\n",
    "    for county in df_county_deaths.index.values:\n",
    "        for week in range(0, number_weeks, 1):\n",
    "            index_county.append(county)\n",
    "            index_weeks.append(\"week \" + str(week + 1))\n",
    "            \n",
    "    df_county_weekly = pd.DataFrame(index = [index_county, index_weeks],\n",
    "                                    columns = [\"deaths\"])\n",
    "    for county in df_county_deaths.index.values:\n",
    "        for column in range(0, df_county_deaths.shape[1], 7):\n",
    "            df_county_weekly.loc[(county, \"week \" + str((column // 7) + 1))] = \\\n",
    "                df_county_deaths.loc[county].iloc[column:column + 7].sum()\n",
    "    df_county_weekly.to_csv(_state_weekly_deaths)"
   ]
  },
  {
   "cell_type": "markdown",
   "metadata": {},
   "source": [
    "### Accessor Methods for State Weekly Cases and Deaths"
   ]
  },
  {
   "cell_type": "code",
   "execution_count": 10,
   "metadata": {},
   "outputs": [],
   "source": [
    "# Accessor method for state weekly cases by county.\n",
    "def get_state_weekly_cases(_state):\n",
    "    state_weekly_cases_to_csv(_state)\n",
    "    return pd.read_csv(_state_weekly_casees, index_col=[0, 1])\n",
    "    \n",
    "# Accessor method for state weekly deaths by county.\n",
    "def get_state_weekly_deaths(_state):\n",
    "    \"\"\"Returns dataframe containing state weekly deaths by county.\"\"\"\n",
    "    state_weekly_deaths_to_csv(_state)\n",
    "    return pd.read_csv(_state_weekly_deaths, index_col=[0, 1])"
   ]
  },
  {
   "cell_type": "markdown",
   "metadata": {},
   "source": [
    "### Generating Weekly Case Stats for State by county."
   ]
  },
  {
   "cell_type": "code",
   "execution_count": 11,
   "metadata": {},
   "outputs": [],
   "source": [
    "def state_weekly_cases_stats_to_csv(_state,):\n",
    "    df_primary_data = cd.get_covid_primary_data()\n",
    "    df_state_pop = df_primary_data[df_primary_data.State == _state].filter(regex = \"County|population\")\n",
    "    df_state_pop.set_index(\"County Name\", inplace = True)\n",
    "    df_weekly_normalized = get_state_weekly_cases(_state)\n",
    "\n",
    "    # Normalizing cases to 100,000.\n",
    "    for county in df_weekly_normalized.index.get_level_values(0).unique():\n",
    "        pop = df_state_pop.loc[county, \"population\"]\n",
    "        df_weekly_normalized.loc[county, :] = \\\n",
    "        df_weekly_normalized.loc[county, :].apply(lambda x: round(((x / pop) * 100000), 0)).values\n",
    "\n",
    "    df_county_normalized = pd.DataFrame(index = [df_weekly_normalized.index.get_level_values(0).unique()],\\\n",
    "                                   columns = [\"mean\", \"median\", \"mode\"])\n",
    "    for county in df_weekly_normalized.index.get_level_values(0).unique():\n",
    "        df_county_normalized.loc[county, \"mean\"] = df_weekly_normalized.loc[county].mean()[0]\n",
    "        df_county_normalized.loc[county, \"median\"] = df_weekly_normalized.loc[county].median()[0]\n",
    "        df_county_normalized.loc[county, \"mode\"] = df_weekly_normalized.loc[county].mode().values[0,0]\n",
    "    df_county_normalized.to_csv(_state_county_weekly_stats_cases)"
   ]
  },
  {
   "cell_type": "code",
   "execution_count": 29,
   "metadata": {},
   "outputs": [],
   "source": [
    "def state_weekly_cases_stats_to_csv(state):\n",
    "    df_primary_data = cd.get_covid_primary_data()\n",
    "    df_state_pop = df_primary_data[df_primary_data.State == state].filter(regex = \"County|population\")\n",
    "    df_state_pop.set_index(\"County Name\", inplace = True)\n",
    "    df_weekly_normalized = get_state_weekly_cases(state)\n",
    "\n",
    "    # Normalizing cases to 100,000.\n",
    "    for county in df_weekly_normalized.index.get_level_values(0).unique():\n",
    "        pop = df_state_pop.loc[county, \"population\"]\n",
    "        df_weekly_normalized.loc[county, :] = \\\n",
    "        df_weekly_normalized.loc[county, :].apply(lambda x: round(((x / pop) * 100000), 0)).values\n",
    "\n",
    "    df_county_normalized = pd.DataFrame(index = [df_weekly_normalized.index.get_level_values(0).unique()],\\\n",
    "                                   columns = [\"mean\", \"median\", \"mode\"])\n",
    "    for county in df_weekly_normalized.index.get_level_values(0).unique():\n",
    "        df_county_normalized.loc[county, \"mean\"] = df_weekly_normalized.loc[county].mean()[0]\n",
    "        df_county_normalized.loc[county, \"median\"] = df_weekly_normalized.loc[county].median()[0]\n",
    "        df_county_normalized.loc[county, \"mode\"] = df_weekly_normalized.loc[county].mode().values[0,0]\n",
    "    df_county_normalized.to_csv(_state_county_weekly_stats_cases)"
   ]
  },
  {
   "cell_type": "markdown",
   "metadata": {},
   "source": [
    "### Generating Weekly Deaths Stats for State by county."
   ]
  },
  {
   "cell_type": "code",
   "execution_count": 31,
   "metadata": {},
   "outputs": [],
   "source": [
    "def state_weekly_deaths_stats_to_csv(_state,):\n",
    "    df_primary_data = cd.get_covid_primary_data()\n",
    "    df_state_pop = df_primary_data[df_primary_data.State == _state].filter(regex = \"County|population\")\n",
    "    df_state_pop.set_index(\"County Name\", inplace = True)\n",
    "    df_weekly_normalized = get_state_weekly_deaths(_state)\n",
    "\n",
    "    # Normalizing cases to 100,000.\n",
    "    for county in df_weekly_normalized.index.get_level_values(0).unique():\n",
    "        pop = df_state_pop.loc[county, \"population\"]\n",
    "        df_weekly_normalized.loc[county, :] = \\\n",
    "        df_weekly_normalized.loc[county, :].apply(lambda x: round(((x / pop) * 100000), 0)).values\n",
    "\n",
    "    df_county_normalized = pd.DataFrame(index = [df_weekly_normalized.index.get_level_values(0).unique()],\\\n",
    "                                   columns = [\"mean\", \"median\", \"mode\"])\n",
    "    for county in df_weekly_normalized.index.get_level_values(0).unique():\n",
    "        df_county_normalized.loc[county, \"mean\"] = round(df_weekly_normalized.loc[county].mean()[0], 0)\n",
    "        df_county_normalized.loc[county, \"median\"] = round(df_weekly_normalized.loc[county].median()[0])\n",
    "        df_county_normalized.loc[county, \"mode\"] = round(df_weekly_normalized.loc[county].mode().values[0,0], 0)\n",
    "    df_county_normalized.to_csv(_state_county_weekly_stats_deaths)"
   ]
  },
  {
   "cell_type": "markdown",
   "metadata": {},
   "source": [
    "### Accessor Methods for State Weekly Cases and Deaths"
   ]
  },
  {
   "cell_type": "code",
   "execution_count": 35,
   "metadata": {},
   "outputs": [],
   "source": [
    "# Accessor method for state weekly cases by county.\n",
    "def get_county_weekly_cases_stats(_state):\n",
    "    state_weekly_cases_stats_to_csv(_state)\n",
    "    return pd.read_csv(_state_county_weekly_stats_cases, index_col=[0])\n",
    "    \n",
    "# Accessor method for state weekly deaths by county.\n",
    "def get_county_weekly_deaths_stats(_state):\n",
    "    \"\"\"Returns dataframe containing state weekly deaths by county.\"\"\"\n",
    "    state_weekly_deaths_stats_to_csv(_state)\n",
    "    return pd.read_csv(_state_county_weekly_stats_deaths, index_col=[0])"
   ]
  },
  {
   "cell_type": "markdown",
   "metadata": {},
   "source": [
    "# Task 1.1 Generate weekly statistics (mean, median, mode) for number of cases and deaths across a specific state. "
   ]
  },
  {
   "cell_type": "code",
   "execution_count": 39,
   "metadata": {
    "scrolled": true
   },
   "outputs": [
    {
     "data": {
      "application/vnd.dataresource+json": {
       "data": [
        {
         "index": "Alachua County",
         "mean": 72.4,
         "median": 19,
         "mode": 0
        },
        {
         "index": "Baker County",
         "mean": 132.3714285714,
         "median": 14,
         "mode": 0
        },
        {
         "index": "Bay County",
         "mean": 93.7142857143,
         "median": 7,
         "mode": 0
        },
        {
         "index": "Bradford County",
         "mean": 97.6,
         "median": 14,
         "mode": 0
        },
        {
         "index": "Brevard County",
         "mean": 38.4,
         "median": 8,
         "mode": 0
        },
        {
         "index": "Broward County",
         "mean": 109.4571428571,
         "median": 46,
         "mode": 0
        },
        {
         "index": "Calhoun County",
         "mean": 121.8571428571,
         "median": 35,
         "mode": 0
        },
        {
         "index": "Charlotte County",
         "mean": 43.7714285714,
         "median": 24,
         "mode": 0
        }
       ],
       "schema": {
        "fields": [
         {
          "name": "index",
          "type": "string"
         },
         {
          "name": "mean",
          "type": "number"
         },
         {
          "name": "median",
          "type": "number"
         },
         {
          "name": "mode",
          "type": "number"
         }
        ],
        "pandas_version": "0.20.0",
        "primaryKey": [
         "index"
        ]
       }
      },
      "text/html": [
       "<div>\n",
       "<style scoped>\n",
       "    .dataframe tbody tr th:only-of-type {\n",
       "        vertical-align: middle;\n",
       "    }\n",
       "\n",
       "    .dataframe tbody tr th {\n",
       "        vertical-align: top;\n",
       "    }\n",
       "\n",
       "    .dataframe thead th {\n",
       "        text-align: right;\n",
       "    }\n",
       "</style>\n",
       "<table border=\"1\" class=\"dataframe\">\n",
       "  <thead>\n",
       "    <tr style=\"text-align: right;\">\n",
       "      <th></th>\n",
       "      <th>mean</th>\n",
       "      <th>median</th>\n",
       "      <th>mode</th>\n",
       "    </tr>\n",
       "  </thead>\n",
       "  <tbody>\n",
       "    <tr>\n",
       "      <th>Alachua County</th>\n",
       "      <td>72.400000</td>\n",
       "      <td>19.0</td>\n",
       "      <td>0.0</td>\n",
       "    </tr>\n",
       "    <tr>\n",
       "      <th>Baker County</th>\n",
       "      <td>132.371429</td>\n",
       "      <td>14.0</td>\n",
       "      <td>0.0</td>\n",
       "    </tr>\n",
       "    <tr>\n",
       "      <th>Bay County</th>\n",
       "      <td>93.714286</td>\n",
       "      <td>7.0</td>\n",
       "      <td>0.0</td>\n",
       "    </tr>\n",
       "    <tr>\n",
       "      <th>Bradford County</th>\n",
       "      <td>97.600000</td>\n",
       "      <td>14.0</td>\n",
       "      <td>0.0</td>\n",
       "    </tr>\n",
       "    <tr>\n",
       "      <th>...</th>\n",
       "      <td>...</td>\n",
       "      <td>...</td>\n",
       "      <td>...</td>\n",
       "    </tr>\n",
       "    <tr>\n",
       "      <th>Volusia County</th>\n",
       "      <td>53.142857</td>\n",
       "      <td>14.0</td>\n",
       "      <td>0.0</td>\n",
       "    </tr>\n",
       "    <tr>\n",
       "      <th>Wakulla County</th>\n",
       "      <td>88.542857</td>\n",
       "      <td>15.0</td>\n",
       "      <td>0.0</td>\n",
       "    </tr>\n",
       "    <tr>\n",
       "      <th>Walton County</th>\n",
       "      <td>71.571429</td>\n",
       "      <td>20.0</td>\n",
       "      <td>0.0</td>\n",
       "    </tr>\n",
       "    <tr>\n",
       "      <th>Washington County</th>\n",
       "      <td>117.971429</td>\n",
       "      <td>16.0</td>\n",
       "      <td>0.0</td>\n",
       "    </tr>\n",
       "  </tbody>\n",
       "</table>\n",
       "<p>67 rows × 3 columns</p>\n",
       "</div>"
      ],
      "text/plain": [
       "                         mean  median  mode\n",
       "Alachua County      72.400000    19.0   0.0\n",
       "Baker County       132.371429    14.0   0.0\n",
       "Bay County          93.714286     7.0   0.0\n",
       "Bradford County     97.600000    14.0   0.0\n",
       "...                       ...     ...   ...\n",
       "Volusia County      53.142857    14.0   0.0\n",
       "Wakulla County      88.542857    15.0   0.0\n",
       "Walton County       71.571429    20.0   0.0\n",
       "Washington County  117.971429    16.0   0.0\n",
       "\n",
       "[67 rows x 3 columns]"
      ]
     },
     "metadata": {},
     "output_type": "display_data"
    }
   ],
   "source": [
    "df_fl_county_stats_cases = get_county_weekly_cases_stats(\"FL\")\n",
    "display(df_fl_county_stats_cases)"
   ]
  },
  {
   "cell_type": "code",
   "execution_count": 61,
   "metadata": {},
   "outputs": [
    {
     "name": "stdout",
     "output_type": "stream",
     "text": [
      "Weekly mean for Florida cases is:   98.77\n",
      "Weekly median for Florida cases is: 18\n",
      "Weekly mode for Florida cases is:   0\n",
      "\n",
      "Weekly mean for Florida deaths is:   1.66\n",
      "Weekly median for Florida deaths is: 0\n",
      "Weekly mode for Florida deaths is:   0\n",
      "\n"
     ]
    }
   ],
   "source": [
    "for data_type, dataset in zip((\"cases\", \"deaths\"),\\\n",
    "                              (get_county_weekly_cases_stats(\"FL\"), get_county_weekly_deaths_stats(\"FL\"))):\n",
    "    weekly_mean = dataset[\"mean\"].mean()\n",
    "    weekly_median = dataset[\"median\"].median()\n",
    "    weekly_mode = dataset[\"mode\"].mode()\n",
    "    print(\"Weekly mean for Florida {} is:   {:.2f}\".format(data_type, weekly_mean))\n",
    "    print(\"Weekly median for Florida {} is: {:d}\".format(data_type, int(weekly_median)))\n",
    "    print(\"Weekly mode for Florida {} is:   {:d}\".format(data_type, int(weekly_mode[0])))\n",
    "    print()"
   ]
  },
  {
   "cell_type": "code",
   "execution_count": null,
   "metadata": {},
   "outputs": [],
   "source": []
  },
  {
   "cell_type": "code",
   "execution_count": null,
   "metadata": {},
   "outputs": [],
   "source": []
  },
  {
   "cell_type": "markdown",
   "metadata": {},
   "source": [
    "# Task 1.2 Compare the data against other states."
   ]
  },
  {
   "cell_type": "code",
   "execution_count": null,
   "metadata": {},
   "outputs": [],
   "source": []
  },
  {
   "cell_type": "markdown",
   "metadata": {},
   "source": [
    "# Task 1.3 Identify counties with high case and death rates."
   ]
  },
  {
   "cell_type": "code",
   "execution_count": null,
   "metadata": {},
   "outputs": [],
   "source": []
  },
  {
   "cell_type": "code",
   "execution_count": null,
   "metadata": {},
   "outputs": [],
   "source": []
  },
  {
   "cell_type": "markdown",
   "metadata": {},
   "source": [
    "# Task 1.4 Plot daily trends (cases and deaths, new cases) of state and top 5 infected counties. Utilize aggregrate, normalized by population, and log normalized values."
   ]
  },
  {
   "cell_type": "code",
   "execution_count": null,
   "metadata": {},
   "outputs": [],
   "source": []
  },
  {
   "cell_type": "code",
   "execution_count": null,
   "metadata": {},
   "outputs": [],
   "source": []
  }
 ],
 "metadata": {
  "kernelspec": {
   "display_name": "Python 3",
   "language": "python",
   "name": "python3"
  },
  "language_info": {
   "codemirror_mode": {
    "name": "ipython",
    "version": 3
   },
   "file_extension": ".py",
   "mimetype": "text/x-python",
   "name": "python",
   "nbconvert_exporter": "python",
   "pygments_lexer": "ipython3",
   "version": "3.8.5"
  }
 },
 "nbformat": 4,
 "nbformat_minor": 4
}
