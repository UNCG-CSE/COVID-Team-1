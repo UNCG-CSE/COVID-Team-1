{
 "cells": [
  {
   "cell_type": "markdown",
   "metadata": {},
   "source": [
    "\n",
    "# COVID-Team-1\n",
    "### Dr. Mohanty\n",
    "### Christopher Brantley\n",
    "### CSC 405 01\n",
    "### Last Updated: 10/17/2020\n",
    "### I, Christopher Brantley, have abided by the UNCG academic policy."
   ]
  },
  {
   "cell_type": "code",
   "execution_count": 1,
   "metadata": {},
   "outputs": [],
   "source": [
    "import os\n",
    "os.chdir(\"../\")"
   ]
  },
  {
   "cell_type": "code",
   "execution_count": 5,
   "metadata": {},
   "outputs": [],
   "source": [
    "import ipynb\n",
    "from ipynb.fs.full import covid_data as cd\n",
    "import pandas as pd\n",
    "import matplotlib\n",
    "import matplotlib.pyplot as plt\n",
    "import numpy as np"
   ]
  },
  {
   "cell_type": "code",
   "execution_count": 6,
   "metadata": {},
   "outputs": [],
   "source": [
    "# Telling pandas not convert to html tags.\n",
    "pd.set_option('display.html.table_schema', True)\n",
    "# Max columns and rows to display.\n",
    "pd.set_option('display.max_columns', 80)\n",
    "pd.set_option('display.max_rows', 5)"
   ]
  },
  {
   "cell_type": "markdown",
   "metadata": {},
   "source": [
    "### Generate weekly statistics (mean, median, mode) for number of cases and deaths across a specific state.\n"
   ]
  },
  {
   "cell_type": "code",
   "execution_count": 75,
   "metadata": {
    "scrolled": true
   },
   "outputs": [
    {
     "data": {
      "application/vnd.dataresource+json": {
       "data": [
        {
         "index": "week 1",
         "sum": 0
        },
        {
         "index": "week 2",
         "sum": 0
        },
        {
         "index": "week 3",
         "sum": 0
        },
        {
         "index": "week 4",
         "sum": 0
        },
        {
         "index": "week 5",
         "sum": 0
        }
       ],
       "schema": {
        "fields": [
         {
          "name": "index",
          "type": "string"
         },
         {
          "name": "sum",
          "type": "string"
         }
        ],
        "pandas_version": "0.20.0",
        "primaryKey": [
         "index"
        ]
       }
      },
      "text/html": [
       "<div>\n",
       "<style scoped>\n",
       "    .dataframe tbody tr th:only-of-type {\n",
       "        vertical-align: middle;\n",
       "    }\n",
       "\n",
       "    .dataframe tbody tr th {\n",
       "        vertical-align: top;\n",
       "    }\n",
       "\n",
       "    .dataframe thead th {\n",
       "        text-align: right;\n",
       "    }\n",
       "</style>\n",
       "<table border=\"1\" class=\"dataframe\">\n",
       "  <thead>\n",
       "    <tr style=\"text-align: right;\">\n",
       "      <th></th>\n",
       "      <th>sum</th>\n",
       "    </tr>\n",
       "  </thead>\n",
       "  <tbody>\n",
       "    <tr>\n",
       "      <th>week 1</th>\n",
       "      <td>0</td>\n",
       "    </tr>\n",
       "    <tr>\n",
       "      <th>week 2</th>\n",
       "      <td>0</td>\n",
       "    </tr>\n",
       "    <tr>\n",
       "      <th>...</th>\n",
       "      <td>...</td>\n",
       "    </tr>\n",
       "    <tr>\n",
       "      <th>week 33</th>\n",
       "      <td>4490829</td>\n",
       "    </tr>\n",
       "    <tr>\n",
       "      <th>week 34</th>\n",
       "      <td>4617459</td>\n",
       "    </tr>\n",
       "  </tbody>\n",
       "</table>\n",
       "<p>34 rows × 1 columns</p>\n",
       "</div>"
      ],
      "text/plain": [
       "             sum\n",
       "week 1         0\n",
       "week 2         0\n",
       "...          ...\n",
       "week 33  4490829\n",
       "week 34  4617459\n",
       "\n",
       "[34 rows x 1 columns]"
      ]
     },
     "metadata": {},
     "output_type": "display_data"
    }
   ],
   "source": [
    "df_primary_data = cd.get_covid_primary_data()\n",
    "df_primary_cases = df_primary_data[df_primary_data.State == \"FL\"].filter(regex = \"County|State|case\")\n",
    "number_days = df_primary_cases.filter(regex = \"cases\").shape[1]\n",
    "df_florida_cases = pd.DataFrame(index = [\"week \" + str(day) for day in range(1, (number_days // 7) + 1, 1)],\n",
    "                                columns = [\"sum\"])\n",
    "week_count = 0\n",
    "\n",
    "for lower_range in range(2, df_primary_cases.filter(regex = \"cases\").shape[1], 7):\n",
    "    df_florida_cases.iloc[week_count] = df_primary_cases.iloc[:, lower_range:lower_range + 7].sum().sum()\n",
    "    week_count += 1\n",
    "display(df_florida_cases)"
   ]
  },
  {
   "cell_type": "code",
   "execution_count": 177,
   "metadata": {},
   "outputs": [
    {
     "data": {
      "application/vnd.dataresource+json": {
       "data": [
        {
         "level_0": "AL",
         "level_1": "week 1",
         "mean": 0,
         "median": 0,
         "mode": 0
        },
        {
         "level_0": "AL",
         "level_1": "week 2",
         "mean": 0,
         "median": 0,
         "mode": 0
        },
        {
         "level_0": "AL",
         "level_1": "week 3",
         "mean": 0,
         "median": 0,
         "mode": 0
        },
        {
         "level_0": "AL",
         "level_1": "week 4",
         "mean": 0,
         "median": 0,
         "mode": 0
        },
        {
         "level_0": "AL",
         "level_1": "week 5",
         "mean": 0,
         "median": 0,
         "mode": 0
        }
       ],
       "schema": {
        "fields": [
         {
          "name": "level_0",
          "type": "string"
         },
         {
          "name": "level_1",
          "type": "string"
         },
         {
          "name": "mean",
          "type": "string"
         },
         {
          "name": "median",
          "type": "string"
         },
         {
          "name": "mode",
          "type": "string"
         }
        ],
        "pandas_version": "0.20.0",
        "primaryKey": [
         "level_0",
         "level_1"
        ]
       }
      },
      "text/html": [
       "<div>\n",
       "<style scoped>\n",
       "    .dataframe tbody tr th:only-of-type {\n",
       "        vertical-align: middle;\n",
       "    }\n",
       "\n",
       "    .dataframe tbody tr th {\n",
       "        vertical-align: top;\n",
       "    }\n",
       "\n",
       "    .dataframe thead th {\n",
       "        text-align: right;\n",
       "    }\n",
       "</style>\n",
       "<table border=\"1\" class=\"dataframe\">\n",
       "  <thead>\n",
       "    <tr style=\"text-align: right;\">\n",
       "      <th></th>\n",
       "      <th></th>\n",
       "      <th>mean</th>\n",
       "      <th>median</th>\n",
       "      <th>mode</th>\n",
       "    </tr>\n",
       "  </thead>\n",
       "  <tbody>\n",
       "    <tr>\n",
       "      <th rowspan=\"2\" valign=\"top\">AL</th>\n",
       "      <th>week 1</th>\n",
       "      <td>0</td>\n",
       "      <td>0</td>\n",
       "      <td>0</td>\n",
       "    </tr>\n",
       "    <tr>\n",
       "      <th>week 2</th>\n",
       "      <td>0</td>\n",
       "      <td>0</td>\n",
       "      <td>0</td>\n",
       "    </tr>\n",
       "    <tr>\n",
       "      <th>...</th>\n",
       "      <th>...</th>\n",
       "      <td>...</td>\n",
       "      <td>...</td>\n",
       "      <td>...</td>\n",
       "    </tr>\n",
       "    <tr>\n",
       "      <th rowspan=\"2\" valign=\"top\">WY</th>\n",
       "      <th>week 33</th>\n",
       "      <td>180.478</td>\n",
       "      <td>120</td>\n",
       "      <td>51</td>\n",
       "    </tr>\n",
       "    <tr>\n",
       "      <th>week 34</th>\n",
       "      <td>198.522</td>\n",
       "      <td>127</td>\n",
       "      <td>3</td>\n",
       "    </tr>\n",
       "  </tbody>\n",
       "</table>\n",
       "<p>1734 rows × 3 columns</p>\n",
       "</div>"
      ],
      "text/plain": [
       "               mean median mode\n",
       "AL week 1         0      0    0\n",
       "   week 2         0      0    0\n",
       "...             ...    ...  ...\n",
       "WY week 33  180.478    120   51\n",
       "   week 34  198.522    127    3\n",
       "\n",
       "[1734 rows x 3 columns]"
      ]
     },
     "metadata": {},
     "output_type": "display_data"
    }
   ],
   "source": [
    "df_primary_data = cd.get_covid_primary_data()\n",
    "number_days = df_primary_data.filter(regex = \"cases\").shape[1]\n",
    "number_weeks = (number_days // 7) + 1\n",
    "index_state = []\n",
    "index_week = []\n",
    "for state in df_primary_data.State.unique().tolist():\n",
    "    for week in range(1, number_weeks, 1):\n",
    "        index_state.append(state)\n",
    "        index_week.append(\"week \" + str(week))\n",
    "df_weekly_cases = pd.DataFrame(index = [index_state, index_week],\n",
    "                               columns = [\"mean\", \"median\", \"mode\"])\n",
    "for state in df_weekly_cases.index.get_level_values(0).unique():\n",
    "    df_state = df_primary_data[df_primary_data.State == state]\n",
    "    for week in range(0, number_weeks - 1, 1):\n",
    "        df_day = df_state.filter(regex = \"cases\")\\\n",
    "                .iloc[: , (week * 7) + 7]\n",
    "        df_weekly_cases.loc[(state, (\"week \" + str(week + 1))), \"mean\"] = df_day.mean()\n",
    "        df_weekly_cases.loc[(state, (\"week \" + str(week + 1))), \"median\"] = df_day.median()\n",
    "        df_weekly_cases.loc[(state, (\"week \" + str(week + 1))), \"mode\"] = df_day.mode().mode()[0]\n",
    "display(df_weekly_cases)"
   ]
  },
  {
   "cell_type": "markdown",
   "metadata": {},
   "source": [
    "### Compare the data against other states."
   ]
  },
  {
   "cell_type": "code",
   "execution_count": null,
   "metadata": {},
   "outputs": [],
   "source": []
  },
  {
   "cell_type": "markdown",
   "metadata": {},
   "source": [
    "### Identify counties with high case and death rates."
   ]
  },
  {
   "cell_type": "markdown",
   "metadata": {},
   "source": [
    "### Plot daily trends (cases and deaths, new cases) of state and top 5 infected counties. Utilize aggregrate, normalized by population, and log normalized values."
   ]
  }
 ],
 "metadata": {
  "kernelspec": {
   "display_name": "Python 3",
   "language": "python",
   "name": "python3"
  },
  "language_info": {
   "codemirror_mode": {
    "name": "ipython",
    "version": 3
   },
   "file_extension": ".py",
   "mimetype": "text/x-python",
   "name": "python",
   "nbconvert_exporter": "python",
   "pygments_lexer": "ipython3",
   "version": "3.8.5"
  }
 },
 "nbformat": 4,
 "nbformat_minor": 4
}
