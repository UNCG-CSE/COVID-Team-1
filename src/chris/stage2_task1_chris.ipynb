{
 "cells": [
  {
   "cell_type": "markdown",
   "metadata": {},
   "source": [
    "\n",
    "# COVID-Team-1\n",
    "### Dr. Mohanty\n",
    "### Christopher Brantley\n",
    "### CSC 405 01\n",
    "### Last Updated: 10/18/2020\n",
    "### I, Christopher Brantley, have abided by the UNCG academic policy."
   ]
  },
  {
   "cell_type": "code",
   "execution_count": 1,
   "metadata": {},
   "outputs": [],
   "source": [
    "import os \n",
    "os.chdir(\"../\")"
   ]
  },
  {
   "cell_type": "code",
   "execution_count": 2,
   "metadata": {},
   "outputs": [],
   "source": [
    "import ipynb\n",
    "from ipynb.fs.full import covid_data as cd\n",
    "import pandas as pd\n",
    "import matplotlib\n",
    "import matplotlib.pyplot as plt\n",
    "import numpy as np"
   ]
  },
  {
   "cell_type": "code",
   "execution_count": 3,
   "metadata": {},
   "outputs": [],
   "source": [
    "# Telling pandas not convert to html tags.\n",
    "pd.set_option('display.html.table_schema', True)\n",
    "# Max columns and rows to display.\n",
    "pd.set_option('display.max_columns', 15)\n",
    "pd.set_option('display.max_rows', 8)"
   ]
  },
  {
   "cell_type": "markdown",
   "metadata": {},
   "source": [
    "### Data Paths"
   ]
  },
  {
   "cell_type": "code",
   "execution_count": 4,
   "metadata": {},
   "outputs": [],
   "source": [
    "# Relative to \"../\"\n",
    "_state_daily_cases = \"./chris/DATA/state_county_daily_cases.csv\"\n",
    "_state_daily_deaths = \"./chris/DATA/state_county_daily_deaths.csv\"\n",
    "\n",
    "_state_weekly_casees = \"./chris/DATA/state_county_weekly_cases.csv\"\n",
    "_state_weekly_deaths = \"./chris/DATA/state_county_weekly_deaths.csv\"\n",
    "\n",
    "_state_county_weekly_stats_cases = \"./chris/DATA/state_county_weekly_stats_cases.csv\"\n",
    "_state_county_weekly_stats_deaths = \"./chris/DATA/state_county_weekly_stats_deaths.csv\""
   ]
  },
  {
   "cell_type": "markdown",
   "metadata": {},
   "source": [
    "# Generate weekly statistics (mean, median, mode) for number of cases and deaths across a specific state.\n"
   ]
  },
  {
   "cell_type": "markdown",
   "metadata": {},
   "source": [
    "### Generating daily new cases for State by county."
   ]
  },
  {
   "cell_type": "code",
   "execution_count": 5,
   "metadata": {},
   "outputs": [],
   "source": [
    "def state_daily_cases_to_csv(_state):\n",
    "    df_primary_data = cd.get_covid_primary_data()\n",
    "    df_state_cases = df_primary_data[df_primary_data.State == _state].filter(regex = \"County|cases\")\n",
    "    df_state_cases.set_index(\"County Name\", inplace = True)\n",
    "    df_daily_cases = pd.DataFrame(index = [df_state_cases.index])\n",
    "\n",
    "    number_days = len(df_state_cases.filter(regex = \"cases\").columns)\n",
    "    for day in range(-1, -number_days, -1):\n",
    "        column_name = df_state_cases.columns[day]\n",
    "        column_value = df_state_cases.iloc[:, day].sub(df_state_cases.iloc[:, day - 1]).values\n",
    "        df_daily_cases.insert(0, column_name, column_value)\n",
    "\n",
    "    first_column_name = df_state_cases.columns[0]\n",
    "    first_column_values = df_state_cases.iloc[:, 0:1].values\n",
    "    df_daily_cases.insert(0, first_column_name, first_column_values)\n",
    "    df_daily_cases.to_csv(_state_daily_cases)"
   ]
  },
  {
   "cell_type": "markdown",
   "metadata": {},
   "source": [
    "### Generating daily new deaths for State by county."
   ]
  },
  {
   "cell_type": "code",
   "execution_count": 6,
   "metadata": {},
   "outputs": [],
   "source": [
    "def state_daily_deaths_to_csv(state):\n",
    "    df_primary_data = cd.get_covid_primary_data()\n",
    "    df_state_deaths = df_primary_data[df_primary_data.State == state].filter(regex = \"County|deaths\")\n",
    "    df_state_deaths.set_index(\"County Name\", inplace = True)\n",
    "    df_daily_deaths = pd.DataFrame(index = [df_state_deaths.index])\n",
    "\n",
    "    number_days = len(df_state_deaths.filter(regex = \"deaths\").columns)\n",
    "    for day in range(-1, - number_days, -1):\n",
    "        column_name = df_state_deaths.columns[day]\n",
    "        column_values = df_state_deaths.iloc[:, day].sub(df_state_deaths.iloc[:, day - 1]).values\n",
    "        df_daily_deaths.insert(0, column_name, column_values)\n",
    "\n",
    "    first_column_name = df_state_deaths.columns[0]\n",
    "    first_column_values = df_state_deaths.iloc[:, 0:1].values\n",
    "    df_daily_deaths.insert(0, first_column_name, first_column_values)\n",
    "    df_daily_deaths.to_csv(_state_daily_deaths)"
   ]
  },
  {
   "cell_type": "markdown",
   "metadata": {},
   "source": [
    "### Accessor methods for State Daily Cases and Deaths."
   ]
  },
  {
   "cell_type": "code",
   "execution_count": 7,
   "metadata": {},
   "outputs": [],
   "source": [
    "# Accessor method for state daily cases by county.\n",
    "def get_state_daily_cases(_state):\n",
    "    \"\"\"Returns dataframe containing state daily cases by county.\"\"\"\n",
    "    state_daily_cases_to_csv(_state)\n",
    "    return pd.read_csv(_state_daily_cases, index_col=[0])\n",
    "    \n",
    "# Accessor method for state daily deaths by county.\n",
    "def get_state_daily_deaths(_state):\n",
    "    \"\"\"Returns dataframe containing state daily deaths by county.\"\"\"\n",
    "    state_daily_deaths_to_csv(_state)\n",
    "    return pd.read_csv(_state_daily_deaths, index_col=[0])"
   ]
  },
  {
   "cell_type": "markdown",
   "metadata": {},
   "source": [
    "### Accessor/Generator for Normalized Daily Cases"
   ]
  },
  {
   "cell_type": "code",
   "execution_count": 8,
   "metadata": {},
   "outputs": [],
   "source": [
    "def state_daily_cases_normalized(_state):\n",
    "    df_primary_data = cd.get_covid_primary_data()\n",
    "    df_state_cases = df_primary_data[df_primary_data.State == _state].filter(regex = \"County|cases\")\n",
    "    df_state_cases.set_index(\"County Name\", inplace = True)\n",
    "    df_daily_cases = pd.DataFrame(index = [df_state_cases.index])\n",
    "    df_state_pop = df_primary_data[df_primary_data.State == _state].filter(regex = \"County|population\")\n",
    "    df_state_pop.set_index(\"County Name\", inplace = True)\n",
    "    \n",
    "    number_days = len(df_state_cases.filter(regex = \"cases\").columns)\n",
    "    for day in range(-1, -number_days, -1):\n",
    "        column_name = df_state_cases.columns[day]\n",
    "        column_value = df_state_cases.iloc[:, day].sub(df_state_cases.iloc[:, day - 1]).values\n",
    "        df_daily_cases.insert(0, column_name, column_value)\n",
    "\n",
    "    for county in df_state_cases.index.values:\n",
    "        pop = df_state_pop.loc[county,\"population\"]\n",
    "        df_daily_cases.loc[county, :] = \\\n",
    "        df_daily_cases.loc[county, :].apply(lambda x: round(((x / pop) * 100000), 0)).values\n",
    "\n",
    "    first_column_name = df_state_cases.columns[0]\n",
    "    first_column_values = df_state_cases.iloc[:, 0:1].apply(lambda x: round(((x / pop) * 100000), 0)).values\n",
    "    df_daily_cases.insert(0, first_column_name, first_column_values)\n",
    "    \n",
    "    return df_daily_cases"
   ]
  },
  {
   "cell_type": "code",
   "execution_count": 9,
   "metadata": {},
   "outputs": [],
   "source": [
    "def state_daily_cases_log10(_state):\n",
    "    df_primary_data = cd.get_covid_primary_data()\n",
    "    df_state_cases = df_primary_data[df_primary_data.State == _state].filter(regex = \"County|cases\")\n",
    "    df_state_cases.set_index(\"County Name\", inplace = True)\n",
    "    df_daily_cases = pd.DataFrame(index = [df_state_cases.index])\n",
    "    df_state_pop = df_primary_data[df_primary_data.State == _state].filter(regex = \"County|population\")\n",
    "    df_state_pop.set_index(\"County Name\", inplace = True)\n",
    "    \n",
    "    number_days = len(df_state_cases.filter(regex = \"cases\").columns)\n",
    "    for day in range(-1, -number_days, -1):\n",
    "        column_name = df_state_cases.columns[day]\n",
    "        column_value = df_state_cases.iloc[:, day].sub(df_state_cases.iloc[:, day - 1]).values\n",
    "        df_daily_cases.insert(0, column_name, column_value)\n",
    "\n",
    "    for county in df_state_cases.index.values:\n",
    "        pop = df_state_pop.loc[county,\"population\"]\n",
    "        df_daily_cases.loc[county, :] = \\\n",
    "        np.log10(df_daily_cases.loc[county, :].apply(lambda x: round(((x / pop) * 100000), 0)).values)\n",
    "\n",
    "    first_column_name = df_state_cases.columns[0]\n",
    "    first_column_values = np.log10(df_state_cases.iloc[:, 0:1]\\\n",
    "                                   .apply(lambda x: round(((x / pop) * 100000), 0)).values)\n",
    "    df_daily_cases.insert(0, first_column_name, first_column_values)\n",
    "    \n",
    "    return df_daily_cases"
   ]
  },
  {
   "cell_type": "markdown",
   "metadata": {},
   "source": [
    "### Accessor/Generator for Normalized Daily Deaths"
   ]
  },
  {
   "cell_type": "code",
   "execution_count": 10,
   "metadata": {},
   "outputs": [],
   "source": [
    "def state_daily_deaths_normalized(_state):\n",
    "    df_primary_data = cd.get_covid_primary_data()\n",
    "    df_state_deaths = df_primary_data[df_primary_data.State == _state].filter(regex = \"County|deaths\")\n",
    "    df_state_deaths.set_index(\"County Name\", inplace = True)\n",
    "    df_daily_deaths = pd.DataFrame(index = [df_state_deaths.index])\n",
    "    df_state_pop = df_primary_data[df_primary_data.State == _state].filter(regex = \"County|population\")\n",
    "    df_state_pop.set_index(\"County Name\", inplace = True)\n",
    "\n",
    "    number_days = len(df_state_deaths.filter(regex = \"deaths\").columns)\n",
    "    for day in range(-1, - number_days, -1):\n",
    "        column_name = df_state_deaths.columns[day]\n",
    "        column_values = df_state_deaths.iloc[:, day].sub(df_state_deaths.iloc[:, day - 1]).values\n",
    "        df_daily_deaths.insert(0, column_name, column_values)\n",
    "\n",
    "    for county in df_daily_deaths.index.values:\n",
    "        pop = df_state_pop.loc[county,\"population\"]\n",
    "        df_daily_deaths.loc[county, :] = \\\n",
    "        df_daily_deaths.loc[county, :].apply(lambda x: round(((x / pop) * 100000), 0)).values\n",
    "    \n",
    "    first_column_name = df_state_deaths.columns[0]\n",
    "    first_column_values = df_state_deaths.iloc[:, 0:1].apply(lambda x:(x / pop) * 100000).values\n",
    "    df_daily_deaths.insert(0, first_column_name, first_column_values)\n",
    "    return df_daily_deaths"
   ]
  },
  {
   "cell_type": "code",
   "execution_count": 11,
   "metadata": {},
   "outputs": [],
   "source": [
    "def state_daily_deaths_log10(_state):\n",
    "    df_primary_data = cd.get_covid_primary_data()\n",
    "    df_state_deaths = df_primary_data[df_primary_data.State == _state].filter(regex = \"County|deaths\")\n",
    "    df_state_deaths.set_index(\"County Name\", inplace = True)\n",
    "    df_daily_deaths = pd.DataFrame(index = [df_state_deaths.index])\n",
    "    df_state_pop = df_primary_data[df_primary_data.State == _state].filter(regex = \"County|population\")\n",
    "    df_state_pop.set_index(\"County Name\", inplace = True)\n",
    "\n",
    "    number_days = len(df_state_deaths.filter(regex = \"deaths\").columns)\n",
    "    for day in range(-1, - number_days, -1):\n",
    "        column_name = df_state_deaths.columns[day]\n",
    "        column_values = df_state_deaths.iloc[:, day].sub(df_state_deaths.iloc[:, day - 1]).values\n",
    "        df_daily_deaths.insert(0, column_name, column_values)\n",
    "\n",
    "    for county in df_daily_deaths.index.values:\n",
    "        pop = df_state_pop.loc[county,\"population\"]\n",
    "        df_daily_deaths.loc[county, :] = \\\n",
    "        np.log10(df_daily_deaths.loc[county, :].apply(lambda x: round(((x / pop) * 100000), 0)).values)\n",
    "    \n",
    "    first_column_name = df_state_deaths.columns[0]\n",
    "    first_column_values = np.log10(df_state_deaths.iloc[:, 0:1].apply(lambda x:(x / pop) * 100000).values)\n",
    "    df_daily_deaths.insert(0, first_column_name, first_column_values)\n",
    "    return df_daily_deaths"
   ]
  },
  {
   "cell_type": "markdown",
   "metadata": {},
   "source": [
    "### Generating Weekly Cases for State by County."
   ]
  },
  {
   "cell_type": "code",
   "execution_count": 12,
   "metadata": {},
   "outputs": [],
   "source": [
    "def state_weekly_cases_to_csv(state):\n",
    "    df_county_cases = get_state_daily_cases(state)\n",
    "    number_days = df_county_cases.filter(regex = \"cases\").shape[1]\n",
    "    number_weeks = int(((7 - number_days % 7) + number_days) / 7)\n",
    "\n",
    "    index_county = []\n",
    "    index_weeks = []\n",
    "    for county in df_county_cases.index.values:\n",
    "        for week in range(0, number_weeks, 1):\n",
    "            index_county.append(county)\n",
    "            index_weeks.append(\"week \" + str(week + 1))\n",
    "    \n",
    "    df_county_weekly = pd.DataFrame(index = [index_county, index_weeks],\\\n",
    "                                   columns = [\"cases\"])\n",
    "    for county in df_county_cases.index.values:\n",
    "        for column in range(0, df_county_cases.shape[1], 7):\n",
    "            df_county_weekly.loc[(county, \"week \" + str((column // 7) + 1))] = \\\n",
    "                df_county_cases.loc[county].iloc[column:column + 7].sum()\n",
    "    df_county_weekly.to_csv(_state_weekly_casees)"
   ]
  },
  {
   "cell_type": "markdown",
   "metadata": {},
   "source": [
    "### Generating Weekly Deaths for State by County."
   ]
  },
  {
   "cell_type": "code",
   "execution_count": 13,
   "metadata": {},
   "outputs": [],
   "source": [
    "def state_weekly_deaths_to_csv(state):\n",
    "    df_county_deaths = get_state_daily_deaths(state)\n",
    "    number_days = df_county_deaths.filter(regex = \"deaths\").shape[1]\n",
    "    number_weeks = int(((7 - number_days % 7) + number_days) / 7)\n",
    "    \n",
    "    index_county = []\n",
    "    index_weeks = []\n",
    "    for county in df_county_deaths.index.values:\n",
    "        for week in range(0, number_weeks, 1):\n",
    "            index_county.append(county)\n",
    "            index_weeks.append(\"week \" + str(week + 1))\n",
    "            \n",
    "    df_county_weekly = pd.DataFrame(index = [index_county, index_weeks],\n",
    "                                    columns = [\"deaths\"])\n",
    "    for county in df_county_deaths.index.values:\n",
    "        for column in range(0, df_county_deaths.shape[1], 7):\n",
    "            df_county_weekly.loc[(county, \"week \" + str((column // 7) + 1))] = \\\n",
    "                df_county_deaths.loc[county].iloc[column:column + 7].sum()\n",
    "    df_county_weekly.to_csv(_state_weekly_deaths)"
   ]
  },
  {
   "cell_type": "markdown",
   "metadata": {},
   "source": [
    "### Accessor Methods for State Weekly Cases and Deaths"
   ]
  },
  {
   "cell_type": "code",
   "execution_count": 14,
   "metadata": {},
   "outputs": [],
   "source": [
    "# Accessor method for state weekly cases by county.\n",
    "def get_state_weekly_cases(_state):\n",
    "    state_weekly_cases_to_csv(_state)\n",
    "    return pd.read_csv(_state_weekly_casees, index_col=[0, 1])\n",
    "    \n",
    "# Accessor method for state weekly deaths by county.\n",
    "def get_state_weekly_deaths(_state):\n",
    "    \"\"\"Returns dataframe containing state weekly deaths by county.\"\"\"\n",
    "    state_weekly_deaths_to_csv(_state)\n",
    "    return pd.read_csv(_state_weekly_deaths, index_col=[0, 1])"
   ]
  },
  {
   "cell_type": "markdown",
   "metadata": {},
   "source": [
    "### Generating Weekly Case Stats for State by county."
   ]
  },
  {
   "cell_type": "code",
   "execution_count": 15,
   "metadata": {},
   "outputs": [],
   "source": [
    "def state_weekly_cases_stats_to_csv(_state,):\n",
    "    df_primary_data = cd.get_covid_primary_data()\n",
    "    df_state_pop = df_primary_data[df_primary_data.State == _state].filter(regex = \"County|population\")\n",
    "    df_state_pop.set_index(\"County Name\", inplace = True)\n",
    "    df_weekly_normalized = get_state_weekly_cases(_state)\n",
    "\n",
    "    # Normalizing cases to 100,000.\n",
    "    for county in df_weekly_normalized.index.get_level_values(0).unique():\n",
    "        pop = df_state_pop.loc[county, \"population\"]\n",
    "        df_weekly_normalized.loc[county, :] = \\\n",
    "        df_weekly_normalized.loc[county, :].apply(lambda x: round(((x / pop) * 100000), 0)).values\n",
    "\n",
    "    df_county_normalized = pd.DataFrame(index = [df_weekly_normalized.index.get_level_values(0).unique()],\\\n",
    "                                   columns = [\"mean\", \"median\", \"mode\"])\n",
    "    for county in df_weekly_normalized.index.get_level_values(0).unique():\n",
    "        df_county_normalized.loc[county, \"mean\"] = df_weekly_normalized.loc[county].mean()[0]\n",
    "        df_county_normalized.loc[county, \"median\"] = df_weekly_normalized.loc[county].median()[0]\n",
    "        df_county_normalized.loc[county, \"mode\"] = df_weekly_normalized.loc[county].mode().values[0,0]\n",
    "    df_county_normalized.to_csv(_state_county_weekly_stats_cases)"
   ]
  },
  {
   "cell_type": "markdown",
   "metadata": {},
   "source": [
    "### Generating Weekly Deaths Stats for State by county."
   ]
  },
  {
   "cell_type": "code",
   "execution_count": 16,
   "metadata": {},
   "outputs": [],
   "source": [
    "def state_weekly_deaths_stats_to_csv(_state,):\n",
    "    df_primary_data = cd.get_covid_primary_data()\n",
    "    df_state_pop = df_primary_data[df_primary_data.State == _state].filter(regex = \"County|population\")\n",
    "    df_state_pop.set_index(\"County Name\", inplace = True)\n",
    "    df_weekly_normalized = get_state_weekly_deaths(_state)\n",
    "\n",
    "    # Normalizing cases to 100,000.\n",
    "    for county in df_weekly_normalized.index.get_level_values(0).unique():\n",
    "        pop = df_state_pop.loc[county, \"population\"]\n",
    "        df_weekly_normalized.loc[county, :] = \\\n",
    "        df_weekly_normalized.loc[county, :].apply(lambda x: round(((x / pop) * 100000), 0)).values\n",
    "\n",
    "    df_county_normalized = pd.DataFrame(index = [df_weekly_normalized.index.get_level_values(0).unique()],\\\n",
    "                                   columns = [\"mean\", \"median\", \"mode\"])\n",
    "    for county in df_weekly_normalized.index.get_level_values(0).unique():\n",
    "        df_county_normalized.loc[county, \"mean\"] = round(df_weekly_normalized.loc[county].mean()[0], 0)\n",
    "        df_county_normalized.loc[county, \"median\"] = round(df_weekly_normalized.loc[county].median()[0])\n",
    "        df_county_normalized.loc[county, \"mode\"] = round(df_weekly_normalized.loc[county].mode().values[0,0], 0)\n",
    "    df_county_normalized.to_csv(_state_county_weekly_stats_deaths)"
   ]
  },
  {
   "cell_type": "markdown",
   "metadata": {},
   "source": [
    "### Accessor Methods for State Weekly Cases and Deaths"
   ]
  },
  {
   "cell_type": "code",
   "execution_count": 17,
   "metadata": {},
   "outputs": [],
   "source": [
    "# Accessor method for state weekly cases by county.\n",
    "def get_county_weekly_cases_stats(_state):\n",
    "    state_weekly_cases_stats_to_csv(_state)\n",
    "    return pd.read_csv(_state_county_weekly_stats_cases, index_col=[0])\n",
    "    \n",
    "# Accessor method for state weekly deaths by county.\n",
    "def get_county_weekly_deaths_stats(_state):\n",
    "    \"\"\"Returns dataframe containing state weekly deaths by county.\"\"\"\n",
    "    state_weekly_deaths_stats_to_csv(_state)\n",
    "    return pd.read_csv(_state_county_weekly_stats_deaths, index_col=[0])"
   ]
  },
  {
   "cell_type": "markdown",
   "metadata": {},
   "source": [
    "### Generator and Accessor for  Weekly Cases Stats for State."
   ]
  },
  {
   "cell_type": "code",
   "execution_count": 18,
   "metadata": {},
   "outputs": [],
   "source": [
    "def county_weekly_stats_overall(_state):\n",
    "    df_overall_weekly_county = pd.DataFrame(index = [_state + \" weekly cases\",\n",
    "                                 _state + \" weekly deaths\"],\n",
    "                 columns = [\"mean\", \"median\", \"mode\"])\n",
    "\n",
    "    for data_type, dataset in zip(tuple(df_overall_weekly_county.index.values),\\\n",
    "                                  (get_county_weekly_cases_stats(_state),\\\n",
    "                                   get_county_weekly_deaths_stats(_state))):\n",
    "        df_overall_weekly_county.loc[data_type, \"mean\"] = dataset[\"mean\"].mean()\n",
    "        df_overall_weekly_county.loc[data_type, \"median\"] = dataset[\"median\"].median()\n",
    "        df_overall_weekly_county.loc[data_type, \"mode\"] = dataset[\"mode\"].mode()[0]\n",
    "\n",
    "    return df_overall_weekly_county"
   ]
  },
  {
   "cell_type": "code",
   "execution_count": null,
   "metadata": {},
   "outputs": [],
   "source": []
  },
  {
   "cell_type": "code",
   "execution_count": null,
   "metadata": {},
   "outputs": [],
   "source": []
  },
  {
   "cell_type": "markdown",
   "metadata": {},
   "source": [
    "# Task 1.1 Generate weekly statistics (mean, median, mode) for number of cases and deaths across a specific state. "
   ]
  },
  {
   "cell_type": "code",
   "execution_count": 19,
   "metadata": {
    "scrolled": true
   },
   "outputs": [
    {
     "data": {
      "application/vnd.dataresource+json": {
       "data": [
        {
         "index": "Alachua County",
         "mean": 72.4,
         "median": 19,
         "mode": 0
        },
        {
         "index": "Baker County",
         "mean": 132.3714285714,
         "median": 14,
         "mode": 0
        },
        {
         "index": "Bay County",
         "mean": 93.7142857143,
         "median": 7,
         "mode": 0
        },
        {
         "index": "Bradford County",
         "mean": 97.6,
         "median": 14,
         "mode": 0
        },
        {
         "index": "Brevard County",
         "mean": 38.4,
         "median": 8,
         "mode": 0
        },
        {
         "index": "Broward County",
         "mean": 109.4571428571,
         "median": 46,
         "mode": 0
        },
        {
         "index": "Calhoun County",
         "mean": 121.8571428571,
         "median": 35,
         "mode": 0
        },
        {
         "index": "Charlotte County",
         "mean": 43.7714285714,
         "median": 24,
         "mode": 0
        }
       ],
       "schema": {
        "fields": [
         {
          "name": "index",
          "type": "string"
         },
         {
          "name": "mean",
          "type": "number"
         },
         {
          "name": "median",
          "type": "number"
         },
         {
          "name": "mode",
          "type": "number"
         }
        ],
        "pandas_version": "0.20.0",
        "primaryKey": [
         "index"
        ]
       }
      },
      "text/html": [
       "<div>\n",
       "<style scoped>\n",
       "    .dataframe tbody tr th:only-of-type {\n",
       "        vertical-align: middle;\n",
       "    }\n",
       "\n",
       "    .dataframe tbody tr th {\n",
       "        vertical-align: top;\n",
       "    }\n",
       "\n",
       "    .dataframe thead th {\n",
       "        text-align: right;\n",
       "    }\n",
       "</style>\n",
       "<table border=\"1\" class=\"dataframe\">\n",
       "  <thead>\n",
       "    <tr style=\"text-align: right;\">\n",
       "      <th></th>\n",
       "      <th>mean</th>\n",
       "      <th>median</th>\n",
       "      <th>mode</th>\n",
       "    </tr>\n",
       "  </thead>\n",
       "  <tbody>\n",
       "    <tr>\n",
       "      <th>Alachua County</th>\n",
       "      <td>72.400000</td>\n",
       "      <td>19.0</td>\n",
       "      <td>0.0</td>\n",
       "    </tr>\n",
       "    <tr>\n",
       "      <th>Baker County</th>\n",
       "      <td>132.371429</td>\n",
       "      <td>14.0</td>\n",
       "      <td>0.0</td>\n",
       "    </tr>\n",
       "    <tr>\n",
       "      <th>Bay County</th>\n",
       "      <td>93.714286</td>\n",
       "      <td>7.0</td>\n",
       "      <td>0.0</td>\n",
       "    </tr>\n",
       "    <tr>\n",
       "      <th>Bradford County</th>\n",
       "      <td>97.600000</td>\n",
       "      <td>14.0</td>\n",
       "      <td>0.0</td>\n",
       "    </tr>\n",
       "    <tr>\n",
       "      <th>...</th>\n",
       "      <td>...</td>\n",
       "      <td>...</td>\n",
       "      <td>...</td>\n",
       "    </tr>\n",
       "    <tr>\n",
       "      <th>Volusia County</th>\n",
       "      <td>53.142857</td>\n",
       "      <td>14.0</td>\n",
       "      <td>0.0</td>\n",
       "    </tr>\n",
       "    <tr>\n",
       "      <th>Wakulla County</th>\n",
       "      <td>88.542857</td>\n",
       "      <td>15.0</td>\n",
       "      <td>0.0</td>\n",
       "    </tr>\n",
       "    <tr>\n",
       "      <th>Walton County</th>\n",
       "      <td>71.571429</td>\n",
       "      <td>20.0</td>\n",
       "      <td>0.0</td>\n",
       "    </tr>\n",
       "    <tr>\n",
       "      <th>Washington County</th>\n",
       "      <td>117.971429</td>\n",
       "      <td>16.0</td>\n",
       "      <td>0.0</td>\n",
       "    </tr>\n",
       "  </tbody>\n",
       "</table>\n",
       "<p>67 rows × 3 columns</p>\n",
       "</div>"
      ],
      "text/plain": [
       "                         mean  median  mode\n",
       "Alachua County      72.400000    19.0   0.0\n",
       "Baker County       132.371429    14.0   0.0\n",
       "Bay County          93.714286     7.0   0.0\n",
       "Bradford County     97.600000    14.0   0.0\n",
       "...                       ...     ...   ...\n",
       "Volusia County      53.142857    14.0   0.0\n",
       "Wakulla County      88.542857    15.0   0.0\n",
       "Walton County       71.571429    20.0   0.0\n",
       "Washington County  117.971429    16.0   0.0\n",
       "\n",
       "[67 rows x 3 columns]"
      ]
     },
     "metadata": {},
     "output_type": "display_data"
    }
   ],
   "source": [
    "display(get_county_weekly_cases_stats(\"FL\"))"
   ]
  },
  {
   "cell_type": "code",
   "execution_count": 20,
   "metadata": {},
   "outputs": [
    {
     "data": {
      "application/vnd.dataresource+json": {
       "data": [
        {
         "index": "Alachua County",
         "mean": 0,
         "median": 0,
         "mode": 0
        },
        {
         "index": "Baker County",
         "mean": 1,
         "median": 0,
         "mode": 0
        },
        {
         "index": "Bay County",
         "mean": 2,
         "median": 0,
         "mode": 0
        },
        {
         "index": "Bradford County",
         "mean": 1,
         "median": 0,
         "mode": 0
        },
        {
         "index": "Brevard County",
         "mean": 1,
         "median": 0,
         "mode": 0
        },
        {
         "index": "Broward County",
         "mean": 2,
         "median": 1,
         "mode": 0
        },
        {
         "index": "Calhoun County",
         "mean": 2,
         "median": 0,
         "mode": 0
        },
        {
         "index": "Charlotte County",
         "mean": 2,
         "median": 2,
         "mode": 0
        }
       ],
       "schema": {
        "fields": [
         {
          "name": "index",
          "type": "string"
         },
         {
          "name": "mean",
          "type": "number"
         },
         {
          "name": "median",
          "type": "integer"
         },
         {
          "name": "mode",
          "type": "number"
         }
        ],
        "pandas_version": "0.20.0",
        "primaryKey": [
         "index"
        ]
       }
      },
      "text/html": [
       "<div>\n",
       "<style scoped>\n",
       "    .dataframe tbody tr th:only-of-type {\n",
       "        vertical-align: middle;\n",
       "    }\n",
       "\n",
       "    .dataframe tbody tr th {\n",
       "        vertical-align: top;\n",
       "    }\n",
       "\n",
       "    .dataframe thead th {\n",
       "        text-align: right;\n",
       "    }\n",
       "</style>\n",
       "<table border=\"1\" class=\"dataframe\">\n",
       "  <thead>\n",
       "    <tr style=\"text-align: right;\">\n",
       "      <th></th>\n",
       "      <th>mean</th>\n",
       "      <th>median</th>\n",
       "      <th>mode</th>\n",
       "    </tr>\n",
       "  </thead>\n",
       "  <tbody>\n",
       "    <tr>\n",
       "      <th>Alachua County</th>\n",
       "      <td>0.0</td>\n",
       "      <td>0</td>\n",
       "      <td>0.0</td>\n",
       "    </tr>\n",
       "    <tr>\n",
       "      <th>Baker County</th>\n",
       "      <td>1.0</td>\n",
       "      <td>0</td>\n",
       "      <td>0.0</td>\n",
       "    </tr>\n",
       "    <tr>\n",
       "      <th>Bay County</th>\n",
       "      <td>2.0</td>\n",
       "      <td>0</td>\n",
       "      <td>0.0</td>\n",
       "    </tr>\n",
       "    <tr>\n",
       "      <th>Bradford County</th>\n",
       "      <td>1.0</td>\n",
       "      <td>0</td>\n",
       "      <td>0.0</td>\n",
       "    </tr>\n",
       "    <tr>\n",
       "      <th>...</th>\n",
       "      <td>...</td>\n",
       "      <td>...</td>\n",
       "      <td>...</td>\n",
       "    </tr>\n",
       "    <tr>\n",
       "      <th>Volusia County</th>\n",
       "      <td>1.0</td>\n",
       "      <td>1</td>\n",
       "      <td>0.0</td>\n",
       "    </tr>\n",
       "    <tr>\n",
       "      <th>Wakulla County</th>\n",
       "      <td>1.0</td>\n",
       "      <td>0</td>\n",
       "      <td>0.0</td>\n",
       "    </tr>\n",
       "    <tr>\n",
       "      <th>Walton County</th>\n",
       "      <td>1.0</td>\n",
       "      <td>0</td>\n",
       "      <td>0.0</td>\n",
       "    </tr>\n",
       "    <tr>\n",
       "      <th>Washington County</th>\n",
       "      <td>2.0</td>\n",
       "      <td>0</td>\n",
       "      <td>0.0</td>\n",
       "    </tr>\n",
       "  </tbody>\n",
       "</table>\n",
       "<p>67 rows × 3 columns</p>\n",
       "</div>"
      ],
      "text/plain": [
       "                   mean  median  mode\n",
       "Alachua County      0.0       0   0.0\n",
       "Baker County        1.0       0   0.0\n",
       "Bay County          2.0       0   0.0\n",
       "Bradford County     1.0       0   0.0\n",
       "...                 ...     ...   ...\n",
       "Volusia County      1.0       1   0.0\n",
       "Wakulla County      1.0       0   0.0\n",
       "Walton County       1.0       0   0.0\n",
       "Washington County   2.0       0   0.0\n",
       "\n",
       "[67 rows x 3 columns]"
      ]
     },
     "metadata": {},
     "output_type": "display_data"
    }
   ],
   "source": [
    "display(get_county_weekly_deaths_stats(\"FL\"))"
   ]
  },
  {
   "cell_type": "code",
   "execution_count": 21,
   "metadata": {},
   "outputs": [
    {
     "data": {
      "application/vnd.dataresource+json": {
       "data": [
        {
         "index": "FL weekly cases",
         "mean": 98.7748400853,
         "median": 18,
         "mode": 0
        },
        {
         "index": "FL weekly deaths",
         "mean": 1.6567164179,
         "median": 0,
         "mode": 0
        }
       ],
       "schema": {
        "fields": [
         {
          "name": "index",
          "type": "string"
         },
         {
          "name": "mean",
          "type": "string"
         },
         {
          "name": "median",
          "type": "string"
         },
         {
          "name": "mode",
          "type": "string"
         }
        ],
        "pandas_version": "0.20.0",
        "primaryKey": [
         "index"
        ]
       }
      },
      "text/html": [
       "<div>\n",
       "<style scoped>\n",
       "    .dataframe tbody tr th:only-of-type {\n",
       "        vertical-align: middle;\n",
       "    }\n",
       "\n",
       "    .dataframe tbody tr th {\n",
       "        vertical-align: top;\n",
       "    }\n",
       "\n",
       "    .dataframe thead th {\n",
       "        text-align: right;\n",
       "    }\n",
       "</style>\n",
       "<table border=\"1\" class=\"dataframe\">\n",
       "  <thead>\n",
       "    <tr style=\"text-align: right;\">\n",
       "      <th></th>\n",
       "      <th>mean</th>\n",
       "      <th>median</th>\n",
       "      <th>mode</th>\n",
       "    </tr>\n",
       "  </thead>\n",
       "  <tbody>\n",
       "    <tr>\n",
       "      <th>FL weekly cases</th>\n",
       "      <td>98.7748</td>\n",
       "      <td>18</td>\n",
       "      <td>0</td>\n",
       "    </tr>\n",
       "    <tr>\n",
       "      <th>FL weekly deaths</th>\n",
       "      <td>1.65672</td>\n",
       "      <td>0</td>\n",
       "      <td>0</td>\n",
       "    </tr>\n",
       "  </tbody>\n",
       "</table>\n",
       "</div>"
      ],
      "text/plain": [
       "                     mean median mode\n",
       "FL weekly cases   98.7748     18    0\n",
       "FL weekly deaths  1.65672      0    0"
      ]
     },
     "metadata": {},
     "output_type": "display_data"
    }
   ],
   "source": [
    "display(county_weekly_stats_overall(\"FL\"))"
   ]
  },
  {
   "cell_type": "code",
   "execution_count": null,
   "metadata": {},
   "outputs": [],
   "source": []
  },
  {
   "cell_type": "code",
   "execution_count": null,
   "metadata": {},
   "outputs": [],
   "source": []
  },
  {
   "cell_type": "markdown",
   "metadata": {},
   "source": [
    "# Task 1.2 Compare the data against other states."
   ]
  },
  {
   "cell_type": "markdown",
   "metadata": {},
   "source": [
    "#### Generating Random States"
   ]
  },
  {
   "cell_type": "code",
   "execution_count": 22,
   "metadata": {},
   "outputs": [
    {
     "data": {
      "text/plain": [
       "['ND', 'VA', 'CA', 'NJ', 'MO']"
      ]
     },
     "metadata": {},
     "output_type": "display_data"
    }
   ],
   "source": [
    "df_primary_data = cd.get_covid_primary_data()\n",
    "df_primary_data = df_primary_data[df_primary_data.State != \"FL\"]\n",
    "random_states = np.random.choice(df_primary_data.State.values, 5)\n",
    "display(random_states.tolist())\n",
    "random_states = ['ND', 'IL', 'NM', 'ID', 'TX']"
   ]
  },
  {
   "cell_type": "markdown",
   "metadata": {},
   "source": [
    "#### Generating Weekly Data for Each State"
   ]
  },
  {
   "cell_type": "code",
   "execution_count": 23,
   "metadata": {},
   "outputs": [
    {
     "data": {
      "application/vnd.dataresource+json": {
       "data": [
        {
         "index": "ND",
         "mean": 42.9832884097,
         "median": 0,
         "mode": 0
        },
        {
         "index": "IL",
         "mean": 39.0669467787,
         "median": 9,
         "mode": 0
        },
        {
         "index": "NM",
         "mean": 29.3783549784,
         "median": 6,
         "mode": 0
        },
        {
         "index": "ID",
         "mean": 42.7415584416,
         "median": 4.5,
         "mode": 0
        },
        {
         "index": "TX",
         "mean": 55.4896512936,
         "median": 8,
         "mode": 0
        },
        {
         "index": "FL",
         "mean": 98.7748400853,
         "median": 18,
         "mode": 0
        }
       ],
       "schema": {
        "fields": [
         {
          "name": "index",
          "type": "string"
         },
         {
          "name": "mean",
          "type": "string"
         },
         {
          "name": "median",
          "type": "string"
         },
         {
          "name": "mode",
          "type": "string"
         }
        ],
        "pandas_version": "0.20.0",
        "primaryKey": [
         "index"
        ]
       }
      },
      "text/html": [
       "<div>\n",
       "<style scoped>\n",
       "    .dataframe tbody tr th:only-of-type {\n",
       "        vertical-align: middle;\n",
       "    }\n",
       "\n",
       "    .dataframe tbody tr th {\n",
       "        vertical-align: top;\n",
       "    }\n",
       "\n",
       "    .dataframe thead th {\n",
       "        text-align: right;\n",
       "    }\n",
       "</style>\n",
       "<table border=\"1\" class=\"dataframe\">\n",
       "  <thead>\n",
       "    <tr style=\"text-align: right;\">\n",
       "      <th></th>\n",
       "      <th>mean</th>\n",
       "      <th>median</th>\n",
       "      <th>mode</th>\n",
       "    </tr>\n",
       "  </thead>\n",
       "  <tbody>\n",
       "    <tr>\n",
       "      <th>ND</th>\n",
       "      <td>42.9833</td>\n",
       "      <td>0</td>\n",
       "      <td>0</td>\n",
       "    </tr>\n",
       "    <tr>\n",
       "      <th>IL</th>\n",
       "      <td>39.0669</td>\n",
       "      <td>9</td>\n",
       "      <td>0</td>\n",
       "    </tr>\n",
       "    <tr>\n",
       "      <th>NM</th>\n",
       "      <td>29.3784</td>\n",
       "      <td>6</td>\n",
       "      <td>0</td>\n",
       "    </tr>\n",
       "    <tr>\n",
       "      <th>ID</th>\n",
       "      <td>42.7416</td>\n",
       "      <td>4.5</td>\n",
       "      <td>0</td>\n",
       "    </tr>\n",
       "    <tr>\n",
       "      <th>TX</th>\n",
       "      <td>55.4897</td>\n",
       "      <td>8</td>\n",
       "      <td>0</td>\n",
       "    </tr>\n",
       "    <tr>\n",
       "      <th>FL</th>\n",
       "      <td>98.7748</td>\n",
       "      <td>18</td>\n",
       "      <td>0</td>\n",
       "    </tr>\n",
       "  </tbody>\n",
       "</table>\n",
       "</div>"
      ],
      "text/plain": [
       "       mean median mode\n",
       "ND  42.9833      0    0\n",
       "IL  39.0669      9    0\n",
       "NM  29.3784      6    0\n",
       "ID  42.7416    4.5    0\n",
       "TX  55.4897      8    0\n",
       "FL  98.7748     18    0"
      ]
     },
     "metadata": {},
     "output_type": "display_data"
    }
   ],
   "source": [
    "all_states = random_states\n",
    "all_states.append(\"FL\")\n",
    "\n",
    "df_state_data = pd.DataFrame(index =  all_states,\n",
    "                            columns = [\"mean\", \"median\", \"mode\"])\n",
    "\n",
    "for state in all_states:\n",
    "    df_weekly_stats = county_weekly_stats_overall(state)\n",
    "    df_state_data.loc[state, \"mean\"] = df_weekly_stats.iloc[0][\"mean\"]\n",
    "    df_state_data.loc[state, \"median\"] = df_weekly_stats.iloc[0][\"median\"]\n",
    "    df_state_data.loc[state, \"mode\"] = df_weekly_stats.iloc[0][\"mode\"]\n",
    "display(df_state_data)"
   ]
  },
  {
   "cell_type": "markdown",
   "metadata": {},
   "source": [
    "# Comparing Cases by County by Week per State - Normalized to Cases per 100,000"
   ]
  },
  {
   "cell_type": "code",
   "execution_count": 24,
   "metadata": {},
   "outputs": [
    {
     "data": {
      "image/png": "[encoded data removed]",
      "text/plain": [
       "<Figure size 1440x720 with 3 Axes>"
      ]
     },
     "metadata": {
      "needs_background": "light"
     },
     "output_type": "display_data"
    }
   ],
   "source": [
    "ov_mean = df_state_data.loc[:, \"mean\"].mean()\n",
    "ov_median = df_state_data.loc[:, \"median\"].median()\n",
    "ov_mode = df_state_data.loc[:, \"mode\"].mode()[0]\n",
    "\n",
    "figure, axis = plt.subplots(3, gridspec_kw={'hspace': .5}, figsize = (20,10))\n",
    "for row, stat_type, ov_measure in zip(range(0,3,1), (\"mean\", \"median\", \"mode\"), (ov_mean, ov_median, ov_mode)):\n",
    "    df_state_data = df_state_data.sort_values(by = stat_type, ascending = True)\n",
    "    y_values = df_state_data.loc[:, stat_type]\n",
    "    bars = axis[row].bar(df_state_data.index.tolist(), y_values, color =\\\n",
    "                        [\"#4E2C3C\" if data >= ov_measure else \"#9177B5\" for data in y_values])\n",
    "    axis[row].plot(df_state_data.index.values, np.full(len(df_state_data.index.values), fill_value = ov_measure),\\\n",
    "                  linewidth = 3, color = \"#FC8C74\")\n",
    "    # Setting Graph Properties.\n",
    "    axis[row].title.set_text(stat_type + \" of Cases\")\n",
    "    axis[row].set_ylabel(\"Cases per 100,000\")\n",
    "    axis[row].tick_params(axis = \"x\", rotation = 45)\n",
    "plt.show()"
   ]
  },
  {
   "cell_type": "markdown",
   "metadata": {},
   "source": [
    "#### When comparing the data we can see that our average is highly affected by outliers. Florida has a much higher average than the other states that we have selected."
   ]
  },
  {
   "cell_type": "markdown",
   "metadata": {},
   "source": [
    "#### When looking at our median we see that we have a much more neutral central measurement. We have clear indication here that Florida is indeed the top performer for cases."
   ]
  },
  {
   "cell_type": "markdown",
   "metadata": {},
   "source": [
    "#### When looking at our mode we are missing values, this is most likely due to the method of measurement requiring the most repeated element. 0 is our most repeated element here due to the initial data elements showing no cases. We may want to consider methods to bring mode to life by trimming the data."
   ]
  },
  {
   "cell_type": "code",
   "execution_count": null,
   "metadata": {},
   "outputs": [],
   "source": []
  },
  {
   "cell_type": "code",
   "execution_count": null,
   "metadata": {},
   "outputs": [],
   "source": []
  },
  {
   "cell_type": "markdown",
   "metadata": {},
   "source": [
    "#### Generating Weekly Data for Each State"
   ]
  },
  {
   "cell_type": "code",
   "execution_count": 25,
   "metadata": {},
   "outputs": [
    {
     "data": {
      "application/vnd.dataresource+json": {
       "data": [
        {
         "index": "ND",
         "mean": 0.3773584906,
         "median": 0,
         "mode": 0
        },
        {
         "index": "IL",
         "mean": 0.7352941176,
         "median": 0,
         "mode": 0
        },
        {
         "index": "NM",
         "mean": 0.8484848485,
         "median": 0,
         "mode": 0
        },
        {
         "index": "ID",
         "mean": 0.4545454545,
         "median": 0,
         "mode": 0
        },
        {
         "index": "TX",
         "mean": 1.562992126,
         "median": 0,
         "mode": 0
        },
        {
         "index": "FL",
         "mean": 1.6567164179,
         "median": 0,
         "mode": 0
        },
        {
         "index": "FL",
         "mean": 1.6567164179,
         "median": 0,
         "mode": 0
        }
       ],
       "schema": {
        "fields": [
         {
          "name": "index",
          "type": "string"
         },
         {
          "name": "mean",
          "type": "string"
         },
         {
          "name": "median",
          "type": "string"
         },
         {
          "name": "mode",
          "type": "string"
         }
        ],
        "pandas_version": "0.20.0"
       }
      },
      "text/html": [
       "<div>\n",
       "<style scoped>\n",
       "    .dataframe tbody tr th:only-of-type {\n",
       "        vertical-align: middle;\n",
       "    }\n",
       "\n",
       "    .dataframe tbody tr th {\n",
       "        vertical-align: top;\n",
       "    }\n",
       "\n",
       "    .dataframe thead th {\n",
       "        text-align: right;\n",
       "    }\n",
       "</style>\n",
       "<table border=\"1\" class=\"dataframe\">\n",
       "  <thead>\n",
       "    <tr style=\"text-align: right;\">\n",
       "      <th></th>\n",
       "      <th>mean</th>\n",
       "      <th>median</th>\n",
       "      <th>mode</th>\n",
       "    </tr>\n",
       "  </thead>\n",
       "  <tbody>\n",
       "    <tr>\n",
       "      <th>ND</th>\n",
       "      <td>0.377358</td>\n",
       "      <td>0</td>\n",
       "      <td>0</td>\n",
       "    </tr>\n",
       "    <tr>\n",
       "      <th>IL</th>\n",
       "      <td>0.735294</td>\n",
       "      <td>0</td>\n",
       "      <td>0</td>\n",
       "    </tr>\n",
       "    <tr>\n",
       "      <th>NM</th>\n",
       "      <td>0.848485</td>\n",
       "      <td>0</td>\n",
       "      <td>0</td>\n",
       "    </tr>\n",
       "    <tr>\n",
       "      <th>ID</th>\n",
       "      <td>0.454545</td>\n",
       "      <td>0</td>\n",
       "      <td>0</td>\n",
       "    </tr>\n",
       "    <tr>\n",
       "      <th>TX</th>\n",
       "      <td>1.56299</td>\n",
       "      <td>0</td>\n",
       "      <td>0</td>\n",
       "    </tr>\n",
       "    <tr>\n",
       "      <th>FL</th>\n",
       "      <td>1.65672</td>\n",
       "      <td>0</td>\n",
       "      <td>0</td>\n",
       "    </tr>\n",
       "    <tr>\n",
       "      <th>FL</th>\n",
       "      <td>1.65672</td>\n",
       "      <td>0</td>\n",
       "      <td>0</td>\n",
       "    </tr>\n",
       "  </tbody>\n",
       "</table>\n",
       "</div>"
      ],
      "text/plain": [
       "        mean median mode\n",
       "ND  0.377358      0    0\n",
       "IL  0.735294      0    0\n",
       "NM  0.848485      0    0\n",
       "ID  0.454545      0    0\n",
       "TX   1.56299      0    0\n",
       "FL   1.65672      0    0\n",
       "FL   1.65672      0    0"
      ]
     },
     "metadata": {},
     "output_type": "display_data"
    }
   ],
   "source": [
    "all_states = random_states\n",
    "all_states.append(\"FL\")\n",
    "\n",
    "df_state_data = pd.DataFrame(index =  all_states,\n",
    "                            columns = [\"mean\", \"median\", \"mode\"])\n",
    "\n",
    "for state in all_states:\n",
    "    df_weekly_stats = county_weekly_stats_overall(state)\n",
    "    df_state_data.loc[state, \"mean\"] = df_weekly_stats.iloc[1][\"mean\"]\n",
    "    df_state_data.loc[state, \"median\"] = df_weekly_stats.iloc[1][\"median\"]\n",
    "    df_state_data.loc[state, \"mode\"] = df_weekly_stats.iloc[1][\"mode\"]\n",
    "display(df_state_data)"
   ]
  },
  {
   "cell_type": "markdown",
   "metadata": {},
   "source": [
    "# Comparing Deaths by County by Week per State - Normalized to Deaths per 100,000"
   ]
  },
  {
   "cell_type": "code",
   "execution_count": 26,
   "metadata": {},
   "outputs": [
    {
     "data": {
      "image/png": "[encoded data removed]",
      "text/plain": [
       "<Figure size 1440x720 with 3 Axes>"
      ]
     },
     "metadata": {
      "needs_background": "light"
     },
     "output_type": "display_data"
    }
   ],
   "source": [
    "ov_mean = df_state_data.loc[:, \"mean\"].mean()\n",
    "ov_median = df_state_data.loc[:, \"median\"].median()\n",
    "ov_mode = df_state_data.loc[:, \"mode\"].mode()[0]\n",
    "\n",
    "figure, axis = plt.subplots(3, gridspec_kw={'hspace': .5}, figsize = (20,10))\n",
    "for row, stat_type, ov_measure in zip(range(0,3,1), (\"mean\", \"median\", \"mode\"), (ov_mean, ov_median, ov_mode)):\n",
    "    df_state_data = df_state_data.sort_values(by = stat_type, ascending = True)\n",
    "    y_values = df_state_data.loc[:, stat_type]\n",
    "    bars = axis[row].bar(df_state_data.index.tolist(), y_values, color =\\\n",
    "                        [\"#4E2C3C\" if data >= ov_measure else \"#9177B5\" for data in y_values])\n",
    "    axis[row].plot(df_state_data.index.values, np.full(len(df_state_data.index.values), fill_value = ov_measure),\\\n",
    "                  linewidth = 3, color = \"#FC8C74\")\n",
    "    # Setting Graph Properties\n",
    "    axis[row].title.set_text(stat_type + \" of Deaths\")\n",
    "    axis[row].set_ylabel(\"Cases per 100,000\")\n",
    "    axis[row].tick_params(axis = \"x\", rotation = 45)\n",
    "plt.show()"
   ]
  },
  {
   "cell_type": "markdown",
   "metadata": {},
   "source": [
    "#### For the average of deaths we can see that Texas and Florida are our top performers and that the graph is skewed left. Because of this we would assume the measure of center to be lower than what is shown (1)."
   ]
  },
  {
   "cell_type": "markdown",
   "metadata": {},
   "source": [
    "#### For the median of deaths we can see little data to compare. This is a result of many 0 death days. There is no reason to increase normalization here, 0 is 0."
   ]
  },
  {
   "cell_type": "markdown",
   "metadata": {},
   "source": [
    "#### For the mode of deaths we see 0 for all entries. This is also indicative of many 0 death days."
   ]
  },
  {
   "cell_type": "code",
   "execution_count": null,
   "metadata": {},
   "outputs": [],
   "source": []
  },
  {
   "cell_type": "code",
   "execution_count": null,
   "metadata": {},
   "outputs": [],
   "source": []
  },
  {
   "cell_type": "markdown",
   "metadata": {},
   "source": [
    "# Task 1.3 Identify counties with high case and death rates. - (For Florida)"
   ]
  },
  {
   "cell_type": "code",
   "execution_count": 27,
   "metadata": {},
   "outputs": [],
   "source": [
    "df_weekly_stats = get_county_weekly_cases_stats(\"FL\")"
   ]
  },
  {
   "cell_type": "code",
   "execution_count": 28,
   "metadata": {
    "scrolled": true
   },
   "outputs": [
    {
     "data": {
      "image/png": "[encoded data removed]",
      "text/plain": [
       "<Figure size 432x288 with 2 Axes>"
      ]
     },
     "metadata": {
      "needs_background": "light"
     },
     "output_type": "display_data"
    }
   ],
   "source": [
    "top_25_median = df_weekly_stats[\"median\"].quantile(.85)\n",
    "df_25_median = df_weekly_stats[df_weekly_stats[\"median\"] >= top_25_median].sort_values(by = \"median\")\n",
    "figure, h_map = plt.subplots(1,1)\n",
    "cbar = h_map.pcolor(df_25_median.iloc[:,0:2], cmap='YlGnBu_r')\n",
    "figure.colorbar(cbar, ax = h_map)\n",
    "x_axis = plt.yticks(np.arange(.5, len(df_25_median.index), 1), df_25_median.index)\n",
    "y_axis = plt.xticks(np.arange(.5, len(df_25_median.iloc[:,0:2].columns), 1), df_25_median.iloc[:,0:2].columns)"
   ]
  },
  {
   "cell_type": "markdown",
   "metadata": {},
   "source": [
    "#### From finding the top median values we are given a good outlook on which states have the highest rate of cases by excluding outliers. We can see that Hamilton, Hendry, Hardee, and Miami-Dade are the top four performers for covid cases."
   ]
  },
  {
   "cell_type": "code",
   "execution_count": 29,
   "metadata": {},
   "outputs": [],
   "source": [
    "df_weekly_stats = get_county_weekly_deaths_stats(\"FL\")"
   ]
  },
  {
   "cell_type": "code",
   "execution_count": 30,
   "metadata": {
    "scrolled": true
   },
   "outputs": [
    {
     "data": {
      "image/png": "[encoded data removed]",
      "text/plain": [
       "<Figure size 432x288 with 2 Axes>"
      ]
     },
     "metadata": {
      "needs_background": "light"
     },
     "output_type": "display_data"
    }
   ],
   "source": [
    "top_25_median = df_weekly_stats[\"median\"].quantile(.95)\n",
    "df_25_median = df_weekly_stats[df_weekly_stats[\"median\"] >= top_25_median].sort_values(by = \"median\")\n",
    "figure, h_map = plt.subplots(1,1)\n",
    "cbar = h_map.pcolor(df_25_median.iloc[:,0:2], cmap='YlGnBu_r')\n",
    "figure.colorbar(cbar, ax = h_map)\n",
    "x_axis = plt.yticks(np.arange(.5, len(df_25_median.index), 1), df_25_median.index)\n",
    "y_axis = plt.xticks(np.arange(.5, len(df_25_median.iloc[:,0:2].columns), 1), df_25_median.iloc[:,0:2].columns)"
   ]
  },
  {
   "cell_type": "markdown",
   "metadata": {},
   "source": [
    "#### From finding the top median values we can see that Palm Beach, Miami-Dade, Hendry, Collier, and Charlotte are top performers for covid deaths."
   ]
  },
  {
   "cell_type": "markdown",
   "metadata": {},
   "source": [
    "# Task 1.4 Plot daily trends (cases and deaths, new cases) of state and top 5 infected counties. Utilize aggregrate, normalized by population, and log normalized values. - (Highest Performer of States)"
   ]
  },
  {
   "cell_type": "code",
   "execution_count": 31,
   "metadata": {},
   "outputs": [],
   "source": [
    "df_fl_daily = state_daily_cases_normalized(\"FL\")\n",
    "df_fl_agg = df_fl_daily.sum(axis = 0)"
   ]
  },
  {
   "cell_type": "markdown",
   "metadata": {},
   "source": [
    "### Statewide Daily Cases normalized by population - cases per 100,000"
   ]
  },
  {
   "cell_type": "code",
   "execution_count": 32,
   "metadata": {},
   "outputs": [
    {
     "data": {
      "image/png": "[encoded data removed]",
      "text/plain": [
       "<Figure size 720x360 with 1 Axes>"
      ]
     },
     "metadata": {
      "needs_background": "light"
     },
     "output_type": "display_data"
    }
   ],
   "source": [
    "igure, axis = plt.subplots(1, figsize = (10,5))\n",
    "axis.plot(df_fl_agg, label = \"Florida\")\n",
    "t = plt.xticks([col for col in df_fl_daily.columns[0:-1:30]])\n",
    "axis.tick_params(axis = \"x\", rotation = 45)\n",
    "axis.legend(loc = \"upper left\")\n",
    "axis.title.set_text(\"Daily Normalized to cases per 100,000\")\n",
    "plt.show()"
   ]
  },
  {
   "cell_type": "markdown",
   "metadata": {},
   "source": [
    "### Counties Daily Cases Normalized by Population - cases per 100,000"
   ]
  },
  {
   "cell_type": "code",
   "execution_count": 48,
   "metadata": {},
   "outputs": [
    {
     "data": {
      "image/png": "[encoded data removed]",
      "text/plain": [
       "<Figure size 720x360 with 1 Axes>"
      ]
     },
     "metadata": {
      "needs_background": "light"
     },
     "output_type": "display_data"
    }
   ],
   "source": [
    "figure, axis = plt.subplots(1, figsize = (10,5))\n",
    "for county in df_25_median[-3:].index.values:\n",
    "    t = axis.scatter(df_fl_daily.loc[county].iloc[0].index,\\\n",
    "                    df_fl_daily.loc[county].iloc[0].values,\\\n",
    "                    label = county,\n",
    ")\n",
    "    \n",
    "t = plt.xticks([col for col in df_fl_daily.columns[0:-1:30]])\n",
    "axis.tick_params(axis = \"x\", rotation = 45)\n",
    "axis.legend(loc = \"upper left\")\n",
    "axis.title.set_text(\"Daily Normalized to cases per 100,000\")\n",
    "t = axis.plot()"
   ]
  },
  {
   "cell_type": "markdown",
   "metadata": {},
   "source": [
    "### Ignoring errors from log"
   ]
  },
  {
   "cell_type": "code",
   "execution_count": 51,
   "metadata": {},
   "outputs": [],
   "source": [
    "import warnings\n",
    "warnings.simplefilter(\"ignore\")"
   ]
  },
  {
   "cell_type": "markdown",
   "metadata": {},
   "source": [
    "### County Daily Cases Normalized by population and log10 - cases per 100,000"
   ]
  },
  {
   "cell_type": "code",
   "execution_count": 50,
   "metadata": {},
   "outputs": [
    {
     "data": {
      "image/png": "[encoded data removed]",
      "text/plain": [
       "<Figure size 1440x360 with 1 Axes>"
      ]
     },
     "metadata": {
      "needs_background": "light"
     },
     "output_type": "display_data"
    }
   ],
   "source": [
    "df_fl_daily = state_daily_cases_log10(\"FL\")\n",
    "figure, axis = plt.subplots(1, figsize = (20,5))\n",
    "for county in df_25_median[-3:].index.values:\n",
    "    t = axis.scatter(df_fl_daily.loc[county].iloc[0].index,\\\n",
    "                    df_fl_daily.loc[county].iloc[0].values,\\\n",
    "                    label = county)\n",
    "t = plt.xticks([col for col in df_fl_daily.columns[0:-1:30]])\n",
    "axis.tick_params(axis = \"x\", rotation = 45)\n",
    "axis.legend(loc = \"upper left\")\n",
    "axis.title.set_text(\"Daily Normalized to cases per 100,000 and log10\")\n",
    "t = axis.plot()"
   ]
  },
  {
   "cell_type": "code",
   "execution_count": null,
   "metadata": {},
   "outputs": [],
   "source": []
  },
  {
   "cell_type": "code",
   "execution_count": null,
   "metadata": {},
   "outputs": [],
   "source": []
  },
  {
   "cell_type": "markdown",
   "metadata": {},
   "source": [
    "### Statewide Daily Deaths normalized by population - cases per 100,000"
   ]
  },
  {
   "cell_type": "code",
   "execution_count": 36,
   "metadata": {},
   "outputs": [
    {
     "data": {
      "application/vnd.dataresource+json": {
       "data": [
        {
         "County Name": "Alachua County",
         "deaths - 1/22/20": 0,
         "deaths - 1/23/20": 0,
         "deaths - 1/24/20": 0,
         "deaths - 1/25/20": 0,
         "deaths - 1/26/20": 0,
         "deaths - 1/27/20": 0,
         "deaths - 1/28/20": 0,
         "deaths - 1/29/20": 0,
         "deaths - 1/30/20": 0,
         "deaths - 1/31/20": 0,
         "deaths - 2/1/20": 0,
         "deaths - 2/10/20": 0,
         "deaths - 2/11/20": 0,
         "deaths - 2/12/20": 0,
         "deaths - 2/13/20": 0,
         "deaths - 2/14/20": 0,
         "deaths - 2/15/20": 0,
         "deaths - 2/16/20": 0,
         "deaths - 2/17/20": 0,
         "deaths - 2/18/20": 0,
         "deaths - 2/19/20": 0,
         "deaths - 2/2/20": 0,
         "deaths - 2/20/20": 0,
         "deaths - 2/21/20": 0,
         "deaths - 2/22/20": 0,
         "deaths - 2/23/20": 0,
         "deaths - 2/24/20": 0,
         "deaths - 2/25/20": 0,
         "deaths - 2/26/20": 0,
         "deaths - 2/27/20": 0,
         "deaths - 2/28/20": 0,
         "deaths - 2/29/20": 0,
         "deaths - 2/3/20": 0,
         "deaths - 2/4/20": 0,
         "deaths - 2/5/20": 0,
         "deaths - 2/6/20": 0,
         "deaths - 2/7/20": 0,
         "deaths - 2/8/20": 0,
         "deaths - 2/9/20": 0,
         "deaths - 3/1/20": 0,
         "deaths - 3/10/20": 0,
         "deaths - 3/11/20": 0,
         "deaths - 3/12/20": 0,
         "deaths - 3/13/20": 0,
         "deaths - 3/14/20": 0,
         "deaths - 3/15/20": 0,
         "deaths - 3/16/20": 0,
         "deaths - 3/17/20": 0,
         "deaths - 3/18/20": 0,
         "deaths - 3/19/20": 0,
         "deaths - 3/2/20": 0,
         "deaths - 3/20/20": 0,
         "deaths - 3/21/20": 0,
         "deaths - 3/22/20": 0,
         "deaths - 3/23/20": 0,
         "deaths - 3/24/20": 0,
         "deaths - 3/25/20": 0,
         "deaths - 3/26/20": 0,
         "deaths - 3/27/20": 0,
         "deaths - 3/28/20": 0,
         "deaths - 3/29/20": 0,
         "deaths - 3/3/20": 0,
         "deaths - 3/30/20": 0,
         "deaths - 3/31/20": 0,
         "deaths - 3/4/20": 0,
         "deaths - 3/5/20": 0,
         "deaths - 3/6/20": 0,
         "deaths - 3/7/20": 0,
         "deaths - 3/8/20": 0,
         "deaths - 3/9/20": 0,
         "deaths - 4/1/20": 0,
         "deaths - 4/10/20": 0,
         "deaths - 4/11/20": 0,
         "deaths - 4/12/20": 0,
         "deaths - 4/13/20": 0,
         "deaths - 4/14/20": 0,
         "deaths - 4/15/20": 0,
         "deaths - 4/16/20": 0,
         "deaths - 4/17/20": 0,
         "deaths - 4/18/20": 0,
         "deaths - 4/19/20": 0,
         "deaths - 4/2/20": 0,
         "deaths - 4/20/20": 0,
         "deaths - 4/21/20": 0,
         "deaths - 4/22/20": 0,
         "deaths - 4/23/20": 0,
         "deaths - 4/24/20": 0,
         "deaths - 4/25/20": 0,
         "deaths - 4/26/20": 0,
         "deaths - 4/27/20": 0,
         "deaths - 4/28/20": 0,
         "deaths - 4/29/20": 0,
         "deaths - 4/3/20": 0,
         "deaths - 4/30/20": 1,
         "deaths - 4/4/20": 0,
         "deaths - 4/5/20": 0,
         "deaths - 4/6/20": 0,
         "deaths - 4/7/20": 0,
         "deaths - 4/8/20": 0,
         "deaths - 4/9/20": 0,
         "deaths - 5/1/20": 0,
         "deaths - 5/10/20": 0,
         "deaths - 5/11/20": 0,
         "deaths - 5/12/20": 0,
         "deaths - 5/13/20": 0,
         "deaths - 5/14/20": 0,
         "deaths - 5/15/20": 0,
         "deaths - 5/16/20": 0,
         "deaths - 5/17/20": 0,
         "deaths - 5/18/20": 0,
         "deaths - 5/19/20": 0,
         "deaths - 5/2/20": 0,
         "deaths - 5/20/20": 0,
         "deaths - 5/21/20": 0,
         "deaths - 5/22/20": 0,
         "deaths - 5/23/20": 0,
         "deaths - 5/24/20": 0,
         "deaths - 5/25/20": 0,
         "deaths - 5/26/20": 0,
         "deaths - 5/27/20": 0,
         "deaths - 5/28/20": 0,
         "deaths - 5/29/20": 0,
         "deaths - 5/3/20": 0,
         "deaths - 5/30/20": 0,
         "deaths - 5/31/20": 0,
         "deaths - 5/4/20": 0,
         "deaths - 5/5/20": 0,
         "deaths - 5/6/20": 0,
         "deaths - 5/7/20": 0,
         "deaths - 5/8/20": 0,
         "deaths - 5/9/20": 0,
         "deaths - 6/1/20": 0,
         "deaths - 6/10/20": 0,
         "deaths - 6/11/20": 0,
         "deaths - 6/12/20": 0,
         "deaths - 6/13/20": 0,
         "deaths - 6/14/20": 0,
         "deaths - 6/15/20": 0,
         "deaths - 6/16/20": 0,
         "deaths - 6/17/20": 0,
         "deaths - 6/18/20": 0,
         "deaths - 6/19/20": 0,
         "deaths - 6/2/20": 0,
         "deaths - 6/20/20": 0,
         "deaths - 6/21/20": 0,
         "deaths - 6/22/20": 0,
         "deaths - 6/23/20": 0,
         "deaths - 6/24/20": 0,
         "deaths - 6/25/20": 0,
         "deaths - 6/26/20": 0,
         "deaths - 6/27/20": 0,
         "deaths - 6/28/20": 0,
         "deaths - 6/29/20": 0,
         "deaths - 6/3/20": 0,
         "deaths - 6/30/20": 0,
         "deaths - 6/4/20": 0,
         "deaths - 6/5/20": 0,
         "deaths - 6/6/20": 0,
         "deaths - 6/7/20": 0,
         "deaths - 6/8/20": 0,
         "deaths - 6/9/20": 0,
         "deaths - 7/1/20": 0,
         "deaths - 7/10/20": 0,
         "deaths - 7/11/20": 0,
         "deaths - 7/12/20": 0,
         "deaths - 7/13/20": 0,
         "deaths - 7/14/20": 0,
         "deaths - 7/15/20": 0,
         "deaths - 7/16/20": 0,
         "deaths - 7/17/20": 0,
         "deaths - 7/18/20": 0,
         "deaths - 7/19/20": 0,
         "deaths - 7/2/20": 0,
         "deaths - 7/20/20": 0,
         "deaths - 7/21/20": 0,
         "deaths - 7/22/20": 0,
         "deaths - 7/23/20": 0,
         "deaths - 7/24/20": 0,
         "deaths - 7/25/20": 1,
         "deaths - 7/26/20": 1,
         "deaths - 7/27/20": 0,
         "deaths - 7/28/20": 0,
         "deaths - 7/29/20": 0,
         "deaths - 7/3/20": 0,
         "deaths - 7/30/20": 0,
         "deaths - 7/31/20": 0,
         "deaths - 7/4/20": 0,
         "deaths - 7/5/20": 0,
         "deaths - 7/6/20": 0,
         "deaths - 7/7/20": 0,
         "deaths - 7/8/20": 0,
         "deaths - 7/9/20": 0,
         "deaths - 8/1/20": 0,
         "deaths - 8/10/20": 0,
         "deaths - 8/11/20": 0,
         "deaths - 8/12/20": 0,
         "deaths - 8/13/20": 0,
         "deaths - 8/14/20": 0,
         "deaths - 8/15/20": 0,
         "deaths - 8/16/20": 0,
         "deaths - 8/17/20": 0,
         "deaths - 8/18/20": 0,
         "deaths - 8/19/20": 1,
         "deaths - 8/2/20": 1,
         "deaths - 8/20/20": 0,
         "deaths - 8/21/20": 0,
         "deaths - 8/22/20": 0,
         "deaths - 8/23/20": 0,
         "deaths - 8/24/20": 0,
         "deaths - 8/25/20": 0,
         "deaths - 8/26/20": 0,
         "deaths - 8/27/20": 0,
         "deaths - 8/28/20": 0,
         "deaths - 8/29/20": 1,
         "deaths - 8/3/20": 0,
         "deaths - 8/30/20": 0,
         "deaths - 8/31/20": 0,
         "deaths - 8/4/20": 1,
         "deaths - 8/5/20": 0,
         "deaths - 8/6/20": 0,
         "deaths - 8/7/20": 0,
         "deaths - 8/8/20": 0,
         "deaths - 8/9/20": 0,
         "deaths - 9/1/20": 0,
         "deaths - 9/10/20": 1,
         "deaths - 9/11/20": 1,
         "deaths - 9/12/20": 0,
         "deaths - 9/13/20": 0,
         "deaths - 9/14/20": 0,
         "deaths - 9/15/20": 1,
         "deaths - 9/16/20": 0,
         "deaths - 9/2/20": 0,
         "deaths - 9/3/20": 0,
         "deaths - 9/4/20": 0,
         "deaths - 9/5/20": 0,
         "deaths - 9/6/20": 0,
         "deaths - 9/7/20": 0,
         "deaths - 9/8/20": 0,
         "deaths - 9/9/20": 0
        },
        {
         "County Name": "Baker County",
         "deaths - 1/22/20": 0,
         "deaths - 1/23/20": 0,
         "deaths - 1/24/20": 0,
         "deaths - 1/25/20": 0,
         "deaths - 1/26/20": 0,
         "deaths - 1/27/20": 0,
         "deaths - 1/28/20": 0,
         "deaths - 1/29/20": 0,
         "deaths - 1/30/20": 0,
         "deaths - 1/31/20": 0,
         "deaths - 2/1/20": 0,
         "deaths - 2/10/20": 0,
         "deaths - 2/11/20": 0,
         "deaths - 2/12/20": 0,
         "deaths - 2/13/20": 0,
         "deaths - 2/14/20": 0,
         "deaths - 2/15/20": 0,
         "deaths - 2/16/20": 0,
         "deaths - 2/17/20": 0,
         "deaths - 2/18/20": 0,
         "deaths - 2/19/20": 0,
         "deaths - 2/2/20": 0,
         "deaths - 2/20/20": 0,
         "deaths - 2/21/20": 0,
         "deaths - 2/22/20": 0,
         "deaths - 2/23/20": 0,
         "deaths - 2/24/20": 0,
         "deaths - 2/25/20": 0,
         "deaths - 2/26/20": 0,
         "deaths - 2/27/20": 0,
         "deaths - 2/28/20": 0,
         "deaths - 2/29/20": 0,
         "deaths - 2/3/20": 0,
         "deaths - 2/4/20": 0,
         "deaths - 2/5/20": 0,
         "deaths - 2/6/20": 0,
         "deaths - 2/7/20": 0,
         "deaths - 2/8/20": 0,
         "deaths - 2/9/20": 0,
         "deaths - 3/1/20": 0,
         "deaths - 3/10/20": 0,
         "deaths - 3/11/20": 0,
         "deaths - 3/12/20": 0,
         "deaths - 3/13/20": 0,
         "deaths - 3/14/20": 0,
         "deaths - 3/15/20": 0,
         "deaths - 3/16/20": 0,
         "deaths - 3/17/20": 0,
         "deaths - 3/18/20": 0,
         "deaths - 3/19/20": 0,
         "deaths - 3/2/20": 0,
         "deaths - 3/20/20": 0,
         "deaths - 3/21/20": 0,
         "deaths - 3/22/20": 0,
         "deaths - 3/23/20": 0,
         "deaths - 3/24/20": 0,
         "deaths - 3/25/20": 0,
         "deaths - 3/26/20": 0,
         "deaths - 3/27/20": 0,
         "deaths - 3/28/20": 0,
         "deaths - 3/29/20": 0,
         "deaths - 3/3/20": 0,
         "deaths - 3/30/20": 0,
         "deaths - 3/31/20": 0,
         "deaths - 3/4/20": 0,
         "deaths - 3/5/20": 0,
         "deaths - 3/6/20": 0,
         "deaths - 3/7/20": 0,
         "deaths - 3/8/20": 0,
         "deaths - 3/9/20": 0,
         "deaths - 4/1/20": 0,
         "deaths - 4/10/20": 0,
         "deaths - 4/11/20": 0,
         "deaths - 4/12/20": 0,
         "deaths - 4/13/20": 0,
         "deaths - 4/14/20": 0,
         "deaths - 4/15/20": 0,
         "deaths - 4/16/20": 0,
         "deaths - 4/17/20": 3,
         "deaths - 4/18/20": 0,
         "deaths - 4/19/20": 0,
         "deaths - 4/2/20": 0,
         "deaths - 4/20/20": 0,
         "deaths - 4/21/20": 0,
         "deaths - 4/22/20": 0,
         "deaths - 4/23/20": 0,
         "deaths - 4/24/20": 0,
         "deaths - 4/25/20": 0,
         "deaths - 4/26/20": 0,
         "deaths - 4/27/20": 0,
         "deaths - 4/28/20": 0,
         "deaths - 4/29/20": 0,
         "deaths - 4/3/20": 0,
         "deaths - 4/30/20": 0,
         "deaths - 4/4/20": 0,
         "deaths - 4/5/20": 0,
         "deaths - 4/6/20": 0,
         "deaths - 4/7/20": 3,
         "deaths - 4/8/20": 0,
         "deaths - 4/9/20": 3,
         "deaths - 5/1/20": 0,
         "deaths - 5/10/20": 0,
         "deaths - 5/11/20": 0,
         "deaths - 5/12/20": 0,
         "deaths - 5/13/20": 0,
         "deaths - 5/14/20": 0,
         "deaths - 5/15/20": 0,
         "deaths - 5/16/20": 0,
         "deaths - 5/17/20": 0,
         "deaths - 5/18/20": 0,
         "deaths - 5/19/20": 0,
         "deaths - 5/2/20": 0,
         "deaths - 5/20/20": 0,
         "deaths - 5/21/20": 0,
         "deaths - 5/22/20": 0,
         "deaths - 5/23/20": 0,
         "deaths - 5/24/20": 0,
         "deaths - 5/25/20": 0,
         "deaths - 5/26/20": 0,
         "deaths - 5/27/20": 0,
         "deaths - 5/28/20": 0,
         "deaths - 5/29/20": 0,
         "deaths - 5/3/20": 0,
         "deaths - 5/30/20": 0,
         "deaths - 5/31/20": 0,
         "deaths - 5/4/20": 0,
         "deaths - 5/5/20": 0,
         "deaths - 5/6/20": 0,
         "deaths - 5/7/20": 0,
         "deaths - 5/8/20": 0,
         "deaths - 5/9/20": 0,
         "deaths - 6/1/20": 0,
         "deaths - 6/10/20": 0,
         "deaths - 6/11/20": 0,
         "deaths - 6/12/20": 0,
         "deaths - 6/13/20": 0,
         "deaths - 6/14/20": 0,
         "deaths - 6/15/20": 0,
         "deaths - 6/16/20": 0,
         "deaths - 6/17/20": 0,
         "deaths - 6/18/20": 0,
         "deaths - 6/19/20": 0,
         "deaths - 6/2/20": 0,
         "deaths - 6/20/20": 0,
         "deaths - 6/21/20": 0,
         "deaths - 6/22/20": 0,
         "deaths - 6/23/20": 0,
         "deaths - 6/24/20": 0,
         "deaths - 6/25/20": 0,
         "deaths - 6/26/20": 0,
         "deaths - 6/27/20": 0,
         "deaths - 6/28/20": 0,
         "deaths - 6/29/20": 0,
         "deaths - 6/3/20": 3,
         "deaths - 6/30/20": 0,
         "deaths - 6/4/20": 0,
         "deaths - 6/5/20": 0,
         "deaths - 6/6/20": 0,
         "deaths - 6/7/20": 0,
         "deaths - 6/8/20": 0,
         "deaths - 6/9/20": 0,
         "deaths - 7/1/20": 0,
         "deaths - 7/10/20": 0,
         "deaths - 7/11/20": 0,
         "deaths - 7/12/20": 0,
         "deaths - 7/13/20": 0,
         "deaths - 7/14/20": 0,
         "deaths - 7/15/20": 0,
         "deaths - 7/16/20": 0,
         "deaths - 7/17/20": 0,
         "deaths - 7/18/20": 0,
         "deaths - 7/19/20": 0,
         "deaths - 7/2/20": 0,
         "deaths - 7/20/20": 0,
         "deaths - 7/21/20": 0,
         "deaths - 7/22/20": 0,
         "deaths - 7/23/20": 0,
         "deaths - 7/24/20": 0,
         "deaths - 7/25/20": 0,
         "deaths - 7/26/20": 0,
         "deaths - 7/27/20": 0,
         "deaths - 7/28/20": 0,
         "deaths - 7/29/20": 0,
         "deaths - 7/3/20": 0,
         "deaths - 7/30/20": 0,
         "deaths - 7/31/20": 0,
         "deaths - 7/4/20": 0,
         "deaths - 7/5/20": 0,
         "deaths - 7/6/20": 0,
         "deaths - 7/7/20": 0,
         "deaths - 7/8/20": 0,
         "deaths - 7/9/20": 0,
         "deaths - 8/1/20": 0,
         "deaths - 8/10/20": 0,
         "deaths - 8/11/20": 0,
         "deaths - 8/12/20": 0,
         "deaths - 8/13/20": 0,
         "deaths - 8/14/20": 0,
         "deaths - 8/15/20": 0,
         "deaths - 8/16/20": 0,
         "deaths - 8/17/20": 0,
         "deaths - 8/18/20": 0,
         "deaths - 8/19/20": 0,
         "deaths - 8/2/20": 0,
         "deaths - 8/20/20": 0,
         "deaths - 8/21/20": 0,
         "deaths - 8/22/20": 0,
         "deaths - 8/23/20": 0,
         "deaths - 8/24/20": 0,
         "deaths - 8/25/20": 0,
         "deaths - 8/26/20": 0,
         "deaths - 8/27/20": 0,
         "deaths - 8/28/20": 0,
         "deaths - 8/29/20": 3,
         "deaths - 8/3/20": 0,
         "deaths - 8/30/20": 0,
         "deaths - 8/31/20": 0,
         "deaths - 8/4/20": 0,
         "deaths - 8/5/20": 0,
         "deaths - 8/6/20": 0,
         "deaths - 8/7/20": 0,
         "deaths - 8/8/20": 0,
         "deaths - 8/9/20": 0,
         "deaths - 9/1/20": 3,
         "deaths - 9/10/20": 0,
         "deaths - 9/11/20": 3,
         "deaths - 9/12/20": 0,
         "deaths - 9/13/20": 0,
         "deaths - 9/14/20": 0,
         "deaths - 9/15/20": 3,
         "deaths - 9/16/20": 10,
         "deaths - 9/2/20": 0,
         "deaths - 9/3/20": 0,
         "deaths - 9/4/20": 0,
         "deaths - 9/5/20": 0,
         "deaths - 9/6/20": 0,
         "deaths - 9/7/20": 0,
         "deaths - 9/8/20": 0,
         "deaths - 9/9/20": 0
        },
        {
         "County Name": "Bay County",
         "deaths - 1/22/20": 0,
         "deaths - 1/23/20": 0,
         "deaths - 1/24/20": 0,
         "deaths - 1/25/20": 0,
         "deaths - 1/26/20": 0,
         "deaths - 1/27/20": 0,
         "deaths - 1/28/20": 0,
         "deaths - 1/29/20": 0,
         "deaths - 1/30/20": 0,
         "deaths - 1/31/20": 0,
         "deaths - 2/1/20": 0,
         "deaths - 2/10/20": 0,
         "deaths - 2/11/20": 0,
         "deaths - 2/12/20": 0,
         "deaths - 2/13/20": 0,
         "deaths - 2/14/20": 0,
         "deaths - 2/15/20": 0,
         "deaths - 2/16/20": 0,
         "deaths - 2/17/20": 0,
         "deaths - 2/18/20": 0,
         "deaths - 2/19/20": 0,
         "deaths - 2/2/20": 0,
         "deaths - 2/20/20": 0,
         "deaths - 2/21/20": 0,
         "deaths - 2/22/20": 0,
         "deaths - 2/23/20": 0,
         "deaths - 2/24/20": 0,
         "deaths - 2/25/20": 0,
         "deaths - 2/26/20": 0,
         "deaths - 2/27/20": 0,
         "deaths - 2/28/20": 0,
         "deaths - 2/29/20": 0,
         "deaths - 2/3/20": 0,
         "deaths - 2/4/20": 0,
         "deaths - 2/5/20": 0,
         "deaths - 2/6/20": 0,
         "deaths - 2/7/20": 0,
         "deaths - 2/8/20": 0,
         "deaths - 2/9/20": 0,
         "deaths - 3/1/20": 0,
         "deaths - 3/10/20": 0,
         "deaths - 3/11/20": 0,
         "deaths - 3/12/20": 0,
         "deaths - 3/13/20": 0,
         "deaths - 3/14/20": 0,
         "deaths - 3/15/20": 0,
         "deaths - 3/16/20": 0,
         "deaths - 3/17/20": 0,
         "deaths - 3/18/20": 0,
         "deaths - 3/19/20": 0,
         "deaths - 3/2/20": 0,
         "deaths - 3/20/20": 0,
         "deaths - 3/21/20": 0,
         "deaths - 3/22/20": 0,
         "deaths - 3/23/20": 0,
         "deaths - 3/24/20": 0,
         "deaths - 3/25/20": 0,
         "deaths - 3/26/20": 0,
         "deaths - 3/27/20": 0,
         "deaths - 3/28/20": 0,
         "deaths - 3/29/20": 0,
         "deaths - 3/3/20": 0,
         "deaths - 3/30/20": 0,
         "deaths - 3/31/20": 0,
         "deaths - 3/4/20": 0,
         "deaths - 3/5/20": 0,
         "deaths - 3/6/20": 0,
         "deaths - 3/7/20": 0,
         "deaths - 3/8/20": 0,
         "deaths - 3/9/20": 0,
         "deaths - 4/1/20": 0,
         "deaths - 4/10/20": 0,
         "deaths - 4/11/20": 0,
         "deaths - 4/12/20": 0,
         "deaths - 4/13/20": 0,
         "deaths - 4/14/20": 1,
         "deaths - 4/15/20": 0,
         "deaths - 4/16/20": 0,
         "deaths - 4/17/20": 0,
         "deaths - 4/18/20": 0,
         "deaths - 4/19/20": 0,
         "deaths - 4/2/20": 0,
         "deaths - 4/20/20": 0,
         "deaths - 4/21/20": 0,
         "deaths - 4/22/20": 0,
         "deaths - 4/23/20": 0,
         "deaths - 4/24/20": 0,
         "deaths - 4/25/20": 0,
         "deaths - 4/26/20": 0,
         "deaths - 4/27/20": 0,
         "deaths - 4/28/20": 0,
         "deaths - 4/29/20": 1,
         "deaths - 4/3/20": 0,
         "deaths - 4/30/20": 0,
         "deaths - 4/4/20": 1,
         "deaths - 4/5/20": 0,
         "deaths - 4/6/20": 0,
         "deaths - 4/7/20": 0,
         "deaths - 4/8/20": 0,
         "deaths - 4/9/20": 0,
         "deaths - 5/1/20": 0,
         "deaths - 5/10/20": 0,
         "deaths - 5/11/20": 0,
         "deaths - 5/12/20": 0,
         "deaths - 5/13/20": 0,
         "deaths - 5/14/20": 0,
         "deaths - 5/15/20": 0,
         "deaths - 5/16/20": 0,
         "deaths - 5/17/20": 0,
         "deaths - 5/18/20": 0,
         "deaths - 5/19/20": 0,
         "deaths - 5/2/20": 0,
         "deaths - 5/20/20": 0,
         "deaths - 5/21/20": 0,
         "deaths - 5/22/20": 0,
         "deaths - 5/23/20": 0,
         "deaths - 5/24/20": 0,
         "deaths - 5/25/20": 0,
         "deaths - 5/26/20": 0,
         "deaths - 5/27/20": 0,
         "deaths - 5/28/20": 0,
         "deaths - 5/29/20": 0,
         "deaths - 5/3/20": 0,
         "deaths - 5/30/20": 0,
         "deaths - 5/31/20": 0,
         "deaths - 5/4/20": 0,
         "deaths - 5/5/20": 0,
         "deaths - 5/6/20": 0,
         "deaths - 5/7/20": 0,
         "deaths - 5/8/20": 0,
         "deaths - 5/9/20": 0,
         "deaths - 6/1/20": 0,
         "deaths - 6/10/20": 0,
         "deaths - 6/11/20": 0,
         "deaths - 6/12/20": 0,
         "deaths - 6/13/20": 0,
         "deaths - 6/14/20": 0,
         "deaths - 6/15/20": 0,
         "deaths - 6/16/20": 0,
         "deaths - 6/17/20": 0,
         "deaths - 6/18/20": 0,
         "deaths - 6/19/20": 0,
         "deaths - 6/2/20": 0,
         "deaths - 6/20/20": 0,
         "deaths - 6/21/20": 0,
         "deaths - 6/22/20": 0,
         "deaths - 6/23/20": 0,
         "deaths - 6/24/20": 0,
         "deaths - 6/25/20": 0,
         "deaths - 6/26/20": 0,
         "deaths - 6/27/20": 0,
         "deaths - 6/28/20": 0,
         "deaths - 6/29/20": 0,
         "deaths - 6/3/20": 0,
         "deaths - 6/30/20": 0,
         "deaths - 6/4/20": 1,
         "deaths - 6/5/20": 0,
         "deaths - 6/6/20": 0,
         "deaths - 6/7/20": 0,
         "deaths - 6/8/20": 0,
         "deaths - 6/9/20": 0,
         "deaths - 7/1/20": 1,
         "deaths - 7/10/20": 0,
         "deaths - 7/11/20": 2,
         "deaths - 7/12/20": 0,
         "deaths - 7/13/20": 0,
         "deaths - 7/14/20": 0,
         "deaths - 7/15/20": 0,
         "deaths - 7/16/20": 0,
         "deaths - 7/17/20": 0,
         "deaths - 7/18/20": 0,
         "deaths - 7/19/20": 1,
         "deaths - 7/2/20": 0,
         "deaths - 7/20/20": 0,
         "deaths - 7/21/20": 1,
         "deaths - 7/22/20": 1,
         "deaths - 7/23/20": 1,
         "deaths - 7/24/20": 0,
         "deaths - 7/25/20": 1,
         "deaths - 7/26/20": 0,
         "deaths - 7/27/20": 0,
         "deaths - 7/28/20": 0,
         "deaths - 7/29/20": 2,
         "deaths - 7/3/20": 0,
         "deaths - 7/30/20": 1,
         "deaths - 7/31/20": 0,
         "deaths - 7/4/20": 0,
         "deaths - 7/5/20": 0,
         "deaths - 7/6/20": 0,
         "deaths - 7/7/20": 0,
         "deaths - 7/8/20": 0,
         "deaths - 7/9/20": 0,
         "deaths - 8/1/20": 0,
         "deaths - 8/10/20": 0,
         "deaths - 8/11/20": 1,
         "deaths - 8/12/20": 0,
         "deaths - 8/13/20": 0,
         "deaths - 8/14/20": 5,
         "deaths - 8/15/20": 2,
         "deaths - 8/16/20": 0,
         "deaths - 8/17/20": 0,
         "deaths - 8/18/20": 2,
         "deaths - 8/19/20": 0,
         "deaths - 8/2/20": 0,
         "deaths - 8/20/20": 1,
         "deaths - 8/21/20": 0,
         "deaths - 8/22/20": 1,
         "deaths - 8/23/20": 0,
         "deaths - 8/24/20": 0,
         "deaths - 8/25/20": 2,
         "deaths - 8/26/20": 1,
         "deaths - 8/27/20": 1,
         "deaths - 8/28/20": 1,
         "deaths - 8/29/20": 0,
         "deaths - 8/3/20": 1,
         "deaths - 8/30/20": 0,
         "deaths - 8/31/20": 0,
         "deaths - 8/4/20": 9,
         "deaths - 8/5/20": 5,
         "deaths - 8/6/20": 0,
         "deaths - 8/7/20": 0,
         "deaths - 8/8/20": 3,
         "deaths - 8/9/20": 0,
         "deaths - 9/1/20": 1,
         "deaths - 9/10/20": 0,
         "deaths - 9/11/20": 2,
         "deaths - 9/12/20": 1,
         "deaths - 9/13/20": 0,
         "deaths - 9/14/20": 0,
         "deaths - 9/15/20": 1,
         "deaths - 9/16/20": 0,
         "deaths - 9/2/20": 2,
         "deaths - 9/3/20": 1,
         "deaths - 9/4/20": 0,
         "deaths - 9/5/20": 1,
         "deaths - 9/6/20": 1,
         "deaths - 9/7/20": 0,
         "deaths - 9/8/20": 0,
         "deaths - 9/9/20": 1
        },
        {
         "County Name": "Bradford County",
         "deaths - 1/22/20": 0,
         "deaths - 1/23/20": 0,
         "deaths - 1/24/20": 0,
         "deaths - 1/25/20": 0,
         "deaths - 1/26/20": 0,
         "deaths - 1/27/20": 0,
         "deaths - 1/28/20": 0,
         "deaths - 1/29/20": 0,
         "deaths - 1/30/20": 0,
         "deaths - 1/31/20": 0,
         "deaths - 2/1/20": 0,
         "deaths - 2/10/20": 0,
         "deaths - 2/11/20": 0,
         "deaths - 2/12/20": 0,
         "deaths - 2/13/20": 0,
         "deaths - 2/14/20": 0,
         "deaths - 2/15/20": 0,
         "deaths - 2/16/20": 0,
         "deaths - 2/17/20": 0,
         "deaths - 2/18/20": 0,
         "deaths - 2/19/20": 0,
         "deaths - 2/2/20": 0,
         "deaths - 2/20/20": 0,
         "deaths - 2/21/20": 0,
         "deaths - 2/22/20": 0,
         "deaths - 2/23/20": 0,
         "deaths - 2/24/20": 0,
         "deaths - 2/25/20": 0,
         "deaths - 2/26/20": 0,
         "deaths - 2/27/20": 0,
         "deaths - 2/28/20": 0,
         "deaths - 2/29/20": 0,
         "deaths - 2/3/20": 0,
         "deaths - 2/4/20": 0,
         "deaths - 2/5/20": 0,
         "deaths - 2/6/20": 0,
         "deaths - 2/7/20": 0,
         "deaths - 2/8/20": 0,
         "deaths - 2/9/20": 0,
         "deaths - 3/1/20": 0,
         "deaths - 3/10/20": 0,
         "deaths - 3/11/20": 0,
         "deaths - 3/12/20": 0,
         "deaths - 3/13/20": 0,
         "deaths - 3/14/20": 0,
         "deaths - 3/15/20": 0,
         "deaths - 3/16/20": 0,
         "deaths - 3/17/20": 0,
         "deaths - 3/18/20": 0,
         "deaths - 3/19/20": 0,
         "deaths - 3/2/20": 0,
         "deaths - 3/20/20": 0,
         "deaths - 3/21/20": 0,
         "deaths - 3/22/20": 0,
         "deaths - 3/23/20": 0,
         "deaths - 3/24/20": 0,
         "deaths - 3/25/20": 0,
         "deaths - 3/26/20": 0,
         "deaths - 3/27/20": 0,
         "deaths - 3/28/20": 0,
         "deaths - 3/29/20": 0,
         "deaths - 3/3/20": 0,
         "deaths - 3/30/20": 0,
         "deaths - 3/31/20": 0,
         "deaths - 3/4/20": 0,
         "deaths - 3/5/20": 0,
         "deaths - 3/6/20": 0,
         "deaths - 3/7/20": 0,
         "deaths - 3/8/20": 0,
         "deaths - 3/9/20": 0,
         "deaths - 4/1/20": 0,
         "deaths - 4/10/20": 0,
         "deaths - 4/11/20": 0,
         "deaths - 4/12/20": 4,
         "deaths - 4/13/20": 0,
         "deaths - 4/14/20": 0,
         "deaths - 4/15/20": 0,
         "deaths - 4/16/20": 0,
         "deaths - 4/17/20": 4,
         "deaths - 4/18/20": 0,
         "deaths - 4/19/20": 0,
         "deaths - 4/2/20": 0,
         "deaths - 4/20/20": 0,
         "deaths - 4/21/20": 0,
         "deaths - 4/22/20": 0,
         "deaths - 4/23/20": 0,
         "deaths - 4/24/20": 0,
         "deaths - 4/25/20": 0,
         "deaths - 4/26/20": 0,
         "deaths - 4/27/20": 0,
         "deaths - 4/28/20": 0,
         "deaths - 4/29/20": 0,
         "deaths - 4/3/20": 0,
         "deaths - 4/30/20": 0,
         "deaths - 4/4/20": 0,
         "deaths - 4/5/20": 0,
         "deaths - 4/6/20": 0,
         "deaths - 4/7/20": 0,
         "deaths - 4/8/20": 0,
         "deaths - 4/9/20": 0,
         "deaths - 5/1/20": 0,
         "deaths - 5/10/20": 0,
         "deaths - 5/11/20": 0,
         "deaths - 5/12/20": 0,
         "deaths - 5/13/20": 0,
         "deaths - 5/14/20": 0,
         "deaths - 5/15/20": 0,
         "deaths - 5/16/20": 0,
         "deaths - 5/17/20": 0,
         "deaths - 5/18/20": 0,
         "deaths - 5/19/20": 0,
         "deaths - 5/2/20": 0,
         "deaths - 5/20/20": 0,
         "deaths - 5/21/20": 0,
         "deaths - 5/22/20": 0,
         "deaths - 5/23/20": 0,
         "deaths - 5/24/20": 0,
         "deaths - 5/25/20": 0,
         "deaths - 5/26/20": 0,
         "deaths - 5/27/20": 0,
         "deaths - 5/28/20": 0,
         "deaths - 5/29/20": 0,
         "deaths - 5/3/20": 0,
         "deaths - 5/30/20": 0,
         "deaths - 5/31/20": 0,
         "deaths - 5/4/20": 0,
         "deaths - 5/5/20": 0,
         "deaths - 5/6/20": 0,
         "deaths - 5/7/20": 0,
         "deaths - 5/8/20": 0,
         "deaths - 5/9/20": 0,
         "deaths - 6/1/20": 0,
         "deaths - 6/10/20": 0,
         "deaths - 6/11/20": 0,
         "deaths - 6/12/20": 0,
         "deaths - 6/13/20": 0,
         "deaths - 6/14/20": 0,
         "deaths - 6/15/20": 0,
         "deaths - 6/16/20": 0,
         "deaths - 6/17/20": 0,
         "deaths - 6/18/20": 0,
         "deaths - 6/19/20": 0,
         "deaths - 6/2/20": 0,
         "deaths - 6/20/20": 0,
         "deaths - 6/21/20": 0,
         "deaths - 6/22/20": 0,
         "deaths - 6/23/20": 0,
         "deaths - 6/24/20": 0,
         "deaths - 6/25/20": 0,
         "deaths - 6/26/20": 0,
         "deaths - 6/27/20": 0,
         "deaths - 6/28/20": 0,
         "deaths - 6/29/20": 0,
         "deaths - 6/3/20": 0,
         "deaths - 6/30/20": 0,
         "deaths - 6/4/20": 0,
         "deaths - 6/5/20": 0,
         "deaths - 6/6/20": 0,
         "deaths - 6/7/20": 0,
         "deaths - 6/8/20": 0,
         "deaths - 6/9/20": 0,
         "deaths - 7/1/20": 0,
         "deaths - 7/10/20": 0,
         "deaths - 7/11/20": 0,
         "deaths - 7/12/20": 0,
         "deaths - 7/13/20": 0,
         "deaths - 7/14/20": 0,
         "deaths - 7/15/20": 0,
         "deaths - 7/16/20": 0,
         "deaths - 7/17/20": 0,
         "deaths - 7/18/20": 0,
         "deaths - 7/19/20": 0,
         "deaths - 7/2/20": 0,
         "deaths - 7/20/20": 0,
         "deaths - 7/21/20": 0,
         "deaths - 7/22/20": 0,
         "deaths - 7/23/20": 0,
         "deaths - 7/24/20": 4,
         "deaths - 7/25/20": 0,
         "deaths - 7/26/20": 0,
         "deaths - 7/27/20": 0,
         "deaths - 7/28/20": 0,
         "deaths - 7/29/20": 0,
         "deaths - 7/3/20": 0,
         "deaths - 7/30/20": 0,
         "deaths - 7/31/20": 0,
         "deaths - 7/4/20": 0,
         "deaths - 7/5/20": 0,
         "deaths - 7/6/20": 0,
         "deaths - 7/7/20": 0,
         "deaths - 7/8/20": 0,
         "deaths - 7/9/20": 0,
         "deaths - 8/1/20": 4,
         "deaths - 8/10/20": 0,
         "deaths - 8/11/20": 0,
         "deaths - 8/12/20": 0,
         "deaths - 8/13/20": 0,
         "deaths - 8/14/20": 0,
         "deaths - 8/15/20": 0,
         "deaths - 8/16/20": 0,
         "deaths - 8/17/20": 0,
         "deaths - 8/18/20": 0,
         "deaths - 8/19/20": 0,
         "deaths - 8/2/20": 0,
         "deaths - 8/20/20": 0,
         "deaths - 8/21/20": 0,
         "deaths - 8/22/20": 0,
         "deaths - 8/23/20": 0,
         "deaths - 8/24/20": 0,
         "deaths - 8/25/20": 4,
         "deaths - 8/26/20": 0,
         "deaths - 8/27/20": 0,
         "deaths - 8/28/20": 0,
         "deaths - 8/29/20": 0,
         "deaths - 8/3/20": 0,
         "deaths - 8/30/20": 0,
         "deaths - 8/31/20": 0,
         "deaths - 8/4/20": 0,
         "deaths - 8/5/20": 0,
         "deaths - 8/6/20": 0,
         "deaths - 8/7/20": 0,
         "deaths - 8/8/20": 0,
         "deaths - 8/9/20": 0,
         "deaths - 9/1/20": 0,
         "deaths - 9/10/20": 0,
         "deaths - 9/11/20": 4,
         "deaths - 9/12/20": 0,
         "deaths - 9/13/20": 0,
         "deaths - 9/14/20": 0,
         "deaths - 9/15/20": 0,
         "deaths - 9/16/20": 0,
         "deaths - 9/2/20": 0,
         "deaths - 9/3/20": 0,
         "deaths - 9/4/20": 0,
         "deaths - 9/5/20": 0,
         "deaths - 9/6/20": 0,
         "deaths - 9/7/20": 0,
         "deaths - 9/8/20": 0,
         "deaths - 9/9/20": 0
        },
        {
         "County Name": "Brevard County",
         "deaths - 1/22/20": 0,
         "deaths - 1/23/20": 0,
         "deaths - 1/24/20": 0,
         "deaths - 1/25/20": 0,
         "deaths - 1/26/20": 0,
         "deaths - 1/27/20": 0,
         "deaths - 1/28/20": 0,
         "deaths - 1/29/20": 0,
         "deaths - 1/30/20": 0,
         "deaths - 1/31/20": 0,
         "deaths - 2/1/20": 0,
         "deaths - 2/10/20": 0,
         "deaths - 2/11/20": 0,
         "deaths - 2/12/20": 0,
         "deaths - 2/13/20": 0,
         "deaths - 2/14/20": 0,
         "deaths - 2/15/20": 0,
         "deaths - 2/16/20": 0,
         "deaths - 2/17/20": 0,
         "deaths - 2/18/20": 0,
         "deaths - 2/19/20": 0,
         "deaths - 2/2/20": 0,
         "deaths - 2/20/20": 0,
         "deaths - 2/21/20": 0,
         "deaths - 2/22/20": 0,
         "deaths - 2/23/20": 0,
         "deaths - 2/24/20": 0,
         "deaths - 2/25/20": 0,
         "deaths - 2/26/20": 0,
         "deaths - 2/27/20": 0,
         "deaths - 2/28/20": 0,
         "deaths - 2/29/20": 0,
         "deaths - 2/3/20": 0,
         "deaths - 2/4/20": 0,
         "deaths - 2/5/20": 0,
         "deaths - 2/6/20": 0,
         "deaths - 2/7/20": 0,
         "deaths - 2/8/20": 0,
         "deaths - 2/9/20": 0,
         "deaths - 3/1/20": 0,
         "deaths - 3/10/20": 0,
         "deaths - 3/11/20": 0,
         "deaths - 3/12/20": 0,
         "deaths - 3/13/20": 0,
         "deaths - 3/14/20": 0,
         "deaths - 3/15/20": 0,
         "deaths - 3/16/20": 0,
         "deaths - 3/17/20": 0,
         "deaths - 3/18/20": 0,
         "deaths - 3/19/20": 0,
         "deaths - 3/2/20": 0,
         "deaths - 3/20/20": 0,
         "deaths - 3/21/20": 0,
         "deaths - 3/22/20": 0,
         "deaths - 3/23/20": 0,
         "deaths - 3/24/20": 0,
         "deaths - 3/25/20": 0,
         "deaths - 3/26/20": 0,
         "deaths - 3/27/20": 0,
         "deaths - 3/28/20": 0,
         "deaths - 3/29/20": 0,
         "deaths - 3/3/20": 0,
         "deaths - 3/30/20": 0,
         "deaths - 3/31/20": 0,
         "deaths - 3/4/20": 0,
         "deaths - 3/5/20": 0,
         "deaths - 3/6/20": 0,
         "deaths - 3/7/20": 0,
         "deaths - 3/8/20": 0,
         "deaths - 3/9/20": 0,
         "deaths - 4/1/20": 0,
         "deaths - 4/10/20": 0,
         "deaths - 4/11/20": 0,
         "deaths - 4/12/20": 0,
         "deaths - 4/13/20": 0,
         "deaths - 4/14/20": 0,
         "deaths - 4/15/20": 0,
         "deaths - 4/16/20": 0,
         "deaths - 4/17/20": 0,
         "deaths - 4/18/20": 0,
         "deaths - 4/19/20": 0,
         "deaths - 4/2/20": 0,
         "deaths - 4/20/20": 0,
         "deaths - 4/21/20": 0,
         "deaths - 4/22/20": 0,
         "deaths - 4/23/20": 0,
         "deaths - 4/24/20": 0,
         "deaths - 4/25/20": 0,
         "deaths - 4/26/20": 0,
         "deaths - 4/27/20": 0,
         "deaths - 4/28/20": 0,
         "deaths - 4/29/20": 0,
         "deaths - 4/3/20": 0,
         "deaths - 4/30/20": 0,
         "deaths - 4/4/20": 0,
         "deaths - 4/5/20": 0,
         "deaths - 4/6/20": 0,
         "deaths - 4/7/20": 0,
         "deaths - 4/8/20": 0,
         "deaths - 4/9/20": 0,
         "deaths - 5/1/20": 0,
         "deaths - 5/10/20": 0,
         "deaths - 5/11/20": 0,
         "deaths - 5/12/20": 0,
         "deaths - 5/13/20": 0,
         "deaths - 5/14/20": 0,
         "deaths - 5/15/20": 0,
         "deaths - 5/16/20": 0,
         "deaths - 5/17/20": 0,
         "deaths - 5/18/20": 0,
         "deaths - 5/19/20": 0,
         "deaths - 5/2/20": 0,
         "deaths - 5/20/20": 0,
         "deaths - 5/21/20": 0,
         "deaths - 5/22/20": 0,
         "deaths - 5/23/20": 0,
         "deaths - 5/24/20": 0,
         "deaths - 5/25/20": 0,
         "deaths - 5/26/20": 0,
         "deaths - 5/27/20": 0,
         "deaths - 5/28/20": 0,
         "deaths - 5/29/20": 0,
         "deaths - 5/3/20": 0,
         "deaths - 5/30/20": 0,
         "deaths - 5/31/20": 0,
         "deaths - 5/4/20": 0,
         "deaths - 5/5/20": 0,
         "deaths - 5/6/20": 0,
         "deaths - 5/7/20": 0,
         "deaths - 5/8/20": 0,
         "deaths - 5/9/20": 0,
         "deaths - 6/1/20": 0,
         "deaths - 6/10/20": 0,
         "deaths - 6/11/20": 0,
         "deaths - 6/12/20": 0,
         "deaths - 6/13/20": 0,
         "deaths - 6/14/20": 0,
         "deaths - 6/15/20": 0,
         "deaths - 6/16/20": 0,
         "deaths - 6/17/20": 0,
         "deaths - 6/18/20": 0,
         "deaths - 6/19/20": 0,
         "deaths - 6/2/20": 0,
         "deaths - 6/20/20": 0,
         "deaths - 6/21/20": 0,
         "deaths - 6/22/20": 0,
         "deaths - 6/23/20": 0,
         "deaths - 6/24/20": 0,
         "deaths - 6/25/20": 0,
         "deaths - 6/26/20": 0,
         "deaths - 6/27/20": 0,
         "deaths - 6/28/20": 0,
         "deaths - 6/29/20": 0,
         "deaths - 6/3/20": 0,
         "deaths - 6/30/20": 0,
         "deaths - 6/4/20": 0,
         "deaths - 6/5/20": 0,
         "deaths - 6/6/20": 0,
         "deaths - 6/7/20": 0,
         "deaths - 6/8/20": 0,
         "deaths - 6/9/20": 0,
         "deaths - 7/1/20": 0,
         "deaths - 7/10/20": 0,
         "deaths - 7/11/20": 0,
         "deaths - 7/12/20": 0,
         "deaths - 7/13/20": 0,
         "deaths - 7/14/20": 1,
         "deaths - 7/15/20": 1,
         "deaths - 7/16/20": 1,
         "deaths - 7/17/20": 0,
         "deaths - 7/18/20": 0,
         "deaths - 7/19/20": 0,
         "deaths - 7/2/20": 0,
         "deaths - 7/20/20": 0,
         "deaths - 7/21/20": 0,
         "deaths - 7/22/20": 1,
         "deaths - 7/23/20": 0,
         "deaths - 7/24/20": 1,
         "deaths - 7/25/20": 0,
         "deaths - 7/26/20": 0,
         "deaths - 7/27/20": 0,
         "deaths - 7/28/20": 0,
         "deaths - 7/29/20": 5,
         "deaths - 7/3/20": 0,
         "deaths - 7/30/20": 2,
         "deaths - 7/31/20": 1,
         "deaths - 7/4/20": 0,
         "deaths - 7/5/20": 0,
         "deaths - 7/6/20": 0,
         "deaths - 7/7/20": 0,
         "deaths - 7/8/20": 0,
         "deaths - 7/9/20": 1,
         "deaths - 8/1/20": 0,
         "deaths - 8/10/20": 0,
         "deaths - 8/11/20": 1,
         "deaths - 8/12/20": 0,
         "deaths - 8/13/20": 0,
         "deaths - 8/14/20": 1,
         "deaths - 8/15/20": 1,
         "deaths - 8/16/20": 1,
         "deaths - 8/17/20": 0,
         "deaths - 8/18/20": 0,
         "deaths - 8/19/20": 1,
         "deaths - 8/2/20": 0,
         "deaths - 8/20/20": 0,
         "deaths - 8/21/20": 0,
         "deaths - 8/22/20": 0,
         "deaths - 8/23/20": 0,
         "deaths - 8/24/20": 0,
         "deaths - 8/25/20": 0,
         "deaths - 8/26/20": 1,
         "deaths - 8/27/20": 1,
         "deaths - 8/28/20": 0,
         "deaths - 8/29/20": 0,
         "deaths - 8/3/20": 0,
         "deaths - 8/30/20": 0,
         "deaths - 8/31/20": 0,
         "deaths - 8/4/20": 1,
         "deaths - 8/5/20": 1,
         "deaths - 8/6/20": 0,
         "deaths - 8/7/20": 1,
         "deaths - 8/8/20": 0,
         "deaths - 8/9/20": 1,
         "deaths - 9/1/20": 0,
         "deaths - 9/10/20": 1,
         "deaths - 9/11/20": 1,
         "deaths - 9/12/20": 0,
         "deaths - 9/13/20": 0,
         "deaths - 9/14/20": 0,
         "deaths - 9/15/20": 1,
         "deaths - 9/16/20": 0,
         "deaths - 9/2/20": 1,
         "deaths - 9/3/20": 1,
         "deaths - 9/4/20": 1,
         "deaths - 9/5/20": 1,
         "deaths - 9/6/20": 0,
         "deaths - 9/7/20": 0,
         "deaths - 9/8/20": 0,
         "deaths - 9/9/20": 0
        },
        {
         "County Name": "Broward County",
         "deaths - 1/22/20": 0,
         "deaths - 1/23/20": 0,
         "deaths - 1/24/20": 0,
         "deaths - 1/25/20": 0,
         "deaths - 1/26/20": 0,
         "deaths - 1/27/20": 0,
         "deaths - 1/28/20": 0,
         "deaths - 1/29/20": 0,
         "deaths - 1/30/20": 0,
         "deaths - 1/31/20": 0,
         "deaths - 2/1/20": 0,
         "deaths - 2/10/20": 0,
         "deaths - 2/11/20": 0,
         "deaths - 2/12/20": 0,
         "deaths - 2/13/20": 0,
         "deaths - 2/14/20": 0,
         "deaths - 2/15/20": 0,
         "deaths - 2/16/20": 0,
         "deaths - 2/17/20": 0,
         "deaths - 2/18/20": 0,
         "deaths - 2/19/20": 0,
         "deaths - 2/2/20": 0,
         "deaths - 2/20/20": 0,
         "deaths - 2/21/20": 0,
         "deaths - 2/22/20": 0,
         "deaths - 2/23/20": 0,
         "deaths - 2/24/20": 0,
         "deaths - 2/25/20": 0,
         "deaths - 2/26/20": 0,
         "deaths - 2/27/20": 0,
         "deaths - 2/28/20": 0,
         "deaths - 2/29/20": 0,
         "deaths - 2/3/20": 0,
         "deaths - 2/4/20": 0,
         "deaths - 2/5/20": 0,
         "deaths - 2/6/20": 0,
         "deaths - 2/7/20": 0,
         "deaths - 2/8/20": 0,
         "deaths - 2/9/20": 0,
         "deaths - 3/1/20": 0,
         "deaths - 3/10/20": 0,
         "deaths - 3/11/20": 0,
         "deaths - 3/12/20": 0,
         "deaths - 3/13/20": 0,
         "deaths - 3/14/20": 0,
         "deaths - 3/15/20": 0,
         "deaths - 3/16/20": 0,
         "deaths - 3/17/20": 0,
         "deaths - 3/18/20": 0,
         "deaths - 3/19/20": 0,
         "deaths - 3/2/20": 0,
         "deaths - 3/20/20": 0,
         "deaths - 3/21/20": 0,
         "deaths - 3/22/20": 0,
         "deaths - 3/23/20": 0,
         "deaths - 3/24/20": 0,
         "deaths - 3/25/20": 0,
         "deaths - 3/26/20": 0,
         "deaths - 3/27/20": 0,
         "deaths - 3/28/20": 0,
         "deaths - 3/29/20": 0,
         "deaths - 3/3/20": 0,
         "deaths - 3/30/20": 0,
         "deaths - 3/31/20": 0,
         "deaths - 3/4/20": 0,
         "deaths - 3/5/20": 0,
         "deaths - 3/6/20": 0,
         "deaths - 3/7/20": 0,
         "deaths - 3/8/20": 0,
         "deaths - 3/9/20": 0,
         "deaths - 4/1/20": 0,
         "deaths - 4/10/20": 0,
         "deaths - 4/11/20": 0,
         "deaths - 4/12/20": 0,
         "deaths - 4/13/20": 0,
         "deaths - 4/14/20": 0,
         "deaths - 4/15/20": 1,
         "deaths - 4/16/20": 0,
         "deaths - 4/17/20": 0,
         "deaths - 4/18/20": 0,
         "deaths - 4/19/20": 0,
         "deaths - 4/2/20": 0,
         "deaths - 4/20/20": 0,
         "deaths - 4/21/20": 0,
         "deaths - 4/22/20": 1,
         "deaths - 4/23/20": 1,
         "deaths - 4/24/20": 0,
         "deaths - 4/25/20": 0,
         "deaths - 4/26/20": 0,
         "deaths - 4/27/20": 0,
         "deaths - 4/28/20": 0,
         "deaths - 4/29/20": 0,
         "deaths - 4/3/20": 0,
         "deaths - 4/30/20": 0,
         "deaths - 4/4/20": 1,
         "deaths - 4/5/20": 0,
         "deaths - 4/6/20": 0,
         "deaths - 4/7/20": 0,
         "deaths - 4/8/20": 0,
         "deaths - 4/9/20": 0,
         "deaths - 5/1/20": 1,
         "deaths - 5/10/20": 0,
         "deaths - 5/11/20": 0,
         "deaths - 5/12/20": 0,
         "deaths - 5/13/20": 0,
         "deaths - 5/14/20": 0,
         "deaths - 5/15/20": 0,
         "deaths - 5/16/20": 0,
         "deaths - 5/17/20": 0,
         "deaths - 5/18/20": 0,
         "deaths - 5/19/20": 0,
         "deaths - 5/2/20": 0,
         "deaths - 5/20/20": 0,
         "deaths - 5/21/20": 0,
         "deaths - 5/22/20": 0,
         "deaths - 5/23/20": 0,
         "deaths - 5/24/20": 0,
         "deaths - 5/25/20": 0,
         "deaths - 5/26/20": 0,
         "deaths - 5/27/20": 0,
         "deaths - 5/28/20": 0,
         "deaths - 5/29/20": 0,
         "deaths - 5/3/20": 0,
         "deaths - 5/30/20": 0,
         "deaths - 5/31/20": 0,
         "deaths - 5/4/20": 0,
         "deaths - 5/5/20": 0,
         "deaths - 5/6/20": 0,
         "deaths - 5/7/20": 1,
         "deaths - 5/8/20": 1,
         "deaths - 5/9/20": 0,
         "deaths - 6/1/20": 0,
         "deaths - 6/10/20": 0,
         "deaths - 6/11/20": 0,
         "deaths - 6/12/20": 0,
         "deaths - 6/13/20": 0,
         "deaths - 6/14/20": 0,
         "deaths - 6/15/20": 0,
         "deaths - 6/16/20": 0,
         "deaths - 6/17/20": 0,
         "deaths - 6/18/20": 0,
         "deaths - 6/19/20": 0,
         "deaths - 6/2/20": 0,
         "deaths - 6/20/20": 0,
         "deaths - 6/21/20": 0,
         "deaths - 6/22/20": 0,
         "deaths - 6/23/20": 0,
         "deaths - 6/24/20": 0,
         "deaths - 6/25/20": 0,
         "deaths - 6/26/20": 0,
         "deaths - 6/27/20": 0,
         "deaths - 6/28/20": 0,
         "deaths - 6/29/20": 0,
         "deaths - 6/3/20": 0,
         "deaths - 6/30/20": 0,
         "deaths - 6/4/20": 0,
         "deaths - 6/5/20": 0,
         "deaths - 6/6/20": 0,
         "deaths - 6/7/20": 0,
         "deaths - 6/8/20": 0,
         "deaths - 6/9/20": 0,
         "deaths - 7/1/20": 0,
         "deaths - 7/10/20": 1,
         "deaths - 7/11/20": 1,
         "deaths - 7/12/20": 0,
         "deaths - 7/13/20": 0,
         "deaths - 7/14/20": 0,
         "deaths - 7/15/20": 0,
         "deaths - 7/16/20": 0,
         "deaths - 7/17/20": 1,
         "deaths - 7/18/20": 1,
         "deaths - 7/19/20": 0,
         "deaths - 7/2/20": 0,
         "deaths - 7/20/20": 1,
         "deaths - 7/21/20": 0,
         "deaths - 7/22/20": 1,
         "deaths - 7/23/20": 0,
         "deaths - 7/24/20": 1,
         "deaths - 7/25/20": 2,
         "deaths - 7/26/20": 1,
         "deaths - 7/27/20": 0,
         "deaths - 7/28/20": 0,
         "deaths - 7/29/20": 2,
         "deaths - 7/3/20": 1,
         "deaths - 7/30/20": 2,
         "deaths - 7/31/20": 2,
         "deaths - 7/4/20": 0,
         "deaths - 7/5/20": 0,
         "deaths - 7/6/20": 0,
         "deaths - 7/7/20": 0,
         "deaths - 7/8/20": 0,
         "deaths - 7/9/20": 0,
         "deaths - 8/1/20": 2,
         "deaths - 8/10/20": 1,
         "deaths - 8/11/20": 2,
         "deaths - 8/12/20": 0,
         "deaths - 8/13/20": 1,
         "deaths - 8/14/20": 2,
         "deaths - 8/15/20": 1,
         "deaths - 8/16/20": 2,
         "deaths - 8/17/20": 2,
         "deaths - 8/18/20": 1,
         "deaths - 8/19/20": 1,
         "deaths - 8/2/20": 0,
         "deaths - 8/20/20": 0,
         "deaths - 8/21/20": 1,
         "deaths - 8/22/20": 1,
         "deaths - 8/23/20": 1,
         "deaths - 8/24/20": 1,
         "deaths - 8/25/20": 1,
         "deaths - 8/26/20": 1,
         "deaths - 8/27/20": 0,
         "deaths - 8/28/20": 0,
         "deaths - 8/29/20": 0,
         "deaths - 8/3/20": 0,
         "deaths - 8/30/20": 0,
         "deaths - 8/31/20": 0,
         "deaths - 8/4/20": 1,
         "deaths - 8/5/20": 1,
         "deaths - 8/6/20": 0,
         "deaths - 8/7/20": 0,
         "deaths - 8/8/20": 0,
         "deaths - 8/9/20": 1,
         "deaths - 9/1/20": 0,
         "deaths - 9/10/20": 1,
         "deaths - 9/11/20": 1,
         "deaths - 9/12/20": 0,
         "deaths - 9/13/20": 0,
         "deaths - 9/14/20": 0,
         "deaths - 9/15/20": 0,
         "deaths - 9/16/20": 0,
         "deaths - 9/2/20": 1,
         "deaths - 9/3/20": 0,
         "deaths - 9/4/20": 0,
         "deaths - 9/5/20": 0,
         "deaths - 9/6/20": 0,
         "deaths - 9/7/20": 0,
         "deaths - 9/8/20": 1,
         "deaths - 9/9/20": 1
        },
        {
         "County Name": "Calhoun County",
         "deaths - 1/22/20": 0,
         "deaths - 1/23/20": 0,
         "deaths - 1/24/20": 0,
         "deaths - 1/25/20": 0,
         "deaths - 1/26/20": 0,
         "deaths - 1/27/20": 0,
         "deaths - 1/28/20": 0,
         "deaths - 1/29/20": 0,
         "deaths - 1/30/20": 0,
         "deaths - 1/31/20": 0,
         "deaths - 2/1/20": 0,
         "deaths - 2/10/20": 0,
         "deaths - 2/11/20": 0,
         "deaths - 2/12/20": 0,
         "deaths - 2/13/20": 0,
         "deaths - 2/14/20": 0,
         "deaths - 2/15/20": 0,
         "deaths - 2/16/20": 0,
         "deaths - 2/17/20": 0,
         "deaths - 2/18/20": 0,
         "deaths - 2/19/20": 0,
         "deaths - 2/2/20": 0,
         "deaths - 2/20/20": 0,
         "deaths - 2/21/20": 0,
         "deaths - 2/22/20": 0,
         "deaths - 2/23/20": 0,
         "deaths - 2/24/20": 0,
         "deaths - 2/25/20": 0,
         "deaths - 2/26/20": 0,
         "deaths - 2/27/20": 0,
         "deaths - 2/28/20": 0,
         "deaths - 2/29/20": 0,
         "deaths - 2/3/20": 0,
         "deaths - 2/4/20": 0,
         "deaths - 2/5/20": 0,
         "deaths - 2/6/20": 0,
         "deaths - 2/7/20": 0,
         "deaths - 2/8/20": 0,
         "deaths - 2/9/20": 0,
         "deaths - 3/1/20": 0,
         "deaths - 3/10/20": 0,
         "deaths - 3/11/20": 0,
         "deaths - 3/12/20": 0,
         "deaths - 3/13/20": 0,
         "deaths - 3/14/20": 0,
         "deaths - 3/15/20": 0,
         "deaths - 3/16/20": 0,
         "deaths - 3/17/20": 0,
         "deaths - 3/18/20": 0,
         "deaths - 3/19/20": 0,
         "deaths - 3/2/20": 0,
         "deaths - 3/20/20": 0,
         "deaths - 3/21/20": 0,
         "deaths - 3/22/20": 0,
         "deaths - 3/23/20": 0,
         "deaths - 3/24/20": 0,
         "deaths - 3/25/20": 0,
         "deaths - 3/26/20": 0,
         "deaths - 3/27/20": 0,
         "deaths - 3/28/20": 0,
         "deaths - 3/29/20": 0,
         "deaths - 3/3/20": 0,
         "deaths - 3/30/20": 0,
         "deaths - 3/31/20": 0,
         "deaths - 3/4/20": 0,
         "deaths - 3/5/20": 0,
         "deaths - 3/6/20": 0,
         "deaths - 3/7/20": 0,
         "deaths - 3/8/20": 0,
         "deaths - 3/9/20": 0,
         "deaths - 4/1/20": 0,
         "deaths - 4/10/20": 0,
         "deaths - 4/11/20": 0,
         "deaths - 4/12/20": 0,
         "deaths - 4/13/20": 0,
         "deaths - 4/14/20": 0,
         "deaths - 4/15/20": 0,
         "deaths - 4/16/20": 0,
         "deaths - 4/17/20": 0,
         "deaths - 4/18/20": 0,
         "deaths - 4/19/20": 0,
         "deaths - 4/2/20": 0,
         "deaths - 4/20/20": 0,
         "deaths - 4/21/20": 0,
         "deaths - 4/22/20": 0,
         "deaths - 4/23/20": 0,
         "deaths - 4/24/20": 0,
         "deaths - 4/25/20": 0,
         "deaths - 4/26/20": 0,
         "deaths - 4/27/20": 0,
         "deaths - 4/28/20": 0,
         "deaths - 4/29/20": 0,
         "deaths - 4/3/20": 0,
         "deaths - 4/30/20": 0,
         "deaths - 4/4/20": 0,
         "deaths - 4/5/20": 0,
         "deaths - 4/6/20": 0,
         "deaths - 4/7/20": 0,
         "deaths - 4/8/20": 0,
         "deaths - 4/9/20": 0,
         "deaths - 5/1/20": 0,
         "deaths - 5/10/20": 0,
         "deaths - 5/11/20": 0,
         "deaths - 5/12/20": 0,
         "deaths - 5/13/20": 0,
         "deaths - 5/14/20": 7,
         "deaths - 5/15/20": 0,
         "deaths - 5/16/20": 0,
         "deaths - 5/17/20": 0,
         "deaths - 5/18/20": 0,
         "deaths - 5/19/20": 7,
         "deaths - 5/2/20": 0,
         "deaths - 5/20/20": 0,
         "deaths - 5/21/20": 0,
         "deaths - 5/22/20": 7,
         "deaths - 5/23/20": 0,
         "deaths - 5/24/20": 0,
         "deaths - 5/25/20": 0,
         "deaths - 5/26/20": 0,
         "deaths - 5/27/20": 0,
         "deaths - 5/28/20": 0,
         "deaths - 5/29/20": 7,
         "deaths - 5/3/20": 0,
         "deaths - 5/30/20": 0,
         "deaths - 5/31/20": 0,
         "deaths - 5/4/20": 0,
         "deaths - 5/5/20": 0,
         "deaths - 5/6/20": 0,
         "deaths - 5/7/20": 0,
         "deaths - 5/8/20": 0,
         "deaths - 5/9/20": 0,
         "deaths - 6/1/20": 0,
         "deaths - 6/10/20": 0,
         "deaths - 6/11/20": 0,
         "deaths - 6/12/20": 7,
         "deaths - 6/13/20": 0,
         "deaths - 6/14/20": 0,
         "deaths - 6/15/20": 0,
         "deaths - 6/16/20": 0,
         "deaths - 6/17/20": 0,
         "deaths - 6/18/20": 0,
         "deaths - 6/19/20": 0,
         "deaths - 6/2/20": 0,
         "deaths - 6/20/20": 7,
         "deaths - 6/21/20": 0,
         "deaths - 6/22/20": 0,
         "deaths - 6/23/20": 0,
         "deaths - 6/24/20": 0,
         "deaths - 6/25/20": 0,
         "deaths - 6/26/20": 0,
         "deaths - 6/27/20": 0,
         "deaths - 6/28/20": 0,
         "deaths - 6/29/20": 0,
         "deaths - 6/3/20": 0,
         "deaths - 6/30/20": 0,
         "deaths - 6/4/20": 0,
         "deaths - 6/5/20": 0,
         "deaths - 6/6/20": 0,
         "deaths - 6/7/20": 0,
         "deaths - 6/8/20": 0,
         "deaths - 6/9/20": 0,
         "deaths - 7/1/20": 0,
         "deaths - 7/10/20": 0,
         "deaths - 7/11/20": 0,
         "deaths - 7/12/20": 0,
         "deaths - 7/13/20": 0,
         "deaths - 7/14/20": 0,
         "deaths - 7/15/20": 0,
         "deaths - 7/16/20": 0,
         "deaths - 7/17/20": 0,
         "deaths - 7/18/20": 0,
         "deaths - 7/19/20": 0,
         "deaths - 7/2/20": 0,
         "deaths - 7/20/20": 0,
         "deaths - 7/21/20": 0,
         "deaths - 7/22/20": 0,
         "deaths - 7/23/20": 0,
         "deaths - 7/24/20": 0,
         "deaths - 7/25/20": 0,
         "deaths - 7/26/20": 0,
         "deaths - 7/27/20": 0,
         "deaths - 7/28/20": 0,
         "deaths - 7/29/20": 0,
         "deaths - 7/3/20": 0,
         "deaths - 7/30/20": 0,
         "deaths - 7/31/20": 0,
         "deaths - 7/4/20": 0,
         "deaths - 7/5/20": 0,
         "deaths - 7/6/20": 0,
         "deaths - 7/7/20": 0,
         "deaths - 7/8/20": 0,
         "deaths - 7/9/20": 7,
         "deaths - 8/1/20": 0,
         "deaths - 8/10/20": 0,
         "deaths - 8/11/20": 7,
         "deaths - 8/12/20": 0,
         "deaths - 8/13/20": 0,
         "deaths - 8/14/20": 0,
         "deaths - 8/15/20": 0,
         "deaths - 8/16/20": 0,
         "deaths - 8/17/20": 0,
         "deaths - 8/18/20": 0,
         "deaths - 8/19/20": 0,
         "deaths - 8/2/20": 0,
         "deaths - 8/20/20": 0,
         "deaths - 8/21/20": 0,
         "deaths - 8/22/20": 0,
         "deaths - 8/23/20": 0,
         "deaths - 8/24/20": 0,
         "deaths - 8/25/20": 0,
         "deaths - 8/26/20": 0,
         "deaths - 8/27/20": 0,
         "deaths - 8/28/20": 0,
         "deaths - 8/29/20": 0,
         "deaths - 8/3/20": 0,
         "deaths - 8/30/20": 0,
         "deaths - 8/31/20": 0,
         "deaths - 8/4/20": 0,
         "deaths - 8/5/20": 0,
         "deaths - 8/6/20": 0,
         "deaths - 8/7/20": 0,
         "deaths - 8/8/20": 0,
         "deaths - 8/9/20": 0,
         "deaths - 9/1/20": 7,
         "deaths - 9/10/20": 0,
         "deaths - 9/11/20": 0,
         "deaths - 9/12/20": 0,
         "deaths - 9/13/20": 0,
         "deaths - 9/14/20": 0,
         "deaths - 9/15/20": 0,
         "deaths - 9/16/20": 0,
         "deaths - 9/2/20": 0,
         "deaths - 9/3/20": 0,
         "deaths - 9/4/20": 0,
         "deaths - 9/5/20": 0,
         "deaths - 9/6/20": 0,
         "deaths - 9/7/20": 0,
         "deaths - 9/8/20": 0,
         "deaths - 9/9/20": 0
        },
        {
         "County Name": "Charlotte County",
         "deaths - 1/22/20": 0,
         "deaths - 1/23/20": 0,
         "deaths - 1/24/20": 0,
         "deaths - 1/25/20": 0,
         "deaths - 1/26/20": 0,
         "deaths - 1/27/20": 0,
         "deaths - 1/28/20": 0,
         "deaths - 1/29/20": 0,
         "deaths - 1/30/20": 0,
         "deaths - 1/31/20": 0,
         "deaths - 2/1/20": 0,
         "deaths - 2/10/20": 0,
         "deaths - 2/11/20": 0,
         "deaths - 2/12/20": 0,
         "deaths - 2/13/20": 0,
         "deaths - 2/14/20": 0,
         "deaths - 2/15/20": 0,
         "deaths - 2/16/20": 0,
         "deaths - 2/17/20": 0,
         "deaths - 2/18/20": 0,
         "deaths - 2/19/20": 0,
         "deaths - 2/2/20": 0,
         "deaths - 2/20/20": 0,
         "deaths - 2/21/20": 0,
         "deaths - 2/22/20": 0,
         "deaths - 2/23/20": 0,
         "deaths - 2/24/20": 0,
         "deaths - 2/25/20": 0,
         "deaths - 2/26/20": 0,
         "deaths - 2/27/20": 0,
         "deaths - 2/28/20": 0,
         "deaths - 2/29/20": 0,
         "deaths - 2/3/20": 0,
         "deaths - 2/4/20": 0,
         "deaths - 2/5/20": 0,
         "deaths - 2/6/20": 0,
         "deaths - 2/7/20": 0,
         "deaths - 2/8/20": 0,
         "deaths - 2/9/20": 0,
         "deaths - 3/1/20": 0,
         "deaths - 3/10/20": 0,
         "deaths - 3/11/20": 0,
         "deaths - 3/12/20": 0,
         "deaths - 3/13/20": 0,
         "deaths - 3/14/20": 0,
         "deaths - 3/15/20": 0,
         "deaths - 3/16/20": 0,
         "deaths - 3/17/20": 0,
         "deaths - 3/18/20": 0,
         "deaths - 3/19/20": 0,
         "deaths - 3/2/20": 0,
         "deaths - 3/20/20": 0,
         "deaths - 3/21/20": 0,
         "deaths - 3/22/20": 0,
         "deaths - 3/23/20": 0,
         "deaths - 3/24/20": 0,
         "deaths - 3/25/20": 0,
         "deaths - 3/26/20": 0,
         "deaths - 3/27/20": 0,
         "deaths - 3/28/20": 0,
         "deaths - 3/29/20": 0,
         "deaths - 3/3/20": 0,
         "deaths - 3/30/20": 0,
         "deaths - 3/31/20": 0,
         "deaths - 3/4/20": 0,
         "deaths - 3/5/20": 0,
         "deaths - 3/6/20": 0,
         "deaths - 3/7/20": 0,
         "deaths - 3/8/20": 0,
         "deaths - 3/9/20": 0,
         "deaths - 4/1/20": 0,
         "deaths - 4/10/20": 1,
         "deaths - 4/11/20": 0,
         "deaths - 4/12/20": 0,
         "deaths - 4/13/20": 0,
         "deaths - 4/14/20": 0,
         "deaths - 4/15/20": 1,
         "deaths - 4/16/20": 1,
         "deaths - 4/17/20": 1,
         "deaths - 4/18/20": 0,
         "deaths - 4/19/20": 0,
         "deaths - 4/2/20": 0,
         "deaths - 4/20/20": 1,
         "deaths - 4/21/20": 0,
         "deaths - 4/22/20": 0,
         "deaths - 4/23/20": 1,
         "deaths - 4/24/20": 1,
         "deaths - 4/25/20": 0,
         "deaths - 4/26/20": 0,
         "deaths - 4/27/20": 0,
         "deaths - 4/28/20": 1,
         "deaths - 4/29/20": 2,
         "deaths - 4/3/20": 1,
         "deaths - 4/30/20": 1,
         "deaths - 4/4/20": 0,
         "deaths - 4/5/20": 0,
         "deaths - 4/6/20": 0,
         "deaths - 4/7/20": 0,
         "deaths - 4/8/20": 0,
         "deaths - 4/9/20": 2,
         "deaths - 5/1/20": 2,
         "deaths - 5/10/20": 0,
         "deaths - 5/11/20": 0,
         "deaths - 5/12/20": 1,
         "deaths - 5/13/20": 1,
         "deaths - 5/14/20": 1,
         "deaths - 5/15/20": 1,
         "deaths - 5/16/20": 1,
         "deaths - 5/17/20": 0,
         "deaths - 5/18/20": 0,
         "deaths - 5/19/20": 2,
         "deaths - 5/2/20": 2,
         "deaths - 5/20/20": 4,
         "deaths - 5/21/20": 1,
         "deaths - 5/22/20": 1,
         "deaths - 5/23/20": 1,
         "deaths - 5/24/20": 0,
         "deaths - 5/25/20": 0,
         "deaths - 5/26/20": 0,
         "deaths - 5/27/20": 1,
         "deaths - 5/28/20": 2,
         "deaths - 5/29/20": 1,
         "deaths - 5/3/20": 0,
         "deaths - 5/30/20": 1,
         "deaths - 5/31/20": 0,
         "deaths - 5/4/20": 0,
         "deaths - 5/5/20": 1,
         "deaths - 5/6/20": 2,
         "deaths - 5/7/20": 1,
         "deaths - 5/8/20": 1,
         "deaths - 5/9/20": 1,
         "deaths - 6/1/20": 0,
         "deaths - 6/10/20": 0,
         "deaths - 6/11/20": 0,
         "deaths - 6/12/20": 0,
         "deaths - 6/13/20": 1,
         "deaths - 6/14/20": 0,
         "deaths - 6/15/20": 0,
         "deaths - 6/16/20": 0,
         "deaths - 6/17/20": 0,
         "deaths - 6/18/20": 1,
         "deaths - 6/19/20": 1,
         "deaths - 6/2/20": 1,
         "deaths - 6/20/20": 0,
         "deaths - 6/21/20": 0,
         "deaths - 6/22/20": 0,
         "deaths - 6/23/20": 0,
         "deaths - 6/24/20": 1,
         "deaths - 6/25/20": 0,
         "deaths - 6/26/20": 0,
         "deaths - 6/27/20": 0,
         "deaths - 6/28/20": 0,
         "deaths - 6/29/20": 0,
         "deaths - 6/3/20": 2,
         "deaths - 6/30/20": 0,
         "deaths - 6/4/20": 0,
         "deaths - 6/5/20": 2,
         "deaths - 6/6/20": 0,
         "deaths - 6/7/20": 0,
         "deaths - 6/8/20": 0,
         "deaths - 6/9/20": 0,
         "deaths - 7/1/20": 0,
         "deaths - 7/10/20": 1,
         "deaths - 7/11/20": 0,
         "deaths - 7/12/20": 1,
         "deaths - 7/13/20": 0,
         "deaths - 7/14/20": 0,
         "deaths - 7/15/20": 1,
         "deaths - 7/16/20": 0,
         "deaths - 7/17/20": 0,
         "deaths - 7/18/20": 0,
         "deaths - 7/19/20": 1,
         "deaths - 7/2/20": 0,
         "deaths - 7/20/20": 1,
         "deaths - 7/21/20": 0,
         "deaths - 7/22/20": 0,
         "deaths - 7/23/20": 0,
         "deaths - 7/24/20": 0,
         "deaths - 7/25/20": 0,
         "deaths - 7/26/20": 0,
         "deaths - 7/27/20": 1,
         "deaths - 7/28/20": 0,
         "deaths - 7/29/20": 1,
         "deaths - 7/3/20": 0,
         "deaths - 7/30/20": 0,
         "deaths - 7/31/20": 1,
         "deaths - 7/4/20": 0,
         "deaths - 7/5/20": 0,
         "deaths - 7/6/20": 1,
         "deaths - 7/7/20": 0,
         "deaths - 7/8/20": 0,
         "deaths - 7/9/20": 0,
         "deaths - 8/1/20": 2,
         "deaths - 8/10/20": 0,
         "deaths - 8/11/20": 2,
         "deaths - 8/12/20": 1,
         "deaths - 8/13/20": 1,
         "deaths - 8/14/20": 0,
         "deaths - 8/15/20": 2,
         "deaths - 8/16/20": 0,
         "deaths - 8/17/20": 1,
         "deaths - 8/18/20": 1,
         "deaths - 8/19/20": 2,
         "deaths - 8/2/20": 0,
         "deaths - 8/20/20": 0,
         "deaths - 8/21/20": 1,
         "deaths - 8/22/20": 0,
         "deaths - 8/23/20": 0,
         "deaths - 8/24/20": 0,
         "deaths - 8/25/20": 1,
         "deaths - 8/26/20": 0,
         "deaths - 8/27/20": 0,
         "deaths - 8/28/20": 0,
         "deaths - 8/29/20": 1,
         "deaths - 8/3/20": 0,
         "deaths - 8/30/20": 0,
         "deaths - 8/31/20": 0,
         "deaths - 8/4/20": 0,
         "deaths - 8/5/20": 0,
         "deaths - 8/6/20": 0,
         "deaths - 8/7/20": 1,
         "deaths - 8/8/20": 1,
         "deaths - 8/9/20": 0,
         "deaths - 9/1/20": 1,
         "deaths - 9/10/20": 1,
         "deaths - 9/11/20": 2,
         "deaths - 9/12/20": 0,
         "deaths - 9/13/20": 0,
         "deaths - 9/14/20": 0,
         "deaths - 9/15/20": 2,
         "deaths - 9/16/20": 2,
         "deaths - 9/2/20": 1,
         "deaths - 9/3/20": 1,
         "deaths - 9/4/20": 1,
         "deaths - 9/5/20": 0,
         "deaths - 9/6/20": 1,
         "deaths - 9/7/20": 0,
         "deaths - 9/8/20": 0,
         "deaths - 9/9/20": 1
        }
       ],
       "schema": {
        "fields": [
         {
          "name": "values",
          "type": "string"
         },
         {
          "name": "deaths - 1/22/20",
          "type": "number"
         },
         {
          "name": "deaths - 1/23/20",
          "type": "number"
         },
         {
          "name": "deaths - 1/24/20",
          "type": "number"
         },
         {
          "name": "deaths - 1/25/20",
          "type": "number"
         },
         {
          "name": "deaths - 1/26/20",
          "type": "number"
         },
         {
          "name": "deaths - 1/27/20",
          "type": "number"
         },
         {
          "name": "deaths - 1/28/20",
          "type": "number"
         },
         {
          "name": "deaths - 1/29/20",
          "type": "number"
         },
         {
          "name": "deaths - 1/30/20",
          "type": "number"
         },
         {
          "name": "deaths - 1/31/20",
          "type": "number"
         },
         {
          "name": "deaths - 2/1/20",
          "type": "number"
         },
         {
          "name": "deaths - 2/2/20",
          "type": "number"
         },
         {
          "name": "deaths - 2/3/20",
          "type": "number"
         },
         {
          "name": "deaths - 2/4/20",
          "type": "number"
         },
         {
          "name": "deaths - 2/5/20",
          "type": "number"
         },
         {
          "name": "deaths - 2/6/20",
          "type": "number"
         },
         {
          "name": "deaths - 2/7/20",
          "type": "number"
         },
         {
          "name": "deaths - 2/8/20",
          "type": "number"
         },
         {
          "name": "deaths - 2/9/20",
          "type": "number"
         },
         {
          "name": "deaths - 2/10/20",
          "type": "number"
         },
         {
          "name": "deaths - 2/11/20",
          "type": "number"
         },
         {
          "name": "deaths - 2/12/20",
          "type": "number"
         },
         {
          "name": "deaths - 2/13/20",
          "type": "number"
         },
         {
          "name": "deaths - 2/14/20",
          "type": "number"
         },
         {
          "name": "deaths - 2/15/20",
          "type": "number"
         },
         {
          "name": "deaths - 2/16/20",
          "type": "number"
         },
         {
          "name": "deaths - 2/17/20",
          "type": "number"
         },
         {
          "name": "deaths - 2/18/20",
          "type": "number"
         },
         {
          "name": "deaths - 2/19/20",
          "type": "number"
         },
         {
          "name": "deaths - 2/20/20",
          "type": "number"
         },
         {
          "name": "deaths - 2/21/20",
          "type": "number"
         },
         {
          "name": "deaths - 2/22/20",
          "type": "number"
         },
         {
          "name": "deaths - 2/23/20",
          "type": "number"
         },
         {
          "name": "deaths - 2/24/20",
          "type": "number"
         },
         {
          "name": "deaths - 2/25/20",
          "type": "number"
         },
         {
          "name": "deaths - 2/26/20",
          "type": "number"
         },
         {
          "name": "deaths - 2/27/20",
          "type": "number"
         },
         {
          "name": "deaths - 2/28/20",
          "type": "number"
         },
         {
          "name": "deaths - 2/29/20",
          "type": "number"
         },
         {
          "name": "deaths - 3/1/20",
          "type": "number"
         },
         {
          "name": "deaths - 3/2/20",
          "type": "number"
         },
         {
          "name": "deaths - 3/3/20",
          "type": "number"
         },
         {
          "name": "deaths - 3/4/20",
          "type": "number"
         },
         {
          "name": "deaths - 3/5/20",
          "type": "number"
         },
         {
          "name": "deaths - 3/6/20",
          "type": "number"
         },
         {
          "name": "deaths - 3/7/20",
          "type": "number"
         },
         {
          "name": "deaths - 3/8/20",
          "type": "number"
         },
         {
          "name": "deaths - 3/9/20",
          "type": "number"
         },
         {
          "name": "deaths - 3/10/20",
          "type": "number"
         },
         {
          "name": "deaths - 3/11/20",
          "type": "number"
         },
         {
          "name": "deaths - 3/12/20",
          "type": "number"
         },
         {
          "name": "deaths - 3/13/20",
          "type": "number"
         },
         {
          "name": "deaths - 3/14/20",
          "type": "number"
         },
         {
          "name": "deaths - 3/15/20",
          "type": "number"
         },
         {
          "name": "deaths - 3/16/20",
          "type": "number"
         },
         {
          "name": "deaths - 3/17/20",
          "type": "number"
         },
         {
          "name": "deaths - 3/18/20",
          "type": "number"
         },
         {
          "name": "deaths - 3/19/20",
          "type": "number"
         },
         {
          "name": "deaths - 3/20/20",
          "type": "number"
         },
         {
          "name": "deaths - 3/21/20",
          "type": "number"
         },
         {
          "name": "deaths - 3/22/20",
          "type": "number"
         },
         {
          "name": "deaths - 3/23/20",
          "type": "number"
         },
         {
          "name": "deaths - 3/24/20",
          "type": "number"
         },
         {
          "name": "deaths - 3/25/20",
          "type": "number"
         },
         {
          "name": "deaths - 3/26/20",
          "type": "number"
         },
         {
          "name": "deaths - 3/27/20",
          "type": "number"
         },
         {
          "name": "deaths - 3/28/20",
          "type": "number"
         },
         {
          "name": "deaths - 3/29/20",
          "type": "number"
         },
         {
          "name": "deaths - 3/30/20",
          "type": "number"
         },
         {
          "name": "deaths - 3/31/20",
          "type": "number"
         },
         {
          "name": "deaths - 4/1/20",
          "type": "number"
         },
         {
          "name": "deaths - 4/2/20",
          "type": "number"
         },
         {
          "name": "deaths - 4/3/20",
          "type": "number"
         },
         {
          "name": "deaths - 4/4/20",
          "type": "number"
         },
         {
          "name": "deaths - 4/5/20",
          "type": "number"
         },
         {
          "name": "deaths - 4/6/20",
          "type": "number"
         },
         {
          "name": "deaths - 4/7/20",
          "type": "number"
         },
         {
          "name": "deaths - 4/8/20",
          "type": "number"
         },
         {
          "name": "deaths - 4/9/20",
          "type": "number"
         },
         {
          "name": "deaths - 4/10/20",
          "type": "number"
         },
         {
          "name": "deaths - 4/11/20",
          "type": "number"
         },
         {
          "name": "deaths - 4/12/20",
          "type": "number"
         },
         {
          "name": "deaths - 4/13/20",
          "type": "number"
         },
         {
          "name": "deaths - 4/14/20",
          "type": "number"
         },
         {
          "name": "deaths - 4/15/20",
          "type": "number"
         },
         {
          "name": "deaths - 4/16/20",
          "type": "number"
         },
         {
          "name": "deaths - 4/17/20",
          "type": "number"
         },
         {
          "name": "deaths - 4/18/20",
          "type": "number"
         },
         {
          "name": "deaths - 4/19/20",
          "type": "number"
         },
         {
          "name": "deaths - 4/20/20",
          "type": "number"
         },
         {
          "name": "deaths - 4/21/20",
          "type": "number"
         },
         {
          "name": "deaths - 4/22/20",
          "type": "number"
         },
         {
          "name": "deaths - 4/23/20",
          "type": "number"
         },
         {
          "name": "deaths - 4/24/20",
          "type": "number"
         },
         {
          "name": "deaths - 4/25/20",
          "type": "number"
         },
         {
          "name": "deaths - 4/26/20",
          "type": "number"
         },
         {
          "name": "deaths - 4/27/20",
          "type": "number"
         },
         {
          "name": "deaths - 4/28/20",
          "type": "number"
         },
         {
          "name": "deaths - 4/29/20",
          "type": "number"
         },
         {
          "name": "deaths - 4/30/20",
          "type": "number"
         },
         {
          "name": "deaths - 5/1/20",
          "type": "number"
         },
         {
          "name": "deaths - 5/2/20",
          "type": "number"
         },
         {
          "name": "deaths - 5/3/20",
          "type": "number"
         },
         {
          "name": "deaths - 5/4/20",
          "type": "number"
         },
         {
          "name": "deaths - 5/5/20",
          "type": "number"
         },
         {
          "name": "deaths - 5/6/20",
          "type": "number"
         },
         {
          "name": "deaths - 5/7/20",
          "type": "number"
         },
         {
          "name": "deaths - 5/8/20",
          "type": "number"
         },
         {
          "name": "deaths - 5/9/20",
          "type": "number"
         },
         {
          "name": "deaths - 5/10/20",
          "type": "number"
         },
         {
          "name": "deaths - 5/11/20",
          "type": "number"
         },
         {
          "name": "deaths - 5/12/20",
          "type": "number"
         },
         {
          "name": "deaths - 5/13/20",
          "type": "number"
         },
         {
          "name": "deaths - 5/14/20",
          "type": "number"
         },
         {
          "name": "deaths - 5/15/20",
          "type": "number"
         },
         {
          "name": "deaths - 5/16/20",
          "type": "number"
         },
         {
          "name": "deaths - 5/17/20",
          "type": "number"
         },
         {
          "name": "deaths - 5/18/20",
          "type": "number"
         },
         {
          "name": "deaths - 5/19/20",
          "type": "number"
         },
         {
          "name": "deaths - 5/20/20",
          "type": "number"
         },
         {
          "name": "deaths - 5/21/20",
          "type": "number"
         },
         {
          "name": "deaths - 5/22/20",
          "type": "number"
         },
         {
          "name": "deaths - 5/23/20",
          "type": "number"
         },
         {
          "name": "deaths - 5/24/20",
          "type": "number"
         },
         {
          "name": "deaths - 5/25/20",
          "type": "number"
         },
         {
          "name": "deaths - 5/26/20",
          "type": "number"
         },
         {
          "name": "deaths - 5/27/20",
          "type": "number"
         },
         {
          "name": "deaths - 5/28/20",
          "type": "number"
         },
         {
          "name": "deaths - 5/29/20",
          "type": "number"
         },
         {
          "name": "deaths - 5/30/20",
          "type": "number"
         },
         {
          "name": "deaths - 5/31/20",
          "type": "number"
         },
         {
          "name": "deaths - 6/1/20",
          "type": "number"
         },
         {
          "name": "deaths - 6/2/20",
          "type": "number"
         },
         {
          "name": "deaths - 6/3/20",
          "type": "number"
         },
         {
          "name": "deaths - 6/4/20",
          "type": "number"
         },
         {
          "name": "deaths - 6/5/20",
          "type": "number"
         },
         {
          "name": "deaths - 6/6/20",
          "type": "number"
         },
         {
          "name": "deaths - 6/7/20",
          "type": "number"
         },
         {
          "name": "deaths - 6/8/20",
          "type": "number"
         },
         {
          "name": "deaths - 6/9/20",
          "type": "number"
         },
         {
          "name": "deaths - 6/10/20",
          "type": "number"
         },
         {
          "name": "deaths - 6/11/20",
          "type": "number"
         },
         {
          "name": "deaths - 6/12/20",
          "type": "number"
         },
         {
          "name": "deaths - 6/13/20",
          "type": "number"
         },
         {
          "name": "deaths - 6/14/20",
          "type": "number"
         },
         {
          "name": "deaths - 6/15/20",
          "type": "number"
         },
         {
          "name": "deaths - 6/16/20",
          "type": "number"
         },
         {
          "name": "deaths - 6/17/20",
          "type": "number"
         },
         {
          "name": "deaths - 6/18/20",
          "type": "number"
         },
         {
          "name": "deaths - 6/19/20",
          "type": "number"
         },
         {
          "name": "deaths - 6/20/20",
          "type": "number"
         },
         {
          "name": "deaths - 6/21/20",
          "type": "number"
         },
         {
          "name": "deaths - 6/22/20",
          "type": "number"
         },
         {
          "name": "deaths - 6/23/20",
          "type": "number"
         },
         {
          "name": "deaths - 6/24/20",
          "type": "number"
         },
         {
          "name": "deaths - 6/25/20",
          "type": "number"
         },
         {
          "name": "deaths - 6/26/20",
          "type": "number"
         },
         {
          "name": "deaths - 6/27/20",
          "type": "number"
         },
         {
          "name": "deaths - 6/28/20",
          "type": "number"
         },
         {
          "name": "deaths - 6/29/20",
          "type": "number"
         },
         {
          "name": "deaths - 6/30/20",
          "type": "number"
         },
         {
          "name": "deaths - 7/1/20",
          "type": "number"
         },
         {
          "name": "deaths - 7/2/20",
          "type": "number"
         },
         {
          "name": "deaths - 7/3/20",
          "type": "number"
         },
         {
          "name": "deaths - 7/4/20",
          "type": "number"
         },
         {
          "name": "deaths - 7/5/20",
          "type": "number"
         },
         {
          "name": "deaths - 7/6/20",
          "type": "number"
         },
         {
          "name": "deaths - 7/7/20",
          "type": "number"
         },
         {
          "name": "deaths - 7/8/20",
          "type": "number"
         },
         {
          "name": "deaths - 7/9/20",
          "type": "number"
         },
         {
          "name": "deaths - 7/10/20",
          "type": "number"
         },
         {
          "name": "deaths - 7/11/20",
          "type": "number"
         },
         {
          "name": "deaths - 7/12/20",
          "type": "number"
         },
         {
          "name": "deaths - 7/13/20",
          "type": "number"
         },
         {
          "name": "deaths - 7/14/20",
          "type": "number"
         },
         {
          "name": "deaths - 7/15/20",
          "type": "number"
         },
         {
          "name": "deaths - 7/16/20",
          "type": "number"
         },
         {
          "name": "deaths - 7/17/20",
          "type": "number"
         },
         {
          "name": "deaths - 7/18/20",
          "type": "number"
         },
         {
          "name": "deaths - 7/19/20",
          "type": "number"
         },
         {
          "name": "deaths - 7/20/20",
          "type": "number"
         },
         {
          "name": "deaths - 7/21/20",
          "type": "number"
         },
         {
          "name": "deaths - 7/22/20",
          "type": "number"
         },
         {
          "name": "deaths - 7/23/20",
          "type": "number"
         },
         {
          "name": "deaths - 7/24/20",
          "type": "number"
         },
         {
          "name": "deaths - 7/25/20",
          "type": "number"
         },
         {
          "name": "deaths - 7/26/20",
          "type": "number"
         },
         {
          "name": "deaths - 7/27/20",
          "type": "number"
         },
         {
          "name": "deaths - 7/28/20",
          "type": "number"
         },
         {
          "name": "deaths - 7/29/20",
          "type": "number"
         },
         {
          "name": "deaths - 7/30/20",
          "type": "number"
         },
         {
          "name": "deaths - 7/31/20",
          "type": "number"
         },
         {
          "name": "deaths - 8/1/20",
          "type": "number"
         },
         {
          "name": "deaths - 8/2/20",
          "type": "number"
         },
         {
          "name": "deaths - 8/3/20",
          "type": "number"
         },
         {
          "name": "deaths - 8/4/20",
          "type": "number"
         },
         {
          "name": "deaths - 8/5/20",
          "type": "number"
         },
         {
          "name": "deaths - 8/6/20",
          "type": "number"
         },
         {
          "name": "deaths - 8/7/20",
          "type": "number"
         },
         {
          "name": "deaths - 8/8/20",
          "type": "number"
         },
         {
          "name": "deaths - 8/9/20",
          "type": "number"
         },
         {
          "name": "deaths - 8/10/20",
          "type": "number"
         },
         {
          "name": "deaths - 8/11/20",
          "type": "number"
         },
         {
          "name": "deaths - 8/12/20",
          "type": "number"
         },
         {
          "name": "deaths - 8/13/20",
          "type": "number"
         },
         {
          "name": "deaths - 8/14/20",
          "type": "number"
         },
         {
          "name": "deaths - 8/15/20",
          "type": "number"
         },
         {
          "name": "deaths - 8/16/20",
          "type": "number"
         },
         {
          "name": "deaths - 8/17/20",
          "type": "number"
         },
         {
          "name": "deaths - 8/18/20",
          "type": "number"
         },
         {
          "name": "deaths - 8/19/20",
          "type": "number"
         },
         {
          "name": "deaths - 8/20/20",
          "type": "number"
         },
         {
          "name": "deaths - 8/21/20",
          "type": "number"
         },
         {
          "name": "deaths - 8/22/20",
          "type": "number"
         },
         {
          "name": "deaths - 8/23/20",
          "type": "number"
         },
         {
          "name": "deaths - 8/24/20",
          "type": "number"
         },
         {
          "name": "deaths - 8/25/20",
          "type": "number"
         },
         {
          "name": "deaths - 8/26/20",
          "type": "number"
         },
         {
          "name": "deaths - 8/27/20",
          "type": "number"
         },
         {
          "name": "deaths - 8/28/20",
          "type": "number"
         },
         {
          "name": "deaths - 8/29/20",
          "type": "number"
         },
         {
          "name": "deaths - 8/30/20",
          "type": "number"
         },
         {
          "name": "deaths - 8/31/20",
          "type": "number"
         },
         {
          "name": "deaths - 9/1/20",
          "type": "number"
         },
         {
          "name": "deaths - 9/2/20",
          "type": "number"
         },
         {
          "name": "deaths - 9/3/20",
          "type": "number"
         },
         {
          "name": "deaths - 9/4/20",
          "type": "number"
         },
         {
          "name": "deaths - 9/5/20",
          "type": "number"
         },
         {
          "name": "deaths - 9/6/20",
          "type": "number"
         },
         {
          "name": "deaths - 9/7/20",
          "type": "number"
         },
         {
          "name": "deaths - 9/8/20",
          "type": "number"
         },
         {
          "name": "deaths - 9/9/20",
          "type": "number"
         },
         {
          "name": "deaths - 9/10/20",
          "type": "number"
         },
         {
          "name": "deaths - 9/11/20",
          "type": "number"
         },
         {
          "name": "deaths - 9/12/20",
          "type": "number"
         },
         {
          "name": "deaths - 9/13/20",
          "type": "number"
         },
         {
          "name": "deaths - 9/14/20",
          "type": "number"
         },
         {
          "name": "deaths - 9/15/20",
          "type": "number"
         },
         {
          "name": "deaths - 9/16/20",
          "type": "number"
         }
        ],
        "pandas_version": "0.20.0",
        "primaryKey": [
         null
        ]
       }
      },
      "text/html": [
       "<div>\n",
       "<style scoped>\n",
       "    .dataframe tbody tr th:only-of-type {\n",
       "        vertical-align: middle;\n",
       "    }\n",
       "\n",
       "    .dataframe tbody tr th {\n",
       "        vertical-align: top;\n",
       "    }\n",
       "\n",
       "    .dataframe thead th {\n",
       "        text-align: right;\n",
       "    }\n",
       "</style>\n",
       "<table border=\"1\" class=\"dataframe\">\n",
       "  <thead>\n",
       "    <tr style=\"text-align: right;\">\n",
       "      <th></th>\n",
       "      <th>deaths - 1/22/20</th>\n",
       "      <th>deaths - 1/23/20</th>\n",
       "      <th>deaths - 1/24/20</th>\n",
       "      <th>deaths - 1/25/20</th>\n",
       "      <th>deaths - 1/26/20</th>\n",
       "      <th>deaths - 1/27/20</th>\n",
       "      <th>deaths - 1/28/20</th>\n",
       "      <th>...</th>\n",
       "      <th>deaths - 9/10/20</th>\n",
       "      <th>deaths - 9/11/20</th>\n",
       "      <th>deaths - 9/12/20</th>\n",
       "      <th>deaths - 9/13/20</th>\n",
       "      <th>deaths - 9/14/20</th>\n",
       "      <th>deaths - 9/15/20</th>\n",
       "      <th>deaths - 9/16/20</th>\n",
       "    </tr>\n",
       "    <tr>\n",
       "      <th>County Name</th>\n",
       "      <th></th>\n",
       "      <th></th>\n",
       "      <th></th>\n",
       "      <th></th>\n",
       "      <th></th>\n",
       "      <th></th>\n",
       "      <th></th>\n",
       "      <th></th>\n",
       "      <th></th>\n",
       "      <th></th>\n",
       "      <th></th>\n",
       "      <th></th>\n",
       "      <th></th>\n",
       "      <th></th>\n",
       "      <th></th>\n",
       "    </tr>\n",
       "  </thead>\n",
       "  <tbody>\n",
       "    <tr>\n",
       "      <th>Alachua County</th>\n",
       "      <td>0.0</td>\n",
       "      <td>0.0</td>\n",
       "      <td>0.0</td>\n",
       "      <td>0.0</td>\n",
       "      <td>0.0</td>\n",
       "      <td>0.0</td>\n",
       "      <td>0.0</td>\n",
       "      <td>...</td>\n",
       "      <td>1.0</td>\n",
       "      <td>1.0</td>\n",
       "      <td>0.0</td>\n",
       "      <td>0.0</td>\n",
       "      <td>0.0</td>\n",
       "      <td>1.0</td>\n",
       "      <td>0.0</td>\n",
       "    </tr>\n",
       "    <tr>\n",
       "      <th>Baker County</th>\n",
       "      <td>0.0</td>\n",
       "      <td>0.0</td>\n",
       "      <td>0.0</td>\n",
       "      <td>0.0</td>\n",
       "      <td>0.0</td>\n",
       "      <td>0.0</td>\n",
       "      <td>0.0</td>\n",
       "      <td>...</td>\n",
       "      <td>0.0</td>\n",
       "      <td>3.0</td>\n",
       "      <td>0.0</td>\n",
       "      <td>0.0</td>\n",
       "      <td>0.0</td>\n",
       "      <td>3.0</td>\n",
       "      <td>10.0</td>\n",
       "    </tr>\n",
       "    <tr>\n",
       "      <th>Bay County</th>\n",
       "      <td>0.0</td>\n",
       "      <td>0.0</td>\n",
       "      <td>0.0</td>\n",
       "      <td>0.0</td>\n",
       "      <td>0.0</td>\n",
       "      <td>0.0</td>\n",
       "      <td>0.0</td>\n",
       "      <td>...</td>\n",
       "      <td>0.0</td>\n",
       "      <td>2.0</td>\n",
       "      <td>1.0</td>\n",
       "      <td>0.0</td>\n",
       "      <td>0.0</td>\n",
       "      <td>1.0</td>\n",
       "      <td>0.0</td>\n",
       "    </tr>\n",
       "    <tr>\n",
       "      <th>Bradford County</th>\n",
       "      <td>0.0</td>\n",
       "      <td>0.0</td>\n",
       "      <td>0.0</td>\n",
       "      <td>0.0</td>\n",
       "      <td>0.0</td>\n",
       "      <td>0.0</td>\n",
       "      <td>0.0</td>\n",
       "      <td>...</td>\n",
       "      <td>0.0</td>\n",
       "      <td>4.0</td>\n",
       "      <td>0.0</td>\n",
       "      <td>0.0</td>\n",
       "      <td>0.0</td>\n",
       "      <td>0.0</td>\n",
       "      <td>0.0</td>\n",
       "    </tr>\n",
       "    <tr>\n",
       "      <th>...</th>\n",
       "      <td>...</td>\n",
       "      <td>...</td>\n",
       "      <td>...</td>\n",
       "      <td>...</td>\n",
       "      <td>...</td>\n",
       "      <td>...</td>\n",
       "      <td>...</td>\n",
       "      <td>...</td>\n",
       "      <td>...</td>\n",
       "      <td>...</td>\n",
       "      <td>...</td>\n",
       "      <td>...</td>\n",
       "      <td>...</td>\n",
       "      <td>...</td>\n",
       "      <td>...</td>\n",
       "    </tr>\n",
       "    <tr>\n",
       "      <th>Volusia County</th>\n",
       "      <td>0.0</td>\n",
       "      <td>0.0</td>\n",
       "      <td>0.0</td>\n",
       "      <td>0.0</td>\n",
       "      <td>0.0</td>\n",
       "      <td>0.0</td>\n",
       "      <td>0.0</td>\n",
       "      <td>...</td>\n",
       "      <td>1.0</td>\n",
       "      <td>0.0</td>\n",
       "      <td>0.0</td>\n",
       "      <td>0.0</td>\n",
       "      <td>0.0</td>\n",
       "      <td>1.0</td>\n",
       "      <td>1.0</td>\n",
       "    </tr>\n",
       "    <tr>\n",
       "      <th>Wakulla County</th>\n",
       "      <td>0.0</td>\n",
       "      <td>0.0</td>\n",
       "      <td>0.0</td>\n",
       "      <td>0.0</td>\n",
       "      <td>0.0</td>\n",
       "      <td>0.0</td>\n",
       "      <td>0.0</td>\n",
       "      <td>...</td>\n",
       "      <td>3.0</td>\n",
       "      <td>0.0</td>\n",
       "      <td>0.0</td>\n",
       "      <td>0.0</td>\n",
       "      <td>0.0</td>\n",
       "      <td>0.0</td>\n",
       "      <td>0.0</td>\n",
       "    </tr>\n",
       "    <tr>\n",
       "      <th>Walton County</th>\n",
       "      <td>0.0</td>\n",
       "      <td>0.0</td>\n",
       "      <td>0.0</td>\n",
       "      <td>0.0</td>\n",
       "      <td>0.0</td>\n",
       "      <td>0.0</td>\n",
       "      <td>0.0</td>\n",
       "      <td>...</td>\n",
       "      <td>3.0</td>\n",
       "      <td>0.0</td>\n",
       "      <td>0.0</td>\n",
       "      <td>0.0</td>\n",
       "      <td>0.0</td>\n",
       "      <td>0.0</td>\n",
       "      <td>0.0</td>\n",
       "    </tr>\n",
       "    <tr>\n",
       "      <th>Washington County</th>\n",
       "      <td>0.0</td>\n",
       "      <td>0.0</td>\n",
       "      <td>0.0</td>\n",
       "      <td>0.0</td>\n",
       "      <td>0.0</td>\n",
       "      <td>0.0</td>\n",
       "      <td>0.0</td>\n",
       "      <td>...</td>\n",
       "      <td>4.0</td>\n",
       "      <td>0.0</td>\n",
       "      <td>0.0</td>\n",
       "      <td>0.0</td>\n",
       "      <td>0.0</td>\n",
       "      <td>0.0</td>\n",
       "      <td>0.0</td>\n",
       "    </tr>\n",
       "  </tbody>\n",
       "</table>\n",
       "<p>67 rows × 239 columns</p>\n",
       "</div>"
      ],
      "text/plain": [
       "                   deaths - 1/22/20  deaths - 1/23/20  deaths - 1/24/20  \\\n",
       "County Name                                                               \n",
       "Alachua County                  0.0               0.0               0.0   \n",
       "Baker County                    0.0               0.0               0.0   \n",
       "Bay County                      0.0               0.0               0.0   \n",
       "Bradford County                 0.0               0.0               0.0   \n",
       "...                             ...               ...               ...   \n",
       "Volusia County                  0.0               0.0               0.0   \n",
       "Wakulla County                  0.0               0.0               0.0   \n",
       "Walton County                   0.0               0.0               0.0   \n",
       "Washington County               0.0               0.0               0.0   \n",
       "\n",
       "                   deaths - 1/25/20  deaths - 1/26/20  deaths - 1/27/20  \\\n",
       "County Name                                                               \n",
       "Alachua County                  0.0               0.0               0.0   \n",
       "Baker County                    0.0               0.0               0.0   \n",
       "Bay County                      0.0               0.0               0.0   \n",
       "Bradford County                 0.0               0.0               0.0   \n",
       "...                             ...               ...               ...   \n",
       "Volusia County                  0.0               0.0               0.0   \n",
       "Wakulla County                  0.0               0.0               0.0   \n",
       "Walton County                   0.0               0.0               0.0   \n",
       "Washington County               0.0               0.0               0.0   \n",
       "\n",
       "                   deaths - 1/28/20  ...  deaths - 9/10/20  deaths - 9/11/20  \\\n",
       "County Name                          ...                                       \n",
       "Alachua County                  0.0  ...               1.0               1.0   \n",
       "Baker County                    0.0  ...               0.0               3.0   \n",
       "Bay County                      0.0  ...               0.0               2.0   \n",
       "Bradford County                 0.0  ...               0.0               4.0   \n",
       "...                             ...  ...               ...               ...   \n",
       "Volusia County                  0.0  ...               1.0               0.0   \n",
       "Wakulla County                  0.0  ...               3.0               0.0   \n",
       "Walton County                   0.0  ...               3.0               0.0   \n",
       "Washington County               0.0  ...               4.0               0.0   \n",
       "\n",
       "                   deaths - 9/12/20  deaths - 9/13/20  deaths - 9/14/20  \\\n",
       "County Name                                                               \n",
       "Alachua County                  0.0               0.0               0.0   \n",
       "Baker County                    0.0               0.0               0.0   \n",
       "Bay County                      1.0               0.0               0.0   \n",
       "Bradford County                 0.0               0.0               0.0   \n",
       "...                             ...               ...               ...   \n",
       "Volusia County                  0.0               0.0               0.0   \n",
       "Wakulla County                  0.0               0.0               0.0   \n",
       "Walton County                   0.0               0.0               0.0   \n",
       "Washington County               0.0               0.0               0.0   \n",
       "\n",
       "                   deaths - 9/15/20  deaths - 9/16/20  \n",
       "County Name                                            \n",
       "Alachua County                  1.0               0.0  \n",
       "Baker County                    3.0              10.0  \n",
       "Bay County                      1.0               0.0  \n",
       "Bradford County                 0.0               0.0  \n",
       "...                             ...               ...  \n",
       "Volusia County                  1.0               1.0  \n",
       "Wakulla County                  0.0               0.0  \n",
       "Walton County                   0.0               0.0  \n",
       "Washington County               0.0               0.0  \n",
       "\n",
       "[67 rows x 239 columns]"
      ]
     },
     "execution_count": 36,
     "metadata": {},
     "output_type": "execute_result"
    }
   ],
   "source": [
    "state_daily_deaths_normalized(\"FL\")"
   ]
  }
 ],
 "metadata": {
  "kernelspec": {
   "display_name": "Python 3",
   "language": "python",
   "name": "python3"
  },
  "language_info": {
   "codemirror_mode": {
    "name": "ipython",
    "version": 3
   },
   "file_extension": ".py",
   "mimetype": "text/x-python",
   "name": "python",
   "nbconvert_exporter": "python",
   "pygments_lexer": "ipython3",
   "version": "3.8.5"
  }
 },
 "nbformat": 4,
 "nbformat_minor": 4
}
