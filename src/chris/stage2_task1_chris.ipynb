{
 "cells": [
  {
   "cell_type": "markdown",
   "metadata": {},
   "source": [
    "\n",
    "# COVID-Team-1\n",
    "### Dr. Mohanty\n",
    "### Christopher Brantley\n",
    "### CSC 405 01\n",
    "### Last Updated: 10/27/2020\n",
    "### I, Christopher Brantley, have abided by the UNCG academic policy."
   ]
  },
  {
   "cell_type": "code",
   "execution_count": 1,
   "metadata": {},
   "outputs": [],
   "source": [
    "# Changing directory so we can import covid_data.\n",
    "import os \n",
    "os.chdir(\"../\")"
   ]
  },
  {
   "cell_type": "markdown",
   "metadata": {},
   "source": [
    "## Imports."
   ]
  },
  {
   "cell_type": "code",
   "execution_count": 2,
   "metadata": {},
   "outputs": [],
   "source": [
    "import ipynb\n",
    "from ipynb.fs.full import covid_data as cd\n",
    "import pandas as pd\n",
    "import matplotlib\n",
    "import matplotlib.pyplot as plt\n",
    "import numpy as np"
   ]
  },
  {
   "cell_type": "markdown",
   "metadata": {},
   "source": [
    "## Pandas Display Options."
   ]
  },
  {
   "cell_type": "code",
   "execution_count": 3,
   "metadata": {},
   "outputs": [],
   "source": [
    "# Telling pandas not convert to html tags.\n",
    "pd.set_option('display.html.table_schema', True)\n",
    "# Max columns and rows to display.\n",
    "pd.set_option('display.max_columns', 15)\n",
    "pd.set_option('display.max_rows', 8)"
   ]
  },
  {
   "cell_type": "markdown",
   "metadata": {},
   "source": [
    "### Data Paths"
   ]
  },
  {
   "cell_type": "code",
   "execution_count": 4,
   "metadata": {},
   "outputs": [],
   "source": [
    "# Relative to \"../\"\n",
    "_state_daily_cases = \"./chris/DATA/state_county_daily_cases.csv\"\n",
    "_state_daily_deaths = \"./chris/DATA/state_county_daily_deaths.csv\"\n",
    "\n",
    "_state_weekly_casees = \"./chris/DATA/state_county_weekly_cases.csv\"\n",
    "_state_weekly_deaths = \"./chris/DATA/state_county_weekly_deaths.csv\"\n",
    "\n",
    "_state_county_weekly_stats_cases = \"./chris/DATA/state_county_weekly_stats_cases.csv\"\n",
    "_state_county_weekly_stats_deaths = \"./chris/DATA/state_county_weekly_stats_deaths.csv\""
   ]
  },
  {
   "cell_type": "code",
   "execution_count": null,
   "metadata": {},
   "outputs": [],
   "source": []
  },
  {
   "cell_type": "code",
   "execution_count": null,
   "metadata": {},
   "outputs": [],
   "source": []
  },
  {
   "cell_type": "markdown",
   "metadata": {},
   "source": [
    "# Generate weekly statistics (mean, median, mode) for number of cases and deaths across a specific state.\n"
   ]
  },
  {
   "cell_type": "markdown",
   "metadata": {},
   "source": [
    "### Generating daily new cases for State by county."
   ]
  },
  {
   "cell_type": "code",
   "execution_count": 5,
   "metadata": {},
   "outputs": [],
   "source": [
    "# Gets the daily new cases for any state and exports to csv.\n",
    "def state_daily_cases_to_csv(_state):\n",
    "    df_primary_data = cd.get_covid_primary_data()\n",
    "    # Get all columns that have County or cases.\n",
    "    df_state_cases = df_primary_data[df_primary_data.State == _state].filter(regex = \"County|cases\")\n",
    "    # Setting index as county name.\n",
    "    df_state_cases.set_index(\"County Name\", inplace = True)\n",
    "    # Creating new dataframe with county names as index.\n",
    "    df_daily_cases = pd.DataFrame(index = [df_state_cases.index])\n",
    "    # Getting number of days by getting number of columns that contain cases keyword.\n",
    "    number_days = len(df_state_cases.filter(regex = \"cases\").columns)\n",
    "    #  We iterate from the end so we will utilize negative values here.\n",
    "    for day in range(-1, -number_days, -1):\n",
    "        # Get the column name of day of cases.\n",
    "        column_name = df_state_cases.columns[day]\n",
    "        # Get the current case values and subtract the previous days.\n",
    "        column_value = df_state_cases.iloc[:, day].sub(df_state_cases.iloc[:, day - 1]).values\n",
    "        # Insert into dataframe the day of cases and the number of new cases.\n",
    "        df_daily_cases.insert(0, column_name, column_value)\n",
    "    # Because the first day has no preceding cases we will insert these as is.\n",
    "    first_column_name = df_state_cases.columns[0]\n",
    "    first_column_values = df_state_cases.iloc[:, 0:1].values\n",
    "    df_daily_cases.insert(0, first_column_name, first_column_values)\n",
    "    # We will export the data.\n",
    "    df_daily_cases.to_csv(_state_daily_cases)"
   ]
  },
  {
   "cell_type": "markdown",
   "metadata": {},
   "source": [
    "### Generating daily new deaths for State by county."
   ]
  },
  {
   "cell_type": "code",
   "execution_count": 6,
   "metadata": {},
   "outputs": [],
   "source": [
    "# Gets the daily new deaths and exports to csv.\n",
    "def state_daily_deaths_to_csv(state):\n",
    "    # First get our primary data.\n",
    "    df_primary_data = cd.get_covid_primary_data()\n",
    "    # Find any columns that are containing keywords county/deaths.\n",
    "    df_state_deaths = df_primary_data[df_primary_data.State == state].filter(regex = \"County|deaths\")\n",
    "    # Setting county name as the index.\n",
    "    df_state_deaths.set_index(\"County Name\", inplace = True)\n",
    "    # Create new dataframe to hold daily new deaths, with index of counties.\n",
    "    df_daily_deaths = pd.DataFrame(index = [df_state_deaths.index])\n",
    "    # Get number of recorded days by the number of columns that exist.\n",
    "    number_days = len(df_state_deaths.filter(regex = \"deaths\").columns)\n",
    "    # We start at the end and move to the front of data so we utilize negative values.\n",
    "    for day in range(-1, - number_days, -1):\n",
    "        # Get the current column name for date value.\n",
    "        column_name = df_state_deaths.columns[day]\n",
    "        # Get the current daily death value and subtract the previous daily death value.\n",
    "        # This yields daily new death value.\n",
    "        column_values = df_state_deaths.iloc[:, day].sub(df_state_deaths.iloc[:, day - 1]).values\n",
    "        # Insert the daily death column/value into the dataframe.\n",
    "        df_daily_deaths.insert(0, column_name, column_values)\n",
    "    # The first value does not have a preceding day so we will just copy these values as is.\n",
    "    first_column_name = df_state_deaths.columns[0]\n",
    "    first_column_values = df_state_deaths.iloc[:, 0:1].values\n",
    "    df_daily_deaths.insert(0, first_column_name, first_column_values)\n",
    "    # Export data to csv.\n",
    "    df_daily_deaths.to_csv(_state_daily_deaths)"
   ]
  },
  {
   "cell_type": "markdown",
   "metadata": {},
   "source": [
    "### Accessor methods for State Daily Cases and Deaths."
   ]
  },
  {
   "cell_type": "code",
   "execution_count": 7,
   "metadata": {},
   "outputs": [],
   "source": [
    "# Accessor method for state daily cases by county.\n",
    "def get_state_daily_cases(_state):\n",
    "    \"\"\"Returns dataframe containing state daily cases by county.\"\"\"\n",
    "    state_daily_cases_to_csv(_state)\n",
    "    return pd.read_csv(_state_daily_cases, index_col=[0])\n",
    "    \n",
    "# Accessor method for state daily deaths by county.\n",
    "def get_state_daily_deaths(_state):\n",
    "    \"\"\"Returns dataframe containing state daily deaths by county.\"\"\"\n",
    "    state_daily_deaths_to_csv(_state)\n",
    "    return pd.read_csv(_state_daily_deaths, index_col=[0])"
   ]
  },
  {
   "cell_type": "markdown",
   "metadata": {},
   "source": [
    "### Accessor/Generator for Normalized Daily Cases"
   ]
  },
  {
   "cell_type": "code",
   "execution_count": 8,
   "metadata": {},
   "outputs": [],
   "source": [
    "# Generates daily normalized cases.\n",
    "def state_daily_cases_normalized(_state):\n",
    "    # Get the covid primary data.\n",
    "    df_primary_data = cd.get_covid_primary_data()\n",
    "    # Get all columns that contain keywords County/cases.\n",
    "    df_state_cases = df_primary_data[df_primary_data.State == _state].filter(regex = \"County|cases\")\n",
    "    # Set the county name as index.\n",
    "    df_state_cases.set_index(\"County Name\", inplace = True)\n",
    "    # Create daily cases dataframe with index of counties.\n",
    "    df_daily_cases = pd.DataFrame(index = [df_state_cases.index])\n",
    "    # Get the relevant state population data.\n",
    "    df_state_pop = df_primary_data[df_primary_data.State == _state].filter(regex = \"County|population\")\n",
    "    # Set the county name as index.\n",
    "    df_state_pop.set_index(\"County Name\", inplace = True)\n",
    "    # Get the number of days as the number of columns that contain cases as keyword.\n",
    "    number_days = len(df_state_cases.filter(regex = \"cases\").columns)\n",
    "    # We will work in reverse, end to front of dataframe.\n",
    "    for day in range(-1, -number_days, -1):\n",
    "        # Get the column name for date value.\n",
    "        column_name = df_state_cases.columns[day]\n",
    "        # Get the current day subtracting the pror day.\n",
    "        column_value = df_state_cases.iloc[:, day].sub(df_state_cases.iloc[:, day - 1]).values\n",
    "        # Insert extracted date/value combo to df_daily_cases.\n",
    "        df_daily_cases.insert(0, column_name, column_value)\n",
    "    # We iterate over each county.\n",
    "    for county in df_state_cases.index.values:\n",
    "        # Get the population for current county.\n",
    "        pop = df_state_pop.loc[county,\"population\"]\n",
    "        # Swap the values out for the normalized value.\n",
    "        df_daily_cases.loc[county, :] = \\\n",
    "        df_daily_cases.loc[county, :].apply(lambda x: round(((x / pop) * 100000), 0)).values\n",
    "    # We will not need to subtract the prior day from the first day so we just apply normalization.\n",
    "    first_column_name = df_state_cases.columns[0]\n",
    "    first_column_values = df_state_cases.iloc[:, 0:1].apply(lambda x: round(((x / pop) * 100000), 0)).values\n",
    "    df_daily_cases.insert(0, first_column_name, first_column_values)\n",
    "    \n",
    "    return df_daily_cases"
   ]
  },
  {
   "cell_type": "code",
   "execution_count": 9,
   "metadata": {},
   "outputs": [],
   "source": [
    "# Generates log10 daily cases.\n",
    "def state_daily_cases_log10(_state):\n",
    "    # We get the primary covid data.\n",
    "    df_primary_data = cd.get_covid_primary_data()\n",
    "    # Get specific state and all columns that contain keywords.\n",
    "    df_state_cases = df_primary_data[df_primary_data.State == _state].filter(regex = \"County|cases\")\n",
    "    # Set index as county names.\n",
    "    df_state_cases.set_index(\"County Name\", inplace = True)\n",
    "    # Crate new dataframe to hold daily cases, index is counties.\n",
    "    df_daily_cases = pd.DataFrame(index = [df_state_cases.index])\n",
    "    # Get the relevant county populations.\n",
    "    df_state_pop = df_primary_data[df_primary_data.State == _state].filter(regex = \"County|population\")\n",
    "    # Set county name as index.\n",
    "    df_state_pop.set_index(\"County Name\", inplace = True)\n",
    "    # Get number days as number of columns that contain keyword.\n",
    "    number_days = len(df_state_cases.filter(regex = \"cases\").columns)\n",
    "    # Start at the end and work towards the front of dataframe.\n",
    "    for day in range(-1, -number_days, -1):\n",
    "        # Get the current column name for date info.\n",
    "        column_name = df_state_cases.columns[day]\n",
    "        # Get the current daily value subtracting the prior daily value.\n",
    "        column_value = df_state_cases.iloc[:, day].sub(df_state_cases.iloc[:, day - 1]).values\n",
    "        # Insert the extracted info into our daily dataframe.\n",
    "        df_daily_cases.insert(0, column_name, column_value)\n",
    "    # For each county we...\n",
    "    for county in df_state_cases.index.values:\n",
    "        # Get the county population.\n",
    "        pop = df_state_pop.loc[county,\"population\"]\n",
    "        # We normalize and then take get log10 value.\n",
    "        df_daily_cases.loc[county, :] = \\\n",
    "        np.log10(df_daily_cases.loc[county, :].apply(lambda x: round(((x / pop) * 100000), 0)).values)\n",
    "    # No prior day exists for the first date so we just normalize and calculate log10 value.\n",
    "    first_column_name = df_state_cases.columns[0]\n",
    "    first_column_values = np.log10(df_state_cases.iloc[:, 0:1]\\\n",
    "                                   .apply(lambda x: round(((x / pop) * 100000), 0)).values)\n",
    "    df_daily_cases.insert(0, first_column_name, first_column_values)\n",
    "    \n",
    "    return df_daily_cases"
   ]
  },
  {
   "cell_type": "markdown",
   "metadata": {},
   "source": [
    "### Accessor/Generator for Normalized Daily Deaths"
   ]
  },
  {
   "cell_type": "code",
   "execution_count": 10,
   "metadata": {},
   "outputs": [],
   "source": [
    "# Generates normalized daily deaths.\n",
    "def state_daily_deaths_normalized(_state):\n",
    "    # Get covid primary data.\n",
    "    df_primary_data = cd.get_covid_primary_data()\n",
    "    # Get columns that match keywords County/deaths.\n",
    "    df_state_deaths = df_primary_data[df_primary_data.State == _state].filter(regex = \"County|deaths\")\n",
    "    # Set index as county names.\n",
    "    df_state_deaths.set_index(\"County Name\", inplace = True)\n",
    "    # Create new dataframe with index as county names.\n",
    "    df_daily_deaths = pd.DataFrame(index = [df_state_deaths.index])\n",
    "    # Get state specific population information.\n",
    "    df_state_pop = df_primary_data[df_primary_data.State == _state].filter(regex = \"County|population\")\n",
    "    # Set state pop index as county name.\n",
    "    df_state_pop.set_index(\"County Name\", inplace = True)\n",
    "    # Calculate number days as number of columns that contain death keyword.\n",
    "    number_days = len(df_state_deaths.filter(regex = \"deaths\").columns)\n",
    "    # Work from the back of dataframe towards the front.\n",
    "    for day in range(-1, - number_days, -1):\n",
    "        # Extract the current date value.\n",
    "        column_name = df_state_deaths.columns[day]\n",
    "        # Get the current value and subtract the prior daily value.\n",
    "        column_values = df_state_deaths.iloc[:, day].sub(df_state_deaths.iloc[:, day - 1]).values\n",
    "        # Insert information into the daily dataframe.\n",
    "        df_daily_deaths.insert(0, column_name, column_values)\n",
    "    # For each county.\n",
    "    for county in df_daily_deaths.index.values:\n",
    "        # Get the county's population.\n",
    "        pop = df_state_pop.loc[county,\"population\"]\n",
    "        # Apply normalization to each county by respective population.\n",
    "        df_daily_deaths.loc[county, :] = \\\n",
    "        df_daily_deaths.loc[county, :].apply(lambda x: round(((x / pop) * 100000), 0)).values\n",
    "    # Normalize and insert first row of data, no prior date exists to calculate daily value.\n",
    "    first_column_name = df_state_deaths.columns[0]\n",
    "    first_column_values = df_state_deaths.iloc[:, 0:1].apply(lambda x:(x / pop) * 100000).values\n",
    "    df_daily_deaths.insert(0, first_column_name, first_column_values)\n",
    "    return df_daily_deaths"
   ]
  },
  {
   "cell_type": "code",
   "execution_count": 11,
   "metadata": {},
   "outputs": [],
   "source": [
    "# Gnerates log10 daily deaths.\n",
    "def state_daily_deaths_log10(_state):\n",
    "    # Get primary data.\n",
    "    df_primary_data = cd.get_covid_primary_data()\n",
    "    # Retrieve all columns containing keywords.\n",
    "    df_state_deaths = df_primary_data[df_primary_data.State == _state].filter(regex = \"County|deaths\")\n",
    "    # Set index as county names.\n",
    "    df_state_deaths.set_index(\"County Name\", inplace = True)\n",
    "    # Create new dataframe to hold daily deaths with county names as index.\n",
    "    df_daily_deaths = pd.DataFrame(index = [df_state_deaths.index])\n",
    "    # Get the state specific population information.\n",
    "    df_state_pop = df_primary_data[df_primary_data.State == _state].filter(regex = \"County|population\")\n",
    "    # Set index as county name.\n",
    "    df_state_pop.set_index(\"County Name\", inplace = True)\n",
    "    # Let number days equal the length of the columns that contain deaths as keyword.\n",
    "    number_days = len(df_state_deaths.filter(regex = \"deaths\").columns)\n",
    "    # Work from back to front of database.\n",
    "    for day in range(-1, - number_days, -1):\n",
    "        # Get the current date value.\n",
    "        column_name = df_state_deaths.columns[day]\n",
    "        # Get the daily deaths, current day - prior day.\n",
    "        column_values = df_state_deaths.iloc[:, day].sub(df_state_deaths.iloc[:, day - 1]).values\n",
    "        # Insert extracted information as daily deaths.\n",
    "        df_daily_deaths.insert(0, column_name, column_values)\n",
    "    # For each county in df_daily_deaths.\n",
    "    for county in df_daily_deaths.index.values:\n",
    "        # Get county population.\n",
    "        pop = df_state_pop.loc[county,\"population\"]\n",
    "        # Apply population normalization and apply log10.\n",
    "        df_daily_deaths.loc[county, :] = \\\n",
    "        np.log10(df_daily_deaths.loc[county, :].apply(lambda x: round(((x / pop) * 100000), 0)).values)\n",
    "    # Apply normalization and log10 to first date value.\n",
    "    first_column_name = df_state_deaths.columns[0]\n",
    "    first_column_values = np.log10(df_state_deaths.iloc[:, 0:1].apply(lambda x:(x / pop) * 100000).values)\n",
    "    df_daily_deaths.insert(0, first_column_name, first_column_values)\n",
    "    return df_daily_deaths"
   ]
  },
  {
   "cell_type": "markdown",
   "metadata": {},
   "source": [
    "### Generating Weekly Cases for State by County."
   ]
  },
  {
   "cell_type": "code",
   "execution_count": 12,
   "metadata": {},
   "outputs": [],
   "source": [
    "# Generates weekly new cases.\n",
    "def state_weekly_cases_to_csv(state):\n",
    "    # Get daily cases.\n",
    "    df_county_cases = get_state_daily_cases(state)\n",
    "    # Get shape of dataframe where all columns contain cases as keyword as number days.\n",
    "    number_days = df_county_cases.filter(regex = \"cases\").shape[1]\n",
    "    # We will get the number of days needed to make number_days divisible by 7 to calculate number of weeks.\n",
    "    number_weeks = int(((7 - number_days % 7) + number_days) / 7)\n",
    "\n",
    "    index_county = []\n",
    "    index_weeks = []\n",
    "    # Create each week for each county for multi index purposes.\n",
    "    for county in df_county_cases.index.values:\n",
    "        for week in range(0, number_weeks, 1):\n",
    "            index_county.append(county)\n",
    "            index_weeks.append(\"week \" + str(week + 1))\n",
    "    # Create new dataframe with multi index and columns as cases.\n",
    "    df_county_weekly = pd.DataFrame(index = [index_county, index_weeks],\\\n",
    "                                   columns = [\"cases\"])\n",
    "    # For each county.\n",
    "    for county in df_county_cases.index.values:\n",
    "        # For each increment of seven columns.\n",
    "        for column in range(0, df_county_cases.shape[1], 7):\n",
    "            # Find the weekly sum and assign it to proper index.\n",
    "            df_county_weekly.loc[(county, \"week \" + str((column // 7) + 1))] = \\\n",
    "                df_county_cases.loc[county].iloc[column:column + 7].sum()\n",
    "    df_county_weekly.to_csv(_state_weekly_casees)"
   ]
  },
  {
   "cell_type": "markdown",
   "metadata": {},
   "source": [
    "### Generating Weekly Deaths for State by County."
   ]
  },
  {
   "cell_type": "code",
   "execution_count": 13,
   "metadata": {},
   "outputs": [],
   "source": [
    "# Generates weekly new deaths.\n",
    "def state_weekly_deaths_to_csv(state):\n",
    "    # Get state daily deaths.\n",
    "    df_county_deaths = get_state_daily_deaths(state)\n",
    "    # Get number of columns that contain keyword deaths.\n",
    "    number_days = df_county_deaths.filter(regex = \"deaths\").shape[1]\n",
    "    # Make number_days divisible by seven and calculate number of weeks.\n",
    "    number_weeks = int(((7 - number_days % 7) + number_days) / 7)\n",
    "    \n",
    "    index_county = []\n",
    "    index_weeks = []\n",
    "    # Create multi index of each week for each county.\n",
    "    for county in df_county_deaths.index.values:\n",
    "        for week in range(0, number_weeks, 1):\n",
    "            index_county.append(county)\n",
    "            index_weeks.append(\"week \" + str(week + 1))\n",
    "    # Create dataframe with multi index and columns as deaths.\n",
    "    df_county_weekly = pd.DataFrame(index = [index_county, index_weeks],\n",
    "                                    columns = [\"deaths\"])\n",
    "    # For each county.\n",
    "    for county in df_county_deaths.index.values:\n",
    "        # For each seven daily deaths.\n",
    "        for column in range(0, df_county_deaths.shape[1], 7):\n",
    "            # Calculate the sum and store it in proper index of weekly deaths.\n",
    "            df_county_weekly.loc[(county, \"week \" + str((column // 7) + 1))] = \\\n",
    "                df_county_deaths.loc[county].iloc[column:column + 7].sum()\n",
    "    df_county_weekly.to_csv(_state_weekly_deaths)"
   ]
  },
  {
   "cell_type": "markdown",
   "metadata": {},
   "source": [
    "### Accessor Methods for State Weekly Cases and Deaths"
   ]
  },
  {
   "cell_type": "code",
   "execution_count": 14,
   "metadata": {},
   "outputs": [],
   "source": [
    "# Accessor method for state weekly cases by county.\n",
    "def get_state_weekly_cases(_state):\n",
    "    state_weekly_cases_to_csv(_state)\n",
    "    # index_col is necessary to show that 0, 1 make up a multiindex.\n",
    "    return pd.read_csv(_state_weekly_casees, index_col=[0, 1])\n",
    "    \n",
    "# Accessor method for state weekly deaths by county.\n",
    "def get_state_weekly_deaths(_state):\n",
    "    state_weekly_deaths_to_csv(_state)\n",
    "    # index_col is necessary to show that 0, 1 make up a multiindex.\n",
    "    return pd.read_csv(_state_weekly_deaths, index_col=[0, 1])"
   ]
  },
  {
   "cell_type": "markdown",
   "metadata": {},
   "source": [
    "### Generating Weekly Case Stats for State by county."
   ]
  },
  {
   "cell_type": "code",
   "execution_count": 15,
   "metadata": {},
   "outputs": [],
   "source": [
    "# Generates weekly stats for state cases.\n",
    "def state_weekly_cases_stats_to_csv(_state,):\n",
    "    # Get primary data.\n",
    "    df_primary_data = cd.get_covid_primary_data()\n",
    "    # Get columns that contain county/population for specific state.\n",
    "    df_state_pop = df_primary_data[df_primary_data.State == _state].filter(regex = \"County|population\")\n",
    "    # Set county name as index.\n",
    "    df_state_pop.set_index(\"County Name\", inplace = True)\n",
    "    # Get weekly case values.\n",
    "    df_weekly_normalized = get_state_weekly_cases(_state)\n",
    "\n",
    "    # Normalizing weekly cases to 100,000.\n",
    "    # For each county.\n",
    "    for county in df_weekly_normalized.index.get_level_values(0).unique():\n",
    "        # Get the county's population.\n",
    "        pop = df_state_pop.loc[county, \"population\"]\n",
    "        # Normalize and round so that mode can be calculated.\n",
    "        df_weekly_normalized.loc[county, :] = \\\n",
    "        df_weekly_normalized.loc[county, :].apply(lambda x: round(((x / pop) * 100000), 0)).values\n",
    "    # Create new dataframe with county names as index, columns as statistical measurements.\n",
    "    df_county_normalized = pd.DataFrame(index = [df_weekly_normalized.index.get_level_values(0).unique()],\\\n",
    "                                   columns = [\"mean\", \"median\", \"mode\"])\n",
    "    # For each county.\n",
    "    for county in df_weekly_normalized.index.get_level_values(0).unique():\n",
    "        # Calculate statistical measurements.\n",
    "        df_county_normalized.loc[county, \"mean\"] = df_weekly_normalized.loc[county].mean()[0]\n",
    "        df_county_normalized.loc[county, \"median\"] = df_weekly_normalized.loc[county].median()[0]\n",
    "        df_county_normalized.loc[county, \"mode\"] = df_weekly_normalized.loc[county].mode().values[0,0]\n",
    "    df_county_normalized.to_csv(_state_county_weekly_stats_cases)"
   ]
  },
  {
   "cell_type": "markdown",
   "metadata": {},
   "source": [
    "### Generating Weekly Deaths Stats for State by county."
   ]
  },
  {
   "cell_type": "code",
   "execution_count": 16,
   "metadata": {},
   "outputs": [],
   "source": [
    "# Generates weekly stats for state deaths.\n",
    "def state_weekly_deaths_stats_to_csv(_state,):\n",
    "    # Get covid primary data.\n",
    "    df_primary_data = cd.get_covid_primary_data()\n",
    "    # Get state specific data where columns match County and population keywords.\n",
    "    df_state_pop = df_primary_data[df_primary_data.State == _state].filter(regex = \"County|population\")\n",
    "    # Set index as county names.\n",
    "    df_state_pop.set_index(\"County Name\", inplace = True)\n",
    "    # Get weekly deaths.\n",
    "    df_weekly_normalized = get_state_weekly_deaths(_state)\n",
    "\n",
    "    # Normalizing deaths to 100,000.\n",
    "    # For each county.\n",
    "    for county in df_weekly_normalized.index.get_level_values(0).unique():\n",
    "        # Get county's population.\n",
    "        pop = df_state_pop.loc[county, \"population\"]\n",
    "        # Normalize weekly data.\n",
    "        df_weekly_normalized.loc[county, :] = \\\n",
    "        df_weekly_normalized.loc[county, :].apply(lambda x: round(((x / pop) * 100000), 0)).values\n",
    "    # Create new dataframe with county names as index, columns as statistical measurements.\n",
    "    df_county_normalized = pd.DataFrame(index = [df_weekly_normalized.index.get_level_values(0).unique()],\\\n",
    "                                   columns = [\"mean\", \"median\", \"mode\"])\n",
    "    # For each county.\n",
    "    for county in df_weekly_normalized.index.get_level_values(0).unique():\n",
    "        # Calculate statistical measurements.\n",
    "        df_county_normalized.loc[county, \"mean\"] = round(df_weekly_normalized.loc[county].mean()[0], 0)\n",
    "        df_county_normalized.loc[county, \"median\"] = round(df_weekly_normalized.loc[county].median()[0])\n",
    "        df_county_normalized.loc[county, \"mode\"] = round(df_weekly_normalized.loc[county].mode().values[0,0], 0)\n",
    "    df_county_normalized.to_csv(_state_county_weekly_stats_deaths)"
   ]
  },
  {
   "cell_type": "markdown",
   "metadata": {},
   "source": [
    "### Accessor Methods for State Weekly Cases and Deaths"
   ]
  },
  {
   "cell_type": "code",
   "execution_count": 17,
   "metadata": {},
   "outputs": [],
   "source": [
    "# Accessor method for state weekly cases by county.\n",
    "def get_county_weekly_cases_stats(_state):\n",
    "    state_weekly_cases_stats_to_csv(_state)\n",
    "    return pd.read_csv(_state_county_weekly_stats_cases, index_col=[0])\n",
    "    \n",
    "# Accessor method for state weekly deaths by county.\n",
    "def get_county_weekly_deaths_stats(_state):\n",
    "    state_weekly_deaths_stats_to_csv(_state)\n",
    "    return pd.read_csv(_state_county_weekly_stats_deaths, index_col=[0])"
   ]
  },
  {
   "cell_type": "markdown",
   "metadata": {},
   "source": [
    "### Generator and Accessor for  Weekly Cases Stats for State."
   ]
  },
  {
   "cell_type": "code",
   "execution_count": 18,
   "metadata": {},
   "outputs": [],
   "source": [
    "# Generates county overall statistical measurements for both cases/deaths.\n",
    "def county_weekly_stats_overall(_state):\n",
    "    # Create dataframe to hold states weekly cases/deaths as index, statistical measurements as columns.\n",
    "    df_overall_weekly_county = pd.DataFrame(index = [_state + \" weekly cases\",\n",
    "                                 _state + \" weekly deaths\"],\n",
    "                 columns = [\"mean\", \"median\", \"mode\"])\n",
    "    # For each case/death, weekly case stats, weekly death stats get overall statistical measurement.\n",
    "    for data_type, dataset in zip(tuple(df_overall_weekly_county.index.values),\\\n",
    "                                  (get_county_weekly_cases_stats(_state),\\\n",
    "                                   get_county_weekly_deaths_stats(_state))):\n",
    "        # Calculating overall statistical measurements.\n",
    "        df_overall_weekly_county.loc[data_type, \"mean\"] = dataset[\"mean\"].mean()\n",
    "        df_overall_weekly_county.loc[data_type, \"median\"] = dataset[\"median\"].median()\n",
    "        df_overall_weekly_county.loc[data_type, \"mode\"] = dataset[\"mode\"].mode()[0]\n",
    "\n",
    "    return df_overall_weekly_county"
   ]
  },
  {
   "cell_type": "code",
   "execution_count": null,
   "metadata": {},
   "outputs": [],
   "source": []
  },
  {
   "cell_type": "code",
   "execution_count": null,
   "metadata": {},
   "outputs": [],
   "source": []
  },
  {
   "cell_type": "markdown",
   "metadata": {},
   "source": [
    "# Task 1.1 Generate weekly statistics (mean, median, mode) for number of cases and deaths across a specific state. "
   ]
  },
  {
   "cell_type": "code",
   "execution_count": 19,
   "metadata": {
    "scrolled": true
   },
   "outputs": [
    {
     "data": {
      "application/vnd.dataresource+json": {
       "data": [
        {
         "index": "Alachua County",
         "mean": 72.4,
         "median": 19,
         "mode": 0
        },
        {
         "index": "Baker County",
         "mean": 132.3714285714,
         "median": 14,
         "mode": 0
        },
        {
         "index": "Bay County",
         "mean": 93.7142857143,
         "median": 7,
         "mode": 0
        },
        {
         "index": "Bradford County",
         "mean": 97.6,
         "median": 14,
         "mode": 0
        },
        {
         "index": "Brevard County",
         "mean": 38.4,
         "median": 8,
         "mode": 0
        },
        {
         "index": "Broward County",
         "mean": 109.4571428571,
         "median": 46,
         "mode": 0
        },
        {
         "index": "Calhoun County",
         "mean": 121.8571428571,
         "median": 35,
         "mode": 0
        },
        {
         "index": "Charlotte County",
         "mean": 43.7714285714,
         "median": 24,
         "mode": 0
        }
       ],
       "schema": {
        "fields": [
         {
          "name": "index",
          "type": "string"
         },
         {
          "name": "mean",
          "type": "number"
         },
         {
          "name": "median",
          "type": "number"
         },
         {
          "name": "mode",
          "type": "number"
         }
        ],
        "pandas_version": "0.20.0",
        "primaryKey": [
         "index"
        ]
       }
      },
      "text/html": [
       "<div>\n",
       "<style scoped>\n",
       "    .dataframe tbody tr th:only-of-type {\n",
       "        vertical-align: middle;\n",
       "    }\n",
       "\n",
       "    .dataframe tbody tr th {\n",
       "        vertical-align: top;\n",
       "    }\n",
       "\n",
       "    .dataframe thead th {\n",
       "        text-align: right;\n",
       "    }\n",
       "</style>\n",
       "<table border=\"1\" class=\"dataframe\">\n",
       "  <thead>\n",
       "    <tr style=\"text-align: right;\">\n",
       "      <th></th>\n",
       "      <th>mean</th>\n",
       "      <th>median</th>\n",
       "      <th>mode</th>\n",
       "    </tr>\n",
       "  </thead>\n",
       "  <tbody>\n",
       "    <tr>\n",
       "      <th>Alachua County</th>\n",
       "      <td>72.400000</td>\n",
       "      <td>19.0</td>\n",
       "      <td>0.0</td>\n",
       "    </tr>\n",
       "    <tr>\n",
       "      <th>Baker County</th>\n",
       "      <td>132.371429</td>\n",
       "      <td>14.0</td>\n",
       "      <td>0.0</td>\n",
       "    </tr>\n",
       "    <tr>\n",
       "      <th>Bay County</th>\n",
       "      <td>93.714286</td>\n",
       "      <td>7.0</td>\n",
       "      <td>0.0</td>\n",
       "    </tr>\n",
       "    <tr>\n",
       "      <th>Bradford County</th>\n",
       "      <td>97.600000</td>\n",
       "      <td>14.0</td>\n",
       "      <td>0.0</td>\n",
       "    </tr>\n",
       "    <tr>\n",
       "      <th>...</th>\n",
       "      <td>...</td>\n",
       "      <td>...</td>\n",
       "      <td>...</td>\n",
       "    </tr>\n",
       "    <tr>\n",
       "      <th>Volusia County</th>\n",
       "      <td>53.142857</td>\n",
       "      <td>14.0</td>\n",
       "      <td>0.0</td>\n",
       "    </tr>\n",
       "    <tr>\n",
       "      <th>Wakulla County</th>\n",
       "      <td>88.542857</td>\n",
       "      <td>15.0</td>\n",
       "      <td>0.0</td>\n",
       "    </tr>\n",
       "    <tr>\n",
       "      <th>Walton County</th>\n",
       "      <td>71.571429</td>\n",
       "      <td>20.0</td>\n",
       "      <td>0.0</td>\n",
       "    </tr>\n",
       "    <tr>\n",
       "      <th>Washington County</th>\n",
       "      <td>117.971429</td>\n",
       "      <td>16.0</td>\n",
       "      <td>0.0</td>\n",
       "    </tr>\n",
       "  </tbody>\n",
       "</table>\n",
       "<p>67 rows × 3 columns</p>\n",
       "</div>"
      ],
      "text/plain": [
       "                         mean  median  mode\n",
       "Alachua County      72.400000    19.0   0.0\n",
       "Baker County       132.371429    14.0   0.0\n",
       "Bay County          93.714286     7.0   0.0\n",
       "Bradford County     97.600000    14.0   0.0\n",
       "...                       ...     ...   ...\n",
       "Volusia County      53.142857    14.0   0.0\n",
       "Wakulla County      88.542857    15.0   0.0\n",
       "Walton County       71.571429    20.0   0.0\n",
       "Washington County  117.971429    16.0   0.0\n",
       "\n",
       "[67 rows x 3 columns]"
      ]
     },
     "metadata": {},
     "output_type": "display_data"
    }
   ],
   "source": [
    "display(get_county_weekly_cases_stats(\"FL\"))"
   ]
  },
  {
   "cell_type": "code",
   "execution_count": 20,
   "metadata": {},
   "outputs": [
    {
     "data": {
      "application/vnd.dataresource+json": {
       "data": [
        {
         "index": "Alachua County",
         "mean": 0,
         "median": 0,
         "mode": 0
        },
        {
         "index": "Baker County",
         "mean": 1,
         "median": 0,
         "mode": 0
        },
        {
         "index": "Bay County",
         "mean": 2,
         "median": 0,
         "mode": 0
        },
        {
         "index": "Bradford County",
         "mean": 1,
         "median": 0,
         "mode": 0
        },
        {
         "index": "Brevard County",
         "mean": 1,
         "median": 0,
         "mode": 0
        },
        {
         "index": "Broward County",
         "mean": 2,
         "median": 1,
         "mode": 0
        },
        {
         "index": "Calhoun County",
         "mean": 2,
         "median": 0,
         "mode": 0
        },
        {
         "index": "Charlotte County",
         "mean": 2,
         "median": 2,
         "mode": 0
        }
       ],
       "schema": {
        "fields": [
         {
          "name": "index",
          "type": "string"
         },
         {
          "name": "mean",
          "type": "number"
         },
         {
          "name": "median",
          "type": "integer"
         },
         {
          "name": "mode",
          "type": "number"
         }
        ],
        "pandas_version": "0.20.0",
        "primaryKey": [
         "index"
        ]
       }
      },
      "text/html": [
       "<div>\n",
       "<style scoped>\n",
       "    .dataframe tbody tr th:only-of-type {\n",
       "        vertical-align: middle;\n",
       "    }\n",
       "\n",
       "    .dataframe tbody tr th {\n",
       "        vertical-align: top;\n",
       "    }\n",
       "\n",
       "    .dataframe thead th {\n",
       "        text-align: right;\n",
       "    }\n",
       "</style>\n",
       "<table border=\"1\" class=\"dataframe\">\n",
       "  <thead>\n",
       "    <tr style=\"text-align: right;\">\n",
       "      <th></th>\n",
       "      <th>mean</th>\n",
       "      <th>median</th>\n",
       "      <th>mode</th>\n",
       "    </tr>\n",
       "  </thead>\n",
       "  <tbody>\n",
       "    <tr>\n",
       "      <th>Alachua County</th>\n",
       "      <td>0.0</td>\n",
       "      <td>0</td>\n",
       "      <td>0.0</td>\n",
       "    </tr>\n",
       "    <tr>\n",
       "      <th>Baker County</th>\n",
       "      <td>1.0</td>\n",
       "      <td>0</td>\n",
       "      <td>0.0</td>\n",
       "    </tr>\n",
       "    <tr>\n",
       "      <th>Bay County</th>\n",
       "      <td>2.0</td>\n",
       "      <td>0</td>\n",
       "      <td>0.0</td>\n",
       "    </tr>\n",
       "    <tr>\n",
       "      <th>Bradford County</th>\n",
       "      <td>1.0</td>\n",
       "      <td>0</td>\n",
       "      <td>0.0</td>\n",
       "    </tr>\n",
       "    <tr>\n",
       "      <th>...</th>\n",
       "      <td>...</td>\n",
       "      <td>...</td>\n",
       "      <td>...</td>\n",
       "    </tr>\n",
       "    <tr>\n",
       "      <th>Volusia County</th>\n",
       "      <td>1.0</td>\n",
       "      <td>1</td>\n",
       "      <td>0.0</td>\n",
       "    </tr>\n",
       "    <tr>\n",
       "      <th>Wakulla County</th>\n",
       "      <td>1.0</td>\n",
       "      <td>0</td>\n",
       "      <td>0.0</td>\n",
       "    </tr>\n",
       "    <tr>\n",
       "      <th>Walton County</th>\n",
       "      <td>1.0</td>\n",
       "      <td>0</td>\n",
       "      <td>0.0</td>\n",
       "    </tr>\n",
       "    <tr>\n",
       "      <th>Washington County</th>\n",
       "      <td>2.0</td>\n",
       "      <td>0</td>\n",
       "      <td>0.0</td>\n",
       "    </tr>\n",
       "  </tbody>\n",
       "</table>\n",
       "<p>67 rows × 3 columns</p>\n",
       "</div>"
      ],
      "text/plain": [
       "                   mean  median  mode\n",
       "Alachua County      0.0       0   0.0\n",
       "Baker County        1.0       0   0.0\n",
       "Bay County          2.0       0   0.0\n",
       "Bradford County     1.0       0   0.0\n",
       "...                 ...     ...   ...\n",
       "Volusia County      1.0       1   0.0\n",
       "Wakulla County      1.0       0   0.0\n",
       "Walton County       1.0       0   0.0\n",
       "Washington County   2.0       0   0.0\n",
       "\n",
       "[67 rows x 3 columns]"
      ]
     },
     "metadata": {},
     "output_type": "display_data"
    }
   ],
   "source": [
    "display(get_county_weekly_deaths_stats(\"FL\"))"
   ]
  },
  {
   "cell_type": "code",
   "execution_count": 21,
   "metadata": {},
   "outputs": [
    {
     "data": {
      "application/vnd.dataresource+json": {
       "data": [
        {
         "index": "FL weekly cases",
         "mean": 98.7748400853,
         "median": 18,
         "mode": 0
        },
        {
         "index": "FL weekly deaths",
         "mean": 1.6567164179,
         "median": 0,
         "mode": 0
        }
       ],
       "schema": {
        "fields": [
         {
          "name": "index",
          "type": "string"
         },
         {
          "name": "mean",
          "type": "string"
         },
         {
          "name": "median",
          "type": "string"
         },
         {
          "name": "mode",
          "type": "string"
         }
        ],
        "pandas_version": "0.20.0",
        "primaryKey": [
         "index"
        ]
       }
      },
      "text/html": [
       "<div>\n",
       "<style scoped>\n",
       "    .dataframe tbody tr th:only-of-type {\n",
       "        vertical-align: middle;\n",
       "    }\n",
       "\n",
       "    .dataframe tbody tr th {\n",
       "        vertical-align: top;\n",
       "    }\n",
       "\n",
       "    .dataframe thead th {\n",
       "        text-align: right;\n",
       "    }\n",
       "</style>\n",
       "<table border=\"1\" class=\"dataframe\">\n",
       "  <thead>\n",
       "    <tr style=\"text-align: right;\">\n",
       "      <th></th>\n",
       "      <th>mean</th>\n",
       "      <th>median</th>\n",
       "      <th>mode</th>\n",
       "    </tr>\n",
       "  </thead>\n",
       "  <tbody>\n",
       "    <tr>\n",
       "      <th>FL weekly cases</th>\n",
       "      <td>98.7748</td>\n",
       "      <td>18</td>\n",
       "      <td>0</td>\n",
       "    </tr>\n",
       "    <tr>\n",
       "      <th>FL weekly deaths</th>\n",
       "      <td>1.65672</td>\n",
       "      <td>0</td>\n",
       "      <td>0</td>\n",
       "    </tr>\n",
       "  </tbody>\n",
       "</table>\n",
       "</div>"
      ],
      "text/plain": [
       "                     mean median mode\n",
       "FL weekly cases   98.7748     18    0\n",
       "FL weekly deaths  1.65672      0    0"
      ]
     },
     "metadata": {},
     "output_type": "display_data"
    }
   ],
   "source": [
    "display(county_weekly_stats_overall(\"FL\"))"
   ]
  },
  {
   "cell_type": "code",
   "execution_count": null,
   "metadata": {},
   "outputs": [],
   "source": []
  },
  {
   "cell_type": "code",
   "execution_count": null,
   "metadata": {},
   "outputs": [],
   "source": []
  },
  {
   "cell_type": "markdown",
   "metadata": {},
   "source": [
    "# Task 1.2 Compare the data against other states."
   ]
  },
  {
   "cell_type": "markdown",
   "metadata": {},
   "source": [
    "#### Generating Random States"
   ]
  },
  {
   "cell_type": "code",
   "execution_count": 22,
   "metadata": {},
   "outputs": [
    {
     "data": {
      "text/plain": [
       "['MO', 'NE', 'NE', 'OK', 'ND']"
      ]
     },
     "metadata": {},
     "output_type": "display_data"
    }
   ],
   "source": [
    "# Get primary data.\n",
    "df_primary_data = cd.get_covid_primary_data()\n",
    "# Get all data, excluding FL.\n",
    "df_primary_data = df_primary_data[df_primary_data.State != \"FL\"]\n",
    "# Generate five random states.\n",
    "random_states = np.random.choice(df_primary_data.State.values, 5)\n",
    "display(random_states.tolist())\n",
    "# Hard coding states for consistency.\n",
    "random_states = ['ND', 'IL', 'NM', 'ID', 'TX']"
   ]
  },
  {
   "cell_type": "markdown",
   "metadata": {},
   "source": [
    "#### Generating Weekly Data for Each State"
   ]
  },
  {
   "cell_type": "code",
   "execution_count": 23,
   "metadata": {},
   "outputs": [
    {
     "data": {
      "application/vnd.dataresource+json": {
       "data": [
        {
         "index": "ND",
         "mean": 42.9832884097,
         "median": 0,
         "mode": 0
        },
        {
         "index": "IL",
         "mean": 39.0669467787,
         "median": 9,
         "mode": 0
        },
        {
         "index": "NM",
         "mean": 29.3783549784,
         "median": 6,
         "mode": 0
        },
        {
         "index": "ID",
         "mean": 42.7415584416,
         "median": 4.5,
         "mode": 0
        },
        {
         "index": "TX",
         "mean": 55.4896512936,
         "median": 8,
         "mode": 0
        },
        {
         "index": "FL",
         "mean": 98.7748400853,
         "median": 18,
         "mode": 0
        }
       ],
       "schema": {
        "fields": [
         {
          "name": "index",
          "type": "string"
         },
         {
          "name": "mean",
          "type": "string"
         },
         {
          "name": "median",
          "type": "string"
         },
         {
          "name": "mode",
          "type": "string"
         }
        ],
        "pandas_version": "0.20.0",
        "primaryKey": [
         "index"
        ]
       }
      },
      "text/html": [
       "<div>\n",
       "<style scoped>\n",
       "    .dataframe tbody tr th:only-of-type {\n",
       "        vertical-align: middle;\n",
       "    }\n",
       "\n",
       "    .dataframe tbody tr th {\n",
       "        vertical-align: top;\n",
       "    }\n",
       "\n",
       "    .dataframe thead th {\n",
       "        text-align: right;\n",
       "    }\n",
       "</style>\n",
       "<table border=\"1\" class=\"dataframe\">\n",
       "  <thead>\n",
       "    <tr style=\"text-align: right;\">\n",
       "      <th></th>\n",
       "      <th>mean</th>\n",
       "      <th>median</th>\n",
       "      <th>mode</th>\n",
       "    </tr>\n",
       "  </thead>\n",
       "  <tbody>\n",
       "    <tr>\n",
       "      <th>ND</th>\n",
       "      <td>42.9833</td>\n",
       "      <td>0</td>\n",
       "      <td>0</td>\n",
       "    </tr>\n",
       "    <tr>\n",
       "      <th>IL</th>\n",
       "      <td>39.0669</td>\n",
       "      <td>9</td>\n",
       "      <td>0</td>\n",
       "    </tr>\n",
       "    <tr>\n",
       "      <th>NM</th>\n",
       "      <td>29.3784</td>\n",
       "      <td>6</td>\n",
       "      <td>0</td>\n",
       "    </tr>\n",
       "    <tr>\n",
       "      <th>ID</th>\n",
       "      <td>42.7416</td>\n",
       "      <td>4.5</td>\n",
       "      <td>0</td>\n",
       "    </tr>\n",
       "    <tr>\n",
       "      <th>TX</th>\n",
       "      <td>55.4897</td>\n",
       "      <td>8</td>\n",
       "      <td>0</td>\n",
       "    </tr>\n",
       "    <tr>\n",
       "      <th>FL</th>\n",
       "      <td>98.7748</td>\n",
       "      <td>18</td>\n",
       "      <td>0</td>\n",
       "    </tr>\n",
       "  </tbody>\n",
       "</table>\n",
       "</div>"
      ],
      "text/plain": [
       "       mean median mode\n",
       "ND  42.9833      0    0\n",
       "IL  39.0669      9    0\n",
       "NM  29.3784      6    0\n",
       "ID  42.7416    4.5    0\n",
       "TX  55.4897      8    0\n",
       "FL  98.7748     18    0"
      ]
     },
     "metadata": {},
     "output_type": "display_data"
    }
   ],
   "source": [
    "# Creating list of all states for looping possibilities.\n",
    "all_states = random_states\n",
    "all_states.append(\"FL\")\n",
    "# Create dataframe where index is each state, and columns are statistical measurements.\n",
    "df_state_data = pd.DataFrame(index =  all_states,\n",
    "                            columns = [\"mean\", \"median\", \"mode\"])\n",
    "# For each state.\n",
    "for state in all_states:\n",
    "    # Calculate statistical measurement.\n",
    "    df_weekly_stats = county_weekly_stats_overall(state)\n",
    "    df_state_data.loc[state, \"mean\"] = df_weekly_stats.iloc[0][\"mean\"]\n",
    "    df_state_data.loc[state, \"median\"] = df_weekly_stats.iloc[0][\"median\"]\n",
    "    df_state_data.loc[state, \"mode\"] = df_weekly_stats.iloc[0][\"mode\"]\n",
    "display(df_state_data)"
   ]
  },
  {
   "cell_type": "markdown",
   "metadata": {},
   "source": [
    "# Comparing Cases by County by Week per State - Normalized to Cases per 100,000"
   ]
  },
  {
   "cell_type": "code",
   "execution_count": 24,
   "metadata": {},
   "outputs": [
    {
     "data": {
      "image/png": "[encoded data removed]",
      "text/plain": [
       "<Figure size 1440x720 with 3 Axes>"
      ]
     },
     "metadata": {
      "needs_background": "light"
     },
     "output_type": "display_data"
    }
   ],
   "source": [
    "# Calcualte overall statistical measurements.\n",
    "ov_mean = df_state_data.loc[:, \"mean\"].mean()\n",
    "ov_median = df_state_data.loc[:, \"median\"].median()\n",
    "ov_mode = df_state_data.loc[:, \"mode\"].mode()[0]\n",
    "# Create subplots containing three rows.\n",
    "figure, axis = plt.subplots(3, gridspec_kw={'hspace': .5}, figsize = (20,10))\n",
    "# For each row, statistical measurements, and statistical measurement values.\n",
    "for row, stat_type, ov_measure in zip(range(0,3,1), (\"mean\", \"median\", \"mode\"), (ov_mean, ov_median, ov_mode)):\n",
    "    # Sort values by statistical measurement.\n",
    "    df_state_data = df_state_data.sort_values(by = stat_type, ascending = True)\n",
    "    # Get the stat. values.\n",
    "    y_values = df_state_data.loc[:, stat_type]\n",
    "    # Plot bar graph of data.\n",
    "    bars = axis[row].bar(df_state_data.index.tolist(), y_values, color =\\\n",
    "                        [\"#4E2C3C\" if data >= ov_measure else \"#9177B5\" for data in y_values])\n",
    "    # Plot the overall stat measurement.\n",
    "    axis[row].plot(df_state_data.index.values, np.full(len(df_state_data.index.values), fill_value = ov_measure),\\\n",
    "                  linewidth = 3, color = \"#FC8C74\")\n",
    "    # Setting Graph Properties.\n",
    "    axis[row].title.set_text(stat_type + \" of Cases\")\n",
    "    axis[row].set_ylabel(\"Cases per 100,000\")\n",
    "    axis[row].tick_params(axis = \"x\", rotation = 45)\n",
    "plt.show()"
   ]
  },
  {
   "cell_type": "markdown",
   "metadata": {},
   "source": [
    "#### When comparing the data we can see that our average is highly affected by outliers. Florida has a much higher average than the other states that we have selected."
   ]
  },
  {
   "cell_type": "markdown",
   "metadata": {},
   "source": [
    "#### When looking at our median we see that we have a much more neutral central measurement. We have clear indication here that Florida is indeed the top performer for cases."
   ]
  },
  {
   "cell_type": "markdown",
   "metadata": {},
   "source": [
    "#### When looking at our mode we are missing values, this is most likely due to the method of measurement requiring the most repeated element. 0 is our most repeated element here due to the initial data elements showing no cases. We may want to consider methods to bring mode to life by trimming the data."
   ]
  },
  {
   "cell_type": "code",
   "execution_count": null,
   "metadata": {},
   "outputs": [],
   "source": []
  },
  {
   "cell_type": "code",
   "execution_count": null,
   "metadata": {},
   "outputs": [],
   "source": []
  },
  {
   "cell_type": "markdown",
   "metadata": {},
   "source": [
    "#### Generating Weekly Data for Each State"
   ]
  },
  {
   "cell_type": "code",
   "execution_count": 25,
   "metadata": {},
   "outputs": [
    {
     "data": {
      "application/vnd.dataresource+json": {
       "data": [
        {
         "index": "ND",
         "mean": 0.3773584906,
         "median": 0,
         "mode": 0
        },
        {
         "index": "IL",
         "mean": 0.7352941176,
         "median": 0,
         "mode": 0
        },
        {
         "index": "NM",
         "mean": 0.8484848485,
         "median": 0,
         "mode": 0
        },
        {
         "index": "ID",
         "mean": 0.4545454545,
         "median": 0,
         "mode": 0
        },
        {
         "index": "TX",
         "mean": 1.562992126,
         "median": 0,
         "mode": 0
        },
        {
         "index": "FL",
         "mean": 1.6567164179,
         "median": 0,
         "mode": 0
        },
        {
         "index": "FL",
         "mean": 1.6567164179,
         "median": 0,
         "mode": 0
        }
       ],
       "schema": {
        "fields": [
         {
          "name": "index",
          "type": "string"
         },
         {
          "name": "mean",
          "type": "string"
         },
         {
          "name": "median",
          "type": "string"
         },
         {
          "name": "mode",
          "type": "string"
         }
        ],
        "pandas_version": "0.20.0"
       }
      },
      "text/html": [
       "<div>\n",
       "<style scoped>\n",
       "    .dataframe tbody tr th:only-of-type {\n",
       "        vertical-align: middle;\n",
       "    }\n",
       "\n",
       "    .dataframe tbody tr th {\n",
       "        vertical-align: top;\n",
       "    }\n",
       "\n",
       "    .dataframe thead th {\n",
       "        text-align: right;\n",
       "    }\n",
       "</style>\n",
       "<table border=\"1\" class=\"dataframe\">\n",
       "  <thead>\n",
       "    <tr style=\"text-align: right;\">\n",
       "      <th></th>\n",
       "      <th>mean</th>\n",
       "      <th>median</th>\n",
       "      <th>mode</th>\n",
       "    </tr>\n",
       "  </thead>\n",
       "  <tbody>\n",
       "    <tr>\n",
       "      <th>ND</th>\n",
       "      <td>0.377358</td>\n",
       "      <td>0</td>\n",
       "      <td>0</td>\n",
       "    </tr>\n",
       "    <tr>\n",
       "      <th>IL</th>\n",
       "      <td>0.735294</td>\n",
       "      <td>0</td>\n",
       "      <td>0</td>\n",
       "    </tr>\n",
       "    <tr>\n",
       "      <th>NM</th>\n",
       "      <td>0.848485</td>\n",
       "      <td>0</td>\n",
       "      <td>0</td>\n",
       "    </tr>\n",
       "    <tr>\n",
       "      <th>ID</th>\n",
       "      <td>0.454545</td>\n",
       "      <td>0</td>\n",
       "      <td>0</td>\n",
       "    </tr>\n",
       "    <tr>\n",
       "      <th>TX</th>\n",
       "      <td>1.56299</td>\n",
       "      <td>0</td>\n",
       "      <td>0</td>\n",
       "    </tr>\n",
       "    <tr>\n",
       "      <th>FL</th>\n",
       "      <td>1.65672</td>\n",
       "      <td>0</td>\n",
       "      <td>0</td>\n",
       "    </tr>\n",
       "    <tr>\n",
       "      <th>FL</th>\n",
       "      <td>1.65672</td>\n",
       "      <td>0</td>\n",
       "      <td>0</td>\n",
       "    </tr>\n",
       "  </tbody>\n",
       "</table>\n",
       "</div>"
      ],
      "text/plain": [
       "        mean median mode\n",
       "ND  0.377358      0    0\n",
       "IL  0.735294      0    0\n",
       "NM  0.848485      0    0\n",
       "ID  0.454545      0    0\n",
       "TX   1.56299      0    0\n",
       "FL   1.65672      0    0\n",
       "FL   1.65672      0    0"
      ]
     },
     "metadata": {},
     "output_type": "display_data"
    }
   ],
   "source": [
    "# Getting random states.\n",
    "all_states = random_states\n",
    "all_states.append(\"FL\")\n",
    "# Creating dataframe where index is the states, columns are statistical measurements.\n",
    "df_state_data = pd.DataFrame(index =  all_states,\n",
    "                            columns = [\"mean\", \"median\", \"mode\"])\n",
    "# For each state.\n",
    "for state in all_states:\n",
    "    # Calculate statistical measurements.\n",
    "    df_weekly_stats = county_weekly_stats_overall(state)\n",
    "    df_state_data.loc[state, \"mean\"] = df_weekly_stats.iloc[1][\"mean\"]\n",
    "    df_state_data.loc[state, \"median\"] = df_weekly_stats.iloc[1][\"median\"]\n",
    "    df_state_data.loc[state, \"mode\"] = df_weekly_stats.iloc[1][\"mode\"]\n",
    "display(df_state_data)"
   ]
  },
  {
   "cell_type": "markdown",
   "metadata": {},
   "source": [
    "# Comparing Deaths by County by Week per State - Normalized to Deaths per 100,000"
   ]
  },
  {
   "cell_type": "code",
   "execution_count": 26,
   "metadata": {},
   "outputs": [
    {
     "data": {
      "image/png": "[encoded data removed]",
      "text/plain": [
       "<Figure size 1440x720 with 3 Axes>"
      ]
     },
     "metadata": {
      "needs_background": "light"
     },
     "output_type": "display_data"
    }
   ],
   "source": [
    "# Calculate the overall statistical measurements.\n",
    "ov_mean = df_state_data.loc[:, \"mean\"].mean()\n",
    "ov_median = df_state_data.loc[:, \"median\"].median()\n",
    "ov_mode = df_state_data.loc[:, \"mode\"].mode()[0]\n",
    "# Create subplot consisting of three rows.\n",
    "figure, axis = plt.subplots(3, gridspec_kw={'hspace': .5}, figsize = (20,10))\n",
    "# For each row, measurements, values.\n",
    "for row, stat_type, ov_measure in zip(range(0,3,1), (\"mean\", \"median\", \"mode\"), (ov_mean, ov_median, ov_mode)):\n",
    "    # Sort measurements by ascending order.\n",
    "    df_state_data = df_state_data.sort_values(by = stat_type, ascending = True)\n",
    "    # Get the values of measurement.\n",
    "    y_values = df_state_data.loc[:, stat_type]\n",
    "    # Plot the bar graph.\n",
    "    bars = axis[row].bar(df_state_data.index.tolist(), y_values, color =\\\n",
    "                        [\"#4E2C3C\" if data >= ov_measure else \"#9177B5\" for data in y_values])\n",
    "    # Plot the overall statistical measurement.\n",
    "    axis[row].plot(df_state_data.index.values, np.full(len(df_state_data.index.values), fill_value = ov_measure),\\\n",
    "                  linewidth = 3, color = \"#FC8C74\")\n",
    "    # Setting Graph Properties\n",
    "    axis[row].title.set_text(stat_type + \" of Deaths\")\n",
    "    axis[row].set_ylabel(\"Cases per 100,000\")\n",
    "    axis[row].tick_params(axis = \"x\", rotation = 45)\n",
    "plt.show()"
   ]
  },
  {
   "cell_type": "markdown",
   "metadata": {},
   "source": [
    "#### For the average of deaths we can see that Texas and Florida are our top performers and that the graph is skewed left. Because of this we would assume the measure of center to be lower than what is shown (1)."
   ]
  },
  {
   "cell_type": "markdown",
   "metadata": {},
   "source": [
    "#### For the median of deaths we can see little data to compare. This is a result of many 0 death days. There is no reason to increase normalization here, 0 is 0."
   ]
  },
  {
   "cell_type": "markdown",
   "metadata": {},
   "source": [
    "#### For the mode of deaths we see 0 for all entries. This is also indicative of many 0 death days."
   ]
  },
  {
   "cell_type": "code",
   "execution_count": null,
   "metadata": {},
   "outputs": [],
   "source": []
  },
  {
   "cell_type": "code",
   "execution_count": null,
   "metadata": {},
   "outputs": [],
   "source": []
  },
  {
   "cell_type": "markdown",
   "metadata": {},
   "source": [
    "# Task 1.3 Identify counties with high case and death rates. - (For Florida)"
   ]
  },
  {
   "cell_type": "code",
   "execution_count": 27,
   "metadata": {},
   "outputs": [],
   "source": [
    "# Get weekly stats.\n",
    "df_weekly_stats = get_county_weekly_cases_stats(\"FL\")"
   ]
  },
  {
   "cell_type": "code",
   "execution_count": 28,
   "metadata": {
    "scrolled": true
   },
   "outputs": [
    {
     "data": {
      "image/png": "[encoded data removed]",
      "text/plain": [
       "<Figure size 432x288 with 2 Axes>"
      ]
     },
     "metadata": {
      "needs_background": "light"
     },
     "output_type": "display_data"
    }
   ],
   "source": [
    "# Calculate threshold for top 15% of data by highest median values.\n",
    "top_25_median = df_weekly_stats[\"median\"].quantile(.85)\n",
    "# Get top 15% of data by highest median values.\n",
    "df_25_median = df_weekly_stats[df_weekly_stats[\"median\"] >= top_25_median].sort_values(by = \"median\")\n",
    "# Create subplots.\n",
    "figure, h_map = plt.subplots(1,1)\n",
    "# Create heat map.\n",
    "cbar = h_map.pcolor(df_25_median.iloc[:,0:2], cmap='YlGnBu_r')\n",
    "# Create color bar.\n",
    "figure.colorbar(cbar, ax = h_map)\n",
    "# Set tick values.\n",
    "x_axis = plt.yticks(np.arange(.5, len(df_25_median.index), 1), df_25_median.index)\n",
    "y_axis = plt.xticks(np.arange(.5, len(df_25_median.iloc[:,0:2].columns), 1), df_25_median.iloc[:,0:2].columns)"
   ]
  },
  {
   "cell_type": "markdown",
   "metadata": {},
   "source": [
    "#### From finding the top median values we are given a good outlook on which states have the highest rate of cases by excluding outliers. We can see that Hamilton, Hendry, Hardee, and Miami-Dade are the top four performers for covid cases."
   ]
  },
  {
   "cell_type": "code",
   "execution_count": 29,
   "metadata": {},
   "outputs": [],
   "source": [
    "df_weekly_stats = get_county_weekly_deaths_stats(\"FL\")"
   ]
  },
  {
   "cell_type": "code",
   "execution_count": 30,
   "metadata": {
    "scrolled": true
   },
   "outputs": [
    {
     "data": {
      "image/png": "[encoded data removed]",
      "text/plain": [
       "<Figure size 432x288 with 2 Axes>"
      ]
     },
     "metadata": {
      "needs_background": "light"
     },
     "output_type": "display_data"
    }
   ],
   "source": [
    "# Get threshold value for top 5% data that has highest median values.\n",
    "top_25_median = df_weekly_stats[\"median\"].quantile(.95)\n",
    "# Get top 5% data that has highest median.\n",
    "df_25_median = df_weekly_stats[df_weekly_stats[\"median\"] >= top_25_median].sort_values(by = \"median\")\n",
    "# Create subplot.\n",
    "figure, h_map = plt.subplots(1,1)\n",
    "# Plot heatmap.\n",
    "cbar = h_map.pcolor(df_25_median.iloc[:,0:2], cmap='YlGnBu_r')\n",
    "# Plot color bar.\n",
    "figure.colorbar(cbar, ax = h_map)\n",
    "# Set tick values.\n",
    "x_axis = plt.yticks(np.arange(.5, len(df_25_median.index), 1), df_25_median.index)\n",
    "y_axis = plt.xticks(np.arange(.5, len(df_25_median.iloc[:,0:2].columns), 1), df_25_median.iloc[:,0:2].columns)"
   ]
  },
  {
   "cell_type": "markdown",
   "metadata": {},
   "source": [
    "#### From finding the top median values we can see that Palm Beach, Miami-Dade, Hendry, Collier, and Charlotte are top performers for covid deaths."
   ]
  },
  {
   "cell_type": "markdown",
   "metadata": {},
   "source": [
    "# Task 1.4 Plot daily trends (cases and deaths, new cases) of state and top 5 infected counties. Utilize aggregrate, normalized by population, and log normalized values. - (Highest Performer of States)"
   ]
  },
  {
   "cell_type": "markdown",
   "metadata": {},
   "source": [
    "# Cases"
   ]
  },
  {
   "cell_type": "code",
   "execution_count": 31,
   "metadata": {},
   "outputs": [
    {
     "data": {
      "application/vnd.dataresource+json": {
       "data": [
        {
         "index": "cases - 1/22/20",
         "values": 0
        },
        {
         "index": "cases - 1/23/20",
         "values": 0
        },
        {
         "index": "cases - 1/24/20",
         "values": 0
        },
        {
         "index": "cases - 1/25/20",
         "values": 0
        },
        {
         "index": "cases - 1/26/20",
         "values": 0
        },
        {
         "index": "cases - 1/27/20",
         "values": 0
        },
        {
         "index": "cases - 1/28/20",
         "values": 0
        },
        {
         "index": "cases - 1/29/20",
         "values": 0
        }
       ],
       "schema": {
        "fields": [
         {
          "name": "index",
          "type": "string"
         },
         {
          "name": "values",
          "type": "number"
         }
        ],
        "pandas_version": "0.20.0",
        "primaryKey": [
         "index"
        ]
       }
      },
      "text/plain": [
       "cases - 1/22/20       0.0\n",
       "cases - 1/23/20       0.0\n",
       "cases - 1/24/20       0.0\n",
       "cases - 1/25/20       0.0\n",
       "                    ...  \n",
       "cases - 9/13/20    1154.0\n",
       "cases - 9/14/20     733.0\n",
       "cases - 9/15/20    1357.0\n",
       "cases - 9/16/20    1059.0\n",
       "Length: 239, dtype: float64"
      ]
     },
     "metadata": {},
     "output_type": "display_data"
    }
   ],
   "source": [
    "df_fl_daily = state_daily_cases_normalized(\"FL\")\n",
    "df_fl_agg = df_fl_daily.sum(axis = 0)\n",
    "display(df_fl_agg)"
   ]
  },
  {
   "cell_type": "markdown",
   "metadata": {},
   "source": [
    "### Statewide Daily Cases normalized by population - cases per 100,000"
   ]
  },
  {
   "cell_type": "code",
   "execution_count": 32,
   "metadata": {},
   "outputs": [
    {
     "data": {
      "image/png": "[encoded data removed]",
      "text/plain": [
       "<Figure size 720x360 with 1 Axes>"
      ]
     },
     "metadata": {
      "needs_background": "light"
     },
     "output_type": "display_data"
    }
   ],
   "source": [
    "# Create subplot.\n",
    "igure, axis = plt.subplots(1, figsize = (10,5))\n",
    "# Plot daily normalized cases.\n",
    "axis.plot(df_fl_agg, label = \"Florida\")\n",
    "# Set xtick values.\n",
    "t = plt.xticks([col for col in df_fl_daily.columns[0:-1:30]])\n",
    "# Set graph settings.\n",
    "axis.tick_params(axis = \"x\", rotation = 45)\n",
    "axis.legend(loc = \"upper left\")\n",
    "axis.title.set_text(\"Daily Normalized to cases per 100,000\")\n",
    "plt.show()"
   ]
  },
  {
   "cell_type": "markdown",
   "metadata": {},
   "source": [
    "### Counties Daily Cases Normalized by Population - cases per 100,000"
   ]
  },
  {
   "cell_type": "code",
   "execution_count": 33,
   "metadata": {},
   "outputs": [
    {
     "data": {
      "image/png": "[encoded data removed]",
      "text/plain": [
       "<Figure size 720x360 with 1 Axes>"
      ]
     },
     "metadata": {
      "needs_background": "light"
     },
     "output_type": "display_data"
    }
   ],
   "source": [
    "# Create subplot.\n",
    "figure, axis = plt.subplots(1, figsize = (10,5))\n",
    "# For each county.\n",
    "for county in df_25_median[-3:].index.values:\n",
    "    # Plot daily normalized cases.\n",
    "    t = axis.scatter(df_fl_daily.loc[county].iloc[0].index,\\\n",
    "                    df_fl_daily.loc[county].iloc[0].values,\\\n",
    "                    label = county,\n",
    ")\n",
    "# Set xtick values.\n",
    "t = plt.xticks([col for col in df_fl_daily.columns[0:-1:30]])\n",
    "# Set graph descriptors/options.\n",
    "axis.tick_params(axis = \"x\", rotation = 45)\n",
    "axis.legend(loc = \"upper right\")\n",
    "axis.title.set_text(\"Daily Normalized to cases per 100,000\")\n",
    "t = axis.plot()"
   ]
  },
  {
   "cell_type": "markdown",
   "metadata": {},
   "source": [
    "### Ignoring errors from taking log"
   ]
  },
  {
   "cell_type": "code",
   "execution_count": 34,
   "metadata": {},
   "outputs": [],
   "source": [
    "import warnings\n",
    "warnings.simplefilter(\"ignore\")"
   ]
  },
  {
   "cell_type": "markdown",
   "metadata": {},
   "source": [
    "### County Daily Cases Normalized by population and log10 - cases per 100,000"
   ]
  },
  {
   "cell_type": "code",
   "execution_count": 35,
   "metadata": {},
   "outputs": [
    {
     "data": {
      "image/png": "[encoded data removed]",
      "text/plain": [
       "<Figure size 1440x360 with 1 Axes>"
      ]
     },
     "metadata": {
      "needs_background": "light"
     },
     "output_type": "display_data"
    }
   ],
   "source": [
    "df_fl_daily = state_daily_cases_log10(\"FL\")\n",
    "# Create subplot.\n",
    "figure, axis = plt.subplots(1, figsize = (20,5))\n",
    "# For each county.\n",
    "for county in df_25_median[-3:].index.values:\n",
    "    # Plot daily normalized/log10 cases.\n",
    "    t = axis.scatter(df_fl_daily.loc[county].iloc[0].index,\\\n",
    "                    df_fl_daily.loc[county].iloc[0].values,\\\n",
    "                    label = county)\n",
    "# Set xtick values.\n",
    "t = plt.xticks([col for col in df_fl_daily.columns[0:-1:30]])\n",
    "# Set graph descriptors/options.\n",
    "axis.tick_params(axis = \"x\", rotation = 45)\n",
    "axis.legend(loc = \"upper left\")\n",
    "axis.title.set_text(\"Daily Normalized to cases per 100,000 and log10\")\n",
    "t = axis.plot()"
   ]
  },
  {
   "cell_type": "code",
   "execution_count": null,
   "metadata": {},
   "outputs": [],
   "source": []
  },
  {
   "cell_type": "code",
   "execution_count": null,
   "metadata": {},
   "outputs": [],
   "source": []
  },
  {
   "cell_type": "markdown",
   "metadata": {},
   "source": [
    "# Deaths"
   ]
  },
  {
   "cell_type": "markdown",
   "metadata": {},
   "source": [
    "### Statewide Daily Deaths normalized by population - cases per 100,000"
   ]
  },
  {
   "cell_type": "code",
   "execution_count": 36,
   "metadata": {},
   "outputs": [],
   "source": [
    "df_fl_daily = state_daily_deaths_normalized(\"FL\")\n",
    "df_fl_agg = df_fl_daily.sum(axis = 0)"
   ]
  },
  {
   "cell_type": "code",
   "execution_count": 37,
   "metadata": {},
   "outputs": [
    {
     "data": {
      "image/png": "[encoded data removed]",
      "text/plain": [
       "<Figure size 720x360 with 1 Axes>"
      ]
     },
     "metadata": {
      "needs_background": "light"
     },
     "output_type": "display_data"
    }
   ],
   "source": [
    "# Create subplot.\n",
    "igure, axis = plt.subplots(1, figsize = (10,5))\n",
    "# Plot daily normalized deaths.\n",
    "axis.plot(df_fl_agg, label = \"Florida\")\n",
    "# Set xtick values.\n",
    "t = plt.xticks([col for col in df_fl_daily.columns[0:-1:30]])\n",
    "# Set graph descriptors/options.\n",
    "axis.tick_params(axis = \"x\", rotation = 45)\n",
    "axis.legend(loc = \"upper left\")\n",
    "axis.title.set_text(\"Daily Normalized to Deaths per 100,000\")\n",
    "plt.show()"
   ]
  },
  {
   "cell_type": "markdown",
   "metadata": {},
   "source": [
    "### Counties Daily Deaths Normalized by Population - cases per 100,000"
   ]
  },
  {
   "cell_type": "code",
   "execution_count": 38,
   "metadata": {},
   "outputs": [
    {
     "data": {
      "image/png": "[encoded data removed]",
      "text/plain": [
       "<Figure size 720x360 with 1 Axes>"
      ]
     },
     "metadata": {
      "needs_background": "light"
     },
     "output_type": "display_data"
    }
   ],
   "source": [
    "df_deaths_norm = state_daily_deaths_normalized(\"FL\")\n",
    "# Create subplot.\n",
    "figure, axis = plt.subplots(1, figsize = (10,5))\n",
    "# For each county.\n",
    "for county in df_25_median[-3:].index.values:\n",
    "    # Plot daily normalized deaths.\n",
    "    t = axis.scatter(df_deaths_norm.loc[county].iloc[0].index,\\\n",
    "                    df_deaths_norm.loc[county].iloc[0].values,\\\n",
    "                    label = county,\n",
    ")\n",
    "# Set xtick values.\n",
    "t = plt.xticks([col for col in df_deaths_norm.columns[0:-1:30]])\n",
    "# Set graph descriptors/options.\n",
    "axis.tick_params(axis = \"x\", rotation = 45)\n",
    "axis.legend(loc = \"upper left\")\n",
    "axis.title.set_text(\"Daily Normalized to Deaths per 100,000\")\n",
    "t = axis.plot()"
   ]
  },
  {
   "cell_type": "markdown",
   "metadata": {},
   "source": [
    "### County Daily Deaths Normalized by population and log10 - cases per 100,000"
   ]
  },
  {
   "cell_type": "code",
   "execution_count": 39,
   "metadata": {},
   "outputs": [
    {
     "data": {
      "image/png": "[encoded data removed]",
      "text/plain": [
       "<Figure size 1440x360 with 1 Axes>"
      ]
     },
     "metadata": {
      "needs_background": "light"
     },
     "output_type": "display_data"
    }
   ],
   "source": [
    "df_deaths_log = state_daily_deaths_log10(\"FL\")\n",
    "# Create subplot.\n",
    "figure, axis = plt.subplots(1, figsize = (20,5))\n",
    "# For each county.\n",
    "for county in df_25_median[-3:].index.values:\n",
    "    # Plot daily normalized/log10 deaths.\n",
    "    t = axis.scatter(df_deaths_log.loc[county].iloc[0].index,\\\n",
    "                    df_deaths_log.loc[county].iloc[0].values,\\\n",
    "                    label = county)\n",
    "# Set xtick values.\n",
    "t = plt.xticks([col for col in df_deaths_log.columns[0:-1:30]])\n",
    "# Set graph descriptors/options.\n",
    "axis.tick_params(axis = \"x\", rotation = 45)\n",
    "axis.legend(loc = \"upper left\")\n",
    "axis.title.set_text(\"Daily Normalized to Deaths per 100,000 and log10\")\n",
    "t = axis.plot()"
   ]
  },
  {
   "cell_type": "code",
   "execution_count": null,
   "metadata": {},
   "outputs": [],
   "source": []
  },
  {
   "cell_type": "code",
   "execution_count": null,
   "metadata": {},
   "outputs": [],
   "source": []
  }
 ],
 "metadata": {
  "kernelspec": {
   "display_name": "Python 3",
   "language": "python",
   "name": "python3"
  },
  "language_info": {
   "codemirror_mode": {
    "name": "ipython",
    "version": 3
   },
   "file_extension": ".py",
   "mimetype": "text/x-python",
   "name": "python",
   "nbconvert_exporter": "python",
   "pygments_lexer": "ipython3",
   "version": "3.8.6"
  }
 },
 "nbformat": 4,
 "nbformat_minor": 4
}
