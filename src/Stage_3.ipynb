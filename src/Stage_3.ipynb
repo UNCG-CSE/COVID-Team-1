{
 "cells": [
  {
   "cell_type": "code",
   "execution_count": 1,
   "metadata": {},
   "outputs": [],
   "source": [
    "import pandas as pd"
   ]
  },
  {
   "cell_type": "markdown",
   "metadata": {},
   "source": [
    "## Get data for total us population"
   ]
  },
  {
   "cell_type": "markdown",
   "metadata": {},
   "source": [
    "#### CASES"
   ]
  },
  {
   "cell_type": "code",
   "execution_count": 2,
   "metadata": {},
   "outputs": [],
   "source": [
    "normalization_factor = 5000000"
   ]
  },
  {
   "cell_type": "code",
   "execution_count": 3,
   "metadata": {},
   "outputs": [],
   "source": [
    "# GET TOTAL NEW CASES FOR US\n",
    "cases_full = pd.read_csv('../data/Covid/covid_confirmed_usafacts.csv')\n",
    "population = pd.read_csv('../data/Covid/covid_county_population_usafacts.csv')\n",
    "cases_only = cases_full.iloc[:,4:]\n",
    "cases_only = cases_only.sum() \n",
    "cases_only_new = cases_only.diff()[1:]\n",
    "cases_only_new = cases_only_new.astype('int')\n",
    "new_cases = cases_only_new\n",
    "\n",
    "# GET TOTAL US POPULATION\n",
    "population = population['population'].sum()\n",
    "\n",
    "# NORMALIZE\n",
    "#new_cases_normalized = new_cases_non.apply(lambda x: (x/population)*normalization_factor)"
   ]
  },
  {
   "cell_type": "markdown",
   "metadata": {},
   "source": [
    "#### DEATHS"
   ]
  },
  {
   "cell_type": "code",
   "execution_count": 4,
   "metadata": {},
   "outputs": [],
   "source": [
    "# GET TOTAL NEW CASES FOR US\n",
    "deaths_full = pd.read_csv('../data/Covid/covid_deaths_usafacts.csv')\n",
    "population = pd.read_csv('../data/Covid/covid_county_population_usafacts.csv')\n",
    "deaths_only = deaths_full.iloc[:,4:]\n",
    "deaths_only = deaths_only.sum() \n",
    "deaths_only_new = deaths_only.diff()[1:]\n",
    "deaths_only_new = deaths_only_new.astype('int')\n",
    "new_deaths = deaths_only_new\n",
    "\n",
    "# GET TOTAL US POPULATION\n",
    "population = population['population'].sum()\n",
    "\n",
    "# NORMALIZE\n",
    "#new_deaths_normalized = new_deaths_non.apply(lambda x: (x/population)*normalization_factor)"
   ]
  },
  {
   "cell_type": "markdown",
   "metadata": {},
   "source": [
    "## Develop Linear and Non-Linear (polynomial) regression models for predicting cases and deaths in US.\n",
    "- Start your data from the first day of infections in US. X-Axis, number of days since the first case, Y-Axis number of new cases and deaths.  \n",
    "- Aim to predict 1 week in advance. Use older data to validate your models. Use Root Mean Square Error (RMSE) to see the evaluation.  \n",
    "- Describe the trends as compared to other countries."
   ]
  },
  {
   "cell_type": "code",
   "execution_count": 5,
   "metadata": {},
   "outputs": [
    {
     "data": {
      "text/plain": [
       "1/23/20          0\n",
       "1/24/20          1\n",
       "1/25/20          0\n",
       "1/26/20          3\n",
       "1/27/20          1\n",
       "             ...  \n",
       "11/7/20     114596\n",
       "11/8/20     105055\n",
       "11/9/20     128470\n",
       "11/10/20    139094\n",
       "11/11/20    151499\n",
       "Length: 294, dtype: int32"
      ]
     },
     "metadata": {},
     "output_type": "display_data"
    },
    {
     "data": {
      "text/plain": [
       "1/23/20        0\n",
       "1/24/20        0\n",
       "1/25/20        0\n",
       "1/26/20        0\n",
       "1/27/20        0\n",
       "            ... \n",
       "11/7/20      904\n",
       "11/8/20      438\n",
       "11/9/20      911\n",
       "11/10/20    1296\n",
       "11/11/20    1457\n",
       "Length: 294, dtype: int32"
      ]
     },
     "metadata": {},
     "output_type": "display_data"
    }
   ],
   "source": [
    "display(new_cases)\n",
    "display(new_deaths)"
   ]
  }
 ],
 "metadata": {
  "kernelspec": {
   "display_name": "Python 3",
   "language": "python",
   "name": "python3"
  },
  "language_info": {
   "codemirror_mode": {
    "name": "ipython",
    "version": 3
   },
   "file_extension": ".py",
   "mimetype": "text/x-python",
   "name": "python",
   "nbconvert_exporter": "python",
   "pygments_lexer": "ipython3",
   "version": "3.7.4"
  }
 },
 "nbformat": 4,
 "nbformat_minor": 2
}
