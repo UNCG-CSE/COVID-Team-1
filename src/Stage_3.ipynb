{
 "cells": [
  {
   "cell_type": "code",
   "execution_count": 1,
   "metadata": {},
   "outputs": [],
   "source": [
    "import pandas as pd\n",
    "import numpy as np\n",
    "import matplotlib.pyplot as plt\n",
    "from sklearn.linear_model import LinearRegression\n",
    "from sklearn.metrics import r2_score\n",
    "\n",
    "%matplotlib inline"
   ]
  },
  {
   "cell_type": "markdown",
   "metadata": {},
   "source": [
    "## Get data for total us population"
   ]
  },
  {
   "cell_type": "markdown",
   "metadata": {},
   "source": [
    "#### CASES"
   ]
  },
  {
   "cell_type": "code",
   "execution_count": 2,
   "metadata": {},
   "outputs": [],
   "source": [
    "normalization_factor = 5000000"
   ]
  },
  {
   "cell_type": "code",
   "execution_count": 3,
   "metadata": {},
   "outputs": [],
   "source": [
    "# GET TOTAL NEW CASES FOR US\n",
    "cases_full = pd.read_csv('../data/Covid/covid_confirmed_usafacts.csv')\n",
    "population = pd.read_csv('../data/Covid/covid_county_population_usafacts.csv')\n",
    "cases_only = cases_full.iloc[:,4:]\n",
    "cases_only = cases_only.sum() \n",
    "cases_only_new = cases_only.diff()[1:]\n",
    "cases_only_new = cases_only_new.astype('int')\n",
    "new_cases = cases_only_new\n",
    "\n",
    "# GET TOTAL US POPULATION\n",
    "population = population['population'].sum()\n",
    "\n",
    "# NORMALIZE\n",
    "#new_cases_normalized = new_cases_non.apply(lambda x: (x/population)*normalization_factor)"
   ]
  },
  {
   "cell_type": "markdown",
   "metadata": {},
   "source": [
    "#### DEATHS"
   ]
  },
  {
   "cell_type": "code",
   "execution_count": 4,
   "metadata": {},
   "outputs": [],
   "source": [
    "# GET TOTAL NEW CASES FOR US\n",
    "deaths_full = pd.read_csv('../data/Covid/covid_deaths_usafacts.csv')\n",
    "population = pd.read_csv('../data/Covid/covid_county_population_usafacts.csv')\n",
    "deaths_only = deaths_full.iloc[:,4:]\n",
    "deaths_only = deaths_only.sum() \n",
    "deaths_only_new = deaths_only.diff()[1:]\n",
    "deaths_only_new = deaths_only_new.astype('int')\n",
    "new_deaths = deaths_only_new\n",
    "\n",
    "# GET TOTAL US POPULATION\n",
    "population = population['population'].sum()\n",
    "\n",
    "# NORMALIZE\n",
    "#new_deaths_normalized = new_deaths_non.apply(lambda x: (x/population)*normalization_factor)"
   ]
  },
  {
   "cell_type": "markdown",
   "metadata": {},
   "source": [
    "## Develop Linear and Non-Linear (polynomial) regression models for predicting cases and deaths in US.\n",
    "- Start your data from the first day of infections in US. X-Axis, number of days since the first case, Y-Axis number of new cases and deaths.  \n",
    "- Aim to predict 1 week in advance. Use older data to validate your models. Use Root Mean Square Error (RMSE) to see the evaluation.  \n",
    "- Describe the trends as compared to other countries."
   ]
  },
  {
   "cell_type": "code",
   "execution_count": 5,
   "metadata": {},
   "outputs": [],
   "source": [
    "days_since_first_case = []\n",
    "i = 0\n",
    "for x in new_cases.index:\n",
    "    days_since_first_case += [i]\n",
    "    i+=1"
   ]
  },
  {
   "cell_type": "markdown",
   "metadata": {},
   "source": [
    "### Cases"
   ]
  },
  {
   "cell_type": "code",
   "execution_count": 6,
   "metadata": {},
   "outputs": [],
   "source": [
    "arr = np.asarray(days_since_first_case)\n",
    "reshaped_days_since_first = arr.reshape(-1,1)\n",
    "X = reshaped_days_since_first\n",
    "Y = new_cases.values.reshape(-1, 1)"
   ]
  },
  {
   "cell_type": "code",
   "execution_count": 7,
   "metadata": {},
   "outputs": [
    {
     "data": {
      "text/plain": [
       "LinearRegression(copy_X=True, fit_intercept=True, n_jobs=None, normalize=False)"
      ]
     },
     "execution_count": 7,
     "metadata": {},
     "output_type": "execute_result"
    }
   ],
   "source": [
    "regressor = LinearRegression()\n",
    "regressor.fit(X,Y)"
   ]
  },
  {
   "cell_type": "code",
   "execution_count": 8,
   "metadata": {},
   "outputs": [],
   "source": [
    "y_pred = regressor.predict(X)"
   ]
  },
  {
   "cell_type": "code",
   "execution_count": 9,
   "metadata": {},
   "outputs": [
    {
     "name": "stdout",
     "output_type": "stream",
     "text": [
      "[[264.62460006]]\n",
      "[-3757.55152773]\n"
     ]
    }
   ],
   "source": [
    "print(regressor.coef_)\n",
    "print(regressor.intercept_)"
   ]
  },
  {
   "cell_type": "code",
   "execution_count": 10,
   "metadata": {},
   "outputs": [
    {
     "data": {
      "image/png": "[encoded data removed]",
      "text/plain": [
       "<Figure size 432x288 with 1 Axes>"
      ]
     },
     "metadata": {
      "needs_background": "light"
     },
     "output_type": "display_data"
    }
   ],
   "source": [
    "plt.scatter(X,Y,color = 'red')\n",
    "plt.plot(X,y_pred,color = 'blue')\n",
    "plt.title('Linear Regression for Covid Cases Over Time')\n",
    "plt.xlabel('X')\n",
    "plt.ylabel('Y')\n",
    "plt.show()"
   ]
  },
  {
   "cell_type": "code",
   "execution_count": 11,
   "metadata": {},
   "outputs": [
    {
     "data": {
      "text/plain": [
       "0.6837666766438104"
      ]
     },
     "execution_count": 11,
     "metadata": {},
     "output_type": "execute_result"
    }
   ],
   "source": [
    "r2_score(Y,y_pred)"
   ]
  },
  {
   "cell_type": "markdown",
   "metadata": {},
   "source": [
    "### Deaths"
   ]
  },
  {
   "cell_type": "code",
   "execution_count": 12,
   "metadata": {},
   "outputs": [],
   "source": [
    "X = reshaped_days_since_first\n",
    "Y = new_deaths.values.reshape(-1, 1)"
   ]
  },
  {
   "cell_type": "code",
   "execution_count": 13,
   "metadata": {},
   "outputs": [
    {
     "data": {
      "text/plain": [
       "LinearRegression(copy_X=True, fit_intercept=True, n_jobs=None, normalize=False)"
      ]
     },
     "execution_count": 13,
     "metadata": {},
     "output_type": "execute_result"
    }
   ],
   "source": [
    "regressor_d = LinearRegression()\n",
    "regressor_d.fit(X,Y)"
   ]
  },
  {
   "cell_type": "code",
   "execution_count": 14,
   "metadata": {},
   "outputs": [],
   "source": [
    "y_pred_d = regressor_d.predict(X)"
   ]
  },
  {
   "cell_type": "code",
   "execution_count": 15,
   "metadata": {},
   "outputs": [
    {
     "name": "stdout",
     "output_type": "stream",
     "text": [
      "[[1.65436691]]\n",
      "[570.01279834]\n"
     ]
    }
   ],
   "source": [
    "print(regressor_d.coef_)\n",
    "print(regressor_d.intercept_)"
   ]
  },
  {
   "cell_type": "code",
   "execution_count": 16,
   "metadata": {},
   "outputs": [
    {
     "data": {
      "image/png": "[encoded data removed]",
      "text/plain": [
       "<Figure size 432x288 with 1 Axes>"
      ]
     },
     "metadata": {
      "needs_background": "light"
     },
     "output_type": "display_data"
    }
   ],
   "source": [
    "plt.scatter(X,Y,color = 'red')\n",
    "plt.plot(X,y_pred_d,color = 'blue')\n",
    "plt.title('Linear Regression for Covid Deaths Over Time')\n",
    "plt.xlabel('X')\n",
    "plt.ylabel('Y')\n",
    "plt.show()"
   ]
  },
  {
   "cell_type": "code",
   "execution_count": 17,
   "metadata": {},
   "outputs": [
    {
     "data": {
      "text/plain": [
       "0.04638834852292917"
      ]
     },
     "execution_count": 17,
     "metadata": {},
     "output_type": "execute_result"
    }
   ],
   "source": [
    "r2_score(Y,y_pred_d)"
   ]
  }
 ],
 "metadata": {
  "kernelspec": {
   "display_name": "Python 3",
   "language": "python",
   "name": "python3"
  },
  "language_info": {
   "codemirror_mode": {
    "name": "ipython",
    "version": 3
   },
   "file_extension": ".py",
   "mimetype": "text/x-python",
   "name": "python",
   "nbconvert_exporter": "python",
   "pygments_lexer": "ipython3",
   "version": "3.7.4"
  }
 },
 "nbformat": 4,
 "nbformat_minor": 2
}
