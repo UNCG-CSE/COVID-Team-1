{
 "cells": [
  {
   "cell_type": "code",
   "execution_count": null,
   "metadata": {},
   "outputs": [],
   "source": [
    "import pandas as pd\n",
    "\n",
    "# Primary data paths.\n",
    "_covid_cases_path = \"../data/Covid/covid_confirmed_usafacts.csv\"\n",
    "_covid_population_path = \"../data/Covid/covid_county_population_usafacts.csv\"\n",
    "_covid_death_path = \"../data/Covid/covid_deaths_usafacts.csv\"\n",
    "_covid_primary_data_path = \"../data/Covid/covid_primary_data.csv\"\n",
    "\n",
    "# Extension data paths.\n",
    "_county_employment_path = \"../data/Employment/county-ests-employment-and-wages.csv\"\n",
    "_county_hospital_path = \"../data/Hospitals/Definitive_Healthcare _USA_Hospital_Beds.csv\""
   ]
  },
  {
   "cell_type": "code",
   "execution_count": null,
   "metadata": {},
   "outputs": [],
   "source": [
    "def get_covid_by_cases():\n",
    "    df_cases = pd.read_csv(_covid_cases_path)\n",
    "    df_cases = df_cases.add_prefix(\"cases - \")\n",
    "    df_cases.rename(columns = {\"cases - countyFIPS\": \"countyFIPS\", \\\n",
    "                               \"cases - County Name\": \"County Name\", \\\n",
    "                               \"cases - State\": \"State\", \\\n",
    "                               \"cases - stateFIPS\": \"stateFIPS\"}, inplace = True)\n",
    "    return df_cases\n",
    "\n",
    "def get_covid_by_deaths():\n",
    "    df_deaths = pd.read_csv(_covid_death_path)\n",
    "    df_deaths = df_deaths.add_prefix(\"deaths - \")\n",
    "    df_deaths.rename(columns = {\"deaths - countyFIPS\": \"countyFIPS\", \\\n",
    "                                \"deaths - County Name\": \"County Name\", \\\n",
    "                                \"deaths - State\": \"State\", \\\n",
    "                                \"deaths - stateFIPS\": \"stateFIPS\"}, inplace = True)\n",
    "    return df_deaths"
   ]
  },
  {
   "cell_type": "code",
   "execution_count": null,
   "metadata": {},
   "outputs": [],
   "source": [
    "def get_covid_by_population():\n",
    "    return pd.read_csv(_covid_population_path)"
   ]
  },
  {
   "cell_type": "code",
   "execution_count": null,
   "metadata": {},
   "outputs": [],
   "source": [
    "def get_covid_primary_data():\n",
    "    try:\n",
    "        return pd.read_csv(_covid_primary_data_path)\n",
    "    except:\n",
    "        covid_primary_data_to_csv()\n",
    "        return pd.read_csv(_covid_primary_data_path)"
   ]
  },
  {
   "cell_type": "code",
   "execution_count": null,
   "metadata": {},
   "outputs": [],
   "source": [
    "def get_county_employment():\n",
    "    return pd.read_csv(_county_employment_path)\n",
    "\n",
    "def get_county_hospital():\n",
    "    return pd.read_csv(_county_hospital_path)"
   ]
  }
 ],
 "metadata": {
  "kernelspec": {
   "display_name": "Python 3",
   "language": "python",
   "name": "python3"
  },
  "language_info": {
   "codemirror_mode": {
    "name": "ipython",
    "version": 3
   },
   "file_extension": ".py",
   "mimetype": "text/x-python",
   "name": "python",
   "nbconvert_exporter": "python",
   "pygments_lexer": "ipython3",
   "version": "3.7.4"
  }
 },
 "nbformat": 4,
 "nbformat_minor": 2
}
