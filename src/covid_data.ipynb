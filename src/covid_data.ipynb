{
 "cells": [
  {
   "cell_type": "markdown",
   "metadata": {},
   "source": [
    "# COVID-Team-1\n",
    "### CSC 405 01\n",
    "### Last Updated: 10/13/2020\n"
   ]
  },
  {
   "cell_type": "markdown",
   "metadata": {},
   "source": [
    "### Module Imports"
   ]
  },
  {
   "cell_type": "code",
   "execution_count": null,
   "metadata": {},
   "outputs": [],
   "source": [
    "import pandas as pd"
   ]
  },
  {
   "cell_type": "markdown",
   "metadata": {},
   "source": [
    "### Module's Docstring"
   ]
  },
  {
   "cell_type": "code",
   "execution_count": null,
   "metadata": {},
   "outputs": [],
   "source": [
    "\"\"\"Gives streamlined access to data paths and dataframes regarding Covid data.\"\"\""
   ]
  },
  {
   "cell_type": "markdown",
   "metadata": {},
   "source": [
    "### Data paths"
   ]
  },
  {
   "cell_type": "code",
   "execution_count": null,
   "metadata": {},
   "outputs": [],
   "source": [
    "# Primary data paths.\n",
    "_covid_cases_path = \"../data/Covid/covid_confirmed_usafacts.csv\"\n",
    "_covid_population_path = \"../data/Covid/covid_county_population_usafacts.csv\"\n",
    "_covid_death_path = \"../data/Covid/covid_deaths_usafacts.csv\"\n",
    "_covid_primary_data_path = \"../data/Covid/covid_primary_data.csv\"\n",
    "\n",
    "# Extension data paths.\n",
    "_county_employment_path = \"../data/Employment/county-ests-employment-and-wages.csv\"\n",
    "_county_hospital_path = \"../data/Hospitals/Definitive_Healthcare _USA_Hospital_Beds.csv\"\n",
    "_housing_demographics_path = \"../data/Housing/ACSDP1Y2018.DP05_data_with_overlays_2020-09-03T141858.csv\"\n",
    "_housing_demographics_and_primary_merged = \"../data/Housing/housing_demographics_primary_data.csv\"\n",
    "\n",
    "# Daily changes data paths.\n",
    "_covid_daily_cases_path = \"../data/Daily/covid_daily_cases.csv\"\n",
    "_covid_daily_deaths_path = \"../data/Daily/covid_daily_deaths.csv\"\n",
    "# Enumerations\n",
    "_cases = 0\n",
    "_deaths = 1"
   ]
  },
  {
   "cell_type": "markdown",
   "metadata": {},
   "source": [
    "### Getters for Unmerged Data"
   ]
  },
  {
   "cell_type": "code",
   "execution_count": null,
   "metadata": {},
   "outputs": [],
   "source": [
    "# Reads in the cases data and adds the prefix \"cases -\" to ensure date attributes are distinct for merging.\n",
    "def get_covid_by_cases():\n",
    "    \"\"\"Returns dataframe containing data on Covid cases.\"\"\"\n",
    "    df_cases = pd.read_csv(_covid_cases_path)\n",
    "    df_cases = df_cases.add_prefix(\"cases - \")\n",
    "    df_cases.rename(columns = {\"cases - countyFIPS\": \"countyFIPS\", \\\n",
    "                               \"cases - County Name\": \"County Name\", \\\n",
    "                               \"cases - State\": \"State\", \\\n",
    "                               \"cases - stateFIPS\": \"stateFIPS\"}, \\\n",
    "                    inplace = True,\n",
    "                   )\n",
    "    return df_cases\n",
    "\n",
    "# Reads in the deaths data and adds the prefix \"deaths -\" to ensure date attributes are distinct for merging.\n",
    "def get_covid_by_deaths():\n",
    "    \"\"\"Returns dataframe containing data on Covid deaths.\"\"\"\n",
    "    df_deaths = pd.read_csv(_covid_death_path)\n",
    "    df_deaths = df_deaths.add_prefix(\"deaths - \")\n",
    "    df_deaths.rename(columns = {\"deaths - countyFIPS\": \"countyFIPS\", \\\n",
    "                                \"deaths - County Name\": \"County Name\", \\\n",
    "                                \"deaths - State\": \"State\", \\\n",
    "                                \"deaths - stateFIPS\": \"stateFIPS\"}, \\\n",
    "                     inplace = True,\n",
    "                    )\n",
    "    return df_deaths\n",
    "\n",
    "def get_county_population():\n",
    "    \"\"\"Returns dataframe containing data on population.\"\"\"\n",
    "    return pd.read_csv(_covid_population_path)\n",
    "\n",
    "def get_county_employment():\n",
    "    \"\"\"Returns dataframe containing data on employment and wages.\"\"\"\n",
    "    return pd.read_csv(_county_employment_path)\n",
    "\n",
    "def get_county_hospital():\n",
    "    \"\"\"Returns dataframe containing data on hopsital statistics.\"\"\"\n",
    "    return pd.read_csv(_county_hospital_path)"
   ]
  },
  {
   "cell_type": "markdown",
   "metadata": {},
   "source": [
    "### Getter for Merged Data"
   ]
  },
  {
   "cell_type": "code",
   "execution_count": null,
   "metadata": {},
   "outputs": [],
   "source": [
    "# Checks for file existence and returns, or creates file and returns.\n",
    "def get_covid_primary_data():\n",
    "    \"\"\"Returns dataframe containing the primary Covid data (cases, population, death).\"\"\"\n",
    "    try:\n",
    "        return pd.read_csv(_covid_primary_data_path)\n",
    "    except:\n",
    "        covid_primary_data_to_csv()\n",
    "        return pd.read_csv(_covid_primary_data_path)"
   ]
  },
  {
   "cell_type": "markdown",
   "metadata": {},
   "source": [
    "### Getter for Daily Cases/Deaths"
   ]
  },
  {
   "cell_type": "code",
   "execution_count": null,
   "metadata": {},
   "outputs": [],
   "source": [
    "# Checks for file existence and returns, or creates file and returns.\n",
    "def get_covid_daily_cases():\n",
    "    \"\"\"Returns dataframe containing the daily cases data.\"\"\"\n",
    "    try:\n",
    "        return pd.read_csv(_covid_daily_cases_path, index_col=[0])\n",
    "    except:\n",
    "        covid_daily_to_csv(_cases)\n",
    "        return pd.read_csv(_covid_daily_cases_path, index_col=[0])\n",
    "    \n",
    "# Checks for file existence and returns, or creates file and returns.\n",
    "def get_covid_daily_deaths():\n",
    "    \"\"\"Returns dataframe containing the daily deaths data.\"\"\"\n",
    "    try:\n",
    "        return pd.read_csv(_covid_daily_deaths_path, index_col=[0])\n",
    "    except:\n",
    "        covid_daily_to_csv(_deaths)\n",
    "        return pd.read_csv(_covid_daily_deaths_path, index_col=[0])"
   ]
  },
  {
   "cell_type": "markdown",
   "metadata": {},
   "source": [
    "### Merged Data to CSV"
   ]
  },
  {
   "cell_type": "code",
   "execution_count": null,
   "metadata": {},
   "outputs": [],
   "source": [
    "# Removes all countyFIPS values of 0, these values are not specific to any county.\n",
    "def covid_primary_data_to_csv():\n",
    "    \"\"\"Merges the primary Covid data (cases, population, death) and outputs it to csv file.\"\"\"\n",
    "    df_covid_deaths = get_covid_by_deaths()\n",
    "    df_county_population = get_county_population()\n",
    "    # Removing all similar columns from the second and third dataframes to prevent column duplication.\n",
    "    df_covid_deaths.drop([\"County Name\", \"State\", \"stateFIPS\"], axis = 1, inplace = True)\n",
    "    df_county_population.drop([\"County Name\", \"State\"], axis = 1, inplace = True)\n",
    "    first_merge = pd.merge(get_covid_by_cases(), \\\n",
    "                           df_covid_deaths, \\\n",
    "                           how = \"inner\", \\\n",
    "                           on = \"countyFIPS\", \\\n",
    "                          )\n",
    "    second_merge = pd.merge(first_merge, \\\n",
    "                            df_county_population, \\\n",
    "                            how = \"inner\",\n",
    "                            on = \"countyFIPS\",\n",
    "                           )\n",
    "    second_merge = second_merge[second_merge.countyFIPS != 0]\n",
    "    second_merge.to_csv(_covid_primary_data_path, index=False)"
   ]
  },
  {
   "cell_type": "markdown",
   "metadata": {},
   "source": [
    "### Daily Cases/Deaths To CSV"
   ]
  },
  {
   "cell_type": "code",
   "execution_count": null,
   "metadata": {},
   "outputs": [],
   "source": [
    "# Must use covid_data.cases or covid_data.deaths enumerated values with this method.\n",
    "def covid_daily_to_csv(_daily_type):\n",
    "    # Sets the correct value for daily type.\n",
    "    if _daily_type == 0:\n",
    "        daily_type = \"cases\"\n",
    "        data_path = _covid_daily_cases_path\n",
    "    elif _daily_type == 1:\n",
    "        daily_type = \"deaths\"\n",
    "        data_path = _covid_daily_deaths_path\n",
    "    else:\n",
    "        return\n",
    "    # Get primary data and group by state.\n",
    "    df_primary = get_covid_primary_data()\n",
    "    df_primary_states = df_primary.groupby(\"State\")\n",
    "    # Create new dataframe with states as indexes and columns from primary data that match type.\n",
    "    df_state_new_daily= pd.DataFrame(index = [state[0] for state in df_primary_states.State.unique()],\\\n",
    "                                columns = [df_primary.filter(regex = daily_type).columns])\n",
    "    # Getting the number of columns, i.e. days.\n",
    "    number_days = len(df_primary_states.first().filter(regex = daily_type).columns)\n",
    "    # Loop from the last column to the second column and subtract the prior days total.\n",
    "    for cur_column in range(number_days - 1, 0, -1):\n",
    "        for state in df_primary_states:\n",
    "            df_state_new_daily.loc[state[0]].iloc[cur_column] =\\\n",
    "                state[1].filter(regex = daily_type).iloc[:, cur_column].sum()\\\n",
    "                - (state[1].filter(regex = daily_type).iloc[:, cur_column - 1].sum())\n",
    "    # Transferring the first data column from each state to the first of our daily stats.\n",
    "    for state in df_primary_states:\n",
    "        df_state_new_daily.loc[state[0]].iloc[0] =\\\n",
    "            state[1].filter(regex = daily_type).iloc[:, 0].sum()\n",
    "    # Export data.\n",
    "    df_state_new_daily.to_csv(data_path)"
   ]
  }
 ],
 "metadata": {
  "kernelspec": {
   "display_name": "Python 3",
   "language": "python",
   "name": "python3"
  },
  "language_info": {
   "codemirror_mode": {
    "name": "ipython",
    "version": 3
   },
   "file_extension": ".py",
   "mimetype": "text/x-python",
   "name": "python",
   "nbconvert_exporter": "python",
   "pygments_lexer": "ipython3",
   "version": "3.8.5"
  }
 },
 "nbformat": 4,
 "nbformat_minor": 2
}
