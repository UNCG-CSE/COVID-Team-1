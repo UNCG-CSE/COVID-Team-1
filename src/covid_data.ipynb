{
 "cells": [
  {
   "cell_type": "markdown",
   "metadata": {},
   "source": [
    "# COVID-Team-1\n",
    "### CSC 405 01\n",
    "### Last Updated: 09/19/2020\n"
   ]
  },
  {
   "cell_type": "markdown",
   "metadata": {},
   "source": [
    "### Module Imports"
   ]
  },
  {
   "cell_type": "code",
   "execution_count": null,
   "metadata": {},
   "outputs": [],
   "source": [
    "import pandas as pd"
   ]
  },
  {
   "cell_type": "markdown",
   "metadata": {},
   "source": [
    "### Module's Docstring"
   ]
  },
  {
   "cell_type": "code",
   "execution_count": null,
   "metadata": {},
   "outputs": [],
   "source": [
    "\"\"\"Gives streamlined access to data paths and dataframes regarding Covid data.\"\"\""
   ]
  },
  {
   "cell_type": "markdown",
   "metadata": {},
   "source": [
    "### Data paths"
   ]
  },
  {
   "cell_type": "code",
   "execution_count": null,
   "metadata": {},
   "outputs": [],
   "source": [
    "# Primary data paths.\n",
    "_covid_cases_path = \"../data/Covid/covid_confirmed_usafacts.csv\"\n",
    "_covid_population_path = \"../data/Covid/covid_county_population_usafacts.csv\"\n",
    "_covid_death_path = \"../data/Covid/covid_deaths_usafacts.csv\"\n",
    "_covid_primary_data_path = \"../data/Covid/covid_primary_data.csv\"\n",
    "\n",
    "# Extension data paths.\n",
    "_county_employment_path = \"../data/Employment/county-ests-employment-and-wages.csv\"\n",
    "_county_hospital_path = \"../data/Hospitals/Definitive_Healthcare _USA_Hospital_Beds.csv\"\n",
    "_housing_demographics_path = \"../data/Housing/ACSDP1Y2018.DP05_data_with_overlays_2020-09-03T141858.csv\""
   ]
  },
  {
   "cell_type": "markdown",
   "metadata": {},
   "source": [
    "### Getters for Unmerged Data"
   ]
  },
  {
   "cell_type": "code",
   "execution_count": null,
   "metadata": {},
   "outputs": [],
   "source": [
    "# Reads in the cases data and adds the prefix \"cases -\" to ensure date attributes are distinct for merging.\n",
    "def get_covid_by_cases():\n",
    "    \"\"\"Returns dataframe containing data on Covid cases.\"\"\"\n",
    "    df_cases = pd.read_csv(_covid_cases_path)\n",
    "    df_cases = df_cases.add_prefix(\"cases - \")\n",
    "    df_cases.rename(columns = {\"cases - countyFIPS\": \"countyFIPS\", \\\n",
    "                               \"cases - County Name\": \"County Name\", \\\n",
    "                               \"cases - State\": \"State\", \\\n",
    "                               \"cases - stateFIPS\": \"stateFIPS\"}, \\\n",
    "                    inplace = True,\n",
    "                   )\n",
    "    return df_cases\n",
    "\n",
    "# Reads in the deaths data and adds the prefix \"deaths -\" to ensure date attributes are distinct for merging.\n",
    "def get_covid_by_deaths():\n",
    "    \"\"\"Returns dataframe containing data on Covid deaths.\"\"\"\n",
    "    df_deaths = pd.read_csv(_covid_death_path)\n",
    "    df_deaths = df_deaths.add_prefix(\"deaths - \")\n",
    "    df_deaths.rename(columns = {\"deaths - countyFIPS\": \"countyFIPS\", \\\n",
    "                                \"deaths - County Name\": \"County Name\", \\\n",
    "                                \"deaths - State\": \"State\", \\\n",
    "                                \"deaths - stateFIPS\": \"stateFIPS\"}, \\\n",
    "                     inplace = True,\n",
    "                    )\n",
    "    return df_deaths\n",
    "\n",
    "def get_county_population():\n",
    "    \"\"\"Returns dataframe containing data on population.\"\"\"\n",
    "    return pd.read_csv(_covid_population_path)\n",
    "\n",
    "def get_county_employment():\n",
    "    \"\"\"Returns dataframe containing data on employment and wages.\"\"\"\n",
    "    return pd.read_csv(_county_employment_path)\n",
    "\n",
    "def get_county_hospital():\n",
    "    \"\"\"Returns dataframe containing data on hopsital statistics.\"\"\"\n",
    "    return pd.read_csv(_county_hospital_path)"
   ]
  },
  {
   "cell_type": "markdown",
   "metadata": {},
   "source": [
    "### Getter for Merged Data"
   ]
  },
  {
   "cell_type": "code",
   "execution_count": null,
   "metadata": {},
   "outputs": [],
   "source": [
    "# Checks for file existence and returns, or creates file and returns.\n",
    "def get_covid_primary_data():\n",
    "    \"\"\"Returns dataframe containing the primary Covid data (cases, population, death).\"\"\"\n",
    "    try:\n",
    "        return pd.read_csv(_covid_primary_data_path)\n",
    "    except:\n",
    "        covid_primary_data_to_csv()\n",
    "        return pd.read_csv(_covid_primary_data_path)"
   ]
  },
  {
   "cell_type": "markdown",
   "metadata": {},
   "source": [
    "### Merged Data to CSV"
   ]
  },
  {
   "cell_type": "code",
   "execution_count": null,
   "metadata": {},
   "outputs": [],
   "source": [
    "# Removes all countyFIPS values of 0, these values are not specific to any county.\n",
    "def covid_primary_data_to_csv():\n",
    "    \"\"\"Merges the primary Covid data (cases, population, death) and outputs it to csv file.\"\"\"\n",
    "    first_merge = pd.merge(get_covid_by_cases(), \\\n",
    "                           get_covid_by_deaths(), \\\n",
    "                           how = \"inner\", \\\n",
    "                           on = \"countyFIPS\", \\\n",
    "                          )\n",
    "\n",
    "    second_merge = pd.merge(first_merge, \\\n",
    "                            get_county_population(), \\\n",
    "                            how = \"inner\",\n",
    "                            on = \"countyFIPS\",\n",
    "                           )\n",
    "    second_merge = second_merge[second_merge.countyFIPS != 0]\n",
    "    second_merge.to_csv(_covid_primary_data_path, index=False)"
   ]
  }
 ],
 "metadata": {
  "kernelspec": {
   "display_name": "Python 3",
   "language": "python",
   "name": "python3"
  },
  "language_info": {
   "codemirror_mode": {
    "name": "ipython",
    "version": 3
   },
   "file_extension": ".py",
   "mimetype": "text/x-python",
   "name": "python",
   "nbconvert_exporter": "python",
   "pygments_lexer": "ipython3",
   "version": "3.7.4"
  }
 },
 "nbformat": 4,
 "nbformat_minor": 2
}
